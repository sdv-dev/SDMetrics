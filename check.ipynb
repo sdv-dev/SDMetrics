{
 "cells": [
  {
   "cell_type": "code",
   "execution_count": 3,
   "metadata": {},
   "outputs": [
    {
     "data": {
      "application/vnd.plotly.v1+json": {
       "config": {
        "plotlyServerURL": "https://plot.ly"
       },
       "data": [
        {
         "alignmentgroup": "True",
         "bingroup": "x",
         "histfunc": "sum",
         "histnorm": "probability density",
         "hovertemplate": "<b>Real</b><br>Frequency: %{y}<extra></extra>",
         "legendgroup": "Real",
         "marker": {
          "color": "#000036",
          "pattern": {
           "shape": ""
          }
         },
         "name": "Real",
         "nbinsx": 3,
         "offsetgroup": "Real",
         "orientation": "v",
         "showlegend": true,
         "type": "histogram",
         "x": [
          0,
          1,
          2
         ],
         "xaxis": "x",
         "y": [
          3,
          4,
          3
         ],
         "yaxis": "y"
        },
        {
         "alignmentgroup": "True",
         "bingroup": "x",
         "histfunc": "sum",
         "histnorm": "probability density",
         "hovertemplate": "<b>Synthetic</b><br>Frequency: %{y}<extra></extra>",
         "legendgroup": "Synthetic",
         "marker": {
          "color": "#01E0C9",
          "pattern": {
           "shape": "/"
          }
         },
         "name": "Synthetic",
         "nbinsx": 3,
         "offsetgroup": "Synthetic",
         "orientation": "v",
         "showlegend": true,
         "type": "histogram",
         "x": [
          1,
          2
         ],
         "xaxis": "x",
         "y": [
          8,
          1
         ],
         "yaxis": "y"
        }
       ],
       "layout": {
        "barmode": "group",
        "legend": {
         "title": {
          "text": "data"
         },
         "tracegroupgap": 0
        },
        "margin": {
         "t": 60
        },
        "plot_bgcolor": "#F5F5F8",
        "template": {
         "data": {
          "bar": [
           {
            "error_x": {
             "color": "#2a3f5f"
            },
            "error_y": {
             "color": "#2a3f5f"
            },
            "marker": {
             "line": {
              "color": "#E5ECF6",
              "width": 0.5
             },
             "pattern": {
              "fillmode": "overlay",
              "size": 10,
              "solidity": 0.2
             }
            },
            "type": "bar"
           }
          ],
          "barpolar": [
           {
            "marker": {
             "line": {
              "color": "#E5ECF6",
              "width": 0.5
             },
             "pattern": {
              "fillmode": "overlay",
              "size": 10,
              "solidity": 0.2
             }
            },
            "type": "barpolar"
           }
          ],
          "carpet": [
           {
            "aaxis": {
             "endlinecolor": "#2a3f5f",
             "gridcolor": "white",
             "linecolor": "white",
             "minorgridcolor": "white",
             "startlinecolor": "#2a3f5f"
            },
            "baxis": {
             "endlinecolor": "#2a3f5f",
             "gridcolor": "white",
             "linecolor": "white",
             "minorgridcolor": "white",
             "startlinecolor": "#2a3f5f"
            },
            "type": "carpet"
           }
          ],
          "choropleth": [
           {
            "colorbar": {
             "outlinewidth": 0,
             "ticks": ""
            },
            "type": "choropleth"
           }
          ],
          "contour": [
           {
            "colorbar": {
             "outlinewidth": 0,
             "ticks": ""
            },
            "colorscale": [
             [
              0,
              "#0d0887"
             ],
             [
              0.1111111111111111,
              "#46039f"
             ],
             [
              0.2222222222222222,
              "#7201a8"
             ],
             [
              0.3333333333333333,
              "#9c179e"
             ],
             [
              0.4444444444444444,
              "#bd3786"
             ],
             [
              0.5555555555555556,
              "#d8576b"
             ],
             [
              0.6666666666666666,
              "#ed7953"
             ],
             [
              0.7777777777777778,
              "#fb9f3a"
             ],
             [
              0.8888888888888888,
              "#fdca26"
             ],
             [
              1,
              "#f0f921"
             ]
            ],
            "type": "contour"
           }
          ],
          "contourcarpet": [
           {
            "colorbar": {
             "outlinewidth": 0,
             "ticks": ""
            },
            "type": "contourcarpet"
           }
          ],
          "heatmap": [
           {
            "colorbar": {
             "outlinewidth": 0,
             "ticks": ""
            },
            "colorscale": [
             [
              0,
              "#0d0887"
             ],
             [
              0.1111111111111111,
              "#46039f"
             ],
             [
              0.2222222222222222,
              "#7201a8"
             ],
             [
              0.3333333333333333,
              "#9c179e"
             ],
             [
              0.4444444444444444,
              "#bd3786"
             ],
             [
              0.5555555555555556,
              "#d8576b"
             ],
             [
              0.6666666666666666,
              "#ed7953"
             ],
             [
              0.7777777777777778,
              "#fb9f3a"
             ],
             [
              0.8888888888888888,
              "#fdca26"
             ],
             [
              1,
              "#f0f921"
             ]
            ],
            "type": "heatmap"
           }
          ],
          "heatmapgl": [
           {
            "colorbar": {
             "outlinewidth": 0,
             "ticks": ""
            },
            "colorscale": [
             [
              0,
              "#0d0887"
             ],
             [
              0.1111111111111111,
              "#46039f"
             ],
             [
              0.2222222222222222,
              "#7201a8"
             ],
             [
              0.3333333333333333,
              "#9c179e"
             ],
             [
              0.4444444444444444,
              "#bd3786"
             ],
             [
              0.5555555555555556,
              "#d8576b"
             ],
             [
              0.6666666666666666,
              "#ed7953"
             ],
             [
              0.7777777777777778,
              "#fb9f3a"
             ],
             [
              0.8888888888888888,
              "#fdca26"
             ],
             [
              1,
              "#f0f921"
             ]
            ],
            "type": "heatmapgl"
           }
          ],
          "histogram": [
           {
            "marker": {
             "pattern": {
              "fillmode": "overlay",
              "size": 10,
              "solidity": 0.2
             }
            },
            "type": "histogram"
           }
          ],
          "histogram2d": [
           {
            "colorbar": {
             "outlinewidth": 0,
             "ticks": ""
            },
            "colorscale": [
             [
              0,
              "#0d0887"
             ],
             [
              0.1111111111111111,
              "#46039f"
             ],
             [
              0.2222222222222222,
              "#7201a8"
             ],
             [
              0.3333333333333333,
              "#9c179e"
             ],
             [
              0.4444444444444444,
              "#bd3786"
             ],
             [
              0.5555555555555556,
              "#d8576b"
             ],
             [
              0.6666666666666666,
              "#ed7953"
             ],
             [
              0.7777777777777778,
              "#fb9f3a"
             ],
             [
              0.8888888888888888,
              "#fdca26"
             ],
             [
              1,
              "#f0f921"
             ]
            ],
            "type": "histogram2d"
           }
          ],
          "histogram2dcontour": [
           {
            "colorbar": {
             "outlinewidth": 0,
             "ticks": ""
            },
            "colorscale": [
             [
              0,
              "#0d0887"
             ],
             [
              0.1111111111111111,
              "#46039f"
             ],
             [
              0.2222222222222222,
              "#7201a8"
             ],
             [
              0.3333333333333333,
              "#9c179e"
             ],
             [
              0.4444444444444444,
              "#bd3786"
             ],
             [
              0.5555555555555556,
              "#d8576b"
             ],
             [
              0.6666666666666666,
              "#ed7953"
             ],
             [
              0.7777777777777778,
              "#fb9f3a"
             ],
             [
              0.8888888888888888,
              "#fdca26"
             ],
             [
              1,
              "#f0f921"
             ]
            ],
            "type": "histogram2dcontour"
           }
          ],
          "mesh3d": [
           {
            "colorbar": {
             "outlinewidth": 0,
             "ticks": ""
            },
            "type": "mesh3d"
           }
          ],
          "parcoords": [
           {
            "line": {
             "colorbar": {
              "outlinewidth": 0,
              "ticks": ""
             }
            },
            "type": "parcoords"
           }
          ],
          "pie": [
           {
            "automargin": true,
            "type": "pie"
           }
          ],
          "scatter": [
           {
            "fillpattern": {
             "fillmode": "overlay",
             "size": 10,
             "solidity": 0.2
            },
            "type": "scatter"
           }
          ],
          "scatter3d": [
           {
            "line": {
             "colorbar": {
              "outlinewidth": 0,
              "ticks": ""
             }
            },
            "marker": {
             "colorbar": {
              "outlinewidth": 0,
              "ticks": ""
             }
            },
            "type": "scatter3d"
           }
          ],
          "scattercarpet": [
           {
            "marker": {
             "colorbar": {
              "outlinewidth": 0,
              "ticks": ""
             }
            },
            "type": "scattercarpet"
           }
          ],
          "scattergeo": [
           {
            "marker": {
             "colorbar": {
              "outlinewidth": 0,
              "ticks": ""
             }
            },
            "type": "scattergeo"
           }
          ],
          "scattergl": [
           {
            "marker": {
             "colorbar": {
              "outlinewidth": 0,
              "ticks": ""
             }
            },
            "type": "scattergl"
           }
          ],
          "scattermapbox": [
           {
            "marker": {
             "colorbar": {
              "outlinewidth": 0,
              "ticks": ""
             }
            },
            "type": "scattermapbox"
           }
          ],
          "scatterpolar": [
           {
            "marker": {
             "colorbar": {
              "outlinewidth": 0,
              "ticks": ""
             }
            },
            "type": "scatterpolar"
           }
          ],
          "scatterpolargl": [
           {
            "marker": {
             "colorbar": {
              "outlinewidth": 0,
              "ticks": ""
             }
            },
            "type": "scatterpolargl"
           }
          ],
          "scatterternary": [
           {
            "marker": {
             "colorbar": {
              "outlinewidth": 0,
              "ticks": ""
             }
            },
            "type": "scatterternary"
           }
          ],
          "surface": [
           {
            "colorbar": {
             "outlinewidth": 0,
             "ticks": ""
            },
            "colorscale": [
             [
              0,
              "#0d0887"
             ],
             [
              0.1111111111111111,
              "#46039f"
             ],
             [
              0.2222222222222222,
              "#7201a8"
             ],
             [
              0.3333333333333333,
              "#9c179e"
             ],
             [
              0.4444444444444444,
              "#bd3786"
             ],
             [
              0.5555555555555556,
              "#d8576b"
             ],
             [
              0.6666666666666666,
              "#ed7953"
             ],
             [
              0.7777777777777778,
              "#fb9f3a"
             ],
             [
              0.8888888888888888,
              "#fdca26"
             ],
             [
              1,
              "#f0f921"
             ]
            ],
            "type": "surface"
           }
          ],
          "table": [
           {
            "cells": {
             "fill": {
              "color": "#EBF0F8"
             },
             "line": {
              "color": "white"
             }
            },
            "header": {
             "fill": {
              "color": "#C8D4E3"
             },
             "line": {
              "color": "white"
             }
            },
            "type": "table"
           }
          ]
         },
         "layout": {
          "annotationdefaults": {
           "arrowcolor": "#2a3f5f",
           "arrowhead": 0,
           "arrowwidth": 1
          },
          "autotypenumbers": "strict",
          "coloraxis": {
           "colorbar": {
            "outlinewidth": 0,
            "ticks": ""
           }
          },
          "colorscale": {
           "diverging": [
            [
             0,
             "#8e0152"
            ],
            [
             0.1,
             "#c51b7d"
            ],
            [
             0.2,
             "#de77ae"
            ],
            [
             0.3,
             "#f1b6da"
            ],
            [
             0.4,
             "#fde0ef"
            ],
            [
             0.5,
             "#f7f7f7"
            ],
            [
             0.6,
             "#e6f5d0"
            ],
            [
             0.7,
             "#b8e186"
            ],
            [
             0.8,
             "#7fbc41"
            ],
            [
             0.9,
             "#4d9221"
            ],
            [
             1,
             "#276419"
            ]
           ],
           "sequential": [
            [
             0,
             "#0d0887"
            ],
            [
             0.1111111111111111,
             "#46039f"
            ],
            [
             0.2222222222222222,
             "#7201a8"
            ],
            [
             0.3333333333333333,
             "#9c179e"
            ],
            [
             0.4444444444444444,
             "#bd3786"
            ],
            [
             0.5555555555555556,
             "#d8576b"
            ],
            [
             0.6666666666666666,
             "#ed7953"
            ],
            [
             0.7777777777777778,
             "#fb9f3a"
            ],
            [
             0.8888888888888888,
             "#fdca26"
            ],
            [
             1,
             "#f0f921"
            ]
           ],
           "sequentialminus": [
            [
             0,
             "#0d0887"
            ],
            [
             0.1111111111111111,
             "#46039f"
            ],
            [
             0.2222222222222222,
             "#7201a8"
            ],
            [
             0.3333333333333333,
             "#9c179e"
            ],
            [
             0.4444444444444444,
             "#bd3786"
            ],
            [
             0.5555555555555556,
             "#d8576b"
            ],
            [
             0.6666666666666666,
             "#ed7953"
            ],
            [
             0.7777777777777778,
             "#fb9f3a"
            ],
            [
             0.8888888888888888,
             "#fdca26"
            ],
            [
             1,
             "#f0f921"
            ]
           ]
          },
          "colorway": [
           "#636efa",
           "#EF553B",
           "#00cc96",
           "#ab63fa",
           "#FFA15A",
           "#19d3f3",
           "#FF6692",
           "#B6E880",
           "#FF97FF",
           "#FECB52"
          ],
          "font": {
           "color": "#2a3f5f"
          },
          "geo": {
           "bgcolor": "white",
           "lakecolor": "white",
           "landcolor": "#E5ECF6",
           "showlakes": true,
           "showland": true,
           "subunitcolor": "white"
          },
          "hoverlabel": {
           "align": "left"
          },
          "hovermode": "closest",
          "mapbox": {
           "style": "light"
          },
          "paper_bgcolor": "white",
          "plot_bgcolor": "#E5ECF6",
          "polar": {
           "angularaxis": {
            "gridcolor": "white",
            "linecolor": "white",
            "ticks": ""
           },
           "bgcolor": "#E5ECF6",
           "radialaxis": {
            "gridcolor": "white",
            "linecolor": "white",
            "ticks": ""
           }
          },
          "scene": {
           "xaxis": {
            "backgroundcolor": "#E5ECF6",
            "gridcolor": "white",
            "gridwidth": 2,
            "linecolor": "white",
            "showbackground": true,
            "ticks": "",
            "zerolinecolor": "white"
           },
           "yaxis": {
            "backgroundcolor": "#E5ECF6",
            "gridcolor": "white",
            "gridwidth": 2,
            "linecolor": "white",
            "showbackground": true,
            "ticks": "",
            "zerolinecolor": "white"
           },
           "zaxis": {
            "backgroundcolor": "#E5ECF6",
            "gridcolor": "white",
            "gridwidth": 2,
            "linecolor": "white",
            "showbackground": true,
            "ticks": "",
            "zerolinecolor": "white"
           }
          },
          "shapedefaults": {
           "line": {
            "color": "#2a3f5f"
           }
          },
          "ternary": {
           "aaxis": {
            "gridcolor": "white",
            "linecolor": "white",
            "ticks": ""
           },
           "baxis": {
            "gridcolor": "white",
            "linecolor": "white",
            "ticks": ""
           },
           "bgcolor": "#E5ECF6",
           "caxis": {
            "gridcolor": "white",
            "linecolor": "white",
            "ticks": ""
           }
          },
          "title": {
           "x": 0.05
          },
          "xaxis": {
           "automargin": true,
           "gridcolor": "white",
           "linecolor": "white",
           "ticks": "",
           "title": {
            "standoff": 15
           },
           "zerolinecolor": "white",
           "zerolinewidth": 2
          },
          "yaxis": {
           "automargin": true,
           "gridcolor": "white",
           "linecolor": "white",
           "ticks": "",
           "title": {
            "standoff": 15
           },
           "zerolinecolor": "white",
           "zerolinewidth": 2
          }
         }
        },
        "title": {
         "text": "Relationship (child foreign key='session_id' and parent primary key='session_id')"
        },
        "xaxis": {
         "anchor": "y",
         "domain": [
          0,
          1
         ],
         "title": {
          "text": "# of Children (per Parent)"
         }
        },
        "yaxis": {
         "anchor": "x",
         "domain": [
          0,
          1
         ],
         "title": {
          "text": "Frequency"
         }
        }
       }
      }
     },
     "metadata": {},
     "output_type": "display_data"
    }
   ],
   "source": [
    "from sdmetrics.demos import load_demo\n",
    "from sdmetrics.reports.utils import get_cardinality_plot, get_cardinality\n",
    "\n",
    "\n",
    "# Load the demo dataset\n",
    "real_data, synthetic_data, metadata = load_demo(modality='multi_table')\n",
    "\n",
    "# Get the cardinality plot\n",
    "fig = get_cardinality_plot(\n",
    "    real_data, synthetic_data, child_foreign_key='session_id', parent_table_name='sessions', metadata=metadata\n",
    ")\n",
    "\n",
    "fig.show()"
   ]
  },
  {
   "cell_type": "code",
   "execution_count": 2,
   "metadata": {},
   "outputs": [
    {
     "data": {
      "text/plain": [
       "{'tables': {'users': {'primary_key': 'user_id',\n",
       "   'columns': {'user_id': {'sdtype': 'id', 'regex_format': '\\\\d{30}'},\n",
       "    'country': {'sdtype': 'categorical'},\n",
       "    'gender': {'sdtype': 'categorical'},\n",
       "    'age': {'sdtype': 'numerical', 'computer_representation': 'Int64'}}},\n",
       "  'sessions': {'primary_key': 'session_id',\n",
       "   'columns': {'session_id': {'sdtype': 'id', 'regex_format': '\\\\d{30}'},\n",
       "    'user_id': {'sdtype': 'id', 'regex_format': '\\\\d{30}'},\n",
       "    'device': {'sdtype': 'categorical'},\n",
       "    'os': {'sdtype': 'categorical'}}},\n",
       "  'transactions': {'primary_key': 'transaction_id',\n",
       "   'columns': {'transaction_id': {'sdtype': 'id', 'regex_format': '\\\\d{30}'},\n",
       "    'session_id': {'sdtype': 'id', 'regex_format': '\\\\d{30}'},\n",
       "    'timestamp': {'sdtype': 'datetime',\n",
       "     'datetime_format': '%Y-%m-%d %H:%M:%S'},\n",
       "    'amount': {'sdtype': 'numerical', 'computer_representation': 'Float'},\n",
       "    'approved': {'sdtype': 'boolean'}}}},\n",
       " 'relationships': [{'parent_table_name': 'users',\n",
       "   'parent_primary_key': 'user_id',\n",
       "   'child_table_name': 'sessions',\n",
       "   'child_foreign_key': 'user_id'},\n",
       "  {'parent_table_name': 'sessions',\n",
       "   'parent_primary_key': 'session_id',\n",
       "   'child_table_name': 'transactions',\n",
       "   'child_foreign_key': 'session_id'}],\n",
       " 'METADATA_SPEC_VERSION': 'MULTI_TABLE_V1'}"
      ]
     },
     "execution_count": 2,
     "metadata": {},
     "output_type": "execute_result"
    }
   ],
   "source": [
    "metadata"
   ]
  },
  {
   "cell_type": "code",
   "execution_count": 2,
   "metadata": {},
   "outputs": [
    {
     "data": {
      "text/plain": [
       "session_id\n",
       "0    1\n",
       "1    1\n",
       "2    1\n",
       "3    1\n",
       "4    1\n",
       "5    1\n",
       "6    1\n",
       "7    1\n",
       "8    1\n",
       "9    1\n",
       "Name: count, dtype: int64"
      ]
     },
     "execution_count": 2,
     "metadata": {},
     "output_type": "execute_result"
    }
   ],
   "source": [
    "real_data['sessions']['session_id'].value_counts()"
   ]
  },
  {
   "cell_type": "code",
   "execution_count": 7,
   "metadata": {},
   "outputs": [
    {
     "data": {
      "text/plain": [
       "session_id\n",
       "0    2\n",
       "5    2\n",
       "9    2\n",
       "1    1\n",
       "3    1\n",
       "7    1\n",
       "8    1\n",
       "Name: count, dtype: int64"
      ]
     },
     "execution_count": 7,
     "metadata": {},
     "output_type": "execute_result"
    }
   ],
   "source": [
    "real_data['transactions']['session_id'].value_counts()"
   ]
  },
  {
   "cell_type": "code",
   "execution_count": 9,
   "metadata": {},
   "outputs": [
    {
     "name": "stdout",
     "output_type": "stream",
     "text": [
      "   # children  # parents\n",
      "0           0          3\n",
      "1           1          4\n",
      "2           2          3\n"
     ]
    }
   ],
   "source": [
    "result = get_cardinality(real_data['sessions'], real_data['transactions'], 'session_id', 'session_id')\n",
    "print(result)\n"
   ]
  },
  {
   "cell_type": "code",
   "execution_count": 10,
   "metadata": {},
   "outputs": [
    {
     "data": {
      "text/plain": [
       "10"
      ]
     },
     "execution_count": 10,
     "metadata": {},
     "output_type": "execute_result"
    }
   ],
   "source": [
    "len(real_data['transactions'])"
   ]
  },
  {
   "cell_type": "code",
   "execution_count": 2,
   "metadata": {},
   "outputs": [
    {
     "name": "stdout",
     "output_type": "stream",
     "text": [
      "   # children  # parents\n",
      "0           0          1\n",
      "0           1          1\n",
      "1           2          2\n",
      "2           3          1\n"
     ]
    }
   ],
   "source": [
    "import pandas as pd\n",
    "parent_table = pd.DataFrame({\n",
    "    'id': [1, 2, 3, 4, 5],\n",
    "    'name': ['Alice', 'Bob', 'Charlie', 'Dave', 'Eve']\n",
    "})\n",
    "child_table = pd.DataFrame({\n",
    "    'id': [1, 2, 3, 4, 5, 6, 7, 8],\n",
    "    'parent_id': [1, 1, 2, 2, 2, 3, 3, 4]\n",
    "})\n",
    "parent_primary_key = 'id'\n",
    "child_foreign_key = 'parent_id'\n",
    "\n",
    "# Run\n",
    "result = get_cardinality(parent_table, child_table, parent_primary_key, child_foreign_key)\n",
    "print(result)"
   ]
  },
  {
   "cell_type": "code",
   "execution_count": 2,
   "metadata": {},
   "outputs": [
    {
     "data": {
      "text/plain": [
       "{'tables': {'users': {'primary_key': 'user_id',\n",
       "   'columns': {'user_id': {'sdtype': 'id', 'regex_format': '\\\\d{30}'},\n",
       "    'country': {'sdtype': 'categorical'},\n",
       "    'gender': {'sdtype': 'categorical'},\n",
       "    'age': {'sdtype': 'numerical', 'computer_representation': 'Int64'}}},\n",
       "  'sessions': {'primary_key': 'session_id',\n",
       "   'columns': {'session_id': {'sdtype': 'id', 'regex_format': '\\\\d{30}'},\n",
       "    'user_id': {'sdtype': 'id', 'regex_format': '\\\\d{30}'},\n",
       "    'device': {'sdtype': 'categorical'},\n",
       "    'os': {'sdtype': 'categorical'}}},\n",
       "  'transactions': {'primary_key': 'transaction_id',\n",
       "   'columns': {'transaction_id': {'sdtype': 'id', 'regex_format': '\\\\d{30}'},\n",
       "    'session_id': {'sdtype': 'id', 'regex_format': '\\\\d{30}'},\n",
       "    'timestamp': {'sdtype': 'datetime',\n",
       "     'datetime_format': '%Y-%m-%d %H:%M:%S'},\n",
       "    'amount': {'sdtype': 'numerical', 'computer_representation': 'Float'},\n",
       "    'approved': {'sdtype': 'boolean'}}}},\n",
       " 'relationships': [{'parent_table_name': 'users',\n",
       "   'parent_primary_key': 'user_id',\n",
       "   'child_table_name': 'sessions',\n",
       "   'child_foreign_key': 'user_id'},\n",
       "  {'parent_table_name': 'sessions',\n",
       "   'parent_primary_key': 'session_id',\n",
       "   'child_table_name': 'transactions',\n",
       "   'child_foreign_key': 'session_id'}],\n",
       " 'METADATA_SPEC_VERSION': 'MULTI_TABLE_V1'}"
      ]
     },
     "execution_count": 2,
     "metadata": {},
     "output_type": "execute_result"
    }
   ],
   "source": [
    "metadata"
   ]
  },
  {
   "cell_type": "code",
   "execution_count": 3,
   "metadata": {},
   "outputs": [
    {
     "data": {
      "text/plain": [
       "{'tables': {'users': {'primary_key': 'user_id',\n",
       "   'columns': {'user_id': {'sdtype': 'id', 'regex_format': '\\\\d{30}'},\n",
       "    'country': {'sdtype': 'categorical'},\n",
       "    'gender': {'sdtype': 'categorical'},\n",
       "    'age': {'sdtype': 'numerical', 'computer_representation': 'Int64'}}},\n",
       "  'sessions': {'primary_key': 'session_id',\n",
       "   'columns': {'session_id': {'sdtype': 'id', 'regex_format': '\\\\d{30}'},\n",
       "    'user_id': {'sdtype': 'id', 'regex_format': '\\\\d{30}'},\n",
       "    'device': {'sdtype': 'categorical'},\n",
       "    'os': {'sdtype': 'categorical'}}},\n",
       "  'transactions': {'primary_key': 'transaction_id',\n",
       "   'columns': {'transaction_id': {'sdtype': 'id', 'regex_format': '\\\\d{30}'},\n",
       "    'session_id': {'sdtype': 'id', 'regex_format': '\\\\d{30}'},\n",
       "    'timestamp': {'sdtype': 'datetime',\n",
       "     'datetime_format': '%Y-%m-%d %H:%M:%S'},\n",
       "    'amount': {'sdtype': 'numerical', 'computer_representation': 'Float'},\n",
       "    'approved': {'sdtype': 'boolean'}}}},\n",
       " 'relationships': [{'parent_table_name': 'users',\n",
       "   'parent_primary_key': 'user_id',\n",
       "   'child_table_name': 'sessions',\n",
       "   'child_foreign_key': 'user_id'},\n",
       "  {'parent_table_name': 'sessions',\n",
       "   'parent_primary_key': 'session_id',\n",
       "   'child_table_name': 'transactions',\n",
       "   'child_foreign_key': 'session_id'}],\n",
       " 'METADATA_SPEC_VERSION': 'MULTI_TABLE_V1'}"
      ]
     },
     "execution_count": 3,
     "metadata": {},
     "output_type": "execute_result"
    }
   ],
   "source": [
    "metadata"
   ]
  },
  {
   "cell_type": "code",
   "execution_count": 4,
   "metadata": {},
   "outputs": [
    {
     "data": {
      "text/plain": [
       "'user_id'"
      ]
     },
     "execution_count": 4,
     "metadata": {},
     "output_type": "execute_result"
    }
   ],
   "source": [
    "metadata['relationships'][0]['child_foreign_key']"
   ]
  },
  {
   "cell_type": "code",
   "execution_count": 5,
   "metadata": {},
   "outputs": [
    {
     "ename": "TypeError",
     "evalue": "list indices must be integers or slices, not dict",
     "output_type": "error",
     "traceback": [
      "\u001b[0;31m---------------------------------------------------------------------------\u001b[0m",
      "\u001b[0;31mTypeError\u001b[0m                                 Traceback (most recent call last)",
      "Cell \u001b[0;32mIn[5], line 4\u001b[0m\n\u001b[1;32m      1\u001b[0m \u001b[39mfrom\u001b[39;00m \u001b[39msdmetrics\u001b[39;00m\u001b[39m.\u001b[39;00m\u001b[39mreports\u001b[39;00m\u001b[39m.\u001b[39;00m\u001b[39mutils\u001b[39;00m \u001b[39mimport\u001b[39;00m get_cardinality_plot\n\u001b[1;32m      3\u001b[0m \u001b[39m# Get the cardinality plot\u001b[39;00m\n\u001b[0;32m----> 4\u001b[0m fig \u001b[39m=\u001b[39m get_cardinality_plot(\n\u001b[1;32m      5\u001b[0m     real_data, synthetic_data, child_foreign_key\u001b[39m=\u001b[39;49m\u001b[39m'\u001b[39;49m\u001b[39msession_id\u001b[39;49m\u001b[39m'\u001b[39;49m, metadata\u001b[39m=\u001b[39;49mmetadata\n\u001b[1;32m      6\u001b[0m )\n\u001b[1;32m      8\u001b[0m fig\u001b[39m.\u001b[39mshow()\n",
      "File \u001b[0;32m~/Desktop/SDMetrics/sdmetrics/reports/utils.py:530\u001b[0m, in \u001b[0;36mget_cardinality_plot\u001b[0;34m(real_data, synthetic_data, child_foreign_key, metadata)\u001b[0m\n\u001b[1;32m    528\u001b[0m \u001b[39mfor\u001b[39;00m idx \u001b[39min\u001b[39;00m metadata[\u001b[39m'\u001b[39m\u001b[39mrelationships\u001b[39m\u001b[39m'\u001b[39m]:\n\u001b[1;32m    529\u001b[0m     \u001b[39mif\u001b[39;00m idx[\u001b[39m'\u001b[39m\u001b[39mchild_foreign_key\u001b[39m\u001b[39m'\u001b[39m] \u001b[39m==\u001b[39m child_foreign_key:\n\u001b[0;32m--> 530\u001b[0m         relation \u001b[39m=\u001b[39m metadata[\u001b[39m'\u001b[39;49m\u001b[39mrelationships\u001b[39;49m\u001b[39m'\u001b[39;49m][idx]\n\u001b[1;32m    531\u001b[0m         \u001b[39mbreak\u001b[39;00m\n\u001b[1;32m    533\u001b[0m \u001b[39mif\u001b[39;00m relation \u001b[39mis\u001b[39;00m \u001b[39mNone\u001b[39;00m:\n",
      "\u001b[0;31mTypeError\u001b[0m: list indices must be integers or slices, not dict"
     ]
    }
   ],
   "source": []
  }
 ],
 "metadata": {
  "kernelspec": {
   "display_name": "issue-283-cardinality-plot",
   "language": "python",
   "name": "python3"
  },
  "language_info": {
   "codemirror_mode": {
    "name": "ipython",
    "version": 3
   },
   "file_extension": ".py",
   "mimetype": "text/x-python",
   "name": "python",
   "nbconvert_exporter": "python",
   "pygments_lexer": "ipython3",
   "version": "3.9.17"
  },
  "orig_nbformat": 4
 },
 "nbformat": 4,
 "nbformat_minor": 2
}

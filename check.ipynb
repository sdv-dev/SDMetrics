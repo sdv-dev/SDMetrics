{
 "cells": [
  {
   "cell_type": "code",
   "execution_count": 1,
   "metadata": {},
   "outputs": [
    {
     "data": {
      "text/plain": [
       "0.53"
      ]
     },
     "execution_count": 1,
     "metadata": {},
     "output_type": "execute_result"
    }
   ],
   "source": [
    "from sdmetrics.reports.single_table._properties import Synthesis\n",
    "from sdmetrics.demos import load_demo\n",
    "\n",
    "real_data, synthetic_data, metadata = load_demo(modality='single_table')\n",
    "\n",
    "\n",
    "synthesis = Synthesis()\n",
    "synthesis.get_score(real_data.sample(100), real_data.sample(100), metadata)"
   ]
  },
  {
   "cell_type": "code",
   "execution_count": 18,
   "metadata": {},
   "outputs": [
    {
     "ename": "AssertionError",
     "evalue": "DataFrame.iloc[:, 4] (column name=\"Error\") are different\n\nDataFrame.iloc[:, 4] (column name=\"Error\") values are different (100.0 %)\n[index]: [0]\n[left]:  [Error: AttributeError 'list' object has no attribute 'columns']\n[right]: [Error: ValueError \"Timestamp\" is not a supported function]\nAt positional index 0, first diff: Error: AttributeError 'list' object has no attribute 'columns' != Error: ValueError \"Timestamp\" is not a supported function",
     "output_type": "error",
     "traceback": [
      "\u001b[0;31m---------------------------------------------------------------------------\u001b[0m",
      "\u001b[0;31mAssertionError\u001b[0m                            Traceback (most recent call last)",
      "Cell \u001b[0;32mIn[18], line 24\u001b[0m\n\u001b[1;32m     14\u001b[0m \u001b[39massert\u001b[39;00m pd\u001b[39m.\u001b[39misna(score)\n\u001b[1;32m     16\u001b[0m expected_details \u001b[39m=\u001b[39m pd\u001b[39m.\u001b[39mDataFrame({\n\u001b[1;32m     17\u001b[0m     \u001b[39m'\u001b[39m\u001b[39mMetric\u001b[39m\u001b[39m'\u001b[39m: \u001b[39m'\u001b[39m\u001b[39mNewRowSynthesis\u001b[39m\u001b[39m'\u001b[39m,\n\u001b[1;32m     18\u001b[0m     \u001b[39m'\u001b[39m\u001b[39mScore\u001b[39m\u001b[39m'\u001b[39m: np\u001b[39m.\u001b[39mnan,\n\u001b[0;32m   (...)\u001b[0m\n\u001b[1;32m     21\u001b[0m     \u001b[39m'\u001b[39m\u001b[39mError\u001b[39m\u001b[39m'\u001b[39m: \u001b[39m'\u001b[39m\u001b[39mError: ValueError \u001b[39m\u001b[39m\"\u001b[39m\u001b[39mTimestamp\u001b[39m\u001b[39m\"\u001b[39m\u001b[39m is not a supported function\u001b[39m\u001b[39m'\u001b[39m\n\u001b[1;32m     22\u001b[0m }, index\u001b[39m=\u001b[39m[\u001b[39m0\u001b[39m])\n\u001b[0;32m---> 24\u001b[0m pd\u001b[39m.\u001b[39;49mtesting\u001b[39m.\u001b[39;49massert_frame_equal(synthesis_property\u001b[39m.\u001b[39;49m_details, expected_details)\n",
      "    \u001b[0;31m[... skipping hidden 2 frame]\u001b[0m\n",
      "File \u001b[0;32m~/miniconda3/envs/issue-390-synthesis-property/lib/python3.9/site-packages/pandas/_libs/testing.pyx:52\u001b[0m, in \u001b[0;36mpandas._libs.testing.assert_almost_equal\u001b[0;34m()\u001b[0m\n",
      "File \u001b[0;32m~/miniconda3/envs/issue-390-synthesis-property/lib/python3.9/site-packages/pandas/_libs/testing.pyx:172\u001b[0m, in \u001b[0;36mpandas._libs.testing.assert_almost_equal\u001b[0;34m()\u001b[0m\n",
      "File \u001b[0;32m~/miniconda3/envs/issue-390-synthesis-property/lib/python3.9/site-packages/pandas/_testing/asserters.py:599\u001b[0m, in \u001b[0;36mraise_assert_detail\u001b[0;34m(obj, message, left, right, diff, first_diff, index_values)\u001b[0m\n\u001b[1;32m    596\u001b[0m \u001b[39mif\u001b[39;00m first_diff \u001b[39mis\u001b[39;00m \u001b[39mnot\u001b[39;00m \u001b[39mNone\u001b[39;00m:\n\u001b[1;32m    597\u001b[0m     msg \u001b[39m+\u001b[39m\u001b[39m=\u001b[39m \u001b[39mf\u001b[39m\u001b[39m\"\u001b[39m\u001b[39m\\n\u001b[39;00m\u001b[39m{\u001b[39;00mfirst_diff\u001b[39m}\u001b[39;00m\u001b[39m\"\u001b[39m\n\u001b[0;32m--> 599\u001b[0m \u001b[39mraise\u001b[39;00m \u001b[39mAssertionError\u001b[39;00m(msg)\n",
      "\u001b[0;31mAssertionError\u001b[0m: DataFrame.iloc[:, 4] (column name=\"Error\") are different\n\nDataFrame.iloc[:, 4] (column name=\"Error\") values are different (100.0 %)\n[index]: [0]\n[left]:  [Error: AttributeError 'list' object has no attribute 'columns']\n[right]: [Error: ValueError \"Timestamp\" is not a supported function]\nAt positional index 0, first diff: Error: AttributeError 'list' object has no attribute 'columns' != Error: ValueError \"Timestamp\" is not a supported function"
     ]
    }
   ],
   "source": [
    "from sdmetrics.reports.single_table._properties import Synthesis\n",
    "from sdmetrics.demos import load_demo\n",
    "import numpy as np\n",
    "import pandas as pd\n",
    "\n",
    "real_data, _, metadata = load_demo('single_table')\n",
    "real_data['employability_perc'].iloc[2] = '\\n'\n",
    "\n",
    "# Run\n",
    "synthesis_property = Synthesis()\n",
    "score = synthesis_property.get_score(real_data.iloc[:20], [], metadata)\n",
    "\n",
    "# Assert\n",
    "assert pd.isna(score)\n",
    "\n",
    "expected_details = pd.DataFrame({\n",
    "    'Metric': 'NewRowSynthesis',\n",
    "    'Score': np.nan,\n",
    "    'Num Matched Rows': np.nan,\n",
    "    'Num New Rows': np.nan,\n",
    "    'Error': 'Error: ValueError \"Timestamp\" is not a supported function'\n",
    "}, index=[0])\n",
    "\n",
    "pd.testing.assert_frame_equal(synthesis_property._details, expected_details)"
   ]
  },
  {
   "cell_type": "code",
   "execution_count": 23,
   "metadata": {},
   "outputs": [
    {
     "data": {
      "text/plain": [
       "\"Error: AttributeError 'list' object has no attribute 'columns'\""
      ]
     },
     "execution_count": 23,
     "metadata": {},
     "output_type": "execute_result"
    }
   ],
   "source": [
    "synthesis_property._details['Error'].values[0]"
   ]
  },
  {
   "cell_type": "code",
   "execution_count": 7,
   "metadata": {},
   "outputs": [],
   "source": [
    "real_data, synthetic_data, metadata = load_demo('single_table')\n",
    "\n",
    "real_data['start_date'].iloc[0] = 0\n",
    "real_data['employability_perc'].iloc[2] = 'a'\n",
    "# Run\n",
    "synthesis_property = Synthesis()\n",
    "score = synthesis_property.get_score(real_data.iloc[:20], real_data.iloc[10:30], metadata)"
   ]
  },
  {
   "cell_type": "code",
   "execution_count": 11,
   "metadata": {},
   "outputs": [
    {
     "data": {
      "text/plain": [
       "'Error: ValueError \"Timestamp\" is not a supported function'"
      ]
     },
     "execution_count": 11,
     "metadata": {},
     "output_type": "execute_result"
    }
   ],
   "source": [
    "synthesis_property._details['Error'].values[0]"
   ]
  },
  {
   "cell_type": "code",
   "execution_count": 2,
   "metadata": {},
   "outputs": [
    {
     "data": {
      "text/html": [
       "<div>\n",
       "<style scoped>\n",
       "    .dataframe tbody tr th:only-of-type {\n",
       "        vertical-align: middle;\n",
       "    }\n",
       "\n",
       "    .dataframe tbody tr th {\n",
       "        vertical-align: top;\n",
       "    }\n",
       "\n",
       "    .dataframe thead th {\n",
       "        text-align: right;\n",
       "    }\n",
       "</style>\n",
       "<table border=\"1\" class=\"dataframe\">\n",
       "  <thead>\n",
       "    <tr style=\"text-align: right;\">\n",
       "      <th></th>\n",
       "      <th>Metric</th>\n",
       "      <th>Score</th>\n",
       "      <th>Num Matched Rows</th>\n",
       "      <th>Num New Rows</th>\n",
       "    </tr>\n",
       "  </thead>\n",
       "  <tbody>\n",
       "    <tr>\n",
       "      <th>0</th>\n",
       "      <td>NewRowSynthesis</td>\n",
       "      <td>0.54</td>\n",
       "      <td>46</td>\n",
       "      <td>54</td>\n",
       "    </tr>\n",
       "  </tbody>\n",
       "</table>\n",
       "</div>"
      ],
      "text/plain": [
       "            Metric  Score  Num Matched Rows  Num New Rows\n",
       "0  NewRowSynthesis   0.54                46            54"
      ]
     },
     "execution_count": 2,
     "metadata": {},
     "output_type": "execute_result"
    }
   ],
   "source": [
    "synthesis._details"
   ]
  },
  {
   "cell_type": "code",
   "execution_count": 3,
   "metadata": {},
   "outputs": [
    {
     "data": {
      "application/vnd.plotly.v1+json": {
       "config": {
        "plotlyServerURL": "https://plot.ly"
       },
       "data": [
        {
         "customdata": [
          [
           "Exact Matches"
          ],
          [
           "Novel Rows"
          ]
         ],
         "domain": {
          "x": [
           0,
           1
          ],
          "y": [
           0,
           1
          ]
         },
         "hole": 0.4,
         "hovertemplate": "<b>%{label}</b><br>%{value} rows",
         "labels": [
          "Exact Matches",
          "Novel Rows"
         ],
         "legendgroup": "",
         "marker": {
          "colors": [
           "#F16141",
           "#36B37E"
          ]
         },
         "name": "",
         "showlegend": true,
         "type": "pie",
         "values": [
          46,
          54
         ]
        }
       ],
       "layout": {
        "legend": {
         "tracegroupgap": 0
        },
        "template": {
         "data": {
          "bar": [
           {
            "error_x": {
             "color": "#2a3f5f"
            },
            "error_y": {
             "color": "#2a3f5f"
            },
            "marker": {
             "line": {
              "color": "#E5ECF6",
              "width": 0.5
             },
             "pattern": {
              "fillmode": "overlay",
              "size": 10,
              "solidity": 0.2
             }
            },
            "type": "bar"
           }
          ],
          "barpolar": [
           {
            "marker": {
             "line": {
              "color": "#E5ECF6",
              "width": 0.5
             },
             "pattern": {
              "fillmode": "overlay",
              "size": 10,
              "solidity": 0.2
             }
            },
            "type": "barpolar"
           }
          ],
          "carpet": [
           {
            "aaxis": {
             "endlinecolor": "#2a3f5f",
             "gridcolor": "white",
             "linecolor": "white",
             "minorgridcolor": "white",
             "startlinecolor": "#2a3f5f"
            },
            "baxis": {
             "endlinecolor": "#2a3f5f",
             "gridcolor": "white",
             "linecolor": "white",
             "minorgridcolor": "white",
             "startlinecolor": "#2a3f5f"
            },
            "type": "carpet"
           }
          ],
          "choropleth": [
           {
            "colorbar": {
             "outlinewidth": 0,
             "ticks": ""
            },
            "type": "choropleth"
           }
          ],
          "contour": [
           {
            "colorbar": {
             "outlinewidth": 0,
             "ticks": ""
            },
            "colorscale": [
             [
              0,
              "#0d0887"
             ],
             [
              0.1111111111111111,
              "#46039f"
             ],
             [
              0.2222222222222222,
              "#7201a8"
             ],
             [
              0.3333333333333333,
              "#9c179e"
             ],
             [
              0.4444444444444444,
              "#bd3786"
             ],
             [
              0.5555555555555556,
              "#d8576b"
             ],
             [
              0.6666666666666666,
              "#ed7953"
             ],
             [
              0.7777777777777778,
              "#fb9f3a"
             ],
             [
              0.8888888888888888,
              "#fdca26"
             ],
             [
              1,
              "#f0f921"
             ]
            ],
            "type": "contour"
           }
          ],
          "contourcarpet": [
           {
            "colorbar": {
             "outlinewidth": 0,
             "ticks": ""
            },
            "type": "contourcarpet"
           }
          ],
          "heatmap": [
           {
            "colorbar": {
             "outlinewidth": 0,
             "ticks": ""
            },
            "colorscale": [
             [
              0,
              "#0d0887"
             ],
             [
              0.1111111111111111,
              "#46039f"
             ],
             [
              0.2222222222222222,
              "#7201a8"
             ],
             [
              0.3333333333333333,
              "#9c179e"
             ],
             [
              0.4444444444444444,
              "#bd3786"
             ],
             [
              0.5555555555555556,
              "#d8576b"
             ],
             [
              0.6666666666666666,
              "#ed7953"
             ],
             [
              0.7777777777777778,
              "#fb9f3a"
             ],
             [
              0.8888888888888888,
              "#fdca26"
             ],
             [
              1,
              "#f0f921"
             ]
            ],
            "type": "heatmap"
           }
          ],
          "heatmapgl": [
           {
            "colorbar": {
             "outlinewidth": 0,
             "ticks": ""
            },
            "colorscale": [
             [
              0,
              "#0d0887"
             ],
             [
              0.1111111111111111,
              "#46039f"
             ],
             [
              0.2222222222222222,
              "#7201a8"
             ],
             [
              0.3333333333333333,
              "#9c179e"
             ],
             [
              0.4444444444444444,
              "#bd3786"
             ],
             [
              0.5555555555555556,
              "#d8576b"
             ],
             [
              0.6666666666666666,
              "#ed7953"
             ],
             [
              0.7777777777777778,
              "#fb9f3a"
             ],
             [
              0.8888888888888888,
              "#fdca26"
             ],
             [
              1,
              "#f0f921"
             ]
            ],
            "type": "heatmapgl"
           }
          ],
          "histogram": [
           {
            "marker": {
             "pattern": {
              "fillmode": "overlay",
              "size": 10,
              "solidity": 0.2
             }
            },
            "type": "histogram"
           }
          ],
          "histogram2d": [
           {
            "colorbar": {
             "outlinewidth": 0,
             "ticks": ""
            },
            "colorscale": [
             [
              0,
              "#0d0887"
             ],
             [
              0.1111111111111111,
              "#46039f"
             ],
             [
              0.2222222222222222,
              "#7201a8"
             ],
             [
              0.3333333333333333,
              "#9c179e"
             ],
             [
              0.4444444444444444,
              "#bd3786"
             ],
             [
              0.5555555555555556,
              "#d8576b"
             ],
             [
              0.6666666666666666,
              "#ed7953"
             ],
             [
              0.7777777777777778,
              "#fb9f3a"
             ],
             [
              0.8888888888888888,
              "#fdca26"
             ],
             [
              1,
              "#f0f921"
             ]
            ],
            "type": "histogram2d"
           }
          ],
          "histogram2dcontour": [
           {
            "colorbar": {
             "outlinewidth": 0,
             "ticks": ""
            },
            "colorscale": [
             [
              0,
              "#0d0887"
             ],
             [
              0.1111111111111111,
              "#46039f"
             ],
             [
              0.2222222222222222,
              "#7201a8"
             ],
             [
              0.3333333333333333,
              "#9c179e"
             ],
             [
              0.4444444444444444,
              "#bd3786"
             ],
             [
              0.5555555555555556,
              "#d8576b"
             ],
             [
              0.6666666666666666,
              "#ed7953"
             ],
             [
              0.7777777777777778,
              "#fb9f3a"
             ],
             [
              0.8888888888888888,
              "#fdca26"
             ],
             [
              1,
              "#f0f921"
             ]
            ],
            "type": "histogram2dcontour"
           }
          ],
          "mesh3d": [
           {
            "colorbar": {
             "outlinewidth": 0,
             "ticks": ""
            },
            "type": "mesh3d"
           }
          ],
          "parcoords": [
           {
            "line": {
             "colorbar": {
              "outlinewidth": 0,
              "ticks": ""
             }
            },
            "type": "parcoords"
           }
          ],
          "pie": [
           {
            "automargin": true,
            "type": "pie"
           }
          ],
          "scatter": [
           {
            "fillpattern": {
             "fillmode": "overlay",
             "size": 10,
             "solidity": 0.2
            },
            "type": "scatter"
           }
          ],
          "scatter3d": [
           {
            "line": {
             "colorbar": {
              "outlinewidth": 0,
              "ticks": ""
             }
            },
            "marker": {
             "colorbar": {
              "outlinewidth": 0,
              "ticks": ""
             }
            },
            "type": "scatter3d"
           }
          ],
          "scattercarpet": [
           {
            "marker": {
             "colorbar": {
              "outlinewidth": 0,
              "ticks": ""
             }
            },
            "type": "scattercarpet"
           }
          ],
          "scattergeo": [
           {
            "marker": {
             "colorbar": {
              "outlinewidth": 0,
              "ticks": ""
             }
            },
            "type": "scattergeo"
           }
          ],
          "scattergl": [
           {
            "marker": {
             "colorbar": {
              "outlinewidth": 0,
              "ticks": ""
             }
            },
            "type": "scattergl"
           }
          ],
          "scattermapbox": [
           {
            "marker": {
             "colorbar": {
              "outlinewidth": 0,
              "ticks": ""
             }
            },
            "type": "scattermapbox"
           }
          ],
          "scatterpolar": [
           {
            "marker": {
             "colorbar": {
              "outlinewidth": 0,
              "ticks": ""
             }
            },
            "type": "scatterpolar"
           }
          ],
          "scatterpolargl": [
           {
            "marker": {
             "colorbar": {
              "outlinewidth": 0,
              "ticks": ""
             }
            },
            "type": "scatterpolargl"
           }
          ],
          "scatterternary": [
           {
            "marker": {
             "colorbar": {
              "outlinewidth": 0,
              "ticks": ""
             }
            },
            "type": "scatterternary"
           }
          ],
          "surface": [
           {
            "colorbar": {
             "outlinewidth": 0,
             "ticks": ""
            },
            "colorscale": [
             [
              0,
              "#0d0887"
             ],
             [
              0.1111111111111111,
              "#46039f"
             ],
             [
              0.2222222222222222,
              "#7201a8"
             ],
             [
              0.3333333333333333,
              "#9c179e"
             ],
             [
              0.4444444444444444,
              "#bd3786"
             ],
             [
              0.5555555555555556,
              "#d8576b"
             ],
             [
              0.6666666666666666,
              "#ed7953"
             ],
             [
              0.7777777777777778,
              "#fb9f3a"
             ],
             [
              0.8888888888888888,
              "#fdca26"
             ],
             [
              1,
              "#f0f921"
             ]
            ],
            "type": "surface"
           }
          ],
          "table": [
           {
            "cells": {
             "fill": {
              "color": "#EBF0F8"
             },
             "line": {
              "color": "white"
             }
            },
            "header": {
             "fill": {
              "color": "#C8D4E3"
             },
             "line": {
              "color": "white"
             }
            },
            "type": "table"
           }
          ]
         },
         "layout": {
          "annotationdefaults": {
           "arrowcolor": "#2a3f5f",
           "arrowhead": 0,
           "arrowwidth": 1
          },
          "autotypenumbers": "strict",
          "coloraxis": {
           "colorbar": {
            "outlinewidth": 0,
            "ticks": ""
           }
          },
          "colorscale": {
           "diverging": [
            [
             0,
             "#8e0152"
            ],
            [
             0.1,
             "#c51b7d"
            ],
            [
             0.2,
             "#de77ae"
            ],
            [
             0.3,
             "#f1b6da"
            ],
            [
             0.4,
             "#fde0ef"
            ],
            [
             0.5,
             "#f7f7f7"
            ],
            [
             0.6,
             "#e6f5d0"
            ],
            [
             0.7,
             "#b8e186"
            ],
            [
             0.8,
             "#7fbc41"
            ],
            [
             0.9,
             "#4d9221"
            ],
            [
             1,
             "#276419"
            ]
           ],
           "sequential": [
            [
             0,
             "#0d0887"
            ],
            [
             0.1111111111111111,
             "#46039f"
            ],
            [
             0.2222222222222222,
             "#7201a8"
            ],
            [
             0.3333333333333333,
             "#9c179e"
            ],
            [
             0.4444444444444444,
             "#bd3786"
            ],
            [
             0.5555555555555556,
             "#d8576b"
            ],
            [
             0.6666666666666666,
             "#ed7953"
            ],
            [
             0.7777777777777778,
             "#fb9f3a"
            ],
            [
             0.8888888888888888,
             "#fdca26"
            ],
            [
             1,
             "#f0f921"
            ]
           ],
           "sequentialminus": [
            [
             0,
             "#0d0887"
            ],
            [
             0.1111111111111111,
             "#46039f"
            ],
            [
             0.2222222222222222,
             "#7201a8"
            ],
            [
             0.3333333333333333,
             "#9c179e"
            ],
            [
             0.4444444444444444,
             "#bd3786"
            ],
            [
             0.5555555555555556,
             "#d8576b"
            ],
            [
             0.6666666666666666,
             "#ed7953"
            ],
            [
             0.7777777777777778,
             "#fb9f3a"
            ],
            [
             0.8888888888888888,
             "#fdca26"
            ],
            [
             1,
             "#f0f921"
            ]
           ]
          },
          "colorway": [
           "#636efa",
           "#EF553B",
           "#00cc96",
           "#ab63fa",
           "#FFA15A",
           "#19d3f3",
           "#FF6692",
           "#B6E880",
           "#FF97FF",
           "#FECB52"
          ],
          "font": {
           "color": "#2a3f5f"
          },
          "geo": {
           "bgcolor": "white",
           "lakecolor": "white",
           "landcolor": "#E5ECF6",
           "showlakes": true,
           "showland": true,
           "subunitcolor": "white"
          },
          "hoverlabel": {
           "align": "left"
          },
          "hovermode": "closest",
          "mapbox": {
           "style": "light"
          },
          "paper_bgcolor": "white",
          "plot_bgcolor": "#E5ECF6",
          "polar": {
           "angularaxis": {
            "gridcolor": "white",
            "linecolor": "white",
            "ticks": ""
           },
           "bgcolor": "#E5ECF6",
           "radialaxis": {
            "gridcolor": "white",
            "linecolor": "white",
            "ticks": ""
           }
          },
          "scene": {
           "xaxis": {
            "backgroundcolor": "#E5ECF6",
            "gridcolor": "white",
            "gridwidth": 2,
            "linecolor": "white",
            "showbackground": true,
            "ticks": "",
            "zerolinecolor": "white"
           },
           "yaxis": {
            "backgroundcolor": "#E5ECF6",
            "gridcolor": "white",
            "gridwidth": 2,
            "linecolor": "white",
            "showbackground": true,
            "ticks": "",
            "zerolinecolor": "white"
           },
           "zaxis": {
            "backgroundcolor": "#E5ECF6",
            "gridcolor": "white",
            "gridwidth": 2,
            "linecolor": "white",
            "showbackground": true,
            "ticks": "",
            "zerolinecolor": "white"
           }
          },
          "shapedefaults": {
           "line": {
            "color": "#2a3f5f"
           }
          },
          "ternary": {
           "aaxis": {
            "gridcolor": "white",
            "linecolor": "white",
            "ticks": ""
           },
           "baxis": {
            "gridcolor": "white",
            "linecolor": "white",
            "ticks": ""
           },
           "bgcolor": "#E5ECF6",
           "caxis": {
            "gridcolor": "white",
            "linecolor": "white",
            "ticks": ""
           }
          },
          "title": {
           "x": 0.05
          },
          "xaxis": {
           "automargin": true,
           "gridcolor": "white",
           "linecolor": "white",
           "ticks": "",
           "title": {
            "standoff": 15
           },
           "zerolinecolor": "white",
           "zerolinewidth": 2
          },
          "yaxis": {
           "automargin": true,
           "gridcolor": "white",
           "linecolor": "white",
           "ticks": "",
           "title": {
            "standoff": 15
           },
           "zerolinecolor": "white",
           "zerolinewidth": 2
          }
         }
        },
        "title": {
         "text": "Data Diagnostic: Synthesis (Score=0.54)"
        }
       }
      }
     },
     "metadata": {},
     "output_type": "display_data"
    }
   ],
   "source": [
    "fig = synthesis.get_visualization()\n",
    "fig.show()"
   ]
  },
  {
   "cell_type": "code",
   "execution_count": 3,
   "metadata": {},
   "outputs": [
    {
     "data": {
      "text/plain": [
       "[0    47\n",
       " Name: Num Matched Rows, dtype: int64,\n",
       " 0    53\n",
       " Name: Num New Rows, dtype: int64]"
      ]
     },
     "execution_count": 3,
     "metadata": {},
     "output_type": "execute_result"
    }
   ],
   "source": [
    "t = [synthesis._details['Num Matched Rows'], synthesis._details['Num New Rows']]\n",
    "t"
   ]
  },
  {
   "cell_type": "code",
   "execution_count": 2,
   "metadata": {},
   "outputs": [
    {
     "data": {
      "text/html": [
       "<div>\n",
       "<style scoped>\n",
       "    .dataframe tbody tr th:only-of-type {\n",
       "        vertical-align: middle;\n",
       "    }\n",
       "\n",
       "    .dataframe tbody tr th {\n",
       "        vertical-align: top;\n",
       "    }\n",
       "\n",
       "    .dataframe thead th {\n",
       "        text-align: right;\n",
       "    }\n",
       "</style>\n",
       "<table border=\"1\" class=\"dataframe\">\n",
       "  <thead>\n",
       "    <tr style=\"text-align: right;\">\n",
       "      <th></th>\n",
       "      <th>Metric</th>\n",
       "      <th>Score</th>\n",
       "      <th>Num Matched Rows</th>\n",
       "      <th>Num New Rows</th>\n",
       "    </tr>\n",
       "  </thead>\n",
       "  <tbody>\n",
       "    <tr>\n",
       "      <th>0</th>\n",
       "      <td>NewRowSynthesis</td>\n",
       "      <td>0.25</td>\n",
       "      <td>3</td>\n",
       "      <td>1</td>\n",
       "    </tr>\n",
       "  </tbody>\n",
       "</table>\n",
       "</div>"
      ],
      "text/plain": [
       "            Metric  Score  Num Matched Rows  Num New Rows\n",
       "0  NewRowSynthesis   0.25                 3             1"
      ]
     },
     "execution_count": 2,
     "metadata": {},
     "output_type": "execute_result"
    }
   ],
   "source": [
    "import pandas as pd\n",
    "real_data = pd.DataFrame({\n",
    "    'col1': [1, 2, 3, 4],\n",
    "    'col2': [False, True, True, False],\n",
    "    'col3': ['a', 'b', 'c', 'd'],\n",
    "    'col4': pd.to_datetime(['2020-01-01', '2020-01-02', '2020-01-03', '2020-01-04'])\n",
    "})\n",
    "synthetic_data = pd.DataFrame({\n",
    "    'col1': [1, 7, 3, 4],\n",
    "    'col2': [False, True, True, False],\n",
    "    'col3': ['a', 'b', 'c', 'd'],\n",
    "    'col4': pd.to_datetime(['2020-01-01', '2020-01-02', '2020-01-03', '2020-01-04'])\n",
    "})\n",
    "metadata = {\n",
    "    'columns': {\n",
    "        'col1': {'sdtype': 'numerical'},\n",
    "        'col2': {'sdtype': 'boolean'},\n",
    "        'col3': {'sdtype': 'categorical'},\n",
    "        'col4': {'sdtype': 'datetime'}\n",
    "    }\n",
    "}\n",
    "\n",
    "# Run\n",
    "synthesis_property = Synthesis()\n",
    "synthesis_property._generate_details(real_data, synthetic_data, metadata)"
   ]
  },
  {
   "cell_type": "code",
   "execution_count": 2,
   "metadata": {},
   "outputs": [
    {
     "data": {
      "text/plain": [
       "0.94"
      ]
     },
     "execution_count": 2,
     "metadata": {},
     "output_type": "execute_result"
    }
   ],
   "source": [
    "coverage.get_score(real_data, synthetic_data, metadata)"
   ]
  },
  {
   "cell_type": "code",
   "execution_count": 9,
   "metadata": {},
   "outputs": [
    {
     "data": {
      "application/vnd.plotly.v1+json": {
       "config": {
        "plotlyServerURL": "https://plot.ly"
       },
       "data": [
        {
         "alignmentgroup": "True",
         "customdata": [
          [
           "RangeCoverage"
          ],
          [
           "RangeCoverage"
          ],
          [
           "RangeCoverage"
          ],
          [
           "RangeCoverage"
          ],
          [
           "RangeCoverage"
          ],
          [
           "RangeCoverage"
          ],
          [
           "RangeCoverage"
          ],
          [
           "RangeCoverage"
          ],
          [
           "RangeCoverage"
          ],
          [
           "RangeCoverage"
          ]
         ],
         "hovertemplate": "<b>%{hovertext}</b><br><br>Metric=%{customdata[0]}<br>Score=%{y}<extra></extra>",
         "hovertext": [
          "start_date",
          "end_date",
          "salary",
          "duration",
          "high_perc",
          "second_perc",
          "degree_perc",
          "experience_years",
          "employability_perc",
          "mba_perc"
         ],
         "legendgroup": "RangeCoverage",
         "marker": {
          "color": "#000036",
          "pattern": {
           "shape": ""
          }
         },
         "name": "RangeCoverage",
         "offsetgroup": "RangeCoverage",
         "orientation": "v",
         "showlegend": true,
         "textposition": "auto",
         "type": "bar",
         "x": [
          "start_date",
          "end_date",
          "salary",
          "duration",
          "high_perc",
          "second_perc",
          "degree_perc",
          "experience_years",
          "employability_perc",
          "mba_perc"
         ],
         "xaxis": "x",
         "y": [
          1,
          1,
          0.42333783783783785,
          1,
          0.9807348482826732,
          1,
          1,
          0.6666666666666667,
          1,
          1
         ],
         "yaxis": "y"
        },
        {
         "alignmentgroup": "True",
         "customdata": [
          [
           "CategoryCoverage"
          ],
          [
           "CategoryCoverage"
          ],
          [
           "CategoryCoverage"
          ],
          [
           "CategoryCoverage"
          ],
          [
           "CategoryCoverage"
          ],
          [
           "CategoryCoverage"
          ]
         ],
         "hovertemplate": "<b>%{hovertext}</b><br><br>Metric=%{customdata[0]}<br>Score=%{y}<extra></extra>",
         "hovertext": [
          "high_spec",
          "mba_spec",
          "gender",
          "placed",
          "work_experience",
          "degree_type"
         ],
         "legendgroup": "CategoryCoverage",
         "marker": {
          "color": "#03AFF1",
          "pattern": {
           "shape": "/"
          }
         },
         "name": "CategoryCoverage",
         "offsetgroup": "CategoryCoverage",
         "orientation": "v",
         "showlegend": true,
         "textposition": "auto",
         "type": "bar",
         "x": [
          "high_spec",
          "mba_spec",
          "gender",
          "placed",
          "work_experience",
          "degree_type"
         ],
         "xaxis": "x",
         "y": [
          1,
          1,
          1,
          1,
          1,
          1
         ],
         "yaxis": "y"
        }
       ],
       "layout": {
        "barmode": "relative",
        "legend": {
         "title": {
          "text": "Metric"
         },
         "tracegroupgap": 0
        },
        "margin": {
         "t": 150
        },
        "plot_bgcolor": "#F5F5F8",
        "template": {
         "data": {
          "bar": [
           {
            "error_x": {
             "color": "#2a3f5f"
            },
            "error_y": {
             "color": "#2a3f5f"
            },
            "marker": {
             "line": {
              "color": "#E5ECF6",
              "width": 0.5
             },
             "pattern": {
              "fillmode": "overlay",
              "size": 10,
              "solidity": 0.2
             }
            },
            "type": "bar"
           }
          ],
          "barpolar": [
           {
            "marker": {
             "line": {
              "color": "#E5ECF6",
              "width": 0.5
             },
             "pattern": {
              "fillmode": "overlay",
              "size": 10,
              "solidity": 0.2
             }
            },
            "type": "barpolar"
           }
          ],
          "carpet": [
           {
            "aaxis": {
             "endlinecolor": "#2a3f5f",
             "gridcolor": "white",
             "linecolor": "white",
             "minorgridcolor": "white",
             "startlinecolor": "#2a3f5f"
            },
            "baxis": {
             "endlinecolor": "#2a3f5f",
             "gridcolor": "white",
             "linecolor": "white",
             "minorgridcolor": "white",
             "startlinecolor": "#2a3f5f"
            },
            "type": "carpet"
           }
          ],
          "choropleth": [
           {
            "colorbar": {
             "outlinewidth": 0,
             "ticks": ""
            },
            "type": "choropleth"
           }
          ],
          "contour": [
           {
            "colorbar": {
             "outlinewidth": 0,
             "ticks": ""
            },
            "colorscale": [
             [
              0,
              "#0d0887"
             ],
             [
              0.1111111111111111,
              "#46039f"
             ],
             [
              0.2222222222222222,
              "#7201a8"
             ],
             [
              0.3333333333333333,
              "#9c179e"
             ],
             [
              0.4444444444444444,
              "#bd3786"
             ],
             [
              0.5555555555555556,
              "#d8576b"
             ],
             [
              0.6666666666666666,
              "#ed7953"
             ],
             [
              0.7777777777777778,
              "#fb9f3a"
             ],
             [
              0.8888888888888888,
              "#fdca26"
             ],
             [
              1,
              "#f0f921"
             ]
            ],
            "type": "contour"
           }
          ],
          "contourcarpet": [
           {
            "colorbar": {
             "outlinewidth": 0,
             "ticks": ""
            },
            "type": "contourcarpet"
           }
          ],
          "heatmap": [
           {
            "colorbar": {
             "outlinewidth": 0,
             "ticks": ""
            },
            "colorscale": [
             [
              0,
              "#0d0887"
             ],
             [
              0.1111111111111111,
              "#46039f"
             ],
             [
              0.2222222222222222,
              "#7201a8"
             ],
             [
              0.3333333333333333,
              "#9c179e"
             ],
             [
              0.4444444444444444,
              "#bd3786"
             ],
             [
              0.5555555555555556,
              "#d8576b"
             ],
             [
              0.6666666666666666,
              "#ed7953"
             ],
             [
              0.7777777777777778,
              "#fb9f3a"
             ],
             [
              0.8888888888888888,
              "#fdca26"
             ],
             [
              1,
              "#f0f921"
             ]
            ],
            "type": "heatmap"
           }
          ],
          "heatmapgl": [
           {
            "colorbar": {
             "outlinewidth": 0,
             "ticks": ""
            },
            "colorscale": [
             [
              0,
              "#0d0887"
             ],
             [
              0.1111111111111111,
              "#46039f"
             ],
             [
              0.2222222222222222,
              "#7201a8"
             ],
             [
              0.3333333333333333,
              "#9c179e"
             ],
             [
              0.4444444444444444,
              "#bd3786"
             ],
             [
              0.5555555555555556,
              "#d8576b"
             ],
             [
              0.6666666666666666,
              "#ed7953"
             ],
             [
              0.7777777777777778,
              "#fb9f3a"
             ],
             [
              0.8888888888888888,
              "#fdca26"
             ],
             [
              1,
              "#f0f921"
             ]
            ],
            "type": "heatmapgl"
           }
          ],
          "histogram": [
           {
            "marker": {
             "pattern": {
              "fillmode": "overlay",
              "size": 10,
              "solidity": 0.2
             }
            },
            "type": "histogram"
           }
          ],
          "histogram2d": [
           {
            "colorbar": {
             "outlinewidth": 0,
             "ticks": ""
            },
            "colorscale": [
             [
              0,
              "#0d0887"
             ],
             [
              0.1111111111111111,
              "#46039f"
             ],
             [
              0.2222222222222222,
              "#7201a8"
             ],
             [
              0.3333333333333333,
              "#9c179e"
             ],
             [
              0.4444444444444444,
              "#bd3786"
             ],
             [
              0.5555555555555556,
              "#d8576b"
             ],
             [
              0.6666666666666666,
              "#ed7953"
             ],
             [
              0.7777777777777778,
              "#fb9f3a"
             ],
             [
              0.8888888888888888,
              "#fdca26"
             ],
             [
              1,
              "#f0f921"
             ]
            ],
            "type": "histogram2d"
           }
          ],
          "histogram2dcontour": [
           {
            "colorbar": {
             "outlinewidth": 0,
             "ticks": ""
            },
            "colorscale": [
             [
              0,
              "#0d0887"
             ],
             [
              0.1111111111111111,
              "#46039f"
             ],
             [
              0.2222222222222222,
              "#7201a8"
             ],
             [
              0.3333333333333333,
              "#9c179e"
             ],
             [
              0.4444444444444444,
              "#bd3786"
             ],
             [
              0.5555555555555556,
              "#d8576b"
             ],
             [
              0.6666666666666666,
              "#ed7953"
             ],
             [
              0.7777777777777778,
              "#fb9f3a"
             ],
             [
              0.8888888888888888,
              "#fdca26"
             ],
             [
              1,
              "#f0f921"
             ]
            ],
            "type": "histogram2dcontour"
           }
          ],
          "mesh3d": [
           {
            "colorbar": {
             "outlinewidth": 0,
             "ticks": ""
            },
            "type": "mesh3d"
           }
          ],
          "parcoords": [
           {
            "line": {
             "colorbar": {
              "outlinewidth": 0,
              "ticks": ""
             }
            },
            "type": "parcoords"
           }
          ],
          "pie": [
           {
            "automargin": true,
            "type": "pie"
           }
          ],
          "scatter": [
           {
            "fillpattern": {
             "fillmode": "overlay",
             "size": 10,
             "solidity": 0.2
            },
            "type": "scatter"
           }
          ],
          "scatter3d": [
           {
            "line": {
             "colorbar": {
              "outlinewidth": 0,
              "ticks": ""
             }
            },
            "marker": {
             "colorbar": {
              "outlinewidth": 0,
              "ticks": ""
             }
            },
            "type": "scatter3d"
           }
          ],
          "scattercarpet": [
           {
            "marker": {
             "colorbar": {
              "outlinewidth": 0,
              "ticks": ""
             }
            },
            "type": "scattercarpet"
           }
          ],
          "scattergeo": [
           {
            "marker": {
             "colorbar": {
              "outlinewidth": 0,
              "ticks": ""
             }
            },
            "type": "scattergeo"
           }
          ],
          "scattergl": [
           {
            "marker": {
             "colorbar": {
              "outlinewidth": 0,
              "ticks": ""
             }
            },
            "type": "scattergl"
           }
          ],
          "scattermapbox": [
           {
            "marker": {
             "colorbar": {
              "outlinewidth": 0,
              "ticks": ""
             }
            },
            "type": "scattermapbox"
           }
          ],
          "scatterpolar": [
           {
            "marker": {
             "colorbar": {
              "outlinewidth": 0,
              "ticks": ""
             }
            },
            "type": "scatterpolar"
           }
          ],
          "scatterpolargl": [
           {
            "marker": {
             "colorbar": {
              "outlinewidth": 0,
              "ticks": ""
             }
            },
            "type": "scatterpolargl"
           }
          ],
          "scatterternary": [
           {
            "marker": {
             "colorbar": {
              "outlinewidth": 0,
              "ticks": ""
             }
            },
            "type": "scatterternary"
           }
          ],
          "surface": [
           {
            "colorbar": {
             "outlinewidth": 0,
             "ticks": ""
            },
            "colorscale": [
             [
              0,
              "#0d0887"
             ],
             [
              0.1111111111111111,
              "#46039f"
             ],
             [
              0.2222222222222222,
              "#7201a8"
             ],
             [
              0.3333333333333333,
              "#9c179e"
             ],
             [
              0.4444444444444444,
              "#bd3786"
             ],
             [
              0.5555555555555556,
              "#d8576b"
             ],
             [
              0.6666666666666666,
              "#ed7953"
             ],
             [
              0.7777777777777778,
              "#fb9f3a"
             ],
             [
              0.8888888888888888,
              "#fdca26"
             ],
             [
              1,
              "#f0f921"
             ]
            ],
            "type": "surface"
           }
          ],
          "table": [
           {
            "cells": {
             "fill": {
              "color": "#EBF0F8"
             },
             "line": {
              "color": "white"
             }
            },
            "header": {
             "fill": {
              "color": "#C8D4E3"
             },
             "line": {
              "color": "white"
             }
            },
            "type": "table"
           }
          ]
         },
         "layout": {
          "annotationdefaults": {
           "arrowcolor": "#2a3f5f",
           "arrowhead": 0,
           "arrowwidth": 1
          },
          "autotypenumbers": "strict",
          "coloraxis": {
           "colorbar": {
            "outlinewidth": 0,
            "ticks": ""
           }
          },
          "colorscale": {
           "diverging": [
            [
             0,
             "#8e0152"
            ],
            [
             0.1,
             "#c51b7d"
            ],
            [
             0.2,
             "#de77ae"
            ],
            [
             0.3,
             "#f1b6da"
            ],
            [
             0.4,
             "#fde0ef"
            ],
            [
             0.5,
             "#f7f7f7"
            ],
            [
             0.6,
             "#e6f5d0"
            ],
            [
             0.7,
             "#b8e186"
            ],
            [
             0.8,
             "#7fbc41"
            ],
            [
             0.9,
             "#4d9221"
            ],
            [
             1,
             "#276419"
            ]
           ],
           "sequential": [
            [
             0,
             "#0d0887"
            ],
            [
             0.1111111111111111,
             "#46039f"
            ],
            [
             0.2222222222222222,
             "#7201a8"
            ],
            [
             0.3333333333333333,
             "#9c179e"
            ],
            [
             0.4444444444444444,
             "#bd3786"
            ],
            [
             0.5555555555555556,
             "#d8576b"
            ],
            [
             0.6666666666666666,
             "#ed7953"
            ],
            [
             0.7777777777777778,
             "#fb9f3a"
            ],
            [
             0.8888888888888888,
             "#fdca26"
            ],
            [
             1,
             "#f0f921"
            ]
           ],
           "sequentialminus": [
            [
             0,
             "#0d0887"
            ],
            [
             0.1111111111111111,
             "#46039f"
            ],
            [
             0.2222222222222222,
             "#7201a8"
            ],
            [
             0.3333333333333333,
             "#9c179e"
            ],
            [
             0.4444444444444444,
             "#bd3786"
            ],
            [
             0.5555555555555556,
             "#d8576b"
            ],
            [
             0.6666666666666666,
             "#ed7953"
            ],
            [
             0.7777777777777778,
             "#fb9f3a"
            ],
            [
             0.8888888888888888,
             "#fdca26"
            ],
            [
             1,
             "#f0f921"
            ]
           ]
          },
          "colorway": [
           "#636efa",
           "#EF553B",
           "#00cc96",
           "#ab63fa",
           "#FFA15A",
           "#19d3f3",
           "#FF6692",
           "#B6E880",
           "#FF97FF",
           "#FECB52"
          ],
          "font": {
           "color": "#2a3f5f"
          },
          "geo": {
           "bgcolor": "white",
           "lakecolor": "white",
           "landcolor": "#E5ECF6",
           "showlakes": true,
           "showland": true,
           "subunitcolor": "white"
          },
          "hoverlabel": {
           "align": "left"
          },
          "hovermode": "closest",
          "mapbox": {
           "style": "light"
          },
          "paper_bgcolor": "white",
          "plot_bgcolor": "#E5ECF6",
          "polar": {
           "angularaxis": {
            "gridcolor": "white",
            "linecolor": "white",
            "ticks": ""
           },
           "bgcolor": "#E5ECF6",
           "radialaxis": {
            "gridcolor": "white",
            "linecolor": "white",
            "ticks": ""
           }
          },
          "scene": {
           "xaxis": {
            "backgroundcolor": "#E5ECF6",
            "gridcolor": "white",
            "gridwidth": 2,
            "linecolor": "white",
            "showbackground": true,
            "ticks": "",
            "zerolinecolor": "white"
           },
           "yaxis": {
            "backgroundcolor": "#E5ECF6",
            "gridcolor": "white",
            "gridwidth": 2,
            "linecolor": "white",
            "showbackground": true,
            "ticks": "",
            "zerolinecolor": "white"
           },
           "zaxis": {
            "backgroundcolor": "#E5ECF6",
            "gridcolor": "white",
            "gridwidth": 2,
            "linecolor": "white",
            "showbackground": true,
            "ticks": "",
            "zerolinecolor": "white"
           }
          },
          "shapedefaults": {
           "line": {
            "color": "#2a3f5f"
           }
          },
          "ternary": {
           "aaxis": {
            "gridcolor": "white",
            "linecolor": "white",
            "ticks": ""
           },
           "baxis": {
            "gridcolor": "white",
            "linecolor": "white",
            "ticks": ""
           },
           "bgcolor": "#E5ECF6",
           "caxis": {
            "gridcolor": "white",
            "linecolor": "white",
            "ticks": ""
           }
          },
          "title": {
           "x": 0.05
          },
          "xaxis": {
           "automargin": true,
           "gridcolor": "white",
           "linecolor": "white",
           "ticks": "",
           "title": {
            "standoff": 15
           },
           "zerolinecolor": "white",
           "zerolinewidth": 2
          },
          "yaxis": {
           "automargin": true,
           "gridcolor": "white",
           "linecolor": "white",
           "ticks": "",
           "title": {
            "standoff": 15
           },
           "zerolinecolor": "white",
           "zerolinewidth": 2
          }
         }
        },
        "title": {
         "text": "Data Diagnostics: Column Coverage (Average Score=0.94)"
        },
        "xaxis": {
         "anchor": "y",
         "categoryorder": "total ascending",
         "domain": [
          0,
          1
         ],
         "title": {
          "text": "Column"
         }
        },
        "yaxis": {
         "anchor": "x",
         "domain": [
          0,
          1
         ],
         "range": [
          0,
          1
         ],
         "title": {
          "text": "Diagnostic Score"
         }
        }
       }
      }
     },
     "metadata": {},
     "output_type": "display_data"
    }
   ],
   "source": [
    "from sdmetrics.reports.single_table._properties import Coverage\n",
    "from sdmetrics.demos import load_demo\n",
    "\n",
    "real_data, synthetic_data, metadata = load_demo(modality='single_table')\n",
    "\n",
    "coverage = Coverage()\n",
    "score = coverage.get_score(real_data, synthetic_data, metadata)\n",
    "coverage.get_visualization()"
   ]
  },
  {
   "cell_type": "code",
   "execution_count": 14,
   "metadata": {},
   "outputs": [
    {
     "data": {
      "text/plain": [
       "[1.0,\n",
       " 1.0,\n",
       " 0.42333783783783785,\n",
       " 1.0,\n",
       " 0.9807348482826732,\n",
       " 1.0,\n",
       " 1.0,\n",
       " 1.0,\n",
       " 1.0,\n",
       " 1.0,\n",
       " 1.0,\n",
       " 0.6666666666666667,\n",
       " 1.0,\n",
       " 1.0,\n",
       " 1.0,\n",
       " 1.0]"
      ]
     },
     "execution_count": 14,
     "metadata": {},
     "output_type": "execute_result"
    }
   ],
   "source": [
    "list(coverage._details['Score'])"
   ]
  },
  {
   "cell_type": "code",
   "execution_count": 4,
   "metadata": {},
   "outputs": [
    {
     "data": {
      "text/html": [
       "<div>\n",
       "<style scoped>\n",
       "    .dataframe tbody tr th:only-of-type {\n",
       "        vertical-align: middle;\n",
       "    }\n",
       "\n",
       "    .dataframe tbody tr th {\n",
       "        vertical-align: top;\n",
       "    }\n",
       "\n",
       "    .dataframe thead th {\n",
       "        text-align: right;\n",
       "    }\n",
       "</style>\n",
       "<table border=\"1\" class=\"dataframe\">\n",
       "  <thead>\n",
       "    <tr style=\"text-align: right;\">\n",
       "      <th></th>\n",
       "      <th>Column</th>\n",
       "      <th>Metric</th>\n",
       "      <th>Score</th>\n",
       "      <th>Error</th>\n",
       "    </tr>\n",
       "  </thead>\n",
       "  <tbody>\n",
       "    <tr>\n",
       "      <th>0</th>\n",
       "      <td>start_date</td>\n",
       "      <td>RangeCoverage</td>\n",
       "      <td>NaN</td>\n",
       "      <td>Error: TypeError '&lt;=' not supported between in...</td>\n",
       "    </tr>\n",
       "    <tr>\n",
       "      <th>1</th>\n",
       "      <td>end_date</td>\n",
       "      <td>RangeCoverage</td>\n",
       "      <td>1.000000</td>\n",
       "      <td>None</td>\n",
       "    </tr>\n",
       "    <tr>\n",
       "      <th>2</th>\n",
       "      <td>salary</td>\n",
       "      <td>RangeCoverage</td>\n",
       "      <td>0.423338</td>\n",
       "      <td>None</td>\n",
       "    </tr>\n",
       "    <tr>\n",
       "      <th>3</th>\n",
       "      <td>duration</td>\n",
       "      <td>RangeCoverage</td>\n",
       "      <td>1.000000</td>\n",
       "      <td>None</td>\n",
       "    </tr>\n",
       "    <tr>\n",
       "      <th>4</th>\n",
       "      <td>high_perc</td>\n",
       "      <td>RangeCoverage</td>\n",
       "      <td>0.980735</td>\n",
       "      <td>None</td>\n",
       "    </tr>\n",
       "    <tr>\n",
       "      <th>5</th>\n",
       "      <td>high_spec</td>\n",
       "      <td>CategoryCoverage</td>\n",
       "      <td>1.000000</td>\n",
       "      <td>None</td>\n",
       "    </tr>\n",
       "    <tr>\n",
       "      <th>6</th>\n",
       "      <td>mba_spec</td>\n",
       "      <td>CategoryCoverage</td>\n",
       "      <td>1.000000</td>\n",
       "      <td>None</td>\n",
       "    </tr>\n",
       "    <tr>\n",
       "      <th>7</th>\n",
       "      <td>second_perc</td>\n",
       "      <td>RangeCoverage</td>\n",
       "      <td>1.000000</td>\n",
       "      <td>None</td>\n",
       "    </tr>\n",
       "    <tr>\n",
       "      <th>8</th>\n",
       "      <td>gender</td>\n",
       "      <td>CategoryCoverage</td>\n",
       "      <td>1.000000</td>\n",
       "      <td>None</td>\n",
       "    </tr>\n",
       "    <tr>\n",
       "      <th>9</th>\n",
       "      <td>degree_perc</td>\n",
       "      <td>RangeCoverage</td>\n",
       "      <td>1.000000</td>\n",
       "      <td>None</td>\n",
       "    </tr>\n",
       "    <tr>\n",
       "      <th>10</th>\n",
       "      <td>placed</td>\n",
       "      <td>CategoryCoverage</td>\n",
       "      <td>1.000000</td>\n",
       "      <td>None</td>\n",
       "    </tr>\n",
       "    <tr>\n",
       "      <th>11</th>\n",
       "      <td>experience_years</td>\n",
       "      <td>RangeCoverage</td>\n",
       "      <td>0.666667</td>\n",
       "      <td>None</td>\n",
       "    </tr>\n",
       "    <tr>\n",
       "      <th>12</th>\n",
       "      <td>employability_perc</td>\n",
       "      <td>RangeCoverage</td>\n",
       "      <td>NaN</td>\n",
       "      <td>Error: TypeError '&lt;=' not supported between in...</td>\n",
       "    </tr>\n",
       "    <tr>\n",
       "      <th>13</th>\n",
       "      <td>mba_perc</td>\n",
       "      <td>RangeCoverage</td>\n",
       "      <td>1.000000</td>\n",
       "      <td>None</td>\n",
       "    </tr>\n",
       "    <tr>\n",
       "      <th>14</th>\n",
       "      <td>work_experience</td>\n",
       "      <td>CategoryCoverage</td>\n",
       "      <td>1.000000</td>\n",
       "      <td>None</td>\n",
       "    </tr>\n",
       "    <tr>\n",
       "      <th>15</th>\n",
       "      <td>degree_type</td>\n",
       "      <td>CategoryCoverage</td>\n",
       "      <td>1.000000</td>\n",
       "      <td>None</td>\n",
       "    </tr>\n",
       "  </tbody>\n",
       "</table>\n",
       "</div>"
      ],
      "text/plain": [
       "                Column            Metric     Score  \\\n",
       "0           start_date     RangeCoverage       NaN   \n",
       "1             end_date     RangeCoverage  1.000000   \n",
       "2               salary     RangeCoverage  0.423338   \n",
       "3             duration     RangeCoverage  1.000000   \n",
       "4            high_perc     RangeCoverage  0.980735   \n",
       "5            high_spec  CategoryCoverage  1.000000   \n",
       "6             mba_spec  CategoryCoverage  1.000000   \n",
       "7          second_perc     RangeCoverage  1.000000   \n",
       "8               gender  CategoryCoverage  1.000000   \n",
       "9          degree_perc     RangeCoverage  1.000000   \n",
       "10              placed  CategoryCoverage  1.000000   \n",
       "11    experience_years     RangeCoverage  0.666667   \n",
       "12  employability_perc     RangeCoverage       NaN   \n",
       "13            mba_perc     RangeCoverage  1.000000   \n",
       "14     work_experience  CategoryCoverage  1.000000   \n",
       "15         degree_type  CategoryCoverage  1.000000   \n",
       "\n",
       "                                                Error  \n",
       "0   Error: TypeError '<=' not supported between in...  \n",
       "1                                                None  \n",
       "2                                                None  \n",
       "3                                                None  \n",
       "4                                                None  \n",
       "5                                                None  \n",
       "6                                                None  \n",
       "7                                                None  \n",
       "8                                                None  \n",
       "9                                                None  \n",
       "10                                               None  \n",
       "11                                               None  \n",
       "12  Error: TypeError '<=' not supported between in...  \n",
       "13                                               None  \n",
       "14                                               None  \n",
       "15                                               None  "
      ]
     },
     "execution_count": 4,
     "metadata": {},
     "output_type": "execute_result"
    }
   ],
   "source": [
    "coverage._details"
   ]
  },
  {
   "cell_type": "code",
   "execution_count": 1,
   "metadata": {},
   "outputs": [],
   "source": [
    "import pandas as pd\n",
    "\n",
    "from sdmetrics.demos import load_demo\n",
    "from sdmetrics.reports.single_table._properties import Boundary\n",
    "\n",
    "real_data, synthetic_data, metadata = load_demo(modality='single_table')\n",
    "boundary_property = Boundary()\n",
    "\n",
    "# Run\n",
    "score = boundary_property.get_score(real_data, synthetic_data, metadata)\n"
   ]
  },
  {
   "cell_type": "code",
   "execution_count": 5,
   "metadata": {},
   "outputs": [
    {
     "data": {
      "text/plain": [
       "[0.8503937007874016,\n",
       " 0.8615384615384616,\n",
       " 0.9444444444444444,\n",
       " 1.0,\n",
       " 0.8651162790697674,\n",
       " 0.9255813953488372,\n",
       " 0.9441860465116279,\n",
       " 1.0,\n",
       " 0.8883720930232558,\n",
       " 0.8930232558139535]"
      ]
     },
     "execution_count": 5,
     "metadata": {},
     "output_type": "execute_result"
    }
   ],
   "source": [
    "list(boundary_property._details['Score'])"
   ]
  },
  {
   "cell_type": "code",
   "execution_count": 6,
   "metadata": {},
   "outputs": [
    {
     "data": {
      "text/plain": [
       "0.92"
      ]
     },
     "execution_count": 6,
     "metadata": {},
     "output_type": "execute_result"
    }
   ],
   "source": [
    "score"
   ]
  },
  {
   "cell_type": "code",
   "execution_count": 8,
   "metadata": {},
   "outputs": [
    {
     "data": {
      "text/plain": [
       "['start_date',\n",
       " 'end_date',\n",
       " 'salary',\n",
       " 'duration',\n",
       " 'student_id',\n",
       " 'high_perc',\n",
       " 'high_spec',\n",
       " 'mba_spec',\n",
       " 'second_perc',\n",
       " 'gender',\n",
       " 'degree_perc',\n",
       " 'placed',\n",
       " 'experience_years',\n",
       " 'employability_perc',\n",
       " 'mba_perc',\n",
       " 'work_experience',\n",
       " 'degree_type']"
      ]
     },
     "execution_count": 8,
     "metadata": {},
     "output_type": "execute_result"
    }
   ],
   "source": [
    "list(boundary_property._details['Column'])"
   ]
  },
  {
   "cell_type": "code",
   "execution_count": 13,
   "metadata": {},
   "outputs": [],
   "source": [
    "expected_details = pd.DataFrame({\n",
    "    'Column': [\n",
    "        'start_date', 'end_date', 'salary', 'duration', 'student_id', 'high_perc',\n",
    "        'high_spec', 'mba_spec', 'second_perc', 'gender', 'degree_perc', 'placed',\n",
    "        'experience_years', 'employability_perc', 'mba_perc', 'work_experience',\n",
    "        'degree_type'\n",
    "    ],\n",
    "    'Metric': ['BoundaryAdherence'] * 17,\n",
    "    'Score': [\n",
    "        0.8503937007874016, 0.8615384615384616, 0.9444444444444444, 1.0, 0.0,\n",
    "        0.8651162790697674, 1.0, 1.0, 0.9255813953488372, 1.0, 0.9441860465116279,\n",
    "        1.0, 1.0, 0.8883720930232558, 0.8930232558139535, 1.0, 1.0\n",
    "    ]\n",
    "})"
   ]
  },
  {
   "cell_type": "code",
   "execution_count": 16,
   "metadata": {},
   "outputs": [
    {
     "data": {
      "text/plain": [
       "{'start_date': {'sdtype': 'datetime', 'datetime_format': '%Y-%m-%d'},\n",
       " 'end_date': {'sdtype': 'datetime', 'datetime_format': '%Y-%m-%d'},\n",
       " 'salary': {'sdtype': 'numerical', 'computer_representation': 'Int64'},\n",
       " 'duration': {'sdtype': 'numerical', 'computer_representation': 'Int64'},\n",
       " 'student_id': {'sdtype': 'id', 'regex_format': '\\\\d{30}'},\n",
       " 'high_perc': {'sdtype': 'numerical', 'computer_representation': 'Float'},\n",
       " 'high_spec': {'sdtype': 'categorical'},\n",
       " 'mba_spec': {'sdtype': 'categorical'},\n",
       " 'second_perc': {'sdtype': 'numerical', 'computer_representation': 'Float'},\n",
       " 'gender': {'sdtype': 'categorical'},\n",
       " 'degree_perc': {'sdtype': 'numerical', 'computer_representation': 'Float'},\n",
       " 'placed': {'sdtype': 'boolean'},\n",
       " 'experience_years': {'sdtype': 'numerical',\n",
       "  'computer_representation': 'Float'},\n",
       " 'employability_perc': {'sdtype': 'numerical',\n",
       "  'computer_representation': 'Float'},\n",
       " 'mba_perc': {'sdtype': 'numerical', 'computer_representation': 'Float'},\n",
       " 'work_experience': {'sdtype': 'boolean'},\n",
       " 'degree_type': {'sdtype': 'categorical'}}"
      ]
     },
     "execution_count": 16,
     "metadata": {},
     "output_type": "execute_result"
    }
   ],
   "source": [
    "metadata['columns']"
   ]
  },
  {
   "cell_type": "code",
   "execution_count": 2,
   "metadata": {},
   "outputs": [
    {
     "name": "stdout",
     "output_type": "stream",
     "text": [
      "0.96\n"
     ]
    }
   ],
   "source": [
    "from sdmetrics.demos import load_demo\n",
    "from sdmetrics.reports.multi_table._properties import (\n",
    "    Boundary, ColumnPairTrends, ColumnShapes, Coverage, Synthesis)\n",
    "\n",
    "real_data, synthetic_data, metadata = load_demo(modality='multi_table')\n",
    "synthesis = Synthesis()\n",
    "\n",
    "# Run\n",
    "result = synthesis.get_score(real_data, synthetic_data, metadata)\n",
    "print(result)"
   ]
  },
  {
   "cell_type": "code",
   "execution_count": 4,
   "metadata": {},
   "outputs": [
    {
     "data": {
      "text/plain": [
       "{'users':    user_id country gender  age\n",
       " 0        0      US      M   34\n",
       " 1        1      UK      F   23\n",
       " 2        2      ES    NaN   44\n",
       " 3        3      UK      M   22\n",
       " 4        4      US      F   54\n",
       " 5        5      DE      M   57\n",
       " 6        6      BG      F   45\n",
       " 7        7      ES    NaN   41\n",
       " 8        8      FR      F   23\n",
       " 9        9      UK    NaN   30,\n",
       " 'sessions':    session_id  user_id  device       os\n",
       " 0           0        0  mobile  android\n",
       " 1           1        1  tablet      ios\n",
       " 2           2        1  tablet  android\n",
       " 3           3        2  mobile  android\n",
       " 4           4        4  mobile      ios\n",
       " 5           5        5  mobile  android\n",
       " 6           6        6  mobile      ios\n",
       " 7           7        6  tablet      ios\n",
       " 8           8        6  mobile      ios\n",
       " 9           9        8  tablet      ios,\n",
       " 'transactions':    transaction_id  session_id           timestamp  amount  approved\n",
       " 0               0           0 2019-01-01 12:34:32   100.0      True\n",
       " 1               1           0 2019-01-01 12:42:21    55.3      True\n",
       " 2               2           1 2019-01-07 17:23:11    79.5      True\n",
       " 3               3           3 2019-01-10 11:08:57   112.1     False\n",
       " 4               4           5 2019-01-10 21:54:08   110.0     False\n",
       " 5               5           5 2019-01-11 11:21:20    76.3      True\n",
       " 6               6           7 2019-01-22 14:44:10    89.5      True\n",
       " 7               7           8 2019-01-23 10:14:09   132.1     False\n",
       " 8               8           9 2019-01-27 16:09:17    68.0      True\n",
       " 9               9           9 2019-01-29 12:10:48    99.9      True}"
      ]
     },
     "execution_count": 4,
     "metadata": {},
     "output_type": "execute_result"
    }
   ],
   "source": [
    "real_data"
   ]
  },
  {
   "cell_type": "code",
   "execution_count": 7,
   "metadata": {},
   "outputs": [
    {
     "ename": "AttributeError",
     "evalue": "'Synthesis' object has no attribute '_get_details'",
     "output_type": "error",
     "traceback": [
      "\u001b[0;31m---------------------------------------------------------------------------\u001b[0m",
      "\u001b[0;31mAttributeError\u001b[0m                            Traceback (most recent call last)",
      "Cell \u001b[0;32mIn[7], line 1\u001b[0m\n\u001b[0;32m----> 1\u001b[0m synthesis\u001b[39m.\u001b[39;49m_get_details(table_name\u001b[39m=\u001b[39m\u001b[39m'\u001b[39m\u001b[39musers\u001b[39m\u001b[39m'\u001b[39m)\n",
      "\u001b[0;31mAttributeError\u001b[0m: 'Synthesis' object has no attribute '_get_details'"
     ]
    }
   ],
   "source": [
    "synthesis._get_details(table_name='users')"
   ]
  },
  {
   "cell_type": "code",
   "execution_count": 3,
   "metadata": {},
   "outputs": [
    {
     "name": "stdout",
     "output_type": "stream",
     "text": [
      "Coverage\n"
     ]
    },
    {
     "ename": "TypeError",
     "evalue": "Could not convert high_specmba_specgenderplacedwork_experiencedegree_type to numeric",
     "output_type": "error",
     "traceback": [
      "\u001b[0;31m---------------------------------------------------------------------------\u001b[0m",
      "\u001b[0;31mNotImplementedError\u001b[0m                       Traceback (most recent call last)",
      "File \u001b[0;32m~/miniconda3/envs/issue-392-diagnostic-report-single-table/lib/python3.9/site-packages/pandas/core/groupby/groupby.py:1490\u001b[0m, in \u001b[0;36mGroupBy._cython_agg_general.<locals>.array_func\u001b[0;34m(values)\u001b[0m\n\u001b[1;32m   1489\u001b[0m \u001b[39mtry\u001b[39;00m:\n\u001b[0;32m-> 1490\u001b[0m     result \u001b[39m=\u001b[39m \u001b[39mself\u001b[39;49m\u001b[39m.\u001b[39;49mgrouper\u001b[39m.\u001b[39;49m_cython_operation(\n\u001b[1;32m   1491\u001b[0m         \u001b[39m\"\u001b[39;49m\u001b[39maggregate\u001b[39;49m\u001b[39m\"\u001b[39;49m,\n\u001b[1;32m   1492\u001b[0m         values,\n\u001b[1;32m   1493\u001b[0m         how,\n\u001b[1;32m   1494\u001b[0m         axis\u001b[39m=\u001b[39;49mdata\u001b[39m.\u001b[39;49mndim \u001b[39m-\u001b[39;49m \u001b[39m1\u001b[39;49m,\n\u001b[1;32m   1495\u001b[0m         min_count\u001b[39m=\u001b[39;49mmin_count,\n\u001b[1;32m   1496\u001b[0m         \u001b[39m*\u001b[39;49m\u001b[39m*\u001b[39;49mkwargs,\n\u001b[1;32m   1497\u001b[0m     )\n\u001b[1;32m   1498\u001b[0m \u001b[39mexcept\u001b[39;00m \u001b[39mNotImplementedError\u001b[39;00m:\n\u001b[1;32m   1499\u001b[0m     \u001b[39m# generally if we have numeric_only=False\u001b[39;00m\n\u001b[1;32m   1500\u001b[0m     \u001b[39m# and non-applicable functions\u001b[39;00m\n\u001b[1;32m   1501\u001b[0m     \u001b[39m# try to python agg\u001b[39;00m\n\u001b[1;32m   1502\u001b[0m     \u001b[39m# TODO: shouldn't min_count matter?\u001b[39;00m\n",
      "File \u001b[0;32m~/miniconda3/envs/issue-392-diagnostic-report-single-table/lib/python3.9/site-packages/pandas/core/groupby/ops.py:959\u001b[0m, in \u001b[0;36mBaseGrouper._cython_operation\u001b[0;34m(self, kind, values, how, axis, min_count, **kwargs)\u001b[0m\n\u001b[1;32m    958\u001b[0m ngroups \u001b[39m=\u001b[39m \u001b[39mself\u001b[39m\u001b[39m.\u001b[39mngroups\n\u001b[0;32m--> 959\u001b[0m \u001b[39mreturn\u001b[39;00m cy_op\u001b[39m.\u001b[39;49mcython_operation(\n\u001b[1;32m    960\u001b[0m     values\u001b[39m=\u001b[39;49mvalues,\n\u001b[1;32m    961\u001b[0m     axis\u001b[39m=\u001b[39;49maxis,\n\u001b[1;32m    962\u001b[0m     min_count\u001b[39m=\u001b[39;49mmin_count,\n\u001b[1;32m    963\u001b[0m     comp_ids\u001b[39m=\u001b[39;49mids,\n\u001b[1;32m    964\u001b[0m     ngroups\u001b[39m=\u001b[39;49mngroups,\n\u001b[1;32m    965\u001b[0m     \u001b[39m*\u001b[39;49m\u001b[39m*\u001b[39;49mkwargs,\n\u001b[1;32m    966\u001b[0m )\n",
      "File \u001b[0;32m~/miniconda3/envs/issue-392-diagnostic-report-single-table/lib/python3.9/site-packages/pandas/core/groupby/ops.py:657\u001b[0m, in \u001b[0;36mWrappedCythonOp.cython_operation\u001b[0;34m(self, values, axis, min_count, comp_ids, ngroups, **kwargs)\u001b[0m\n\u001b[1;32m    649\u001b[0m     \u001b[39mreturn\u001b[39;00m \u001b[39mself\u001b[39m\u001b[39m.\u001b[39m_ea_wrap_cython_operation(\n\u001b[1;32m    650\u001b[0m         values,\n\u001b[1;32m    651\u001b[0m         min_count\u001b[39m=\u001b[39mmin_count,\n\u001b[0;32m   (...)\u001b[0m\n\u001b[1;32m    654\u001b[0m         \u001b[39m*\u001b[39m\u001b[39m*\u001b[39mkwargs,\n\u001b[1;32m    655\u001b[0m     )\n\u001b[0;32m--> 657\u001b[0m \u001b[39mreturn\u001b[39;00m \u001b[39mself\u001b[39;49m\u001b[39m.\u001b[39;49m_cython_op_ndim_compat(\n\u001b[1;32m    658\u001b[0m     values,\n\u001b[1;32m    659\u001b[0m     min_count\u001b[39m=\u001b[39;49mmin_count,\n\u001b[1;32m    660\u001b[0m     ngroups\u001b[39m=\u001b[39;49mngroups,\n\u001b[1;32m    661\u001b[0m     comp_ids\u001b[39m=\u001b[39;49mcomp_ids,\n\u001b[1;32m    662\u001b[0m     mask\u001b[39m=\u001b[39;49m\u001b[39mNone\u001b[39;49;00m,\n\u001b[1;32m    663\u001b[0m     \u001b[39m*\u001b[39;49m\u001b[39m*\u001b[39;49mkwargs,\n\u001b[1;32m    664\u001b[0m )\n",
      "File \u001b[0;32m~/miniconda3/envs/issue-392-diagnostic-report-single-table/lib/python3.9/site-packages/pandas/core/groupby/ops.py:497\u001b[0m, in \u001b[0;36mWrappedCythonOp._cython_op_ndim_compat\u001b[0;34m(self, values, min_count, ngroups, comp_ids, mask, result_mask, **kwargs)\u001b[0m\n\u001b[1;32m    495\u001b[0m     \u001b[39mreturn\u001b[39;00m res\u001b[39m.\u001b[39mT\n\u001b[0;32m--> 497\u001b[0m \u001b[39mreturn\u001b[39;00m \u001b[39mself\u001b[39;49m\u001b[39m.\u001b[39;49m_call_cython_op(\n\u001b[1;32m    498\u001b[0m     values,\n\u001b[1;32m    499\u001b[0m     min_count\u001b[39m=\u001b[39;49mmin_count,\n\u001b[1;32m    500\u001b[0m     ngroups\u001b[39m=\u001b[39;49mngroups,\n\u001b[1;32m    501\u001b[0m     comp_ids\u001b[39m=\u001b[39;49mcomp_ids,\n\u001b[1;32m    502\u001b[0m     mask\u001b[39m=\u001b[39;49mmask,\n\u001b[1;32m    503\u001b[0m     result_mask\u001b[39m=\u001b[39;49mresult_mask,\n\u001b[1;32m    504\u001b[0m     \u001b[39m*\u001b[39;49m\u001b[39m*\u001b[39;49mkwargs,\n\u001b[1;32m    505\u001b[0m )\n",
      "File \u001b[0;32m~/miniconda3/envs/issue-392-diagnostic-report-single-table/lib/python3.9/site-packages/pandas/core/groupby/ops.py:541\u001b[0m, in \u001b[0;36mWrappedCythonOp._call_cython_op\u001b[0;34m(self, values, min_count, ngroups, comp_ids, mask, result_mask, **kwargs)\u001b[0m\n\u001b[1;32m    540\u001b[0m out_shape \u001b[39m=\u001b[39m \u001b[39mself\u001b[39m\u001b[39m.\u001b[39m_get_output_shape(ngroups, values)\n\u001b[0;32m--> 541\u001b[0m func \u001b[39m=\u001b[39m \u001b[39mself\u001b[39;49m\u001b[39m.\u001b[39;49m_get_cython_function(\u001b[39mself\u001b[39;49m\u001b[39m.\u001b[39;49mkind, \u001b[39mself\u001b[39;49m\u001b[39m.\u001b[39;49mhow, values\u001b[39m.\u001b[39;49mdtype, is_numeric)\n\u001b[1;32m    542\u001b[0m values \u001b[39m=\u001b[39m \u001b[39mself\u001b[39m\u001b[39m.\u001b[39m_get_cython_vals(values)\n",
      "File \u001b[0;32m~/miniconda3/envs/issue-392-diagnostic-report-single-table/lib/python3.9/site-packages/pandas/core/groupby/ops.py:173\u001b[0m, in \u001b[0;36mWrappedCythonOp._get_cython_function\u001b[0;34m(cls, kind, how, dtype, is_numeric)\u001b[0m\n\u001b[1;32m    171\u001b[0m \u001b[39mif\u001b[39;00m \u001b[39m\"\u001b[39m\u001b[39mobject\u001b[39m\u001b[39m\"\u001b[39m \u001b[39mnot\u001b[39;00m \u001b[39min\u001b[39;00m f\u001b[39m.\u001b[39m__signatures__:\n\u001b[1;32m    172\u001b[0m     \u001b[39m# raise NotImplementedError here rather than TypeError later\u001b[39;00m\n\u001b[0;32m--> 173\u001b[0m     \u001b[39mraise\u001b[39;00m \u001b[39mNotImplementedError\u001b[39;00m(\n\u001b[1;32m    174\u001b[0m         \u001b[39mf\u001b[39m\u001b[39m\"\u001b[39m\u001b[39mfunction is not implemented for this dtype: \u001b[39m\u001b[39m\"\u001b[39m\n\u001b[1;32m    175\u001b[0m         \u001b[39mf\u001b[39m\u001b[39m\"\u001b[39m\u001b[39m[how->\u001b[39m\u001b[39m{\u001b[39;00mhow\u001b[39m}\u001b[39;00m\u001b[39m,dtype->\u001b[39m\u001b[39m{\u001b[39;00mdtype_str\u001b[39m}\u001b[39;00m\u001b[39m]\u001b[39m\u001b[39m\"\u001b[39m\n\u001b[1;32m    176\u001b[0m     )\n\u001b[1;32m    177\u001b[0m \u001b[39mreturn\u001b[39;00m f\n",
      "\u001b[0;31mNotImplementedError\u001b[0m: function is not implemented for this dtype: [how->mean,dtype->object]",
      "\nDuring handling of the above exception, another exception occurred:\n",
      "\u001b[0;31mValueError\u001b[0m                                Traceback (most recent call last)",
      "File \u001b[0;32m~/miniconda3/envs/issue-392-diagnostic-report-single-table/lib/python3.9/site-packages/pandas/core/nanops.py:1692\u001b[0m, in \u001b[0;36m_ensure_numeric\u001b[0;34m(x)\u001b[0m\n\u001b[1;32m   1691\u001b[0m \u001b[39mtry\u001b[39;00m:\n\u001b[0;32m-> 1692\u001b[0m     x \u001b[39m=\u001b[39m \u001b[39mfloat\u001b[39;49m(x)\n\u001b[1;32m   1693\u001b[0m \u001b[39mexcept\u001b[39;00m (\u001b[39mTypeError\u001b[39;00m, \u001b[39mValueError\u001b[39;00m):\n\u001b[1;32m   1694\u001b[0m     \u001b[39m# e.g. \"1+1j\" or \"foo\"\u001b[39;00m\n",
      "\u001b[0;31mValueError\u001b[0m: could not convert string to float: 'high_specmba_specgenderplacedwork_experiencedegree_type'",
      "\nDuring handling of the above exception, another exception occurred:\n",
      "\u001b[0;31mValueError\u001b[0m                                Traceback (most recent call last)",
      "File \u001b[0;32m~/miniconda3/envs/issue-392-diagnostic-report-single-table/lib/python3.9/site-packages/pandas/core/nanops.py:1696\u001b[0m, in \u001b[0;36m_ensure_numeric\u001b[0;34m(x)\u001b[0m\n\u001b[1;32m   1695\u001b[0m \u001b[39mtry\u001b[39;00m:\n\u001b[0;32m-> 1696\u001b[0m     x \u001b[39m=\u001b[39m \u001b[39mcomplex\u001b[39;49m(x)\n\u001b[1;32m   1697\u001b[0m \u001b[39mexcept\u001b[39;00m \u001b[39mValueError\u001b[39;00m \u001b[39mas\u001b[39;00m err:\n\u001b[1;32m   1698\u001b[0m     \u001b[39m# e.g. \"foo\"\u001b[39;00m\n",
      "\u001b[0;31mValueError\u001b[0m: could not convert string to complex: 'high_specmba_specgenderplacedwork_experiencedegree_type'",
      "\nThe above exception was the direct cause of the following exception:\n",
      "\u001b[0;31mTypeError\u001b[0m                                 Traceback (most recent call last)",
      "Cell \u001b[0;32mIn[3], line 4\u001b[0m\n\u001b[1;32m      2\u001b[0m \u001b[39mprint\u001b[39m(property_name)\n\u001b[1;32m      3\u001b[0m details \u001b[39m=\u001b[39m report\u001b[39m.\u001b[39m_properties[property_name]\u001b[39m.\u001b[39m_details\n\u001b[0;32m----> 4\u001b[0m average_score_metric \u001b[39m=\u001b[39m details\u001b[39m.\u001b[39;49mgroupby(\u001b[39m'\u001b[39;49m\u001b[39mMetric\u001b[39;49m\u001b[39m'\u001b[39;49m)\u001b[39m.\u001b[39;49mmean()[\u001b[39m'\u001b[39m\u001b[39mScore\u001b[39m\u001b[39m'\u001b[39m]\n\u001b[1;32m      5\u001b[0m \u001b[39mprint\u001b[39m(average_score_metric)\n",
      "File \u001b[0;32m~/miniconda3/envs/issue-392-diagnostic-report-single-table/lib/python3.9/site-packages/pandas/core/groupby/groupby.py:1855\u001b[0m, in \u001b[0;36mGroupBy.mean\u001b[0;34m(self, numeric_only, engine, engine_kwargs)\u001b[0m\n\u001b[1;32m   1853\u001b[0m     \u001b[39mreturn\u001b[39;00m \u001b[39mself\u001b[39m\u001b[39m.\u001b[39m_numba_agg_general(sliding_mean, engine_kwargs)\n\u001b[1;32m   1854\u001b[0m \u001b[39melse\u001b[39;00m:\n\u001b[0;32m-> 1855\u001b[0m     result \u001b[39m=\u001b[39m \u001b[39mself\u001b[39;49m\u001b[39m.\u001b[39;49m_cython_agg_general(\n\u001b[1;32m   1856\u001b[0m         \u001b[39m\"\u001b[39;49m\u001b[39mmean\u001b[39;49m\u001b[39m\"\u001b[39;49m,\n\u001b[1;32m   1857\u001b[0m         alt\u001b[39m=\u001b[39;49m\u001b[39mlambda\u001b[39;49;00m x: Series(x)\u001b[39m.\u001b[39;49mmean(numeric_only\u001b[39m=\u001b[39;49mnumeric_only),\n\u001b[1;32m   1858\u001b[0m         numeric_only\u001b[39m=\u001b[39;49mnumeric_only,\n\u001b[1;32m   1859\u001b[0m     )\n\u001b[1;32m   1860\u001b[0m     \u001b[39mreturn\u001b[39;00m result\u001b[39m.\u001b[39m__finalize__(\u001b[39mself\u001b[39m\u001b[39m.\u001b[39mobj, method\u001b[39m=\u001b[39m\u001b[39m\"\u001b[39m\u001b[39mgroupby\u001b[39m\u001b[39m\"\u001b[39m)\n",
      "File \u001b[0;32m~/miniconda3/envs/issue-392-diagnostic-report-single-table/lib/python3.9/site-packages/pandas/core/groupby/groupby.py:1507\u001b[0m, in \u001b[0;36mGroupBy._cython_agg_general\u001b[0;34m(self, how, alt, numeric_only, min_count, **kwargs)\u001b[0m\n\u001b[1;32m   1503\u001b[0m         result \u001b[39m=\u001b[39m \u001b[39mself\u001b[39m\u001b[39m.\u001b[39m_agg_py_fallback(values, ndim\u001b[39m=\u001b[39mdata\u001b[39m.\u001b[39mndim, alt\u001b[39m=\u001b[39malt)\n\u001b[1;32m   1505\u001b[0m     \u001b[39mreturn\u001b[39;00m result\n\u001b[0;32m-> 1507\u001b[0m new_mgr \u001b[39m=\u001b[39m data\u001b[39m.\u001b[39;49mgrouped_reduce(array_func)\n\u001b[1;32m   1508\u001b[0m res \u001b[39m=\u001b[39m \u001b[39mself\u001b[39m\u001b[39m.\u001b[39m_wrap_agged_manager(new_mgr)\n\u001b[1;32m   1509\u001b[0m out \u001b[39m=\u001b[39m \u001b[39mself\u001b[39m\u001b[39m.\u001b[39m_wrap_aggregated_output(res)\n",
      "File \u001b[0;32m~/miniconda3/envs/issue-392-diagnostic-report-single-table/lib/python3.9/site-packages/pandas/core/internals/managers.py:1503\u001b[0m, in \u001b[0;36mBlockManager.grouped_reduce\u001b[0;34m(self, func)\u001b[0m\n\u001b[1;32m   1499\u001b[0m \u001b[39mif\u001b[39;00m blk\u001b[39m.\u001b[39mis_object:\n\u001b[1;32m   1500\u001b[0m     \u001b[39m# split on object-dtype blocks bc some columns may raise\u001b[39;00m\n\u001b[1;32m   1501\u001b[0m     \u001b[39m#  while others do not.\u001b[39;00m\n\u001b[1;32m   1502\u001b[0m     \u001b[39mfor\u001b[39;00m sb \u001b[39min\u001b[39;00m blk\u001b[39m.\u001b[39m_split():\n\u001b[0;32m-> 1503\u001b[0m         applied \u001b[39m=\u001b[39m sb\u001b[39m.\u001b[39;49mapply(func)\n\u001b[1;32m   1504\u001b[0m         result_blocks \u001b[39m=\u001b[39m extend_blocks(applied, result_blocks)\n\u001b[1;32m   1505\u001b[0m \u001b[39melse\u001b[39;00m:\n",
      "File \u001b[0;32m~/miniconda3/envs/issue-392-diagnostic-report-single-table/lib/python3.9/site-packages/pandas/core/internals/blocks.py:329\u001b[0m, in \u001b[0;36mBlock.apply\u001b[0;34m(self, func, **kwargs)\u001b[0m\n\u001b[1;32m    323\u001b[0m \u001b[39m@final\u001b[39m\n\u001b[1;32m    324\u001b[0m \u001b[39mdef\u001b[39;00m \u001b[39mapply\u001b[39m(\u001b[39mself\u001b[39m, func, \u001b[39m*\u001b[39m\u001b[39m*\u001b[39mkwargs) \u001b[39m-\u001b[39m\u001b[39m>\u001b[39m \u001b[39mlist\u001b[39m[Block]:\n\u001b[1;32m    325\u001b[0m \u001b[39m    \u001b[39m\u001b[39m\"\"\"\u001b[39;00m\n\u001b[1;32m    326\u001b[0m \u001b[39m    apply the function to my values; return a block if we are not\u001b[39;00m\n\u001b[1;32m    327\u001b[0m \u001b[39m    one\u001b[39;00m\n\u001b[1;32m    328\u001b[0m \u001b[39m    \"\"\"\u001b[39;00m\n\u001b[0;32m--> 329\u001b[0m     result \u001b[39m=\u001b[39m func(\u001b[39mself\u001b[39;49m\u001b[39m.\u001b[39;49mvalues, \u001b[39m*\u001b[39;49m\u001b[39m*\u001b[39;49mkwargs)\n\u001b[1;32m    331\u001b[0m     \u001b[39mreturn\u001b[39;00m \u001b[39mself\u001b[39m\u001b[39m.\u001b[39m_split_op_result(result)\n",
      "File \u001b[0;32m~/miniconda3/envs/issue-392-diagnostic-report-single-table/lib/python3.9/site-packages/pandas/core/groupby/groupby.py:1503\u001b[0m, in \u001b[0;36mGroupBy._cython_agg_general.<locals>.array_func\u001b[0;34m(values)\u001b[0m\n\u001b[1;32m   1490\u001b[0m     result \u001b[39m=\u001b[39m \u001b[39mself\u001b[39m\u001b[39m.\u001b[39mgrouper\u001b[39m.\u001b[39m_cython_operation(\n\u001b[1;32m   1491\u001b[0m         \u001b[39m\"\u001b[39m\u001b[39maggregate\u001b[39m\u001b[39m\"\u001b[39m,\n\u001b[1;32m   1492\u001b[0m         values,\n\u001b[0;32m   (...)\u001b[0m\n\u001b[1;32m   1496\u001b[0m         \u001b[39m*\u001b[39m\u001b[39m*\u001b[39mkwargs,\n\u001b[1;32m   1497\u001b[0m     )\n\u001b[1;32m   1498\u001b[0m \u001b[39mexcept\u001b[39;00m \u001b[39mNotImplementedError\u001b[39;00m:\n\u001b[1;32m   1499\u001b[0m     \u001b[39m# generally if we have numeric_only=False\u001b[39;00m\n\u001b[1;32m   1500\u001b[0m     \u001b[39m# and non-applicable functions\u001b[39;00m\n\u001b[1;32m   1501\u001b[0m     \u001b[39m# try to python agg\u001b[39;00m\n\u001b[1;32m   1502\u001b[0m     \u001b[39m# TODO: shouldn't min_count matter?\u001b[39;00m\n\u001b[0;32m-> 1503\u001b[0m     result \u001b[39m=\u001b[39m \u001b[39mself\u001b[39;49m\u001b[39m.\u001b[39;49m_agg_py_fallback(values, ndim\u001b[39m=\u001b[39;49mdata\u001b[39m.\u001b[39;49mndim, alt\u001b[39m=\u001b[39;49malt)\n\u001b[1;32m   1505\u001b[0m \u001b[39mreturn\u001b[39;00m result\n",
      "File \u001b[0;32m~/miniconda3/envs/issue-392-diagnostic-report-single-table/lib/python3.9/site-packages/pandas/core/groupby/groupby.py:1457\u001b[0m, in \u001b[0;36mGroupBy._agg_py_fallback\u001b[0;34m(self, values, ndim, alt)\u001b[0m\n\u001b[1;32m   1452\u001b[0m     ser \u001b[39m=\u001b[39m df\u001b[39m.\u001b[39miloc[:, \u001b[39m0\u001b[39m]\n\u001b[1;32m   1454\u001b[0m \u001b[39m# We do not get here with UDFs, so we know that our dtype\u001b[39;00m\n\u001b[1;32m   1455\u001b[0m \u001b[39m#  should always be preserved by the implemented aggregations\u001b[39;00m\n\u001b[1;32m   1456\u001b[0m \u001b[39m# TODO: Is this exactly right; see WrappedCythonOp get_result_dtype?\u001b[39;00m\n\u001b[0;32m-> 1457\u001b[0m res_values \u001b[39m=\u001b[39m \u001b[39mself\u001b[39;49m\u001b[39m.\u001b[39;49mgrouper\u001b[39m.\u001b[39;49magg_series(ser, alt, preserve_dtype\u001b[39m=\u001b[39;49m\u001b[39mTrue\u001b[39;49;00m)\n\u001b[1;32m   1459\u001b[0m \u001b[39mif\u001b[39;00m \u001b[39misinstance\u001b[39m(values, Categorical):\n\u001b[1;32m   1460\u001b[0m     \u001b[39m# Because we only get here with known dtype-preserving\u001b[39;00m\n\u001b[1;32m   1461\u001b[0m     \u001b[39m#  reductions, we cast back to Categorical.\u001b[39;00m\n\u001b[1;32m   1462\u001b[0m     \u001b[39m# TODO: if we ever get \"rank\" working, exclude it here.\u001b[39;00m\n\u001b[1;32m   1463\u001b[0m     res_values \u001b[39m=\u001b[39m \u001b[39mtype\u001b[39m(values)\u001b[39m.\u001b[39m_from_sequence(res_values, dtype\u001b[39m=\u001b[39mvalues\u001b[39m.\u001b[39mdtype)\n",
      "File \u001b[0;32m~/miniconda3/envs/issue-392-diagnostic-report-single-table/lib/python3.9/site-packages/pandas/core/groupby/ops.py:994\u001b[0m, in \u001b[0;36mBaseGrouper.agg_series\u001b[0;34m(self, obj, func, preserve_dtype)\u001b[0m\n\u001b[1;32m    987\u001b[0m \u001b[39mif\u001b[39;00m \u001b[39mlen\u001b[39m(obj) \u001b[39m>\u001b[39m \u001b[39m0\u001b[39m \u001b[39mand\u001b[39;00m \u001b[39mnot\u001b[39;00m \u001b[39misinstance\u001b[39m(obj\u001b[39m.\u001b[39m_values, np\u001b[39m.\u001b[39mndarray):\n\u001b[1;32m    988\u001b[0m     \u001b[39m# we can preserve a little bit more aggressively with EA dtype\u001b[39;00m\n\u001b[1;32m    989\u001b[0m     \u001b[39m#  because maybe_cast_pointwise_result will do a try/except\u001b[39;00m\n\u001b[1;32m    990\u001b[0m     \u001b[39m#  with _from_sequence.  NB we are assuming here that _from_sequence\u001b[39;00m\n\u001b[1;32m    991\u001b[0m     \u001b[39m#  is sufficiently strict that it casts appropriately.\u001b[39;00m\n\u001b[1;32m    992\u001b[0m     preserve_dtype \u001b[39m=\u001b[39m \u001b[39mTrue\u001b[39;00m\n\u001b[0;32m--> 994\u001b[0m result \u001b[39m=\u001b[39m \u001b[39mself\u001b[39;49m\u001b[39m.\u001b[39;49m_aggregate_series_pure_python(obj, func)\n\u001b[1;32m    996\u001b[0m npvalues \u001b[39m=\u001b[39m lib\u001b[39m.\u001b[39mmaybe_convert_objects(result, try_float\u001b[39m=\u001b[39m\u001b[39mFalse\u001b[39;00m)\n\u001b[1;32m    997\u001b[0m \u001b[39mif\u001b[39;00m preserve_dtype:\n",
      "File \u001b[0;32m~/miniconda3/envs/issue-392-diagnostic-report-single-table/lib/python3.9/site-packages/pandas/core/groupby/ops.py:1015\u001b[0m, in \u001b[0;36mBaseGrouper._aggregate_series_pure_python\u001b[0;34m(self, obj, func)\u001b[0m\n\u001b[1;32m   1012\u001b[0m splitter \u001b[39m=\u001b[39m \u001b[39mself\u001b[39m\u001b[39m.\u001b[39m_get_splitter(obj, axis\u001b[39m=\u001b[39m\u001b[39m0\u001b[39m)\n\u001b[1;32m   1014\u001b[0m \u001b[39mfor\u001b[39;00m i, group \u001b[39min\u001b[39;00m \u001b[39menumerate\u001b[39m(splitter):\n\u001b[0;32m-> 1015\u001b[0m     res \u001b[39m=\u001b[39m func(group)\n\u001b[1;32m   1016\u001b[0m     res \u001b[39m=\u001b[39m libreduction\u001b[39m.\u001b[39mextract_result(res)\n\u001b[1;32m   1018\u001b[0m     \u001b[39mif\u001b[39;00m \u001b[39mnot\u001b[39;00m initialized:\n\u001b[1;32m   1019\u001b[0m         \u001b[39m# We only do this validation on the first iteration\u001b[39;00m\n",
      "File \u001b[0;32m~/miniconda3/envs/issue-392-diagnostic-report-single-table/lib/python3.9/site-packages/pandas/core/groupby/groupby.py:1857\u001b[0m, in \u001b[0;36mGroupBy.mean.<locals>.<lambda>\u001b[0;34m(x)\u001b[0m\n\u001b[1;32m   1853\u001b[0m     \u001b[39mreturn\u001b[39;00m \u001b[39mself\u001b[39m\u001b[39m.\u001b[39m_numba_agg_general(sliding_mean, engine_kwargs)\n\u001b[1;32m   1854\u001b[0m \u001b[39melse\u001b[39;00m:\n\u001b[1;32m   1855\u001b[0m     result \u001b[39m=\u001b[39m \u001b[39mself\u001b[39m\u001b[39m.\u001b[39m_cython_agg_general(\n\u001b[1;32m   1856\u001b[0m         \u001b[39m\"\u001b[39m\u001b[39mmean\u001b[39m\u001b[39m\"\u001b[39m,\n\u001b[0;32m-> 1857\u001b[0m         alt\u001b[39m=\u001b[39m\u001b[39mlambda\u001b[39;00m x: Series(x)\u001b[39m.\u001b[39;49mmean(numeric_only\u001b[39m=\u001b[39;49mnumeric_only),\n\u001b[1;32m   1858\u001b[0m         numeric_only\u001b[39m=\u001b[39mnumeric_only,\n\u001b[1;32m   1859\u001b[0m     )\n\u001b[1;32m   1860\u001b[0m     \u001b[39mreturn\u001b[39;00m result\u001b[39m.\u001b[39m__finalize__(\u001b[39mself\u001b[39m\u001b[39m.\u001b[39mobj, method\u001b[39m=\u001b[39m\u001b[39m\"\u001b[39m\u001b[39mgroupby\u001b[39m\u001b[39m\"\u001b[39m)\n",
      "File \u001b[0;32m~/miniconda3/envs/issue-392-diagnostic-report-single-table/lib/python3.9/site-packages/pandas/core/generic.py:11556\u001b[0m, in \u001b[0;36mNDFrame._add_numeric_operations.<locals>.mean\u001b[0;34m(self, axis, skipna, numeric_only, **kwargs)\u001b[0m\n\u001b[1;32m  11539\u001b[0m \u001b[39m@doc\u001b[39m(\n\u001b[1;32m  11540\u001b[0m     _num_doc,\n\u001b[1;32m  11541\u001b[0m     desc\u001b[39m=\u001b[39m\u001b[39m\"\u001b[39m\u001b[39mReturn the mean of the values over the requested axis.\u001b[39m\u001b[39m\"\u001b[39m,\n\u001b[0;32m   (...)\u001b[0m\n\u001b[1;32m  11554\u001b[0m     \u001b[39m*\u001b[39m\u001b[39m*\u001b[39mkwargs,\n\u001b[1;32m  11555\u001b[0m ):\n\u001b[0;32m> 11556\u001b[0m     \u001b[39mreturn\u001b[39;00m NDFrame\u001b[39m.\u001b[39;49mmean(\u001b[39mself\u001b[39;49m, axis, skipna, numeric_only, \u001b[39m*\u001b[39;49m\u001b[39m*\u001b[39;49mkwargs)\n",
      "File \u001b[0;32m~/miniconda3/envs/issue-392-diagnostic-report-single-table/lib/python3.9/site-packages/pandas/core/generic.py:11201\u001b[0m, in \u001b[0;36mNDFrame.mean\u001b[0;34m(self, axis, skipna, numeric_only, **kwargs)\u001b[0m\n\u001b[1;32m  11194\u001b[0m \u001b[39mdef\u001b[39;00m \u001b[39mmean\u001b[39m(\n\u001b[1;32m  11195\u001b[0m     \u001b[39mself\u001b[39m,\n\u001b[1;32m  11196\u001b[0m     axis: Axis \u001b[39m|\u001b[39m \u001b[39mNone\u001b[39;00m \u001b[39m=\u001b[39m \u001b[39m0\u001b[39m,\n\u001b[0;32m   (...)\u001b[0m\n\u001b[1;32m  11199\u001b[0m     \u001b[39m*\u001b[39m\u001b[39m*\u001b[39mkwargs,\n\u001b[1;32m  11200\u001b[0m ) \u001b[39m-\u001b[39m\u001b[39m>\u001b[39m Series \u001b[39m|\u001b[39m \u001b[39mfloat\u001b[39m:\n\u001b[0;32m> 11201\u001b[0m     \u001b[39mreturn\u001b[39;00m \u001b[39mself\u001b[39;49m\u001b[39m.\u001b[39;49m_stat_function(\n\u001b[1;32m  11202\u001b[0m         \u001b[39m\"\u001b[39;49m\u001b[39mmean\u001b[39;49m\u001b[39m\"\u001b[39;49m, nanops\u001b[39m.\u001b[39;49mnanmean, axis, skipna, numeric_only, \u001b[39m*\u001b[39;49m\u001b[39m*\u001b[39;49mkwargs\n\u001b[1;32m  11203\u001b[0m     )\n",
      "File \u001b[0;32m~/miniconda3/envs/issue-392-diagnostic-report-single-table/lib/python3.9/site-packages/pandas/core/generic.py:11158\u001b[0m, in \u001b[0;36mNDFrame._stat_function\u001b[0;34m(self, name, func, axis, skipna, numeric_only, **kwargs)\u001b[0m\n\u001b[1;32m  11154\u001b[0m     nv\u001b[39m.\u001b[39mvalidate_stat_func((), kwargs, fname\u001b[39m=\u001b[39mname)\n\u001b[1;32m  11156\u001b[0m validate_bool_kwarg(skipna, \u001b[39m\"\u001b[39m\u001b[39mskipna\u001b[39m\u001b[39m\"\u001b[39m, none_allowed\u001b[39m=\u001b[39m\u001b[39mFalse\u001b[39;00m)\n\u001b[0;32m> 11158\u001b[0m \u001b[39mreturn\u001b[39;00m \u001b[39mself\u001b[39;49m\u001b[39m.\u001b[39;49m_reduce(\n\u001b[1;32m  11159\u001b[0m     func, name\u001b[39m=\u001b[39;49mname, axis\u001b[39m=\u001b[39;49maxis, skipna\u001b[39m=\u001b[39;49mskipna, numeric_only\u001b[39m=\u001b[39;49mnumeric_only\n\u001b[1;32m  11160\u001b[0m )\n",
      "File \u001b[0;32m~/miniconda3/envs/issue-392-diagnostic-report-single-table/lib/python3.9/site-packages/pandas/core/series.py:4670\u001b[0m, in \u001b[0;36mSeries._reduce\u001b[0;34m(self, op, name, axis, skipna, numeric_only, filter_type, **kwds)\u001b[0m\n\u001b[1;32m   4665\u001b[0m     \u001b[39mraise\u001b[39;00m \u001b[39mTypeError\u001b[39;00m(\n\u001b[1;32m   4666\u001b[0m         \u001b[39mf\u001b[39m\u001b[39m\"\u001b[39m\u001b[39mSeries.\u001b[39m\u001b[39m{\u001b[39;00mname\u001b[39m}\u001b[39;00m\u001b[39m does not allow \u001b[39m\u001b[39m{\u001b[39;00mkwd_name\u001b[39m}\u001b[39;00m\u001b[39m=\u001b[39m\u001b[39m{\u001b[39;00mnumeric_only\u001b[39m}\u001b[39;00m\u001b[39m \u001b[39m\u001b[39m\"\u001b[39m\n\u001b[1;32m   4667\u001b[0m         \u001b[39m\"\u001b[39m\u001b[39mwith non-numeric dtypes.\u001b[39m\u001b[39m\"\u001b[39m\n\u001b[1;32m   4668\u001b[0m     )\n\u001b[1;32m   4669\u001b[0m \u001b[39mwith\u001b[39;00m np\u001b[39m.\u001b[39merrstate(\u001b[39mall\u001b[39m\u001b[39m=\u001b[39m\u001b[39m\"\u001b[39m\u001b[39mignore\u001b[39m\u001b[39m\"\u001b[39m):\n\u001b[0;32m-> 4670\u001b[0m     \u001b[39mreturn\u001b[39;00m op(delegate, skipna\u001b[39m=\u001b[39;49mskipna, \u001b[39m*\u001b[39;49m\u001b[39m*\u001b[39;49mkwds)\n",
      "File \u001b[0;32m~/miniconda3/envs/issue-392-diagnostic-report-single-table/lib/python3.9/site-packages/pandas/core/nanops.py:96\u001b[0m, in \u001b[0;36mdisallow.__call__.<locals>._f\u001b[0;34m(*args, **kwargs)\u001b[0m\n\u001b[1;32m     94\u001b[0m \u001b[39mtry\u001b[39;00m:\n\u001b[1;32m     95\u001b[0m     \u001b[39mwith\u001b[39;00m np\u001b[39m.\u001b[39merrstate(invalid\u001b[39m=\u001b[39m\u001b[39m\"\u001b[39m\u001b[39mignore\u001b[39m\u001b[39m\"\u001b[39m):\n\u001b[0;32m---> 96\u001b[0m         \u001b[39mreturn\u001b[39;00m f(\u001b[39m*\u001b[39;49margs, \u001b[39m*\u001b[39;49m\u001b[39m*\u001b[39;49mkwargs)\n\u001b[1;32m     97\u001b[0m \u001b[39mexcept\u001b[39;00m \u001b[39mValueError\u001b[39;00m \u001b[39mas\u001b[39;00m e:\n\u001b[1;32m     98\u001b[0m     \u001b[39m# we want to transform an object array\u001b[39;00m\n\u001b[1;32m     99\u001b[0m     \u001b[39m# ValueError message to the more typical TypeError\u001b[39;00m\n\u001b[1;32m    100\u001b[0m     \u001b[39m# e.g. this is normally a disallowed function on\u001b[39;00m\n\u001b[1;32m    101\u001b[0m     \u001b[39m# object arrays that contain strings\u001b[39;00m\n\u001b[1;32m    102\u001b[0m     \u001b[39mif\u001b[39;00m is_object_dtype(args[\u001b[39m0\u001b[39m]):\n",
      "File \u001b[0;32m~/miniconda3/envs/issue-392-diagnostic-report-single-table/lib/python3.9/site-packages/pandas/core/nanops.py:158\u001b[0m, in \u001b[0;36mbottleneck_switch.__call__.<locals>.f\u001b[0;34m(values, axis, skipna, **kwds)\u001b[0m\n\u001b[1;32m    156\u001b[0m         result \u001b[39m=\u001b[39m alt(values, axis\u001b[39m=\u001b[39maxis, skipna\u001b[39m=\u001b[39mskipna, \u001b[39m*\u001b[39m\u001b[39m*\u001b[39mkwds)\n\u001b[1;32m    157\u001b[0m \u001b[39melse\u001b[39;00m:\n\u001b[0;32m--> 158\u001b[0m     result \u001b[39m=\u001b[39m alt(values, axis\u001b[39m=\u001b[39;49maxis, skipna\u001b[39m=\u001b[39;49mskipna, \u001b[39m*\u001b[39;49m\u001b[39m*\u001b[39;49mkwds)\n\u001b[1;32m    160\u001b[0m \u001b[39mreturn\u001b[39;00m result\n",
      "File \u001b[0;32m~/miniconda3/envs/issue-392-diagnostic-report-single-table/lib/python3.9/site-packages/pandas/core/nanops.py:421\u001b[0m, in \u001b[0;36m_datetimelike_compat.<locals>.new_func\u001b[0;34m(values, axis, skipna, mask, **kwargs)\u001b[0m\n\u001b[1;32m    418\u001b[0m \u001b[39mif\u001b[39;00m datetimelike \u001b[39mand\u001b[39;00m mask \u001b[39mis\u001b[39;00m \u001b[39mNone\u001b[39;00m:\n\u001b[1;32m    419\u001b[0m     mask \u001b[39m=\u001b[39m isna(values)\n\u001b[0;32m--> 421\u001b[0m result \u001b[39m=\u001b[39m func(values, axis\u001b[39m=\u001b[39;49maxis, skipna\u001b[39m=\u001b[39;49mskipna, mask\u001b[39m=\u001b[39;49mmask, \u001b[39m*\u001b[39;49m\u001b[39m*\u001b[39;49mkwargs)\n\u001b[1;32m    423\u001b[0m \u001b[39mif\u001b[39;00m datetimelike:\n\u001b[1;32m    424\u001b[0m     result \u001b[39m=\u001b[39m _wrap_results(result, orig_values\u001b[39m.\u001b[39mdtype, fill_value\u001b[39m=\u001b[39miNaT)\n",
      "File \u001b[0;32m~/miniconda3/envs/issue-392-diagnostic-report-single-table/lib/python3.9/site-packages/pandas/core/nanops.py:727\u001b[0m, in \u001b[0;36mnanmean\u001b[0;34m(values, axis, skipna, mask)\u001b[0m\n\u001b[1;32m    724\u001b[0m     dtype_count \u001b[39m=\u001b[39m dtype\n\u001b[1;32m    726\u001b[0m count \u001b[39m=\u001b[39m _get_counts(values\u001b[39m.\u001b[39mshape, mask, axis, dtype\u001b[39m=\u001b[39mdtype_count)\n\u001b[0;32m--> 727\u001b[0m the_sum \u001b[39m=\u001b[39m _ensure_numeric(values\u001b[39m.\u001b[39;49msum(axis, dtype\u001b[39m=\u001b[39;49mdtype_sum))\n\u001b[1;32m    729\u001b[0m \u001b[39mif\u001b[39;00m axis \u001b[39mis\u001b[39;00m \u001b[39mnot\u001b[39;00m \u001b[39mNone\u001b[39;00m \u001b[39mand\u001b[39;00m \u001b[39mgetattr\u001b[39m(the_sum, \u001b[39m\"\u001b[39m\u001b[39mndim\u001b[39m\u001b[39m\"\u001b[39m, \u001b[39mFalse\u001b[39;00m):\n\u001b[1;32m    730\u001b[0m     count \u001b[39m=\u001b[39m cast(np\u001b[39m.\u001b[39mndarray, count)\n",
      "File \u001b[0;32m~/miniconda3/envs/issue-392-diagnostic-report-single-table/lib/python3.9/site-packages/pandas/core/nanops.py:1699\u001b[0m, in \u001b[0;36m_ensure_numeric\u001b[0;34m(x)\u001b[0m\n\u001b[1;32m   1696\u001b[0m             x \u001b[39m=\u001b[39m \u001b[39mcomplex\u001b[39m(x)\n\u001b[1;32m   1697\u001b[0m         \u001b[39mexcept\u001b[39;00m \u001b[39mValueError\u001b[39;00m \u001b[39mas\u001b[39;00m err:\n\u001b[1;32m   1698\u001b[0m             \u001b[39m# e.g. \"foo\"\u001b[39;00m\n\u001b[0;32m-> 1699\u001b[0m             \u001b[39mraise\u001b[39;00m \u001b[39mTypeError\u001b[39;00m(\u001b[39mf\u001b[39m\u001b[39m\"\u001b[39m\u001b[39mCould not convert \u001b[39m\u001b[39m{\u001b[39;00mx\u001b[39m}\u001b[39;00m\u001b[39m to numeric\u001b[39m\u001b[39m\"\u001b[39m) \u001b[39mfrom\u001b[39;00m \u001b[39merr\u001b[39;00m\n\u001b[1;32m   1700\u001b[0m \u001b[39mreturn\u001b[39;00m x\n",
      "\u001b[0;31mTypeError\u001b[0m: Could not convert high_specmba_specgenderplacedwork_experiencedegree_type to numeric"
     ]
    }
   ],
   "source": [
    "for property_name in report._properties:\n",
    "    print(property_name)\n",
    "    details = report._properties[property_name]._details\n",
    "    average_score_metric = details.groupby('Metric').mean()['Score']\n",
    "    print(average_score_metric)"
   ]
  },
  {
   "cell_type": "code",
   "execution_count": 11,
   "metadata": {},
   "outputs": [
    {
     "data": {
      "text/html": [
       "<div>\n",
       "<style scoped>\n",
       "    .dataframe tbody tr th:only-of-type {\n",
       "        vertical-align: middle;\n",
       "    }\n",
       "\n",
       "    .dataframe tbody tr th {\n",
       "        vertical-align: top;\n",
       "    }\n",
       "\n",
       "    .dataframe thead th {\n",
       "        text-align: right;\n",
       "    }\n",
       "</style>\n",
       "<table border=\"1\" class=\"dataframe\">\n",
       "  <thead>\n",
       "    <tr style=\"text-align: right;\">\n",
       "      <th></th>\n",
       "      <th>student_id</th>\n",
       "      <th>gender</th>\n",
       "      <th>second_perc</th>\n",
       "      <th>high_perc</th>\n",
       "      <th>high_spec</th>\n",
       "      <th>degree_perc</th>\n",
       "      <th>degree_type</th>\n",
       "      <th>work_experience</th>\n",
       "      <th>experience_years</th>\n",
       "      <th>employability_perc</th>\n",
       "      <th>mba_spec</th>\n",
       "      <th>mba_perc</th>\n",
       "      <th>salary</th>\n",
       "      <th>placed</th>\n",
       "      <th>start_date</th>\n",
       "      <th>end_date</th>\n",
       "      <th>duration</th>\n",
       "    </tr>\n",
       "  </thead>\n",
       "  <tbody>\n",
       "    <tr>\n",
       "      <th>0</th>\n",
       "      <td>0</td>\n",
       "      <td>F</td>\n",
       "      <td>41.361060</td>\n",
       "      <td>85.425072</td>\n",
       "      <td>a</td>\n",
       "      <td>74.972674</td>\n",
       "      <td>Comm&amp;Mgmt</td>\n",
       "      <td>False</td>\n",
       "      <td>0</td>\n",
       "      <td>49.986653</td>\n",
       "      <td>Mkt&amp;Fin</td>\n",
       "      <td>57.291083</td>\n",
       "      <td>NaN</td>\n",
       "      <td>True</td>\n",
       "      <td>2020-02-11</td>\n",
       "      <td>2020-08-02</td>\n",
       "      <td>3.0</td>\n",
       "    </tr>\n",
       "    <tr>\n",
       "      <th>1</th>\n",
       "      <td>1</td>\n",
       "      <td>M</td>\n",
       "      <td>63.720169</td>\n",
       "      <td>99.059033</td>\n",
       "      <td>Commerce</td>\n",
       "      <td>62.769650</td>\n",
       "      <td>Others</td>\n",
       "      <td>False</td>\n",
       "      <td>0</td>\n",
       "      <td>78.962948</td>\n",
       "      <td>Mkt&amp;HR</td>\n",
       "      <td>79.068319</td>\n",
       "      <td>NaN</td>\n",
       "      <td>False</td>\n",
       "      <td>NaT</td>\n",
       "      <td>NaT</td>\n",
       "      <td>NaN</td>\n",
       "    </tr>\n",
       "    <tr>\n",
       "      <th>2</th>\n",
       "      <td>2</td>\n",
       "      <td>M</td>\n",
       "      <td>58.473884</td>\n",
       "      <td>89.241528</td>\n",
       "      <td>Science</td>\n",
       "      <td>83.066328</td>\n",
       "      <td>Sci&amp;Tech</td>\n",
       "      <td>True</td>\n",
       "      <td>0</td>\n",
       "      <td>47.980244</td>\n",
       "      <td>Mkt&amp;Fin</td>\n",
       "      <td>77.042950</td>\n",
       "      <td>26727.0</td>\n",
       "      <td>True</td>\n",
       "      <td>2020-02-13</td>\n",
       "      <td>2020-05-27</td>\n",
       "      <td>3.0</td>\n",
       "    </tr>\n",
       "    <tr>\n",
       "      <th>3</th>\n",
       "      <td>3</td>\n",
       "      <td>F</td>\n",
       "      <td>77.232204</td>\n",
       "      <td>100.523788</td>\n",
       "      <td>Commerce</td>\n",
       "      <td>61.010445</td>\n",
       "      <td>Comm&amp;Mgmt</td>\n",
       "      <td>True</td>\n",
       "      <td>0</td>\n",
       "      <td>61.016218</td>\n",
       "      <td>Mkt&amp;HR</td>\n",
       "      <td>68.132991</td>\n",
       "      <td>22058.0</td>\n",
       "      <td>True</td>\n",
       "      <td>2020-09-24</td>\n",
       "      <td>2020-11-07</td>\n",
       "      <td>3.0</td>\n",
       "    </tr>\n",
       "    <tr>\n",
       "      <th>4</th>\n",
       "      <td>4</td>\n",
       "      <td>F</td>\n",
       "      <td>54.067830</td>\n",
       "      <td>109.611537</td>\n",
       "      <td>Commerce</td>\n",
       "      <td>72.846753</td>\n",
       "      <td>Others</td>\n",
       "      <td>True</td>\n",
       "      <td>0</td>\n",
       "      <td>66.949987</td>\n",
       "      <td>Mkt&amp;Fin</td>\n",
       "      <td>66.363138</td>\n",
       "      <td>NaN</td>\n",
       "      <td>False</td>\n",
       "      <td>NaT</td>\n",
       "      <td>NaT</td>\n",
       "      <td>NaN</td>\n",
       "    </tr>\n",
       "    <tr>\n",
       "      <th>...</th>\n",
       "      <td>...</td>\n",
       "      <td>...</td>\n",
       "      <td>...</td>\n",
       "      <td>...</td>\n",
       "      <td>...</td>\n",
       "      <td>...</td>\n",
       "      <td>...</td>\n",
       "      <td>...</td>\n",
       "      <td>...</td>\n",
       "      <td>...</td>\n",
       "      <td>...</td>\n",
       "      <td>...</td>\n",
       "      <td>...</td>\n",
       "      <td>...</td>\n",
       "      <td>...</td>\n",
       "      <td>...</td>\n",
       "      <td>...</td>\n",
       "    </tr>\n",
       "    <tr>\n",
       "      <th>210</th>\n",
       "      <td>210</td>\n",
       "      <td>M</td>\n",
       "      <td>58.981597</td>\n",
       "      <td>97.809826</td>\n",
       "      <td>Commerce</td>\n",
       "      <td>73.548889</td>\n",
       "      <td>Others</td>\n",
       "      <td>False</td>\n",
       "      <td>0</td>\n",
       "      <td>67.161123</td>\n",
       "      <td>Mkt&amp;HR</td>\n",
       "      <td>61.981631</td>\n",
       "      <td>NaN</td>\n",
       "      <td>False</td>\n",
       "      <td>NaT</td>\n",
       "      <td>NaT</td>\n",
       "      <td>NaN</td>\n",
       "    </tr>\n",
       "    <tr>\n",
       "      <th>211</th>\n",
       "      <td>211</td>\n",
       "      <td>M</td>\n",
       "      <td>42.643139</td>\n",
       "      <td>75.259843</td>\n",
       "      <td>Commerce</td>\n",
       "      <td>72.478613</td>\n",
       "      <td>Comm&amp;Mgmt</td>\n",
       "      <td>False</td>\n",
       "      <td>0</td>\n",
       "      <td>68.657034</td>\n",
       "      <td>Mkt&amp;HR</td>\n",
       "      <td>55.746391</td>\n",
       "      <td>NaN</td>\n",
       "      <td>False</td>\n",
       "      <td>NaT</td>\n",
       "      <td>NaT</td>\n",
       "      <td>NaN</td>\n",
       "    </tr>\n",
       "    <tr>\n",
       "      <th>212</th>\n",
       "      <td>212</td>\n",
       "      <td>M</td>\n",
       "      <td>58.202031</td>\n",
       "      <td>103.876132</td>\n",
       "      <td>Commerce</td>\n",
       "      <td>81.088376</td>\n",
       "      <td>Comm&amp;Mgmt</td>\n",
       "      <td>False</td>\n",
       "      <td>1</td>\n",
       "      <td>73.903710</td>\n",
       "      <td>Mkt&amp;Fin</td>\n",
       "      <td>58.117902</td>\n",
       "      <td>28772.0</td>\n",
       "      <td>True</td>\n",
       "      <td>2020-01-23</td>\n",
       "      <td>2021-02-26</td>\n",
       "      <td>6.0</td>\n",
       "    </tr>\n",
       "    <tr>\n",
       "      <th>213</th>\n",
       "      <td>213</td>\n",
       "      <td>M</td>\n",
       "      <td>53.939037</td>\n",
       "      <td>70.498207</td>\n",
       "      <td>Commerce</td>\n",
       "      <td>65.284175</td>\n",
       "      <td>Comm&amp;Mgmt</td>\n",
       "      <td>True</td>\n",
       "      <td>0</td>\n",
       "      <td>76.004000</td>\n",
       "      <td>Mkt&amp;Fin</td>\n",
       "      <td>53.206451</td>\n",
       "      <td>25441.0</td>\n",
       "      <td>True</td>\n",
       "      <td>2020-06-13</td>\n",
       "      <td>2020-06-14</td>\n",
       "      <td>6.0</td>\n",
       "    </tr>\n",
       "    <tr>\n",
       "      <th>214</th>\n",
       "      <td>214</td>\n",
       "      <td>M</td>\n",
       "      <td>35.696869</td>\n",
       "      <td>100.655357</td>\n",
       "      <td>Commerce</td>\n",
       "      <td>58.946189</td>\n",
       "      <td>Comm&amp;Mgmt</td>\n",
       "      <td>False</td>\n",
       "      <td>0</td>\n",
       "      <td>63.734012</td>\n",
       "      <td>Mkt&amp;Fin</td>\n",
       "      <td>48.470545</td>\n",
       "      <td>NaN</td>\n",
       "      <td>False</td>\n",
       "      <td>NaT</td>\n",
       "      <td>NaT</td>\n",
       "      <td>NaN</td>\n",
       "    </tr>\n",
       "  </tbody>\n",
       "</table>\n",
       "<p>215 rows × 17 columns</p>\n",
       "</div>"
      ],
      "text/plain": [
       "     student_id gender  second_perc   high_perc high_spec  degree_perc  \\\n",
       "0             0      F    41.361060   85.425072         a    74.972674   \n",
       "1             1      M    63.720169   99.059033  Commerce    62.769650   \n",
       "2             2      M    58.473884   89.241528   Science    83.066328   \n",
       "3             3      F    77.232204  100.523788  Commerce    61.010445   \n",
       "4             4      F    54.067830  109.611537  Commerce    72.846753   \n",
       "..          ...    ...          ...         ...       ...          ...   \n",
       "210         210      M    58.981597   97.809826  Commerce    73.548889   \n",
       "211         211      M    42.643139   75.259843  Commerce    72.478613   \n",
       "212         212      M    58.202031  103.876132  Commerce    81.088376   \n",
       "213         213      M    53.939037   70.498207  Commerce    65.284175   \n",
       "214         214      M    35.696869  100.655357  Commerce    58.946189   \n",
       "\n",
       "    degree_type  work_experience  experience_years  employability_perc  \\\n",
       "0     Comm&Mgmt            False                 0           49.986653   \n",
       "1        Others            False                 0           78.962948   \n",
       "2      Sci&Tech             True                 0           47.980244   \n",
       "3     Comm&Mgmt             True                 0           61.016218   \n",
       "4        Others             True                 0           66.949987   \n",
       "..          ...              ...               ...                 ...   \n",
       "210      Others            False                 0           67.161123   \n",
       "211   Comm&Mgmt            False                 0           68.657034   \n",
       "212   Comm&Mgmt            False                 1           73.903710   \n",
       "213   Comm&Mgmt             True                 0           76.004000   \n",
       "214   Comm&Mgmt            False                 0           63.734012   \n",
       "\n",
       "    mba_spec   mba_perc   salary  placed start_date   end_date  duration  \n",
       "0    Mkt&Fin  57.291083      NaN    True 2020-02-11 2020-08-02       3.0  \n",
       "1     Mkt&HR  79.068319      NaN   False        NaT        NaT       NaN  \n",
       "2    Mkt&Fin  77.042950  26727.0    True 2020-02-13 2020-05-27       3.0  \n",
       "3     Mkt&HR  68.132991  22058.0    True 2020-09-24 2020-11-07       3.0  \n",
       "4    Mkt&Fin  66.363138      NaN   False        NaT        NaT       NaN  \n",
       "..       ...        ...      ...     ...        ...        ...       ...  \n",
       "210   Mkt&HR  61.981631      NaN   False        NaT        NaT       NaN  \n",
       "211   Mkt&HR  55.746391      NaN   False        NaT        NaT       NaN  \n",
       "212  Mkt&Fin  58.117902  28772.0    True 2020-01-23 2021-02-26       6.0  \n",
       "213  Mkt&Fin  53.206451  25441.0    True 2020-06-13 2020-06-14       6.0  \n",
       "214  Mkt&Fin  48.470545      NaN   False        NaT        NaT       NaN  \n",
       "\n",
       "[215 rows x 17 columns]"
      ]
     },
     "execution_count": 11,
     "metadata": {},
     "output_type": "execute_result"
    }
   ],
   "source": [
    "synthetic_data['high_spec'].iloc[0] = 'a'\n",
    "synthetic_data"
   ]
  },
  {
   "cell_type": "code",
   "execution_count": 12,
   "metadata": {},
   "outputs": [
    {
     "data": {
      "text/plain": [
       "array(['Commerce', 'Science', 'Arts'], dtype=object)"
      ]
     },
     "execution_count": 12,
     "metadata": {},
     "output_type": "execute_result"
    }
   ],
   "source": [
    "real_data['high_spec'].unique()"
   ]
  },
  {
   "cell_type": "code",
   "execution_count": 13,
   "metadata": {},
   "outputs": [
    {
     "data": {
      "text/plain": [
       "array(['a', 'Commerce', 'Science', 'Arts'], dtype=object)"
      ]
     },
     "execution_count": 13,
     "metadata": {},
     "output_type": "execute_result"
    }
   ],
   "source": [
    "synthetic_data['high_spec'].unique()"
   ]
  },
  {
   "cell_type": "code",
   "execution_count": 23,
   "metadata": {},
   "outputs": [
    {
     "name": "stdout",
     "output_type": "stream",
     "text": [
      "Generating report ...\n",
      "(1/2) Evaluating Column Shapes: : 100%|██████████| 17/17 [00:00<00:00, 3381.70it/s]\n",
      "(2/2) Evaluating Column Pair Trends: : 100%|██████████| 136/136.0 [00:00<00:00, 242.75it/s]\n",
      "\n",
      "Overall Quality Score: 80.14%\n",
      "\n",
      "Properties:\n",
      "- Column Shapes: 81.56%\n",
      "- Column Pair Trends: 78.72%\n"
     ]
    }
   ],
   "source": [
    "from sdmetrics.demos import load_demo\n",
    "import numpy as np\n",
    "from sdmetrics.reports.single_table import QualityReport, DiagnosticReport\n",
    "\n",
    "real_data, synthetic_data, metadata = load_demo(modality='single_table')\n",
    "#synthetic_data['high_spec'].iloc[0] = 'a'\n",
    "report = QualityReport()\n",
    "\n",
    "# Run\n",
    "report.generate(real_data, synthetic_data, metadata)"
   ]
  },
  {
   "cell_type": "code",
   "execution_count": 16,
   "metadata": {},
   "outputs": [
    {
     "data": {
      "text/html": [
       "<div>\n",
       "<style scoped>\n",
       "    .dataframe tbody tr th:only-of-type {\n",
       "        vertical-align: middle;\n",
       "    }\n",
       "\n",
       "    .dataframe tbody tr th {\n",
       "        vertical-align: top;\n",
       "    }\n",
       "\n",
       "    .dataframe thead th {\n",
       "        text-align: right;\n",
       "    }\n",
       "</style>\n",
       "<table border=\"1\" class=\"dataframe\">\n",
       "  <thead>\n",
       "    <tr style=\"text-align: right;\">\n",
       "      <th></th>\n",
       "      <th>Property</th>\n",
       "      <th>Score</th>\n",
       "    </tr>\n",
       "  </thead>\n",
       "  <tbody>\n",
       "    <tr>\n",
       "      <th>0</th>\n",
       "      <td>Column Shapes</td>\n",
       "      <td>0.815559</td>\n",
       "    </tr>\n",
       "    <tr>\n",
       "      <th>1</th>\n",
       "      <td>Column Pair Trends</td>\n",
       "      <td>0.787191</td>\n",
       "    </tr>\n",
       "  </tbody>\n",
       "</table>\n",
       "</div>"
      ],
      "text/plain": [
       "             Property     Score\n",
       "0       Column Shapes  0.815559\n",
       "1  Column Pair Trends  0.787191"
      ]
     },
     "execution_count": 16,
     "metadata": {},
     "output_type": "execute_result"
    }
   ],
   "source": [
    "report.get_properties()"
   ]
  },
  {
   "cell_type": "code",
   "execution_count": 20,
   "metadata": {},
   "outputs": [
    {
     "data": {
      "text/html": [
       "<div>\n",
       "<style scoped>\n",
       "    .dataframe tbody tr th:only-of-type {\n",
       "        vertical-align: middle;\n",
       "    }\n",
       "\n",
       "    .dataframe tbody tr th {\n",
       "        vertical-align: top;\n",
       "    }\n",
       "\n",
       "    .dataframe thead th {\n",
       "        text-align: right;\n",
       "    }\n",
       "</style>\n",
       "<table border=\"1\" class=\"dataframe\">\n",
       "  <thead>\n",
       "    <tr style=\"text-align: right;\">\n",
       "      <th></th>\n",
       "      <th>Property</th>\n",
       "      <th>Score</th>\n",
       "    </tr>\n",
       "  </thead>\n",
       "  <tbody>\n",
       "    <tr>\n",
       "      <th>0</th>\n",
       "      <td>Column Shapes</td>\n",
       "      <td>0.815559</td>\n",
       "    </tr>\n",
       "    <tr>\n",
       "      <th>1</th>\n",
       "      <td>Column Pair Trends</td>\n",
       "      <td>0.786997</td>\n",
       "    </tr>\n",
       "  </tbody>\n",
       "</table>\n",
       "</div>"
      ],
      "text/plain": [
       "             Property     Score\n",
       "0       Column Shapes  0.815559\n",
       "1  Column Pair Trends  0.786997"
      ]
     },
     "execution_count": 20,
     "metadata": {},
     "output_type": "execute_result"
    }
   ],
   "source": [
    "report.get_properties()"
   ]
  },
  {
   "cell_type": "code",
   "execution_count": 24,
   "metadata": {},
   "outputs": [
    {
     "data": {
      "text/html": [
       "<div>\n",
       "<style scoped>\n",
       "    .dataframe tbody tr th:only-of-type {\n",
       "        vertical-align: middle;\n",
       "    }\n",
       "\n",
       "    .dataframe tbody tr th {\n",
       "        vertical-align: top;\n",
       "    }\n",
       "\n",
       "    .dataframe thead th {\n",
       "        text-align: right;\n",
       "    }\n",
       "</style>\n",
       "<table border=\"1\" class=\"dataframe\">\n",
       "  <thead>\n",
       "    <tr style=\"text-align: right;\">\n",
       "      <th></th>\n",
       "      <th>Column</th>\n",
       "      <th>Metric</th>\n",
       "      <th>Score</th>\n",
       "    </tr>\n",
       "  </thead>\n",
       "  <tbody>\n",
       "    <tr>\n",
       "      <th>0</th>\n",
       "      <td>start_date</td>\n",
       "      <td>KSComplement</td>\n",
       "      <td>0.701107</td>\n",
       "    </tr>\n",
       "    <tr>\n",
       "      <th>1</th>\n",
       "      <td>end_date</td>\n",
       "      <td>KSComplement</td>\n",
       "      <td>0.768919</td>\n",
       "    </tr>\n",
       "    <tr>\n",
       "      <th>2</th>\n",
       "      <td>salary</td>\n",
       "      <td>KSComplement</td>\n",
       "      <td>0.869155</td>\n",
       "    </tr>\n",
       "    <tr>\n",
       "      <th>3</th>\n",
       "      <td>duration</td>\n",
       "      <td>KSComplement</td>\n",
       "      <td>0.826051</td>\n",
       "    </tr>\n",
       "    <tr>\n",
       "      <th>4</th>\n",
       "      <td>high_perc</td>\n",
       "      <td>KSComplement</td>\n",
       "      <td>0.553488</td>\n",
       "    </tr>\n",
       "    <tr>\n",
       "      <th>5</th>\n",
       "      <td>high_spec</td>\n",
       "      <td>TVComplement</td>\n",
       "      <td>0.902326</td>\n",
       "    </tr>\n",
       "    <tr>\n",
       "      <th>6</th>\n",
       "      <td>mba_spec</td>\n",
       "      <td>TVComplement</td>\n",
       "      <td>0.995349</td>\n",
       "    </tr>\n",
       "    <tr>\n",
       "      <th>7</th>\n",
       "      <td>second_perc</td>\n",
       "      <td>KSComplement</td>\n",
       "      <td>0.627907</td>\n",
       "    </tr>\n",
       "    <tr>\n",
       "      <th>8</th>\n",
       "      <td>gender</td>\n",
       "      <td>TVComplement</td>\n",
       "      <td>0.939535</td>\n",
       "    </tr>\n",
       "    <tr>\n",
       "      <th>9</th>\n",
       "      <td>degree_perc</td>\n",
       "      <td>KSComplement</td>\n",
       "      <td>0.627907</td>\n",
       "    </tr>\n",
       "    <tr>\n",
       "      <th>10</th>\n",
       "      <td>placed</td>\n",
       "      <td>TVComplement</td>\n",
       "      <td>0.916279</td>\n",
       "    </tr>\n",
       "    <tr>\n",
       "      <th>11</th>\n",
       "      <td>experience_years</td>\n",
       "      <td>KSComplement</td>\n",
       "      <td>0.800000</td>\n",
       "    </tr>\n",
       "    <tr>\n",
       "      <th>12</th>\n",
       "      <td>employability_perc</td>\n",
       "      <td>KSComplement</td>\n",
       "      <td>0.781395</td>\n",
       "    </tr>\n",
       "    <tr>\n",
       "      <th>13</th>\n",
       "      <td>mba_perc</td>\n",
       "      <td>KSComplement</td>\n",
       "      <td>0.841860</td>\n",
       "    </tr>\n",
       "    <tr>\n",
       "      <th>14</th>\n",
       "      <td>work_experience</td>\n",
       "      <td>TVComplement</td>\n",
       "      <td>0.972093</td>\n",
       "    </tr>\n",
       "    <tr>\n",
       "      <th>15</th>\n",
       "      <td>degree_type</td>\n",
       "      <td>TVComplement</td>\n",
       "      <td>0.925581</td>\n",
       "    </tr>\n",
       "  </tbody>\n",
       "</table>\n",
       "</div>"
      ],
      "text/plain": [
       "                Column        Metric     Score\n",
       "0           start_date  KSComplement  0.701107\n",
       "1             end_date  KSComplement  0.768919\n",
       "2               salary  KSComplement  0.869155\n",
       "3             duration  KSComplement  0.826051\n",
       "4            high_perc  KSComplement  0.553488\n",
       "5            high_spec  TVComplement  0.902326\n",
       "6             mba_spec  TVComplement  0.995349\n",
       "7          second_perc  KSComplement  0.627907\n",
       "8               gender  TVComplement  0.939535\n",
       "9          degree_perc  KSComplement  0.627907\n",
       "10              placed  TVComplement  0.916279\n",
       "11    experience_years  KSComplement  0.800000\n",
       "12  employability_perc  KSComplement  0.781395\n",
       "13            mba_perc  KSComplement  0.841860\n",
       "14     work_experience  TVComplement  0.972093\n",
       "15         degree_type  TVComplement  0.925581"
      ]
     },
     "execution_count": 24,
     "metadata": {},
     "output_type": "execute_result"
    }
   ],
   "source": [
    "report.get_details(property_name='Column Shapes')"
   ]
  },
  {
   "cell_type": "code",
   "execution_count": 25,
   "metadata": {},
   "outputs": [
    {
     "data": {
      "text/html": [
       "<div>\n",
       "<style scoped>\n",
       "    .dataframe tbody tr th:only-of-type {\n",
       "        vertical-align: middle;\n",
       "    }\n",
       "\n",
       "    .dataframe tbody tr th {\n",
       "        vertical-align: top;\n",
       "    }\n",
       "\n",
       "    .dataframe thead th {\n",
       "        text-align: right;\n",
       "    }\n",
       "</style>\n",
       "<table border=\"1\" class=\"dataframe\">\n",
       "  <thead>\n",
       "    <tr style=\"text-align: right;\">\n",
       "      <th></th>\n",
       "      <th>Column 1</th>\n",
       "      <th>Column 2</th>\n",
       "      <th>Metric</th>\n",
       "      <th>Score</th>\n",
       "      <th>Real Correlation</th>\n",
       "      <th>Synthetic Correlation</th>\n",
       "    </tr>\n",
       "  </thead>\n",
       "  <tbody>\n",
       "    <tr>\n",
       "      <th>0</th>\n",
       "      <td>start_date</td>\n",
       "      <td>end_date</td>\n",
       "      <td>CorrelationSimilarity</td>\n",
       "      <td>0.906445</td>\n",
       "      <td>0.397321</td>\n",
       "      <td>0.210212</td>\n",
       "    </tr>\n",
       "    <tr>\n",
       "      <th>1</th>\n",
       "      <td>start_date</td>\n",
       "      <td>salary</td>\n",
       "      <td>CorrelationSimilarity</td>\n",
       "      <td>0.968412</td>\n",
       "      <td>0.052848</td>\n",
       "      <td>-0.010328</td>\n",
       "    </tr>\n",
       "    <tr>\n",
       "      <th>2</th>\n",
       "      <td>start_date</td>\n",
       "      <td>duration</td>\n",
       "      <td>CorrelationSimilarity</td>\n",
       "      <td>0.833848</td>\n",
       "      <td>-0.454971</td>\n",
       "      <td>-0.122667</td>\n",
       "    </tr>\n",
       "    <tr>\n",
       "      <th>3</th>\n",
       "      <td>start_date</td>\n",
       "      <td>high_perc</td>\n",
       "      <td>CorrelationSimilarity</td>\n",
       "      <td>0.943772</td>\n",
       "      <td>0.055928</td>\n",
       "      <td>0.168384</td>\n",
       "    </tr>\n",
       "    <tr>\n",
       "      <th>4</th>\n",
       "      <td>start_date</td>\n",
       "      <td>high_spec</td>\n",
       "      <td>ContingencySimilarity</td>\n",
       "      <td>0.604651</td>\n",
       "      <td>NaN</td>\n",
       "      <td>NaN</td>\n",
       "    </tr>\n",
       "    <tr>\n",
       "      <th>...</th>\n",
       "      <td>...</td>\n",
       "      <td>...</td>\n",
       "      <td>...</td>\n",
       "      <td>...</td>\n",
       "      <td>...</td>\n",
       "      <td>...</td>\n",
       "    </tr>\n",
       "    <tr>\n",
       "      <th>115</th>\n",
       "      <td>employability_perc</td>\n",
       "      <td>work_experience</td>\n",
       "      <td>ContingencySimilarity</td>\n",
       "      <td>0.693023</td>\n",
       "      <td>NaN</td>\n",
       "      <td>NaN</td>\n",
       "    </tr>\n",
       "    <tr>\n",
       "      <th>116</th>\n",
       "      <td>employability_perc</td>\n",
       "      <td>degree_type</td>\n",
       "      <td>ContingencySimilarity</td>\n",
       "      <td>0.697674</td>\n",
       "      <td>NaN</td>\n",
       "      <td>NaN</td>\n",
       "    </tr>\n",
       "    <tr>\n",
       "      <th>117</th>\n",
       "      <td>mba_perc</td>\n",
       "      <td>work_experience</td>\n",
       "      <td>ContingencySimilarity</td>\n",
       "      <td>0.804651</td>\n",
       "      <td>NaN</td>\n",
       "      <td>NaN</td>\n",
       "    </tr>\n",
       "    <tr>\n",
       "      <th>118</th>\n",
       "      <td>mba_perc</td>\n",
       "      <td>degree_type</td>\n",
       "      <td>ContingencySimilarity</td>\n",
       "      <td>0.753488</td>\n",
       "      <td>NaN</td>\n",
       "      <td>NaN</td>\n",
       "    </tr>\n",
       "    <tr>\n",
       "      <th>119</th>\n",
       "      <td>work_experience</td>\n",
       "      <td>degree_type</td>\n",
       "      <td>ContingencySimilarity</td>\n",
       "      <td>0.897674</td>\n",
       "      <td>NaN</td>\n",
       "      <td>NaN</td>\n",
       "    </tr>\n",
       "  </tbody>\n",
       "</table>\n",
       "<p>120 rows × 6 columns</p>\n",
       "</div>"
      ],
      "text/plain": [
       "               Column 1         Column 2                 Metric     Score  \\\n",
       "0            start_date         end_date  CorrelationSimilarity  0.906445   \n",
       "1            start_date           salary  CorrelationSimilarity  0.968412   \n",
       "2            start_date         duration  CorrelationSimilarity  0.833848   \n",
       "3            start_date        high_perc  CorrelationSimilarity  0.943772   \n",
       "4            start_date        high_spec  ContingencySimilarity  0.604651   \n",
       "..                  ...              ...                    ...       ...   \n",
       "115  employability_perc  work_experience  ContingencySimilarity  0.693023   \n",
       "116  employability_perc      degree_type  ContingencySimilarity  0.697674   \n",
       "117            mba_perc  work_experience  ContingencySimilarity  0.804651   \n",
       "118            mba_perc      degree_type  ContingencySimilarity  0.753488   \n",
       "119     work_experience      degree_type  ContingencySimilarity  0.897674   \n",
       "\n",
       "     Real Correlation  Synthetic Correlation  \n",
       "0            0.397321               0.210212  \n",
       "1            0.052848              -0.010328  \n",
       "2           -0.454971              -0.122667  \n",
       "3            0.055928               0.168384  \n",
       "4                 NaN                    NaN  \n",
       "..                ...                    ...  \n",
       "115               NaN                    NaN  \n",
       "116               NaN                    NaN  \n",
       "117               NaN                    NaN  \n",
       "118               NaN                    NaN  \n",
       "119               NaN                    NaN  \n",
       "\n",
       "[120 rows x 6 columns]"
      ]
     },
     "execution_count": 25,
     "metadata": {},
     "output_type": "execute_result"
    }
   ],
   "source": [
    "report.get_details(property_name='Column Pair Trends')"
   ]
  },
  {
   "cell_type": "code",
   "execution_count": 12,
   "metadata": {},
   "outputs": [
    {
     "data": {
      "text/plain": [
       "[0.8503937007874016,\n",
       " 0.8615384615384616,\n",
       " 0.9444444444444444,\n",
       " 1.0,\n",
       " 0.8651162790697674,\n",
       " 0.9255813953488372,\n",
       " 0.9441860465116279,\n",
       " 1.0,\n",
       " 0.8883720930232558,\n",
       " 0.8930232558139535]"
      ]
     },
     "execution_count": 12,
     "metadata": {},
     "output_type": "execute_result"
    }
   ],
   "source": [
    "list(report.get_details('Boundary')['Score'])"
   ]
  },
  {
   "cell_type": "code",
   "execution_count": 13,
   "metadata": {},
   "outputs": [
    {
     "data": {
      "text/html": [
       "<div>\n",
       "<style scoped>\n",
       "    .dataframe tbody tr th:only-of-type {\n",
       "        vertical-align: middle;\n",
       "    }\n",
       "\n",
       "    .dataframe tbody tr th {\n",
       "        vertical-align: top;\n",
       "    }\n",
       "\n",
       "    .dataframe thead th {\n",
       "        text-align: right;\n",
       "    }\n",
       "</style>\n",
       "<table border=\"1\" class=\"dataframe\">\n",
       "  <thead>\n",
       "    <tr style=\"text-align: right;\">\n",
       "      <th></th>\n",
       "      <th>Property</th>\n",
       "      <th>Score</th>\n",
       "    </tr>\n",
       "  </thead>\n",
       "  <tbody>\n",
       "    <tr>\n",
       "      <th>0</th>\n",
       "      <td>Coverage</td>\n",
       "      <td>0.94</td>\n",
       "    </tr>\n",
       "    <tr>\n",
       "      <th>1</th>\n",
       "      <td>Boundary</td>\n",
       "      <td>0.92</td>\n",
       "    </tr>\n",
       "    <tr>\n",
       "      <th>2</th>\n",
       "      <td>Synthesis</td>\n",
       "      <td>1.00</td>\n",
       "    </tr>\n",
       "  </tbody>\n",
       "</table>\n",
       "</div>"
      ],
      "text/plain": [
       "    Property  Score\n",
       "0   Coverage   0.94\n",
       "1   Boundary   0.92\n",
       "2  Synthesis   1.00"
      ]
     },
     "execution_count": 13,
     "metadata": {},
     "output_type": "execute_result"
    }
   ],
   "source": [
    "report.get_properties()"
   ]
  },
  {
   "cell_type": "code",
   "execution_count": 8,
   "metadata": {},
   "outputs": [
    {
     "data": {
      "text/html": [
       "<div>\n",
       "<style scoped>\n",
       "    .dataframe tbody tr th:only-of-type {\n",
       "        vertical-align: middle;\n",
       "    }\n",
       "\n",
       "    .dataframe tbody tr th {\n",
       "        vertical-align: top;\n",
       "    }\n",
       "\n",
       "    .dataframe thead th {\n",
       "        text-align: right;\n",
       "    }\n",
       "</style>\n",
       "<table border=\"1\" class=\"dataframe\">\n",
       "  <thead>\n",
       "    <tr style=\"text-align: right;\">\n",
       "      <th></th>\n",
       "      <th>Column</th>\n",
       "      <th>Metric</th>\n",
       "      <th>Score</th>\n",
       "    </tr>\n",
       "  </thead>\n",
       "  <tbody>\n",
       "    <tr>\n",
       "      <th>0</th>\n",
       "      <td>start_date</td>\n",
       "      <td>RangeCoverage</td>\n",
       "      <td>1.000000</td>\n",
       "    </tr>\n",
       "    <tr>\n",
       "      <th>1</th>\n",
       "      <td>end_date</td>\n",
       "      <td>RangeCoverage</td>\n",
       "      <td>1.000000</td>\n",
       "    </tr>\n",
       "    <tr>\n",
       "      <th>2</th>\n",
       "      <td>salary</td>\n",
       "      <td>RangeCoverage</td>\n",
       "      <td>0.423338</td>\n",
       "    </tr>\n",
       "    <tr>\n",
       "      <th>3</th>\n",
       "      <td>duration</td>\n",
       "      <td>RangeCoverage</td>\n",
       "      <td>1.000000</td>\n",
       "    </tr>\n",
       "    <tr>\n",
       "      <th>4</th>\n",
       "      <td>high_perc</td>\n",
       "      <td>RangeCoverage</td>\n",
       "      <td>0.980735</td>\n",
       "    </tr>\n",
       "    <tr>\n",
       "      <th>5</th>\n",
       "      <td>high_spec</td>\n",
       "      <td>CategoryCoverage</td>\n",
       "      <td>1.000000</td>\n",
       "    </tr>\n",
       "    <tr>\n",
       "      <th>6</th>\n",
       "      <td>mba_spec</td>\n",
       "      <td>CategoryCoverage</td>\n",
       "      <td>1.000000</td>\n",
       "    </tr>\n",
       "    <tr>\n",
       "      <th>7</th>\n",
       "      <td>second_perc</td>\n",
       "      <td>RangeCoverage</td>\n",
       "      <td>1.000000</td>\n",
       "    </tr>\n",
       "    <tr>\n",
       "      <th>8</th>\n",
       "      <td>gender</td>\n",
       "      <td>CategoryCoverage</td>\n",
       "      <td>1.000000</td>\n",
       "    </tr>\n",
       "    <tr>\n",
       "      <th>9</th>\n",
       "      <td>degree_perc</td>\n",
       "      <td>RangeCoverage</td>\n",
       "      <td>1.000000</td>\n",
       "    </tr>\n",
       "    <tr>\n",
       "      <th>10</th>\n",
       "      <td>placed</td>\n",
       "      <td>CategoryCoverage</td>\n",
       "      <td>1.000000</td>\n",
       "    </tr>\n",
       "    <tr>\n",
       "      <th>11</th>\n",
       "      <td>experience_years</td>\n",
       "      <td>RangeCoverage</td>\n",
       "      <td>0.666667</td>\n",
       "    </tr>\n",
       "    <tr>\n",
       "      <th>12</th>\n",
       "      <td>employability_perc</td>\n",
       "      <td>RangeCoverage</td>\n",
       "      <td>1.000000</td>\n",
       "    </tr>\n",
       "    <tr>\n",
       "      <th>13</th>\n",
       "      <td>mba_perc</td>\n",
       "      <td>RangeCoverage</td>\n",
       "      <td>1.000000</td>\n",
       "    </tr>\n",
       "    <tr>\n",
       "      <th>14</th>\n",
       "      <td>work_experience</td>\n",
       "      <td>CategoryCoverage</td>\n",
       "      <td>1.000000</td>\n",
       "    </tr>\n",
       "    <tr>\n",
       "      <th>15</th>\n",
       "      <td>degree_type</td>\n",
       "      <td>CategoryCoverage</td>\n",
       "      <td>1.000000</td>\n",
       "    </tr>\n",
       "  </tbody>\n",
       "</table>\n",
       "</div>"
      ],
      "text/plain": [
       "                Column            Metric     Score\n",
       "0           start_date     RangeCoverage  1.000000\n",
       "1             end_date     RangeCoverage  1.000000\n",
       "2               salary     RangeCoverage  0.423338\n",
       "3             duration     RangeCoverage  1.000000\n",
       "4            high_perc     RangeCoverage  0.980735\n",
       "5            high_spec  CategoryCoverage  1.000000\n",
       "6             mba_spec  CategoryCoverage  1.000000\n",
       "7          second_perc     RangeCoverage  1.000000\n",
       "8               gender  CategoryCoverage  1.000000\n",
       "9          degree_perc     RangeCoverage  1.000000\n",
       "10              placed  CategoryCoverage  1.000000\n",
       "11    experience_years     RangeCoverage  0.666667\n",
       "12  employability_perc     RangeCoverage  1.000000\n",
       "13            mba_perc     RangeCoverage  1.000000\n",
       "14     work_experience  CategoryCoverage  1.000000\n",
       "15         degree_type  CategoryCoverage  1.000000"
      ]
     },
     "execution_count": 8,
     "metadata": {},
     "output_type": "execute_result"
    }
   ],
   "source": [
    "report.get_details('Coverage')"
   ]
  },
  {
   "cell_type": "code",
   "execution_count": 1,
   "metadata": {},
   "outputs": [
    {
     "name": "stdout",
     "output_type": "stream",
     "text": [
      "Generating report ...\n",
      "(1/3) Evaluating Coverage: : 100%|██████████| 18/18 [00:00<00:00, 3416.95it/s]\n",
      "(2/3) Evaluating Boundaries: : 100%|██████████| 18/18 [00:00<00:00, 2649.87it/s]"
     ]
    },
    {
     "name": "stderr",
     "output_type": "stream",
     "text": [
      "/Users/romain_datacebo/Desktop/SDMetrics/sdmetrics/single_column/statistical/boundary_adherence.py:55: RuntimeWarning: invalid value encountered in scalar divide\n",
      "  return valid.sum() / len(synthetic_data)\n"
     ]
    },
    {
     "name": "stdout",
     "output_type": "stream",
     "text": [
      "\n",
      "(3/3) Evaluating Synthesis: : 100%|██████████| 1/1 [00:00<00:00,  1.11it/s]\n",
      "\n",
      "DiagnosticResults:\n",
      "\n",
      "SUCCESS:\n",
      "✓ The synthetic data covers over 90% of the categories present in the real data\n",
      "✓ The synthetic data covers over 90% of the numerical ranges present in the real data\n",
      "✓ The synthetic data follows over 90% of the min/max boundaries set by the real data\n",
      "✓ Over 90% of the synthetic rows are not copies of the real data\n"
     ]
    }
   ],
   "source": [
    "from sdmetrics.demos import load_demo\n",
    "import numpy as np\n",
    "from sdmetrics.reports.single_table import QualityReport, DiagnosticReport\n",
    "real_data, synthetic_data, metadata = load_demo(modality='single_table')\n",
    "\n",
    "real_data['nan_column'] = np.nan * len(real_data)\n",
    "synthetic_data['nan_column'] = np.nan * len(synthetic_data)\n",
    "metadata['columns']['nan_column'] = {'sdtype': 'numerical'}\n",
    "\n",
    "report = DiagnosticReport()\n",
    "\n",
    "# Run\n",
    "report.generate(real_data, synthetic_data, metadata)"
   ]
  },
  {
   "cell_type": "code",
   "execution_count": 10,
   "metadata": {},
   "outputs": [
    {
     "name": "stdout",
     "output_type": "stream",
     "text": [
      "Metric\n",
      "KSComplement    0.739779\n",
      "TVComplement    0.941860\n",
      "Name: Score, dtype: float64\n",
      "KSComplement 0.7397789049095927\n",
      "TVComplement 0.9418604651162791\n",
      "Metric\n",
      "ContingencySimilarity    0.728969\n",
      "CorrelationSimilarity    0.912613\n",
      "Name: Score, dtype: float64\n",
      "ContingencySimilarity 0.7289692793568763\n",
      "CorrelationSimilarity 0.9126130573958284\n"
     ]
    }
   ],
   "source": [
    "for property in report._properties:\n",
    "    details = report._properties[property]._details\n",
    "    print(details.groupby('Metric')['Score'].mean())\n",
    "    prov = details.groupby('Metric')['Score'].mean()\n",
    "    for metric, score in prov.items():\n",
    "        print(metric, score)"
   ]
  },
  {
   "cell_type": "code",
   "execution_count": 6,
   "metadata": {},
   "outputs": [],
   "source": [
    "report._properties['Boundaries']._details"
   ]
  },
  {
   "cell_type": "code",
   "execution_count": 1,
   "metadata": {},
   "outputs": [],
   "source": [
    "from sdmetrics.demos import load_demo\n",
    "import numpy as np\n",
    "from sdmetrics.reports.single_table import QualityReport, DiagnosticReport\n",
    "import pandas as pd\n",
    "report = DiagnosticReport()\n",
    "\n",
    "diagnostic_report = DiagnosticReport()\n",
    "diagnostic_report = DiagnosticReport()\n",
    "diagnostic_report._properties['Coverage']._details = pd.DataFrame({\n",
    "    'Metric': ['CategoryCoverage', 'RangeCoverage', 'CategoryCoverage'],\n",
    "    'Score': [0.1, 0.2, 0.3]\n",
    "})\n",
    "diagnostic_report._properties['Boundary']._details = pd.DataFrame({\n",
    "    'Metric': ['BoundaryAdherence', 'BoundaryAdherence', 'BoundaryAdherence'],\n",
    "    'Score': [0.5, 0.6, 0.7]\n",
    "})\n",
    "diagnostic_report._properties['Synthesis']._details = pd.DataFrame({\n",
    "    'Metric': ['NewRowSynthesis'],\n",
    "    'Score': [1.0]\n",
    "})"
   ]
  },
  {
   "cell_type": "code",
   "execution_count": 2,
   "metadata": {},
   "outputs": [
    {
     "name": "stdout",
     "output_type": "stream",
     "text": [
      "\n",
      "Diagnostic Results:\n",
      "\n",
      "SUCCESS:\n",
      "✓ Over 90% of the synthetic rows are not copies of the real data\n",
      "\n",
      "WARNING:\n",
      "! More than 10% the synthetic data does not follow the min/max boundaries set by the real data\n",
      "\n",
      "DANGER:\n",
      "x The synthetic data is missing more than 50% of the categories present in the real data\n",
      "x The synthetic data is missing more than 50% of the numerical ranges present in the real data\n"
     ]
    }
   ],
   "source": [
    "diagnostic_report._print_results()"
   ]
  },
  {
   "cell_type": "code",
   "execution_count": 13,
   "metadata": {},
   "outputs": [
    {
     "name": "stdout",
     "output_type": "stream",
     "text": [
      "\n",
      "Diagnostic Results:\n",
      "\n",
      "SUCCESS:\n",
      "✓ Over 90% of the synthetic rows are not copies of the real data\n",
      "\n",
      "WARNING:\n",
      "! More than 10% the synthetic data does not follow the min/max boundaries set by the real data\n",
      "\n",
      "DANGER:\n",
      "x The synthetic data is missing more than 50% of the categories present in the real data\n",
      "x The synthetic data is missing more than 50% of the numerical ranges present in the real data\n"
     ]
    }
   ],
   "source": [
    "import contextlib\n",
    "import io\n",
    "with contextlib.redirect_stdout(io.StringIO()) as my_stdout:\n",
    "    report._print_results()\n",
    "\n",
    "# Print the whole output for inspection\n",
    "#print(my_stdout.getvalue())\n"
   ]
  },
  {
   "cell_type": "code",
   "execution_count": 15,
   "metadata": {},
   "outputs": [
    {
     "data": {
      "text/plain": [
       "''"
      ]
     },
     "execution_count": 15,
     "metadata": {},
     "output_type": "execute_result"
    }
   ],
   "source": [
    "my_stdout.getvalue()"
   ]
  },
  {
   "cell_type": "code",
   "execution_count": 14,
   "metadata": {},
   "outputs": [
    {
     "name": "stdout",
     "output_type": "stream",
     "text": [
      "\n"
     ]
    }
   ],
   "source": [
    "print(my_stdout.getvalue())"
   ]
  },
  {
   "cell_type": "code",
   "execution_count": 7,
   "metadata": {},
   "outputs": [
    {
     "name": "stdout",
     "output_type": "stream",
     "text": [
      "\n",
      "Diagnostic Results:\n",
      "\n",
      "SUCCESS:\n",
      "✓ Over 90% of the synthetic rows are not copies of the real data\n",
      "\n",
      "WARNING:\n",
      "! More than 10% the synthetic data does not follow the min/max boundaries set by the real data\n",
      "\n",
      "DANGER:\n",
      "x The synthetic data is missing more than 50% of the categories present in the real data\n",
      "x The synthetic data is missing more than 50% of the numerical ranges present in the real data\n"
     ]
    }
   ],
   "source": [
    "la = report._print_results()"
   ]
  },
  {
   "cell_type": "code",
   "execution_count": 1,
   "metadata": {},
   "outputs": [],
   "source": [
    "from sdmetrics.demos import load_demo\n",
    "from sdmetrics.reports.single_table._properties import ColumnShapes\n",
    "real_data, synthetic_data, metadata = load_demo('single_table')\n",
    "\n",
    "# Run\n",
    "column_shape_property = ColumnShapes()\n",
    "score = column_shape_property.get_score(real_data, synthetic_data, metadata)"
   ]
  },
  {
   "cell_type": "code",
   "execution_count": 2,
   "metadata": {},
   "outputs": [
    {
     "data": {
      "application/vnd.plotly.v1+json": {
       "config": {
        "plotlyServerURL": "https://plot.ly"
       },
       "data": [
        {
         "alignmentgroup": "True",
         "customdata": [
          [
           "KSComplement"
          ],
          [
           "KSComplement"
          ],
          [
           "KSComplement"
          ],
          [
           "KSComplement"
          ],
          [
           "KSComplement"
          ],
          [
           "KSComplement"
          ],
          [
           "KSComplement"
          ],
          [
           "KSComplement"
          ],
          [
           "KSComplement"
          ],
          [
           "KSComplement"
          ]
         ],
         "hovertemplate": "<b>%{hovertext}</b><br><br>Metric=%{customdata[0]}<br>Score=%{y}<extra></extra>",
         "hovertext": [
          "start_date",
          "end_date",
          "salary",
          "duration",
          "high_perc",
          "second_perc",
          "degree_perc",
          "experience_years",
          "employability_perc",
          "mba_perc"
         ],
         "legendgroup": "KSComplement",
         "marker": {
          "color": "#000036",
          "pattern": {
           "shape": ""
          }
         },
         "name": "KSComplement",
         "offsetgroup": "KSComplement",
         "orientation": "v",
         "showlegend": true,
         "textposition": "auto",
         "type": "bar",
         "x": [
          "start_date",
          "end_date",
          "salary",
          "duration",
          "high_perc",
          "second_perc",
          "degree_perc",
          "experience_years",
          "employability_perc",
          "mba_perc"
         ],
         "xaxis": "x",
         "y": [
          0.7011066184294531,
          0.768918918918919,
          0.8691548691548692,
          0.8260505030578024,
          0.5534883720930233,
          0.627906976744186,
          0.627906976744186,
          0.8,
          0.7813953488372093,
          0.8418604651162791
         ],
         "yaxis": "y"
        },
        {
         "alignmentgroup": "True",
         "customdata": [
          [
           "TVComplement"
          ],
          [
           "TVComplement"
          ],
          [
           "TVComplement"
          ],
          [
           "TVComplement"
          ],
          [
           "TVComplement"
          ],
          [
           "TVComplement"
          ]
         ],
         "hovertemplate": "<b>%{hovertext}</b><br><br>Metric=%{customdata[0]}<br>Score=%{y}<extra></extra>",
         "hovertext": [
          "high_spec",
          "mba_spec",
          "gender",
          "placed",
          "work_experience",
          "degree_type"
         ],
         "legendgroup": "TVComplement",
         "marker": {
          "color": "#03AFF1",
          "pattern": {
           "shape": "/"
          }
         },
         "name": "TVComplement",
         "offsetgroup": "TVComplement",
         "orientation": "v",
         "showlegend": true,
         "textposition": "auto",
         "type": "bar",
         "x": [
          "high_spec",
          "mba_spec",
          "gender",
          "placed",
          "work_experience",
          "degree_type"
         ],
         "xaxis": "x",
         "y": [
          0.9023255813953488,
          0.9953488372093023,
          0.9395348837209302,
          0.9162790697674419,
          0.9720930232558139,
          0.9255813953488372
         ],
         "yaxis": "y"
        }
       ],
       "layout": {
        "barmode": "relative",
        "legend": {
         "title": {
          "text": "Metric"
         },
         "tracegroupgap": 0
        },
        "margin": {
         "t": 150
        },
        "plot_bgcolor": "#F5F5F8",
        "template": {
         "data": {
          "bar": [
           {
            "error_x": {
             "color": "#2a3f5f"
            },
            "error_y": {
             "color": "#2a3f5f"
            },
            "marker": {
             "line": {
              "color": "#E5ECF6",
              "width": 0.5
             },
             "pattern": {
              "fillmode": "overlay",
              "size": 10,
              "solidity": 0.2
             }
            },
            "type": "bar"
           }
          ],
          "barpolar": [
           {
            "marker": {
             "line": {
              "color": "#E5ECF6",
              "width": 0.5
             },
             "pattern": {
              "fillmode": "overlay",
              "size": 10,
              "solidity": 0.2
             }
            },
            "type": "barpolar"
           }
          ],
          "carpet": [
           {
            "aaxis": {
             "endlinecolor": "#2a3f5f",
             "gridcolor": "white",
             "linecolor": "white",
             "minorgridcolor": "white",
             "startlinecolor": "#2a3f5f"
            },
            "baxis": {
             "endlinecolor": "#2a3f5f",
             "gridcolor": "white",
             "linecolor": "white",
             "minorgridcolor": "white",
             "startlinecolor": "#2a3f5f"
            },
            "type": "carpet"
           }
          ],
          "choropleth": [
           {
            "colorbar": {
             "outlinewidth": 0,
             "ticks": ""
            },
            "type": "choropleth"
           }
          ],
          "contour": [
           {
            "colorbar": {
             "outlinewidth": 0,
             "ticks": ""
            },
            "colorscale": [
             [
              0,
              "#0d0887"
             ],
             [
              0.1111111111111111,
              "#46039f"
             ],
             [
              0.2222222222222222,
              "#7201a8"
             ],
             [
              0.3333333333333333,
              "#9c179e"
             ],
             [
              0.4444444444444444,
              "#bd3786"
             ],
             [
              0.5555555555555556,
              "#d8576b"
             ],
             [
              0.6666666666666666,
              "#ed7953"
             ],
             [
              0.7777777777777778,
              "#fb9f3a"
             ],
             [
              0.8888888888888888,
              "#fdca26"
             ],
             [
              1,
              "#f0f921"
             ]
            ],
            "type": "contour"
           }
          ],
          "contourcarpet": [
           {
            "colorbar": {
             "outlinewidth": 0,
             "ticks": ""
            },
            "type": "contourcarpet"
           }
          ],
          "heatmap": [
           {
            "colorbar": {
             "outlinewidth": 0,
             "ticks": ""
            },
            "colorscale": [
             [
              0,
              "#0d0887"
             ],
             [
              0.1111111111111111,
              "#46039f"
             ],
             [
              0.2222222222222222,
              "#7201a8"
             ],
             [
              0.3333333333333333,
              "#9c179e"
             ],
             [
              0.4444444444444444,
              "#bd3786"
             ],
             [
              0.5555555555555556,
              "#d8576b"
             ],
             [
              0.6666666666666666,
              "#ed7953"
             ],
             [
              0.7777777777777778,
              "#fb9f3a"
             ],
             [
              0.8888888888888888,
              "#fdca26"
             ],
             [
              1,
              "#f0f921"
             ]
            ],
            "type": "heatmap"
           }
          ],
          "heatmapgl": [
           {
            "colorbar": {
             "outlinewidth": 0,
             "ticks": ""
            },
            "colorscale": [
             [
              0,
              "#0d0887"
             ],
             [
              0.1111111111111111,
              "#46039f"
             ],
             [
              0.2222222222222222,
              "#7201a8"
             ],
             [
              0.3333333333333333,
              "#9c179e"
             ],
             [
              0.4444444444444444,
              "#bd3786"
             ],
             [
              0.5555555555555556,
              "#d8576b"
             ],
             [
              0.6666666666666666,
              "#ed7953"
             ],
             [
              0.7777777777777778,
              "#fb9f3a"
             ],
             [
              0.8888888888888888,
              "#fdca26"
             ],
             [
              1,
              "#f0f921"
             ]
            ],
            "type": "heatmapgl"
           }
          ],
          "histogram": [
           {
            "marker": {
             "pattern": {
              "fillmode": "overlay",
              "size": 10,
              "solidity": 0.2
             }
            },
            "type": "histogram"
           }
          ],
          "histogram2d": [
           {
            "colorbar": {
             "outlinewidth": 0,
             "ticks": ""
            },
            "colorscale": [
             [
              0,
              "#0d0887"
             ],
             [
              0.1111111111111111,
              "#46039f"
             ],
             [
              0.2222222222222222,
              "#7201a8"
             ],
             [
              0.3333333333333333,
              "#9c179e"
             ],
             [
              0.4444444444444444,
              "#bd3786"
             ],
             [
              0.5555555555555556,
              "#d8576b"
             ],
             [
              0.6666666666666666,
              "#ed7953"
             ],
             [
              0.7777777777777778,
              "#fb9f3a"
             ],
             [
              0.8888888888888888,
              "#fdca26"
             ],
             [
              1,
              "#f0f921"
             ]
            ],
            "type": "histogram2d"
           }
          ],
          "histogram2dcontour": [
           {
            "colorbar": {
             "outlinewidth": 0,
             "ticks": ""
            },
            "colorscale": [
             [
              0,
              "#0d0887"
             ],
             [
              0.1111111111111111,
              "#46039f"
             ],
             [
              0.2222222222222222,
              "#7201a8"
             ],
             [
              0.3333333333333333,
              "#9c179e"
             ],
             [
              0.4444444444444444,
              "#bd3786"
             ],
             [
              0.5555555555555556,
              "#d8576b"
             ],
             [
              0.6666666666666666,
              "#ed7953"
             ],
             [
              0.7777777777777778,
              "#fb9f3a"
             ],
             [
              0.8888888888888888,
              "#fdca26"
             ],
             [
              1,
              "#f0f921"
             ]
            ],
            "type": "histogram2dcontour"
           }
          ],
          "mesh3d": [
           {
            "colorbar": {
             "outlinewidth": 0,
             "ticks": ""
            },
            "type": "mesh3d"
           }
          ],
          "parcoords": [
           {
            "line": {
             "colorbar": {
              "outlinewidth": 0,
              "ticks": ""
             }
            },
            "type": "parcoords"
           }
          ],
          "pie": [
           {
            "automargin": true,
            "type": "pie"
           }
          ],
          "scatter": [
           {
            "fillpattern": {
             "fillmode": "overlay",
             "size": 10,
             "solidity": 0.2
            },
            "type": "scatter"
           }
          ],
          "scatter3d": [
           {
            "line": {
             "colorbar": {
              "outlinewidth": 0,
              "ticks": ""
             }
            },
            "marker": {
             "colorbar": {
              "outlinewidth": 0,
              "ticks": ""
             }
            },
            "type": "scatter3d"
           }
          ],
          "scattercarpet": [
           {
            "marker": {
             "colorbar": {
              "outlinewidth": 0,
              "ticks": ""
             }
            },
            "type": "scattercarpet"
           }
          ],
          "scattergeo": [
           {
            "marker": {
             "colorbar": {
              "outlinewidth": 0,
              "ticks": ""
             }
            },
            "type": "scattergeo"
           }
          ],
          "scattergl": [
           {
            "marker": {
             "colorbar": {
              "outlinewidth": 0,
              "ticks": ""
             }
            },
            "type": "scattergl"
           }
          ],
          "scattermapbox": [
           {
            "marker": {
             "colorbar": {
              "outlinewidth": 0,
              "ticks": ""
             }
            },
            "type": "scattermapbox"
           }
          ],
          "scatterpolar": [
           {
            "marker": {
             "colorbar": {
              "outlinewidth": 0,
              "ticks": ""
             }
            },
            "type": "scatterpolar"
           }
          ],
          "scatterpolargl": [
           {
            "marker": {
             "colorbar": {
              "outlinewidth": 0,
              "ticks": ""
             }
            },
            "type": "scatterpolargl"
           }
          ],
          "scatterternary": [
           {
            "marker": {
             "colorbar": {
              "outlinewidth": 0,
              "ticks": ""
             }
            },
            "type": "scatterternary"
           }
          ],
          "surface": [
           {
            "colorbar": {
             "outlinewidth": 0,
             "ticks": ""
            },
            "colorscale": [
             [
              0,
              "#0d0887"
             ],
             [
              0.1111111111111111,
              "#46039f"
             ],
             [
              0.2222222222222222,
              "#7201a8"
             ],
             [
              0.3333333333333333,
              "#9c179e"
             ],
             [
              0.4444444444444444,
              "#bd3786"
             ],
             [
              0.5555555555555556,
              "#d8576b"
             ],
             [
              0.6666666666666666,
              "#ed7953"
             ],
             [
              0.7777777777777778,
              "#fb9f3a"
             ],
             [
              0.8888888888888888,
              "#fdca26"
             ],
             [
              1,
              "#f0f921"
             ]
            ],
            "type": "surface"
           }
          ],
          "table": [
           {
            "cells": {
             "fill": {
              "color": "#EBF0F8"
             },
             "line": {
              "color": "white"
             }
            },
            "header": {
             "fill": {
              "color": "#C8D4E3"
             },
             "line": {
              "color": "white"
             }
            },
            "type": "table"
           }
          ]
         },
         "layout": {
          "annotationdefaults": {
           "arrowcolor": "#2a3f5f",
           "arrowhead": 0,
           "arrowwidth": 1
          },
          "autotypenumbers": "strict",
          "coloraxis": {
           "colorbar": {
            "outlinewidth": 0,
            "ticks": ""
           }
          },
          "colorscale": {
           "diverging": [
            [
             0,
             "#8e0152"
            ],
            [
             0.1,
             "#c51b7d"
            ],
            [
             0.2,
             "#de77ae"
            ],
            [
             0.3,
             "#f1b6da"
            ],
            [
             0.4,
             "#fde0ef"
            ],
            [
             0.5,
             "#f7f7f7"
            ],
            [
             0.6,
             "#e6f5d0"
            ],
            [
             0.7,
             "#b8e186"
            ],
            [
             0.8,
             "#7fbc41"
            ],
            [
             0.9,
             "#4d9221"
            ],
            [
             1,
             "#276419"
            ]
           ],
           "sequential": [
            [
             0,
             "#0d0887"
            ],
            [
             0.1111111111111111,
             "#46039f"
            ],
            [
             0.2222222222222222,
             "#7201a8"
            ],
            [
             0.3333333333333333,
             "#9c179e"
            ],
            [
             0.4444444444444444,
             "#bd3786"
            ],
            [
             0.5555555555555556,
             "#d8576b"
            ],
            [
             0.6666666666666666,
             "#ed7953"
            ],
            [
             0.7777777777777778,
             "#fb9f3a"
            ],
            [
             0.8888888888888888,
             "#fdca26"
            ],
            [
             1,
             "#f0f921"
            ]
           ],
           "sequentialminus": [
            [
             0,
             "#0d0887"
            ],
            [
             0.1111111111111111,
             "#46039f"
            ],
            [
             0.2222222222222222,
             "#7201a8"
            ],
            [
             0.3333333333333333,
             "#9c179e"
            ],
            [
             0.4444444444444444,
             "#bd3786"
            ],
            [
             0.5555555555555556,
             "#d8576b"
            ],
            [
             0.6666666666666666,
             "#ed7953"
            ],
            [
             0.7777777777777778,
             "#fb9f3a"
            ],
            [
             0.8888888888888888,
             "#fdca26"
            ],
            [
             1,
             "#f0f921"
            ]
           ]
          },
          "colorway": [
           "#636efa",
           "#EF553B",
           "#00cc96",
           "#ab63fa",
           "#FFA15A",
           "#19d3f3",
           "#FF6692",
           "#B6E880",
           "#FF97FF",
           "#FECB52"
          ],
          "font": {
           "color": "#2a3f5f"
          },
          "geo": {
           "bgcolor": "white",
           "lakecolor": "white",
           "landcolor": "#E5ECF6",
           "showlakes": true,
           "showland": true,
           "subunitcolor": "white"
          },
          "hoverlabel": {
           "align": "left"
          },
          "hovermode": "closest",
          "mapbox": {
           "style": "light"
          },
          "paper_bgcolor": "white",
          "plot_bgcolor": "#E5ECF6",
          "polar": {
           "angularaxis": {
            "gridcolor": "white",
            "linecolor": "white",
            "ticks": ""
           },
           "bgcolor": "#E5ECF6",
           "radialaxis": {
            "gridcolor": "white",
            "linecolor": "white",
            "ticks": ""
           }
          },
          "scene": {
           "xaxis": {
            "backgroundcolor": "#E5ECF6",
            "gridcolor": "white",
            "gridwidth": 2,
            "linecolor": "white",
            "showbackground": true,
            "ticks": "",
            "zerolinecolor": "white"
           },
           "yaxis": {
            "backgroundcolor": "#E5ECF6",
            "gridcolor": "white",
            "gridwidth": 2,
            "linecolor": "white",
            "showbackground": true,
            "ticks": "",
            "zerolinecolor": "white"
           },
           "zaxis": {
            "backgroundcolor": "#E5ECF6",
            "gridcolor": "white",
            "gridwidth": 2,
            "linecolor": "white",
            "showbackground": true,
            "ticks": "",
            "zerolinecolor": "white"
           }
          },
          "shapedefaults": {
           "line": {
            "color": "#2a3f5f"
           }
          },
          "ternary": {
           "aaxis": {
            "gridcolor": "white",
            "linecolor": "white",
            "ticks": ""
           },
           "baxis": {
            "gridcolor": "white",
            "linecolor": "white",
            "ticks": ""
           },
           "bgcolor": "#E5ECF6",
           "caxis": {
            "gridcolor": "white",
            "linecolor": "white",
            "ticks": ""
           }
          },
          "title": {
           "x": 0.05
          },
          "xaxis": {
           "automargin": true,
           "gridcolor": "white",
           "linecolor": "white",
           "ticks": "",
           "title": {
            "standoff": 15
           },
           "zerolinecolor": "white",
           "zerolinewidth": 2
          },
          "yaxis": {
           "automargin": true,
           "gridcolor": "white",
           "linecolor": "white",
           "ticks": "",
           "title": {
            "standoff": 15
           },
           "zerolinecolor": "white",
           "zerolinewidth": 2
          }
         }
        },
        "title": {
         "text": "Data Quality: Column Shapes (Average Score=0.8156)"
        },
        "xaxis": {
         "anchor": "y",
         "categoryorder": "total ascending",
         "domain": [
          0,
          1
         ],
         "title": {
          "text": "Column"
         }
        },
        "yaxis": {
         "anchor": "x",
         "domain": [
          0,
          1
         ],
         "range": [
          0,
          1
         ],
         "title": {
          "text": "Score"
         }
        }
       }
      }
     },
     "metadata": {},
     "output_type": "display_data"
    }
   ],
   "source": [
    "column_shape_property.get_visualization()"
   ]
  },
  {
   "cell_type": "code",
   "execution_count": 1,
   "metadata": {},
   "outputs": [],
   "source": [
    "from datetime import date, datetime\n",
    "\n",
    "import numpy as np\n",
    "import pandas as pd\n",
    "\n",
    "from sdmetrics.reports.multi_table.quality_report import QualityReport"
   ]
  },
  {
   "cell_type": "code",
   "execution_count": 2,
   "metadata": {},
   "outputs": [],
   "source": [
    "def load_test_data():\n",
    "    real_data = {\n",
    "        'table1': pd.DataFrame({\n",
    "            'col1': [0, 1, 2, 3],\n",
    "            'col2': ['a', 'b', 'c', 'd'],\n",
    "            'col3': [True, False, False, True],\n",
    "        }),\n",
    "        'table2': pd.DataFrame({\n",
    "            'col4': [\n",
    "                datetime(2020, 10, 1),\n",
    "                datetime(2021, 1, 2),\n",
    "                datetime(2021, 9, 12),\n",
    "                datetime(2022, 10, 1),\n",
    "            ],\n",
    "            'col5': [date(2020, 9, 13), date(2020, 12, 1), date(2021, 1, 12), date(2022, 8, 13)],\n",
    "            'col6': [0, 1, 1, 0],\n",
    "            'col7': [0.1, 0.2, 0.3, 0.4],\n",
    "        }),\n",
    "    }\n",
    "\n",
    "    synthetic_data = {\n",
    "        'table1': pd.DataFrame({\n",
    "            'col1': [0, 2, 2, 3],\n",
    "            'col2': ['a', 'c', 'c', 'b'],\n",
    "            'col3': [False, False, False, True],\n",
    "        }),\n",
    "        'table2': pd.DataFrame({\n",
    "            'col4': [\n",
    "                datetime(2020, 11, 4),\n",
    "                datetime(2021, 2, 1),\n",
    "                datetime(2021, 8, 1),\n",
    "                datetime(2022, 12, 1),\n",
    "            ],\n",
    "            'col5': [date(2020, 10, 13), date(2020, 2, 4), date(2021, 3, 11), date(2022, 7, 23)],\n",
    "            'col6': [0, 1, 1, 0],\n",
    "            'col7': [0.1, 0.2, 0.3, 0.4],\n",
    "        }),\n",
    "    }\n",
    "\n",
    "    metadata = {\n",
    "        'tables': {\n",
    "            'table1': {\n",
    "                'columns': {\n",
    "                    'col1': {'sdtype': 'id'},\n",
    "                    'col2': {'sdtype': 'categorical'},\n",
    "                    'col3': {'sdtype': 'boolean'},\n",
    "                },\n",
    "            },\n",
    "            'table2': {\n",
    "                'columns': {\n",
    "                    'col4': {'sdtype': 'datetime', 'datetime_format': '%Y-%m-%d'},\n",
    "                    'col5': {'sdtype': 'datetime', 'datetime_format': '%Y-%m-%d'},\n",
    "                    'col6': {'sdtype': 'id'},\n",
    "                    'col7': {'sdtype': 'numerical'},\n",
    "                },\n",
    "            }\n",
    "        },\n",
    "        'relationships': [\n",
    "            {\n",
    "                'parent_table_name': 'table1',\n",
    "                'parent_primary_key': 'col1',\n",
    "                'child_table_name': 'table2',\n",
    "                'child_foreign_key': 'col6'\n",
    "            }\n",
    "        ]\n",
    "    }\n",
    "\n",
    "    return (real_data, synthetic_data, metadata)\n"
   ]
  },
  {
   "cell_type": "code",
   "execution_count": 3,
   "metadata": {},
   "outputs": [
    {
     "name": "stdout",
     "output_type": "stream",
     "text": [
      "Generating report ...\n",
      "(1/3) Evaluating Column Shapes: : 100%|██████████| 7/7 [00:00<00:00, 1412.77it/s]\n",
      "(2/3) Evaluating Column Pair Trends: : 100%|██████████| 9/9 [00:00<00:00, 348.63it/s]\n"
     ]
    },
    {
     "ename": "TypeError",
     "evalue": "unsupported operand type(s) for +=: 'int' and 'NoneType'",
     "output_type": "error",
     "traceback": [
      "\u001b[0;31m---------------------------------------------------------------------------\u001b[0m",
      "\u001b[0;31mTypeError\u001b[0m                                 Traceback (most recent call last)",
      "Cell \u001b[0;32mIn[3], line 4\u001b[0m\n\u001b[1;32m      1\u001b[0m real_data, synthetic_data, metadata \u001b[39m=\u001b[39m load_test_data()\n\u001b[1;32m      2\u001b[0m report \u001b[39m=\u001b[39m QualityReport()\n\u001b[0;32m----> 4\u001b[0m report\u001b[39m.\u001b[39;49mgenerate(real_data, synthetic_data, metadata)\n\u001b[1;32m      5\u001b[0m properties \u001b[39m=\u001b[39m report\u001b[39m.\u001b[39mget_properties()\n\u001b[1;32m      6\u001b[0m score \u001b[39m=\u001b[39m report\u001b[39m.\u001b[39mget_score()\n",
      "File \u001b[0;32m~/Desktop/SDMetrics/sdmetrics/reports/base_report.py:99\u001b[0m, in \u001b[0;36mBaseReport.generate\u001b[0;34m(self, real_data, synthetic_data, metadata, verbose)\u001b[0m\n\u001b[1;32m     97\u001b[0m \u001b[39mfor\u001b[39;00m ind, property_name \u001b[39min\u001b[39;00m \u001b[39menumerate\u001b[39m(\u001b[39mself\u001b[39m\u001b[39m.\u001b[39m_properties):\n\u001b[1;32m     98\u001b[0m     \u001b[39mif\u001b[39;00m verbose:\n\u001b[0;32m---> 99\u001b[0m         num_iterations \u001b[39m=\u001b[39m \u001b[39mself\u001b[39;49m\u001b[39m.\u001b[39;49m_get_num_iterations(property_name, metadata)\n\u001b[1;32m    100\u001b[0m         progress_bar \u001b[39m=\u001b[39m tqdm\u001b[39m.\u001b[39mtqdm(total\u001b[39m=\u001b[39mnum_iterations, file\u001b[39m=\u001b[39msys\u001b[39m.\u001b[39mstdout)\n\u001b[1;32m    101\u001b[0m         progress_bar\u001b[39m.\u001b[39mset_description(\n\u001b[1;32m    102\u001b[0m             \u001b[39mf\u001b[39m\u001b[39m'\u001b[39m\u001b[39m(\u001b[39m\u001b[39m{\u001b[39;00mind\u001b[39m \u001b[39m\u001b[39m+\u001b[39m\u001b[39m \u001b[39m\u001b[39m1\u001b[39m\u001b[39m}\u001b[39;00m\u001b[39m/\u001b[39m\u001b[39m{\u001b[39;00m\u001b[39mlen\u001b[39m(\u001b[39mself\u001b[39m\u001b[39m.\u001b[39m_properties)\u001b[39m}\u001b[39;00m\u001b[39m) Evaluating \u001b[39m\u001b[39m{\u001b[39;00mproperty_name\u001b[39m}\u001b[39;00m\u001b[39m: \u001b[39m\u001b[39m'\u001b[39m\n\u001b[1;32m    103\u001b[0m         )\n",
      "File \u001b[0;32m~/Desktop/SDMetrics/sdmetrics/reports/multi_table/multi_table_base_report.py:38\u001b[0m, in \u001b[0;36mMultiTableBaseReport._get_num_iterations\u001b[0;34m(self, property_name, metadata)\u001b[0m\n\u001b[1;32m     36\u001b[0m result \u001b[39m=\u001b[39m \u001b[39m0\u001b[39m\n\u001b[1;32m     37\u001b[0m \u001b[39mfor\u001b[39;00m table \u001b[39min\u001b[39;00m metadata[\u001b[39m'\u001b[39m\u001b[39mtables\u001b[39m\u001b[39m'\u001b[39m]:\n\u001b[0;32m---> 38\u001b[0m     result \u001b[39m+\u001b[39m\u001b[39m=\u001b[39m \u001b[39msuper\u001b[39m()\u001b[39m.\u001b[39m_get_num_iterations(property_name, metadata[\u001b[39m'\u001b[39m\u001b[39mtables\u001b[39m\u001b[39m'\u001b[39m][table])\n\u001b[1;32m     40\u001b[0m \u001b[39mreturn\u001b[39;00m result\n",
      "\u001b[0;31mTypeError\u001b[0m: unsupported operand type(s) for +=: 'int' and 'NoneType'"
     ]
    }
   ],
   "source": [
    "real_data, synthetic_data, metadata = load_test_data()\n",
    "report = QualityReport()\n",
    "\n",
    "report.generate(real_data, synthetic_data, metadata)\n",
    "properties = report.get_properties()\n",
    "score = report.get_score()\n",
    "visualization, details = [], []\n",
    "for property_ in report._properties:\n",
    "    visualization.append(report.get_visualization(property_, 'table1'))\n",
    "    details.append(report.get_details(property_, 'table1'))"
   ]
  },
  {
   "cell_type": "code",
   "execution_count": 1,
   "metadata": {},
   "outputs": [
    {
     "data": {
      "text/plain": [
       "{'SUCCESS': ['The synthetic data covers over 90% of the categories present in the real data',\n",
       "  'The synthetic data covers over 90% of the numerical ranges present in the real data',\n",
       "  'The synthetic data follows over 90% of the min/max boundaries set by the real data',\n",
       "  'Over 90% of the synthetic rows are not copies of the real data'],\n",
       " 'WARNING': [],\n",
       " 'DANGER': []}"
      ]
     },
     "execution_count": 1,
     "metadata": {},
     "output_type": "execute_result"
    }
   ],
   "source": [
    "from sdmetrics.demos import load_demo\n",
    "import numpy as np\n",
    "from sdmetrics.reports.single_table import QualityReport, DiagnosticReport\n",
    "\n",
    "real_data, synthetic_data, metadata = load_demo(modality='single_table')\n",
    "report = DiagnosticReport()\n",
    "\n",
    "# Run\n",
    "report.generate(real_data, synthetic_data, metadata, verbose=False)\n",
    "report.get_results()"
   ]
  },
  {
   "cell_type": "code",
   "execution_count": 9,
   "metadata": {},
   "outputs": [
    {
     "data": {
      "text/plain": [
       "{}"
      ]
     },
     "execution_count": 9,
     "metadata": {},
     "output_type": "execute_result"
    }
   ],
   "source": []
  },
  {
   "cell_type": "markdown",
   "metadata": {},
   "source": [
    "## unit utils.py validate everything"
   ]
  },
  {
   "cell_type": "code",
   "execution_count": null,
   "metadata": {},
   "outputs": [],
   "source": [
    "def test_validate_categorical_values():\n",
    "    \"\"\"Test no extra categoricals does not crash.\"\"\"\n",
    "    # Setup\n",
    "    sdtype = 'categorical'\n",
    "    real_data = pd.DataFrame({'col1': [1, 2, 3, 4]})\n",
    "    synthetic_data = pd.DataFrame({'col1': [1, 2, 4, 4]})\n",
    "    metadata = {'columns': {'col1': {'sdtype': sdtype}}}\n",
    "    warnings.filterwarnings('error', category=UserWarning)\n",
    "\n",
    "    # Run\n",
    "    _validate_categorical_values(real_data, synthetic_data, metadata)\n",
    "\n",
    "    warnings.resetwarnings()\n",
    "\n",
    "\n",
    "def test_validate_categorical_values_single_table():\n",
    "    \"\"\"Test validating categoricals for single table.\"\"\"\n",
    "    # Setup\n",
    "    sdtype = 'categorical'\n",
    "    real_data = pd.DataFrame({'col1': [1, 2, 3, 3]})\n",
    "    synthetic_data = pd.DataFrame({'col1': [1, 2, 4, 5]})\n",
    "    metadata = {'columns': {'col1': {'sdtype': sdtype}}}\n",
    "    warning_msg = re.escape('Unexpected values (\"4\", \"5\") in column \"col1\"')\n",
    "\n",
    "    warnings.filterwarnings('error', category=UserWarning)\n",
    "\n",
    "    # Run\n",
    "    with pytest.raises(UserWarning, match=warning_msg):\n",
    "        _validate_categorical_values(real_data, synthetic_data, metadata)\n",
    "\n",
    "    warnings.resetwarnings()\n",
    "\n",
    "\n",
    "def test_validate_categorical_values_multi_table():\n",
    "    \"\"\"Test validating categoricals with table name.\"\"\"\n",
    "    # Setup\n",
    "    sdtype = 'categorical'\n",
    "    real_data = pd.DataFrame({'col1': [1, 2, 3, 3]})\n",
    "    synthetic_data = pd.DataFrame({'col1': [1, 2, 4, 5]})\n",
    "    metadata = {'columns': {'col1': {'sdtype': sdtype}}}\n",
    "    warning_msg = re.escape('Unexpected values (\"4\", \"5\") in column \"col1\" and table \"table1\"')\n",
    "\n",
    "    warnings.filterwarnings('error', category=UserWarning)\n",
    "\n",
    "    # Run\n",
    "    with pytest.raises(UserWarning, match=warning_msg):\n",
    "        _validate_categorical_values(real_data, synthetic_data, metadata, table='table1')\n",
    "\n",
    "    warnings.resetwarnings()\n",
    "\n",
    "\n",
    "def test__validate_categorical_many_extra_values():\n",
    "    \"\"\"Test validating categoricals with table name.\"\"\"\n",
    "    # Setup\n",
    "    sdtype = 'categorical'\n",
    "    real_data = pd.DataFrame({'col1': [1, 2, 3, 3, 4, 4]})\n",
    "    synthetic_data = pd.DataFrame({'col1': ['a', 'b', 'c', 'd', 'e', 'f']})\n",
    "    metadata = {'columns': {'col1': {'sdtype': sdtype}}}\n",
    "    warning_msg = re.escape('Unexpected values (\"a\", \"b\", \"c\", \"d\", \"e\" + more) in column \"col1\"')\n",
    "\n",
    "    warnings.filterwarnings('error', category=UserWarning)\n",
    "\n",
    "    # Run\n",
    "    with pytest.raises(UserWarning, match=warning_msg):\n",
    "        _validate_categorical_values(real_data, synthetic_data, metadata)\n",
    "\n",
    "    warnings.resetwarnings()\n",
    "\n",
    "\n",
    "def test_validate_single_table():\n",
    "    \"\"\"Test validating single table.\"\"\"\n",
    "    # Setup\n",
    "    sdtype = 'categorical'\n",
    "    real_data = pd.DataFrame({'col1': [1, 2, 3, 4]})\n",
    "    synthetic_data = pd.DataFrame({'col1': [1, 1, 1, 3]})\n",
    "    extra_value_synthtetic_data = pd.DataFrame({'col1': [1, 1, 1, 5]})\n",
    "    metadata = {'columns': {'col1': {'sdtype': sdtype}}}\n",
    "\n",
    "    warning_msg = re.escape('Unexpected values (\"5\") in column \"col1\"')\n",
    "    warnings.filterwarnings('error', category=UserWarning)\n",
    "\n",
    "    # Run\n",
    "    validate_single_table_inputs(real_data, synthetic_data, metadata)\n",
    "\n",
    "    with pytest.raises(UserWarning, match=warning_msg):\n",
    "        validate_single_table_inputs(real_data, extra_value_synthtetic_data, metadata)\n",
    "\n",
    "    warnings.resetwarnings()\n",
    "\n",
    "\n",
    "def test_validate_multi_table():\n",
    "    \"\"\"Test validating categoricals for single table.\"\"\"\n",
    "    # Setup\n",
    "    sdtype = 'categorical'\n",
    "    real_data = {\n",
    "        'table1': pd.DataFrame({'col1': [1, 2, 3, 3]}),\n",
    "        'table2': pd.DataFrame({'col2': ['a', 'b', 'c', 'a']})\n",
    "    }\n",
    "    synthetic_data = {\n",
    "        'table1': pd.DataFrame({'col1': [1, 2, 3, 1]}),\n",
    "        'table2': pd.DataFrame({'col2': ['a', 'b', 'c', 'c']})\n",
    "    }\n",
    "    extra_value_synthetic_data = {\n",
    "        'table1': pd.DataFrame({'col1': [1, 2, 3, 1]}),\n",
    "        'table2': pd.DataFrame({'col2': ['a', 'b', 'c', 'd']})\n",
    "    }\n",
    "    metadata = {\n",
    "        'tables': {\n",
    "            'table1': {'columns': {'col1': {'sdtype': sdtype}}},\n",
    "            'table2': {'columns': {'col2': {'sdtype': sdtype}}}\n",
    "        }\n",
    "    }\n",
    "    warning_msg = re.escape('Unexpected values (\"d\") in column \"col2\" and table \"table2\"')\n",
    "\n",
    "    warnings.filterwarnings('error', category=UserWarning)\n",
    "\n",
    "    # Run\n",
    "    validate_multi_table_inputs(real_data, synthetic_data, metadata)\n",
    "    with pytest.raises(UserWarning, match=warning_msg):\n",
    "        validate_multi_table_inputs(real_data, extra_value_synthetic_data, metadata)\n",
    "\n",
    "    warnings.resetwarnings()\n",
    "\n",
    "\n",
    "def test_validate_multi_table_parent_child_dtype_mismatch():\n",
    "    \"\"\"Test validating categoricals for single table.\"\"\"\n",
    "    # Setup\n",
    "    sdtype = 'numerical'\n",
    "    real_data = {\n",
    "        'table1': pd.DataFrame({'primary_key': [1, 2, 3, 4]}),\n",
    "        'table2': pd.DataFrame({'foreign_key': ['1', '2', '2', '3']})\n",
    "    }\n",
    "    synthetic_data = {\n",
    "        'table1': pd.DataFrame({'primary_key': [1, 2, 3, 1]}),\n",
    "        'table2': pd.DataFrame({'foreign_key': ['2', '2', '1', '3']})\n",
    "    }\n",
    "    metadata = {\n",
    "        'tables': {\n",
    "            'table1': {'columns': {'primary_key': {'sdtype': sdtype}}},\n",
    "            'table2': {'columns': {'foreign_key': {'sdtype': sdtype}}}\n",
    "        },\n",
    "        'relationships': [\n",
    "            {\n",
    "                'parent_table_name': 'table1',\n",
    "                'child_table_name': 'table2',\n",
    "                'parent_primary_key': 'primary_key',\n",
    "                'child_foreign_key': 'foreign_key'\n",
    "            }\n",
    "        ]\n",
    "    }\n",
    "    error_msg = re.escape(\n",
    "        \"The 'table1' table and 'table2' table cannot be merged. Please make sure the primary key \"\n",
    "        \"in 'table1' ('primary_key') and the foreign key in 'table2' ('foreign_key') have the same\"\n",
    "        ' data type.'\n",
    "    )\n",
    "\n",
    "    # Run and Assert\n",
    "    with pytest.raises(ValueError, match=error_msg):\n",
    "        validate_multi_table_inputs(real_data, synthetic_data, metadata)\n"
   ]
  },
  {
   "cell_type": "code",
   "execution_count": 27,
   "metadata": {},
   "outputs": [
    {
     "data": {
      "text/plain": [
       "{'SUCCESS': ['The synthetic data covers over 90% of the categories present in the real data',\n",
       "  'Over 90% of the synthetic rows are not copies of the real data'],\n",
       " 'WARNING': [],\n",
       " 'DANGER': []}"
      ]
     },
     "execution_count": 27,
     "metadata": {},
     "output_type": "execute_result"
    }
   ],
   "source": [
    "from sdmetrics.demos import load_demo\n",
    "import numpy as np\n",
    "from sdmetrics.reports.multi_table import DiagnosticReport\n",
    "\n",
    "real_data, synthetic_data, metadata = load_demo(modality='multi_table')\n",
    "real_data['users']['age'].iloc[0] = 'error_1'\n",
    "real_data['transactions']['timestamp'].iloc[0] = 'error_2'\n",
    "real_data['transactions']['amount'].iloc[0] = 'error_3'\n",
    "\n",
    "report = DiagnosticReport()\n",
    "\n",
    "# Run\n",
    "report.generate(real_data, synthetic_data, metadata, verbose=False)\n",
    "report.get_results()"
   ]
  },
  {
   "cell_type": "code",
   "execution_count": 30,
   "metadata": {},
   "outputs": [
    {
     "data": {
      "text/plain": [
       "[0.9666666666666668, nan, 0.9444444444444444]"
      ]
     },
     "execution_count": 30,
     "metadata": {},
     "output_type": "execute_result"
    }
   ],
   "source": [
    "list(report.get_properties()['Score'])"
   ]
  },
  {
   "cell_type": "code",
   "execution_count": 8,
   "metadata": {},
   "outputs": [
    {
     "data": {
      "text/plain": [
       "[0.9573447196980541, 0.8666666666666667, 0.9629629629629629]"
      ]
     },
     "execution_count": 8,
     "metadata": {},
     "output_type": "execute_result"
    }
   ],
   "source": [
    "list(report.get_properties()['Score'])"
   ]
  },
  {
   "cell_type": "code",
   "execution_count": 24,
   "metadata": {},
   "outputs": [
    {
     "data": {
      "text/html": [
       "<div>\n",
       "<style scoped>\n",
       "    .dataframe tbody tr th:only-of-type {\n",
       "        vertical-align: middle;\n",
       "    }\n",
       "\n",
       "    .dataframe tbody tr th {\n",
       "        vertical-align: top;\n",
       "    }\n",
       "\n",
       "    .dataframe thead th {\n",
       "        text-align: right;\n",
       "    }\n",
       "</style>\n",
       "<table border=\"1\" class=\"dataframe\">\n",
       "  <thead>\n",
       "    <tr style=\"text-align: right;\">\n",
       "      <th></th>\n",
       "      <th>user_id</th>\n",
       "      <th>country</th>\n",
       "      <th>gender</th>\n",
       "      <th>age</th>\n",
       "    </tr>\n",
       "  </thead>\n",
       "  <tbody>\n",
       "    <tr>\n",
       "      <th>0</th>\n",
       "      <td>0</td>\n",
       "      <td>US</td>\n",
       "      <td>M</td>\n",
       "      <td>error_1</td>\n",
       "    </tr>\n",
       "    <tr>\n",
       "      <th>1</th>\n",
       "      <td>1</td>\n",
       "      <td>UK</td>\n",
       "      <td>F</td>\n",
       "      <td>23</td>\n",
       "    </tr>\n",
       "    <tr>\n",
       "      <th>2</th>\n",
       "      <td>2</td>\n",
       "      <td>ES</td>\n",
       "      <td>NaN</td>\n",
       "      <td>44</td>\n",
       "    </tr>\n",
       "    <tr>\n",
       "      <th>3</th>\n",
       "      <td>3</td>\n",
       "      <td>UK</td>\n",
       "      <td>M</td>\n",
       "      <td>22</td>\n",
       "    </tr>\n",
       "    <tr>\n",
       "      <th>4</th>\n",
       "      <td>4</td>\n",
       "      <td>US</td>\n",
       "      <td>F</td>\n",
       "      <td>54</td>\n",
       "    </tr>\n",
       "    <tr>\n",
       "      <th>5</th>\n",
       "      <td>5</td>\n",
       "      <td>DE</td>\n",
       "      <td>M</td>\n",
       "      <td>57</td>\n",
       "    </tr>\n",
       "    <tr>\n",
       "      <th>6</th>\n",
       "      <td>6</td>\n",
       "      <td>BG</td>\n",
       "      <td>F</td>\n",
       "      <td>45</td>\n",
       "    </tr>\n",
       "    <tr>\n",
       "      <th>7</th>\n",
       "      <td>7</td>\n",
       "      <td>ES</td>\n",
       "      <td>NaN</td>\n",
       "      <td>41</td>\n",
       "    </tr>\n",
       "    <tr>\n",
       "      <th>8</th>\n",
       "      <td>8</td>\n",
       "      <td>FR</td>\n",
       "      <td>F</td>\n",
       "      <td>23</td>\n",
       "    </tr>\n",
       "    <tr>\n",
       "      <th>9</th>\n",
       "      <td>9</td>\n",
       "      <td>UK</td>\n",
       "      <td>NaN</td>\n",
       "      <td>30</td>\n",
       "    </tr>\n",
       "  </tbody>\n",
       "</table>\n",
       "</div>"
      ],
      "text/plain": [
       "   user_id country gender      age\n",
       "0        0      US      M  error_1\n",
       "1        1      UK      F       23\n",
       "2        2      ES    NaN       44\n",
       "3        3      UK      M       22\n",
       "4        4      US      F       54\n",
       "5        5      DE      M       57\n",
       "6        6      BG      F       45\n",
       "7        7      ES    NaN       41\n",
       "8        8      FR      F       23\n",
       "9        9      UK    NaN       30"
      ]
     },
     "execution_count": 24,
     "metadata": {},
     "output_type": "execute_result"
    }
   ],
   "source": [
    "real_data['users']"
   ]
  },
  {
   "cell_type": "code",
   "execution_count": 34,
   "metadata": {},
   "outputs": [
    {
     "data": {
      "text/plain": [
       "[\"Error: TypeError '<=' not supported between instances of 'str' and 'int'\",\n",
       " \"Error: TypeError '<=' not supported between instances of 'str' and 'Timestamp'\",\n",
       " \"Error: TypeError '<=' not supported between instances of 'str' and 'float'\"]"
      ]
     },
     "execution_count": 34,
     "metadata": {},
     "output_type": "execute_result"
    }
   ],
   "source": [
    "list(report.get_details('Boundary')['Error'])"
   ]
  },
  {
   "cell_type": "code",
   "execution_count": 18,
   "metadata": {},
   "outputs": [
    {
     "data": {
      "text/plain": [
       "['country', 'gender', 'age']"
      ]
     },
     "execution_count": 18,
     "metadata": {},
     "output_type": "execute_result"
    }
   ],
   "source": [
    "list(report.get_details('Coverage', 'users')['Column'])"
   ]
  }
 ],
 "metadata": {
  "kernelspec": {
   "display_name": "issue-283-cardinality-plot",
   "language": "python",
   "name": "python3"
  },
  "language_info": {
   "codemirror_mode": {
    "name": "ipython",
    "version": 3
   },
   "file_extension": ".py",
   "mimetype": "text/x-python",
   "name": "python",
   "nbconvert_exporter": "python",
   "pygments_lexer": "ipython3",
   "version": "3.9.17"
  },
  "orig_nbformat": 4
 },
 "nbformat": 4,
 "nbformat_minor": 2
}

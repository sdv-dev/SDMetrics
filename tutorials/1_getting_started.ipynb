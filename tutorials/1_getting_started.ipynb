{
 "cells": [
  {
   "cell_type": "markdown",
   "metadata": {
    "slideshow": {
     "slide_type": "slide"
    }
   },
   "source": [
    "# Getting Started\n",
    "In this post, we'll demonstrate some of the core functionality of the **SDMetrics** library by using it to evaluate a synthetic dataset."
   ]
  },
  {
   "cell_type": "code",
   "execution_count": 1,
   "metadata": {
    "nbsphinx": "hidden"
   },
   "outputs": [],
   "source": [
    "import warnings\n",
    "warnings.filterwarnings(\"ignore\")"
   ]
  },
  {
   "cell_type": "markdown",
   "metadata": {
    "slideshow": {
     "slide_type": "slide"
    }
   },
   "source": [
    "## Generating Synthetic Datasets\n",
    "The **SDV** library provides tools for generating synthetic relational databases. Let's start by loading the Walmart dataset and generating a synthetic copy with 20 rows in the root table."
   ]
  },
  {
   "cell_type": "code",
   "execution_count": 2,
   "metadata": {},
   "outputs": [
    {
     "name": "stdout",
     "output_type": "stream",
     "text": [
      "> stores\n",
      " Store Type    Size\n",
      "     1    A  151315\n",
      "     2    A  202307\n",
      "     3    B   37392\n",
      "     4    A  205863\n",
      "     5    B   34875\n",
      "\n",
      "> features\n",
      " Store       Date  Temperature  Fuel_Price  MarkDown1  MarkDown2  MarkDown3  MarkDown4  MarkDown5         CPI  Unemployment  IsHoliday\n",
      "     1 2010-02-05        42.31       2.572        NaN        NaN        NaN        NaN        NaN  211.096358         8.106      False\n",
      "     1 2010-02-12        38.51       2.548        NaN        NaN        NaN        NaN        NaN  211.242170         8.106       True\n",
      "     1 2010-02-19        39.93       2.514        NaN        NaN        NaN        NaN        NaN  211.289143         8.106      False\n",
      "     1 2010-02-26        46.63       2.561        NaN        NaN        NaN        NaN        NaN  211.319643         8.106      False\n",
      "     1 2010-03-05        46.50       2.625        NaN        NaN        NaN        NaN        NaN  211.350143         8.106      False\n",
      "\n",
      "> depts\n",
      " Store  Dept       Date  Weekly_Sales  IsHoliday\n",
      "     1     1 2010-02-05      24924.50      False\n",
      "     1     1 2010-02-12      46039.49       True\n",
      "     1     1 2010-02-19      41595.55      False\n",
      "     1     1 2010-02-26      19403.54      False\n",
      "     1     1 2010-03-05      21827.90      False\n",
      "\n"
     ]
    }
   ],
   "source": [
    "from sdv import load_demo\n",
    "\n",
    "metadata, real_tables = load_demo(\"walmart\", metadata=True)\n",
    "for table_name, df in real_tables.items():\n",
    "    print(\">\", table_name)\n",
    "    print(df.head().to_string(index=False))\n",
    "    print()"
   ]
  },
  {
   "cell_type": "code",
   "execution_count": 3,
   "metadata": {},
   "outputs": [
    {
     "name": "stdout",
     "output_type": "stream",
     "text": [
      "> stores\n",
      "Type    Size  Store\n",
      "   A  158863      0\n",
      "   A  148881      1\n",
      "   A  141181      2\n",
      "   B   39402      3\n",
      "   A  184711      4\n",
      "\n",
      "> features\n",
      "      Date     MarkDown1  Store  IsHoliday    MarkDown4    MarkDown3  Fuel_Price  Unemployment  Temperature    MarkDown5     MarkDown2         CPI\n",
      "2011-02-02  14400.357649      0      False  2640.453224  2443.106190    3.550959      6.253251    76.279741          NaN  10794.829869  193.555658\n",
      "2010-06-28   1992.568051      0      False          NaN          NaN    3.352604      4.566446    44.368874  1399.856071           NaN  173.742572\n",
      "2011-11-20  15145.367881      0      False  1946.317167  3950.841584    3.539616      5.883201    72.896482          NaN  10712.726537  196.000664\n",
      "2011-03-14           NaN      0      False          NaN          NaN    4.352685      4.818791    72.563082  5790.683617           NaN  182.003539\n",
      "2012-02-05   7106.857092      0      False          NaN          NaN    3.638750      5.102400    46.585475  3104.993430           NaN  188.226169\n",
      "\n",
      "> depts\n",
      "      Date  Weekly_Sales  Store  Dept  IsHoliday\n",
      "2010-03-12  14187.100825      0    86      False\n",
      "2012-05-24   1280.838783      0    53      False\n",
      "2010-11-18 -25100.204034      0    49      False\n",
      "2012-04-26  21091.759568      0   -11      False\n",
      "2012-06-07  26532.973434      0    23      False\n",
      "\n"
     ]
    }
   ],
   "source": [
    "from sdv import SDV\n",
    "\n",
    "sdv = SDV()\n",
    "sdv.fit(metadata, real_tables)\n",
    "\n",
    "synthetic_tables = sdv.sample_all(100)\n",
    "for table_name, df in synthetic_tables.items():\n",
    "    print(\">\", table_name)\n",
    "    print(df.head().to_string(index=False))\n",
    "    print()"
   ]
  },
  {
   "cell_type": "markdown",
   "metadata": {},
   "source": [
    "## Evaluation with SDMetrics\n",
    "Now that we have (1) a metadata object, (2) a set of real tables, and (3) a set of fake tables, we can pass them to **SDMetrics** for evaluation. The simplest way to get started with **SDMetrics** is to use the `evaluate` function which generates a report with the default metrics."
   ]
  },
  {
   "cell_type": "code",
   "execution_count": 4,
   "metadata": {},
   "outputs": [
    {
     "data": {
      "text/plain": [
       "<sdmetrics.report.MetricsReport at 0x7fe792d9ac70>"
      ]
     },
     "execution_count": 4,
     "metadata": {},
     "output_type": "execute_result"
    }
   ],
   "source": [
    "from sdmetrics import evaluate\n",
    "report = evaluate(metadata, real_tables, synthetic_tables)\n",
    "report"
   ]
  },
  {
   "cell_type": "markdown",
   "metadata": {
    "slideshow": {
     "slide_type": "fragment"
    }
   },
   "source": [
    "The metrics report can provide an **overall score**. This is a single scalar value which you can pass to an optimization routine (i.e. to tune some hyperparameters in your model)."
   ]
  },
  {
   "cell_type": "code",
   "execution_count": 5,
   "metadata": {},
   "outputs": [
    {
     "name": "stdout",
     "output_type": "stream",
     "text": [
      "-52.87242536803069\n"
     ]
    }
   ],
   "source": [
    "print(report.overall())"
   ]
  },
  {
   "cell_type": "markdown",
   "metadata": {
    "slideshow": {
     "slide_type": "slide"
    }
   },
   "source": [
    "Furthermore, the metrics report can also provide some key highlights. This shows the problem areas where your model performs especially poorly - for example, the below highlights suggest that our model is very bad at modeling the `MarkDownX` columns since the kstest has detected that the distributions look quite different between the real and synthetic versions."
   ]
  },
  {
   "cell_type": "code",
   "execution_count": 6,
   "metadata": {},
   "outputs": [
    {
     "data": {
      "text/html": [
       "<div>\n",
       "<style scoped>\n",
       "    .dataframe tbody tr th:only-of-type {\n",
       "        vertical-align: middle;\n",
       "    }\n",
       "\n",
       "    .dataframe tbody tr th {\n",
       "        vertical-align: top;\n",
       "    }\n",
       "\n",
       "    .dataframe thead th {\n",
       "        text-align: right;\n",
       "    }\n",
       "</style>\n",
       "<table border=\"1\" class=\"dataframe\">\n",
       "  <thead>\n",
       "    <tr style=\"text-align: right;\">\n",
       "      <th></th>\n",
       "      <th>Name</th>\n",
       "      <th>Value</th>\n",
       "      <th>Goal</th>\n",
       "      <th>Unit</th>\n",
       "      <th>Tables</th>\n",
       "      <th>Columns</th>\n",
       "      <th>Misc. Tags</th>\n",
       "    </tr>\n",
       "  </thead>\n",
       "  <tbody>\n",
       "    <tr>\n",
       "      <th>0</th>\n",
       "      <td>kstest</td>\n",
       "      <td>5.037590e-24</td>\n",
       "      <td>Goal.MAXIMIZE</td>\n",
       "      <td>p-value</td>\n",
       "      <td>table:features</td>\n",
       "      <td>column:MarkDown1</td>\n",
       "      <td>statistic:univariate,priority:high</td>\n",
       "    </tr>\n",
       "    <tr>\n",
       "      <th>1</th>\n",
       "      <td>kstest</td>\n",
       "      <td>2.999024e-37</td>\n",
       "      <td>Goal.MAXIMIZE</td>\n",
       "      <td>p-value</td>\n",
       "      <td>table:features</td>\n",
       "      <td>column:MarkDown4</td>\n",
       "      <td>statistic:univariate,priority:high</td>\n",
       "    </tr>\n",
       "    <tr>\n",
       "      <th>2</th>\n",
       "      <td>kstest</td>\n",
       "      <td>3.759181e-190</td>\n",
       "      <td>Goal.MAXIMIZE</td>\n",
       "      <td>p-value</td>\n",
       "      <td>table:features</td>\n",
       "      <td>column:MarkDown3</td>\n",
       "      <td>statistic:univariate,priority:high</td>\n",
       "    </tr>\n",
       "    <tr>\n",
       "      <th>3</th>\n",
       "      <td>kstest</td>\n",
       "      <td>3.072000e-79</td>\n",
       "      <td>Goal.MAXIMIZE</td>\n",
       "      <td>p-value</td>\n",
       "      <td>table:features</td>\n",
       "      <td>column:Fuel_Price</td>\n",
       "      <td>statistic:univariate,priority:high</td>\n",
       "    </tr>\n",
       "    <tr>\n",
       "      <th>4</th>\n",
       "      <td>kstest</td>\n",
       "      <td>1.294061e-32</td>\n",
       "      <td>Goal.MAXIMIZE</td>\n",
       "      <td>p-value</td>\n",
       "      <td>table:features</td>\n",
       "      <td>column:Unemployment</td>\n",
       "      <td>statistic:univariate,priority:high</td>\n",
       "    </tr>\n",
       "    <tr>\n",
       "      <th>5</th>\n",
       "      <td>kstest</td>\n",
       "      <td>1.148167e-09</td>\n",
       "      <td>Goal.MAXIMIZE</td>\n",
       "      <td>p-value</td>\n",
       "      <td>table:features</td>\n",
       "      <td>column:Temperature</td>\n",
       "      <td>statistic:univariate,priority:high</td>\n",
       "    </tr>\n",
       "    <tr>\n",
       "      <th>6</th>\n",
       "      <td>kstest</td>\n",
       "      <td>5.218656e-16</td>\n",
       "      <td>Goal.MAXIMIZE</td>\n",
       "      <td>p-value</td>\n",
       "      <td>table:features</td>\n",
       "      <td>column:MarkDown5</td>\n",
       "      <td>statistic:univariate,priority:high</td>\n",
       "    </tr>\n",
       "    <tr>\n",
       "      <th>7</th>\n",
       "      <td>kstest</td>\n",
       "      <td>1.564043e-87</td>\n",
       "      <td>Goal.MAXIMIZE</td>\n",
       "      <td>p-value</td>\n",
       "      <td>table:features</td>\n",
       "      <td>column:MarkDown2</td>\n",
       "      <td>statistic:univariate,priority:high</td>\n",
       "    </tr>\n",
       "    <tr>\n",
       "      <th>8</th>\n",
       "      <td>kstest</td>\n",
       "      <td>0.000000e+00</td>\n",
       "      <td>Goal.MAXIMIZE</td>\n",
       "      <td>p-value</td>\n",
       "      <td>table:features</td>\n",
       "      <td>column:CPI</td>\n",
       "      <td>statistic:univariate,priority:high</td>\n",
       "    </tr>\n",
       "    <tr>\n",
       "      <th>9</th>\n",
       "      <td>kstest</td>\n",
       "      <td>0.000000e+00</td>\n",
       "      <td>Goal.MAXIMIZE</td>\n",
       "      <td>p-value</td>\n",
       "      <td>table:depts</td>\n",
       "      <td>column:Weekly_Sales</td>\n",
       "      <td>statistic:univariate,priority:high</td>\n",
       "    </tr>\n",
       "    <tr>\n",
       "      <th>10</th>\n",
       "      <td>kstest</td>\n",
       "      <td>0.000000e+00</td>\n",
       "      <td>Goal.MAXIMIZE</td>\n",
       "      <td>p-value</td>\n",
       "      <td>table:depts</td>\n",
       "      <td>column:Dept</td>\n",
       "      <td>statistic:univariate,priority:high</td>\n",
       "    </tr>\n",
       "  </tbody>\n",
       "</table>\n",
       "</div>"
      ],
      "text/plain": [
       "      Name          Value           Goal     Unit          Tables  \\\n",
       "0   kstest   5.037590e-24  Goal.MAXIMIZE  p-value  table:features   \n",
       "1   kstest   2.999024e-37  Goal.MAXIMIZE  p-value  table:features   \n",
       "2   kstest  3.759181e-190  Goal.MAXIMIZE  p-value  table:features   \n",
       "3   kstest   3.072000e-79  Goal.MAXIMIZE  p-value  table:features   \n",
       "4   kstest   1.294061e-32  Goal.MAXIMIZE  p-value  table:features   \n",
       "5   kstest   1.148167e-09  Goal.MAXIMIZE  p-value  table:features   \n",
       "6   kstest   5.218656e-16  Goal.MAXIMIZE  p-value  table:features   \n",
       "7   kstest   1.564043e-87  Goal.MAXIMIZE  p-value  table:features   \n",
       "8   kstest   0.000000e+00  Goal.MAXIMIZE  p-value  table:features   \n",
       "9   kstest   0.000000e+00  Goal.MAXIMIZE  p-value     table:depts   \n",
       "10  kstest   0.000000e+00  Goal.MAXIMIZE  p-value     table:depts   \n",
       "\n",
       "                Columns                          Misc. Tags  \n",
       "0      column:MarkDown1  statistic:univariate,priority:high  \n",
       "1      column:MarkDown4  statistic:univariate,priority:high  \n",
       "2      column:MarkDown3  statistic:univariate,priority:high  \n",
       "3     column:Fuel_Price  statistic:univariate,priority:high  \n",
       "4   column:Unemployment  statistic:univariate,priority:high  \n",
       "5    column:Temperature  statistic:univariate,priority:high  \n",
       "6      column:MarkDown5  statistic:univariate,priority:high  \n",
       "7      column:MarkDown2  statistic:univariate,priority:high  \n",
       "8            column:CPI  statistic:univariate,priority:high  \n",
       "9   column:Weekly_Sales  statistic:univariate,priority:high  \n",
       "10          column:Dept  statistic:univariate,priority:high  "
      ]
     },
     "execution_count": 6,
     "metadata": {},
     "output_type": "execute_result"
    }
   ],
   "source": [
    "report.highlights()"
   ]
  },
  {
   "cell_type": "markdown",
   "metadata": {
    "slideshow": {
     "slide_type": "slide"
    }
   },
   "source": [
    "In addition, you will also be able to generate a visualization of the metrics."
   ]
  },
  {
   "cell_type": "code",
   "execution_count": 7,
   "metadata": {},
   "outputs": [
    {
     "data": {
      "image/png": "[encoded data removed]",
      "text/plain": [
       "<Figure size 720x864 with 4 Axes>"
      ]
     },
     "metadata": {},
     "output_type": "display_data"
    }
   ],
   "source": [
    "report.visualize();"
   ]
  },
  {
   "cell_type": "markdown",
   "metadata": {
    "slideshow": {
     "slide_type": "slide"
    }
   },
   "source": [
    "Finally, you can also print a detailed report containing all of the metrics that were computed."
   ]
  },
  {
   "cell_type": "code",
   "execution_count": 8,
   "metadata": {},
   "outputs": [
    {
     "data": {
      "text/html": [
       "<div>\n",
       "<style scoped>\n",
       "    .dataframe tbody tr th:only-of-type {\n",
       "        vertical-align: middle;\n",
       "    }\n",
       "\n",
       "    .dataframe tbody tr th {\n",
       "        vertical-align: top;\n",
       "    }\n",
       "\n",
       "    .dataframe thead th {\n",
       "        text-align: right;\n",
       "    }\n",
       "</style>\n",
       "<table border=\"1\" class=\"dataframe\">\n",
       "  <thead>\n",
       "    <tr style=\"text-align: right;\">\n",
       "      <th></th>\n",
       "      <th>Name</th>\n",
       "      <th>Value</th>\n",
       "      <th>Goal</th>\n",
       "      <th>Unit</th>\n",
       "      <th>Tables</th>\n",
       "      <th>Columns</th>\n",
       "      <th>Misc. Tags</th>\n",
       "    </tr>\n",
       "  </thead>\n",
       "  <tbody>\n",
       "    <tr>\n",
       "      <th>0</th>\n",
       "      <td>foreign-key</td>\n",
       "      <td>1.000000</td>\n",
       "      <td>Goal.MAXIMIZE</td>\n",
       "      <td>binary</td>\n",
       "      <td>table:stores</td>\n",
       "      <td></td>\n",
       "      <td>child:features</td>\n",
       "    </tr>\n",
       "    <tr>\n",
       "      <th>1</th>\n",
       "      <td>foreign-key</td>\n",
       "      <td>1.000000</td>\n",
       "      <td>Goal.MAXIMIZE</td>\n",
       "      <td>binary</td>\n",
       "      <td>table:stores</td>\n",
       "      <td></td>\n",
       "      <td>child:depts</td>\n",
       "    </tr>\n",
       "    <tr>\n",
       "      <th>2</th>\n",
       "      <td>logistic</td>\n",
       "      <td>0.536250</td>\n",
       "      <td>Goal.MINIMIZE</td>\n",
       "      <td>auroc</td>\n",
       "      <td>table:features</td>\n",
       "      <td></td>\n",
       "      <td>detection:auroc</td>\n",
       "    </tr>\n",
       "    <tr>\n",
       "      <th>3</th>\n",
       "      <td>logistic</td>\n",
       "      <td>0.609923</td>\n",
       "      <td>Goal.MINIMIZE</td>\n",
       "      <td>auroc</td>\n",
       "      <td>table:stores</td>\n",
       "      <td></td>\n",
       "      <td>detection:auroc</td>\n",
       "    </tr>\n",
       "    <tr>\n",
       "      <th>4</th>\n",
       "      <td>logistic</td>\n",
       "      <td>0.516956</td>\n",
       "      <td>Goal.MINIMIZE</td>\n",
       "      <td>auroc</td>\n",
       "      <td>table:depts</td>\n",
       "      <td></td>\n",
       "      <td>detection:auroc</td>\n",
       "    </tr>\n",
       "    <tr>\n",
       "      <th>...</th>\n",
       "      <td>...</td>\n",
       "      <td>...</td>\n",
       "      <td>...</td>\n",
       "      <td>...</td>\n",
       "      <td>...</td>\n",
       "      <td>...</td>\n",
       "      <td>...</td>\n",
       "    </tr>\n",
       "    <tr>\n",
       "      <th>90</th>\n",
       "      <td>continuous-kl</td>\n",
       "      <td>5.439273</td>\n",
       "      <td>Goal.MINIMIZE</td>\n",
       "      <td>entropy</td>\n",
       "      <td>table:features</td>\n",
       "      <td>column:CPI,column:Unemployment</td>\n",
       "      <td>statistic:bivariate</td>\n",
       "    </tr>\n",
       "    <tr>\n",
       "      <th>91</th>\n",
       "      <td>continuous-kl</td>\n",
       "      <td>1.993923</td>\n",
       "      <td>Goal.MINIMIZE</td>\n",
       "      <td>entropy</td>\n",
       "      <td>table:features</td>\n",
       "      <td>column:CPI,column:Temperature</td>\n",
       "      <td>statistic:bivariate</td>\n",
       "    </tr>\n",
       "    <tr>\n",
       "      <th>92</th>\n",
       "      <td>continuous-kl</td>\n",
       "      <td>1.417703</td>\n",
       "      <td>Goal.MINIMIZE</td>\n",
       "      <td>entropy</td>\n",
       "      <td>table:features</td>\n",
       "      <td>column:CPI,column:MarkDown5</td>\n",
       "      <td>statistic:bivariate</td>\n",
       "    </tr>\n",
       "    <tr>\n",
       "      <th>93</th>\n",
       "      <td>continuous-kl</td>\n",
       "      <td>1.668086</td>\n",
       "      <td>Goal.MINIMIZE</td>\n",
       "      <td>entropy</td>\n",
       "      <td>table:features</td>\n",
       "      <td>column:CPI,column:MarkDown2</td>\n",
       "      <td>statistic:bivariate</td>\n",
       "    </tr>\n",
       "    <tr>\n",
       "      <th>94</th>\n",
       "      <td>continuous-kl</td>\n",
       "      <td>0.345429</td>\n",
       "      <td>Goal.MINIMIZE</td>\n",
       "      <td>entropy</td>\n",
       "      <td>table:depts</td>\n",
       "      <td>column:Weekly_Sales,column:Dept</td>\n",
       "      <td>statistic:bivariate</td>\n",
       "    </tr>\n",
       "  </tbody>\n",
       "</table>\n",
       "<p>95 rows × 7 columns</p>\n",
       "</div>"
      ],
      "text/plain": [
       "             Name     Value           Goal     Unit          Tables  \\\n",
       "0     foreign-key  1.000000  Goal.MAXIMIZE   binary    table:stores   \n",
       "1     foreign-key  1.000000  Goal.MAXIMIZE   binary    table:stores   \n",
       "2        logistic  0.536250  Goal.MINIMIZE    auroc  table:features   \n",
       "3        logistic  0.609923  Goal.MINIMIZE    auroc    table:stores   \n",
       "4        logistic  0.516956  Goal.MINIMIZE    auroc     table:depts   \n",
       "..            ...       ...            ...      ...             ...   \n",
       "90  continuous-kl  5.439273  Goal.MINIMIZE  entropy  table:features   \n",
       "91  continuous-kl  1.993923  Goal.MINIMIZE  entropy  table:features   \n",
       "92  continuous-kl  1.417703  Goal.MINIMIZE  entropy  table:features   \n",
       "93  continuous-kl  1.668086  Goal.MINIMIZE  entropy  table:features   \n",
       "94  continuous-kl  0.345429  Goal.MINIMIZE  entropy     table:depts   \n",
       "\n",
       "                            Columns           Misc. Tags  \n",
       "0                                         child:features  \n",
       "1                                            child:depts  \n",
       "2                                        detection:auroc  \n",
       "3                                        detection:auroc  \n",
       "4                                        detection:auroc  \n",
       "..                              ...                  ...  \n",
       "90   column:CPI,column:Unemployment  statistic:bivariate  \n",
       "91    column:CPI,column:Temperature  statistic:bivariate  \n",
       "92      column:CPI,column:MarkDown5  statistic:bivariate  \n",
       "93      column:CPI,column:MarkDown2  statistic:bivariate  \n",
       "94  column:Weekly_Sales,column:Dept  statistic:bivariate  \n",
       "\n",
       "[95 rows x 7 columns]"
      ]
     },
     "execution_count": 8,
     "metadata": {},
     "output_type": "execute_result"
    }
   ],
   "source": [
    "report.details()"
   ]
  }
 ],
 "metadata": {
  "file_extension": ".py",
  "kernelspec": {
   "display_name": "Python 3",
   "language": "python",
   "name": "python3"
  },
  "language_info": {
   "codemirror_mode": {
    "name": "ipython",
    "version": 3
   },
   "file_extension": ".py",
   "mimetype": "text/x-python",
   "name": "python",
   "nbconvert_exporter": "python",
   "pygments_lexer": "ipython3",
   "version": "3.8.6"
  },
  "mimetype": "text/x-python",
  "name": "python",
  "npconvert_exporter": "python",
  "pygments_lexer": "ipython3",
  "version": 3
 },
 "nbformat": 4,
 "nbformat_minor": 4
}

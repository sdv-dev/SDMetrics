{
 "cells": [
  {
   "cell_type": "code",
   "execution_count": 1,
   "metadata": {},
   "outputs": [],
   "source": [
    "import pandas as pd\n",
    "import json\n",
    "from tqdm.auto import tqdm\n",
    "from sdmetrics.demos import load_demo\n",
    "import numpy as np\n",
    "from sdmetrics.reports.single_table import QualityReport\n",
    "\n",
    "\n",
    "real_data, synthetic_data, metadata = load_demo(modality='single_table')\n",
    "column_names = [\n",
    "            'student_id', 'degree_type', 'start_date', 'second_perc', 'work_experience'\n",
    "]\n",
    "#column_names = ['start_date', 'work_experience']\n",
    "metadata['columns'] = {\n",
    "            key: val for key, val in metadata['columns'].items() if key in column_names\n",
    "}\n",
    "\n",
    "real_data = real_data[column_names]\n",
    "synthetic_data = synthetic_data[column_names]\n"
   ]
  },
  {
   "cell_type": "code",
   "execution_count": 3,
   "metadata": {},
   "outputs": [
    {
     "data": {
      "application/vnd.jupyter.widget-view+json": {
       "model_id": "c3ce9b569fdb4e8ba1c9c02f5cdb522f",
       "version_major": 2,
       "version_minor": 0
      },
      "text/plain": [
       "Column Shapes:   0%|          | 0/5 [00:00<?, ?it/s]"
      ]
     },
     "metadata": {},
     "output_type": "display_data"
    },
    {
     "data": {
      "text/plain": [
       "0.779"
      ]
     },
     "execution_count": 3,
     "metadata": {},
     "output_type": "execute_result"
    }
   ],
   "source": [
    "from sdmetrics.reports.single_table._properties import ColumnShapes, ColumnPairTrends\n",
    "\n",
    "cpt = ColumnPairTrends()\n",
    "#real_data['start_date'].iloc[0] = 0\n",
    "#real_data['employability_perc'].iloc[2] = 'a'\n",
    "progress_bar = tqdm(total=len(real_data.columns), desc='Column Shapes')\n",
    "cpt.get_score(real_data, synthetic_data, metadata, progress_bar)"
   ]
  },
  {
   "cell_type": "code",
   "execution_count": 4,
   "metadata": {},
   "outputs": [
    {
     "data": {
      "text/html": [
       "<div>\n",
       "<style scoped>\n",
       "    .dataframe tbody tr th:only-of-type {\n",
       "        vertical-align: middle;\n",
       "    }\n",
       "\n",
       "    .dataframe tbody tr th {\n",
       "        vertical-align: top;\n",
       "    }\n",
       "\n",
       "    .dataframe thead th {\n",
       "        text-align: right;\n",
       "    }\n",
       "</style>\n",
       "<table border=\"1\" class=\"dataframe\">\n",
       "  <thead>\n",
       "    <tr style=\"text-align: right;\">\n",
       "      <th></th>\n",
       "      <th>student_id</th>\n",
       "      <th>degree_type</th>\n",
       "      <th>start_date</th>\n",
       "      <th>second_perc</th>\n",
       "      <th>work_experience</th>\n",
       "      <th>start_date_discrete</th>\n",
       "      <th>second_perc_discrete</th>\n",
       "    </tr>\n",
       "  </thead>\n",
       "  <tbody>\n",
       "    <tr>\n",
       "      <th>0</th>\n",
       "      <td>17264</td>\n",
       "      <td>Sci&amp;Tech</td>\n",
       "      <td>1595462400000000000</td>\n",
       "      <td>67.00</td>\n",
       "      <td>False</td>\n",
       "      <td>10</td>\n",
       "      <td>6</td>\n",
       "    </tr>\n",
       "    <tr>\n",
       "      <th>1</th>\n",
       "      <td>17265</td>\n",
       "      <td>Sci&amp;Tech</td>\n",
       "      <td>1578700800000000000</td>\n",
       "      <td>79.33</td>\n",
       "      <td>True</td>\n",
       "      <td>10</td>\n",
       "      <td>8</td>\n",
       "    </tr>\n",
       "    <tr>\n",
       "      <th>2</th>\n",
       "      <td>17266</td>\n",
       "      <td>Comm&amp;Mgmt</td>\n",
       "      <td>1579996800000000000</td>\n",
       "      <td>65.00</td>\n",
       "      <td>False</td>\n",
       "      <td>10</td>\n",
       "      <td>5</td>\n",
       "    </tr>\n",
       "    <tr>\n",
       "      <th>3</th>\n",
       "      <td>17267</td>\n",
       "      <td>Sci&amp;Tech</td>\n",
       "      <td>-9223372036854775808</td>\n",
       "      <td>56.00</td>\n",
       "      <td>False</td>\n",
       "      <td>1</td>\n",
       "      <td>4</td>\n",
       "    </tr>\n",
       "    <tr>\n",
       "      <th>4</th>\n",
       "      <td>17268</td>\n",
       "      <td>Comm&amp;Mgmt</td>\n",
       "      <td>1593820800000000000</td>\n",
       "      <td>85.80</td>\n",
       "      <td>False</td>\n",
       "      <td>10</td>\n",
       "      <td>10</td>\n",
       "    </tr>\n",
       "    <tr>\n",
       "      <th>...</th>\n",
       "      <td>...</td>\n",
       "      <td>...</td>\n",
       "      <td>...</td>\n",
       "      <td>...</td>\n",
       "      <td>...</td>\n",
       "      <td>...</td>\n",
       "      <td>...</td>\n",
       "    </tr>\n",
       "    <tr>\n",
       "      <th>210</th>\n",
       "      <td>17474</td>\n",
       "      <td>Comm&amp;Mgmt</td>\n",
       "      <td>1595808000000000000</td>\n",
       "      <td>80.60</td>\n",
       "      <td>False</td>\n",
       "      <td>10</td>\n",
       "      <td>9</td>\n",
       "    </tr>\n",
       "    <tr>\n",
       "      <th>211</th>\n",
       "      <td>17475</td>\n",
       "      <td>Sci&amp;Tech</td>\n",
       "      <td>1579737600000000000</td>\n",
       "      <td>58.00</td>\n",
       "      <td>False</td>\n",
       "      <td>10</td>\n",
       "      <td>4</td>\n",
       "    </tr>\n",
       "    <tr>\n",
       "      <th>212</th>\n",
       "      <td>17476</td>\n",
       "      <td>Comm&amp;Mgmt</td>\n",
       "      <td>1579910400000000000</td>\n",
       "      <td>67.00</td>\n",
       "      <td>True</td>\n",
       "      <td>10</td>\n",
       "      <td>6</td>\n",
       "    </tr>\n",
       "    <tr>\n",
       "      <th>213</th>\n",
       "      <td>17477</td>\n",
       "      <td>Comm&amp;Mgmt</td>\n",
       "      <td>1579392000000000000</td>\n",
       "      <td>74.00</td>\n",
       "      <td>False</td>\n",
       "      <td>10</td>\n",
       "      <td>7</td>\n",
       "    </tr>\n",
       "    <tr>\n",
       "      <th>214</th>\n",
       "      <td>17478</td>\n",
       "      <td>Comm&amp;Mgmt</td>\n",
       "      <td>-9223372036854775808</td>\n",
       "      <td>62.00</td>\n",
       "      <td>False</td>\n",
       "      <td>1</td>\n",
       "      <td>5</td>\n",
       "    </tr>\n",
       "  </tbody>\n",
       "</table>\n",
       "<p>215 rows × 7 columns</p>\n",
       "</div>"
      ],
      "text/plain": [
       "     student_id degree_type           start_date  second_perc  \\\n",
       "0         17264    Sci&Tech  1595462400000000000        67.00   \n",
       "1         17265    Sci&Tech  1578700800000000000        79.33   \n",
       "2         17266   Comm&Mgmt  1579996800000000000        65.00   \n",
       "3         17267    Sci&Tech -9223372036854775808        56.00   \n",
       "4         17268   Comm&Mgmt  1593820800000000000        85.80   \n",
       "..          ...         ...                  ...          ...   \n",
       "210       17474   Comm&Mgmt  1595808000000000000        80.60   \n",
       "211       17475    Sci&Tech  1579737600000000000        58.00   \n",
       "212       17476   Comm&Mgmt  1579910400000000000        67.00   \n",
       "213       17477   Comm&Mgmt  1579392000000000000        74.00   \n",
       "214       17478   Comm&Mgmt -9223372036854775808        62.00   \n",
       "\n",
       "     work_experience  start_date_discrete  second_perc_discrete  \n",
       "0              False                   10                     6  \n",
       "1               True                   10                     8  \n",
       "2              False                   10                     5  \n",
       "3              False                    1                     4  \n",
       "4              False                   10                    10  \n",
       "..               ...                  ...                   ...  \n",
       "210            False                   10                     9  \n",
       "211            False                   10                     4  \n",
       "212             True                   10                     6  \n",
       "213            False                   10                     7  \n",
       "214            False                    1                     5  \n",
       "\n",
       "[215 rows x 7 columns]"
      ]
     },
     "execution_count": 4,
     "metadata": {},
     "output_type": "execute_result"
    }
   ],
   "source": [
    "cpt = ColumnPairTrends()\n",
    "\n",
    "t_r = cpt._get_processed_data(real_data, metadata)\n",
    "t_r"
   ]
  },
  {
   "cell_type": "code",
   "execution_count": 5,
   "metadata": {},
   "outputs": [],
   "source": [
    "from sdmetrics.reports.utils import discretize_table_data\n",
    "\n",
    "t_r_1, t_s_1, _ = discretize_table_data(real_data, synthetic_data, metadata)"
   ]
  },
  {
   "cell_type": "code",
   "execution_count": 12,
   "metadata": {},
   "outputs": [
    {
     "data": {
      "text/html": [
       "<div>\n",
       "<style scoped>\n",
       "    .dataframe tbody tr th:only-of-type {\n",
       "        vertical-align: middle;\n",
       "    }\n",
       "\n",
       "    .dataframe tbody tr th {\n",
       "        vertical-align: top;\n",
       "    }\n",
       "\n",
       "    .dataframe thead th {\n",
       "        text-align: right;\n",
       "    }\n",
       "</style>\n",
       "<table border=\"1\" class=\"dataframe\">\n",
       "  <thead>\n",
       "    <tr style=\"text-align: right;\">\n",
       "      <th></th>\n",
       "      <th>student_id</th>\n",
       "      <th>degree_type</th>\n",
       "      <th>start_date</th>\n",
       "      <th>second_perc</th>\n",
       "      <th>work_experience</th>\n",
       "    </tr>\n",
       "  </thead>\n",
       "  <tbody>\n",
       "    <tr>\n",
       "      <th>0</th>\n",
       "      <td>17264</td>\n",
       "      <td>Sci&amp;Tech</td>\n",
       "      <td>2020-07-23</td>\n",
       "      <td>67.00</td>\n",
       "      <td>False</td>\n",
       "    </tr>\n",
       "    <tr>\n",
       "      <th>1</th>\n",
       "      <td>17265</td>\n",
       "      <td>Sci&amp;Tech</td>\n",
       "      <td>2020-01-11</td>\n",
       "      <td>79.33</td>\n",
       "      <td>True</td>\n",
       "    </tr>\n",
       "    <tr>\n",
       "      <th>2</th>\n",
       "      <td>17266</td>\n",
       "      <td>Comm&amp;Mgmt</td>\n",
       "      <td>2020-01-26</td>\n",
       "      <td>65.00</td>\n",
       "      <td>False</td>\n",
       "    </tr>\n",
       "    <tr>\n",
       "      <th>3</th>\n",
       "      <td>17267</td>\n",
       "      <td>Sci&amp;Tech</td>\n",
       "      <td>NaT</td>\n",
       "      <td>56.00</td>\n",
       "      <td>False</td>\n",
       "    </tr>\n",
       "    <tr>\n",
       "      <th>4</th>\n",
       "      <td>17268</td>\n",
       "      <td>Comm&amp;Mgmt</td>\n",
       "      <td>2020-07-04</td>\n",
       "      <td>85.80</td>\n",
       "      <td>False</td>\n",
       "    </tr>\n",
       "    <tr>\n",
       "      <th>...</th>\n",
       "      <td>...</td>\n",
       "      <td>...</td>\n",
       "      <td>...</td>\n",
       "      <td>...</td>\n",
       "      <td>...</td>\n",
       "    </tr>\n",
       "    <tr>\n",
       "      <th>210</th>\n",
       "      <td>17474</td>\n",
       "      <td>Comm&amp;Mgmt</td>\n",
       "      <td>2020-07-27</td>\n",
       "      <td>80.60</td>\n",
       "      <td>False</td>\n",
       "    </tr>\n",
       "    <tr>\n",
       "      <th>211</th>\n",
       "      <td>17475</td>\n",
       "      <td>Sci&amp;Tech</td>\n",
       "      <td>2020-01-23</td>\n",
       "      <td>58.00</td>\n",
       "      <td>False</td>\n",
       "    </tr>\n",
       "    <tr>\n",
       "      <th>212</th>\n",
       "      <td>17476</td>\n",
       "      <td>Comm&amp;Mgmt</td>\n",
       "      <td>2020-01-25</td>\n",
       "      <td>67.00</td>\n",
       "      <td>True</td>\n",
       "    </tr>\n",
       "    <tr>\n",
       "      <th>213</th>\n",
       "      <td>17477</td>\n",
       "      <td>Comm&amp;Mgmt</td>\n",
       "      <td>2020-01-19</td>\n",
       "      <td>74.00</td>\n",
       "      <td>False</td>\n",
       "    </tr>\n",
       "    <tr>\n",
       "      <th>214</th>\n",
       "      <td>17478</td>\n",
       "      <td>Comm&amp;Mgmt</td>\n",
       "      <td>NaT</td>\n",
       "      <td>62.00</td>\n",
       "      <td>False</td>\n",
       "    </tr>\n",
       "  </tbody>\n",
       "</table>\n",
       "<p>215 rows × 5 columns</p>\n",
       "</div>"
      ],
      "text/plain": [
       "     student_id degree_type start_date  second_perc  work_experience\n",
       "0         17264    Sci&Tech 2020-07-23        67.00            False\n",
       "1         17265    Sci&Tech 2020-01-11        79.33             True\n",
       "2         17266   Comm&Mgmt 2020-01-26        65.00            False\n",
       "3         17267    Sci&Tech        NaT        56.00            False\n",
       "4         17268   Comm&Mgmt 2020-07-04        85.80            False\n",
       "..          ...         ...        ...          ...              ...\n",
       "210       17474   Comm&Mgmt 2020-07-27        80.60            False\n",
       "211       17475    Sci&Tech 2020-01-23        58.00            False\n",
       "212       17476   Comm&Mgmt 2020-01-25        67.00             True\n",
       "213       17477   Comm&Mgmt 2020-01-19        74.00            False\n",
       "214       17478   Comm&Mgmt        NaT        62.00            False\n",
       "\n",
       "[215 rows x 5 columns]"
      ]
     },
     "execution_count": 12,
     "metadata": {},
     "output_type": "execute_result"
    }
   ],
   "source": [
    "real_data"
   ]
  },
  {
   "cell_type": "code",
   "execution_count": 9,
   "metadata": {},
   "outputs": [],
   "source": [
    " column_names = [\n",
    "    'student_id', 'degree_type', 'start_date', 'second_perc', 'work_experience'\n",
    "]\n",
    "real_data, synthetic_data, metadata = load_demo(modality='single_table')\n",
    "\n",
    "\n",
    "metadata['columns'] = {\n",
    "    key: val for key, val in metadata['columns'].items() if key in column_names\n",
    "}\n",
    "\n",
    "real_data['second_perc'].iloc[2] = 'a'\n",
    "\n",
    "# Run\n",
    "column_shape_property = ColumnPairTrends()\n",
    "\n",
    "expected_message_1 = (\n",
    "    'Error: ValueError Unable to parse string \\\"a\\\" at position 2'\n",
    ")\n",
    "\n",
    "expected_message_2 = (\n",
    "    \"Error: ValueError could not convert string to float: 'a'\"\n",
    ")\n",
    "\n",
    "score = column_shape_property.get_score(real_data, synthetic_data, metadata)\n",
    "\n",
    "# Assert\n",
    "details = column_shape_property._details"
   ]
  },
  {
   "cell_type": "code",
   "execution_count": 12,
   "metadata": {},
   "outputs": [
    {
     "data": {
      "text/plain": [
       "0    Error: ValueError could not convert string to ...\n",
       "1                                                 None\n",
       "2                                                 None\n",
       "3    Error: TypeError '<=' not supported between in...\n",
       "4    Error: TypeError '<=' not supported between in...\n",
       "5                                                 None\n",
       "Name: Error, dtype: object"
      ]
     },
     "execution_count": 12,
     "metadata": {},
     "output_type": "execute_result"
    }
   ],
   "source": [
    "details['Error']"
   ]
  },
  {
   "cell_type": "code",
   "execution_count": 8,
   "metadata": {},
   "outputs": [],
   "source": [
    "pd.testing.assert_series_equal(t_r_1['second_perc'], t_r['second_perc_discrete'], check_names=False)"
   ]
  },
  {
   "cell_type": "code",
   "execution_count": 7,
   "metadata": {},
   "outputs": [],
   "source": [
    "pd.testing.assert_series_equal(t_r_1['start_date'], t_r['start_date_discrete'], check_names=False)"
   ]
  },
  {
   "cell_type": "code",
   "execution_count": 3,
   "metadata": {},
   "outputs": [
    {
     "data": {
      "text/plain": [
       "{}"
      ]
     },
     "execution_count": 3,
     "metadata": {},
     "output_type": "execute_result"
    }
   ],
   "source": [
    "cpt._columns_discretization_failed"
   ]
  },
  {
   "cell_type": "code",
   "execution_count": 4,
   "metadata": {},
   "outputs": [
    {
     "data": {
      "text/html": [
       "<div>\n",
       "<style scoped>\n",
       "    .dataframe tbody tr th:only-of-type {\n",
       "        vertical-align: middle;\n",
       "    }\n",
       "\n",
       "    .dataframe tbody tr th {\n",
       "        vertical-align: top;\n",
       "    }\n",
       "\n",
       "    .dataframe thead th {\n",
       "        text-align: right;\n",
       "    }\n",
       "</style>\n",
       "<table border=\"1\" class=\"dataframe\">\n",
       "  <thead>\n",
       "    <tr style=\"text-align: right;\">\n",
       "      <th></th>\n",
       "      <th>student_id</th>\n",
       "      <th>degree_type</th>\n",
       "      <th>start_date</th>\n",
       "      <th>second_perc</th>\n",
       "      <th>work_experience</th>\n",
       "    </tr>\n",
       "  </thead>\n",
       "  <tbody>\n",
       "    <tr>\n",
       "      <th>0</th>\n",
       "      <td>17264</td>\n",
       "      <td>Sci&amp;Tech</td>\n",
       "      <td>2020-07-23</td>\n",
       "      <td>67.00</td>\n",
       "      <td>False</td>\n",
       "    </tr>\n",
       "    <tr>\n",
       "      <th>1</th>\n",
       "      <td>17265</td>\n",
       "      <td>Sci&amp;Tech</td>\n",
       "      <td>2020-01-11</td>\n",
       "      <td>79.33</td>\n",
       "      <td>True</td>\n",
       "    </tr>\n",
       "    <tr>\n",
       "      <th>2</th>\n",
       "      <td>17266</td>\n",
       "      <td>Comm&amp;Mgmt</td>\n",
       "      <td>2020-01-26</td>\n",
       "      <td>65.00</td>\n",
       "      <td>False</td>\n",
       "    </tr>\n",
       "    <tr>\n",
       "      <th>3</th>\n",
       "      <td>17267</td>\n",
       "      <td>Sci&amp;Tech</td>\n",
       "      <td>NaT</td>\n",
       "      <td>56.00</td>\n",
       "      <td>False</td>\n",
       "    </tr>\n",
       "    <tr>\n",
       "      <th>4</th>\n",
       "      <td>17268</td>\n",
       "      <td>Comm&amp;Mgmt</td>\n",
       "      <td>2020-07-04</td>\n",
       "      <td>85.80</td>\n",
       "      <td>False</td>\n",
       "    </tr>\n",
       "    <tr>\n",
       "      <th>...</th>\n",
       "      <td>...</td>\n",
       "      <td>...</td>\n",
       "      <td>...</td>\n",
       "      <td>...</td>\n",
       "      <td>...</td>\n",
       "    </tr>\n",
       "    <tr>\n",
       "      <th>210</th>\n",
       "      <td>17474</td>\n",
       "      <td>Comm&amp;Mgmt</td>\n",
       "      <td>2020-07-27</td>\n",
       "      <td>80.60</td>\n",
       "      <td>False</td>\n",
       "    </tr>\n",
       "    <tr>\n",
       "      <th>211</th>\n",
       "      <td>17475</td>\n",
       "      <td>Sci&amp;Tech</td>\n",
       "      <td>2020-01-23</td>\n",
       "      <td>58.00</td>\n",
       "      <td>False</td>\n",
       "    </tr>\n",
       "    <tr>\n",
       "      <th>212</th>\n",
       "      <td>17476</td>\n",
       "      <td>Comm&amp;Mgmt</td>\n",
       "      <td>2020-01-25</td>\n",
       "      <td>67.00</td>\n",
       "      <td>True</td>\n",
       "    </tr>\n",
       "    <tr>\n",
       "      <th>213</th>\n",
       "      <td>17477</td>\n",
       "      <td>Comm&amp;Mgmt</td>\n",
       "      <td>2020-01-19</td>\n",
       "      <td>74.00</td>\n",
       "      <td>False</td>\n",
       "    </tr>\n",
       "    <tr>\n",
       "      <th>214</th>\n",
       "      <td>17478</td>\n",
       "      <td>Comm&amp;Mgmt</td>\n",
       "      <td>NaT</td>\n",
       "      <td>62.00</td>\n",
       "      <td>False</td>\n",
       "    </tr>\n",
       "  </tbody>\n",
       "</table>\n",
       "<p>215 rows × 5 columns</p>\n",
       "</div>"
      ],
      "text/plain": [
       "     student_id degree_type start_date  second_perc  work_experience\n",
       "0         17264    Sci&Tech 2020-07-23        67.00            False\n",
       "1         17265    Sci&Tech 2020-01-11        79.33             True\n",
       "2         17266   Comm&Mgmt 2020-01-26        65.00            False\n",
       "3         17267    Sci&Tech        NaT        56.00            False\n",
       "4         17268   Comm&Mgmt 2020-07-04        85.80            False\n",
       "..          ...         ...        ...          ...              ...\n",
       "210       17474   Comm&Mgmt 2020-07-27        80.60            False\n",
       "211       17475    Sci&Tech 2020-01-23        58.00            False\n",
       "212       17476   Comm&Mgmt 2020-01-25        67.00             True\n",
       "213       17477   Comm&Mgmt 2020-01-19        74.00            False\n",
       "214       17478   Comm&Mgmt        NaT        62.00            False\n",
       "\n",
       "[215 rows x 5 columns]"
      ]
     },
     "execution_count": 4,
     "metadata": {},
     "output_type": "execute_result"
    }
   ],
   "source": [
    "real_data"
   ]
  },
  {
   "cell_type": "code",
   "execution_count": 5,
   "metadata": {},
   "outputs": [
    {
     "data": {
      "text/html": [
       "<div>\n",
       "<style scoped>\n",
       "    .dataframe tbody tr th:only-of-type {\n",
       "        vertical-align: middle;\n",
       "    }\n",
       "\n",
       "    .dataframe tbody tr th {\n",
       "        vertical-align: top;\n",
       "    }\n",
       "\n",
       "    .dataframe thead th {\n",
       "        text-align: right;\n",
       "    }\n",
       "</style>\n",
       "<table border=\"1\" class=\"dataframe\">\n",
       "  <thead>\n",
       "    <tr style=\"text-align: right;\">\n",
       "      <th></th>\n",
       "      <th>Column 1</th>\n",
       "      <th>Column 2</th>\n",
       "      <th>Metric</th>\n",
       "      <th>Score</th>\n",
       "      <th>Real Correlation</th>\n",
       "      <th>Synthetic Correlation</th>\n",
       "      <th>Error</th>\n",
       "    </tr>\n",
       "  </thead>\n",
       "  <tbody>\n",
       "    <tr>\n",
       "      <th>0</th>\n",
       "      <td>start_date</td>\n",
       "      <td>second_perc</td>\n",
       "      <td>CorrelationSimilarity</td>\n",
       "      <td>0.985451</td>\n",
       "      <td>0.047353</td>\n",
       "      <td>0.076451</td>\n",
       "      <td>None</td>\n",
       "    </tr>\n",
       "    <tr>\n",
       "      <th>1</th>\n",
       "      <td>start_date</td>\n",
       "      <td>work_experience</td>\n",
       "      <td>ContingencySimilarity</td>\n",
       "      <td>NaN</td>\n",
       "      <td>NaN</td>\n",
       "      <td>NaN</td>\n",
       "      <td>Error: UFuncTypeError ufunc 'multiply' cannot ...</td>\n",
       "    </tr>\n",
       "    <tr>\n",
       "      <th>2</th>\n",
       "      <td>start_date</td>\n",
       "      <td>degree_type</td>\n",
       "      <td>ContingencySimilarity</td>\n",
       "      <td>NaN</td>\n",
       "      <td>NaN</td>\n",
       "      <td>NaN</td>\n",
       "      <td>Error: UFuncTypeError ufunc 'multiply' cannot ...</td>\n",
       "    </tr>\n",
       "    <tr>\n",
       "      <th>3</th>\n",
       "      <td>second_perc</td>\n",
       "      <td>work_experience</td>\n",
       "      <td>ContingencySimilarity</td>\n",
       "      <td>0.734884</td>\n",
       "      <td>NaN</td>\n",
       "      <td>NaN</td>\n",
       "      <td>None</td>\n",
       "    </tr>\n",
       "    <tr>\n",
       "      <th>4</th>\n",
       "      <td>second_perc</td>\n",
       "      <td>degree_type</td>\n",
       "      <td>ContingencySimilarity</td>\n",
       "      <td>0.697674</td>\n",
       "      <td>NaN</td>\n",
       "      <td>NaN</td>\n",
       "      <td>None</td>\n",
       "    </tr>\n",
       "    <tr>\n",
       "      <th>5</th>\n",
       "      <td>work_experience</td>\n",
       "      <td>degree_type</td>\n",
       "      <td>ContingencySimilarity</td>\n",
       "      <td>0.897674</td>\n",
       "      <td>NaN</td>\n",
       "      <td>NaN</td>\n",
       "      <td>None</td>\n",
       "    </tr>\n",
       "  </tbody>\n",
       "</table>\n",
       "</div>"
      ],
      "text/plain": [
       "          Column 1         Column 2                 Metric     Score  \\\n",
       "0       start_date      second_perc  CorrelationSimilarity  0.985451   \n",
       "1       start_date  work_experience  ContingencySimilarity       NaN   \n",
       "2       start_date      degree_type  ContingencySimilarity       NaN   \n",
       "3      second_perc  work_experience  ContingencySimilarity  0.734884   \n",
       "4      second_perc      degree_type  ContingencySimilarity  0.697674   \n",
       "5  work_experience      degree_type  ContingencySimilarity  0.897674   \n",
       "\n",
       "   Real Correlation  Synthetic Correlation  \\\n",
       "0          0.047353               0.076451   \n",
       "1               NaN                    NaN   \n",
       "2               NaN                    NaN   \n",
       "3               NaN                    NaN   \n",
       "4               NaN                    NaN   \n",
       "5               NaN                    NaN   \n",
       "\n",
       "                                               Error  \n",
       "0                                               None  \n",
       "1  Error: UFuncTypeError ufunc 'multiply' cannot ...  \n",
       "2  Error: UFuncTypeError ufunc 'multiply' cannot ...  \n",
       "3                                               None  \n",
       "4                                               None  \n",
       "5                                               None  "
      ]
     },
     "execution_count": 5,
     "metadata": {},
     "output_type": "execute_result"
    }
   ],
   "source": [
    "cpt._details"
   ]
  },
  {
   "cell_type": "code",
   "execution_count": 4,
   "metadata": {},
   "outputs": [
    {
     "data": {
      "text/html": [
       "<div>\n",
       "<style scoped>\n",
       "    .dataframe tbody tr th:only-of-type {\n",
       "        vertical-align: middle;\n",
       "    }\n",
       "\n",
       "    .dataframe tbody tr th {\n",
       "        vertical-align: top;\n",
       "    }\n",
       "\n",
       "    .dataframe thead th {\n",
       "        text-align: right;\n",
       "    }\n",
       "</style>\n",
       "<table border=\"1\" class=\"dataframe\">\n",
       "  <thead>\n",
       "    <tr style=\"text-align: right;\">\n",
       "      <th></th>\n",
       "      <th>student_id</th>\n",
       "      <th>degree_type</th>\n",
       "      <th>start_date</th>\n",
       "      <th>second_perc</th>\n",
       "      <th>work_experience</th>\n",
       "      <th>start_date_discrete</th>\n",
       "      <th>second_perc_discrete</th>\n",
       "    </tr>\n",
       "  </thead>\n",
       "  <tbody>\n",
       "    <tr>\n",
       "      <th>0</th>\n",
       "      <td>17264</td>\n",
       "      <td>Sci&amp;Tech</td>\n",
       "      <td>1.595462e+18</td>\n",
       "      <td>67.00</td>\n",
       "      <td>False</td>\n",
       "      <td>10</td>\n",
       "      <td>6</td>\n",
       "    </tr>\n",
       "    <tr>\n",
       "      <th>1</th>\n",
       "      <td>17265</td>\n",
       "      <td>Sci&amp;Tech</td>\n",
       "      <td>1.578701e+18</td>\n",
       "      <td>79.33</td>\n",
       "      <td>True</td>\n",
       "      <td>1</td>\n",
       "      <td>8</td>\n",
       "    </tr>\n",
       "    <tr>\n",
       "      <th>2</th>\n",
       "      <td>17266</td>\n",
       "      <td>Comm&amp;Mgmt</td>\n",
       "      <td>1.579997e+18</td>\n",
       "      <td>65.00</td>\n",
       "      <td>False</td>\n",
       "      <td>2</td>\n",
       "      <td>5</td>\n",
       "    </tr>\n",
       "    <tr>\n",
       "      <th>3</th>\n",
       "      <td>17267</td>\n",
       "      <td>Sci&amp;Tech</td>\n",
       "      <td>NaN</td>\n",
       "      <td>56.00</td>\n",
       "      <td>False</td>\n",
       "      <td>11</td>\n",
       "      <td>4</td>\n",
       "    </tr>\n",
       "    <tr>\n",
       "      <th>4</th>\n",
       "      <td>17268</td>\n",
       "      <td>Comm&amp;Mgmt</td>\n",
       "      <td>1.593821e+18</td>\n",
       "      <td>85.80</td>\n",
       "      <td>False</td>\n",
       "      <td>9</td>\n",
       "      <td>10</td>\n",
       "    </tr>\n",
       "    <tr>\n",
       "      <th>...</th>\n",
       "      <td>...</td>\n",
       "      <td>...</td>\n",
       "      <td>...</td>\n",
       "      <td>...</td>\n",
       "      <td>...</td>\n",
       "      <td>...</td>\n",
       "      <td>...</td>\n",
       "    </tr>\n",
       "    <tr>\n",
       "      <th>210</th>\n",
       "      <td>17474</td>\n",
       "      <td>Comm&amp;Mgmt</td>\n",
       "      <td>1.595808e+18</td>\n",
       "      <td>80.60</td>\n",
       "      <td>False</td>\n",
       "      <td>10</td>\n",
       "      <td>9</td>\n",
       "    </tr>\n",
       "    <tr>\n",
       "      <th>211</th>\n",
       "      <td>17475</td>\n",
       "      <td>Sci&amp;Tech</td>\n",
       "      <td>1.579738e+18</td>\n",
       "      <td>58.00</td>\n",
       "      <td>False</td>\n",
       "      <td>2</td>\n",
       "      <td>4</td>\n",
       "    </tr>\n",
       "    <tr>\n",
       "      <th>212</th>\n",
       "      <td>17476</td>\n",
       "      <td>Comm&amp;Mgmt</td>\n",
       "      <td>1.579910e+18</td>\n",
       "      <td>67.00</td>\n",
       "      <td>True</td>\n",
       "      <td>2</td>\n",
       "      <td>6</td>\n",
       "    </tr>\n",
       "    <tr>\n",
       "      <th>213</th>\n",
       "      <td>17477</td>\n",
       "      <td>Comm&amp;Mgmt</td>\n",
       "      <td>1.579392e+18</td>\n",
       "      <td>74.00</td>\n",
       "      <td>False</td>\n",
       "      <td>1</td>\n",
       "      <td>7</td>\n",
       "    </tr>\n",
       "    <tr>\n",
       "      <th>214</th>\n",
       "      <td>17478</td>\n",
       "      <td>Comm&amp;Mgmt</td>\n",
       "      <td>NaN</td>\n",
       "      <td>62.00</td>\n",
       "      <td>False</td>\n",
       "      <td>11</td>\n",
       "      <td>5</td>\n",
       "    </tr>\n",
       "  </tbody>\n",
       "</table>\n",
       "<p>215 rows × 7 columns</p>\n",
       "</div>"
      ],
      "text/plain": [
       "     student_id degree_type    start_date  second_perc  work_experience  \\\n",
       "0         17264    Sci&Tech  1.595462e+18        67.00            False   \n",
       "1         17265    Sci&Tech  1.578701e+18        79.33             True   \n",
       "2         17266   Comm&Mgmt  1.579997e+18        65.00            False   \n",
       "3         17267    Sci&Tech           NaN        56.00            False   \n",
       "4         17268   Comm&Mgmt  1.593821e+18        85.80            False   \n",
       "..          ...         ...           ...          ...              ...   \n",
       "210       17474   Comm&Mgmt  1.595808e+18        80.60            False   \n",
       "211       17475    Sci&Tech  1.579738e+18        58.00            False   \n",
       "212       17476   Comm&Mgmt  1.579910e+18        67.00             True   \n",
       "213       17477   Comm&Mgmt  1.579392e+18        74.00            False   \n",
       "214       17478   Comm&Mgmt           NaN        62.00            False   \n",
       "\n",
       "     start_date_discrete  second_perc_discrete  \n",
       "0                     10                     6  \n",
       "1                      1                     8  \n",
       "2                      2                     5  \n",
       "3                     11                     4  \n",
       "4                      9                    10  \n",
       "..                   ...                   ...  \n",
       "210                   10                     9  \n",
       "211                    2                     4  \n",
       "212                    2                     6  \n",
       "213                    1                     7  \n",
       "214                   11                     5  \n",
       "\n",
       "[215 rows x 7 columns]"
      ]
     },
     "execution_count": 4,
     "metadata": {},
     "output_type": "execute_result"
    }
   ],
   "source": [
    "cpt = ColumnPairTrends()\n",
    "t = cpt._get_processed_data(real_data, metadata)\n",
    "t"
   ]
  },
  {
   "cell_type": "code",
   "execution_count": 10,
   "metadata": {},
   "outputs": [
    {
     "data": {
      "text/plain": [
       "{}"
      ]
     },
     "execution_count": 10,
     "metadata": {},
     "output_type": "execute_result"
    }
   ],
   "source": [
    "cpt = ColumnPairTrends()\n",
    "t3 = cpt._get_processed_data(synthetic_data.copy(), metadata)\n",
    "cpt._columns_datetime_conversion_failed"
   ]
  },
  {
   "cell_type": "code",
   "execution_count": null,
   "metadata": {},
   "outputs": [],
   "source": []
  },
  {
   "cell_type": "code",
   "execution_count": 5,
   "metadata": {},
   "outputs": [
    {
     "name": "stderr",
     "output_type": "stream",
     "text": [
      "Creating report: 100%|██████████| 4/4 [00:00<00:00, 285.04it/s]"
     ]
    },
    {
     "name": "stdout",
     "output_type": "stream",
     "text": [
      "\n",
      "Overall Quality Score: 80.13%\n",
      "\n",
      "Properties:\n",
      "Column Shapes: 80.67%\n",
      "Column Pair Trends: 79.6%\n"
     ]
    },
    {
     "name": "stderr",
     "output_type": "stream",
     "text": [
      "\n"
     ]
    },
    {
     "data": {
      "text/html": [
       "<div>\n",
       "<style scoped>\n",
       "    .dataframe tbody tr th:only-of-type {\n",
       "        vertical-align: middle;\n",
       "    }\n",
       "\n",
       "    .dataframe tbody tr th {\n",
       "        vertical-align: top;\n",
       "    }\n",
       "\n",
       "    .dataframe thead th {\n",
       "        text-align: right;\n",
       "    }\n",
       "</style>\n",
       "<table border=\"1\" class=\"dataframe\">\n",
       "  <thead>\n",
       "    <tr style=\"text-align: right;\">\n",
       "      <th></th>\n",
       "      <th>Column 1</th>\n",
       "      <th>Column 2</th>\n",
       "      <th>Metric</th>\n",
       "      <th>Quality Score</th>\n",
       "      <th>Real Correlation</th>\n",
       "      <th>Synthetic Correlation</th>\n",
       "    </tr>\n",
       "  </thead>\n",
       "  <tbody>\n",
       "    <tr>\n",
       "      <th>0</th>\n",
       "      <td>second_perc</td>\n",
       "      <td>start_date</td>\n",
       "      <td>CorrelationSimilarity</td>\n",
       "      <td>0.985451</td>\n",
       "      <td>0.047353</td>\n",
       "      <td>0.076451</td>\n",
       "    </tr>\n",
       "    <tr>\n",
       "      <th>1</th>\n",
       "      <td>degree_type</td>\n",
       "      <td>work_experience</td>\n",
       "      <td>ContingencySimilarity</td>\n",
       "      <td>0.897674</td>\n",
       "      <td>NaN</td>\n",
       "      <td>NaN</td>\n",
       "    </tr>\n",
       "    <tr>\n",
       "      <th>2</th>\n",
       "      <td>start_date</td>\n",
       "      <td>work_experience</td>\n",
       "      <td>ContingencySimilarity</td>\n",
       "      <td>0.800000</td>\n",
       "      <td>NaN</td>\n",
       "      <td>NaN</td>\n",
       "    </tr>\n",
       "    <tr>\n",
       "      <th>3</th>\n",
       "      <td>degree_type</td>\n",
       "      <td>start_date</td>\n",
       "      <td>ContingencySimilarity</td>\n",
       "      <td>0.851163</td>\n",
       "      <td>NaN</td>\n",
       "      <td>NaN</td>\n",
       "    </tr>\n",
       "    <tr>\n",
       "      <th>4</th>\n",
       "      <td>second_perc</td>\n",
       "      <td>work_experience</td>\n",
       "      <td>ContingencySimilarity</td>\n",
       "      <td>0.627907</td>\n",
       "      <td>NaN</td>\n",
       "      <td>NaN</td>\n",
       "    </tr>\n",
       "    <tr>\n",
       "      <th>5</th>\n",
       "      <td>degree_type</td>\n",
       "      <td>second_perc</td>\n",
       "      <td>ContingencySimilarity</td>\n",
       "      <td>0.613953</td>\n",
       "      <td>NaN</td>\n",
       "      <td>NaN</td>\n",
       "    </tr>\n",
       "  </tbody>\n",
       "</table>\n",
       "</div>"
      ],
      "text/plain": [
       "      Column 1         Column 2                 Metric  Quality Score  \\\n",
       "0  second_perc       start_date  CorrelationSimilarity       0.985451   \n",
       "1  degree_type  work_experience  ContingencySimilarity       0.897674   \n",
       "2   start_date  work_experience  ContingencySimilarity       0.800000   \n",
       "3  degree_type       start_date  ContingencySimilarity       0.851163   \n",
       "4  second_perc  work_experience  ContingencySimilarity       0.627907   \n",
       "5  degree_type      second_perc  ContingencySimilarity       0.613953   \n",
       "\n",
       "   Real Correlation  Synthetic Correlation  \n",
       "0          0.047353               0.076451  \n",
       "1               NaN                    NaN  \n",
       "2               NaN                    NaN  \n",
       "3               NaN                    NaN  \n",
       "4               NaN                    NaN  \n",
       "5               NaN                    NaN  "
      ]
     },
     "execution_count": 5,
     "metadata": {},
     "output_type": "execute_result"
    }
   ],
   "source": [
    "report = QualityReport()\n",
    "report.generate(real_data, synthetic_data, metadata)\n",
    "details = report.get_details(property_name='Column Pair Trends')\n",
    "details"
   ]
  },
  {
   "cell_type": "code",
   "execution_count": 13,
   "metadata": {},
   "outputs": [],
   "source": [
    "t_r = cpt._get_processed_data(real_data, metadata)\n",
    "t_s = cpt._get_processed_data(synthetic_data, metadata)"
   ]
  },
  {
   "cell_type": "code",
   "execution_count": 15,
   "metadata": {},
   "outputs": [
    {
     "data": {
      "text/html": [
       "<div>\n",
       "<style scoped>\n",
       "    .dataframe tbody tr th:only-of-type {\n",
       "        vertical-align: middle;\n",
       "    }\n",
       "\n",
       "    .dataframe tbody tr th {\n",
       "        vertical-align: top;\n",
       "    }\n",
       "\n",
       "    .dataframe thead th {\n",
       "        text-align: right;\n",
       "    }\n",
       "</style>\n",
       "<table border=\"1\" class=\"dataframe\">\n",
       "  <thead>\n",
       "    <tr style=\"text-align: right;\">\n",
       "      <th></th>\n",
       "      <th>student_id</th>\n",
       "      <th>degree_type</th>\n",
       "      <th>start_date</th>\n",
       "      <th>second_perc</th>\n",
       "      <th>work_experience</th>\n",
       "      <th>start_date_discrete</th>\n",
       "      <th>second_perc_discrete</th>\n",
       "    </tr>\n",
       "  </thead>\n",
       "  <tbody>\n",
       "    <tr>\n",
       "      <th>0</th>\n",
       "      <td>17264</td>\n",
       "      <td>Sci&amp;Tech</td>\n",
       "      <td>1.595462e+18</td>\n",
       "      <td>67.00</td>\n",
       "      <td>False</td>\n",
       "      <td>10</td>\n",
       "      <td>6</td>\n",
       "    </tr>\n",
       "    <tr>\n",
       "      <th>1</th>\n",
       "      <td>17265</td>\n",
       "      <td>Sci&amp;Tech</td>\n",
       "      <td>1.578701e+18</td>\n",
       "      <td>79.33</td>\n",
       "      <td>True</td>\n",
       "      <td>1</td>\n",
       "      <td>8</td>\n",
       "    </tr>\n",
       "    <tr>\n",
       "      <th>2</th>\n",
       "      <td>17266</td>\n",
       "      <td>Comm&amp;Mgmt</td>\n",
       "      <td>1.579997e+18</td>\n",
       "      <td>65.00</td>\n",
       "      <td>False</td>\n",
       "      <td>2</td>\n",
       "      <td>5</td>\n",
       "    </tr>\n",
       "    <tr>\n",
       "      <th>3</th>\n",
       "      <td>17267</td>\n",
       "      <td>Sci&amp;Tech</td>\n",
       "      <td>NaN</td>\n",
       "      <td>56.00</td>\n",
       "      <td>False</td>\n",
       "      <td>11</td>\n",
       "      <td>4</td>\n",
       "    </tr>\n",
       "    <tr>\n",
       "      <th>4</th>\n",
       "      <td>17268</td>\n",
       "      <td>Comm&amp;Mgmt</td>\n",
       "      <td>1.593821e+18</td>\n",
       "      <td>85.80</td>\n",
       "      <td>False</td>\n",
       "      <td>9</td>\n",
       "      <td>10</td>\n",
       "    </tr>\n",
       "    <tr>\n",
       "      <th>...</th>\n",
       "      <td>...</td>\n",
       "      <td>...</td>\n",
       "      <td>...</td>\n",
       "      <td>...</td>\n",
       "      <td>...</td>\n",
       "      <td>...</td>\n",
       "      <td>...</td>\n",
       "    </tr>\n",
       "    <tr>\n",
       "      <th>210</th>\n",
       "      <td>17474</td>\n",
       "      <td>Comm&amp;Mgmt</td>\n",
       "      <td>1.595808e+18</td>\n",
       "      <td>80.60</td>\n",
       "      <td>False</td>\n",
       "      <td>10</td>\n",
       "      <td>9</td>\n",
       "    </tr>\n",
       "    <tr>\n",
       "      <th>211</th>\n",
       "      <td>17475</td>\n",
       "      <td>Sci&amp;Tech</td>\n",
       "      <td>1.579738e+18</td>\n",
       "      <td>58.00</td>\n",
       "      <td>False</td>\n",
       "      <td>2</td>\n",
       "      <td>4</td>\n",
       "    </tr>\n",
       "    <tr>\n",
       "      <th>212</th>\n",
       "      <td>17476</td>\n",
       "      <td>Comm&amp;Mgmt</td>\n",
       "      <td>1.579910e+18</td>\n",
       "      <td>67.00</td>\n",
       "      <td>True</td>\n",
       "      <td>2</td>\n",
       "      <td>6</td>\n",
       "    </tr>\n",
       "    <tr>\n",
       "      <th>213</th>\n",
       "      <td>17477</td>\n",
       "      <td>Comm&amp;Mgmt</td>\n",
       "      <td>1.579392e+18</td>\n",
       "      <td>74.00</td>\n",
       "      <td>False</td>\n",
       "      <td>1</td>\n",
       "      <td>7</td>\n",
       "    </tr>\n",
       "    <tr>\n",
       "      <th>214</th>\n",
       "      <td>17478</td>\n",
       "      <td>Comm&amp;Mgmt</td>\n",
       "      <td>NaN</td>\n",
       "      <td>62.00</td>\n",
       "      <td>False</td>\n",
       "      <td>11</td>\n",
       "      <td>5</td>\n",
       "    </tr>\n",
       "  </tbody>\n",
       "</table>\n",
       "<p>215 rows × 7 columns</p>\n",
       "</div>"
      ],
      "text/plain": [
       "     student_id degree_type    start_date  second_perc  work_experience  \\\n",
       "0         17264    Sci&Tech  1.595462e+18        67.00            False   \n",
       "1         17265    Sci&Tech  1.578701e+18        79.33             True   \n",
       "2         17266   Comm&Mgmt  1.579997e+18        65.00            False   \n",
       "3         17267    Sci&Tech           NaN        56.00            False   \n",
       "4         17268   Comm&Mgmt  1.593821e+18        85.80            False   \n",
       "..          ...         ...           ...          ...              ...   \n",
       "210       17474   Comm&Mgmt  1.595808e+18        80.60            False   \n",
       "211       17475    Sci&Tech  1.579738e+18        58.00            False   \n",
       "212       17476   Comm&Mgmt  1.579910e+18        67.00             True   \n",
       "213       17477   Comm&Mgmt  1.579392e+18        74.00            False   \n",
       "214       17478   Comm&Mgmt           NaN        62.00            False   \n",
       "\n",
       "     start_date_discrete  second_perc_discrete  \n",
       "0                     10                     6  \n",
       "1                      1                     8  \n",
       "2                      2                     5  \n",
       "3                     11                     4  \n",
       "4                      9                    10  \n",
       "..                   ...                   ...  \n",
       "210                   10                     9  \n",
       "211                    2                     4  \n",
       "212                    2                     6  \n",
       "213                    1                     7  \n",
       "214                   11                     5  \n",
       "\n",
       "[215 rows x 7 columns]"
      ]
     },
     "execution_count": 15,
     "metadata": {},
     "output_type": "execute_result"
    }
   ],
   "source": [
    "t_r"
   ]
  },
  {
   "cell_type": "code",
   "execution_count": 22,
   "metadata": {},
   "outputs": [
    {
     "data": {
      "text/plain": [
       "{'score': 0.6976744186046512}"
      ]
     },
     "execution_count": 22,
     "metadata": {},
     "output_type": "execute_result"
    }
   ],
   "source": [
    "from sdmetrics.column_pairs.statistical import ContingencySimilarity, CorrelationSimilarity\n",
    "\n",
    "metric = ContingencySimilarity\n",
    "metric.compute_breakdown(t_r[['second_perc_discrete', 'degree_type']], t_s[['second_perc_discrete', 'degree_type']])"
   ]
  },
  {
   "cell_type": "code",
   "execution_count": 18,
   "metadata": {},
   "outputs": [
    {
     "data": {
      "text/html": [
       "<div>\n",
       "<style scoped>\n",
       "    .dataframe tbody tr th:only-of-type {\n",
       "        vertical-align: middle;\n",
       "    }\n",
       "\n",
       "    .dataframe tbody tr th {\n",
       "        vertical-align: top;\n",
       "    }\n",
       "\n",
       "    .dataframe thead th {\n",
       "        text-align: right;\n",
       "    }\n",
       "</style>\n",
       "<table border=\"1\" class=\"dataframe\">\n",
       "  <thead>\n",
       "    <tr style=\"text-align: right;\">\n",
       "      <th></th>\n",
       "      <th>Column 1</th>\n",
       "      <th>Column 2</th>\n",
       "      <th>Metric</th>\n",
       "      <th>Score</th>\n",
       "      <th>Real Correlation</th>\n",
       "      <th>Synthetic Correlation</th>\n",
       "      <th>Error</th>\n",
       "    </tr>\n",
       "  </thead>\n",
       "  <tbody>\n",
       "    <tr>\n",
       "      <th>0</th>\n",
       "      <td>start_date</td>\n",
       "      <td>second_perc</td>\n",
       "      <td>CorrelationSimilarity</td>\n",
       "      <td>0.985451</td>\n",
       "      <td>0.047353</td>\n",
       "      <td>0.076451</td>\n",
       "      <td>None</td>\n",
       "    </tr>\n",
       "    <tr>\n",
       "      <th>1</th>\n",
       "      <td>start_date</td>\n",
       "      <td>work_experience</td>\n",
       "      <td>ContingencySimilarity</td>\n",
       "      <td>0.586047</td>\n",
       "      <td>NaN</td>\n",
       "      <td>NaN</td>\n",
       "      <td>None</td>\n",
       "    </tr>\n",
       "    <tr>\n",
       "      <th>2</th>\n",
       "      <td>start_date</td>\n",
       "      <td>degree_type</td>\n",
       "      <td>ContingencySimilarity</td>\n",
       "      <td>NaN</td>\n",
       "      <td>NaN</td>\n",
       "      <td>NaN</td>\n",
       "      <td>Error: ValueError Unable to parse string \"Comm...</td>\n",
       "    </tr>\n",
       "    <tr>\n",
       "      <th>3</th>\n",
       "      <td>second_perc</td>\n",
       "      <td>work_experience</td>\n",
       "      <td>ContingencySimilarity</td>\n",
       "      <td>0.734884</td>\n",
       "      <td>NaN</td>\n",
       "      <td>NaN</td>\n",
       "      <td>None</td>\n",
       "    </tr>\n",
       "    <tr>\n",
       "      <th>4</th>\n",
       "      <td>second_perc</td>\n",
       "      <td>degree_type</td>\n",
       "      <td>ContingencySimilarity</td>\n",
       "      <td>NaN</td>\n",
       "      <td>NaN</td>\n",
       "      <td>NaN</td>\n",
       "      <td>Error: ValueError Unable to parse string \"Comm...</td>\n",
       "    </tr>\n",
       "    <tr>\n",
       "      <th>5</th>\n",
       "      <td>work_experience</td>\n",
       "      <td>degree_type</td>\n",
       "      <td>ContingencySimilarity</td>\n",
       "      <td>0.897674</td>\n",
       "      <td>NaN</td>\n",
       "      <td>NaN</td>\n",
       "      <td>None</td>\n",
       "    </tr>\n",
       "  </tbody>\n",
       "</table>\n",
       "</div>"
      ],
      "text/plain": [
       "          Column 1         Column 2                 Metric     Score  \\\n",
       "0       start_date      second_perc  CorrelationSimilarity  0.985451   \n",
       "1       start_date  work_experience  ContingencySimilarity  0.586047   \n",
       "2       start_date      degree_type  ContingencySimilarity       NaN   \n",
       "3      second_perc  work_experience  ContingencySimilarity  0.734884   \n",
       "4      second_perc      degree_type  ContingencySimilarity       NaN   \n",
       "5  work_experience      degree_type  ContingencySimilarity  0.897674   \n",
       "\n",
       "   Real Correlation  Synthetic Correlation  \\\n",
       "0          0.047353               0.076451   \n",
       "1               NaN                    NaN   \n",
       "2               NaN                    NaN   \n",
       "3               NaN                    NaN   \n",
       "4               NaN                    NaN   \n",
       "5               NaN                    NaN   \n",
       "\n",
       "                                               Error  \n",
       "0                                               None  \n",
       "1                                               None  \n",
       "2  Error: ValueError Unable to parse string \"Comm...  \n",
       "3                                               None  \n",
       "4  Error: ValueError Unable to parse string \"Comm...  \n",
       "5                                               None  "
      ]
     },
     "execution_count": 18,
     "metadata": {},
     "output_type": "execute_result"
    }
   ],
   "source": [
    "cpt._details"
   ]
  },
  {
   "cell_type": "code",
   "execution_count": 4,
   "metadata": {},
   "outputs": [
    {
     "data": {
      "text/plain": [
       "0      1595462400000000000\n",
       "1      1578700800000000000\n",
       "2      1579996800000000000\n",
       "3     -9223372036854775808\n",
       "4      1593820800000000000\n",
       "              ...         \n",
       "210    1595808000000000000\n",
       "211    1579737600000000000\n",
       "212    1579910400000000000\n",
       "213    1579392000000000000\n",
       "214   -9223372036854775808\n",
       "Name: start_date, Length: 215, dtype: int64"
      ]
     },
     "execution_count": 4,
     "metadata": {},
     "output_type": "execute_result"
    }
   ],
   "source": [
    "t, _= cpt._get_processed_data(real_data, synthetic_data, metadata)\n",
    "t['start_date']"
   ]
  },
  {
   "cell_type": "code",
   "execution_count": 7,
   "metadata": {},
   "outputs": [
    {
     "data": {
      "text/html": [
       "<div>\n",
       "<style scoped>\n",
       "    .dataframe tbody tr th:only-of-type {\n",
       "        vertical-align: middle;\n",
       "    }\n",
       "\n",
       "    .dataframe tbody tr th {\n",
       "        vertical-align: top;\n",
       "    }\n",
       "\n",
       "    .dataframe thead th {\n",
       "        text-align: right;\n",
       "    }\n",
       "</style>\n",
       "<table border=\"1\" class=\"dataframe\">\n",
       "  <thead>\n",
       "    <tr style=\"text-align: right;\">\n",
       "      <th></th>\n",
       "      <th>Column 1</th>\n",
       "      <th>Column 2</th>\n",
       "      <th>Metric</th>\n",
       "      <th>Score</th>\n",
       "      <th>Real Correlation</th>\n",
       "      <th>Synthetic Correlation</th>\n",
       "      <th>Error</th>\n",
       "    </tr>\n",
       "  </thead>\n",
       "  <tbody>\n",
       "    <tr>\n",
       "      <th>0</th>\n",
       "      <td>start_date</td>\n",
       "      <td>end_date</td>\n",
       "      <td>CorrelationSimilarity</td>\n",
       "      <td>0.898691</td>\n",
       "      <td>0.999999</td>\n",
       "      <td>0.797380</td>\n",
       "      <td>None</td>\n",
       "    </tr>\n",
       "    <tr>\n",
       "      <th>1</th>\n",
       "      <td>start_date</td>\n",
       "      <td>salary</td>\n",
       "      <td>CorrelationSimilarity</td>\n",
       "      <td>0.996426</td>\n",
       "      <td>0.052848</td>\n",
       "      <td>0.059996</td>\n",
       "      <td>None</td>\n",
       "    </tr>\n",
       "    <tr>\n",
       "      <th>2</th>\n",
       "      <td>start_date</td>\n",
       "      <td>duration</td>\n",
       "      <td>CorrelationSimilarity</td>\n",
       "      <td>0.792278</td>\n",
       "      <td>-0.454971</td>\n",
       "      <td>-0.039527</td>\n",
       "      <td>None</td>\n",
       "    </tr>\n",
       "    <tr>\n",
       "      <th>3</th>\n",
       "      <td>start_date</td>\n",
       "      <td>high_perc</td>\n",
       "      <td>CorrelationSimilarity</td>\n",
       "      <td>0.653505</td>\n",
       "      <td>0.491274</td>\n",
       "      <td>-0.201716</td>\n",
       "      <td>None</td>\n",
       "    </tr>\n",
       "    <tr>\n",
       "      <th>4</th>\n",
       "      <td>start_date</td>\n",
       "      <td>high_spec</td>\n",
       "      <td>ContingencySimilarity</td>\n",
       "      <td>NaN</td>\n",
       "      <td>NaN</td>\n",
       "      <td>NaN</td>\n",
       "      <td>Error: ValueError Unable to parse string \"Comm...</td>\n",
       "    </tr>\n",
       "    <tr>\n",
       "      <th>...</th>\n",
       "      <td>...</td>\n",
       "      <td>...</td>\n",
       "      <td>...</td>\n",
       "      <td>...</td>\n",
       "      <td>...</td>\n",
       "      <td>...</td>\n",
       "      <td>...</td>\n",
       "    </tr>\n",
       "    <tr>\n",
       "      <th>115</th>\n",
       "      <td>employability_perc</td>\n",
       "      <td>work_experience</td>\n",
       "      <td>ContingencySimilarity</td>\n",
       "      <td>NaN</td>\n",
       "      <td>NaN</td>\n",
       "      <td>NaN</td>\n",
       "      <td>Error: KeyError \"['work_experience_discrete'] ...</td>\n",
       "    </tr>\n",
       "    <tr>\n",
       "      <th>116</th>\n",
       "      <td>employability_perc</td>\n",
       "      <td>degree_type</td>\n",
       "      <td>ContingencySimilarity</td>\n",
       "      <td>NaN</td>\n",
       "      <td>NaN</td>\n",
       "      <td>NaN</td>\n",
       "      <td>Error: ValueError Unable to parse string \"Comm...</td>\n",
       "    </tr>\n",
       "    <tr>\n",
       "      <th>117</th>\n",
       "      <td>mba_perc</td>\n",
       "      <td>work_experience</td>\n",
       "      <td>ContingencySimilarity</td>\n",
       "      <td>NaN</td>\n",
       "      <td>NaN</td>\n",
       "      <td>NaN</td>\n",
       "      <td>Error: KeyError \"['work_experience_discrete'] ...</td>\n",
       "    </tr>\n",
       "    <tr>\n",
       "      <th>118</th>\n",
       "      <td>mba_perc</td>\n",
       "      <td>degree_type</td>\n",
       "      <td>ContingencySimilarity</td>\n",
       "      <td>NaN</td>\n",
       "      <td>NaN</td>\n",
       "      <td>NaN</td>\n",
       "      <td>Error: ValueError Unable to parse string \"Comm...</td>\n",
       "    </tr>\n",
       "    <tr>\n",
       "      <th>119</th>\n",
       "      <td>work_experience</td>\n",
       "      <td>degree_type</td>\n",
       "      <td>ContingencySimilarity</td>\n",
       "      <td>0.897674</td>\n",
       "      <td>NaN</td>\n",
       "      <td>NaN</td>\n",
       "      <td>None</td>\n",
       "    </tr>\n",
       "  </tbody>\n",
       "</table>\n",
       "<p>120 rows × 7 columns</p>\n",
       "</div>"
      ],
      "text/plain": [
       "               Column 1         Column 2                 Metric     Score  \\\n",
       "0            start_date         end_date  CorrelationSimilarity  0.898691   \n",
       "1            start_date           salary  CorrelationSimilarity  0.996426   \n",
       "2            start_date         duration  CorrelationSimilarity  0.792278   \n",
       "3            start_date        high_perc  CorrelationSimilarity  0.653505   \n",
       "4            start_date        high_spec  ContingencySimilarity       NaN   \n",
       "..                  ...              ...                    ...       ...   \n",
       "115  employability_perc  work_experience  ContingencySimilarity       NaN   \n",
       "116  employability_perc      degree_type  ContingencySimilarity       NaN   \n",
       "117            mba_perc  work_experience  ContingencySimilarity       NaN   \n",
       "118            mba_perc      degree_type  ContingencySimilarity       NaN   \n",
       "119     work_experience      degree_type  ContingencySimilarity  0.897674   \n",
       "\n",
       "     Real Correlation  Synthetic Correlation  \\\n",
       "0            0.999999               0.797380   \n",
       "1            0.052848               0.059996   \n",
       "2           -0.454971              -0.039527   \n",
       "3            0.491274              -0.201716   \n",
       "4                 NaN                    NaN   \n",
       "..                ...                    ...   \n",
       "115               NaN                    NaN   \n",
       "116               NaN                    NaN   \n",
       "117               NaN                    NaN   \n",
       "118               NaN                    NaN   \n",
       "119               NaN                    NaN   \n",
       "\n",
       "                                                 Error  \n",
       "0                                                 None  \n",
       "1                                                 None  \n",
       "2                                                 None  \n",
       "3                                                 None  \n",
       "4    Error: ValueError Unable to parse string \"Comm...  \n",
       "..                                                 ...  \n",
       "115  Error: KeyError \"['work_experience_discrete'] ...  \n",
       "116  Error: ValueError Unable to parse string \"Comm...  \n",
       "117  Error: KeyError \"['work_experience_discrete'] ...  \n",
       "118  Error: ValueError Unable to parse string \"Comm...  \n",
       "119                                               None  \n",
       "\n",
       "[120 rows x 7 columns]"
      ]
     },
     "execution_count": 7,
     "metadata": {},
     "output_type": "execute_result"
    }
   ],
   "source": []
  },
  {
   "cell_type": "code",
   "execution_count": 6,
   "metadata": {},
   "outputs": [
    {
     "data": {
      "text/plain": [
       "'Error: ValueError Unable to parse string \"Commerce\" at position 0'"
      ]
     },
     "execution_count": 6,
     "metadata": {},
     "output_type": "execute_result"
    }
   ],
   "source": []
  },
  {
   "cell_type": "code",
   "execution_count": 10,
   "metadata": {},
   "outputs": [
    {
     "name": "stderr",
     "output_type": "stream",
     "text": [
      "Creating report:  50%|█████     | 2/4 [00:00<00:00, 52.31it/s]\n"
     ]
    },
    {
     "ename": "ValueError",
     "evalue": "x and y must have length at least 2.",
     "output_type": "error",
     "traceback": [
      "\u001b[0;31m---------------------------------------------------------------------------\u001b[0m",
      "\u001b[0;31mValueError\u001b[0m                                Traceback (most recent call last)",
      "Cell \u001b[0;32mIn[10], line 5\u001b[0m\n\u001b[1;32m      3\u001b[0m real_data[\u001b[39m'\u001b[39m\u001b[39memployability_perc\u001b[39m\u001b[39m'\u001b[39m] \u001b[39m=\u001b[39m np\u001b[39m.\u001b[39mnan \u001b[39m*\u001b[39m np\u001b[39m.\u001b[39mones(\u001b[39mlen\u001b[39m(real_data))\n\u001b[1;32m      4\u001b[0m report \u001b[39m=\u001b[39m QualityReport()\n\u001b[0;32m----> 5\u001b[0m report\u001b[39m.\u001b[39;49mgenerate(real_data, synthetic_data, metadata)\n\u001b[1;32m      6\u001b[0m details \u001b[39m=\u001b[39m report\u001b[39m.\u001b[39mget_details(property_name\u001b[39m=\u001b[39m\u001b[39m'\u001b[39m\u001b[39mColumn Shapes\u001b[39m\u001b[39m'\u001b[39m)\n",
      "File \u001b[0;32m~/Desktop/SDMetrics/sdmetrics/reports/single_table/quality_report.py:77\u001b[0m, in \u001b[0;36mQualityReport.generate\u001b[0;34m(self, real_data, synthetic_data, metadata, verbose)\u001b[0m\n\u001b[1;32m     75\u001b[0m \u001b[39mfor\u001b[39;00m metric \u001b[39min\u001b[39;00m tqdm\u001b[39m.\u001b[39mtqdm(metrics, desc\u001b[39m=\u001b[39m\u001b[39m'\u001b[39m\u001b[39mCreating report\u001b[39m\u001b[39m'\u001b[39m, disable\u001b[39m=\u001b[39m(\u001b[39mnot\u001b[39;00m verbose)):\n\u001b[1;32m     76\u001b[0m     \u001b[39mtry\u001b[39;00m:\n\u001b[0;32m---> 77\u001b[0m         \u001b[39mself\u001b[39m\u001b[39m.\u001b[39m_metric_results[metric\u001b[39m.\u001b[39m\u001b[39m__name__\u001b[39m] \u001b[39m=\u001b[39m metric\u001b[39m.\u001b[39;49mcompute_breakdown(\n\u001b[1;32m     78\u001b[0m             real_data, synthetic_data, metadata)\n\u001b[1;32m     79\u001b[0m     \u001b[39mexcept\u001b[39;00m IncomputableMetricError:\n\u001b[1;32m     80\u001b[0m         \u001b[39m# Metric is not compatible with this dataset.\u001b[39;00m\n\u001b[1;32m     81\u001b[0m         \u001b[39mself\u001b[39m\u001b[39m.\u001b[39m_metric_results[metric\u001b[39m.\u001b[39m\u001b[39m__name__\u001b[39m] \u001b[39m=\u001b[39m {}\n",
      "File \u001b[0;32m~/Desktop/SDMetrics/sdmetrics/single_table/multi_column_pairs.py:129\u001b[0m, in \u001b[0;36mMultiColumnPairsMetric.compute_breakdown\u001b[0;34m(cls, real_data, synthetic_data, metadata, **kwargs)\u001b[0m\n\u001b[1;32m    127\u001b[0m     real \u001b[39m=\u001b[39m real_data[\u001b[39mlist\u001b[39m(sorted_columns)]\n\u001b[1;32m    128\u001b[0m     synthetic \u001b[39m=\u001b[39m synthetic_data[\u001b[39mlist\u001b[39m(sorted_columns)]\n\u001b[0;32m--> 129\u001b[0m     breakdown[sorted_columns] \u001b[39m=\u001b[39m \u001b[39mcls\u001b[39;49m\u001b[39m.\u001b[39;49mcolumn_pairs_metric\u001b[39m.\u001b[39;49mcompute_breakdown(\n\u001b[1;32m    130\u001b[0m         real, synthetic, \u001b[39m*\u001b[39;49m\u001b[39m*\u001b[39;49mkwargs)\n\u001b[1;32m    132\u001b[0m \u001b[39mreturn\u001b[39;00m breakdown\n",
      "File \u001b[0;32m~/Desktop/SDMetrics/sdmetrics/column_pairs/statistical/correlation_similarity.py:103\u001b[0m, in \u001b[0;36mCorrelationSimilarity.compute_breakdown\u001b[0;34m(cls, real_data, synthetic_data, coefficient)\u001b[0m\n\u001b[1;32m     99\u001b[0m \u001b[39melse\u001b[39;00m:\n\u001b[1;32m    100\u001b[0m     \u001b[39mraise\u001b[39;00m \u001b[39mValueError\u001b[39;00m(\u001b[39mf\u001b[39m\u001b[39m'\u001b[39m\u001b[39mrequested coefficient \u001b[39m\u001b[39m{\u001b[39;00mcoefficient\u001b[39m}\u001b[39;00m\u001b[39m is not valid. \u001b[39m\u001b[39m'\u001b[39m\n\u001b[1;32m    101\u001b[0m                      \u001b[39m'\u001b[39m\u001b[39mPlease choose either Pearson or Spearman.\u001b[39m\u001b[39m'\u001b[39m)\n\u001b[0;32m--> 103\u001b[0m correlation_real, _ \u001b[39m=\u001b[39m correlation_fn(real_data[column1], real_data[column2])\n\u001b[1;32m    104\u001b[0m correlation_synthetic, _ \u001b[39m=\u001b[39m correlation_fn(synthetic_data[column1], synthetic_data[column2])\n\u001b[1;32m    106\u001b[0m \u001b[39mif\u001b[39;00m np\u001b[39m.\u001b[39misnan(correlation_real) \u001b[39mor\u001b[39;00m np\u001b[39m.\u001b[39misnan(correlation_synthetic):\n",
      "File \u001b[0;32m~/miniconda3/envs/Issue_355_column_shape_property/lib/python3.9/site-packages/scipy/stats/_stats_py.py:4411\u001b[0m, in \u001b[0;36mpearsonr\u001b[0;34m(x, y, alternative)\u001b[0m\n\u001b[1;32m   4408\u001b[0m     \u001b[39mraise\u001b[39;00m \u001b[39mValueError\u001b[39;00m(\u001b[39m'\u001b[39m\u001b[39mx and y must have the same length.\u001b[39m\u001b[39m'\u001b[39m)\n\u001b[1;32m   4410\u001b[0m \u001b[39mif\u001b[39;00m n \u001b[39m<\u001b[39m \u001b[39m2\u001b[39m:\n\u001b[0;32m-> 4411\u001b[0m     \u001b[39mraise\u001b[39;00m \u001b[39mValueError\u001b[39;00m(\u001b[39m'\u001b[39m\u001b[39mx and y must have length at least 2.\u001b[39m\u001b[39m'\u001b[39m)\n\u001b[1;32m   4413\u001b[0m x \u001b[39m=\u001b[39m np\u001b[39m.\u001b[39masarray(x)\n\u001b[1;32m   4414\u001b[0m y \u001b[39m=\u001b[39m np\u001b[39m.\u001b[39masarray(y)\n",
      "\u001b[0;31mValueError\u001b[0m: x and y must have length at least 2."
     ]
    }
   ],
   "source": [
    "real_data['employability_perc'] = np.nan * np.ones(len(real_data))\n",
    "report = QualityReport()\n",
    "report.generate(real_data, synthetic_data, metadata)\n",
    "details = report.get_details(property_name='Column Shapes')"
   ]
  },
  {
   "cell_type": "code",
   "execution_count": 2,
   "metadata": {},
   "outputs": [],
   "source": [
    "from sdmetrics.reports.single_table._properties import ColumnShapes"
   ]
  },
  {
   "cell_type": "code",
   "execution_count": 7,
   "metadata": {},
   "outputs": [
    {
     "data": {
      "application/vnd.jupyter.widget-view+json": {
       "model_id": "e799270ec56d4b0e9d2a3b23aa66c0af",
       "version_major": 2,
       "version_minor": 0
      },
      "text/plain": [
       "Column Shapes:   0%|          | 0/17 [00:00<?, ?it/s]"
      ]
     },
     "metadata": {},
     "output_type": "display_data"
    },
    {
     "data": {
      "text/plain": [
       "0.816"
      ]
     },
     "execution_count": 7,
     "metadata": {},
     "output_type": "execute_result"
    }
   ],
   "source": [
    "from sdmetrics.reports.single_table._properties import ColumnShapes, ColumnPairTrends\n",
    "\n",
    "column_shapes = ColumnShapes()\n",
    "real_data['start_date'].iloc[0] = 0\n",
    "#real_data['employability_perc'].iloc[2] = 'a'\n",
    "progress_bar = tqdm(total=len(real_data.columns), desc='Column Shapes')\n",
    "column_shapes.get_score(real_data, synthetic_data, metadata, progress_bar)"
   ]
  },
  {
   "cell_type": "code",
   "execution_count": 2,
   "metadata": {},
   "outputs": [
    {
     "data": {
      "text/plain": [
       "{'primary_key': 'student_id',\n",
       " 'columns': {'start_date': {'sdtype': 'datetime',\n",
       "   'datetime_format': '%Y-%m-%d'},\n",
       "  'end_date': {'sdtype': 'datetime', 'datetime_format': '%Y-%m-%d'},\n",
       "  'salary': {'sdtype': 'numerical', 'computer_representation': 'Int64'},\n",
       "  'duration': {'sdtype': 'numerical', 'computer_representation': 'Int64'},\n",
       "  'student_id': {'sdtype': 'id', 'regex_format': '\\\\d{30}'},\n",
       "  'high_perc': {'sdtype': 'numerical', 'computer_representation': 'Float'},\n",
       "  'high_spec': {'sdtype': 'categorical'},\n",
       "  'mba_spec': {'sdtype': 'categorical'},\n",
       "  'second_perc': {'sdtype': 'numerical', 'computer_representation': 'Float'},\n",
       "  'gender': {'sdtype': 'categorical'},\n",
       "  'degree_perc': {'sdtype': 'numerical', 'computer_representation': 'Float'},\n",
       "  'placed': {'sdtype': 'boolean'},\n",
       "  'experience_years': {'sdtype': 'numerical',\n",
       "   'computer_representation': 'Float'},\n",
       "  'employability_perc': {'sdtype': 'numerical',\n",
       "   'computer_representation': 'Float'},\n",
       "  'mba_perc': {'sdtype': 'numerical', 'computer_representation': 'Float'},\n",
       "  'work_experience': {'sdtype': 'boolean'},\n",
       "  'degree_type': {'sdtype': 'categorical'}},\n",
       " 'METADATA_SPEC_VERSION': 'SINGLE_TABLE_V1'}"
      ]
     },
     "execution_count": 2,
     "metadata": {},
     "output_type": "execute_result"
    }
   ],
   "source": [
    "metadata"
   ]
  },
  {
   "cell_type": "code",
   "execution_count": 4,
   "metadata": {},
   "outputs": [
    {
     "data": {
      "text/html": [
       "<div>\n",
       "<style scoped>\n",
       "    .dataframe tbody tr th:only-of-type {\n",
       "        vertical-align: middle;\n",
       "    }\n",
       "\n",
       "    .dataframe tbody tr th {\n",
       "        vertical-align: top;\n",
       "    }\n",
       "\n",
       "    .dataframe thead th {\n",
       "        text-align: right;\n",
       "    }\n",
       "</style>\n",
       "<table border=\"1\" class=\"dataframe\">\n",
       "  <thead>\n",
       "    <tr style=\"text-align: right;\">\n",
       "      <th></th>\n",
       "      <th>student_id</th>\n",
       "      <th>gender</th>\n",
       "      <th>second_perc</th>\n",
       "      <th>high_perc</th>\n",
       "      <th>high_spec</th>\n",
       "      <th>degree_perc</th>\n",
       "      <th>degree_type</th>\n",
       "      <th>work_experience</th>\n",
       "      <th>experience_years</th>\n",
       "      <th>employability_perc</th>\n",
       "      <th>mba_spec</th>\n",
       "      <th>mba_perc</th>\n",
       "      <th>salary</th>\n",
       "      <th>placed</th>\n",
       "      <th>start_date</th>\n",
       "      <th>end_date</th>\n",
       "      <th>duration</th>\n",
       "    </tr>\n",
       "  </thead>\n",
       "  <tbody>\n",
       "    <tr>\n",
       "      <th>0</th>\n",
       "      <td>17264</td>\n",
       "      <td>M</td>\n",
       "      <td>67.00</td>\n",
       "      <td>91.00</td>\n",
       "      <td>Commerce</td>\n",
       "      <td>58.00</td>\n",
       "      <td>Sci&amp;Tech</td>\n",
       "      <td>False</td>\n",
       "      <td>0</td>\n",
       "      <td>55.0</td>\n",
       "      <td>Mkt&amp;HR</td>\n",
       "      <td>58.80</td>\n",
       "      <td>27000.0</td>\n",
       "      <td>True</td>\n",
       "      <td>0</td>\n",
       "      <td>2020-10-12</td>\n",
       "      <td>3.0</td>\n",
       "    </tr>\n",
       "    <tr>\n",
       "      <th>1</th>\n",
       "      <td>17265</td>\n",
       "      <td>M</td>\n",
       "      <td>79.33</td>\n",
       "      <td>78.33</td>\n",
       "      <td>Science</td>\n",
       "      <td>77.48</td>\n",
       "      <td>Sci&amp;Tech</td>\n",
       "      <td>True</td>\n",
       "      <td>1</td>\n",
       "      <td>86.5</td>\n",
       "      <td>Mkt&amp;Fin</td>\n",
       "      <td>66.28</td>\n",
       "      <td>20000.0</td>\n",
       "      <td>True</td>\n",
       "      <td>2020-01-11 00:00:00</td>\n",
       "      <td>2020-04-09</td>\n",
       "      <td>3.0</td>\n",
       "    </tr>\n",
       "    <tr>\n",
       "      <th>2</th>\n",
       "      <td>17266</td>\n",
       "      <td>M</td>\n",
       "      <td>65.00</td>\n",
       "      <td>68.00</td>\n",
       "      <td>Arts</td>\n",
       "      <td>64.00</td>\n",
       "      <td>Comm&amp;Mgmt</td>\n",
       "      <td>False</td>\n",
       "      <td>0</td>\n",
       "      <td>a</td>\n",
       "      <td>Mkt&amp;Fin</td>\n",
       "      <td>57.80</td>\n",
       "      <td>25000.0</td>\n",
       "      <td>True</td>\n",
       "      <td>2020-01-26 00:00:00</td>\n",
       "      <td>2020-07-13</td>\n",
       "      <td>6.0</td>\n",
       "    </tr>\n",
       "    <tr>\n",
       "      <th>3</th>\n",
       "      <td>17267</td>\n",
       "      <td>M</td>\n",
       "      <td>56.00</td>\n",
       "      <td>52.00</td>\n",
       "      <td>Science</td>\n",
       "      <td>52.00</td>\n",
       "      <td>Sci&amp;Tech</td>\n",
       "      <td>False</td>\n",
       "      <td>0</td>\n",
       "      <td>66.0</td>\n",
       "      <td>Mkt&amp;HR</td>\n",
       "      <td>59.43</td>\n",
       "      <td>NaN</td>\n",
       "      <td>False</td>\n",
       "      <td>NaT</td>\n",
       "      <td>NaT</td>\n",
       "      <td>NaN</td>\n",
       "    </tr>\n",
       "    <tr>\n",
       "      <th>4</th>\n",
       "      <td>17268</td>\n",
       "      <td>M</td>\n",
       "      <td>85.80</td>\n",
       "      <td>73.60</td>\n",
       "      <td>Commerce</td>\n",
       "      <td>73.30</td>\n",
       "      <td>Comm&amp;Mgmt</td>\n",
       "      <td>False</td>\n",
       "      <td>0</td>\n",
       "      <td>96.8</td>\n",
       "      <td>Mkt&amp;Fin</td>\n",
       "      <td>55.50</td>\n",
       "      <td>42500.0</td>\n",
       "      <td>True</td>\n",
       "      <td>2020-07-04 00:00:00</td>\n",
       "      <td>2020-09-27</td>\n",
       "      <td>3.0</td>\n",
       "    </tr>\n",
       "    <tr>\n",
       "      <th>...</th>\n",
       "      <td>...</td>\n",
       "      <td>...</td>\n",
       "      <td>...</td>\n",
       "      <td>...</td>\n",
       "      <td>...</td>\n",
       "      <td>...</td>\n",
       "      <td>...</td>\n",
       "      <td>...</td>\n",
       "      <td>...</td>\n",
       "      <td>...</td>\n",
       "      <td>...</td>\n",
       "      <td>...</td>\n",
       "      <td>...</td>\n",
       "      <td>...</td>\n",
       "      <td>...</td>\n",
       "      <td>...</td>\n",
       "      <td>...</td>\n",
       "    </tr>\n",
       "    <tr>\n",
       "      <th>210</th>\n",
       "      <td>17474</td>\n",
       "      <td>M</td>\n",
       "      <td>80.60</td>\n",
       "      <td>82.00</td>\n",
       "      <td>Commerce</td>\n",
       "      <td>77.60</td>\n",
       "      <td>Comm&amp;Mgmt</td>\n",
       "      <td>False</td>\n",
       "      <td>0</td>\n",
       "      <td>91.0</td>\n",
       "      <td>Mkt&amp;Fin</td>\n",
       "      <td>74.49</td>\n",
       "      <td>40000.0</td>\n",
       "      <td>True</td>\n",
       "      <td>2020-07-27 00:00:00</td>\n",
       "      <td>2020-10-20</td>\n",
       "      <td>3.0</td>\n",
       "    </tr>\n",
       "    <tr>\n",
       "      <th>211</th>\n",
       "      <td>17475</td>\n",
       "      <td>M</td>\n",
       "      <td>58.00</td>\n",
       "      <td>60.00</td>\n",
       "      <td>Science</td>\n",
       "      <td>72.00</td>\n",
       "      <td>Sci&amp;Tech</td>\n",
       "      <td>False</td>\n",
       "      <td>0</td>\n",
       "      <td>74.0</td>\n",
       "      <td>Mkt&amp;Fin</td>\n",
       "      <td>53.62</td>\n",
       "      <td>27500.0</td>\n",
       "      <td>True</td>\n",
       "      <td>2020-01-23 00:00:00</td>\n",
       "      <td>2020-08-04</td>\n",
       "      <td>6.0</td>\n",
       "    </tr>\n",
       "    <tr>\n",
       "      <th>212</th>\n",
       "      <td>17476</td>\n",
       "      <td>M</td>\n",
       "      <td>67.00</td>\n",
       "      <td>67.00</td>\n",
       "      <td>Commerce</td>\n",
       "      <td>73.00</td>\n",
       "      <td>Comm&amp;Mgmt</td>\n",
       "      <td>True</td>\n",
       "      <td>1</td>\n",
       "      <td>59.0</td>\n",
       "      <td>Mkt&amp;Fin</td>\n",
       "      <td>69.72</td>\n",
       "      <td>29500.0</td>\n",
       "      <td>True</td>\n",
       "      <td>2020-01-25 00:00:00</td>\n",
       "      <td>2020-08-05</td>\n",
       "      <td>6.0</td>\n",
       "    </tr>\n",
       "    <tr>\n",
       "      <th>213</th>\n",
       "      <td>17477</td>\n",
       "      <td>F</td>\n",
       "      <td>74.00</td>\n",
       "      <td>66.00</td>\n",
       "      <td>Commerce</td>\n",
       "      <td>58.00</td>\n",
       "      <td>Comm&amp;Mgmt</td>\n",
       "      <td>False</td>\n",
       "      <td>0</td>\n",
       "      <td>70.0</td>\n",
       "      <td>Mkt&amp;HR</td>\n",
       "      <td>60.23</td>\n",
       "      <td>20400.0</td>\n",
       "      <td>True</td>\n",
       "      <td>2020-01-19 00:00:00</td>\n",
       "      <td>2020-04-20</td>\n",
       "      <td>3.0</td>\n",
       "    </tr>\n",
       "    <tr>\n",
       "      <th>214</th>\n",
       "      <td>17478</td>\n",
       "      <td>M</td>\n",
       "      <td>62.00</td>\n",
       "      <td>58.00</td>\n",
       "      <td>Science</td>\n",
       "      <td>53.00</td>\n",
       "      <td>Comm&amp;Mgmt</td>\n",
       "      <td>False</td>\n",
       "      <td>0</td>\n",
       "      <td>89.0</td>\n",
       "      <td>Mkt&amp;HR</td>\n",
       "      <td>60.22</td>\n",
       "      <td>NaN</td>\n",
       "      <td>False</td>\n",
       "      <td>NaT</td>\n",
       "      <td>NaT</td>\n",
       "      <td>NaN</td>\n",
       "    </tr>\n",
       "  </tbody>\n",
       "</table>\n",
       "<p>215 rows × 17 columns</p>\n",
       "</div>"
      ],
      "text/plain": [
       "     student_id gender  second_perc  high_perc high_spec  degree_perc  \\\n",
       "0         17264      M        67.00      91.00  Commerce        58.00   \n",
       "1         17265      M        79.33      78.33   Science        77.48   \n",
       "2         17266      M        65.00      68.00      Arts        64.00   \n",
       "3         17267      M        56.00      52.00   Science        52.00   \n",
       "4         17268      M        85.80      73.60  Commerce        73.30   \n",
       "..          ...    ...          ...        ...       ...          ...   \n",
       "210       17474      M        80.60      82.00  Commerce        77.60   \n",
       "211       17475      M        58.00      60.00   Science        72.00   \n",
       "212       17476      M        67.00      67.00  Commerce        73.00   \n",
       "213       17477      F        74.00      66.00  Commerce        58.00   \n",
       "214       17478      M        62.00      58.00   Science        53.00   \n",
       "\n",
       "    degree_type  work_experience  experience_years employability_perc  \\\n",
       "0      Sci&Tech            False                 0               55.0   \n",
       "1      Sci&Tech             True                 1               86.5   \n",
       "2     Comm&Mgmt            False                 0                  a   \n",
       "3      Sci&Tech            False                 0               66.0   \n",
       "4     Comm&Mgmt            False                 0               96.8   \n",
       "..          ...              ...               ...                ...   \n",
       "210   Comm&Mgmt            False                 0               91.0   \n",
       "211    Sci&Tech            False                 0               74.0   \n",
       "212   Comm&Mgmt             True                 1               59.0   \n",
       "213   Comm&Mgmt            False                 0               70.0   \n",
       "214   Comm&Mgmt            False                 0               89.0   \n",
       "\n",
       "    mba_spec  mba_perc   salary  placed           start_date   end_date  \\\n",
       "0     Mkt&HR     58.80  27000.0    True                    0 2020-10-12   \n",
       "1    Mkt&Fin     66.28  20000.0    True  2020-01-11 00:00:00 2020-04-09   \n",
       "2    Mkt&Fin     57.80  25000.0    True  2020-01-26 00:00:00 2020-07-13   \n",
       "3     Mkt&HR     59.43      NaN   False                  NaT        NaT   \n",
       "4    Mkt&Fin     55.50  42500.0    True  2020-07-04 00:00:00 2020-09-27   \n",
       "..       ...       ...      ...     ...                  ...        ...   \n",
       "210  Mkt&Fin     74.49  40000.0    True  2020-07-27 00:00:00 2020-10-20   \n",
       "211  Mkt&Fin     53.62  27500.0    True  2020-01-23 00:00:00 2020-08-04   \n",
       "212  Mkt&Fin     69.72  29500.0    True  2020-01-25 00:00:00 2020-08-05   \n",
       "213   Mkt&HR     60.23  20400.0    True  2020-01-19 00:00:00 2020-04-20   \n",
       "214   Mkt&HR     60.22      NaN   False                  NaT        NaT   \n",
       "\n",
       "     duration  \n",
       "0         3.0  \n",
       "1         3.0  \n",
       "2         6.0  \n",
       "3         NaN  \n",
       "4         3.0  \n",
       "..        ...  \n",
       "210       3.0  \n",
       "211       6.0  \n",
       "212       6.0  \n",
       "213       3.0  \n",
       "214       NaN  \n",
       "\n",
       "[215 rows x 17 columns]"
      ]
     },
     "execution_count": 4,
     "metadata": {},
     "output_type": "execute_result"
    }
   ],
   "source": [
    "real_data"
   ]
  },
  {
   "cell_type": "code",
   "execution_count": 5,
   "metadata": {},
   "outputs": [
    {
     "data": {
      "application/vnd.jupyter.widget-view+json": {
       "model_id": "82da8e65d17a442e8d5f112600b9a88b",
       "version_major": 2,
       "version_minor": 0
      },
      "text/plain": [
       "Column Pair Trends:   0%|          | 0/136 [00:00<?, ?it/s]"
      ]
     },
     "metadata": {},
     "output_type": "display_data"
    }
   ],
   "source": [
    "from sdmetrics.reports.single_table._properties import ColumnShapes, ColumnPairTrends\n",
    "format_start_data = metadata['columns']['start_date']['datetime_format']\n",
    "format_end_data = metadata['columns']['end_date']['datetime_format']\n",
    "cpt = ColumnPairTrends()\n",
    "#real_data['start_date'] = pd.to_datetime(real_data['start_date'], format=format_start_data)\n",
    "#real_data['end_date'] = pd.to_datetime(real_data['end_date'], format=format_end_data)\n",
    "#real_data['start_date'].iloc[0] = 0\n",
    "#real_data['employability_perc'].iloc[2] = 'a'\n",
    "size = int(0.5*len(real_data.columns)*(len(real_data.columns)-1))\n",
    "progress_bar = tqdm(total=size, desc='Column Pair Trends')\n",
    "t = cpt.get_score(real_data, synthetic_data, metadata, progress_bar)"
   ]
  },
  {
   "cell_type": "code",
   "execution_count": 6,
   "metadata": {},
   "outputs": [
    {
     "data": {
      "application/vnd.plotly.v1+json": {
       "config": {
        "plotlyServerURL": "https://plot.ly"
       },
       "data": [
        {
         "coloraxis": "coloraxis",
         "hovertemplate": "<b>Column Pair</b><br>(%{x},%{y})<br><br>Similarity: %{z}<extra></extra>",
         "type": "heatmap",
         "x": [
          "start_date",
          "end_date",
          "salary",
          "duration",
          "high_perc",
          "high_spec",
          "mba_spec",
          "second_perc",
          "gender",
          "degree_perc",
          "placed",
          "experience_years",
          "employability_perc",
          "mba_perc",
          "work_experience",
          "degree_type"
         ],
         "xaxis": "x",
         "y": [
          "start_date",
          "end_date",
          "salary",
          "duration",
          "high_perc",
          "high_spec",
          "mba_spec",
          "second_perc",
          "gender",
          "degree_perc",
          "placed",
          "experience_years",
          "employability_perc",
          "mba_perc",
          "work_experience",
          "degree_type"
         ],
         "yaxis": "y",
         "z": [
          [
           1,
           0.906,
           0.968,
           0.834,
           0.944,
           0.837,
           0.86,
           0.985,
           0.86,
           0.912,
           0.819,
           0.948,
           0.995,
           0.979,
           0.8,
           0.851
          ],
          [
           0.906,
           1,
           0.952,
           0.651,
           0.917,
           0.8,
           0.828,
           0.919,
           0.828,
           0.934,
           0.781,
           0.937,
           0.918,
           0.938,
           0.809,
           0.795
          ],
          [
           0.968,
           0.952,
           1,
           0.973,
           0.957,
           0.758,
           0.791,
           0.968,
           0.786,
           0.953,
           0.781,
           0.995,
           0.927,
           0.863,
           0.735,
           0.777
          ],
          [
           0.834,
           0.651,
           0.973,
           1,
           0.982,
           0.847,
           0.86,
           0.903,
           0.833,
           0.923,
           0.837,
           0.962,
           0.912,
           0.953,
           0.833,
           0.856
          ],
          [
           0.944,
           0.917,
           0.957,
           0.982,
           1,
           0.507,
           0.549,
           0.628,
           0.549,
           0.861,
           0.465,
           0.941,
           0.913,
           0.813,
           0.535,
           0.526
          ],
          [
           0.837,
           0.8,
           0.758,
           0.847,
           0.507,
           1,
           0.884,
           0.609,
           0.888,
           0.605,
           0.898,
           0.8,
           0.688,
           0.712,
           0.902,
           0.777
          ],
          [
           0.86,
           0.828,
           0.791,
           0.86,
           0.549,
           0.884,
           1,
           0.637,
           0.94,
           0.628,
           0.916,
           0.8,
           0.721,
           0.698,
           0.93,
           0.926
          ],
          [
           0.985,
           0.919,
           0.968,
           0.903,
           0.628,
           0.609,
           0.637,
           1,
           0.633,
           0.771,
           0.558,
           0.935,
           0.94,
           0.83,
           0.628,
           0.614
          ],
          [
           0.86,
           0.828,
           0.786,
           0.833,
           0.549,
           0.888,
           0.94,
           0.633,
           1,
           0.619,
           0.898,
           0.8,
           0.679,
           0.73,
           0.935,
           0.888
          ],
          [
           0.912,
           0.934,
           0.953,
           0.923,
           0.861,
           0.605,
           0.628,
           0.771,
           0.619,
           1,
           0.488,
           0.925,
           0.918,
           0.876,
           0.595,
           0.581
          ],
          [
           0.819,
           0.781,
           0.781,
           0.837,
           0.465,
           0.898,
           0.916,
           0.558,
           0.898,
           0.488,
           1,
           0.8,
           0.735,
           0.749,
           0.842,
           0.907
          ],
          [
           0.948,
           0.937,
           0.995,
           0.962,
           0.941,
           0.8,
           0.8,
           0.935,
           0.8,
           0.925,
           0.8,
           1,
           0.985,
           0.939,
           0.688,
           0.8
          ],
          [
           0.995,
           0.918,
           0.927,
           0.912,
           0.913,
           0.688,
           0.721,
           0.94,
           0.679,
           0.918,
           0.735,
           0.985,
           1,
           0.883,
           0.67,
           0.712
          ],
          [
           0.979,
           0.938,
           0.863,
           0.953,
           0.813,
           0.712,
           0.698,
           0.83,
           0.73,
           0.876,
           0.749,
           0.939,
           0.883,
           1,
           0.749,
           0.679
          ],
          [
           0.8,
           0.809,
           0.735,
           0.833,
           0.535,
           0.902,
           0.93,
           0.628,
           0.935,
           0.595,
           0.842,
           0.688,
           0.67,
           0.749,
           1,
           0.898
          ],
          [
           0.851,
           0.795,
           0.777,
           0.856,
           0.526,
           0.777,
           0.926,
           0.614,
           0.888,
           0.581,
           0.907,
           0.8,
           0.712,
           0.679,
           0.898,
           1
          ]
         ]
        },
        {
         "coloraxis": "coloraxis2",
         "customdata": [
          [
           1,
           0.21,
           -0.01,
           -0.123,
           0.168,
           0.076,
           0.106,
           -0.129,
           -0.022,
           -0.082
          ],
          [
           0.21,
           1,
           -0.022,
           -0.066,
           0.128,
           0.038,
           0.044,
           0.06,
           0.08,
           0.035
          ],
          [
           -0.01,
           -0.022,
           1,
           0.089,
           0.163,
           0.1,
           -0.113,
           0.156,
           0.032,
           -0.099
          ],
          [
           -0.123,
           -0.066,
           0.089,
           1,
           -0.037,
           0.045,
           0.142,
           0.127,
           0.134,
           0.059
          ],
          [
           0.168,
           0.128,
           0.163,
           -0.037,
           1,
           -0.233,
           0.156,
           -0.032,
           0.072,
           -0.02
          ],
          [
           0.076,
           0.038,
           0.1,
           0.045,
           -0.233,
           1,
           0.081,
           0.028,
           0.143,
           0.048
          ],
          [
           0.106,
           0.044,
           -0.113,
           0.142,
           0.156,
           0.081,
           1,
           -0.059,
           0.06,
           0.153
          ],
          [
           -0.129,
           0.06,
           0.156,
           0.127,
           -0.032,
           0.028,
           -0.059,
           1,
           0.016,
           0.032
          ],
          [
           -0.022,
           0.08,
           0.032,
           0.134,
           0.072,
           0.143,
           0.06,
           0.016,
           1,
           -0.017
          ],
          [
           -0.082,
           0.035,
           -0.099,
           0.059,
           -0.02,
           0.048,
           0.153,
           0.032,
           -0.017,
           1
          ]
         ],
         "hovertemplate": "<b>Correlation</b><br>(%{x},%{y})<br><br>Synthetic: %{z}<br>(vs. Real: %{customdata})<extra></extra>",
         "type": "heatmap",
         "x": [
          "start_date",
          "end_date",
          "salary",
          "duration",
          "high_perc",
          "second_perc",
          "degree_perc",
          "experience_years",
          "employability_perc",
          "mba_perc"
         ],
         "xaxis": "x2",
         "y": [
          "start_date",
          "end_date",
          "salary",
          "duration",
          "high_perc",
          "second_perc",
          "degree_perc",
          "experience_years",
          "employability_perc",
          "mba_perc"
         ],
         "yaxis": "y2",
         "z": [
          [
           1,
           0.397,
           0.053,
           -0.455,
           0.056,
           0.047,
           -0.071,
           -0.026,
           -0.032,
           -0.041
          ],
          [
           0.397,
           1,
           0.075,
           0.633,
           -0.039,
           -0.125,
           -0.088,
           0.186,
           -0.083,
           -0.088
          ],
          [
           0.053,
           0.075,
           1,
           0.035,
           0.077,
           0.035,
           -0.019,
           0.165,
           0.178,
           0.175
          ],
          [
           -0.455,
           0.633,
           0.035,
           1,
           -0.072,
           -0.149,
           -0.012,
           0.203,
           -0.042,
           -0.035
          ],
          [
           0.056,
           -0.039,
           0.077,
           -0.072,
           1,
           0.511,
           0.434,
           0.086,
           0.245,
           0.355
          ],
          [
           0.047,
           -0.125,
           0.035,
           -0.149,
           0.511,
           1,
           0.538,
           0.157,
           0.262,
           0.388
          ],
          [
           -0.071,
           -0.088,
           -0.019,
           -0.012,
           0.434,
           0.538,
           1,
           0.091,
           0.224,
           0.402
          ],
          [
           -0.026,
           0.186,
           0.165,
           0.203,
           0.086,
           0.157,
           0.091,
           1,
           0.046,
           0.154
          ],
          [
           -0.032,
           -0.083,
           0.178,
           -0.042,
           0.245,
           0.262,
           0.224,
           0.046,
           1,
           0.218
          ],
          [
           -0.041,
           -0.088,
           0.175,
           -0.035,
           0.355,
           0.388,
           0.402,
           0.154,
           0.218,
           1
          ]
         ]
        },
        {
         "coloraxis": "coloraxis2",
         "customdata": [
          [
           1,
           0.397,
           0.053,
           -0.455,
           0.056,
           0.047,
           -0.071,
           -0.026,
           -0.032,
           -0.041
          ],
          [
           0.397,
           1,
           0.075,
           0.633,
           -0.039,
           -0.125,
           -0.088,
           0.186,
           -0.083,
           -0.088
          ],
          [
           0.053,
           0.075,
           1,
           0.035,
           0.077,
           0.035,
           -0.019,
           0.165,
           0.178,
           0.175
          ],
          [
           -0.455,
           0.633,
           0.035,
           1,
           -0.072,
           -0.149,
           -0.012,
           0.203,
           -0.042,
           -0.035
          ],
          [
           0.056,
           -0.039,
           0.077,
           -0.072,
           1,
           0.511,
           0.434,
           0.086,
           0.245,
           0.355
          ],
          [
           0.047,
           -0.125,
           0.035,
           -0.149,
           0.511,
           1,
           0.538,
           0.157,
           0.262,
           0.388
          ],
          [
           -0.071,
           -0.088,
           -0.019,
           -0.012,
           0.434,
           0.538,
           1,
           0.091,
           0.224,
           0.402
          ],
          [
           -0.026,
           0.186,
           0.165,
           0.203,
           0.086,
           0.157,
           0.091,
           1,
           0.046,
           0.154
          ],
          [
           -0.032,
           -0.083,
           0.178,
           -0.042,
           0.245,
           0.262,
           0.224,
           0.046,
           1,
           0.218
          ],
          [
           -0.041,
           -0.088,
           0.175,
           -0.035,
           0.355,
           0.388,
           0.402,
           0.154,
           0.218,
           1
          ]
         ],
         "hovertemplate": "<b>Correlation</b><br>(%{x},%{y})<br><br>Synthetic: %{z}<br>(vs. Real: %{customdata})<extra></extra>",
         "type": "heatmap",
         "x": [
          "start_date",
          "end_date",
          "salary",
          "duration",
          "high_perc",
          "second_perc",
          "degree_perc",
          "experience_years",
          "employability_perc",
          "mba_perc"
         ],
         "xaxis": "x3",
         "y": [
          "start_date",
          "end_date",
          "salary",
          "duration",
          "high_perc",
          "second_perc",
          "degree_perc",
          "experience_years",
          "employability_perc",
          "mba_perc"
         ],
         "yaxis": "y3",
         "z": [
          [
           1,
           0.21,
           -0.01,
           -0.123,
           0.168,
           0.076,
           0.106,
           -0.129,
           -0.022,
           -0.082
          ],
          [
           0.21,
           1,
           -0.022,
           -0.066,
           0.128,
           0.038,
           0.044,
           0.06,
           0.08,
           0.035
          ],
          [
           -0.01,
           -0.022,
           1,
           0.089,
           0.163,
           0.1,
           -0.113,
           0.156,
           0.032,
           -0.099
          ],
          [
           -0.123,
           -0.066,
           0.089,
           1,
           -0.037,
           0.045,
           0.142,
           0.127,
           0.134,
           0.059
          ],
          [
           0.168,
           0.128,
           0.163,
           -0.037,
           1,
           -0.233,
           0.156,
           -0.032,
           0.072,
           -0.02
          ],
          [
           0.076,
           0.038,
           0.1,
           0.045,
           -0.233,
           1,
           0.081,
           0.028,
           0.143,
           0.048
          ],
          [
           0.106,
           0.044,
           -0.113,
           0.142,
           0.156,
           0.081,
           1,
           -0.059,
           0.06,
           0.153
          ],
          [
           -0.129,
           0.06,
           0.156,
           0.127,
           -0.032,
           0.028,
           -0.059,
           1,
           0.016,
           0.032
          ],
          [
           -0.022,
           0.08,
           0.032,
           0.134,
           0.072,
           0.143,
           0.06,
           0.016,
           1,
           -0.017
          ],
          [
           -0.082,
           0.035,
           -0.099,
           0.059,
           -0.02,
           0.048,
           0.153,
           0.032,
           -0.017,
           1
          ]
         ]
        }
       ],
       "layout": {
        "annotations": [
         {
          "font": {
           "size": 16
          },
          "showarrow": false,
          "text": "Real vs. Synthetic Similarity",
          "x": 0.5,
          "xanchor": "center",
          "xref": "paper",
          "y": 1,
          "yanchor": "bottom",
          "yref": "paper"
         },
         {
          "font": {
           "size": 16
          },
          "showarrow": false,
          "text": "Numerical Correlation (Real Data)",
          "x": 0.225,
          "xanchor": "center",
          "xref": "paper",
          "y": 0.375,
          "yanchor": "bottom",
          "yref": "paper"
         },
         {
          "font": {
           "size": 16
          },
          "showarrow": false,
          "text": "Numerical Correlation (Synthetic Data)",
          "x": 0.775,
          "xanchor": "center",
          "xref": "paper",
          "y": 0.375,
          "yanchor": "bottom",
          "yref": "paper"
         }
        ],
        "coloraxis": {
         "cmax": 1,
         "cmin": 0,
         "colorbar": {
          "len": 0.5,
          "x": 0.8,
          "y": 0.8
         },
         "colorscale": [
          [
           0,
           "#FF0000"
          ],
          [
           0.5,
           "#F16141"
          ],
          [
           1,
           "#36B37E"
          ]
         ]
        },
        "coloraxis2": {
         "cmax": 1,
         "cmin": -1,
         "colorbar": {
          "len": 0.5,
          "y": 0.2
         },
         "colorscale": [
          [
           0,
           "#03AFF1"
          ],
          [
           0.5,
           "#000036"
          ],
          [
           1,
           "#01E0C9"
          ]
         ]
        },
        "height": 900,
        "template": {
         "data": {
          "bar": [
           {
            "error_x": {
             "color": "#2a3f5f"
            },
            "error_y": {
             "color": "#2a3f5f"
            },
            "marker": {
             "line": {
              "color": "#E5ECF6",
              "width": 0.5
             },
             "pattern": {
              "fillmode": "overlay",
              "size": 10,
              "solidity": 0.2
             }
            },
            "type": "bar"
           }
          ],
          "barpolar": [
           {
            "marker": {
             "line": {
              "color": "#E5ECF6",
              "width": 0.5
             },
             "pattern": {
              "fillmode": "overlay",
              "size": 10,
              "solidity": 0.2
             }
            },
            "type": "barpolar"
           }
          ],
          "carpet": [
           {
            "aaxis": {
             "endlinecolor": "#2a3f5f",
             "gridcolor": "white",
             "linecolor": "white",
             "minorgridcolor": "white",
             "startlinecolor": "#2a3f5f"
            },
            "baxis": {
             "endlinecolor": "#2a3f5f",
             "gridcolor": "white",
             "linecolor": "white",
             "minorgridcolor": "white",
             "startlinecolor": "#2a3f5f"
            },
            "type": "carpet"
           }
          ],
          "choropleth": [
           {
            "colorbar": {
             "outlinewidth": 0,
             "ticks": ""
            },
            "type": "choropleth"
           }
          ],
          "contour": [
           {
            "colorbar": {
             "outlinewidth": 0,
             "ticks": ""
            },
            "colorscale": [
             [
              0,
              "#0d0887"
             ],
             [
              0.1111111111111111,
              "#46039f"
             ],
             [
              0.2222222222222222,
              "#7201a8"
             ],
             [
              0.3333333333333333,
              "#9c179e"
             ],
             [
              0.4444444444444444,
              "#bd3786"
             ],
             [
              0.5555555555555556,
              "#d8576b"
             ],
             [
              0.6666666666666666,
              "#ed7953"
             ],
             [
              0.7777777777777778,
              "#fb9f3a"
             ],
             [
              0.8888888888888888,
              "#fdca26"
             ],
             [
              1,
              "#f0f921"
             ]
            ],
            "type": "contour"
           }
          ],
          "contourcarpet": [
           {
            "colorbar": {
             "outlinewidth": 0,
             "ticks": ""
            },
            "type": "contourcarpet"
           }
          ],
          "heatmap": [
           {
            "colorbar": {
             "outlinewidth": 0,
             "ticks": ""
            },
            "colorscale": [
             [
              0,
              "#0d0887"
             ],
             [
              0.1111111111111111,
              "#46039f"
             ],
             [
              0.2222222222222222,
              "#7201a8"
             ],
             [
              0.3333333333333333,
              "#9c179e"
             ],
             [
              0.4444444444444444,
              "#bd3786"
             ],
             [
              0.5555555555555556,
              "#d8576b"
             ],
             [
              0.6666666666666666,
              "#ed7953"
             ],
             [
              0.7777777777777778,
              "#fb9f3a"
             ],
             [
              0.8888888888888888,
              "#fdca26"
             ],
             [
              1,
              "#f0f921"
             ]
            ],
            "type": "heatmap"
           }
          ],
          "heatmapgl": [
           {
            "colorbar": {
             "outlinewidth": 0,
             "ticks": ""
            },
            "colorscale": [
             [
              0,
              "#0d0887"
             ],
             [
              0.1111111111111111,
              "#46039f"
             ],
             [
              0.2222222222222222,
              "#7201a8"
             ],
             [
              0.3333333333333333,
              "#9c179e"
             ],
             [
              0.4444444444444444,
              "#bd3786"
             ],
             [
              0.5555555555555556,
              "#d8576b"
             ],
             [
              0.6666666666666666,
              "#ed7953"
             ],
             [
              0.7777777777777778,
              "#fb9f3a"
             ],
             [
              0.8888888888888888,
              "#fdca26"
             ],
             [
              1,
              "#f0f921"
             ]
            ],
            "type": "heatmapgl"
           }
          ],
          "histogram": [
           {
            "marker": {
             "pattern": {
              "fillmode": "overlay",
              "size": 10,
              "solidity": 0.2
             }
            },
            "type": "histogram"
           }
          ],
          "histogram2d": [
           {
            "colorbar": {
             "outlinewidth": 0,
             "ticks": ""
            },
            "colorscale": [
             [
              0,
              "#0d0887"
             ],
             [
              0.1111111111111111,
              "#46039f"
             ],
             [
              0.2222222222222222,
              "#7201a8"
             ],
             [
              0.3333333333333333,
              "#9c179e"
             ],
             [
              0.4444444444444444,
              "#bd3786"
             ],
             [
              0.5555555555555556,
              "#d8576b"
             ],
             [
              0.6666666666666666,
              "#ed7953"
             ],
             [
              0.7777777777777778,
              "#fb9f3a"
             ],
             [
              0.8888888888888888,
              "#fdca26"
             ],
             [
              1,
              "#f0f921"
             ]
            ],
            "type": "histogram2d"
           }
          ],
          "histogram2dcontour": [
           {
            "colorbar": {
             "outlinewidth": 0,
             "ticks": ""
            },
            "colorscale": [
             [
              0,
              "#0d0887"
             ],
             [
              0.1111111111111111,
              "#46039f"
             ],
             [
              0.2222222222222222,
              "#7201a8"
             ],
             [
              0.3333333333333333,
              "#9c179e"
             ],
             [
              0.4444444444444444,
              "#bd3786"
             ],
             [
              0.5555555555555556,
              "#d8576b"
             ],
             [
              0.6666666666666666,
              "#ed7953"
             ],
             [
              0.7777777777777778,
              "#fb9f3a"
             ],
             [
              0.8888888888888888,
              "#fdca26"
             ],
             [
              1,
              "#f0f921"
             ]
            ],
            "type": "histogram2dcontour"
           }
          ],
          "mesh3d": [
           {
            "colorbar": {
             "outlinewidth": 0,
             "ticks": ""
            },
            "type": "mesh3d"
           }
          ],
          "parcoords": [
           {
            "line": {
             "colorbar": {
              "outlinewidth": 0,
              "ticks": ""
             }
            },
            "type": "parcoords"
           }
          ],
          "pie": [
           {
            "automargin": true,
            "type": "pie"
           }
          ],
          "scatter": [
           {
            "fillpattern": {
             "fillmode": "overlay",
             "size": 10,
             "solidity": 0.2
            },
            "type": "scatter"
           }
          ],
          "scatter3d": [
           {
            "line": {
             "colorbar": {
              "outlinewidth": 0,
              "ticks": ""
             }
            },
            "marker": {
             "colorbar": {
              "outlinewidth": 0,
              "ticks": ""
             }
            },
            "type": "scatter3d"
           }
          ],
          "scattercarpet": [
           {
            "marker": {
             "colorbar": {
              "outlinewidth": 0,
              "ticks": ""
             }
            },
            "type": "scattercarpet"
           }
          ],
          "scattergeo": [
           {
            "marker": {
             "colorbar": {
              "outlinewidth": 0,
              "ticks": ""
             }
            },
            "type": "scattergeo"
           }
          ],
          "scattergl": [
           {
            "marker": {
             "colorbar": {
              "outlinewidth": 0,
              "ticks": ""
             }
            },
            "type": "scattergl"
           }
          ],
          "scattermapbox": [
           {
            "marker": {
             "colorbar": {
              "outlinewidth": 0,
              "ticks": ""
             }
            },
            "type": "scattermapbox"
           }
          ],
          "scatterpolar": [
           {
            "marker": {
             "colorbar": {
              "outlinewidth": 0,
              "ticks": ""
             }
            },
            "type": "scatterpolar"
           }
          ],
          "scatterpolargl": [
           {
            "marker": {
             "colorbar": {
              "outlinewidth": 0,
              "ticks": ""
             }
            },
            "type": "scatterpolargl"
           }
          ],
          "scatterternary": [
           {
            "marker": {
             "colorbar": {
              "outlinewidth": 0,
              "ticks": ""
             }
            },
            "type": "scatterternary"
           }
          ],
          "surface": [
           {
            "colorbar": {
             "outlinewidth": 0,
             "ticks": ""
            },
            "colorscale": [
             [
              0,
              "#0d0887"
             ],
             [
              0.1111111111111111,
              "#46039f"
             ],
             [
              0.2222222222222222,
              "#7201a8"
             ],
             [
              0.3333333333333333,
              "#9c179e"
             ],
             [
              0.4444444444444444,
              "#bd3786"
             ],
             [
              0.5555555555555556,
              "#d8576b"
             ],
             [
              0.6666666666666666,
              "#ed7953"
             ],
             [
              0.7777777777777778,
              "#fb9f3a"
             ],
             [
              0.8888888888888888,
              "#fdca26"
             ],
             [
              1,
              "#f0f921"
             ]
            ],
            "type": "surface"
           }
          ],
          "table": [
           {
            "cells": {
             "fill": {
              "color": "#EBF0F8"
             },
             "line": {
              "color": "white"
             }
            },
            "header": {
             "fill": {
              "color": "#C8D4E3"
             },
             "line": {
              "color": "white"
             }
            },
            "type": "table"
           }
          ]
         },
         "layout": {
          "annotationdefaults": {
           "arrowcolor": "#2a3f5f",
           "arrowhead": 0,
           "arrowwidth": 1
          },
          "autotypenumbers": "strict",
          "coloraxis": {
           "colorbar": {
            "outlinewidth": 0,
            "ticks": ""
           }
          },
          "colorscale": {
           "diverging": [
            [
             0,
             "#8e0152"
            ],
            [
             0.1,
             "#c51b7d"
            ],
            [
             0.2,
             "#de77ae"
            ],
            [
             0.3,
             "#f1b6da"
            ],
            [
             0.4,
             "#fde0ef"
            ],
            [
             0.5,
             "#f7f7f7"
            ],
            [
             0.6,
             "#e6f5d0"
            ],
            [
             0.7,
             "#b8e186"
            ],
            [
             0.8,
             "#7fbc41"
            ],
            [
             0.9,
             "#4d9221"
            ],
            [
             1,
             "#276419"
            ]
           ],
           "sequential": [
            [
             0,
             "#0d0887"
            ],
            [
             0.1111111111111111,
             "#46039f"
            ],
            [
             0.2222222222222222,
             "#7201a8"
            ],
            [
             0.3333333333333333,
             "#9c179e"
            ],
            [
             0.4444444444444444,
             "#bd3786"
            ],
            [
             0.5555555555555556,
             "#d8576b"
            ],
            [
             0.6666666666666666,
             "#ed7953"
            ],
            [
             0.7777777777777778,
             "#fb9f3a"
            ],
            [
             0.8888888888888888,
             "#fdca26"
            ],
            [
             1,
             "#f0f921"
            ]
           ],
           "sequentialminus": [
            [
             0,
             "#0d0887"
            ],
            [
             0.1111111111111111,
             "#46039f"
            ],
            [
             0.2222222222222222,
             "#7201a8"
            ],
            [
             0.3333333333333333,
             "#9c179e"
            ],
            [
             0.4444444444444444,
             "#bd3786"
            ],
            [
             0.5555555555555556,
             "#d8576b"
            ],
            [
             0.6666666666666666,
             "#ed7953"
            ],
            [
             0.7777777777777778,
             "#fb9f3a"
            ],
            [
             0.8888888888888888,
             "#fdca26"
            ],
            [
             1,
             "#f0f921"
            ]
           ]
          },
          "colorway": [
           "#636efa",
           "#EF553B",
           "#00cc96",
           "#ab63fa",
           "#FFA15A",
           "#19d3f3",
           "#FF6692",
           "#B6E880",
           "#FF97FF",
           "#FECB52"
          ],
          "font": {
           "color": "#2a3f5f"
          },
          "geo": {
           "bgcolor": "white",
           "lakecolor": "white",
           "landcolor": "#E5ECF6",
           "showlakes": true,
           "showland": true,
           "subunitcolor": "white"
          },
          "hoverlabel": {
           "align": "left"
          },
          "hovermode": "closest",
          "mapbox": {
           "style": "light"
          },
          "paper_bgcolor": "white",
          "plot_bgcolor": "#E5ECF6",
          "polar": {
           "angularaxis": {
            "gridcolor": "white",
            "linecolor": "white",
            "ticks": ""
           },
           "bgcolor": "#E5ECF6",
           "radialaxis": {
            "gridcolor": "white",
            "linecolor": "white",
            "ticks": ""
           }
          },
          "scene": {
           "xaxis": {
            "backgroundcolor": "#E5ECF6",
            "gridcolor": "white",
            "gridwidth": 2,
            "linecolor": "white",
            "showbackground": true,
            "ticks": "",
            "zerolinecolor": "white"
           },
           "yaxis": {
            "backgroundcolor": "#E5ECF6",
            "gridcolor": "white",
            "gridwidth": 2,
            "linecolor": "white",
            "showbackground": true,
            "ticks": "",
            "zerolinecolor": "white"
           },
           "zaxis": {
            "backgroundcolor": "#E5ECF6",
            "gridcolor": "white",
            "gridwidth": 2,
            "linecolor": "white",
            "showbackground": true,
            "ticks": "",
            "zerolinecolor": "white"
           }
          },
          "shapedefaults": {
           "line": {
            "color": "#2a3f5f"
           }
          },
          "ternary": {
           "aaxis": {
            "gridcolor": "white",
            "linecolor": "white",
            "ticks": ""
           },
           "baxis": {
            "gridcolor": "white",
            "linecolor": "white",
            "ticks": ""
           },
           "bgcolor": "#E5ECF6",
           "caxis": {
            "gridcolor": "white",
            "linecolor": "white",
            "ticks": ""
           }
          },
          "title": {
           "x": 0.05
          },
          "xaxis": {
           "automargin": true,
           "gridcolor": "white",
           "linecolor": "white",
           "ticks": "",
           "title": {
            "standoff": 15
           },
           "zerolinecolor": "white",
           "zerolinewidth": 2
          },
          "yaxis": {
           "automargin": true,
           "gridcolor": "white",
           "linecolor": "white",
           "ticks": "",
           "title": {
            "standoff": 15
           },
           "zerolinecolor": "white",
           "zerolinewidth": 2
          }
         }
        },
        "title": {
         "text": "Data Quality: Column Pair Trends (Average Score=0.813)"
        },
        "width": 900,
        "xaxis": {
         "anchor": "y",
         "domain": [
          0.26,
          0.74
         ]
        },
        "xaxis2": {
         "anchor": "y2",
         "domain": [
          0,
          0.45
         ]
        },
        "xaxis3": {
         "anchor": "y3",
         "domain": [
          0.55,
          1
         ],
         "matches": "x2"
        },
        "yaxis": {
         "anchor": "x",
         "autorange": "reversed",
         "domain": [
          0.625,
          1
         ]
        },
        "yaxis2": {
         "anchor": "x2",
         "autorange": "reversed",
         "domain": [
          0,
          0.375
         ]
        },
        "yaxis3": {
         "anchor": "x3",
         "autorange": "reversed",
         "domain": [
          0,
          0.375
         ],
         "matches": "y2",
         "visible": false
        }
       }
      }
     },
     "metadata": {},
     "output_type": "display_data"
    }
   ],
   "source": [
    "cpt.get_visualization()"
   ]
  },
  {
   "cell_type": "code",
   "execution_count": 13,
   "metadata": {},
   "outputs": [
    {
     "name": "stderr",
     "output_type": "stream",
     "text": [
      "/Users/romain_datacebo/Desktop/SDMetrics/sdmetrics/reports/single_table/_properties/column_pair_trends.py:216: UserWarning:\n",
      "\n",
      "Unable to discretize 'second_perc'. No column pair trends metric will be calculated between this column and boolean/categorical columns. Encountered Error: ValueError Unable to parse string \"a\" at position 0\n",
      "\n",
      "/Users/romain_datacebo/Desktop/SDMetrics/sdmetrics/reports/single_table/_properties/column_pair_trends.py:216: UserWarning:\n",
      "\n",
      "Unable to compute Column Pair Trends for column ('start_date', 'second_perc'). Encountered Error: UFuncTypeError ufunc 'add' did not contain a loop with signature matching types (dtype('float64'), dtype('<U1')) -> None\n",
      "\n"
     ]
    }
   ],
   "source": [
    "column_names = [\n",
    "    'student_id', 'degree_type', 'start_date', 'second_perc', 'work_experience'\n",
    "]\n",
    "real_data = pd.read_csv('sdmetrics/demos/single_table/real.csv')[column_names]\n",
    "synthetic_data = pd.read_csv('sdmetrics/demos/single_table/synthetic.csv')[column_names]\n",
    "with open('sdmetrics/demos/single_table/metadata.json', 'r') as f:\n",
    "    metadata = json.load(f)\n",
    "\n",
    "metadata['columns'] = {\n",
    "    key: val for key, val in metadata['columns'].items() if key in column_names\n",
    "}\n",
    "\n",
    "real_data['second_perc'].iloc[0] = 'a'\n",
    "\n",
    "# Run\n",
    "column_shape_property = ColumnPairTrends()\n",
    "\n",
    "\n",
    "score = column_shape_property.get_score(real_data, synthetic_data, metadata)"
   ]
  },
  {
   "cell_type": "code",
   "execution_count": 5,
   "metadata": {},
   "outputs": [
    {
     "data": {
      "application/vnd.plotly.v1+json": {
       "config": {
        "plotlyServerURL": "https://plot.ly"
       },
       "data": [
        {
         "alignmentgroup": "True",
         "customdata": [
          [
           "KSComplement"
          ],
          [
           "KSComplement"
          ],
          [
           "KSComplement"
          ],
          [
           "KSComplement"
          ],
          [
           "KSComplement"
          ],
          [
           "KSComplement"
          ],
          [
           "KSComplement"
          ],
          [
           "KSComplement"
          ],
          [
           "KSComplement"
          ],
          [
           "KSComplement"
          ]
         ],
         "hovertemplate": "<b>%{hovertext}</b><br><br>Metric=%{customdata[0]}<br>Score=%{y}<extra></extra>",
         "hovertext": [
          "start_date",
          "end_date",
          "salary",
          "duration",
          "high_perc",
          "second_perc",
          "degree_perc",
          "experience_years",
          "employability_perc",
          "mba_perc"
         ],
         "legendgroup": "KSComplement",
         "marker": {
          "color": "#000036",
          "pattern": {
           "shape": ""
          }
         },
         "name": "KSComplement",
         "offsetgroup": "KSComplement",
         "orientation": "v",
         "showlegend": true,
         "textposition": "auto",
         "type": "bar",
         "x": [
          "start_date",
          "end_date",
          "salary",
          "duration",
          "high_perc",
          "second_perc",
          "degree_perc",
          "experience_years",
          "employability_perc",
          "mba_perc"
         ],
         "xaxis": "x",
         "y": [
          null,
          0.768918918918919,
          0.8691548691548692,
          0.8260505030578024,
          0.5534883720930233,
          0.627906976744186,
          0.627906976744186,
          0.8,
          null,
          0.8418604651162791
         ],
         "yaxis": "y"
        },
        {
         "alignmentgroup": "True",
         "customdata": [
          [
           "TVComplement"
          ],
          [
           "TVComplement"
          ],
          [
           "TVComplement"
          ],
          [
           "TVComplement"
          ],
          [
           "TVComplement"
          ],
          [
           "TVComplement"
          ]
         ],
         "hovertemplate": "<b>%{hovertext}</b><br><br>Metric=%{customdata[0]}<br>Score=%{y}<extra></extra>",
         "hovertext": [
          "high_spec",
          "mba_spec",
          "gender",
          "placed",
          "work_experience",
          "degree_type"
         ],
         "legendgroup": "TVComplement",
         "marker": {
          "color": "#03AFF1",
          "pattern": {
           "shape": "/"
          }
         },
         "name": "TVComplement",
         "offsetgroup": "TVComplement",
         "orientation": "v",
         "showlegend": true,
         "textposition": "auto",
         "type": "bar",
         "x": [
          "high_spec",
          "mba_spec",
          "gender",
          "placed",
          "work_experience",
          "degree_type"
         ],
         "xaxis": "x",
         "y": [
          0.9023255813953488,
          0.9953488372093023,
          0.9395348837209302,
          0.9162790697674419,
          0.9720930232558139,
          0.9255813953488372
         ],
         "yaxis": "y"
        }
       ],
       "layout": {
        "barmode": "relative",
        "legend": {
         "title": {
          "text": "Metric"
         },
         "tracegroupgap": 0
        },
        "margin": {
         "t": 150
        },
        "plot_bgcolor": "#F5F5F8",
        "template": {
         "data": {
          "bar": [
           {
            "error_x": {
             "color": "#2a3f5f"
            },
            "error_y": {
             "color": "#2a3f5f"
            },
            "marker": {
             "line": {
              "color": "#E5ECF6",
              "width": 0.5
             },
             "pattern": {
              "fillmode": "overlay",
              "size": 10,
              "solidity": 0.2
             }
            },
            "type": "bar"
           }
          ],
          "barpolar": [
           {
            "marker": {
             "line": {
              "color": "#E5ECF6",
              "width": 0.5
             },
             "pattern": {
              "fillmode": "overlay",
              "size": 10,
              "solidity": 0.2
             }
            },
            "type": "barpolar"
           }
          ],
          "carpet": [
           {
            "aaxis": {
             "endlinecolor": "#2a3f5f",
             "gridcolor": "white",
             "linecolor": "white",
             "minorgridcolor": "white",
             "startlinecolor": "#2a3f5f"
            },
            "baxis": {
             "endlinecolor": "#2a3f5f",
             "gridcolor": "white",
             "linecolor": "white",
             "minorgridcolor": "white",
             "startlinecolor": "#2a3f5f"
            },
            "type": "carpet"
           }
          ],
          "choropleth": [
           {
            "colorbar": {
             "outlinewidth": 0,
             "ticks": ""
            },
            "type": "choropleth"
           }
          ],
          "contour": [
           {
            "colorbar": {
             "outlinewidth": 0,
             "ticks": ""
            },
            "colorscale": [
             [
              0,
              "#0d0887"
             ],
             [
              0.1111111111111111,
              "#46039f"
             ],
             [
              0.2222222222222222,
              "#7201a8"
             ],
             [
              0.3333333333333333,
              "#9c179e"
             ],
             [
              0.4444444444444444,
              "#bd3786"
             ],
             [
              0.5555555555555556,
              "#d8576b"
             ],
             [
              0.6666666666666666,
              "#ed7953"
             ],
             [
              0.7777777777777778,
              "#fb9f3a"
             ],
             [
              0.8888888888888888,
              "#fdca26"
             ],
             [
              1,
              "#f0f921"
             ]
            ],
            "type": "contour"
           }
          ],
          "contourcarpet": [
           {
            "colorbar": {
             "outlinewidth": 0,
             "ticks": ""
            },
            "type": "contourcarpet"
           }
          ],
          "heatmap": [
           {
            "colorbar": {
             "outlinewidth": 0,
             "ticks": ""
            },
            "colorscale": [
             [
              0,
              "#0d0887"
             ],
             [
              0.1111111111111111,
              "#46039f"
             ],
             [
              0.2222222222222222,
              "#7201a8"
             ],
             [
              0.3333333333333333,
              "#9c179e"
             ],
             [
              0.4444444444444444,
              "#bd3786"
             ],
             [
              0.5555555555555556,
              "#d8576b"
             ],
             [
              0.6666666666666666,
              "#ed7953"
             ],
             [
              0.7777777777777778,
              "#fb9f3a"
             ],
             [
              0.8888888888888888,
              "#fdca26"
             ],
             [
              1,
              "#f0f921"
             ]
            ],
            "type": "heatmap"
           }
          ],
          "heatmapgl": [
           {
            "colorbar": {
             "outlinewidth": 0,
             "ticks": ""
            },
            "colorscale": [
             [
              0,
              "#0d0887"
             ],
             [
              0.1111111111111111,
              "#46039f"
             ],
             [
              0.2222222222222222,
              "#7201a8"
             ],
             [
              0.3333333333333333,
              "#9c179e"
             ],
             [
              0.4444444444444444,
              "#bd3786"
             ],
             [
              0.5555555555555556,
              "#d8576b"
             ],
             [
              0.6666666666666666,
              "#ed7953"
             ],
             [
              0.7777777777777778,
              "#fb9f3a"
             ],
             [
              0.8888888888888888,
              "#fdca26"
             ],
             [
              1,
              "#f0f921"
             ]
            ],
            "type": "heatmapgl"
           }
          ],
          "histogram": [
           {
            "marker": {
             "pattern": {
              "fillmode": "overlay",
              "size": 10,
              "solidity": 0.2
             }
            },
            "type": "histogram"
           }
          ],
          "histogram2d": [
           {
            "colorbar": {
             "outlinewidth": 0,
             "ticks": ""
            },
            "colorscale": [
             [
              0,
              "#0d0887"
             ],
             [
              0.1111111111111111,
              "#46039f"
             ],
             [
              0.2222222222222222,
              "#7201a8"
             ],
             [
              0.3333333333333333,
              "#9c179e"
             ],
             [
              0.4444444444444444,
              "#bd3786"
             ],
             [
              0.5555555555555556,
              "#d8576b"
             ],
             [
              0.6666666666666666,
              "#ed7953"
             ],
             [
              0.7777777777777778,
              "#fb9f3a"
             ],
             [
              0.8888888888888888,
              "#fdca26"
             ],
             [
              1,
              "#f0f921"
             ]
            ],
            "type": "histogram2d"
           }
          ],
          "histogram2dcontour": [
           {
            "colorbar": {
             "outlinewidth": 0,
             "ticks": ""
            },
            "colorscale": [
             [
              0,
              "#0d0887"
             ],
             [
              0.1111111111111111,
              "#46039f"
             ],
             [
              0.2222222222222222,
              "#7201a8"
             ],
             [
              0.3333333333333333,
              "#9c179e"
             ],
             [
              0.4444444444444444,
              "#bd3786"
             ],
             [
              0.5555555555555556,
              "#d8576b"
             ],
             [
              0.6666666666666666,
              "#ed7953"
             ],
             [
              0.7777777777777778,
              "#fb9f3a"
             ],
             [
              0.8888888888888888,
              "#fdca26"
             ],
             [
              1,
              "#f0f921"
             ]
            ],
            "type": "histogram2dcontour"
           }
          ],
          "mesh3d": [
           {
            "colorbar": {
             "outlinewidth": 0,
             "ticks": ""
            },
            "type": "mesh3d"
           }
          ],
          "parcoords": [
           {
            "line": {
             "colorbar": {
              "outlinewidth": 0,
              "ticks": ""
             }
            },
            "type": "parcoords"
           }
          ],
          "pie": [
           {
            "automargin": true,
            "type": "pie"
           }
          ],
          "scatter": [
           {
            "fillpattern": {
             "fillmode": "overlay",
             "size": 10,
             "solidity": 0.2
            },
            "type": "scatter"
           }
          ],
          "scatter3d": [
           {
            "line": {
             "colorbar": {
              "outlinewidth": 0,
              "ticks": ""
             }
            },
            "marker": {
             "colorbar": {
              "outlinewidth": 0,
              "ticks": ""
             }
            },
            "type": "scatter3d"
           }
          ],
          "scattercarpet": [
           {
            "marker": {
             "colorbar": {
              "outlinewidth": 0,
              "ticks": ""
             }
            },
            "type": "scattercarpet"
           }
          ],
          "scattergeo": [
           {
            "marker": {
             "colorbar": {
              "outlinewidth": 0,
              "ticks": ""
             }
            },
            "type": "scattergeo"
           }
          ],
          "scattergl": [
           {
            "marker": {
             "colorbar": {
              "outlinewidth": 0,
              "ticks": ""
             }
            },
            "type": "scattergl"
           }
          ],
          "scattermapbox": [
           {
            "marker": {
             "colorbar": {
              "outlinewidth": 0,
              "ticks": ""
             }
            },
            "type": "scattermapbox"
           }
          ],
          "scatterpolar": [
           {
            "marker": {
             "colorbar": {
              "outlinewidth": 0,
              "ticks": ""
             }
            },
            "type": "scatterpolar"
           }
          ],
          "scatterpolargl": [
           {
            "marker": {
             "colorbar": {
              "outlinewidth": 0,
              "ticks": ""
             }
            },
            "type": "scatterpolargl"
           }
          ],
          "scatterternary": [
           {
            "marker": {
             "colorbar": {
              "outlinewidth": 0,
              "ticks": ""
             }
            },
            "type": "scatterternary"
           }
          ],
          "surface": [
           {
            "colorbar": {
             "outlinewidth": 0,
             "ticks": ""
            },
            "colorscale": [
             [
              0,
              "#0d0887"
             ],
             [
              0.1111111111111111,
              "#46039f"
             ],
             [
              0.2222222222222222,
              "#7201a8"
             ],
             [
              0.3333333333333333,
              "#9c179e"
             ],
             [
              0.4444444444444444,
              "#bd3786"
             ],
             [
              0.5555555555555556,
              "#d8576b"
             ],
             [
              0.6666666666666666,
              "#ed7953"
             ],
             [
              0.7777777777777778,
              "#fb9f3a"
             ],
             [
              0.8888888888888888,
              "#fdca26"
             ],
             [
              1,
              "#f0f921"
             ]
            ],
            "type": "surface"
           }
          ],
          "table": [
           {
            "cells": {
             "fill": {
              "color": "#EBF0F8"
             },
             "line": {
              "color": "white"
             }
            },
            "header": {
             "fill": {
              "color": "#C8D4E3"
             },
             "line": {
              "color": "white"
             }
            },
            "type": "table"
           }
          ]
         },
         "layout": {
          "annotationdefaults": {
           "arrowcolor": "#2a3f5f",
           "arrowhead": 0,
           "arrowwidth": 1
          },
          "autotypenumbers": "strict",
          "coloraxis": {
           "colorbar": {
            "outlinewidth": 0,
            "ticks": ""
           }
          },
          "colorscale": {
           "diverging": [
            [
             0,
             "#8e0152"
            ],
            [
             0.1,
             "#c51b7d"
            ],
            [
             0.2,
             "#de77ae"
            ],
            [
             0.3,
             "#f1b6da"
            ],
            [
             0.4,
             "#fde0ef"
            ],
            [
             0.5,
             "#f7f7f7"
            ],
            [
             0.6,
             "#e6f5d0"
            ],
            [
             0.7,
             "#b8e186"
            ],
            [
             0.8,
             "#7fbc41"
            ],
            [
             0.9,
             "#4d9221"
            ],
            [
             1,
             "#276419"
            ]
           ],
           "sequential": [
            [
             0,
             "#0d0887"
            ],
            [
             0.1111111111111111,
             "#46039f"
            ],
            [
             0.2222222222222222,
             "#7201a8"
            ],
            [
             0.3333333333333333,
             "#9c179e"
            ],
            [
             0.4444444444444444,
             "#bd3786"
            ],
            [
             0.5555555555555556,
             "#d8576b"
            ],
            [
             0.6666666666666666,
             "#ed7953"
            ],
            [
             0.7777777777777778,
             "#fb9f3a"
            ],
            [
             0.8888888888888888,
             "#fdca26"
            ],
            [
             1,
             "#f0f921"
            ]
           ],
           "sequentialminus": [
            [
             0,
             "#0d0887"
            ],
            [
             0.1111111111111111,
             "#46039f"
            ],
            [
             0.2222222222222222,
             "#7201a8"
            ],
            [
             0.3333333333333333,
             "#9c179e"
            ],
            [
             0.4444444444444444,
             "#bd3786"
            ],
            [
             0.5555555555555556,
             "#d8576b"
            ],
            [
             0.6666666666666666,
             "#ed7953"
            ],
            [
             0.7777777777777778,
             "#fb9f3a"
            ],
            [
             0.8888888888888888,
             "#fdca26"
            ],
            [
             1,
             "#f0f921"
            ]
           ]
          },
          "colorway": [
           "#636efa",
           "#EF553B",
           "#00cc96",
           "#ab63fa",
           "#FFA15A",
           "#19d3f3",
           "#FF6692",
           "#B6E880",
           "#FF97FF",
           "#FECB52"
          ],
          "font": {
           "color": "#2a3f5f"
          },
          "geo": {
           "bgcolor": "white",
           "lakecolor": "white",
           "landcolor": "#E5ECF6",
           "showlakes": true,
           "showland": true,
           "subunitcolor": "white"
          },
          "hoverlabel": {
           "align": "left"
          },
          "hovermode": "closest",
          "mapbox": {
           "style": "light"
          },
          "paper_bgcolor": "white",
          "plot_bgcolor": "#E5ECF6",
          "polar": {
           "angularaxis": {
            "gridcolor": "white",
            "linecolor": "white",
            "ticks": ""
           },
           "bgcolor": "#E5ECF6",
           "radialaxis": {
            "gridcolor": "white",
            "linecolor": "white",
            "ticks": ""
           }
          },
          "scene": {
           "xaxis": {
            "backgroundcolor": "#E5ECF6",
            "gridcolor": "white",
            "gridwidth": 2,
            "linecolor": "white",
            "showbackground": true,
            "ticks": "",
            "zerolinecolor": "white"
           },
           "yaxis": {
            "backgroundcolor": "#E5ECF6",
            "gridcolor": "white",
            "gridwidth": 2,
            "linecolor": "white",
            "showbackground": true,
            "ticks": "",
            "zerolinecolor": "white"
           },
           "zaxis": {
            "backgroundcolor": "#E5ECF6",
            "gridcolor": "white",
            "gridwidth": 2,
            "linecolor": "white",
            "showbackground": true,
            "ticks": "",
            "zerolinecolor": "white"
           }
          },
          "shapedefaults": {
           "line": {
            "color": "#2a3f5f"
           }
          },
          "ternary": {
           "aaxis": {
            "gridcolor": "white",
            "linecolor": "white",
            "ticks": ""
           },
           "baxis": {
            "gridcolor": "white",
            "linecolor": "white",
            "ticks": ""
           },
           "bgcolor": "#E5ECF6",
           "caxis": {
            "gridcolor": "white",
            "linecolor": "white",
            "ticks": ""
           }
          },
          "title": {
           "x": 0.05
          },
          "xaxis": {
           "automargin": true,
           "gridcolor": "white",
           "linecolor": "white",
           "ticks": "",
           "title": {
            "standoff": 15
           },
           "zerolinecolor": "white",
           "zerolinewidth": 2
          },
          "yaxis": {
           "automargin": true,
           "gridcolor": "white",
           "linecolor": "white",
           "ticks": "",
           "title": {
            "standoff": 15
           },
           "zerolinecolor": "white",
           "zerolinewidth": 2
          }
         }
        },
        "title": {
         "text": "Data Quality: Column Shapes (Average Score=0.826)"
        },
        "xaxis": {
         "anchor": "y",
         "categoryorder": "total ascending",
         "domain": [
          0,
          1
         ],
         "title": {
          "text": "Column"
         }
        },
        "yaxis": {
         "anchor": "x",
         "domain": [
          0,
          1
         ],
         "range": [
          0,
          1
         ],
         "title": {
          "text": "Score"
         }
        }
       }
      }
     },
     "metadata": {},
     "output_type": "display_data"
    }
   ],
   "source": [
    "column_shapes.get_visualization()"
   ]
  },
  {
   "cell_type": "code",
   "execution_count": 22,
   "metadata": {},
   "outputs": [
    {
     "name": "stderr",
     "output_type": "stream",
     "text": [
      "10it [00:00, 249.46it/s]\n"
     ]
    },
    {
     "data": {
      "text/plain": [
       "[-0.10478798485156637, nan, nan, nan, nan, nan]"
      ]
     },
     "execution_count": 22,
     "metadata": {},
     "output_type": "execute_result"
    }
   ],
   "source": [
    "column_names = ['student_id', 'degree_type','start_date','second_perc', 'work_experience']\n",
    "real_data = pd.read_csv('sdmetrics/demos/single_table/real.csv')[column_names]\n",
    "synthetic_data = pd.read_csv('sdmetrics/demos/single_table/synthetic.csv')[column_names]\n",
    "with open('sdmetrics/demos/single_table/metadata.json', 'r') as f:\n",
    "    metadata = json.load(f)\n",
    "\n",
    "metadata['columns'] = {key: value for key, value in metadata['columns'].items() if key in column_names}\n",
    "\n",
    "\n",
    "# Run\n",
    "column_shape_property = ColumnPairTrends()\n",
    "score = column_shape_property.get_score(real_data, synthetic_data, metadata)\n",
    "column_shape_property._details['Synthetic Correlation'].to_list()"
   ]
  },
  {
   "cell_type": "code",
   "execution_count": null,
   "metadata": {},
   "outputs": [],
   "source": [
    "from sdmetrics.reports.single_table._properties.column_pair_trends import ColumnPairTrends\n",
    "import re\n",
    "\"\"\"Test the ``get_score`` method when the metrics are raising erros for some columns.\"\"\"\n",
    "# Setup\n",
    "column_names = [\n",
    "    'student_id', 'degree_type', 'start_date', 'second_perc', 'work_experience'\n",
    "]\n",
    "real_data = pd.read_csv('sdmetrics/demos/single_table/real.csv')[column_names]\n",
    "synthetic_data = pd.read_csv('sdmetrics/demos/single_table/synthetic.csv')[column_names]\n",
    "with open('sdmetrics/demos/single_table/metadata.json', 'r') as f:\n",
    "    metadata = json.load(f)\n",
    "\n",
    "metadata['columns'] = {\n",
    "    key: val for key, val in metadata['columns'].items() if key in column_names\n",
    "}\n",
    "\n",
    "real_data['start_date'].iloc[0] = 0\n",
    "real_data['degree_type'].iloc[2] = 'a'\n",
    "\n",
    "# Run\n",
    "column_shape_property = ColumnPairTrends()\n",
    "\n",
    "expected_message_1 = re.escape(\n",
    "    \"Unable to compute Column Shape for column 'start_date'. \"\n",
    "    \"Encountered Error: TypeError '<' not supported between instances of 'str' and 'int'\"\n",
    ")\n",
    "expected_message_2 = re.escape(\n",
    "    \"Unable to compute Column Shape for column 'degree_type'. \"\n",
    "    \"Encountered Error: TypeError '<' not supported between instances of 'str' and 'float'\"\n",
    ")\n",
    "\n",
    "score = column_shape_property.get_score(real_data, synthetic_data, metadata)\n",
    "\n",
    "# Assert\n",
    "assert re.match(expected_message_1, str(recwarn[0].message))\n",
    "assert re.match(expected_message_2, str(recwarn[1].message))\n",
    "\n",
    "details = column_shape_property._details\n",
    "column_names_nan = list(details.loc[pd.isna(details['Score'])]['Column name'])\n",
    "assert column_names_nan == ['start_date', 'employability_perc']\n",
    "assert score == 0.826\n"
   ]
  },
  {
   "cell_type": "code",
   "execution_count": 20,
   "metadata": {},
   "outputs": [
    {
     "data": {
      "text/plain": [
       "Index(['Column 1', 'Column 2', 'Metric', 'Score', 'Real Correlation',\n",
       "       'Synthetic Correlation'],\n",
       "      dtype='object')"
      ]
     },
     "execution_count": 20,
     "metadata": {},
     "output_type": "execute_result"
    }
   ],
   "source": [
    "column_shape_property._details.columns"
   ]
  },
  {
   "cell_type": "code",
   "execution_count": 11,
   "metadata": {},
   "outputs": [
    {
     "name": "stderr",
     "output_type": "stream",
     "text": [
      "Creating report: 100%|██████████| 4/4 [00:00<00:00, 17.44it/s]\n"
     ]
    },
    {
     "name": "stdout",
     "output_type": "stream",
     "text": [
      "\n",
      "Overall Quality Score: 82.21%\n",
      "\n",
      "Properties:\n",
      "Column Shapes: 81.56%\n",
      "Column Pair Trends: 82.87%\n"
     ]
    }
   ],
   "source": [
    "from sdmetrics.reports.single_table import QualityReport\n",
    "\n",
    "report = QualityReport()\n",
    "report.generate(real_data, synthetic_data, metadata)\n",
    "details = report.get_details(property_name='Column Shapes')\n",
    "#details.rename(columns={'Quality Score': 'Score'}, inplace=True)\n",
    "#len(details.loc[details['Column 2'] == 'degree_type'])"
   ]
  },
  {
   "cell_type": "code",
   "execution_count": 12,
   "metadata": {},
   "outputs": [
    {
     "data": {
      "text/html": [
       "<div>\n",
       "<style scoped>\n",
       "    .dataframe tbody tr th:only-of-type {\n",
       "        vertical-align: middle;\n",
       "    }\n",
       "\n",
       "    .dataframe tbody tr th {\n",
       "        vertical-align: top;\n",
       "    }\n",
       "\n",
       "    .dataframe thead th {\n",
       "        text-align: right;\n",
       "    }\n",
       "</style>\n",
       "<table border=\"1\" class=\"dataframe\">\n",
       "  <thead>\n",
       "    <tr style=\"text-align: right;\">\n",
       "      <th></th>\n",
       "      <th>Column</th>\n",
       "      <th>Metric</th>\n",
       "      <th>Quality Score</th>\n",
       "    </tr>\n",
       "  </thead>\n",
       "  <tbody>\n",
       "    <tr>\n",
       "      <th>0</th>\n",
       "      <td>second_perc</td>\n",
       "      <td>KSComplement</td>\n",
       "      <td>0.627907</td>\n",
       "    </tr>\n",
       "    <tr>\n",
       "      <th>1</th>\n",
       "      <td>high_perc</td>\n",
       "      <td>KSComplement</td>\n",
       "      <td>0.553488</td>\n",
       "    </tr>\n",
       "    <tr>\n",
       "      <th>2</th>\n",
       "      <td>degree_perc</td>\n",
       "      <td>KSComplement</td>\n",
       "      <td>0.627907</td>\n",
       "    </tr>\n",
       "    <tr>\n",
       "      <th>3</th>\n",
       "      <td>experience_years</td>\n",
       "      <td>KSComplement</td>\n",
       "      <td>0.800000</td>\n",
       "    </tr>\n",
       "    <tr>\n",
       "      <th>4</th>\n",
       "      <td>employability_perc</td>\n",
       "      <td>KSComplement</td>\n",
       "      <td>0.781395</td>\n",
       "    </tr>\n",
       "    <tr>\n",
       "      <th>5</th>\n",
       "      <td>mba_perc</td>\n",
       "      <td>KSComplement</td>\n",
       "      <td>0.841860</td>\n",
       "    </tr>\n",
       "    <tr>\n",
       "      <th>6</th>\n",
       "      <td>salary</td>\n",
       "      <td>KSComplement</td>\n",
       "      <td>0.869155</td>\n",
       "    </tr>\n",
       "    <tr>\n",
       "      <th>7</th>\n",
       "      <td>start_date</td>\n",
       "      <td>KSComplement</td>\n",
       "      <td>0.701107</td>\n",
       "    </tr>\n",
       "    <tr>\n",
       "      <th>8</th>\n",
       "      <td>end_date</td>\n",
       "      <td>KSComplement</td>\n",
       "      <td>0.768919</td>\n",
       "    </tr>\n",
       "    <tr>\n",
       "      <th>9</th>\n",
       "      <td>duration</td>\n",
       "      <td>KSComplement</td>\n",
       "      <td>0.826051</td>\n",
       "    </tr>\n",
       "    <tr>\n",
       "      <th>10</th>\n",
       "      <td>gender</td>\n",
       "      <td>TVComplement</td>\n",
       "      <td>0.939535</td>\n",
       "    </tr>\n",
       "    <tr>\n",
       "      <th>11</th>\n",
       "      <td>high_spec</td>\n",
       "      <td>TVComplement</td>\n",
       "      <td>0.902326</td>\n",
       "    </tr>\n",
       "    <tr>\n",
       "      <th>12</th>\n",
       "      <td>degree_type</td>\n",
       "      <td>TVComplement</td>\n",
       "      <td>0.925581</td>\n",
       "    </tr>\n",
       "    <tr>\n",
       "      <th>13</th>\n",
       "      <td>work_experience</td>\n",
       "      <td>TVComplement</td>\n",
       "      <td>0.972093</td>\n",
       "    </tr>\n",
       "    <tr>\n",
       "      <th>14</th>\n",
       "      <td>mba_spec</td>\n",
       "      <td>TVComplement</td>\n",
       "      <td>0.995349</td>\n",
       "    </tr>\n",
       "    <tr>\n",
       "      <th>15</th>\n",
       "      <td>placed</td>\n",
       "      <td>TVComplement</td>\n",
       "      <td>0.916279</td>\n",
       "    </tr>\n",
       "  </tbody>\n",
       "</table>\n",
       "</div>"
      ],
      "text/plain": [
       "                Column        Metric  Quality Score\n",
       "0          second_perc  KSComplement       0.627907\n",
       "1            high_perc  KSComplement       0.553488\n",
       "2          degree_perc  KSComplement       0.627907\n",
       "3     experience_years  KSComplement       0.800000\n",
       "4   employability_perc  KSComplement       0.781395\n",
       "5             mba_perc  KSComplement       0.841860\n",
       "6               salary  KSComplement       0.869155\n",
       "7           start_date  KSComplement       0.701107\n",
       "8             end_date  KSComplement       0.768919\n",
       "9             duration  KSComplement       0.826051\n",
       "10              gender  TVComplement       0.939535\n",
       "11           high_spec  TVComplement       0.902326\n",
       "12         degree_type  TVComplement       0.925581\n",
       "13     work_experience  TVComplement       0.972093\n",
       "14            mba_spec  TVComplement       0.995349\n",
       "15              placed  TVComplement       0.916279"
      ]
     },
     "execution_count": 12,
     "metadata": {},
     "output_type": "execute_result"
    }
   ],
   "source": [
    "details"
   ]
  },
  {
   "cell_type": "code",
   "execution_count": 13,
   "metadata": {},
   "outputs": [
    {
     "data": {
      "application/vnd.plotly.v1+json": {
       "config": {
        "plotlyServerURL": "https://plot.ly"
       },
       "data": [
        {
         "alignmentgroup": "True",
         "customdata": [
          [
           "KSComplement"
          ],
          [
           "KSComplement"
          ],
          [
           "KSComplement"
          ],
          [
           "KSComplement"
          ],
          [
           "KSComplement"
          ],
          [
           "KSComplement"
          ],
          [
           "KSComplement"
          ],
          [
           "KSComplement"
          ],
          [
           "KSComplement"
          ],
          [
           "KSComplement"
          ]
         ],
         "hovertemplate": "<b>%{hovertext}</b><br><br>Metric=%{customdata[0]}<br>Quality Score=%{y}<extra></extra>",
         "hovertext": [
          "second_perc",
          "high_perc",
          "degree_perc",
          "experience_years",
          "employability_perc",
          "mba_perc",
          "salary",
          "start_date",
          "end_date",
          "duration"
         ],
         "legendgroup": "KSComplement",
         "marker": {
          "color": "#000036",
          "pattern": {
           "shape": ""
          }
         },
         "name": "KSComplement",
         "offsetgroup": "KSComplement",
         "orientation": "v",
         "showlegend": true,
         "textposition": "auto",
         "type": "bar",
         "x": [
          "second_perc",
          "high_perc",
          "degree_perc",
          "experience_years",
          "employability_perc",
          "mba_perc",
          "salary",
          "start_date",
          "end_date",
          "duration"
         ],
         "xaxis": "x",
         "y": [
          0.627906976744186,
          0.5534883720930233,
          0.627906976744186,
          0.8,
          0.7813953488372093,
          0.8418604651162791,
          0.8691548691548692,
          0.7011066184294531,
          0.768918918918919,
          0.8260505030578024
         ],
         "yaxis": "y"
        },
        {
         "alignmentgroup": "True",
         "customdata": [
          [
           "TVComplement"
          ],
          [
           "TVComplement"
          ],
          [
           "TVComplement"
          ],
          [
           "TVComplement"
          ],
          [
           "TVComplement"
          ],
          [
           "TVComplement"
          ]
         ],
         "hovertemplate": "<b>%{hovertext}</b><br><br>Metric=%{customdata[0]}<br>Quality Score=%{y}<extra></extra>",
         "hovertext": [
          "gender",
          "high_spec",
          "degree_type",
          "work_experience",
          "mba_spec",
          "placed"
         ],
         "legendgroup": "TVComplement",
         "marker": {
          "color": "#03AFF1",
          "pattern": {
           "shape": "/"
          }
         },
         "name": "TVComplement",
         "offsetgroup": "TVComplement",
         "orientation": "v",
         "showlegend": true,
         "textposition": "auto",
         "type": "bar",
         "x": [
          "gender",
          "high_spec",
          "degree_type",
          "work_experience",
          "mba_spec",
          "placed"
         ],
         "xaxis": "x",
         "y": [
          0.9395348837209302,
          0.9023255813953488,
          0.9255813953488372,
          0.9720930232558139,
          0.9953488372093023,
          0.9162790697674419
         ],
         "yaxis": "y"
        }
       ],
       "layout": {
        "barmode": "relative",
        "legend": {
         "title": {
          "text": "Metric"
         },
         "tracegroupgap": 0
        },
        "margin": {
         "t": 150
        },
        "plot_bgcolor": "#F5F5F8",
        "template": {
         "data": {
          "bar": [
           {
            "error_x": {
             "color": "#2a3f5f"
            },
            "error_y": {
             "color": "#2a3f5f"
            },
            "marker": {
             "line": {
              "color": "#E5ECF6",
              "width": 0.5
             },
             "pattern": {
              "fillmode": "overlay",
              "size": 10,
              "solidity": 0.2
             }
            },
            "type": "bar"
           }
          ],
          "barpolar": [
           {
            "marker": {
             "line": {
              "color": "#E5ECF6",
              "width": 0.5
             },
             "pattern": {
              "fillmode": "overlay",
              "size": 10,
              "solidity": 0.2
             }
            },
            "type": "barpolar"
           }
          ],
          "carpet": [
           {
            "aaxis": {
             "endlinecolor": "#2a3f5f",
             "gridcolor": "white",
             "linecolor": "white",
             "minorgridcolor": "white",
             "startlinecolor": "#2a3f5f"
            },
            "baxis": {
             "endlinecolor": "#2a3f5f",
             "gridcolor": "white",
             "linecolor": "white",
             "minorgridcolor": "white",
             "startlinecolor": "#2a3f5f"
            },
            "type": "carpet"
           }
          ],
          "choropleth": [
           {
            "colorbar": {
             "outlinewidth": 0,
             "ticks": ""
            },
            "type": "choropleth"
           }
          ],
          "contour": [
           {
            "colorbar": {
             "outlinewidth": 0,
             "ticks": ""
            },
            "colorscale": [
             [
              0,
              "#0d0887"
             ],
             [
              0.1111111111111111,
              "#46039f"
             ],
             [
              0.2222222222222222,
              "#7201a8"
             ],
             [
              0.3333333333333333,
              "#9c179e"
             ],
             [
              0.4444444444444444,
              "#bd3786"
             ],
             [
              0.5555555555555556,
              "#d8576b"
             ],
             [
              0.6666666666666666,
              "#ed7953"
             ],
             [
              0.7777777777777778,
              "#fb9f3a"
             ],
             [
              0.8888888888888888,
              "#fdca26"
             ],
             [
              1,
              "#f0f921"
             ]
            ],
            "type": "contour"
           }
          ],
          "contourcarpet": [
           {
            "colorbar": {
             "outlinewidth": 0,
             "ticks": ""
            },
            "type": "contourcarpet"
           }
          ],
          "heatmap": [
           {
            "colorbar": {
             "outlinewidth": 0,
             "ticks": ""
            },
            "colorscale": [
             [
              0,
              "#0d0887"
             ],
             [
              0.1111111111111111,
              "#46039f"
             ],
             [
              0.2222222222222222,
              "#7201a8"
             ],
             [
              0.3333333333333333,
              "#9c179e"
             ],
             [
              0.4444444444444444,
              "#bd3786"
             ],
             [
              0.5555555555555556,
              "#d8576b"
             ],
             [
              0.6666666666666666,
              "#ed7953"
             ],
             [
              0.7777777777777778,
              "#fb9f3a"
             ],
             [
              0.8888888888888888,
              "#fdca26"
             ],
             [
              1,
              "#f0f921"
             ]
            ],
            "type": "heatmap"
           }
          ],
          "heatmapgl": [
           {
            "colorbar": {
             "outlinewidth": 0,
             "ticks": ""
            },
            "colorscale": [
             [
              0,
              "#0d0887"
             ],
             [
              0.1111111111111111,
              "#46039f"
             ],
             [
              0.2222222222222222,
              "#7201a8"
             ],
             [
              0.3333333333333333,
              "#9c179e"
             ],
             [
              0.4444444444444444,
              "#bd3786"
             ],
             [
              0.5555555555555556,
              "#d8576b"
             ],
             [
              0.6666666666666666,
              "#ed7953"
             ],
             [
              0.7777777777777778,
              "#fb9f3a"
             ],
             [
              0.8888888888888888,
              "#fdca26"
             ],
             [
              1,
              "#f0f921"
             ]
            ],
            "type": "heatmapgl"
           }
          ],
          "histogram": [
           {
            "marker": {
             "pattern": {
              "fillmode": "overlay",
              "size": 10,
              "solidity": 0.2
             }
            },
            "type": "histogram"
           }
          ],
          "histogram2d": [
           {
            "colorbar": {
             "outlinewidth": 0,
             "ticks": ""
            },
            "colorscale": [
             [
              0,
              "#0d0887"
             ],
             [
              0.1111111111111111,
              "#46039f"
             ],
             [
              0.2222222222222222,
              "#7201a8"
             ],
             [
              0.3333333333333333,
              "#9c179e"
             ],
             [
              0.4444444444444444,
              "#bd3786"
             ],
             [
              0.5555555555555556,
              "#d8576b"
             ],
             [
              0.6666666666666666,
              "#ed7953"
             ],
             [
              0.7777777777777778,
              "#fb9f3a"
             ],
             [
              0.8888888888888888,
              "#fdca26"
             ],
             [
              1,
              "#f0f921"
             ]
            ],
            "type": "histogram2d"
           }
          ],
          "histogram2dcontour": [
           {
            "colorbar": {
             "outlinewidth": 0,
             "ticks": ""
            },
            "colorscale": [
             [
              0,
              "#0d0887"
             ],
             [
              0.1111111111111111,
              "#46039f"
             ],
             [
              0.2222222222222222,
              "#7201a8"
             ],
             [
              0.3333333333333333,
              "#9c179e"
             ],
             [
              0.4444444444444444,
              "#bd3786"
             ],
             [
              0.5555555555555556,
              "#d8576b"
             ],
             [
              0.6666666666666666,
              "#ed7953"
             ],
             [
              0.7777777777777778,
              "#fb9f3a"
             ],
             [
              0.8888888888888888,
              "#fdca26"
             ],
             [
              1,
              "#f0f921"
             ]
            ],
            "type": "histogram2dcontour"
           }
          ],
          "mesh3d": [
           {
            "colorbar": {
             "outlinewidth": 0,
             "ticks": ""
            },
            "type": "mesh3d"
           }
          ],
          "parcoords": [
           {
            "line": {
             "colorbar": {
              "outlinewidth": 0,
              "ticks": ""
             }
            },
            "type": "parcoords"
           }
          ],
          "pie": [
           {
            "automargin": true,
            "type": "pie"
           }
          ],
          "scatter": [
           {
            "fillpattern": {
             "fillmode": "overlay",
             "size": 10,
             "solidity": 0.2
            },
            "type": "scatter"
           }
          ],
          "scatter3d": [
           {
            "line": {
             "colorbar": {
              "outlinewidth": 0,
              "ticks": ""
             }
            },
            "marker": {
             "colorbar": {
              "outlinewidth": 0,
              "ticks": ""
             }
            },
            "type": "scatter3d"
           }
          ],
          "scattercarpet": [
           {
            "marker": {
             "colorbar": {
              "outlinewidth": 0,
              "ticks": ""
             }
            },
            "type": "scattercarpet"
           }
          ],
          "scattergeo": [
           {
            "marker": {
             "colorbar": {
              "outlinewidth": 0,
              "ticks": ""
             }
            },
            "type": "scattergeo"
           }
          ],
          "scattergl": [
           {
            "marker": {
             "colorbar": {
              "outlinewidth": 0,
              "ticks": ""
             }
            },
            "type": "scattergl"
           }
          ],
          "scattermapbox": [
           {
            "marker": {
             "colorbar": {
              "outlinewidth": 0,
              "ticks": ""
             }
            },
            "type": "scattermapbox"
           }
          ],
          "scatterpolar": [
           {
            "marker": {
             "colorbar": {
              "outlinewidth": 0,
              "ticks": ""
             }
            },
            "type": "scatterpolar"
           }
          ],
          "scatterpolargl": [
           {
            "marker": {
             "colorbar": {
              "outlinewidth": 0,
              "ticks": ""
             }
            },
            "type": "scatterpolargl"
           }
          ],
          "scatterternary": [
           {
            "marker": {
             "colorbar": {
              "outlinewidth": 0,
              "ticks": ""
             }
            },
            "type": "scatterternary"
           }
          ],
          "surface": [
           {
            "colorbar": {
             "outlinewidth": 0,
             "ticks": ""
            },
            "colorscale": [
             [
              0,
              "#0d0887"
             ],
             [
              0.1111111111111111,
              "#46039f"
             ],
             [
              0.2222222222222222,
              "#7201a8"
             ],
             [
              0.3333333333333333,
              "#9c179e"
             ],
             [
              0.4444444444444444,
              "#bd3786"
             ],
             [
              0.5555555555555556,
              "#d8576b"
             ],
             [
              0.6666666666666666,
              "#ed7953"
             ],
             [
              0.7777777777777778,
              "#fb9f3a"
             ],
             [
              0.8888888888888888,
              "#fdca26"
             ],
             [
              1,
              "#f0f921"
             ]
            ],
            "type": "surface"
           }
          ],
          "table": [
           {
            "cells": {
             "fill": {
              "color": "#EBF0F8"
             },
             "line": {
              "color": "white"
             }
            },
            "header": {
             "fill": {
              "color": "#C8D4E3"
             },
             "line": {
              "color": "white"
             }
            },
            "type": "table"
           }
          ]
         },
         "layout": {
          "annotationdefaults": {
           "arrowcolor": "#2a3f5f",
           "arrowhead": 0,
           "arrowwidth": 1
          },
          "autotypenumbers": "strict",
          "coloraxis": {
           "colorbar": {
            "outlinewidth": 0,
            "ticks": ""
           }
          },
          "colorscale": {
           "diverging": [
            [
             0,
             "#8e0152"
            ],
            [
             0.1,
             "#c51b7d"
            ],
            [
             0.2,
             "#de77ae"
            ],
            [
             0.3,
             "#f1b6da"
            ],
            [
             0.4,
             "#fde0ef"
            ],
            [
             0.5,
             "#f7f7f7"
            ],
            [
             0.6,
             "#e6f5d0"
            ],
            [
             0.7,
             "#b8e186"
            ],
            [
             0.8,
             "#7fbc41"
            ],
            [
             0.9,
             "#4d9221"
            ],
            [
             1,
             "#276419"
            ]
           ],
           "sequential": [
            [
             0,
             "#0d0887"
            ],
            [
             0.1111111111111111,
             "#46039f"
            ],
            [
             0.2222222222222222,
             "#7201a8"
            ],
            [
             0.3333333333333333,
             "#9c179e"
            ],
            [
             0.4444444444444444,
             "#bd3786"
            ],
            [
             0.5555555555555556,
             "#d8576b"
            ],
            [
             0.6666666666666666,
             "#ed7953"
            ],
            [
             0.7777777777777778,
             "#fb9f3a"
            ],
            [
             0.8888888888888888,
             "#fdca26"
            ],
            [
             1,
             "#f0f921"
            ]
           ],
           "sequentialminus": [
            [
             0,
             "#0d0887"
            ],
            [
             0.1111111111111111,
             "#46039f"
            ],
            [
             0.2222222222222222,
             "#7201a8"
            ],
            [
             0.3333333333333333,
             "#9c179e"
            ],
            [
             0.4444444444444444,
             "#bd3786"
            ],
            [
             0.5555555555555556,
             "#d8576b"
            ],
            [
             0.6666666666666666,
             "#ed7953"
            ],
            [
             0.7777777777777778,
             "#fb9f3a"
            ],
            [
             0.8888888888888888,
             "#fdca26"
            ],
            [
             1,
             "#f0f921"
            ]
           ]
          },
          "colorway": [
           "#636efa",
           "#EF553B",
           "#00cc96",
           "#ab63fa",
           "#FFA15A",
           "#19d3f3",
           "#FF6692",
           "#B6E880",
           "#FF97FF",
           "#FECB52"
          ],
          "font": {
           "color": "#2a3f5f"
          },
          "geo": {
           "bgcolor": "white",
           "lakecolor": "white",
           "landcolor": "#E5ECF6",
           "showlakes": true,
           "showland": true,
           "subunitcolor": "white"
          },
          "hoverlabel": {
           "align": "left"
          },
          "hovermode": "closest",
          "mapbox": {
           "style": "light"
          },
          "paper_bgcolor": "white",
          "plot_bgcolor": "#E5ECF6",
          "polar": {
           "angularaxis": {
            "gridcolor": "white",
            "linecolor": "white",
            "ticks": ""
           },
           "bgcolor": "#E5ECF6",
           "radialaxis": {
            "gridcolor": "white",
            "linecolor": "white",
            "ticks": ""
           }
          },
          "scene": {
           "xaxis": {
            "backgroundcolor": "#E5ECF6",
            "gridcolor": "white",
            "gridwidth": 2,
            "linecolor": "white",
            "showbackground": true,
            "ticks": "",
            "zerolinecolor": "white"
           },
           "yaxis": {
            "backgroundcolor": "#E5ECF6",
            "gridcolor": "white",
            "gridwidth": 2,
            "linecolor": "white",
            "showbackground": true,
            "ticks": "",
            "zerolinecolor": "white"
           },
           "zaxis": {
            "backgroundcolor": "#E5ECF6",
            "gridcolor": "white",
            "gridwidth": 2,
            "linecolor": "white",
            "showbackground": true,
            "ticks": "",
            "zerolinecolor": "white"
           }
          },
          "shapedefaults": {
           "line": {
            "color": "#2a3f5f"
           }
          },
          "ternary": {
           "aaxis": {
            "gridcolor": "white",
            "linecolor": "white",
            "ticks": ""
           },
           "baxis": {
            "gridcolor": "white",
            "linecolor": "white",
            "ticks": ""
           },
           "bgcolor": "#E5ECF6",
           "caxis": {
            "gridcolor": "white",
            "linecolor": "white",
            "ticks": ""
           }
          },
          "title": {
           "x": 0.05
          },
          "xaxis": {
           "automargin": true,
           "gridcolor": "white",
           "linecolor": "white",
           "ticks": "",
           "title": {
            "standoff": 15
           },
           "zerolinecolor": "white",
           "zerolinewidth": 2
          },
          "yaxis": {
           "automargin": true,
           "gridcolor": "white",
           "linecolor": "white",
           "ticks": "",
           "title": {
            "standoff": 15
           },
           "zerolinecolor": "white",
           "zerolinewidth": 2
          }
         }
        },
        "title": {
         "text": "Data Quality: Column Shapes (Average Score=0.82)"
        },
        "xaxis": {
         "anchor": "y",
         "categoryorder": "total ascending",
         "domain": [
          0,
          1
         ],
         "title": {
          "text": "Column Name"
         }
        },
        "yaxis": {
         "anchor": "x",
         "domain": [
          0,
          1
         ],
         "range": [
          0,
          1
         ],
         "title": {
          "text": "Quality Score"
         }
        }
       }
      }
     },
     "metadata": {},
     "output_type": "display_data"
    }
   ],
   "source": [
    "report.get_visualization('Column Shapes')"
   ]
  },
  {
   "cell_type": "code",
   "execution_count": 24,
   "metadata": {},
   "outputs": [
    {
     "data": {
      "text/html": [
       "<div>\n",
       "<style scoped>\n",
       "    .dataframe tbody tr th:only-of-type {\n",
       "        vertical-align: middle;\n",
       "    }\n",
       "\n",
       "    .dataframe tbody tr th {\n",
       "        vertical-align: top;\n",
       "    }\n",
       "\n",
       "    .dataframe thead th {\n",
       "        text-align: right;\n",
       "    }\n",
       "</style>\n",
       "<table border=\"1\" class=\"dataframe\">\n",
       "  <thead>\n",
       "    <tr style=\"text-align: right;\">\n",
       "      <th></th>\n",
       "      <th>Column 1</th>\n",
       "      <th>Column 2</th>\n",
       "      <th>Metric</th>\n",
       "      <th>Score</th>\n",
       "      <th>Real Correlation</th>\n",
       "      <th>Synthetic Correlation</th>\n",
       "    </tr>\n",
       "  </thead>\n",
       "  <tbody>\n",
       "    <tr>\n",
       "      <th>0</th>\n",
       "      <td>second_perc</td>\n",
       "      <td>start_date</td>\n",
       "      <td>CorrelationSimilarity</td>\n",
       "      <td>0.985451</td>\n",
       "      <td>0.047353</td>\n",
       "      <td>0.076451</td>\n",
       "    </tr>\n",
       "    <tr>\n",
       "      <th>1</th>\n",
       "      <td>degree_type</td>\n",
       "      <td>work_experience</td>\n",
       "      <td>ContingencySimilarity</td>\n",
       "      <td>0.897674</td>\n",
       "      <td>NaN</td>\n",
       "      <td>NaN</td>\n",
       "    </tr>\n",
       "    <tr>\n",
       "      <th>2</th>\n",
       "      <td>start_date</td>\n",
       "      <td>work_experience</td>\n",
       "      <td>ContingencySimilarity</td>\n",
       "      <td>0.809302</td>\n",
       "      <td>NaN</td>\n",
       "      <td>NaN</td>\n",
       "    </tr>\n",
       "    <tr>\n",
       "      <th>3</th>\n",
       "      <td>degree_type</td>\n",
       "      <td>start_date</td>\n",
       "      <td>ContingencySimilarity</td>\n",
       "      <td>0.893023</td>\n",
       "      <td>NaN</td>\n",
       "      <td>NaN</td>\n",
       "    </tr>\n",
       "    <tr>\n",
       "      <th>4</th>\n",
       "      <td>second_perc</td>\n",
       "      <td>work_experience</td>\n",
       "      <td>ContingencySimilarity</td>\n",
       "      <td>0.665116</td>\n",
       "      <td>NaN</td>\n",
       "      <td>NaN</td>\n",
       "    </tr>\n",
       "    <tr>\n",
       "      <th>5</th>\n",
       "      <td>degree_type</td>\n",
       "      <td>second_perc</td>\n",
       "      <td>ContingencySimilarity</td>\n",
       "      <td>0.655814</td>\n",
       "      <td>NaN</td>\n",
       "      <td>NaN</td>\n",
       "    </tr>\n",
       "  </tbody>\n",
       "</table>\n",
       "</div>"
      ],
      "text/plain": [
       "      Column 1         Column 2                 Metric     Score  \\\n",
       "0  second_perc       start_date  CorrelationSimilarity  0.985451   \n",
       "1  degree_type  work_experience  ContingencySimilarity  0.897674   \n",
       "2   start_date  work_experience  ContingencySimilarity  0.809302   \n",
       "3  degree_type       start_date  ContingencySimilarity  0.893023   \n",
       "4  second_perc  work_experience  ContingencySimilarity  0.665116   \n",
       "5  degree_type      second_perc  ContingencySimilarity  0.655814   \n",
       "\n",
       "   Real Correlation  Synthetic Correlation  \n",
       "0          0.047353               0.076451  \n",
       "1               NaN                    NaN  \n",
       "2               NaN                    NaN  \n",
       "3               NaN                    NaN  \n",
       "4               NaN                    NaN  \n",
       "5               NaN                    NaN  "
      ]
     },
     "execution_count": 24,
     "metadata": {},
     "output_type": "execute_result"
    }
   ],
   "source": [
    "details"
   ]
  },
  {
   "cell_type": "code",
   "execution_count": 6,
   "metadata": {},
   "outputs": [
    {
     "data": {
      "text/html": [
       "<div>\n",
       "<style scoped>\n",
       "    .dataframe tbody tr th:only-of-type {\n",
       "        vertical-align: middle;\n",
       "    }\n",
       "\n",
       "    .dataframe tbody tr th {\n",
       "        vertical-align: top;\n",
       "    }\n",
       "\n",
       "    .dataframe thead th {\n",
       "        text-align: right;\n",
       "    }\n",
       "</style>\n",
       "<table border=\"1\" class=\"dataframe\">\n",
       "  <thead>\n",
       "    <tr style=\"text-align: right;\">\n",
       "      <th></th>\n",
       "      <th>Column 1</th>\n",
       "      <th>Column 2</th>\n",
       "      <th>Metric</th>\n",
       "      <th>Score</th>\n",
       "      <th>Real Correlation</th>\n",
       "      <th>Synthetic Correlation</th>\n",
       "    </tr>\n",
       "  </thead>\n",
       "  <tbody>\n",
       "    <tr>\n",
       "      <th>0</th>\n",
       "      <td>end_date</td>\n",
       "      <td>start_date</td>\n",
       "      <td>CorrelationSimilarity</td>\n",
       "      <td>0.906445</td>\n",
       "      <td>0.397321</td>\n",
       "      <td>0.210212</td>\n",
       "    </tr>\n",
       "    <tr>\n",
       "      <th>1</th>\n",
       "      <td>salary</td>\n",
       "      <td>start_date</td>\n",
       "      <td>CorrelationSimilarity</td>\n",
       "      <td>0.968412</td>\n",
       "      <td>0.052848</td>\n",
       "      <td>-0.010328</td>\n",
       "    </tr>\n",
       "    <tr>\n",
       "      <th>2</th>\n",
       "      <td>duration</td>\n",
       "      <td>start_date</td>\n",
       "      <td>CorrelationSimilarity</td>\n",
       "      <td>0.833848</td>\n",
       "      <td>-0.454971</td>\n",
       "      <td>-0.122667</td>\n",
       "    </tr>\n",
       "    <tr>\n",
       "      <th>3</th>\n",
       "      <td>high_perc</td>\n",
       "      <td>start_date</td>\n",
       "      <td>CorrelationSimilarity</td>\n",
       "      <td>0.943772</td>\n",
       "      <td>0.055928</td>\n",
       "      <td>0.168384</td>\n",
       "    </tr>\n",
       "    <tr>\n",
       "      <th>4</th>\n",
       "      <td>second_perc</td>\n",
       "      <td>start_date</td>\n",
       "      <td>CorrelationSimilarity</td>\n",
       "      <td>0.985451</td>\n",
       "      <td>0.047353</td>\n",
       "      <td>0.076451</td>\n",
       "    </tr>\n",
       "    <tr>\n",
       "      <th>...</th>\n",
       "      <td>...</td>\n",
       "      <td>...</td>\n",
       "      <td>...</td>\n",
       "      <td>...</td>\n",
       "      <td>...</td>\n",
       "      <td>...</td>\n",
       "    </tr>\n",
       "    <tr>\n",
       "      <th>115</th>\n",
       "      <td>degree_type</td>\n",
       "      <td>experience_years</td>\n",
       "      <td>ContingencySimilarity</td>\n",
       "      <td>0.800000</td>\n",
       "      <td>NaN</td>\n",
       "      <td>NaN</td>\n",
       "    </tr>\n",
       "    <tr>\n",
       "      <th>116</th>\n",
       "      <td>employability_perc</td>\n",
       "      <td>work_experience</td>\n",
       "      <td>ContingencySimilarity</td>\n",
       "      <td>0.693023</td>\n",
       "      <td>NaN</td>\n",
       "      <td>NaN</td>\n",
       "    </tr>\n",
       "    <tr>\n",
       "      <th>117</th>\n",
       "      <td>degree_type</td>\n",
       "      <td>employability_perc</td>\n",
       "      <td>ContingencySimilarity</td>\n",
       "      <td>0.716279</td>\n",
       "      <td>NaN</td>\n",
       "      <td>NaN</td>\n",
       "    </tr>\n",
       "    <tr>\n",
       "      <th>118</th>\n",
       "      <td>mba_perc</td>\n",
       "      <td>work_experience</td>\n",
       "      <td>ContingencySimilarity</td>\n",
       "      <td>0.767442</td>\n",
       "      <td>NaN</td>\n",
       "      <td>NaN</td>\n",
       "    </tr>\n",
       "    <tr>\n",
       "      <th>119</th>\n",
       "      <td>degree_type</td>\n",
       "      <td>mba_perc</td>\n",
       "      <td>ContingencySimilarity</td>\n",
       "      <td>0.725581</td>\n",
       "      <td>NaN</td>\n",
       "      <td>NaN</td>\n",
       "    </tr>\n",
       "  </tbody>\n",
       "</table>\n",
       "<p>120 rows × 6 columns</p>\n",
       "</div>"
      ],
      "text/plain": [
       "               Column 1            Column 2                 Metric     Score  \\\n",
       "0              end_date          start_date  CorrelationSimilarity  0.906445   \n",
       "1                salary          start_date  CorrelationSimilarity  0.968412   \n",
       "2              duration          start_date  CorrelationSimilarity  0.833848   \n",
       "3             high_perc          start_date  CorrelationSimilarity  0.943772   \n",
       "4           second_perc          start_date  CorrelationSimilarity  0.985451   \n",
       "..                  ...                 ...                    ...       ...   \n",
       "115         degree_type    experience_years  ContingencySimilarity  0.800000   \n",
       "116  employability_perc     work_experience  ContingencySimilarity  0.693023   \n",
       "117         degree_type  employability_perc  ContingencySimilarity  0.716279   \n",
       "118            mba_perc     work_experience  ContingencySimilarity  0.767442   \n",
       "119         degree_type            mba_perc  ContingencySimilarity  0.725581   \n",
       "\n",
       "     Real Correlation  Synthetic Correlation  \n",
       "0            0.397321               0.210212  \n",
       "1            0.052848              -0.010328  \n",
       "2           -0.454971              -0.122667  \n",
       "3            0.055928               0.168384  \n",
       "4            0.047353               0.076451  \n",
       "..                ...                    ...  \n",
       "115               NaN                    NaN  \n",
       "116               NaN                    NaN  \n",
       "117               NaN                    NaN  \n",
       "118               NaN                    NaN  \n",
       "119               NaN                    NaN  \n",
       "\n",
       "[120 rows x 6 columns]"
      ]
     },
     "execution_count": 6,
     "metadata": {},
     "output_type": "execute_result"
    }
   ],
   "source": [
    "details"
   ]
  },
  {
   "cell_type": "code",
   "execution_count": 3,
   "metadata": {},
   "outputs": [
    {
     "data": {
      "application/vnd.plotly.v1+json": {
       "config": {
        "plotlyServerURL": "https://plot.ly"
       },
       "data": [
        {
         "coloraxis": "coloraxis",
         "hovertemplate": "<b>Column Pair</b><br>(%{x},%{y})<br><br>Similarity: %{z}<extra></extra>",
         "type": "heatmap",
         "x": [
          "employability_perc",
          "placed",
          "mba_perc",
          "gender",
          "work_experience",
          "end_date",
          "salary",
          "degree_perc",
          "mba_spec",
          "start_date",
          "degree_type",
          "high_spec",
          "duration",
          "experience_years",
          "high_perc",
          "second_perc"
         ],
         "xaxis": "x",
         "y": [
          "employability_perc",
          "placed",
          "mba_perc",
          "gender",
          "work_experience",
          "end_date",
          "salary",
          "degree_perc",
          "mba_spec",
          "start_date",
          "degree_type",
          "high_spec",
          "duration",
          "experience_years",
          "high_perc",
          "second_perc"
         ],
         "yaxis": "y",
         "z": [
          [
           1,
           0.71,
           0.88,
           0.69,
           0.69,
           0.92,
           0.93,
           0.92,
           0.71,
           1,
           0.72,
           0.7,
           0.91,
           0.98,
           0.91,
           0.94
          ],
          [
           0.71,
           1,
           0.77,
           0.9,
           0.84,
           0.87,
           0.85,
           0.54,
           0.92,
           0.86,
           0.91,
           0.9,
           0.83,
           0.8,
           0.47,
           0.58
          ],
          [
           0.88,
           0.77,
           1,
           0.76,
           0.77,
           0.94,
           0.86,
           0.88,
           0.74,
           0.98,
           0.73,
           0.71,
           0.95,
           0.94,
           0.81,
           0.83
          ],
          [
           0.69,
           0.9,
           0.76,
           1,
           0.93,
           0.92,
           0.86,
           0.68,
           0.94,
           0.9,
           0.89,
           0.89,
           0.83,
           0.8,
           0.58,
           0.67
          ],
          [
           0.69,
           0.84,
           0.77,
           0.93,
           1,
           0.85,
           0.79,
           0.63,
           0.93,
           0.81,
           0.9,
           0.9,
           0.83,
           0.69,
           0.53,
           0.67
          ],
          [
           0.92,
           0.87,
           0.94,
           0.92,
           0.85,
           1,
           0.95,
           0.93,
           0.92,
           0.91,
           0.89,
           0.89,
           0.65,
           0.94,
           0.92,
           0.92
          ],
          [
           0.93,
           0.85,
           0.86,
           0.86,
           0.79,
           0.95,
           1,
           0.95,
           0.85,
           0.97,
           0.84,
           0.84,
           0.97,
           1,
           0.96,
           0.97
          ],
          [
           0.92,
           0.54,
           0.88,
           0.68,
           0.63,
           0.93,
           0.95,
           1,
           0.66,
           0.91,
           0.65,
           0.65,
           0.92,
           0.92,
           0.86,
           0.77
          ],
          [
           0.71,
           0.92,
           0.74,
           0.94,
           0.93,
           0.92,
           0.85,
           0.66,
           1,
           0.9,
           0.93,
           0.88,
           0.86,
           0.8,
           0.57,
           0.67
          ],
          [
           1,
           0.86,
           0.98,
           0.9,
           0.81,
           0.91,
           0.97,
           0.91,
           0.9,
           1,
           0.89,
           0.88,
           0.83,
           0.95,
           0.94,
           0.99
          ],
          [
           0.72,
           0.91,
           0.73,
           0.89,
           0.9,
           0.89,
           0.84,
           0.65,
           0.93,
           0.89,
           1,
           0.78,
           0.86,
           0.8,
           0.55,
           0.66
          ],
          [
           0.7,
           0.9,
           0.71,
           0.89,
           0.9,
           0.89,
           0.84,
           0.65,
           0.88,
           0.88,
           0.78,
           1,
           0.83,
           0.8,
           0.53,
           0.66
          ],
          [
           0.91,
           0.83,
           0.95,
           0.83,
           0.83,
           0.65,
           0.97,
           0.92,
           0.86,
           0.83,
           0.86,
           0.83,
           1,
           0.96,
           0.98,
           0.9
          ],
          [
           0.98,
           0.8,
           0.94,
           0.8,
           0.69,
           0.94,
           1,
           0.92,
           0.8,
           0.95,
           0.8,
           0.8,
           0.96,
           1,
           0.94,
           0.94
          ],
          [
           0.91,
           0.47,
           0.81,
           0.58,
           0.53,
           0.92,
           0.96,
           0.86,
           0.57,
           0.94,
           0.55,
           0.53,
           0.98,
           0.94,
           1,
           0.63
          ],
          [
           0.94,
           0.58,
           0.83,
           0.67,
           0.67,
           0.92,
           0.97,
           0.77,
           0.67,
           0.99,
           0.66,
           0.66,
           0.9,
           0.94,
           0.63,
           1
          ]
         ]
        },
        {
         "coloraxis": "coloraxis2",
         "customdata": [
          [
           1,
           0.21,
           -0.02,
           -0.07,
           0.13,
           0.04,
           0.04,
           0.06,
           0.08,
           0.04
          ],
          [
           0.21,
           1,
           -0.01,
           -0.12,
           0.17,
           0.08,
           0.11,
           -0.13,
           -0.02,
           -0.08
          ],
          [
           -0.02,
           -0.01,
           1,
           0.09,
           0.16,
           0.1,
           -0.11,
           0.16,
           0.03,
           -0.1
          ],
          [
           -0.07,
           -0.12,
           0.09,
           1,
           -0.04,
           0.04,
           0.14,
           0.13,
           0.13,
           0.06
          ],
          [
           0.13,
           0.17,
           0.16,
           -0.04,
           1,
           -0.23,
           0.16,
           -0.03,
           0.07,
           -0.02
          ],
          [
           0.04,
           0.08,
           0.1,
           0.04,
           -0.23,
           1,
           0.08,
           0.03,
           0.14,
           0.05
          ],
          [
           0.04,
           0.11,
           -0.11,
           0.14,
           0.16,
           0.08,
           1,
           -0.06,
           0.06,
           0.15
          ],
          [
           0.06,
           -0.13,
           0.16,
           0.13,
           -0.03,
           0.03,
           -0.06,
           1,
           0.02,
           0.03
          ],
          [
           0.08,
           -0.02,
           0.03,
           0.13,
           0.07,
           0.14,
           0.06,
           0.02,
           1,
           -0.02
          ],
          [
           0.04,
           -0.08,
           -0.1,
           0.06,
           -0.02,
           0.05,
           0.15,
           0.03,
           -0.02,
           1
          ]
         ],
         "hovertemplate": "<b>Correlation</b><br>(%{x},%{y})<br><br>Real: %{z}<br>(vs. Synthetic: %{customdata})<extra></extra>",
         "type": "heatmap",
         "x": [
          "end_date",
          "start_date",
          "salary",
          "duration",
          "high_perc",
          "second_perc",
          "degree_perc",
          "experience_years",
          "employability_perc",
          "mba_perc"
         ],
         "xaxis": "x2",
         "y": [
          "end_date",
          "start_date",
          "salary",
          "duration",
          "high_perc",
          "second_perc",
          "degree_perc",
          "experience_years",
          "employability_perc",
          "mba_perc"
         ],
         "yaxis": "y2",
         "z": [
          [
           1,
           0.4,
           0.08,
           0.63,
           -0.04,
           -0.12,
           -0.09,
           0.19,
           -0.08,
           -0.09
          ],
          [
           0.4,
           1,
           0.05,
           -0.45,
           0.06,
           0.05,
           -0.07,
           -0.03,
           -0.03,
           -0.04
          ],
          [
           0.08,
           0.05,
           1,
           0.03,
           0.08,
           0.04,
           -0.02,
           0.17,
           0.18,
           0.18
          ],
          [
           0.63,
           -0.45,
           0.03,
           1,
           -0.07,
           -0.15,
           -0.01,
           0.2,
           -0.04,
           -0.04
          ],
          [
           -0.04,
           0.06,
           0.08,
           -0.07,
           1,
           0.51,
           0.43,
           0.09,
           0.25,
           0.35
          ],
          [
           -0.12,
           0.05,
           0.04,
           -0.15,
           0.51,
           1,
           0.54,
           0.16,
           0.26,
           0.39
          ],
          [
           -0.09,
           -0.07,
           -0.02,
           -0.01,
           0.43,
           0.54,
           1,
           0.09,
           0.22,
           0.4
          ],
          [
           0.19,
           -0.03,
           0.17,
           0.2,
           0.09,
           0.16,
           0.09,
           1,
           0.05,
           0.15
          ],
          [
           -0.08,
           -0.03,
           0.18,
           -0.04,
           0.25,
           0.26,
           0.22,
           0.05,
           1,
           0.22
          ],
          [
           -0.09,
           -0.04,
           0.18,
           -0.04,
           0.35,
           0.39,
           0.4,
           0.15,
           0.22,
           1
          ]
         ]
        },
        {
         "coloraxis": "coloraxis2",
         "customdata": [
          [
           1,
           0.4,
           0.08,
           0.63,
           -0.04,
           -0.12,
           -0.09,
           0.19,
           -0.08,
           -0.09
          ],
          [
           0.4,
           1,
           0.05,
           -0.45,
           0.06,
           0.05,
           -0.07,
           -0.03,
           -0.03,
           -0.04
          ],
          [
           0.08,
           0.05,
           1,
           0.03,
           0.08,
           0.04,
           -0.02,
           0.17,
           0.18,
           0.18
          ],
          [
           0.63,
           -0.45,
           0.03,
           1,
           -0.07,
           -0.15,
           -0.01,
           0.2,
           -0.04,
           -0.04
          ],
          [
           -0.04,
           0.06,
           0.08,
           -0.07,
           1,
           0.51,
           0.43,
           0.09,
           0.25,
           0.35
          ],
          [
           -0.12,
           0.05,
           0.04,
           -0.15,
           0.51,
           1,
           0.54,
           0.16,
           0.26,
           0.39
          ],
          [
           -0.09,
           -0.07,
           -0.02,
           -0.01,
           0.43,
           0.54,
           1,
           0.09,
           0.22,
           0.4
          ],
          [
           0.19,
           -0.03,
           0.17,
           0.2,
           0.09,
           0.16,
           0.09,
           1,
           0.05,
           0.15
          ],
          [
           -0.08,
           -0.03,
           0.18,
           -0.04,
           0.25,
           0.26,
           0.22,
           0.05,
           1,
           0.22
          ],
          [
           -0.09,
           -0.04,
           0.18,
           -0.04,
           0.35,
           0.39,
           0.4,
           0.15,
           0.22,
           1
          ]
         ],
         "hovertemplate": "<b>Correlation</b><br>(%{x},%{y})<br><br>Synthetic: %{z}<br>(vs. Real: %{customdata})<extra></extra>",
         "type": "heatmap",
         "x": [
          "end_date",
          "start_date",
          "salary",
          "duration",
          "high_perc",
          "second_perc",
          "degree_perc",
          "experience_years",
          "employability_perc",
          "mba_perc"
         ],
         "xaxis": "x3",
         "y": [
          "end_date",
          "start_date",
          "salary",
          "duration",
          "high_perc",
          "second_perc",
          "degree_perc",
          "experience_years",
          "employability_perc",
          "mba_perc"
         ],
         "yaxis": "y3",
         "z": [
          [
           1,
           0.21,
           -0.02,
           -0.07,
           0.13,
           0.04,
           0.04,
           0.06,
           0.08,
           0.04
          ],
          [
           0.21,
           1,
           -0.01,
           -0.12,
           0.17,
           0.08,
           0.11,
           -0.13,
           -0.02,
           -0.08
          ],
          [
           -0.02,
           -0.01,
           1,
           0.09,
           0.16,
           0.1,
           -0.11,
           0.16,
           0.03,
           -0.1
          ],
          [
           -0.07,
           -0.12,
           0.09,
           1,
           -0.04,
           0.04,
           0.14,
           0.13,
           0.13,
           0.06
          ],
          [
           0.13,
           0.17,
           0.16,
           -0.04,
           1,
           -0.23,
           0.16,
           -0.03,
           0.07,
           -0.02
          ],
          [
           0.04,
           0.08,
           0.1,
           0.04,
           -0.23,
           1,
           0.08,
           0.03,
           0.14,
           0.05
          ],
          [
           0.04,
           0.11,
           -0.11,
           0.14,
           0.16,
           0.08,
           1,
           -0.06,
           0.06,
           0.15
          ],
          [
           0.06,
           -0.13,
           0.16,
           0.13,
           -0.03,
           0.03,
           -0.06,
           1,
           0.02,
           0.03
          ],
          [
           0.08,
           -0.02,
           0.03,
           0.13,
           0.07,
           0.14,
           0.06,
           0.02,
           1,
           -0.02
          ],
          [
           0.04,
           -0.08,
           -0.1,
           0.06,
           -0.02,
           0.05,
           0.15,
           0.03,
           -0.02,
           1
          ]
         ]
        }
       ],
       "layout": {
        "annotations": [
         {
          "font": {
           "size": 16
          },
          "showarrow": false,
          "text": "Real vs. Synthetic Similarity",
          "x": 0.5,
          "xanchor": "center",
          "xref": "paper",
          "y": 1,
          "yanchor": "bottom",
          "yref": "paper"
         },
         {
          "font": {
           "size": 16
          },
          "showarrow": false,
          "text": "Numerical Correlation (Real Data)",
          "x": 0.225,
          "xanchor": "center",
          "xref": "paper",
          "y": 0.375,
          "yanchor": "bottom",
          "yref": "paper"
         },
         {
          "font": {
           "size": 16
          },
          "showarrow": false,
          "text": "Numerical Correlation (Synthetic Data)",
          "x": 0.775,
          "xanchor": "center",
          "xref": "paper",
          "y": 0.375,
          "yanchor": "bottom",
          "yref": "paper"
         }
        ],
        "coloraxis": {
         "cmax": 1,
         "cmin": 0,
         "colorbar": {
          "len": 0.5,
          "x": 0.8,
          "y": 0.8
         },
         "colorscale": [
          [
           0,
           "#FF0000"
          ],
          [
           0.5,
           "#F16141"
          ],
          [
           1,
           "#36B37E"
          ]
         ]
        },
        "coloraxis2": {
         "cmax": 1,
         "cmin": -1,
         "colorbar": {
          "len": 0.5,
          "y": 0.2
         },
         "colorscale": [
          [
           0,
           "#03AFF1"
          ],
          [
           0.5,
           "#000036"
          ],
          [
           1,
           "#01E0C9"
          ]
         ]
        },
        "height": 900,
        "template": {
         "data": {
          "bar": [
           {
            "error_x": {
             "color": "#2a3f5f"
            },
            "error_y": {
             "color": "#2a3f5f"
            },
            "marker": {
             "line": {
              "color": "#E5ECF6",
              "width": 0.5
             },
             "pattern": {
              "fillmode": "overlay",
              "size": 10,
              "solidity": 0.2
             }
            },
            "type": "bar"
           }
          ],
          "barpolar": [
           {
            "marker": {
             "line": {
              "color": "#E5ECF6",
              "width": 0.5
             },
             "pattern": {
              "fillmode": "overlay",
              "size": 10,
              "solidity": 0.2
             }
            },
            "type": "barpolar"
           }
          ],
          "carpet": [
           {
            "aaxis": {
             "endlinecolor": "#2a3f5f",
             "gridcolor": "white",
             "linecolor": "white",
             "minorgridcolor": "white",
             "startlinecolor": "#2a3f5f"
            },
            "baxis": {
             "endlinecolor": "#2a3f5f",
             "gridcolor": "white",
             "linecolor": "white",
             "minorgridcolor": "white",
             "startlinecolor": "#2a3f5f"
            },
            "type": "carpet"
           }
          ],
          "choropleth": [
           {
            "colorbar": {
             "outlinewidth": 0,
             "ticks": ""
            },
            "type": "choropleth"
           }
          ],
          "contour": [
           {
            "colorbar": {
             "outlinewidth": 0,
             "ticks": ""
            },
            "colorscale": [
             [
              0,
              "#0d0887"
             ],
             [
              0.1111111111111111,
              "#46039f"
             ],
             [
              0.2222222222222222,
              "#7201a8"
             ],
             [
              0.3333333333333333,
              "#9c179e"
             ],
             [
              0.4444444444444444,
              "#bd3786"
             ],
             [
              0.5555555555555556,
              "#d8576b"
             ],
             [
              0.6666666666666666,
              "#ed7953"
             ],
             [
              0.7777777777777778,
              "#fb9f3a"
             ],
             [
              0.8888888888888888,
              "#fdca26"
             ],
             [
              1,
              "#f0f921"
             ]
            ],
            "type": "contour"
           }
          ],
          "contourcarpet": [
           {
            "colorbar": {
             "outlinewidth": 0,
             "ticks": ""
            },
            "type": "contourcarpet"
           }
          ],
          "heatmap": [
           {
            "colorbar": {
             "outlinewidth": 0,
             "ticks": ""
            },
            "colorscale": [
             [
              0,
              "#0d0887"
             ],
             [
              0.1111111111111111,
              "#46039f"
             ],
             [
              0.2222222222222222,
              "#7201a8"
             ],
             [
              0.3333333333333333,
              "#9c179e"
             ],
             [
              0.4444444444444444,
              "#bd3786"
             ],
             [
              0.5555555555555556,
              "#d8576b"
             ],
             [
              0.6666666666666666,
              "#ed7953"
             ],
             [
              0.7777777777777778,
              "#fb9f3a"
             ],
             [
              0.8888888888888888,
              "#fdca26"
             ],
             [
              1,
              "#f0f921"
             ]
            ],
            "type": "heatmap"
           }
          ],
          "heatmapgl": [
           {
            "colorbar": {
             "outlinewidth": 0,
             "ticks": ""
            },
            "colorscale": [
             [
              0,
              "#0d0887"
             ],
             [
              0.1111111111111111,
              "#46039f"
             ],
             [
              0.2222222222222222,
              "#7201a8"
             ],
             [
              0.3333333333333333,
              "#9c179e"
             ],
             [
              0.4444444444444444,
              "#bd3786"
             ],
             [
              0.5555555555555556,
              "#d8576b"
             ],
             [
              0.6666666666666666,
              "#ed7953"
             ],
             [
              0.7777777777777778,
              "#fb9f3a"
             ],
             [
              0.8888888888888888,
              "#fdca26"
             ],
             [
              1,
              "#f0f921"
             ]
            ],
            "type": "heatmapgl"
           }
          ],
          "histogram": [
           {
            "marker": {
             "pattern": {
              "fillmode": "overlay",
              "size": 10,
              "solidity": 0.2
             }
            },
            "type": "histogram"
           }
          ],
          "histogram2d": [
           {
            "colorbar": {
             "outlinewidth": 0,
             "ticks": ""
            },
            "colorscale": [
             [
              0,
              "#0d0887"
             ],
             [
              0.1111111111111111,
              "#46039f"
             ],
             [
              0.2222222222222222,
              "#7201a8"
             ],
             [
              0.3333333333333333,
              "#9c179e"
             ],
             [
              0.4444444444444444,
              "#bd3786"
             ],
             [
              0.5555555555555556,
              "#d8576b"
             ],
             [
              0.6666666666666666,
              "#ed7953"
             ],
             [
              0.7777777777777778,
              "#fb9f3a"
             ],
             [
              0.8888888888888888,
              "#fdca26"
             ],
             [
              1,
              "#f0f921"
             ]
            ],
            "type": "histogram2d"
           }
          ],
          "histogram2dcontour": [
           {
            "colorbar": {
             "outlinewidth": 0,
             "ticks": ""
            },
            "colorscale": [
             [
              0,
              "#0d0887"
             ],
             [
              0.1111111111111111,
              "#46039f"
             ],
             [
              0.2222222222222222,
              "#7201a8"
             ],
             [
              0.3333333333333333,
              "#9c179e"
             ],
             [
              0.4444444444444444,
              "#bd3786"
             ],
             [
              0.5555555555555556,
              "#d8576b"
             ],
             [
              0.6666666666666666,
              "#ed7953"
             ],
             [
              0.7777777777777778,
              "#fb9f3a"
             ],
             [
              0.8888888888888888,
              "#fdca26"
             ],
             [
              1,
              "#f0f921"
             ]
            ],
            "type": "histogram2dcontour"
           }
          ],
          "mesh3d": [
           {
            "colorbar": {
             "outlinewidth": 0,
             "ticks": ""
            },
            "type": "mesh3d"
           }
          ],
          "parcoords": [
           {
            "line": {
             "colorbar": {
              "outlinewidth": 0,
              "ticks": ""
             }
            },
            "type": "parcoords"
           }
          ],
          "pie": [
           {
            "automargin": true,
            "type": "pie"
           }
          ],
          "scatter": [
           {
            "fillpattern": {
             "fillmode": "overlay",
             "size": 10,
             "solidity": 0.2
            },
            "type": "scatter"
           }
          ],
          "scatter3d": [
           {
            "line": {
             "colorbar": {
              "outlinewidth": 0,
              "ticks": ""
             }
            },
            "marker": {
             "colorbar": {
              "outlinewidth": 0,
              "ticks": ""
             }
            },
            "type": "scatter3d"
           }
          ],
          "scattercarpet": [
           {
            "marker": {
             "colorbar": {
              "outlinewidth": 0,
              "ticks": ""
             }
            },
            "type": "scattercarpet"
           }
          ],
          "scattergeo": [
           {
            "marker": {
             "colorbar": {
              "outlinewidth": 0,
              "ticks": ""
             }
            },
            "type": "scattergeo"
           }
          ],
          "scattergl": [
           {
            "marker": {
             "colorbar": {
              "outlinewidth": 0,
              "ticks": ""
             }
            },
            "type": "scattergl"
           }
          ],
          "scattermapbox": [
           {
            "marker": {
             "colorbar": {
              "outlinewidth": 0,
              "ticks": ""
             }
            },
            "type": "scattermapbox"
           }
          ],
          "scatterpolar": [
           {
            "marker": {
             "colorbar": {
              "outlinewidth": 0,
              "ticks": ""
             }
            },
            "type": "scatterpolar"
           }
          ],
          "scatterpolargl": [
           {
            "marker": {
             "colorbar": {
              "outlinewidth": 0,
              "ticks": ""
             }
            },
            "type": "scatterpolargl"
           }
          ],
          "scatterternary": [
           {
            "marker": {
             "colorbar": {
              "outlinewidth": 0,
              "ticks": ""
             }
            },
            "type": "scatterternary"
           }
          ],
          "surface": [
           {
            "colorbar": {
             "outlinewidth": 0,
             "ticks": ""
            },
            "colorscale": [
             [
              0,
              "#0d0887"
             ],
             [
              0.1111111111111111,
              "#46039f"
             ],
             [
              0.2222222222222222,
              "#7201a8"
             ],
             [
              0.3333333333333333,
              "#9c179e"
             ],
             [
              0.4444444444444444,
              "#bd3786"
             ],
             [
              0.5555555555555556,
              "#d8576b"
             ],
             [
              0.6666666666666666,
              "#ed7953"
             ],
             [
              0.7777777777777778,
              "#fb9f3a"
             ],
             [
              0.8888888888888888,
              "#fdca26"
             ],
             [
              1,
              "#f0f921"
             ]
            ],
            "type": "surface"
           }
          ],
          "table": [
           {
            "cells": {
             "fill": {
              "color": "#EBF0F8"
             },
             "line": {
              "color": "white"
             }
            },
            "header": {
             "fill": {
              "color": "#C8D4E3"
             },
             "line": {
              "color": "white"
             }
            },
            "type": "table"
           }
          ]
         },
         "layout": {
          "annotationdefaults": {
           "arrowcolor": "#2a3f5f",
           "arrowhead": 0,
           "arrowwidth": 1
          },
          "autotypenumbers": "strict",
          "coloraxis": {
           "colorbar": {
            "outlinewidth": 0,
            "ticks": ""
           }
          },
          "colorscale": {
           "diverging": [
            [
             0,
             "#8e0152"
            ],
            [
             0.1,
             "#c51b7d"
            ],
            [
             0.2,
             "#de77ae"
            ],
            [
             0.3,
             "#f1b6da"
            ],
            [
             0.4,
             "#fde0ef"
            ],
            [
             0.5,
             "#f7f7f7"
            ],
            [
             0.6,
             "#e6f5d0"
            ],
            [
             0.7,
             "#b8e186"
            ],
            [
             0.8,
             "#7fbc41"
            ],
            [
             0.9,
             "#4d9221"
            ],
            [
             1,
             "#276419"
            ]
           ],
           "sequential": [
            [
             0,
             "#0d0887"
            ],
            [
             0.1111111111111111,
             "#46039f"
            ],
            [
             0.2222222222222222,
             "#7201a8"
            ],
            [
             0.3333333333333333,
             "#9c179e"
            ],
            [
             0.4444444444444444,
             "#bd3786"
            ],
            [
             0.5555555555555556,
             "#d8576b"
            ],
            [
             0.6666666666666666,
             "#ed7953"
            ],
            [
             0.7777777777777778,
             "#fb9f3a"
            ],
            [
             0.8888888888888888,
             "#fdca26"
            ],
            [
             1,
             "#f0f921"
            ]
           ],
           "sequentialminus": [
            [
             0,
             "#0d0887"
            ],
            [
             0.1111111111111111,
             "#46039f"
            ],
            [
             0.2222222222222222,
             "#7201a8"
            ],
            [
             0.3333333333333333,
             "#9c179e"
            ],
            [
             0.4444444444444444,
             "#bd3786"
            ],
            [
             0.5555555555555556,
             "#d8576b"
            ],
            [
             0.6666666666666666,
             "#ed7953"
            ],
            [
             0.7777777777777778,
             "#fb9f3a"
            ],
            [
             0.8888888888888888,
             "#fdca26"
            ],
            [
             1,
             "#f0f921"
            ]
           ]
          },
          "colorway": [
           "#636efa",
           "#EF553B",
           "#00cc96",
           "#ab63fa",
           "#FFA15A",
           "#19d3f3",
           "#FF6692",
           "#B6E880",
           "#FF97FF",
           "#FECB52"
          ],
          "font": {
           "color": "#2a3f5f"
          },
          "geo": {
           "bgcolor": "white",
           "lakecolor": "white",
           "landcolor": "#E5ECF6",
           "showlakes": true,
           "showland": true,
           "subunitcolor": "white"
          },
          "hoverlabel": {
           "align": "left"
          },
          "hovermode": "closest",
          "mapbox": {
           "style": "light"
          },
          "paper_bgcolor": "white",
          "plot_bgcolor": "#E5ECF6",
          "polar": {
           "angularaxis": {
            "gridcolor": "white",
            "linecolor": "white",
            "ticks": ""
           },
           "bgcolor": "#E5ECF6",
           "radialaxis": {
            "gridcolor": "white",
            "linecolor": "white",
            "ticks": ""
           }
          },
          "scene": {
           "xaxis": {
            "backgroundcolor": "#E5ECF6",
            "gridcolor": "white",
            "gridwidth": 2,
            "linecolor": "white",
            "showbackground": true,
            "ticks": "",
            "zerolinecolor": "white"
           },
           "yaxis": {
            "backgroundcolor": "#E5ECF6",
            "gridcolor": "white",
            "gridwidth": 2,
            "linecolor": "white",
            "showbackground": true,
            "ticks": "",
            "zerolinecolor": "white"
           },
           "zaxis": {
            "backgroundcolor": "#E5ECF6",
            "gridcolor": "white",
            "gridwidth": 2,
            "linecolor": "white",
            "showbackground": true,
            "ticks": "",
            "zerolinecolor": "white"
           }
          },
          "shapedefaults": {
           "line": {
            "color": "#2a3f5f"
           }
          },
          "ternary": {
           "aaxis": {
            "gridcolor": "white",
            "linecolor": "white",
            "ticks": ""
           },
           "baxis": {
            "gridcolor": "white",
            "linecolor": "white",
            "ticks": ""
           },
           "bgcolor": "#E5ECF6",
           "caxis": {
            "gridcolor": "white",
            "linecolor": "white",
            "ticks": ""
           }
          },
          "title": {
           "x": 0.05
          },
          "xaxis": {
           "automargin": true,
           "gridcolor": "white",
           "linecolor": "white",
           "ticks": "",
           "title": {
            "standoff": 15
           },
           "zerolinecolor": "white",
           "zerolinewidth": 2
          },
          "yaxis": {
           "automargin": true,
           "gridcolor": "white",
           "linecolor": "white",
           "ticks": "",
           "title": {
            "standoff": 15
           },
           "zerolinecolor": "white",
           "zerolinewidth": 2
          }
         }
        },
        "title": {
         "text": "Data Quality: Column Pair Trends (Average Score=0.83)"
        },
        "width": 900,
        "xaxis": {
         "anchor": "y",
         "domain": [
          0.26,
          0.74
         ]
        },
        "xaxis2": {
         "anchor": "y2",
         "domain": [
          0,
          0.45
         ]
        },
        "xaxis3": {
         "anchor": "y3",
         "domain": [
          0.55,
          1
         ],
         "matches": "x2"
        },
        "yaxis": {
         "anchor": "x",
         "autorange": "reversed",
         "domain": [
          0.625,
          1
         ]
        },
        "yaxis2": {
         "anchor": "x2",
         "autorange": "reversed",
         "domain": [
          0,
          0.375
         ]
        },
        "yaxis3": {
         "anchor": "x3",
         "autorange": "reversed",
         "domain": [
          0,
          0.375
         ],
         "matches": "y2",
         "visible": false
        }
       }
      }
     },
     "metadata": {},
     "output_type": "display_data"
    }
   ],
   "source": [
    "report.get_visualization(property_name='Column Pair Trends')"
   ]
  },
  {
   "cell_type": "code",
   "execution_count": 4,
   "metadata": {},
   "outputs": [
    {
     "name": "stderr",
     "output_type": "stream",
     "text": [
      "136it [00:00, 260.80it/s]\n"
     ]
    },
    {
     "data": {
      "text/plain": [
       "15"
      ]
     },
     "execution_count": 4,
     "metadata": {},
     "output_type": "execute_result"
    }
   ],
   "source": [
    "from sdmetrics.reports.single_table._properties.column_pair_trends import ColumnPairTrends\n",
    "\n",
    "proper = ColumnPairTrends()\n",
    "proper.get_score(real_data, synthetic_data, metadata)\n",
    "details_2 = proper._details\n",
    "len(details_2.loc[details_2['Column 2'] == 'degree_type'])"
   ]
  },
  {
   "cell_type": "code",
   "execution_count": 5,
   "metadata": {},
   "outputs": [
    {
     "data": {
      "application/vnd.plotly.v1+json": {
       "config": {
        "plotlyServerURL": "https://plot.ly"
       },
       "data": [
        {
         "coloraxis": "coloraxis",
         "hovertemplate": "<b>Column Pair</b><br>(%{x},%{y})<br><br>Similarity: %{z}<extra></extra>",
         "type": "heatmap",
         "x": [
          "start_date",
          "end_date",
          "salary",
          "duration",
          "high_perc",
          "high_spec",
          "mba_spec",
          "second_perc",
          "gender",
          "degree_perc",
          "placed",
          "experience_years",
          "employability_perc",
          "mba_perc",
          "work_experience",
          "degree_type"
         ],
         "xaxis": "x",
         "y": [
          "start_date",
          "end_date",
          "salary",
          "duration",
          "high_perc",
          "high_spec",
          "mba_spec",
          "second_perc",
          "gender",
          "degree_perc",
          "placed",
          "experience_years",
          "employability_perc",
          "mba_perc",
          "work_experience",
          "degree_type"
         ],
         "yaxis": "y",
         "z": [
          [
           1,
           0.899,
           0.996,
           0.792,
           0.654,
           0.879,
           0.902,
           0.644,
           0.902,
           0.647,
           0.86,
           0.977,
           0.848,
           0.962,
           0.809,
           0.893
          ],
          [
           0.899,
           1,
           0.985,
           0.682,
           0.675,
           0.888,
           0.916,
           0.65,
           0.916,
           0.669,
           0.87,
           0.982,
           0.843,
           0.992,
           0.851,
           0.893
          ],
          [
           0.996,
           0.985,
           1,
           0.973,
           0.957,
           0.837,
           0.847,
           0.968,
           0.856,
           0.953,
           0.851,
           0.995,
           0.927,
           0.863,
           0.786,
           0.837
          ],
          [
           0.792,
           0.682,
           0.973,
           1,
           0.982,
           0.828,
           0.86,
           0.903,
           0.833,
           0.923,
           0.828,
           0.962,
           0.912,
           0.953,
           0.833,
           0.856
          ],
          [
           0.654,
           0.675,
           0.957,
           0.982,
           1,
           0.535,
           0.567,
           0.628,
           0.577,
           0.861,
           0.465,
           0.941,
           0.913,
           0.813,
           0.53,
           0.549
          ],
          [
           0.879,
           0.888,
           0.837,
           0.828,
           0.535,
           1,
           0.884,
           0.656,
           0.888,
           0.651,
           0.898,
           0.8,
           0.698,
           0.707,
           0.902,
           0.777
          ],
          [
           0.902,
           0.916,
           0.847,
           0.86,
           0.567,
           0.884,
           1,
           0.674,
           0.94,
           0.66,
           0.916,
           0.8,
           0.707,
           0.744,
           0.93,
           0.926
          ],
          [
           0.644,
           0.65,
           0.968,
           0.903,
           0.628,
           0.656,
           0.674,
           1,
           0.674,
           0.771,
           0.581,
           0.935,
           0.94,
           0.83,
           0.665,
           0.656
          ],
          [
           0.902,
           0.916,
           0.856,
           0.833,
           0.577,
           0.888,
           0.94,
           0.674,
           1,
           0.679,
           0.898,
           0.8,
           0.693,
           0.758,
           0.935,
           0.888
          ],
          [
           0.647,
           0.669,
           0.953,
           0.923,
           0.861,
           0.651,
           0.66,
           0.771,
           0.679,
           1,
           0.54,
           0.925,
           0.918,
           0.876,
           0.633,
           0.647
          ],
          [
           0.86,
           0.87,
           0.851,
           0.828,
           0.465,
           0.898,
           0.916,
           0.581,
           0.898,
           0.54,
           1,
           0.8,
           0.707,
           0.767,
           0.842,
           0.907
          ],
          [
           0.977,
           0.982,
           0.995,
           0.962,
           0.941,
           0.8,
           0.8,
           0.935,
           0.8,
           0.925,
           0.8,
           1,
           0.985,
           0.939,
           0.688,
           0.8
          ],
          [
           0.848,
           0.843,
           0.927,
           0.912,
           0.913,
           0.698,
           0.707,
           0.94,
           0.693,
           0.918,
           0.707,
           0.985,
           1,
           0.883,
           0.693,
           0.716
          ],
          [
           0.962,
           0.992,
           0.863,
           0.953,
           0.813,
           0.707,
           0.744,
           0.83,
           0.758,
           0.876,
           0.767,
           0.939,
           0.883,
           1,
           0.767,
           0.726
          ],
          [
           0.809,
           0.851,
           0.786,
           0.833,
           0.53,
           0.902,
           0.93,
           0.665,
           0.935,
           0.633,
           0.842,
           0.688,
           0.693,
           0.767,
           1,
           0.898
          ],
          [
           0.893,
           0.893,
           0.837,
           0.856,
           0.549,
           0.777,
           0.926,
           0.656,
           0.888,
           0.647,
           0.907,
           0.8,
           0.716,
           0.726,
           0.898,
           1
          ]
         ]
        },
        {
         "coloraxis": "coloraxis2",
         "customdata": [
          [
           1,
           0.797,
           0.06,
           -0.04,
           -0.202,
           -0.105,
           -0.226,
           0.307,
           -0.177,
           0
          ],
          [
           0.797,
           1,
           0.045,
           -0.003,
           -0.159,
           -0.092,
           -0.182,
           0.297,
           -0.186,
           0.06
          ],
          [
           0.06,
           0.045,
           1,
           0.089,
           0.163,
           0.1,
           -0.113,
           0.156,
           0.032,
           -0.099
          ],
          [
           -0.04,
           -0.003,
           0.089,
           1,
           -0.037,
           0.045,
           0.142,
           0.127,
           0.134,
           0.059
          ],
          [
           -0.202,
           -0.159,
           0.163,
           -0.037,
           1,
           -0.233,
           0.156,
           -0.032,
           0.072,
           -0.02
          ],
          [
           -0.105,
           -0.092,
           0.1,
           0.045,
           -0.233,
           1,
           0.081,
           0.028,
           0.143,
           0.048
          ],
          [
           -0.226,
           -0.182,
           -0.113,
           0.142,
           0.156,
           0.081,
           1,
           -0.059,
           0.06,
           0.153
          ],
          [
           0.307,
           0.297,
           0.156,
           0.127,
           -0.032,
           0.028,
           -0.059,
           1,
           0.016,
           0.032
          ],
          [
           -0.177,
           -0.186,
           0.032,
           0.134,
           0.072,
           0.143,
           0.06,
           0.016,
           1,
           -0.017
          ],
          [
           0,
           0.06,
           -0.099,
           0.059,
           -0.02,
           0.048,
           0.153,
           0.032,
           -0.017,
           1
          ]
         ],
         "hovertemplate": "<b>Correlation</b><br>(%{x},%{y})<br><br>Synthetic: %{z}<br>(vs. Real: %{customdata})<extra></extra>",
         "type": "heatmap",
         "x": [
          "start_date",
          "end_date",
          "salary",
          "duration",
          "high_perc",
          "second_perc",
          "degree_perc",
          "experience_years",
          "employability_perc",
          "mba_perc"
         ],
         "xaxis": "x2",
         "y": [
          "start_date",
          "end_date",
          "salary",
          "duration",
          "high_perc",
          "second_perc",
          "degree_perc",
          "experience_years",
          "employability_perc",
          "mba_perc"
         ],
         "yaxis": "y2",
         "z": [
          [
           1,
           1,
           0.053,
           -0.455,
           0.491,
           0.608,
           0.48,
           0.261,
           0.128,
           0.077
          ],
          [
           1,
           1,
           0.075,
           0.633,
           0.491,
           0.608,
           0.48,
           0.261,
           0.128,
           0.077
          ],
          [
           0.053,
           0.075,
           1,
           0.035,
           0.077,
           0.035,
           -0.019,
           0.165,
           0.178,
           0.175
          ],
          [
           -0.455,
           0.633,
           0.035,
           1,
           -0.072,
           -0.149,
           -0.012,
           0.203,
           -0.042,
           -0.035
          ],
          [
           0.491,
           0.491,
           0.077,
           -0.072,
           1,
           0.511,
           0.434,
           0.086,
           0.245,
           0.355
          ],
          [
           0.608,
           0.608,
           0.035,
           -0.149,
           0.511,
           1,
           0.538,
           0.157,
           0.262,
           0.388
          ],
          [
           0.48,
           0.48,
           -0.019,
           -0.012,
           0.434,
           0.538,
           1,
           0.091,
           0.224,
           0.402
          ],
          [
           0.261,
           0.261,
           0.165,
           0.203,
           0.086,
           0.157,
           0.091,
           1,
           0.046,
           0.154
          ],
          [
           0.128,
           0.128,
           0.178,
           -0.042,
           0.245,
           0.262,
           0.224,
           0.046,
           1,
           0.218
          ],
          [
           0.077,
           0.077,
           0.175,
           -0.035,
           0.355,
           0.388,
           0.402,
           0.154,
           0.218,
           1
          ]
         ]
        },
        {
         "coloraxis": "coloraxis2",
         "customdata": [
          [
           1,
           1,
           0.053,
           -0.455,
           0.491,
           0.608,
           0.48,
           0.261,
           0.128,
           0.077
          ],
          [
           1,
           1,
           0.075,
           0.633,
           0.491,
           0.608,
           0.48,
           0.261,
           0.128,
           0.077
          ],
          [
           0.053,
           0.075,
           1,
           0.035,
           0.077,
           0.035,
           -0.019,
           0.165,
           0.178,
           0.175
          ],
          [
           -0.455,
           0.633,
           0.035,
           1,
           -0.072,
           -0.149,
           -0.012,
           0.203,
           -0.042,
           -0.035
          ],
          [
           0.491,
           0.491,
           0.077,
           -0.072,
           1,
           0.511,
           0.434,
           0.086,
           0.245,
           0.355
          ],
          [
           0.608,
           0.608,
           0.035,
           -0.149,
           0.511,
           1,
           0.538,
           0.157,
           0.262,
           0.388
          ],
          [
           0.48,
           0.48,
           -0.019,
           -0.012,
           0.434,
           0.538,
           1,
           0.091,
           0.224,
           0.402
          ],
          [
           0.261,
           0.261,
           0.165,
           0.203,
           0.086,
           0.157,
           0.091,
           1,
           0.046,
           0.154
          ],
          [
           0.128,
           0.128,
           0.178,
           -0.042,
           0.245,
           0.262,
           0.224,
           0.046,
           1,
           0.218
          ],
          [
           0.077,
           0.077,
           0.175,
           -0.035,
           0.355,
           0.388,
           0.402,
           0.154,
           0.218,
           1
          ]
         ],
         "hovertemplate": "<b>Correlation</b><br>(%{x},%{y})<br><br>Synthetic: %{z}<br>(vs. Real: %{customdata})<extra></extra>",
         "type": "heatmap",
         "x": [
          "start_date",
          "end_date",
          "salary",
          "duration",
          "high_perc",
          "second_perc",
          "degree_perc",
          "experience_years",
          "employability_perc",
          "mba_perc"
         ],
         "xaxis": "x3",
         "y": [
          "start_date",
          "end_date",
          "salary",
          "duration",
          "high_perc",
          "second_perc",
          "degree_perc",
          "experience_years",
          "employability_perc",
          "mba_perc"
         ],
         "yaxis": "y3",
         "z": [
          [
           1,
           0.797,
           0.06,
           -0.04,
           -0.202,
           -0.105,
           -0.226,
           0.307,
           -0.177,
           0
          ],
          [
           0.797,
           1,
           0.045,
           -0.003,
           -0.159,
           -0.092,
           -0.182,
           0.297,
           -0.186,
           0.06
          ],
          [
           0.06,
           0.045,
           1,
           0.089,
           0.163,
           0.1,
           -0.113,
           0.156,
           0.032,
           -0.099
          ],
          [
           -0.04,
           -0.003,
           0.089,
           1,
           -0.037,
           0.045,
           0.142,
           0.127,
           0.134,
           0.059
          ],
          [
           -0.202,
           -0.159,
           0.163,
           -0.037,
           1,
           -0.233,
           0.156,
           -0.032,
           0.072,
           -0.02
          ],
          [
           -0.105,
           -0.092,
           0.1,
           0.045,
           -0.233,
           1,
           0.081,
           0.028,
           0.143,
           0.048
          ],
          [
           -0.226,
           -0.182,
           -0.113,
           0.142,
           0.156,
           0.081,
           1,
           -0.059,
           0.06,
           0.153
          ],
          [
           0.307,
           0.297,
           0.156,
           0.127,
           -0.032,
           0.028,
           -0.059,
           1,
           0.016,
           0.032
          ],
          [
           -0.177,
           -0.186,
           0.032,
           0.134,
           0.072,
           0.143,
           0.06,
           0.016,
           1,
           -0.017
          ],
          [
           0,
           0.06,
           -0.099,
           0.059,
           -0.02,
           0.048,
           0.153,
           0.032,
           -0.017,
           1
          ]
         ]
        }
       ],
       "layout": {
        "annotations": [
         {
          "font": {
           "size": 16
          },
          "showarrow": false,
          "text": "Real vs. Synthetic Similarity",
          "x": 0.5,
          "xanchor": "center",
          "xref": "paper",
          "y": 1,
          "yanchor": "bottom",
          "yref": "paper"
         },
         {
          "font": {
           "size": 16
          },
          "showarrow": false,
          "text": "Numerical Correlation (Real Data)",
          "x": 0.225,
          "xanchor": "center",
          "xref": "paper",
          "y": 0.375,
          "yanchor": "bottom",
          "yref": "paper"
         },
         {
          "font": {
           "size": 16
          },
          "showarrow": false,
          "text": "Numerical Correlation (Synthetic Data)",
          "x": 0.775,
          "xanchor": "center",
          "xref": "paper",
          "y": 0.375,
          "yanchor": "bottom",
          "yref": "paper"
         }
        ],
        "coloraxis": {
         "cmax": 1,
         "cmin": 0,
         "colorbar": {
          "len": 0.5,
          "x": 0.8,
          "y": 0.8
         },
         "colorscale": [
          [
           0,
           "#FF0000"
          ],
          [
           0.5,
           "#F16141"
          ],
          [
           1,
           "#36B37E"
          ]
         ]
        },
        "coloraxis2": {
         "cmax": 1,
         "cmin": -1,
         "colorbar": {
          "len": 0.5,
          "y": 0.2
         },
         "colorscale": [
          [
           0,
           "#03AFF1"
          ],
          [
           0.5,
           "#000036"
          ],
          [
           1,
           "#01E0C9"
          ]
         ]
        },
        "height": 900,
        "template": {
         "data": {
          "bar": [
           {
            "error_x": {
             "color": "#2a3f5f"
            },
            "error_y": {
             "color": "#2a3f5f"
            },
            "marker": {
             "line": {
              "color": "#E5ECF6",
              "width": 0.5
             },
             "pattern": {
              "fillmode": "overlay",
              "size": 10,
              "solidity": 0.2
             }
            },
            "type": "bar"
           }
          ],
          "barpolar": [
           {
            "marker": {
             "line": {
              "color": "#E5ECF6",
              "width": 0.5
             },
             "pattern": {
              "fillmode": "overlay",
              "size": 10,
              "solidity": 0.2
             }
            },
            "type": "barpolar"
           }
          ],
          "carpet": [
           {
            "aaxis": {
             "endlinecolor": "#2a3f5f",
             "gridcolor": "white",
             "linecolor": "white",
             "minorgridcolor": "white",
             "startlinecolor": "#2a3f5f"
            },
            "baxis": {
             "endlinecolor": "#2a3f5f",
             "gridcolor": "white",
             "linecolor": "white",
             "minorgridcolor": "white",
             "startlinecolor": "#2a3f5f"
            },
            "type": "carpet"
           }
          ],
          "choropleth": [
           {
            "colorbar": {
             "outlinewidth": 0,
             "ticks": ""
            },
            "type": "choropleth"
           }
          ],
          "contour": [
           {
            "colorbar": {
             "outlinewidth": 0,
             "ticks": ""
            },
            "colorscale": [
             [
              0,
              "#0d0887"
             ],
             [
              0.1111111111111111,
              "#46039f"
             ],
             [
              0.2222222222222222,
              "#7201a8"
             ],
             [
              0.3333333333333333,
              "#9c179e"
             ],
             [
              0.4444444444444444,
              "#bd3786"
             ],
             [
              0.5555555555555556,
              "#d8576b"
             ],
             [
              0.6666666666666666,
              "#ed7953"
             ],
             [
              0.7777777777777778,
              "#fb9f3a"
             ],
             [
              0.8888888888888888,
              "#fdca26"
             ],
             [
              1,
              "#f0f921"
             ]
            ],
            "type": "contour"
           }
          ],
          "contourcarpet": [
           {
            "colorbar": {
             "outlinewidth": 0,
             "ticks": ""
            },
            "type": "contourcarpet"
           }
          ],
          "heatmap": [
           {
            "colorbar": {
             "outlinewidth": 0,
             "ticks": ""
            },
            "colorscale": [
             [
              0,
              "#0d0887"
             ],
             [
              0.1111111111111111,
              "#46039f"
             ],
             [
              0.2222222222222222,
              "#7201a8"
             ],
             [
              0.3333333333333333,
              "#9c179e"
             ],
             [
              0.4444444444444444,
              "#bd3786"
             ],
             [
              0.5555555555555556,
              "#d8576b"
             ],
             [
              0.6666666666666666,
              "#ed7953"
             ],
             [
              0.7777777777777778,
              "#fb9f3a"
             ],
             [
              0.8888888888888888,
              "#fdca26"
             ],
             [
              1,
              "#f0f921"
             ]
            ],
            "type": "heatmap"
           }
          ],
          "heatmapgl": [
           {
            "colorbar": {
             "outlinewidth": 0,
             "ticks": ""
            },
            "colorscale": [
             [
              0,
              "#0d0887"
             ],
             [
              0.1111111111111111,
              "#46039f"
             ],
             [
              0.2222222222222222,
              "#7201a8"
             ],
             [
              0.3333333333333333,
              "#9c179e"
             ],
             [
              0.4444444444444444,
              "#bd3786"
             ],
             [
              0.5555555555555556,
              "#d8576b"
             ],
             [
              0.6666666666666666,
              "#ed7953"
             ],
             [
              0.7777777777777778,
              "#fb9f3a"
             ],
             [
              0.8888888888888888,
              "#fdca26"
             ],
             [
              1,
              "#f0f921"
             ]
            ],
            "type": "heatmapgl"
           }
          ],
          "histogram": [
           {
            "marker": {
             "pattern": {
              "fillmode": "overlay",
              "size": 10,
              "solidity": 0.2
             }
            },
            "type": "histogram"
           }
          ],
          "histogram2d": [
           {
            "colorbar": {
             "outlinewidth": 0,
             "ticks": ""
            },
            "colorscale": [
             [
              0,
              "#0d0887"
             ],
             [
              0.1111111111111111,
              "#46039f"
             ],
             [
              0.2222222222222222,
              "#7201a8"
             ],
             [
              0.3333333333333333,
              "#9c179e"
             ],
             [
              0.4444444444444444,
              "#bd3786"
             ],
             [
              0.5555555555555556,
              "#d8576b"
             ],
             [
              0.6666666666666666,
              "#ed7953"
             ],
             [
              0.7777777777777778,
              "#fb9f3a"
             ],
             [
              0.8888888888888888,
              "#fdca26"
             ],
             [
              1,
              "#f0f921"
             ]
            ],
            "type": "histogram2d"
           }
          ],
          "histogram2dcontour": [
           {
            "colorbar": {
             "outlinewidth": 0,
             "ticks": ""
            },
            "colorscale": [
             [
              0,
              "#0d0887"
             ],
             [
              0.1111111111111111,
              "#46039f"
             ],
             [
              0.2222222222222222,
              "#7201a8"
             ],
             [
              0.3333333333333333,
              "#9c179e"
             ],
             [
              0.4444444444444444,
              "#bd3786"
             ],
             [
              0.5555555555555556,
              "#d8576b"
             ],
             [
              0.6666666666666666,
              "#ed7953"
             ],
             [
              0.7777777777777778,
              "#fb9f3a"
             ],
             [
              0.8888888888888888,
              "#fdca26"
             ],
             [
              1,
              "#f0f921"
             ]
            ],
            "type": "histogram2dcontour"
           }
          ],
          "mesh3d": [
           {
            "colorbar": {
             "outlinewidth": 0,
             "ticks": ""
            },
            "type": "mesh3d"
           }
          ],
          "parcoords": [
           {
            "line": {
             "colorbar": {
              "outlinewidth": 0,
              "ticks": ""
             }
            },
            "type": "parcoords"
           }
          ],
          "pie": [
           {
            "automargin": true,
            "type": "pie"
           }
          ],
          "scatter": [
           {
            "fillpattern": {
             "fillmode": "overlay",
             "size": 10,
             "solidity": 0.2
            },
            "type": "scatter"
           }
          ],
          "scatter3d": [
           {
            "line": {
             "colorbar": {
              "outlinewidth": 0,
              "ticks": ""
             }
            },
            "marker": {
             "colorbar": {
              "outlinewidth": 0,
              "ticks": ""
             }
            },
            "type": "scatter3d"
           }
          ],
          "scattercarpet": [
           {
            "marker": {
             "colorbar": {
              "outlinewidth": 0,
              "ticks": ""
             }
            },
            "type": "scattercarpet"
           }
          ],
          "scattergeo": [
           {
            "marker": {
             "colorbar": {
              "outlinewidth": 0,
              "ticks": ""
             }
            },
            "type": "scattergeo"
           }
          ],
          "scattergl": [
           {
            "marker": {
             "colorbar": {
              "outlinewidth": 0,
              "ticks": ""
             }
            },
            "type": "scattergl"
           }
          ],
          "scattermapbox": [
           {
            "marker": {
             "colorbar": {
              "outlinewidth": 0,
              "ticks": ""
             }
            },
            "type": "scattermapbox"
           }
          ],
          "scatterpolar": [
           {
            "marker": {
             "colorbar": {
              "outlinewidth": 0,
              "ticks": ""
             }
            },
            "type": "scatterpolar"
           }
          ],
          "scatterpolargl": [
           {
            "marker": {
             "colorbar": {
              "outlinewidth": 0,
              "ticks": ""
             }
            },
            "type": "scatterpolargl"
           }
          ],
          "scatterternary": [
           {
            "marker": {
             "colorbar": {
              "outlinewidth": 0,
              "ticks": ""
             }
            },
            "type": "scatterternary"
           }
          ],
          "surface": [
           {
            "colorbar": {
             "outlinewidth": 0,
             "ticks": ""
            },
            "colorscale": [
             [
              0,
              "#0d0887"
             ],
             [
              0.1111111111111111,
              "#46039f"
             ],
             [
              0.2222222222222222,
              "#7201a8"
             ],
             [
              0.3333333333333333,
              "#9c179e"
             ],
             [
              0.4444444444444444,
              "#bd3786"
             ],
             [
              0.5555555555555556,
              "#d8576b"
             ],
             [
              0.6666666666666666,
              "#ed7953"
             ],
             [
              0.7777777777777778,
              "#fb9f3a"
             ],
             [
              0.8888888888888888,
              "#fdca26"
             ],
             [
              1,
              "#f0f921"
             ]
            ],
            "type": "surface"
           }
          ],
          "table": [
           {
            "cells": {
             "fill": {
              "color": "#EBF0F8"
             },
             "line": {
              "color": "white"
             }
            },
            "header": {
             "fill": {
              "color": "#C8D4E3"
             },
             "line": {
              "color": "white"
             }
            },
            "type": "table"
           }
          ]
         },
         "layout": {
          "annotationdefaults": {
           "arrowcolor": "#2a3f5f",
           "arrowhead": 0,
           "arrowwidth": 1
          },
          "autotypenumbers": "strict",
          "coloraxis": {
           "colorbar": {
            "outlinewidth": 0,
            "ticks": ""
           }
          },
          "colorscale": {
           "diverging": [
            [
             0,
             "#8e0152"
            ],
            [
             0.1,
             "#c51b7d"
            ],
            [
             0.2,
             "#de77ae"
            ],
            [
             0.3,
             "#f1b6da"
            ],
            [
             0.4,
             "#fde0ef"
            ],
            [
             0.5,
             "#f7f7f7"
            ],
            [
             0.6,
             "#e6f5d0"
            ],
            [
             0.7,
             "#b8e186"
            ],
            [
             0.8,
             "#7fbc41"
            ],
            [
             0.9,
             "#4d9221"
            ],
            [
             1,
             "#276419"
            ]
           ],
           "sequential": [
            [
             0,
             "#0d0887"
            ],
            [
             0.1111111111111111,
             "#46039f"
            ],
            [
             0.2222222222222222,
             "#7201a8"
            ],
            [
             0.3333333333333333,
             "#9c179e"
            ],
            [
             0.4444444444444444,
             "#bd3786"
            ],
            [
             0.5555555555555556,
             "#d8576b"
            ],
            [
             0.6666666666666666,
             "#ed7953"
            ],
            [
             0.7777777777777778,
             "#fb9f3a"
            ],
            [
             0.8888888888888888,
             "#fdca26"
            ],
            [
             1,
             "#f0f921"
            ]
           ],
           "sequentialminus": [
            [
             0,
             "#0d0887"
            ],
            [
             0.1111111111111111,
             "#46039f"
            ],
            [
             0.2222222222222222,
             "#7201a8"
            ],
            [
             0.3333333333333333,
             "#9c179e"
            ],
            [
             0.4444444444444444,
             "#bd3786"
            ],
            [
             0.5555555555555556,
             "#d8576b"
            ],
            [
             0.6666666666666666,
             "#ed7953"
            ],
            [
             0.7777777777777778,
             "#fb9f3a"
            ],
            [
             0.8888888888888888,
             "#fdca26"
            ],
            [
             1,
             "#f0f921"
            ]
           ]
          },
          "colorway": [
           "#636efa",
           "#EF553B",
           "#00cc96",
           "#ab63fa",
           "#FFA15A",
           "#19d3f3",
           "#FF6692",
           "#B6E880",
           "#FF97FF",
           "#FECB52"
          ],
          "font": {
           "color": "#2a3f5f"
          },
          "geo": {
           "bgcolor": "white",
           "lakecolor": "white",
           "landcolor": "#E5ECF6",
           "showlakes": true,
           "showland": true,
           "subunitcolor": "white"
          },
          "hoverlabel": {
           "align": "left"
          },
          "hovermode": "closest",
          "mapbox": {
           "style": "light"
          },
          "paper_bgcolor": "white",
          "plot_bgcolor": "#E5ECF6",
          "polar": {
           "angularaxis": {
            "gridcolor": "white",
            "linecolor": "white",
            "ticks": ""
           },
           "bgcolor": "#E5ECF6",
           "radialaxis": {
            "gridcolor": "white",
            "linecolor": "white",
            "ticks": ""
           }
          },
          "scene": {
           "xaxis": {
            "backgroundcolor": "#E5ECF6",
            "gridcolor": "white",
            "gridwidth": 2,
            "linecolor": "white",
            "showbackground": true,
            "ticks": "",
            "zerolinecolor": "white"
           },
           "yaxis": {
            "backgroundcolor": "#E5ECF6",
            "gridcolor": "white",
            "gridwidth": 2,
            "linecolor": "white",
            "showbackground": true,
            "ticks": "",
            "zerolinecolor": "white"
           },
           "zaxis": {
            "backgroundcolor": "#E5ECF6",
            "gridcolor": "white",
            "gridwidth": 2,
            "linecolor": "white",
            "showbackground": true,
            "ticks": "",
            "zerolinecolor": "white"
           }
          },
          "shapedefaults": {
           "line": {
            "color": "#2a3f5f"
           }
          },
          "ternary": {
           "aaxis": {
            "gridcolor": "white",
            "linecolor": "white",
            "ticks": ""
           },
           "baxis": {
            "gridcolor": "white",
            "linecolor": "white",
            "ticks": ""
           },
           "bgcolor": "#E5ECF6",
           "caxis": {
            "gridcolor": "white",
            "linecolor": "white",
            "ticks": ""
           }
          },
          "title": {
           "x": 0.05
          },
          "xaxis": {
           "automargin": true,
           "gridcolor": "white",
           "linecolor": "white",
           "ticks": "",
           "title": {
            "standoff": 15
           },
           "zerolinecolor": "white",
           "zerolinewidth": 2
          },
          "yaxis": {
           "automargin": true,
           "gridcolor": "white",
           "linecolor": "white",
           "ticks": "",
           "title": {
            "standoff": 15
           },
           "zerolinecolor": "white",
           "zerolinewidth": 2
          }
         }
        },
        "title": {
         "text": "Data Quality: Column Pair Trends (Average Score=0.814)"
        },
        "width": 900,
        "xaxis": {
         "anchor": "y",
         "domain": [
          0.26,
          0.74
         ]
        },
        "xaxis2": {
         "anchor": "y2",
         "domain": [
          0,
          0.45
         ]
        },
        "xaxis3": {
         "anchor": "y3",
         "domain": [
          0.55,
          1
         ],
         "matches": "x2"
        },
        "yaxis": {
         "anchor": "x",
         "autorange": "reversed",
         "domain": [
          0.625,
          1
         ]
        },
        "yaxis2": {
         "anchor": "x2",
         "autorange": "reversed",
         "domain": [
          0,
          0.375
         ]
        },
        "yaxis3": {
         "anchor": "x3",
         "autorange": "reversed",
         "domain": [
          0,
          0.375
         ],
         "matches": "y2",
         "visible": false
        }
       }
      }
     },
     "metadata": {},
     "output_type": "display_data"
    }
   ],
   "source": [
    "proper.get_visualization()"
   ]
  },
  {
   "cell_type": "code",
   "execution_count": 5,
   "metadata": {},
   "outputs": [
    {
     "name": "stdout",
     "output_type": "stream",
     "text": [
      "                    start_date  end_date  salary  duration  high_perc  \\\n",
      "start_date               1.000     1.000   0.053    -0.455      0.491   \n",
      "end_date                 1.000     1.000   0.075     0.633      0.491   \n",
      "salary                   0.053     0.075   1.000     0.035      0.077   \n",
      "duration                -0.455     0.633   0.035     1.000     -0.072   \n",
      "high_perc                0.491     0.491   0.077    -0.072      1.000   \n",
      "second_perc              0.608     0.608   0.035    -0.149      0.511   \n",
      "degree_perc              0.480     0.480  -0.019    -0.012      0.434   \n",
      "experience_years         0.261     0.261   0.165     0.203      0.086   \n",
      "employability_perc       0.128     0.128   0.178    -0.042      0.245   \n",
      "mba_perc                 0.077     0.077   0.175    -0.035      0.355   \n",
      "\n",
      "                    second_perc  degree_perc  experience_years  \\\n",
      "start_date                0.608        0.480             0.261   \n",
      "end_date                  0.608        0.480             0.261   \n",
      "salary                    0.035       -0.019             0.165   \n",
      "duration                 -0.149       -0.012             0.203   \n",
      "high_perc                 0.511        0.434             0.086   \n",
      "second_perc               1.000        0.538             0.157   \n",
      "degree_perc               0.538        1.000             0.091   \n",
      "experience_years          0.157        0.091             1.000   \n",
      "employability_perc        0.262        0.224             0.046   \n",
      "mba_perc                  0.388        0.402             0.154   \n",
      "\n",
      "                    employability_perc  mba_perc  \n",
      "start_date                       0.128     0.077  \n",
      "end_date                         0.128     0.077  \n",
      "salary                           0.178     0.175  \n",
      "duration                        -0.042    -0.035  \n",
      "high_perc                        0.245     0.355  \n",
      "second_perc                      0.262     0.388  \n",
      "degree_perc                      0.224     0.402  \n",
      "experience_years                 0.046     0.154  \n",
      "employability_perc               1.000     0.218  \n",
      "mba_perc                         0.218     1.000  \n"
     ]
    },
    {
     "data": {
      "application/vnd.plotly.v1+json": {
       "config": {
        "plotlyServerURL": "https://plot.ly"
       },
       "data": [
        {
         "coloraxis": "coloraxis",
         "hovertemplate": "<b>Column Pair</b><br>(%{x},%{y})<br><br>Similarity: %{z}<extra></extra>",
         "type": "heatmap",
         "x": [
          "start_date",
          "end_date",
          "salary",
          "duration",
          "high_perc",
          "high_spec",
          "mba_spec",
          "second_perc",
          "gender",
          "degree_perc",
          "placed",
          "experience_years",
          "employability_perc",
          "mba_perc",
          "work_experience",
          "degree_type"
         ],
         "xaxis": "x",
         "y": [
          "start_date",
          "end_date",
          "salary",
          "duration",
          "high_perc",
          "high_spec",
          "mba_spec",
          "second_perc",
          "gender",
          "degree_perc",
          "placed",
          "experience_years",
          "employability_perc",
          "mba_perc",
          "work_experience",
          "degree_type"
         ],
         "yaxis": "y",
         "z": [
          [
           1,
           0.899,
           0.996,
           0.792,
           0.654,
           0.837,
           0.86,
           0.644,
           0.86,
           0.647,
           0.819,
           0.977,
           0.848,
           0.962,
           0.8,
           0.851
          ],
          [
           0.899,
           1,
           0.985,
           0.682,
           0.675,
           0.8,
           0.828,
           0.65,
           0.828,
           0.669,
           0.781,
           0.982,
           0.843,
           0.992,
           0.809,
           0.795
          ],
          [
           0.996,
           0.985,
           1,
           0.973,
           0.957,
           0.758,
           0.791,
           0.968,
           0.786,
           0.953,
           0.781,
           0.995,
           0.927,
           0.863,
           0.735,
           0.777
          ],
          [
           0.792,
           0.682,
           0.973,
           1,
           0.982,
           0.847,
           0.86,
           0.903,
           0.833,
           0.923,
           0.837,
           0.962,
           0.912,
           0.953,
           0.833,
           0.856
          ],
          [
           0.654,
           0.675,
           0.957,
           0.982,
           1,
           0.507,
           0.549,
           0.628,
           0.549,
           0.861,
           0.465,
           0.941,
           0.913,
           0.813,
           0.535,
           0.526
          ],
          [
           0.837,
           0.8,
           0.758,
           0.847,
           0.507,
           1,
           0.884,
           0.609,
           0.888,
           0.605,
           0.898,
           0.8,
           0.688,
           0.712,
           0.902,
           0.777
          ],
          [
           0.86,
           0.828,
           0.791,
           0.86,
           0.549,
           0.884,
           1,
           0.637,
           0.94,
           0.628,
           0.916,
           0.8,
           0.721,
           0.698,
           0.93,
           0.926
          ],
          [
           0.644,
           0.65,
           0.968,
           0.903,
           0.628,
           0.609,
           0.637,
           1,
           0.633,
           0.771,
           0.558,
           0.935,
           0.94,
           0.83,
           0.628,
           0.614
          ],
          [
           0.86,
           0.828,
           0.786,
           0.833,
           0.549,
           0.888,
           0.94,
           0.633,
           1,
           0.619,
           0.898,
           0.8,
           0.679,
           0.73,
           0.935,
           0.888
          ],
          [
           0.647,
           0.669,
           0.953,
           0.923,
           0.861,
           0.605,
           0.628,
           0.771,
           0.619,
           1,
           0.488,
           0.925,
           0.918,
           0.876,
           0.595,
           0.581
          ],
          [
           0.819,
           0.781,
           0.781,
           0.837,
           0.465,
           0.898,
           0.916,
           0.558,
           0.898,
           0.488,
           1,
           0.8,
           0.735,
           0.749,
           0.842,
           0.907
          ],
          [
           0.977,
           0.982,
           0.995,
           0.962,
           0.941,
           0.8,
           0.8,
           0.935,
           0.8,
           0.925,
           0.8,
           1,
           0.985,
           0.939,
           0.688,
           0.8
          ],
          [
           0.848,
           0.843,
           0.927,
           0.912,
           0.913,
           0.688,
           0.721,
           0.94,
           0.679,
           0.918,
           0.735,
           0.985,
           1,
           0.883,
           0.67,
           0.712
          ],
          [
           0.962,
           0.992,
           0.863,
           0.953,
           0.813,
           0.712,
           0.698,
           0.83,
           0.73,
           0.876,
           0.749,
           0.939,
           0.883,
           1,
           0.749,
           0.679
          ],
          [
           0.8,
           0.809,
           0.735,
           0.833,
           0.535,
           0.902,
           0.93,
           0.628,
           0.935,
           0.595,
           0.842,
           0.688,
           0.67,
           0.749,
           1,
           0.898
          ],
          [
           0.851,
           0.795,
           0.777,
           0.856,
           0.526,
           0.777,
           0.926,
           0.614,
           0.888,
           0.581,
           0.907,
           0.8,
           0.712,
           0.679,
           0.898,
           1
          ]
         ]
        },
        {
         "coloraxis": "coloraxis2",
         "customdata": [
          [
           1,
           0.797,
           0.06,
           -0.04,
           -0.202,
           -0.105,
           -0.226,
           0.307,
           -0.177,
           0
          ],
          [
           0.797,
           1,
           0.045,
           -0.003,
           -0.159,
           -0.092,
           -0.182,
           0.297,
           -0.186,
           0.06
          ],
          [
           0.06,
           0.045,
           1,
           0.089,
           0.163,
           0.1,
           -0.113,
           0.156,
           0.032,
           -0.099
          ],
          [
           -0.04,
           -0.003,
           0.089,
           1,
           -0.037,
           0.045,
           0.142,
           0.127,
           0.134,
           0.059
          ],
          [
           -0.202,
           -0.159,
           0.163,
           -0.037,
           1,
           -0.233,
           0.156,
           -0.032,
           0.072,
           -0.02
          ],
          [
           -0.105,
           -0.092,
           0.1,
           0.045,
           -0.233,
           1,
           0.081,
           0.028,
           0.143,
           0.048
          ],
          [
           -0.226,
           -0.182,
           -0.113,
           0.142,
           0.156,
           0.081,
           1,
           -0.059,
           0.06,
           0.153
          ],
          [
           0.307,
           0.297,
           0.156,
           0.127,
           -0.032,
           0.028,
           -0.059,
           1,
           0.016,
           0.032
          ],
          [
           -0.177,
           -0.186,
           0.032,
           0.134,
           0.072,
           0.143,
           0.06,
           0.016,
           1,
           -0.017
          ],
          [
           0,
           0.06,
           -0.099,
           0.059,
           -0.02,
           0.048,
           0.153,
           0.032,
           -0.017,
           1
          ]
         ],
         "hovertemplate": "<b>Correlation</b><br>(%{x},%{y})<br><br>Synthetic: %{z}<br>(vs. Real: %{customdata})<extra></extra>",
         "type": "heatmap",
         "x": [
          "start_date",
          "end_date",
          "salary",
          "duration",
          "high_perc",
          "second_perc",
          "degree_perc",
          "experience_years",
          "employability_perc",
          "mba_perc"
         ],
         "xaxis": "x2",
         "y": [
          "start_date",
          "end_date",
          "salary",
          "duration",
          "high_perc",
          "second_perc",
          "degree_perc",
          "experience_years",
          "employability_perc",
          "mba_perc"
         ],
         "yaxis": "y2",
         "z": [
          [
           1,
           1,
           0.053,
           -0.455,
           0.491,
           0.608,
           0.48,
           0.261,
           0.128,
           0.077
          ],
          [
           1,
           1,
           0.075,
           0.633,
           0.491,
           0.608,
           0.48,
           0.261,
           0.128,
           0.077
          ],
          [
           0.053,
           0.075,
           1,
           0.035,
           0.077,
           0.035,
           -0.019,
           0.165,
           0.178,
           0.175
          ],
          [
           -0.455,
           0.633,
           0.035,
           1,
           -0.072,
           -0.149,
           -0.012,
           0.203,
           -0.042,
           -0.035
          ],
          [
           0.491,
           0.491,
           0.077,
           -0.072,
           1,
           0.511,
           0.434,
           0.086,
           0.245,
           0.355
          ],
          [
           0.608,
           0.608,
           0.035,
           -0.149,
           0.511,
           1,
           0.538,
           0.157,
           0.262,
           0.388
          ],
          [
           0.48,
           0.48,
           -0.019,
           -0.012,
           0.434,
           0.538,
           1,
           0.091,
           0.224,
           0.402
          ],
          [
           0.261,
           0.261,
           0.165,
           0.203,
           0.086,
           0.157,
           0.091,
           1,
           0.046,
           0.154
          ],
          [
           0.128,
           0.128,
           0.178,
           -0.042,
           0.245,
           0.262,
           0.224,
           0.046,
           1,
           0.218
          ],
          [
           0.077,
           0.077,
           0.175,
           -0.035,
           0.355,
           0.388,
           0.402,
           0.154,
           0.218,
           1
          ]
         ]
        },
        {
         "coloraxis": "coloraxis2",
         "customdata": [
          [
           1,
           1,
           0.053,
           -0.455,
           0.491,
           0.608,
           0.48,
           0.261,
           0.128,
           0.077
          ],
          [
           1,
           1,
           0.075,
           0.633,
           0.491,
           0.608,
           0.48,
           0.261,
           0.128,
           0.077
          ],
          [
           0.053,
           0.075,
           1,
           0.035,
           0.077,
           0.035,
           -0.019,
           0.165,
           0.178,
           0.175
          ],
          [
           -0.455,
           0.633,
           0.035,
           1,
           -0.072,
           -0.149,
           -0.012,
           0.203,
           -0.042,
           -0.035
          ],
          [
           0.491,
           0.491,
           0.077,
           -0.072,
           1,
           0.511,
           0.434,
           0.086,
           0.245,
           0.355
          ],
          [
           0.608,
           0.608,
           0.035,
           -0.149,
           0.511,
           1,
           0.538,
           0.157,
           0.262,
           0.388
          ],
          [
           0.48,
           0.48,
           -0.019,
           -0.012,
           0.434,
           0.538,
           1,
           0.091,
           0.224,
           0.402
          ],
          [
           0.261,
           0.261,
           0.165,
           0.203,
           0.086,
           0.157,
           0.091,
           1,
           0.046,
           0.154
          ],
          [
           0.128,
           0.128,
           0.178,
           -0.042,
           0.245,
           0.262,
           0.224,
           0.046,
           1,
           0.218
          ],
          [
           0.077,
           0.077,
           0.175,
           -0.035,
           0.355,
           0.388,
           0.402,
           0.154,
           0.218,
           1
          ]
         ],
         "hovertemplate": "<b>Correlation</b><br>(%{x},%{y})<br><br>Synthetic: %{z}<br>(vs. Real: %{customdata})<extra></extra>",
         "type": "heatmap",
         "x": [
          "start_date",
          "end_date",
          "salary",
          "duration",
          "high_perc",
          "second_perc",
          "degree_perc",
          "experience_years",
          "employability_perc",
          "mba_perc"
         ],
         "xaxis": "x3",
         "y": [
          "start_date",
          "end_date",
          "salary",
          "duration",
          "high_perc",
          "second_perc",
          "degree_perc",
          "experience_years",
          "employability_perc",
          "mba_perc"
         ],
         "yaxis": "y3",
         "z": [
          [
           1,
           0.797,
           0.06,
           -0.04,
           -0.202,
           -0.105,
           -0.226,
           0.307,
           -0.177,
           0
          ],
          [
           0.797,
           1,
           0.045,
           -0.003,
           -0.159,
           -0.092,
           -0.182,
           0.297,
           -0.186,
           0.06
          ],
          [
           0.06,
           0.045,
           1,
           0.089,
           0.163,
           0.1,
           -0.113,
           0.156,
           0.032,
           -0.099
          ],
          [
           -0.04,
           -0.003,
           0.089,
           1,
           -0.037,
           0.045,
           0.142,
           0.127,
           0.134,
           0.059
          ],
          [
           -0.202,
           -0.159,
           0.163,
           -0.037,
           1,
           -0.233,
           0.156,
           -0.032,
           0.072,
           -0.02
          ],
          [
           -0.105,
           -0.092,
           0.1,
           0.045,
           -0.233,
           1,
           0.081,
           0.028,
           0.143,
           0.048
          ],
          [
           -0.226,
           -0.182,
           -0.113,
           0.142,
           0.156,
           0.081,
           1,
           -0.059,
           0.06,
           0.153
          ],
          [
           0.307,
           0.297,
           0.156,
           0.127,
           -0.032,
           0.028,
           -0.059,
           1,
           0.016,
           0.032
          ],
          [
           -0.177,
           -0.186,
           0.032,
           0.134,
           0.072,
           0.143,
           0.06,
           0.016,
           1,
           -0.017
          ],
          [
           0,
           0.06,
           -0.099,
           0.059,
           -0.02,
           0.048,
           0.153,
           0.032,
           -0.017,
           1
          ]
         ]
        }
       ],
       "layout": {
        "annotations": [
         {
          "font": {
           "size": 16
          },
          "showarrow": false,
          "text": "Real vs. Synthetic Similarity",
          "x": 0.5,
          "xanchor": "center",
          "xref": "paper",
          "y": 1,
          "yanchor": "bottom",
          "yref": "paper"
         },
         {
          "font": {
           "size": 16
          },
          "showarrow": false,
          "text": "Numerical Correlation (Real Data)",
          "x": 0.225,
          "xanchor": "center",
          "xref": "paper",
          "y": 0.375,
          "yanchor": "bottom",
          "yref": "paper"
         },
         {
          "font": {
           "size": 16
          },
          "showarrow": false,
          "text": "Numerical Correlation (Synthetic Data)",
          "x": 0.775,
          "xanchor": "center",
          "xref": "paper",
          "y": 0.375,
          "yanchor": "bottom",
          "yref": "paper"
         }
        ],
        "coloraxis": {
         "cmax": 1,
         "cmin": 0,
         "colorbar": {
          "len": 0.5,
          "x": 0.8,
          "y": 0.8
         },
         "colorscale": [
          [
           0,
           "#FF0000"
          ],
          [
           0.5,
           "#F16141"
          ],
          [
           1,
           "#36B37E"
          ]
         ]
        },
        "coloraxis2": {
         "cmax": 1,
         "cmin": -1,
         "colorbar": {
          "len": 0.5,
          "y": 0.2
         },
         "colorscale": [
          [
           0,
           "#03AFF1"
          ],
          [
           0.5,
           "#000036"
          ],
          [
           1,
           "#01E0C9"
          ]
         ]
        },
        "height": 900,
        "template": {
         "data": {
          "bar": [
           {
            "error_x": {
             "color": "#2a3f5f"
            },
            "error_y": {
             "color": "#2a3f5f"
            },
            "marker": {
             "line": {
              "color": "#E5ECF6",
              "width": 0.5
             },
             "pattern": {
              "fillmode": "overlay",
              "size": 10,
              "solidity": 0.2
             }
            },
            "type": "bar"
           }
          ],
          "barpolar": [
           {
            "marker": {
             "line": {
              "color": "#E5ECF6",
              "width": 0.5
             },
             "pattern": {
              "fillmode": "overlay",
              "size": 10,
              "solidity": 0.2
             }
            },
            "type": "barpolar"
           }
          ],
          "carpet": [
           {
            "aaxis": {
             "endlinecolor": "#2a3f5f",
             "gridcolor": "white",
             "linecolor": "white",
             "minorgridcolor": "white",
             "startlinecolor": "#2a3f5f"
            },
            "baxis": {
             "endlinecolor": "#2a3f5f",
             "gridcolor": "white",
             "linecolor": "white",
             "minorgridcolor": "white",
             "startlinecolor": "#2a3f5f"
            },
            "type": "carpet"
           }
          ],
          "choropleth": [
           {
            "colorbar": {
             "outlinewidth": 0,
             "ticks": ""
            },
            "type": "choropleth"
           }
          ],
          "contour": [
           {
            "colorbar": {
             "outlinewidth": 0,
             "ticks": ""
            },
            "colorscale": [
             [
              0,
              "#0d0887"
             ],
             [
              0.1111111111111111,
              "#46039f"
             ],
             [
              0.2222222222222222,
              "#7201a8"
             ],
             [
              0.3333333333333333,
              "#9c179e"
             ],
             [
              0.4444444444444444,
              "#bd3786"
             ],
             [
              0.5555555555555556,
              "#d8576b"
             ],
             [
              0.6666666666666666,
              "#ed7953"
             ],
             [
              0.7777777777777778,
              "#fb9f3a"
             ],
             [
              0.8888888888888888,
              "#fdca26"
             ],
             [
              1,
              "#f0f921"
             ]
            ],
            "type": "contour"
           }
          ],
          "contourcarpet": [
           {
            "colorbar": {
             "outlinewidth": 0,
             "ticks": ""
            },
            "type": "contourcarpet"
           }
          ],
          "heatmap": [
           {
            "colorbar": {
             "outlinewidth": 0,
             "ticks": ""
            },
            "colorscale": [
             [
              0,
              "#0d0887"
             ],
             [
              0.1111111111111111,
              "#46039f"
             ],
             [
              0.2222222222222222,
              "#7201a8"
             ],
             [
              0.3333333333333333,
              "#9c179e"
             ],
             [
              0.4444444444444444,
              "#bd3786"
             ],
             [
              0.5555555555555556,
              "#d8576b"
             ],
             [
              0.6666666666666666,
              "#ed7953"
             ],
             [
              0.7777777777777778,
              "#fb9f3a"
             ],
             [
              0.8888888888888888,
              "#fdca26"
             ],
             [
              1,
              "#f0f921"
             ]
            ],
            "type": "heatmap"
           }
          ],
          "heatmapgl": [
           {
            "colorbar": {
             "outlinewidth": 0,
             "ticks": ""
            },
            "colorscale": [
             [
              0,
              "#0d0887"
             ],
             [
              0.1111111111111111,
              "#46039f"
             ],
             [
              0.2222222222222222,
              "#7201a8"
             ],
             [
              0.3333333333333333,
              "#9c179e"
             ],
             [
              0.4444444444444444,
              "#bd3786"
             ],
             [
              0.5555555555555556,
              "#d8576b"
             ],
             [
              0.6666666666666666,
              "#ed7953"
             ],
             [
              0.7777777777777778,
              "#fb9f3a"
             ],
             [
              0.8888888888888888,
              "#fdca26"
             ],
             [
              1,
              "#f0f921"
             ]
            ],
            "type": "heatmapgl"
           }
          ],
          "histogram": [
           {
            "marker": {
             "pattern": {
              "fillmode": "overlay",
              "size": 10,
              "solidity": 0.2
             }
            },
            "type": "histogram"
           }
          ],
          "histogram2d": [
           {
            "colorbar": {
             "outlinewidth": 0,
             "ticks": ""
            },
            "colorscale": [
             [
              0,
              "#0d0887"
             ],
             [
              0.1111111111111111,
              "#46039f"
             ],
             [
              0.2222222222222222,
              "#7201a8"
             ],
             [
              0.3333333333333333,
              "#9c179e"
             ],
             [
              0.4444444444444444,
              "#bd3786"
             ],
             [
              0.5555555555555556,
              "#d8576b"
             ],
             [
              0.6666666666666666,
              "#ed7953"
             ],
             [
              0.7777777777777778,
              "#fb9f3a"
             ],
             [
              0.8888888888888888,
              "#fdca26"
             ],
             [
              1,
              "#f0f921"
             ]
            ],
            "type": "histogram2d"
           }
          ],
          "histogram2dcontour": [
           {
            "colorbar": {
             "outlinewidth": 0,
             "ticks": ""
            },
            "colorscale": [
             [
              0,
              "#0d0887"
             ],
             [
              0.1111111111111111,
              "#46039f"
             ],
             [
              0.2222222222222222,
              "#7201a8"
             ],
             [
              0.3333333333333333,
              "#9c179e"
             ],
             [
              0.4444444444444444,
              "#bd3786"
             ],
             [
              0.5555555555555556,
              "#d8576b"
             ],
             [
              0.6666666666666666,
              "#ed7953"
             ],
             [
              0.7777777777777778,
              "#fb9f3a"
             ],
             [
              0.8888888888888888,
              "#fdca26"
             ],
             [
              1,
              "#f0f921"
             ]
            ],
            "type": "histogram2dcontour"
           }
          ],
          "mesh3d": [
           {
            "colorbar": {
             "outlinewidth": 0,
             "ticks": ""
            },
            "type": "mesh3d"
           }
          ],
          "parcoords": [
           {
            "line": {
             "colorbar": {
              "outlinewidth": 0,
              "ticks": ""
             }
            },
            "type": "parcoords"
           }
          ],
          "pie": [
           {
            "automargin": true,
            "type": "pie"
           }
          ],
          "scatter": [
           {
            "fillpattern": {
             "fillmode": "overlay",
             "size": 10,
             "solidity": 0.2
            },
            "type": "scatter"
           }
          ],
          "scatter3d": [
           {
            "line": {
             "colorbar": {
              "outlinewidth": 0,
              "ticks": ""
             }
            },
            "marker": {
             "colorbar": {
              "outlinewidth": 0,
              "ticks": ""
             }
            },
            "type": "scatter3d"
           }
          ],
          "scattercarpet": [
           {
            "marker": {
             "colorbar": {
              "outlinewidth": 0,
              "ticks": ""
             }
            },
            "type": "scattercarpet"
           }
          ],
          "scattergeo": [
           {
            "marker": {
             "colorbar": {
              "outlinewidth": 0,
              "ticks": ""
             }
            },
            "type": "scattergeo"
           }
          ],
          "scattergl": [
           {
            "marker": {
             "colorbar": {
              "outlinewidth": 0,
              "ticks": ""
             }
            },
            "type": "scattergl"
           }
          ],
          "scattermapbox": [
           {
            "marker": {
             "colorbar": {
              "outlinewidth": 0,
              "ticks": ""
             }
            },
            "type": "scattermapbox"
           }
          ],
          "scatterpolar": [
           {
            "marker": {
             "colorbar": {
              "outlinewidth": 0,
              "ticks": ""
             }
            },
            "type": "scatterpolar"
           }
          ],
          "scatterpolargl": [
           {
            "marker": {
             "colorbar": {
              "outlinewidth": 0,
              "ticks": ""
             }
            },
            "type": "scatterpolargl"
           }
          ],
          "scatterternary": [
           {
            "marker": {
             "colorbar": {
              "outlinewidth": 0,
              "ticks": ""
             }
            },
            "type": "scatterternary"
           }
          ],
          "surface": [
           {
            "colorbar": {
             "outlinewidth": 0,
             "ticks": ""
            },
            "colorscale": [
             [
              0,
              "#0d0887"
             ],
             [
              0.1111111111111111,
              "#46039f"
             ],
             [
              0.2222222222222222,
              "#7201a8"
             ],
             [
              0.3333333333333333,
              "#9c179e"
             ],
             [
              0.4444444444444444,
              "#bd3786"
             ],
             [
              0.5555555555555556,
              "#d8576b"
             ],
             [
              0.6666666666666666,
              "#ed7953"
             ],
             [
              0.7777777777777778,
              "#fb9f3a"
             ],
             [
              0.8888888888888888,
              "#fdca26"
             ],
             [
              1,
              "#f0f921"
             ]
            ],
            "type": "surface"
           }
          ],
          "table": [
           {
            "cells": {
             "fill": {
              "color": "#EBF0F8"
             },
             "line": {
              "color": "white"
             }
            },
            "header": {
             "fill": {
              "color": "#C8D4E3"
             },
             "line": {
              "color": "white"
             }
            },
            "type": "table"
           }
          ]
         },
         "layout": {
          "annotationdefaults": {
           "arrowcolor": "#2a3f5f",
           "arrowhead": 0,
           "arrowwidth": 1
          },
          "autotypenumbers": "strict",
          "coloraxis": {
           "colorbar": {
            "outlinewidth": 0,
            "ticks": ""
           }
          },
          "colorscale": {
           "diverging": [
            [
             0,
             "#8e0152"
            ],
            [
             0.1,
             "#c51b7d"
            ],
            [
             0.2,
             "#de77ae"
            ],
            [
             0.3,
             "#f1b6da"
            ],
            [
             0.4,
             "#fde0ef"
            ],
            [
             0.5,
             "#f7f7f7"
            ],
            [
             0.6,
             "#e6f5d0"
            ],
            [
             0.7,
             "#b8e186"
            ],
            [
             0.8,
             "#7fbc41"
            ],
            [
             0.9,
             "#4d9221"
            ],
            [
             1,
             "#276419"
            ]
           ],
           "sequential": [
            [
             0,
             "#0d0887"
            ],
            [
             0.1111111111111111,
             "#46039f"
            ],
            [
             0.2222222222222222,
             "#7201a8"
            ],
            [
             0.3333333333333333,
             "#9c179e"
            ],
            [
             0.4444444444444444,
             "#bd3786"
            ],
            [
             0.5555555555555556,
             "#d8576b"
            ],
            [
             0.6666666666666666,
             "#ed7953"
            ],
            [
             0.7777777777777778,
             "#fb9f3a"
            ],
            [
             0.8888888888888888,
             "#fdca26"
            ],
            [
             1,
             "#f0f921"
            ]
           ],
           "sequentialminus": [
            [
             0,
             "#0d0887"
            ],
            [
             0.1111111111111111,
             "#46039f"
            ],
            [
             0.2222222222222222,
             "#7201a8"
            ],
            [
             0.3333333333333333,
             "#9c179e"
            ],
            [
             0.4444444444444444,
             "#bd3786"
            ],
            [
             0.5555555555555556,
             "#d8576b"
            ],
            [
             0.6666666666666666,
             "#ed7953"
            ],
            [
             0.7777777777777778,
             "#fb9f3a"
            ],
            [
             0.8888888888888888,
             "#fdca26"
            ],
            [
             1,
             "#f0f921"
            ]
           ]
          },
          "colorway": [
           "#636efa",
           "#EF553B",
           "#00cc96",
           "#ab63fa",
           "#FFA15A",
           "#19d3f3",
           "#FF6692",
           "#B6E880",
           "#FF97FF",
           "#FECB52"
          ],
          "font": {
           "color": "#2a3f5f"
          },
          "geo": {
           "bgcolor": "white",
           "lakecolor": "white",
           "landcolor": "#E5ECF6",
           "showlakes": true,
           "showland": true,
           "subunitcolor": "white"
          },
          "hoverlabel": {
           "align": "left"
          },
          "hovermode": "closest",
          "mapbox": {
           "style": "light"
          },
          "paper_bgcolor": "white",
          "plot_bgcolor": "#E5ECF6",
          "polar": {
           "angularaxis": {
            "gridcolor": "white",
            "linecolor": "white",
            "ticks": ""
           },
           "bgcolor": "#E5ECF6",
           "radialaxis": {
            "gridcolor": "white",
            "linecolor": "white",
            "ticks": ""
           }
          },
          "scene": {
           "xaxis": {
            "backgroundcolor": "#E5ECF6",
            "gridcolor": "white",
            "gridwidth": 2,
            "linecolor": "white",
            "showbackground": true,
            "ticks": "",
            "zerolinecolor": "white"
           },
           "yaxis": {
            "backgroundcolor": "#E5ECF6",
            "gridcolor": "white",
            "gridwidth": 2,
            "linecolor": "white",
            "showbackground": true,
            "ticks": "",
            "zerolinecolor": "white"
           },
           "zaxis": {
            "backgroundcolor": "#E5ECF6",
            "gridcolor": "white",
            "gridwidth": 2,
            "linecolor": "white",
            "showbackground": true,
            "ticks": "",
            "zerolinecolor": "white"
           }
          },
          "shapedefaults": {
           "line": {
            "color": "#2a3f5f"
           }
          },
          "ternary": {
           "aaxis": {
            "gridcolor": "white",
            "linecolor": "white",
            "ticks": ""
           },
           "baxis": {
            "gridcolor": "white",
            "linecolor": "white",
            "ticks": ""
           },
           "bgcolor": "#E5ECF6",
           "caxis": {
            "gridcolor": "white",
            "linecolor": "white",
            "ticks": ""
           }
          },
          "title": {
           "x": 0.05
          },
          "xaxis": {
           "automargin": true,
           "gridcolor": "white",
           "linecolor": "white",
           "ticks": "",
           "title": {
            "standoff": 15
           },
           "zerolinecolor": "white",
           "zerolinewidth": 2
          },
          "yaxis": {
           "automargin": true,
           "gridcolor": "white",
           "linecolor": "white",
           "ticks": "",
           "title": {
            "standoff": 15
           },
           "zerolinecolor": "white",
           "zerolinewidth": 2
          }
         }
        },
        "title": {
         "text": "Data Quality: Column Pair Trends (Average Score=0.799)"
        },
        "width": 900,
        "xaxis": {
         "anchor": "y",
         "domain": [
          0.26,
          0.74
         ]
        },
        "xaxis2": {
         "anchor": "y2",
         "domain": [
          0,
          0.45
         ]
        },
        "xaxis3": {
         "anchor": "y3",
         "domain": [
          0.55,
          1
         ],
         "matches": "x2"
        },
        "yaxis": {
         "anchor": "x",
         "autorange": "reversed",
         "domain": [
          0.625,
          1
         ]
        },
        "yaxis2": {
         "anchor": "x2",
         "autorange": "reversed",
         "domain": [
          0,
          0.375
         ]
        },
        "yaxis3": {
         "anchor": "x3",
         "autorange": "reversed",
         "domain": [
          0,
          0.375
         ],
         "matches": "y2",
         "visible": false
        }
       }
      }
     },
     "metadata": {},
     "output_type": "display_data"
    }
   ],
   "source": [
    "proper.get_visualization_2()"
   ]
  },
  {
   "cell_type": "code",
   "execution_count": 12,
   "metadata": {},
   "outputs": [
    {
     "data": {
      "text/plain": [
       "start_date            object\n",
       "end_date              object\n",
       "salary                object\n",
       "duration              object\n",
       "high_perc             object\n",
       "second_perc           object\n",
       "degree_perc           object\n",
       "experience_years      object\n",
       "employability_perc    object\n",
       "mba_perc              object\n",
       "dtype: object"
      ]
     },
     "execution_count": 12,
     "metadata": {},
     "output_type": "execute_result"
    }
   ],
   "source": [
    "heatmap.dtypes"
   ]
  },
  {
   "cell_type": "code",
   "execution_count": 19,
   "metadata": {},
   "outputs": [
    {
     "data": {
      "text/html": [
       "<div>\n",
       "<style scoped>\n",
       "    .dataframe tbody tr th:only-of-type {\n",
       "        vertical-align: middle;\n",
       "    }\n",
       "\n",
       "    .dataframe tbody tr th {\n",
       "        vertical-align: top;\n",
       "    }\n",
       "\n",
       "    .dataframe thead th {\n",
       "        text-align: right;\n",
       "    }\n",
       "</style>\n",
       "<table border=\"1\" class=\"dataframe\">\n",
       "  <thead>\n",
       "    <tr style=\"text-align: right;\">\n",
       "      <th></th>\n",
       "      <th>start_date</th>\n",
       "      <th>end_date</th>\n",
       "      <th>salary</th>\n",
       "      <th>duration</th>\n",
       "      <th>high_perc</th>\n",
       "      <th>second_perc</th>\n",
       "      <th>degree_perc</th>\n",
       "      <th>experience_years</th>\n",
       "      <th>employability_perc</th>\n",
       "      <th>mba_perc</th>\n",
       "    </tr>\n",
       "  </thead>\n",
       "  <tbody>\n",
       "    <tr>\n",
       "      <th>start_date</th>\n",
       "      <td>1</td>\n",
       "      <td>0.999999</td>\n",
       "      <td>0.052848</td>\n",
       "      <td>-0.454971</td>\n",
       "      <td>0.491274</td>\n",
       "      <td>0.607926</td>\n",
       "      <td>0.4798</td>\n",
       "      <td>0.261207</td>\n",
       "      <td>0.127607</td>\n",
       "      <td>0.076881</td>\n",
       "    </tr>\n",
       "    <tr>\n",
       "      <th>end_date</th>\n",
       "      <td>0.999999</td>\n",
       "      <td>1</td>\n",
       "      <td>0.075229</td>\n",
       "      <td>0.632543</td>\n",
       "      <td>0.49119</td>\n",
       "      <td>0.607776</td>\n",
       "      <td>0.479774</td>\n",
       "      <td>0.261454</td>\n",
       "      <td>0.127543</td>\n",
       "      <td>0.076822</td>\n",
       "    </tr>\n",
       "    <tr>\n",
       "      <th>salary</th>\n",
       "      <td>0.052848</td>\n",
       "      <td>0.075229</td>\n",
       "      <td>1</td>\n",
       "      <td>0.034669</td>\n",
       "      <td>0.076819</td>\n",
       "      <td>0.03533</td>\n",
       "      <td>-0.019272</td>\n",
       "      <td>0.165081</td>\n",
       "      <td>0.178307</td>\n",
       "      <td>0.175013</td>\n",
       "    </tr>\n",
       "    <tr>\n",
       "      <th>duration</th>\n",
       "      <td>-0.454971</td>\n",
       "      <td>0.632543</td>\n",
       "      <td>0.034669</td>\n",
       "      <td>1</td>\n",
       "      <td>-0.072228</td>\n",
       "      <td>-0.14864</td>\n",
       "      <td>-0.011698</td>\n",
       "      <td>0.202665</td>\n",
       "      <td>-0.042394</td>\n",
       "      <td>-0.035133</td>\n",
       "    </tr>\n",
       "    <tr>\n",
       "      <th>high_perc</th>\n",
       "      <td>0.491274</td>\n",
       "      <td>0.49119</td>\n",
       "      <td>0.076819</td>\n",
       "      <td>-0.072228</td>\n",
       "      <td>1</td>\n",
       "      <td>0.511472</td>\n",
       "      <td>0.434206</td>\n",
       "      <td>0.086045</td>\n",
       "      <td>0.245113</td>\n",
       "      <td>0.354823</td>\n",
       "    </tr>\n",
       "    <tr>\n",
       "      <th>second_perc</th>\n",
       "      <td>0.607926</td>\n",
       "      <td>0.607776</td>\n",
       "      <td>0.03533</td>\n",
       "      <td>-0.14864</td>\n",
       "      <td>0.511472</td>\n",
       "      <td>1</td>\n",
       "      <td>0.538404</td>\n",
       "      <td>0.157279</td>\n",
       "      <td>0.261993</td>\n",
       "      <td>0.388478</td>\n",
       "    </tr>\n",
       "    <tr>\n",
       "      <th>degree_perc</th>\n",
       "      <td>0.4798</td>\n",
       "      <td>0.479774</td>\n",
       "      <td>-0.019272</td>\n",
       "      <td>-0.011698</td>\n",
       "      <td>0.434206</td>\n",
       "      <td>0.538404</td>\n",
       "      <td>1</td>\n",
       "      <td>0.091014</td>\n",
       "      <td>0.22447</td>\n",
       "      <td>0.402364</td>\n",
       "    </tr>\n",
       "    <tr>\n",
       "      <th>experience_years</th>\n",
       "      <td>0.261207</td>\n",
       "      <td>0.261454</td>\n",
       "      <td>0.165081</td>\n",
       "      <td>0.202665</td>\n",
       "      <td>0.086045</td>\n",
       "      <td>0.157279</td>\n",
       "      <td>0.091014</td>\n",
       "      <td>1</td>\n",
       "      <td>0.046072</td>\n",
       "      <td>0.154234</td>\n",
       "    </tr>\n",
       "    <tr>\n",
       "      <th>employability_perc</th>\n",
       "      <td>0.127607</td>\n",
       "      <td>0.127543</td>\n",
       "      <td>0.178307</td>\n",
       "      <td>-0.042394</td>\n",
       "      <td>0.245113</td>\n",
       "      <td>0.261993</td>\n",
       "      <td>0.22447</td>\n",
       "      <td>0.046072</td>\n",
       "      <td>1</td>\n",
       "      <td>0.218055</td>\n",
       "    </tr>\n",
       "    <tr>\n",
       "      <th>mba_perc</th>\n",
       "      <td>0.076881</td>\n",
       "      <td>0.076822</td>\n",
       "      <td>0.175013</td>\n",
       "      <td>-0.035133</td>\n",
       "      <td>0.354823</td>\n",
       "      <td>0.388478</td>\n",
       "      <td>0.402364</td>\n",
       "      <td>0.154234</td>\n",
       "      <td>0.218055</td>\n",
       "      <td>1</td>\n",
       "    </tr>\n",
       "  </tbody>\n",
       "</table>\n",
       "</div>"
      ],
      "text/plain": [
       "                   start_date  end_date    salary  duration high_perc  \\\n",
       "start_date                  1  0.999999  0.052848 -0.454971  0.491274   \n",
       "end_date             0.999999         1  0.075229  0.632543   0.49119   \n",
       "salary               0.052848  0.075229         1  0.034669  0.076819   \n",
       "duration            -0.454971  0.632543  0.034669         1 -0.072228   \n",
       "high_perc            0.491274   0.49119  0.076819 -0.072228         1   \n",
       "second_perc          0.607926  0.607776   0.03533  -0.14864  0.511472   \n",
       "degree_perc            0.4798  0.479774 -0.019272 -0.011698  0.434206   \n",
       "experience_years     0.261207  0.261454  0.165081  0.202665  0.086045   \n",
       "employability_perc   0.127607  0.127543  0.178307 -0.042394  0.245113   \n",
       "mba_perc             0.076881  0.076822  0.175013 -0.035133  0.354823   \n",
       "\n",
       "                   second_perc degree_perc experience_years  \\\n",
       "start_date            0.607926      0.4798         0.261207   \n",
       "end_date              0.607776    0.479774         0.261454   \n",
       "salary                 0.03533   -0.019272         0.165081   \n",
       "duration              -0.14864   -0.011698         0.202665   \n",
       "high_perc             0.511472    0.434206         0.086045   \n",
       "second_perc                  1    0.538404         0.157279   \n",
       "degree_perc           0.538404           1         0.091014   \n",
       "experience_years      0.157279    0.091014                1   \n",
       "employability_perc    0.261993     0.22447         0.046072   \n",
       "mba_perc              0.388478    0.402364         0.154234   \n",
       "\n",
       "                   employability_perc  mba_perc  \n",
       "start_date                   0.127607  0.076881  \n",
       "end_date                     0.127543  0.076822  \n",
       "salary                       0.178307  0.175013  \n",
       "duration                    -0.042394 -0.035133  \n",
       "high_perc                    0.245113  0.354823  \n",
       "second_perc                  0.261993  0.388478  \n",
       "degree_perc                   0.22447  0.402364  \n",
       "experience_years             0.046072  0.154234  \n",
       "employability_perc                  1  0.218055  \n",
       "mba_perc                     0.218055         1  "
      ]
     },
     "execution_count": 19,
     "metadata": {},
     "output_type": "execute_result"
    }
   ],
   "source": [
    "import numpy as np\n",
    "heatmap = proper._get_correlation_matrix('Real Correlation')\n",
    "np.round(heatmap, 2)"
   ]
  },
  {
   "cell_type": "code",
   "execution_count": 11,
   "metadata": {},
   "outputs": [
    {
     "data": {
      "text/html": [
       "<div>\n",
       "<style scoped>\n",
       "    .dataframe tbody tr th:only-of-type {\n",
       "        vertical-align: middle;\n",
       "    }\n",
       "\n",
       "    .dataframe tbody tr th {\n",
       "        vertical-align: top;\n",
       "    }\n",
       "\n",
       "    .dataframe thead th {\n",
       "        text-align: right;\n",
       "    }\n",
       "</style>\n",
       "<table border=\"1\" class=\"dataframe\">\n",
       "  <thead>\n",
       "    <tr style=\"text-align: right;\">\n",
       "      <th></th>\n",
       "      <th>start_date</th>\n",
       "      <th>end_date</th>\n",
       "      <th>salary</th>\n",
       "      <th>duration</th>\n",
       "      <th>high_perc</th>\n",
       "      <th>second_perc</th>\n",
       "      <th>degree_perc</th>\n",
       "      <th>experience_years</th>\n",
       "      <th>employability_perc</th>\n",
       "      <th>mba_perc</th>\n",
       "    </tr>\n",
       "  </thead>\n",
       "  <tbody>\n",
       "    <tr>\n",
       "      <th>start_date</th>\n",
       "      <td>1</td>\n",
       "      <td>0.999999</td>\n",
       "      <td>0.052848</td>\n",
       "      <td>-0.454971</td>\n",
       "      <td>0.491274</td>\n",
       "      <td>0.607926</td>\n",
       "      <td>0.4798</td>\n",
       "      <td>0.261207</td>\n",
       "      <td>0.127607</td>\n",
       "      <td>0.076881</td>\n",
       "    </tr>\n",
       "    <tr>\n",
       "      <th>end_date</th>\n",
       "      <td>0.999999</td>\n",
       "      <td>1</td>\n",
       "      <td>0.075229</td>\n",
       "      <td>0.632543</td>\n",
       "      <td>0.49119</td>\n",
       "      <td>0.607776</td>\n",
       "      <td>0.479774</td>\n",
       "      <td>0.261454</td>\n",
       "      <td>0.127543</td>\n",
       "      <td>0.076822</td>\n",
       "    </tr>\n",
       "    <tr>\n",
       "      <th>salary</th>\n",
       "      <td>0.052848</td>\n",
       "      <td>0.075229</td>\n",
       "      <td>1</td>\n",
       "      <td>0.034669</td>\n",
       "      <td>0.076819</td>\n",
       "      <td>0.03533</td>\n",
       "      <td>-0.019272</td>\n",
       "      <td>0.165081</td>\n",
       "      <td>0.178307</td>\n",
       "      <td>0.175013</td>\n",
       "    </tr>\n",
       "    <tr>\n",
       "      <th>duration</th>\n",
       "      <td>-0.454971</td>\n",
       "      <td>0.632543</td>\n",
       "      <td>0.034669</td>\n",
       "      <td>1</td>\n",
       "      <td>-0.072228</td>\n",
       "      <td>-0.14864</td>\n",
       "      <td>-0.011698</td>\n",
       "      <td>0.202665</td>\n",
       "      <td>-0.042394</td>\n",
       "      <td>-0.035133</td>\n",
       "    </tr>\n",
       "    <tr>\n",
       "      <th>high_perc</th>\n",
       "      <td>0.491274</td>\n",
       "      <td>0.49119</td>\n",
       "      <td>0.076819</td>\n",
       "      <td>-0.072228</td>\n",
       "      <td>1</td>\n",
       "      <td>0.511472</td>\n",
       "      <td>0.434206</td>\n",
       "      <td>0.086045</td>\n",
       "      <td>0.245113</td>\n",
       "      <td>0.354823</td>\n",
       "    </tr>\n",
       "    <tr>\n",
       "      <th>second_perc</th>\n",
       "      <td>0.607926</td>\n",
       "      <td>0.607776</td>\n",
       "      <td>0.03533</td>\n",
       "      <td>-0.14864</td>\n",
       "      <td>0.511472</td>\n",
       "      <td>1</td>\n",
       "      <td>0.538404</td>\n",
       "      <td>0.157279</td>\n",
       "      <td>0.261993</td>\n",
       "      <td>0.388478</td>\n",
       "    </tr>\n",
       "    <tr>\n",
       "      <th>degree_perc</th>\n",
       "      <td>0.4798</td>\n",
       "      <td>0.479774</td>\n",
       "      <td>-0.019272</td>\n",
       "      <td>-0.011698</td>\n",
       "      <td>0.434206</td>\n",
       "      <td>0.538404</td>\n",
       "      <td>1</td>\n",
       "      <td>0.091014</td>\n",
       "      <td>0.22447</td>\n",
       "      <td>0.402364</td>\n",
       "    </tr>\n",
       "    <tr>\n",
       "      <th>experience_years</th>\n",
       "      <td>0.261207</td>\n",
       "      <td>0.261454</td>\n",
       "      <td>0.165081</td>\n",
       "      <td>0.202665</td>\n",
       "      <td>0.086045</td>\n",
       "      <td>0.157279</td>\n",
       "      <td>0.091014</td>\n",
       "      <td>1</td>\n",
       "      <td>0.046072</td>\n",
       "      <td>0.154234</td>\n",
       "    </tr>\n",
       "    <tr>\n",
       "      <th>employability_perc</th>\n",
       "      <td>0.127607</td>\n",
       "      <td>0.127543</td>\n",
       "      <td>0.178307</td>\n",
       "      <td>-0.042394</td>\n",
       "      <td>0.245113</td>\n",
       "      <td>0.261993</td>\n",
       "      <td>0.22447</td>\n",
       "      <td>0.046072</td>\n",
       "      <td>1</td>\n",
       "      <td>0.218055</td>\n",
       "    </tr>\n",
       "    <tr>\n",
       "      <th>mba_perc</th>\n",
       "      <td>0.076881</td>\n",
       "      <td>0.076822</td>\n",
       "      <td>0.175013</td>\n",
       "      <td>-0.035133</td>\n",
       "      <td>0.354823</td>\n",
       "      <td>0.388478</td>\n",
       "      <td>0.402364</td>\n",
       "      <td>0.154234</td>\n",
       "      <td>0.218055</td>\n",
       "      <td>1</td>\n",
       "    </tr>\n",
       "  </tbody>\n",
       "</table>\n",
       "</div>"
      ],
      "text/plain": [
       "                   start_date  end_date    salary  duration high_perc  \\\n",
       "start_date                  1  0.999999  0.052848 -0.454971  0.491274   \n",
       "end_date             0.999999         1  0.075229  0.632543   0.49119   \n",
       "salary               0.052848  0.075229         1  0.034669  0.076819   \n",
       "duration            -0.454971  0.632543  0.034669         1 -0.072228   \n",
       "high_perc            0.491274   0.49119  0.076819 -0.072228         1   \n",
       "second_perc          0.607926  0.607776   0.03533  -0.14864  0.511472   \n",
       "degree_perc            0.4798  0.479774 -0.019272 -0.011698  0.434206   \n",
       "experience_years     0.261207  0.261454  0.165081  0.202665  0.086045   \n",
       "employability_perc   0.127607  0.127543  0.178307 -0.042394  0.245113   \n",
       "mba_perc             0.076881  0.076822  0.175013 -0.035133  0.354823   \n",
       "\n",
       "                   second_perc degree_perc experience_years  \\\n",
       "start_date            0.607926      0.4798         0.261207   \n",
       "end_date              0.607776    0.479774         0.261454   \n",
       "salary                 0.03533   -0.019272         0.165081   \n",
       "duration              -0.14864   -0.011698         0.202665   \n",
       "high_perc             0.511472    0.434206         0.086045   \n",
       "second_perc                  1    0.538404         0.157279   \n",
       "degree_perc           0.538404           1         0.091014   \n",
       "experience_years      0.157279    0.091014                1   \n",
       "employability_perc    0.261993     0.22447         0.046072   \n",
       "mba_perc              0.388478    0.402364         0.154234   \n",
       "\n",
       "                   employability_perc  mba_perc  \n",
       "start_date                   0.127607  0.076881  \n",
       "end_date                     0.127543  0.076822  \n",
       "salary                       0.178307  0.175013  \n",
       "duration                    -0.042394 -0.035133  \n",
       "high_perc                    0.245113  0.354823  \n",
       "second_perc                  0.261993  0.388478  \n",
       "degree_perc                   0.22447  0.402364  \n",
       "experience_years             0.046072  0.154234  \n",
       "employability_perc                  1  0.218055  \n",
       "mba_perc                     0.218055         1  "
      ]
     },
     "execution_count": 11,
     "metadata": {},
     "output_type": "execute_result"
    }
   ],
   "source": [
    "heatmap"
   ]
  },
  {
   "cell_type": "code",
   "execution_count": 9,
   "metadata": {},
   "outputs": [
    {
     "data": {
      "text/html": [
       "<div>\n",
       "<style scoped>\n",
       "    .dataframe tbody tr th:only-of-type {\n",
       "        vertical-align: middle;\n",
       "    }\n",
       "\n",
       "    .dataframe tbody tr th {\n",
       "        vertical-align: top;\n",
       "    }\n",
       "\n",
       "    .dataframe thead th {\n",
       "        text-align: right;\n",
       "    }\n",
       "</style>\n",
       "<table border=\"1\" class=\"dataframe\">\n",
       "  <thead>\n",
       "    <tr style=\"text-align: right;\">\n",
       "      <th></th>\n",
       "      <th>start_date</th>\n",
       "      <th>end_date</th>\n",
       "      <th>salary</th>\n",
       "      <th>duration</th>\n",
       "      <th>high_perc</th>\n",
       "      <th>second_perc</th>\n",
       "      <th>degree_perc</th>\n",
       "      <th>experience_years</th>\n",
       "      <th>employability_perc</th>\n",
       "      <th>mba_perc</th>\n",
       "    </tr>\n",
       "  </thead>\n",
       "  <tbody>\n",
       "    <tr>\n",
       "      <th>start_date</th>\n",
       "      <td>1</td>\n",
       "      <td>0.79738</td>\n",
       "      <td>0.059996</td>\n",
       "      <td>-0.039527</td>\n",
       "      <td>-0.201716</td>\n",
       "      <td>-0.104788</td>\n",
       "      <td>-0.225623</td>\n",
       "      <td>0.306855</td>\n",
       "      <td>-0.176531</td>\n",
       "      <td>0.000171</td>\n",
       "    </tr>\n",
       "    <tr>\n",
       "      <th>end_date</th>\n",
       "      <td>0.79738</td>\n",
       "      <td>1</td>\n",
       "      <td>0.044984</td>\n",
       "      <td>-0.002956</td>\n",
       "      <td>-0.159478</td>\n",
       "      <td>-0.092461</td>\n",
       "      <td>-0.182307</td>\n",
       "      <td>0.297424</td>\n",
       "      <td>-0.186206</td>\n",
       "      <td>0.059937</td>\n",
       "    </tr>\n",
       "    <tr>\n",
       "      <th>salary</th>\n",
       "      <td>0.059996</td>\n",
       "      <td>0.044984</td>\n",
       "      <td>1</td>\n",
       "      <td>0.088571</td>\n",
       "      <td>0.163097</td>\n",
       "      <td>0.100098</td>\n",
       "      <td>-0.112772</td>\n",
       "      <td>0.155996</td>\n",
       "      <td>0.031811</td>\n",
       "      <td>-0.09919</td>\n",
       "    </tr>\n",
       "    <tr>\n",
       "      <th>duration</th>\n",
       "      <td>-0.039527</td>\n",
       "      <td>-0.002956</td>\n",
       "      <td>0.088571</td>\n",
       "      <td>1</td>\n",
       "      <td>-0.036566</td>\n",
       "      <td>0.044933</td>\n",
       "      <td>0.141651</td>\n",
       "      <td>0.127274</td>\n",
       "      <td>0.133925</td>\n",
       "      <td>0.059484</td>\n",
       "    </tr>\n",
       "    <tr>\n",
       "      <th>high_perc</th>\n",
       "      <td>-0.201716</td>\n",
       "      <td>-0.159478</td>\n",
       "      <td>0.163097</td>\n",
       "      <td>-0.036566</td>\n",
       "      <td>1</td>\n",
       "      <td>-0.233</td>\n",
       "      <td>0.156474</td>\n",
       "      <td>-0.031583</td>\n",
       "      <td>0.071897</td>\n",
       "      <td>-0.019715</td>\n",
       "    </tr>\n",
       "    <tr>\n",
       "      <th>second_perc</th>\n",
       "      <td>-0.104788</td>\n",
       "      <td>-0.092461</td>\n",
       "      <td>0.100098</td>\n",
       "      <td>0.044933</td>\n",
       "      <td>-0.233</td>\n",
       "      <td>1</td>\n",
       "      <td>0.081369</td>\n",
       "      <td>0.028221</td>\n",
       "      <td>0.142578</td>\n",
       "      <td>0.0481</td>\n",
       "    </tr>\n",
       "    <tr>\n",
       "      <th>degree_perc</th>\n",
       "      <td>-0.225623</td>\n",
       "      <td>-0.182307</td>\n",
       "      <td>-0.112772</td>\n",
       "      <td>0.141651</td>\n",
       "      <td>0.156474</td>\n",
       "      <td>0.081369</td>\n",
       "      <td>1</td>\n",
       "      <td>-0.059473</td>\n",
       "      <td>0.059914</td>\n",
       "      <td>0.153392</td>\n",
       "    </tr>\n",
       "    <tr>\n",
       "      <th>experience_years</th>\n",
       "      <td>0.306855</td>\n",
       "      <td>0.297424</td>\n",
       "      <td>0.155996</td>\n",
       "      <td>0.127274</td>\n",
       "      <td>-0.031583</td>\n",
       "      <td>0.028221</td>\n",
       "      <td>-0.059473</td>\n",
       "      <td>1</td>\n",
       "      <td>0.015717</td>\n",
       "      <td>0.031989</td>\n",
       "    </tr>\n",
       "    <tr>\n",
       "      <th>employability_perc</th>\n",
       "      <td>-0.176531</td>\n",
       "      <td>-0.186206</td>\n",
       "      <td>0.031811</td>\n",
       "      <td>0.133925</td>\n",
       "      <td>0.071897</td>\n",
       "      <td>0.142578</td>\n",
       "      <td>0.059914</td>\n",
       "      <td>0.015717</td>\n",
       "      <td>1</td>\n",
       "      <td>-0.016772</td>\n",
       "    </tr>\n",
       "    <tr>\n",
       "      <th>mba_perc</th>\n",
       "      <td>0.000171</td>\n",
       "      <td>0.059937</td>\n",
       "      <td>-0.09919</td>\n",
       "      <td>0.059484</td>\n",
       "      <td>-0.019715</td>\n",
       "      <td>0.0481</td>\n",
       "      <td>0.153392</td>\n",
       "      <td>0.031989</td>\n",
       "      <td>-0.016772</td>\n",
       "      <td>1</td>\n",
       "    </tr>\n",
       "  </tbody>\n",
       "</table>\n",
       "</div>"
      ],
      "text/plain": [
       "                   start_date  end_date    salary  duration high_perc  \\\n",
       "start_date                  1   0.79738  0.059996 -0.039527 -0.201716   \n",
       "end_date              0.79738         1  0.044984 -0.002956 -0.159478   \n",
       "salary               0.059996  0.044984         1  0.088571  0.163097   \n",
       "duration            -0.039527 -0.002956  0.088571         1 -0.036566   \n",
       "high_perc           -0.201716 -0.159478  0.163097 -0.036566         1   \n",
       "second_perc         -0.104788 -0.092461  0.100098  0.044933    -0.233   \n",
       "degree_perc         -0.225623 -0.182307 -0.112772  0.141651  0.156474   \n",
       "experience_years     0.306855  0.297424  0.155996  0.127274 -0.031583   \n",
       "employability_perc  -0.176531 -0.186206  0.031811  0.133925  0.071897   \n",
       "mba_perc             0.000171  0.059937  -0.09919  0.059484 -0.019715   \n",
       "\n",
       "                   second_perc degree_perc experience_years  \\\n",
       "start_date           -0.104788   -0.225623         0.306855   \n",
       "end_date             -0.092461   -0.182307         0.297424   \n",
       "salary                0.100098   -0.112772         0.155996   \n",
       "duration              0.044933    0.141651         0.127274   \n",
       "high_perc               -0.233    0.156474        -0.031583   \n",
       "second_perc                  1    0.081369         0.028221   \n",
       "degree_perc           0.081369           1        -0.059473   \n",
       "experience_years      0.028221   -0.059473                1   \n",
       "employability_perc    0.142578    0.059914         0.015717   \n",
       "mba_perc                0.0481    0.153392         0.031989   \n",
       "\n",
       "                   employability_perc  mba_perc  \n",
       "start_date                  -0.176531  0.000171  \n",
       "end_date                    -0.186206  0.059937  \n",
       "salary                       0.031811  -0.09919  \n",
       "duration                     0.133925  0.059484  \n",
       "high_perc                    0.071897 -0.019715  \n",
       "second_perc                  0.142578    0.0481  \n",
       "degree_perc                  0.059914  0.153392  \n",
       "experience_years             0.015717  0.031989  \n",
       "employability_perc                  1 -0.016772  \n",
       "mba_perc                    -0.016772         1  "
      ]
     },
     "execution_count": 9,
     "metadata": {},
     "output_type": "execute_result"
    }
   ],
   "source": [
    "proper._get_correlation_matrix('Synthetic Correlation')"
   ]
  },
  {
   "cell_type": "code",
   "execution_count": 10,
   "metadata": {},
   "outputs": [
    {
     "ename": "ValueError",
     "evalue": "Invalid column name for _get_correlation_matrix : 'Real correlation'",
     "output_type": "error",
     "traceback": [
      "\u001b[0;31m---------------------------------------------------------------------------\u001b[0m",
      "\u001b[0;31mValueError\u001b[0m                                Traceback (most recent call last)",
      "Cell \u001b[0;32mIn[10], line 1\u001b[0m\n\u001b[0;32m----> 1\u001b[0m proper\u001b[39m.\u001b[39;49mget_visualization()\n",
      "File \u001b[0;32m~/Desktop/SDMetrics/sdmetrics/reports/single_table/_properties/column_pair_trends.py:153\u001b[0m, in \u001b[0;36mColumnPairTrends.get_visualization\u001b[0;34m(self)\u001b[0m\n\u001b[1;32m    150\u001b[0m average_score \u001b[39m=\u001b[39m \u001b[39mself\u001b[39m\u001b[39m.\u001b[39m_compute_average()\n\u001b[1;32m    152\u001b[0m similarity_correlation \u001b[39m=\u001b[39m \u001b[39mself\u001b[39m\u001b[39m.\u001b[39m_get_correlation_matrix(\u001b[39m'\u001b[39m\u001b[39mScore\u001b[39m\u001b[39m'\u001b[39m)\n\u001b[0;32m--> 153\u001b[0m real_correlation \u001b[39m=\u001b[39m \u001b[39mself\u001b[39;49m\u001b[39m.\u001b[39;49m_get_correlation_matrix(\u001b[39m'\u001b[39;49m\u001b[39mReal correlation\u001b[39;49m\u001b[39m'\u001b[39;49m)\n\u001b[1;32m    154\u001b[0m synthetic_correlation \u001b[39m=\u001b[39m \u001b[39mself\u001b[39m\u001b[39m.\u001b[39m_get_correlation_matrix(\u001b[39m'\u001b[39m\u001b[39mSynthetic correlation\u001b[39m\u001b[39m'\u001b[39m)\n\u001b[1;32m    156\u001b[0m fig \u001b[39m=\u001b[39m make_subplots(\n\u001b[1;32m    157\u001b[0m     rows\u001b[39m=\u001b[39m\u001b[39m2\u001b[39m,\n\u001b[1;32m    158\u001b[0m     cols\u001b[39m=\u001b[39m\u001b[39m2\u001b[39m,\n\u001b[0;32m   (...)\u001b[0m\n\u001b[1;32m    163\u001b[0m     ],\n\u001b[1;32m    164\u001b[0m     specs\u001b[39m=\u001b[39m[[{\u001b[39m'\u001b[39m\u001b[39mcolspan\u001b[39m\u001b[39m'\u001b[39m: \u001b[39m2\u001b[39m, \u001b[39m'\u001b[39m\u001b[39ml\u001b[39m\u001b[39m'\u001b[39m: \u001b[39m0.26\u001b[39m, \u001b[39m'\u001b[39m\u001b[39mr\u001b[39m\u001b[39m'\u001b[39m: \u001b[39m0.26\u001b[39m}, \u001b[39mNone\u001b[39;00m], [{}, {}]])\n",
      "File \u001b[0;32m~/Desktop/SDMetrics/sdmetrics/reports/single_table/_properties/column_pair_trends.py:109\u001b[0m, in \u001b[0;36mColumnPairTrends._get_correlation_matrix\u001b[0;34m(self, column_name)\u001b[0m\n\u001b[1;32m    106\u001b[0m \u001b[39mdef\u001b[39;00m \u001b[39m_get_correlation_matrix\u001b[39m(\u001b[39mself\u001b[39m, column_name):\n\u001b[1;32m    108\u001b[0m     \u001b[39mif\u001b[39;00m column_name \u001b[39mnot\u001b[39;00m \u001b[39min\u001b[39;00m [\u001b[39m'\u001b[39m\u001b[39mScore\u001b[39m\u001b[39m'\u001b[39m, \u001b[39m'\u001b[39m\u001b[39mReal Correlation\u001b[39m\u001b[39m'\u001b[39m, \u001b[39m'\u001b[39m\u001b[39mSynthetic Correlation\u001b[39m\u001b[39m'\u001b[39m]:\n\u001b[0;32m--> 109\u001b[0m         \u001b[39mraise\u001b[39;00m \u001b[39mValueError\u001b[39;00m(\u001b[39mf\u001b[39m\u001b[39m\"\u001b[39m\u001b[39mInvalid column name for _get_correlation_matrix : \u001b[39m\u001b[39m'\u001b[39m\u001b[39m{\u001b[39;00mcolumn_name\u001b[39m}\u001b[39;00m\u001b[39m'\u001b[39m\u001b[39m\"\u001b[39m)\n\u001b[1;32m    111\u001b[0m     table \u001b[39m=\u001b[39m \u001b[39mself\u001b[39m\u001b[39m.\u001b[39m_details\u001b[39m.\u001b[39mdropna(subset\u001b[39m=\u001b[39m[column_name])\n\u001b[1;32m    112\u001b[0m     names \u001b[39m=\u001b[39m \u001b[39mlist\u001b[39m(pd\u001b[39m.\u001b[39mconcat([table[\u001b[39m'\u001b[39m\u001b[39mColumn 1\u001b[39m\u001b[39m'\u001b[39m], table[\u001b[39m'\u001b[39m\u001b[39mColumn 2\u001b[39m\u001b[39m'\u001b[39m]])\u001b[39m.\u001b[39munique())\n",
      "\u001b[0;31mValueError\u001b[0m: Invalid column name for _get_correlation_matrix : 'Real correlation'"
     ]
    }
   ],
   "source": [
    "proper.get_visualization()"
   ]
  },
  {
   "cell_type": "code",
   "execution_count": 9,
   "metadata": {},
   "outputs": [
    {
     "data": {
      "text/plain": [
       "136"
      ]
     },
     "execution_count": 9,
     "metadata": {},
     "output_type": "execute_result"
    }
   ],
   "source": [
    "len(details_2['Score'].dropna())"
   ]
  },
  {
   "cell_type": "code",
   "execution_count": 6,
   "metadata": {},
   "outputs": [
    {
     "data": {
      "text/plain": [
       "48"
      ]
     },
     "execution_count": 6,
     "metadata": {},
     "output_type": "execute_result"
    }
   ],
   "source": [
    "len(details_2.loc[details_2['Metric'] == 'CorrelationSimilarity'])"
   ]
  },
  {
   "cell_type": "code",
   "execution_count": 4,
   "metadata": {},
   "outputs": [
    {
     "data": {
      "text/plain": [
       "(215, 17)"
      ]
     },
     "execution_count": 4,
     "metadata": {},
     "output_type": "execute_result"
    }
   ],
   "source": [
    "real_data.shape"
   ]
  },
  {
   "cell_type": "code",
   "execution_count": 5,
   "metadata": {},
   "outputs": [
    {
     "ename": "TypeError",
     "evalue": "unsupported operand type(s) for +: 'float' and 'str'",
     "output_type": "error",
     "traceback": [
      "\u001b[0;31m---------------------------------------------------------------------------\u001b[0m",
      "\u001b[0;31mTypeError\u001b[0m                                 Traceback (most recent call last)",
      "Cell \u001b[0;32mIn[5], line 5\u001b[0m\n\u001b[1;32m      1\u001b[0m \u001b[39mfrom\u001b[39;00m \u001b[39msdmetrics\u001b[39;00m\u001b[39m.\u001b[39;00m\u001b[39msingle_table\u001b[39;00m \u001b[39mimport\u001b[39;00m (\n\u001b[1;32m      2\u001b[0m     ContingencySimilarity, CorrelationSimilarity, KSComplement, TVComplement)\n\u001b[1;32m      4\u001b[0m \u001b[39mfrom\u001b[39;00m \u001b[39msdmetrics\u001b[39;00m\u001b[39m.\u001b[39;00m\u001b[39mcolumn_pairs\u001b[39;00m\u001b[39m.\u001b[39;00m\u001b[39mstatistical\u001b[39;00m\u001b[39m.\u001b[39;00m\u001b[39mcorrelation_similarity\u001b[39;00m \u001b[39mimport\u001b[39;00m CorrelationSimilarity\n\u001b[0;32m----> 5\u001b[0m t \u001b[39m=\u001b[39m CorrelationSimilarity\u001b[39m.\u001b[39;49mcompute_breakdown(\n\u001b[1;32m      6\u001b[0m     real_data[[\u001b[39m'\u001b[39;49m\u001b[39mstart_date\u001b[39;49m\u001b[39m'\u001b[39;49m, \u001b[39m'\u001b[39;49m\u001b[39mend_date\u001b[39;49m\u001b[39m'\u001b[39;49m]], synthetic_data[[\u001b[39m'\u001b[39;49m\u001b[39mstart_date\u001b[39;49m\u001b[39m'\u001b[39;49m, \u001b[39m'\u001b[39;49m\u001b[39mend_date\u001b[39;49m\u001b[39m'\u001b[39;49m]])\n",
      "File \u001b[0;32m~/Desktop/SDMetrics/sdmetrics/column_pairs/statistical/correlation_similarity.py:103\u001b[0m, in \u001b[0;36mCorrelationSimilarity.compute_breakdown\u001b[0;34m(cls, real_data, synthetic_data, coefficient)\u001b[0m\n\u001b[1;32m     99\u001b[0m \u001b[39melse\u001b[39;00m:\n\u001b[1;32m    100\u001b[0m     \u001b[39mraise\u001b[39;00m \u001b[39mValueError\u001b[39;00m(\u001b[39mf\u001b[39m\u001b[39m'\u001b[39m\u001b[39mrequested coefficient \u001b[39m\u001b[39m{\u001b[39;00mcoefficient\u001b[39m}\u001b[39;00m\u001b[39m is not valid. \u001b[39m\u001b[39m'\u001b[39m\n\u001b[1;32m    101\u001b[0m                      \u001b[39m'\u001b[39m\u001b[39mPlease choose either Pearson or Spearman.\u001b[39m\u001b[39m'\u001b[39m)\n\u001b[0;32m--> 103\u001b[0m correlation_real, _ \u001b[39m=\u001b[39m correlation_fn(real_data[column1], real_data[column2])\n\u001b[1;32m    104\u001b[0m correlation_synthetic, _ \u001b[39m=\u001b[39m correlation_fn(synthetic_data[column1], synthetic_data[column2])\n\u001b[1;32m    106\u001b[0m \u001b[39mif\u001b[39;00m np\u001b[39m.\u001b[39misnan(correlation_real) \u001b[39mor\u001b[39;00m np\u001b[39m.\u001b[39misnan(correlation_synthetic):\n",
      "File \u001b[0;32m~/miniconda3/envs/Issue_355_column_shape_property/lib/python3.9/site-packages/scipy/stats/_stats_py.py:4432\u001b[0m, in \u001b[0;36mpearsonr\u001b[0;34m(x, y, alternative)\u001b[0m\n\u001b[1;32m   4427\u001b[0m     \u001b[39mreturn\u001b[39;00m result\n\u001b[1;32m   4429\u001b[0m \u001b[39m# dtype is the data type for the calculations.  This expression ensures\u001b[39;00m\n\u001b[1;32m   4430\u001b[0m \u001b[39m# that the data type is at least 64 bit floating point.  It might have\u001b[39;00m\n\u001b[1;32m   4431\u001b[0m \u001b[39m# more precision if the input is, for example, np.longdouble.\u001b[39;00m\n\u001b[0;32m-> 4432\u001b[0m dtype \u001b[39m=\u001b[39m \u001b[39mtype\u001b[39m(\u001b[39m1.0\u001b[39;49m \u001b[39m+\u001b[39;49m x[\u001b[39m0\u001b[39;49m] \u001b[39m+\u001b[39m y[\u001b[39m0\u001b[39m])\n\u001b[1;32m   4434\u001b[0m \u001b[39mif\u001b[39;00m n \u001b[39m==\u001b[39m \u001b[39m2\u001b[39m:\n\u001b[1;32m   4435\u001b[0m     r \u001b[39m=\u001b[39m dtype(np\u001b[39m.\u001b[39msign(x[\u001b[39m1\u001b[39m] \u001b[39m-\u001b[39m x[\u001b[39m0\u001b[39m])\u001b[39m*\u001b[39mnp\u001b[39m.\u001b[39msign(y[\u001b[39m1\u001b[39m] \u001b[39m-\u001b[39m y[\u001b[39m0\u001b[39m]))\n",
      "\u001b[0;31mTypeError\u001b[0m: unsupported operand type(s) for +: 'float' and 'str'"
     ]
    }
   ],
   "source": [
    "from sdmetrics.single_table import (\n",
    "    ContingencySimilarity, CorrelationSimilarity, KSComplement, TVComplement)\n",
    "\n",
    "from sdmetrics.column_pairs.statistical.correlation_similarity import CorrelationSimilarity\n",
    "t = CorrelationSimilarity.compute_breakdown(\n",
    "    real_data[['start_date', 'end_date']], synthetic_data[['start_date', 'end_date']])\n"
   ]
  },
  {
   "cell_type": "code",
   "execution_count": 9,
   "metadata": {},
   "outputs": [
    {
     "data": {
      "text/plain": [
       "120"
      ]
     },
     "execution_count": 9,
     "metadata": {},
     "output_type": "execute_result"
    }
   ],
   "source": [
    "details = report.get_details(property_name='Column Pair Trends')['Quality Score'].dropna()\n",
    "len(details)"
   ]
  },
  {
   "cell_type": "code",
   "execution_count": 18,
   "metadata": {},
   "outputs": [
    {
     "data": {
      "text/plain": [
       "PearsonRResult(statistic=-0.09052251410529105, pvalue=0.18606850772371628)"
      ]
     },
     "execution_count": 18,
     "metadata": {},
     "output_type": "execute_result"
    }
   ],
   "source": [
    "t1 = pd.to_datetime(real_data['start_date'])\n",
    "t2 = pd.to_datetime(synthetic_data['start_date'])\n",
    "\n",
    "\n",
    "pearsonr(t1.astype(int) / 10**9, t2.astype(int) / 10**9)"
   ]
  },
  {
   "cell_type": "code",
   "execution_count": 9,
   "metadata": {},
   "outputs": [
    {
     "ename": "TypeError",
     "evalue": "unsupported operand type(s) for +: 'float' and 'str'",
     "output_type": "error",
     "traceback": [
      "\u001b[0;31m---------------------------------------------------------------------------\u001b[0m",
      "\u001b[0;31mTypeError\u001b[0m                                 Traceback (most recent call last)",
      "Cell \u001b[0;32mIn[9], line 3\u001b[0m\n\u001b[1;32m      1\u001b[0m \u001b[39mfrom\u001b[39;00m \u001b[39mscipy\u001b[39;00m\u001b[39m.\u001b[39;00m\u001b[39mstats\u001b[39;00m \u001b[39mimport\u001b[39;00m pearsonr, spearmanr\n\u001b[0;32m----> 3\u001b[0m pearsonr(real_data[\u001b[39m'\u001b[39;49m\u001b[39mstart_date\u001b[39;49m\u001b[39m'\u001b[39;49m], real_data[\u001b[39m'\u001b[39;49m\u001b[39mend_date\u001b[39;49m\u001b[39m'\u001b[39;49m])[\u001b[39m0\u001b[39m]\n",
      "File \u001b[0;32m~/miniconda3/envs/Issue_355_column_shape_property/lib/python3.9/site-packages/scipy/stats/_stats_py.py:4432\u001b[0m, in \u001b[0;36mpearsonr\u001b[0;34m(x, y, alternative)\u001b[0m\n\u001b[1;32m   4427\u001b[0m     \u001b[39mreturn\u001b[39;00m result\n\u001b[1;32m   4429\u001b[0m \u001b[39m# dtype is the data type for the calculations.  This expression ensures\u001b[39;00m\n\u001b[1;32m   4430\u001b[0m \u001b[39m# that the data type is at least 64 bit floating point.  It might have\u001b[39;00m\n\u001b[1;32m   4431\u001b[0m \u001b[39m# more precision if the input is, for example, np.longdouble.\u001b[39;00m\n\u001b[0;32m-> 4432\u001b[0m dtype \u001b[39m=\u001b[39m \u001b[39mtype\u001b[39m(\u001b[39m1.0\u001b[39;49m \u001b[39m+\u001b[39;49m x[\u001b[39m0\u001b[39;49m] \u001b[39m+\u001b[39m y[\u001b[39m0\u001b[39m])\n\u001b[1;32m   4434\u001b[0m \u001b[39mif\u001b[39;00m n \u001b[39m==\u001b[39m \u001b[39m2\u001b[39m:\n\u001b[1;32m   4435\u001b[0m     r \u001b[39m=\u001b[39m dtype(np\u001b[39m.\u001b[39msign(x[\u001b[39m1\u001b[39m] \u001b[39m-\u001b[39m x[\u001b[39m0\u001b[39m])\u001b[39m*\u001b[39mnp\u001b[39m.\u001b[39msign(y[\u001b[39m1\u001b[39m] \u001b[39m-\u001b[39m y[\u001b[39m0\u001b[39m]))\n",
      "\u001b[0;31mTypeError\u001b[0m: unsupported operand type(s) for +: 'float' and 'str'"
     ]
    }
   ],
   "source": [
    "from scipy.stats import pearsonr, spearmanr\n",
    "\n",
    "pearsonr(real_data['start_date'], real_data['end_date'])[0]"
   ]
  },
  {
   "cell_type": "code",
   "execution_count": 8,
   "metadata": {},
   "outputs": [
    {
     "data": {
      "text/plain": [
       "0.7906976744186047"
      ]
     },
     "execution_count": 8,
     "metadata": {},
     "output_type": "execute_result"
    }
   ],
   "source": [
    "from sdmetrics.column_pairs.statistical.contingency_similarity import ContingencySimilarity\n",
    "from sdmetrics.reports.utils import discretize_table_data\n",
    "\n",
    "discrete_real, discrete_synthetic, _ = discretize_table_data(\n",
    "            real_data, synthetic_data, metadata\n",
    "        )\n",
    "ContingencySimilarity.compute(discrete_real[['salary', 'mba_spec']], discrete_synthetic[['salary', 'mba_spec']])\n"
   ]
  },
  {
   "cell_type": "code",
   "execution_count": 3,
   "metadata": {},
   "outputs": [
    {
     "name": "stderr",
     "output_type": "stream",
     "text": [
      "136it [00:00, 191.47it/s]\n"
     ]
    },
    {
     "data": {
      "text/plain": [
       "0.804"
      ]
     },
     "execution_count": 3,
     "metadata": {},
     "output_type": "execute_result"
    }
   ],
   "source": [
    "from sdmetrics.reports.single_table._properties.column_pair_trends import ColumnPairTrends\n",
    "\n",
    "proper = ColumnPairTrends()\n",
    "proper.get_score(real_data, synthetic_data, metadata)\n"
   ]
  },
  {
   "cell_type": "code",
   "execution_count": 8,
   "metadata": {},
   "outputs": [
    {
     "data": {
      "text/html": [
       "<div>\n",
       "<style scoped>\n",
       "    .dataframe tbody tr th:only-of-type {\n",
       "        vertical-align: middle;\n",
       "    }\n",
       "\n",
       "    .dataframe tbody tr th {\n",
       "        vertical-align: top;\n",
       "    }\n",
       "\n",
       "    .dataframe thead th {\n",
       "        text-align: right;\n",
       "    }\n",
       "</style>\n",
       "<table border=\"1\" class=\"dataframe\">\n",
       "  <thead>\n",
       "    <tr style=\"text-align: right;\">\n",
       "      <th></th>\n",
       "      <th>Column name 1</th>\n",
       "      <th>Column name 2</th>\n",
       "      <th>Metric</th>\n",
       "      <th>Score</th>\n",
       "      <th>Real correlation</th>\n",
       "      <th>Synthetic correlation</th>\n",
       "    </tr>\n",
       "  </thead>\n",
       "  <tbody>\n",
       "    <tr>\n",
       "      <th>0</th>\n",
       "      <td>start_date</td>\n",
       "      <td>end_date</td>\n",
       "      <td>CorrelationSimilarity</td>\n",
       "      <td>0.898691</td>\n",
       "      <td>0.999999</td>\n",
       "      <td>0.797380</td>\n",
       "    </tr>\n",
       "    <tr>\n",
       "      <th>1</th>\n",
       "      <td>start_date</td>\n",
       "      <td>salary</td>\n",
       "      <td>CorrelationSimilarity</td>\n",
       "      <td>0.996426</td>\n",
       "      <td>NaN</td>\n",
       "      <td>NaN</td>\n",
       "    </tr>\n",
       "    <tr>\n",
       "      <th>2</th>\n",
       "      <td>start_date</td>\n",
       "      <td>duration</td>\n",
       "      <td>CorrelationSimilarity</td>\n",
       "      <td>0.792278</td>\n",
       "      <td>NaN</td>\n",
       "      <td>NaN</td>\n",
       "    </tr>\n",
       "    <tr>\n",
       "      <th>3</th>\n",
       "      <td>start_date</td>\n",
       "      <td>student_id</td>\n",
       "      <td>CorrelationSimilarity</td>\n",
       "      <td>0.792278</td>\n",
       "      <td>-0.026862</td>\n",
       "      <td>-0.037637</td>\n",
       "    </tr>\n",
       "    <tr>\n",
       "      <th>4</th>\n",
       "      <td>start_date</td>\n",
       "      <td>high_perc</td>\n",
       "      <td>CorrelationSimilarity</td>\n",
       "      <td>0.653505</td>\n",
       "      <td>0.491274</td>\n",
       "      <td>-0.201716</td>\n",
       "    </tr>\n",
       "    <tr>\n",
       "      <th>...</th>\n",
       "      <td>...</td>\n",
       "      <td>...</td>\n",
       "      <td>...</td>\n",
       "      <td>...</td>\n",
       "      <td>...</td>\n",
       "      <td>...</td>\n",
       "    </tr>\n",
       "    <tr>\n",
       "      <th>131</th>\n",
       "      <td>employability_perc</td>\n",
       "      <td>work_experience</td>\n",
       "      <td>ContingencySimilarity</td>\n",
       "      <td>0.669767</td>\n",
       "      <td>0.056735</td>\n",
       "      <td>-0.201698</td>\n",
       "    </tr>\n",
       "    <tr>\n",
       "      <th>132</th>\n",
       "      <td>employability_perc</td>\n",
       "      <td>degree_type</td>\n",
       "      <td>ContingencySimilarity</td>\n",
       "      <td>0.711628</td>\n",
       "      <td>NaN</td>\n",
       "      <td>NaN</td>\n",
       "    </tr>\n",
       "    <tr>\n",
       "      <th>133</th>\n",
       "      <td>mba_perc</td>\n",
       "      <td>work_experience</td>\n",
       "      <td>ContingencySimilarity</td>\n",
       "      <td>0.748837</td>\n",
       "      <td>0.168811</td>\n",
       "      <td>0.099095</td>\n",
       "    </tr>\n",
       "    <tr>\n",
       "      <th>134</th>\n",
       "      <td>mba_perc</td>\n",
       "      <td>degree_type</td>\n",
       "      <td>ContingencySimilarity</td>\n",
       "      <td>0.679070</td>\n",
       "      <td>NaN</td>\n",
       "      <td>NaN</td>\n",
       "    </tr>\n",
       "    <tr>\n",
       "      <th>135</th>\n",
       "      <td>work_experience</td>\n",
       "      <td>degree_type</td>\n",
       "      <td>ContingencySimilarity</td>\n",
       "      <td>0.897674</td>\n",
       "      <td>NaN</td>\n",
       "      <td>NaN</td>\n",
       "    </tr>\n",
       "  </tbody>\n",
       "</table>\n",
       "<p>136 rows × 6 columns</p>\n",
       "</div>"
      ],
      "text/plain": [
       "          Column name 1    Column name 2                 Metric     Score  \\\n",
       "0            start_date         end_date  CorrelationSimilarity  0.898691   \n",
       "1            start_date           salary  CorrelationSimilarity  0.996426   \n",
       "2            start_date         duration  CorrelationSimilarity  0.792278   \n",
       "3            start_date       student_id  CorrelationSimilarity  0.792278   \n",
       "4            start_date        high_perc  CorrelationSimilarity  0.653505   \n",
       "..                  ...              ...                    ...       ...   \n",
       "131  employability_perc  work_experience  ContingencySimilarity  0.669767   \n",
       "132  employability_perc      degree_type  ContingencySimilarity  0.711628   \n",
       "133            mba_perc  work_experience  ContingencySimilarity  0.748837   \n",
       "134            mba_perc      degree_type  ContingencySimilarity  0.679070   \n",
       "135     work_experience      degree_type  ContingencySimilarity  0.897674   \n",
       "\n",
       "     Real correlation  Synthetic correlation  \n",
       "0            0.999999               0.797380  \n",
       "1                 NaN                    NaN  \n",
       "2                 NaN                    NaN  \n",
       "3           -0.026862              -0.037637  \n",
       "4            0.491274              -0.201716  \n",
       "..                ...                    ...  \n",
       "131          0.056735              -0.201698  \n",
       "132               NaN                    NaN  \n",
       "133          0.168811               0.099095  \n",
       "134               NaN                    NaN  \n",
       "135               NaN                    NaN  \n",
       "\n",
       "[136 rows x 6 columns]"
      ]
     },
     "execution_count": 8,
     "metadata": {},
     "output_type": "execute_result"
    }
   ],
   "source": [
    "proper._details"
   ]
  },
  {
   "cell_type": "code",
   "execution_count": 11,
   "metadata": {},
   "outputs": [
    {
     "data": {
      "text/html": [
       "<div>\n",
       "<style scoped>\n",
       "    .dataframe tbody tr th:only-of-type {\n",
       "        vertical-align: middle;\n",
       "    }\n",
       "\n",
       "    .dataframe tbody tr th {\n",
       "        vertical-align: top;\n",
       "    }\n",
       "\n",
       "    .dataframe thead th {\n",
       "        text-align: right;\n",
       "    }\n",
       "</style>\n",
       "<table border=\"1\" class=\"dataframe\">\n",
       "  <thead>\n",
       "    <tr style=\"text-align: right;\">\n",
       "      <th></th>\n",
       "      <th>Column 1</th>\n",
       "      <th>Column 2</th>\n",
       "      <th>Metric</th>\n",
       "      <th>Quality Score</th>\n",
       "      <th>Real Correlation</th>\n",
       "      <th>Synthetic Correlation</th>\n",
       "    </tr>\n",
       "  </thead>\n",
       "  <tbody>\n",
       "    <tr>\n",
       "      <th>0</th>\n",
       "      <td>end_date</td>\n",
       "      <td>start_date</td>\n",
       "      <td>CorrelationSimilarity</td>\n",
       "      <td>0.906445</td>\n",
       "      <td>0.397321</td>\n",
       "      <td>0.210212</td>\n",
       "    </tr>\n",
       "    <tr>\n",
       "      <th>1</th>\n",
       "      <td>salary</td>\n",
       "      <td>start_date</td>\n",
       "      <td>CorrelationSimilarity</td>\n",
       "      <td>0.968412</td>\n",
       "      <td>0.052848</td>\n",
       "      <td>-0.010328</td>\n",
       "    </tr>\n",
       "    <tr>\n",
       "      <th>2</th>\n",
       "      <td>duration</td>\n",
       "      <td>start_date</td>\n",
       "      <td>CorrelationSimilarity</td>\n",
       "      <td>0.833848</td>\n",
       "      <td>-0.454971</td>\n",
       "      <td>-0.122667</td>\n",
       "    </tr>\n",
       "    <tr>\n",
       "      <th>3</th>\n",
       "      <td>high_perc</td>\n",
       "      <td>start_date</td>\n",
       "      <td>CorrelationSimilarity</td>\n",
       "      <td>0.943772</td>\n",
       "      <td>0.055928</td>\n",
       "      <td>0.168384</td>\n",
       "    </tr>\n",
       "    <tr>\n",
       "      <th>4</th>\n",
       "      <td>second_perc</td>\n",
       "      <td>start_date</td>\n",
       "      <td>CorrelationSimilarity</td>\n",
       "      <td>0.985451</td>\n",
       "      <td>0.047353</td>\n",
       "      <td>0.076451</td>\n",
       "    </tr>\n",
       "    <tr>\n",
       "      <th>...</th>\n",
       "      <td>...</td>\n",
       "      <td>...</td>\n",
       "      <td>...</td>\n",
       "      <td>...</td>\n",
       "      <td>...</td>\n",
       "      <td>...</td>\n",
       "    </tr>\n",
       "    <tr>\n",
       "      <th>115</th>\n",
       "      <td>degree_type</td>\n",
       "      <td>experience_years</td>\n",
       "      <td>ContingencySimilarity</td>\n",
       "      <td>0.800000</td>\n",
       "      <td>NaN</td>\n",
       "      <td>NaN</td>\n",
       "    </tr>\n",
       "    <tr>\n",
       "      <th>116</th>\n",
       "      <td>employability_perc</td>\n",
       "      <td>work_experience</td>\n",
       "      <td>ContingencySimilarity</td>\n",
       "      <td>0.669767</td>\n",
       "      <td>NaN</td>\n",
       "      <td>NaN</td>\n",
       "    </tr>\n",
       "    <tr>\n",
       "      <th>117</th>\n",
       "      <td>degree_type</td>\n",
       "      <td>employability_perc</td>\n",
       "      <td>ContingencySimilarity</td>\n",
       "      <td>0.711628</td>\n",
       "      <td>NaN</td>\n",
       "      <td>NaN</td>\n",
       "    </tr>\n",
       "    <tr>\n",
       "      <th>118</th>\n",
       "      <td>mba_perc</td>\n",
       "      <td>work_experience</td>\n",
       "      <td>ContingencySimilarity</td>\n",
       "      <td>0.748837</td>\n",
       "      <td>NaN</td>\n",
       "      <td>NaN</td>\n",
       "    </tr>\n",
       "    <tr>\n",
       "      <th>119</th>\n",
       "      <td>degree_type</td>\n",
       "      <td>mba_perc</td>\n",
       "      <td>ContingencySimilarity</td>\n",
       "      <td>0.679070</td>\n",
       "      <td>NaN</td>\n",
       "      <td>NaN</td>\n",
       "    </tr>\n",
       "  </tbody>\n",
       "</table>\n",
       "<p>120 rows × 6 columns</p>\n",
       "</div>"
      ],
      "text/plain": [
       "               Column 1            Column 2                 Metric  \\\n",
       "0              end_date          start_date  CorrelationSimilarity   \n",
       "1                salary          start_date  CorrelationSimilarity   \n",
       "2              duration          start_date  CorrelationSimilarity   \n",
       "3             high_perc          start_date  CorrelationSimilarity   \n",
       "4           second_perc          start_date  CorrelationSimilarity   \n",
       "..                  ...                 ...                    ...   \n",
       "115         degree_type    experience_years  ContingencySimilarity   \n",
       "116  employability_perc     work_experience  ContingencySimilarity   \n",
       "117         degree_type  employability_perc  ContingencySimilarity   \n",
       "118            mba_perc     work_experience  ContingencySimilarity   \n",
       "119         degree_type            mba_perc  ContingencySimilarity   \n",
       "\n",
       "     Quality Score  Real Correlation  Synthetic Correlation  \n",
       "0         0.906445          0.397321               0.210212  \n",
       "1         0.968412          0.052848              -0.010328  \n",
       "2         0.833848         -0.454971              -0.122667  \n",
       "3         0.943772          0.055928               0.168384  \n",
       "4         0.985451          0.047353               0.076451  \n",
       "..             ...               ...                    ...  \n",
       "115       0.800000               NaN                    NaN  \n",
       "116       0.669767               NaN                    NaN  \n",
       "117       0.711628               NaN                    NaN  \n",
       "118       0.748837               NaN                    NaN  \n",
       "119       0.679070               NaN                    NaN  \n",
       "\n",
       "[120 rows x 6 columns]"
      ]
     },
     "execution_count": 11,
     "metadata": {},
     "output_type": "execute_result"
    }
   ],
   "source": [
    "details"
   ]
  },
  {
   "cell_type": "code",
   "execution_count": 14,
   "metadata": {},
   "outputs": [
    {
     "data": {
      "text/html": [
       "<div>\n",
       "<style scoped>\n",
       "    .dataframe tbody tr th:only-of-type {\n",
       "        vertical-align: middle;\n",
       "    }\n",
       "\n",
       "    .dataframe tbody tr th {\n",
       "        vertical-align: top;\n",
       "    }\n",
       "\n",
       "    .dataframe thead th {\n",
       "        text-align: right;\n",
       "    }\n",
       "</style>\n",
       "<table border=\"1\" class=\"dataframe\">\n",
       "  <thead>\n",
       "    <tr style=\"text-align: right;\">\n",
       "      <th></th>\n",
       "      <th>Column 1</th>\n",
       "      <th>Column 2</th>\n",
       "      <th>Metric</th>\n",
       "      <th>Quality Score</th>\n",
       "      <th>Real Correlation</th>\n",
       "      <th>Synthetic Correlation</th>\n",
       "    </tr>\n",
       "  </thead>\n",
       "  <tbody>\n",
       "    <tr>\n",
       "      <th>0</th>\n",
       "      <td>end_date</td>\n",
       "      <td>start_date</td>\n",
       "      <td>CorrelationSimilarity</td>\n",
       "      <td>0.906445</td>\n",
       "      <td>0.397321</td>\n",
       "      <td>0.210212</td>\n",
       "    </tr>\n",
       "    <tr>\n",
       "      <th>1</th>\n",
       "      <td>salary</td>\n",
       "      <td>start_date</td>\n",
       "      <td>CorrelationSimilarity</td>\n",
       "      <td>0.968412</td>\n",
       "      <td>0.052848</td>\n",
       "      <td>-0.010328</td>\n",
       "    </tr>\n",
       "    <tr>\n",
       "      <th>2</th>\n",
       "      <td>duration</td>\n",
       "      <td>start_date</td>\n",
       "      <td>CorrelationSimilarity</td>\n",
       "      <td>0.833848</td>\n",
       "      <td>-0.454971</td>\n",
       "      <td>-0.122667</td>\n",
       "    </tr>\n",
       "    <tr>\n",
       "      <th>3</th>\n",
       "      <td>high_perc</td>\n",
       "      <td>start_date</td>\n",
       "      <td>CorrelationSimilarity</td>\n",
       "      <td>0.943772</td>\n",
       "      <td>0.055928</td>\n",
       "      <td>0.168384</td>\n",
       "    </tr>\n",
       "    <tr>\n",
       "      <th>4</th>\n",
       "      <td>second_perc</td>\n",
       "      <td>start_date</td>\n",
       "      <td>CorrelationSimilarity</td>\n",
       "      <td>0.985451</td>\n",
       "      <td>0.047353</td>\n",
       "      <td>0.076451</td>\n",
       "    </tr>\n",
       "    <tr>\n",
       "      <th>5</th>\n",
       "      <td>degree_perc</td>\n",
       "      <td>start_date</td>\n",
       "      <td>CorrelationSimilarity</td>\n",
       "      <td>0.911824</td>\n",
       "      <td>-0.070506</td>\n",
       "      <td>0.105847</td>\n",
       "    </tr>\n",
       "    <tr>\n",
       "      <th>6</th>\n",
       "      <td>experience_years</td>\n",
       "      <td>start_date</td>\n",
       "      <td>CorrelationSimilarity</td>\n",
       "      <td>0.948435</td>\n",
       "      <td>-0.025862</td>\n",
       "      <td>-0.128992</td>\n",
       "    </tr>\n",
       "    <tr>\n",
       "      <th>7</th>\n",
       "      <td>employability_perc</td>\n",
       "      <td>start_date</td>\n",
       "      <td>CorrelationSimilarity</td>\n",
       "      <td>0.995286</td>\n",
       "      <td>-0.031763</td>\n",
       "      <td>-0.022336</td>\n",
       "    </tr>\n",
       "    <tr>\n",
       "      <th>8</th>\n",
       "      <td>mba_perc</td>\n",
       "      <td>start_date</td>\n",
       "      <td>CorrelationSimilarity</td>\n",
       "      <td>0.979492</td>\n",
       "      <td>-0.040913</td>\n",
       "      <td>-0.081928</td>\n",
       "    </tr>\n",
       "    <tr>\n",
       "      <th>9</th>\n",
       "      <td>end_date</td>\n",
       "      <td>salary</td>\n",
       "      <td>CorrelationSimilarity</td>\n",
       "      <td>0.951624</td>\n",
       "      <td>0.075229</td>\n",
       "      <td>-0.021523</td>\n",
       "    </tr>\n",
       "    <tr>\n",
       "      <th>10</th>\n",
       "      <td>duration</td>\n",
       "      <td>end_date</td>\n",
       "      <td>CorrelationSimilarity</td>\n",
       "      <td>0.650699</td>\n",
       "      <td>0.632543</td>\n",
       "      <td>-0.066058</td>\n",
       "    </tr>\n",
       "    <tr>\n",
       "      <th>11</th>\n",
       "      <td>end_date</td>\n",
       "      <td>high_perc</td>\n",
       "      <td>CorrelationSimilarity</td>\n",
       "      <td>0.916601</td>\n",
       "      <td>-0.038854</td>\n",
       "      <td>0.127945</td>\n",
       "    </tr>\n",
       "    <tr>\n",
       "      <th>12</th>\n",
       "      <td>end_date</td>\n",
       "      <td>second_perc</td>\n",
       "      <td>CorrelationSimilarity</td>\n",
       "      <td>0.918795</td>\n",
       "      <td>-0.124836</td>\n",
       "      <td>0.037575</td>\n",
       "    </tr>\n",
       "    <tr>\n",
       "      <th>13</th>\n",
       "      <td>degree_perc</td>\n",
       "      <td>end_date</td>\n",
       "      <td>CorrelationSimilarity</td>\n",
       "      <td>0.934286</td>\n",
       "      <td>-0.087779</td>\n",
       "      <td>0.043649</td>\n",
       "    </tr>\n",
       "    <tr>\n",
       "      <th>14</th>\n",
       "      <td>end_date</td>\n",
       "      <td>experience_years</td>\n",
       "      <td>CorrelationSimilarity</td>\n",
       "      <td>0.937302</td>\n",
       "      <td>0.185570</td>\n",
       "      <td>0.060175</td>\n",
       "    </tr>\n",
       "    <tr>\n",
       "      <th>15</th>\n",
       "      <td>employability_perc</td>\n",
       "      <td>end_date</td>\n",
       "      <td>CorrelationSimilarity</td>\n",
       "      <td>0.918056</td>\n",
       "      <td>-0.083431</td>\n",
       "      <td>0.080458</td>\n",
       "    </tr>\n",
       "    <tr>\n",
       "      <th>16</th>\n",
       "      <td>end_date</td>\n",
       "      <td>mba_perc</td>\n",
       "      <td>CorrelationSimilarity</td>\n",
       "      <td>0.938288</td>\n",
       "      <td>-0.087971</td>\n",
       "      <td>0.035453</td>\n",
       "    </tr>\n",
       "    <tr>\n",
       "      <th>17</th>\n",
       "      <td>duration</td>\n",
       "      <td>salary</td>\n",
       "      <td>CorrelationSimilarity</td>\n",
       "      <td>0.973049</td>\n",
       "      <td>0.034669</td>\n",
       "      <td>0.088571</td>\n",
       "    </tr>\n",
       "    <tr>\n",
       "      <th>18</th>\n",
       "      <td>high_perc</td>\n",
       "      <td>salary</td>\n",
       "      <td>CorrelationSimilarity</td>\n",
       "      <td>0.956861</td>\n",
       "      <td>0.076819</td>\n",
       "      <td>0.163097</td>\n",
       "    </tr>\n",
       "    <tr>\n",
       "      <th>19</th>\n",
       "      <td>salary</td>\n",
       "      <td>second_perc</td>\n",
       "      <td>CorrelationSimilarity</td>\n",
       "      <td>0.967616</td>\n",
       "      <td>0.035330</td>\n",
       "      <td>0.100098</td>\n",
       "    </tr>\n",
       "    <tr>\n",
       "      <th>20</th>\n",
       "      <td>degree_perc</td>\n",
       "      <td>salary</td>\n",
       "      <td>CorrelationSimilarity</td>\n",
       "      <td>0.953250</td>\n",
       "      <td>-0.019272</td>\n",
       "      <td>-0.112772</td>\n",
       "    </tr>\n",
       "    <tr>\n",
       "      <th>21</th>\n",
       "      <td>experience_years</td>\n",
       "      <td>salary</td>\n",
       "      <td>CorrelationSimilarity</td>\n",
       "      <td>0.995457</td>\n",
       "      <td>0.165081</td>\n",
       "      <td>0.155996</td>\n",
       "    </tr>\n",
       "    <tr>\n",
       "      <th>22</th>\n",
       "      <td>employability_perc</td>\n",
       "      <td>salary</td>\n",
       "      <td>CorrelationSimilarity</td>\n",
       "      <td>0.926752</td>\n",
       "      <td>0.178307</td>\n",
       "      <td>0.031811</td>\n",
       "    </tr>\n",
       "    <tr>\n",
       "      <th>23</th>\n",
       "      <td>mba_perc</td>\n",
       "      <td>salary</td>\n",
       "      <td>CorrelationSimilarity</td>\n",
       "      <td>0.862899</td>\n",
       "      <td>0.175013</td>\n",
       "      <td>-0.099190</td>\n",
       "    </tr>\n",
       "    <tr>\n",
       "      <th>24</th>\n",
       "      <td>duration</td>\n",
       "      <td>high_perc</td>\n",
       "      <td>CorrelationSimilarity</td>\n",
       "      <td>0.982169</td>\n",
       "      <td>-0.072228</td>\n",
       "      <td>-0.036566</td>\n",
       "    </tr>\n",
       "    <tr>\n",
       "      <th>25</th>\n",
       "      <td>duration</td>\n",
       "      <td>second_perc</td>\n",
       "      <td>CorrelationSimilarity</td>\n",
       "      <td>0.903213</td>\n",
       "      <td>-0.148640</td>\n",
       "      <td>0.044933</td>\n",
       "    </tr>\n",
       "    <tr>\n",
       "      <th>26</th>\n",
       "      <td>degree_perc</td>\n",
       "      <td>duration</td>\n",
       "      <td>CorrelationSimilarity</td>\n",
       "      <td>0.923325</td>\n",
       "      <td>-0.011698</td>\n",
       "      <td>0.141651</td>\n",
       "    </tr>\n",
       "    <tr>\n",
       "      <th>27</th>\n",
       "      <td>duration</td>\n",
       "      <td>experience_years</td>\n",
       "      <td>CorrelationSimilarity</td>\n",
       "      <td>0.962304</td>\n",
       "      <td>0.202665</td>\n",
       "      <td>0.127274</td>\n",
       "    </tr>\n",
       "    <tr>\n",
       "      <th>28</th>\n",
       "      <td>duration</td>\n",
       "      <td>employability_perc</td>\n",
       "      <td>CorrelationSimilarity</td>\n",
       "      <td>0.911840</td>\n",
       "      <td>-0.042394</td>\n",
       "      <td>0.133925</td>\n",
       "    </tr>\n",
       "    <tr>\n",
       "      <th>29</th>\n",
       "      <td>duration</td>\n",
       "      <td>mba_perc</td>\n",
       "      <td>CorrelationSimilarity</td>\n",
       "      <td>0.952692</td>\n",
       "      <td>-0.035133</td>\n",
       "      <td>0.059484</td>\n",
       "    </tr>\n",
       "    <tr>\n",
       "      <th>30</th>\n",
       "      <td>high_perc</td>\n",
       "      <td>second_perc</td>\n",
       "      <td>CorrelationSimilarity</td>\n",
       "      <td>0.627764</td>\n",
       "      <td>0.511472</td>\n",
       "      <td>-0.233000</td>\n",
       "    </tr>\n",
       "    <tr>\n",
       "      <th>31</th>\n",
       "      <td>degree_perc</td>\n",
       "      <td>high_perc</td>\n",
       "      <td>CorrelationSimilarity</td>\n",
       "      <td>0.861134</td>\n",
       "      <td>0.434206</td>\n",
       "      <td>0.156474</td>\n",
       "    </tr>\n",
       "    <tr>\n",
       "      <th>32</th>\n",
       "      <td>experience_years</td>\n",
       "      <td>high_perc</td>\n",
       "      <td>CorrelationSimilarity</td>\n",
       "      <td>0.941186</td>\n",
       "      <td>0.086045</td>\n",
       "      <td>-0.031583</td>\n",
       "    </tr>\n",
       "    <tr>\n",
       "      <th>33</th>\n",
       "      <td>employability_perc</td>\n",
       "      <td>high_perc</td>\n",
       "      <td>CorrelationSimilarity</td>\n",
       "      <td>0.913392</td>\n",
       "      <td>0.245113</td>\n",
       "      <td>0.071897</td>\n",
       "    </tr>\n",
       "    <tr>\n",
       "      <th>34</th>\n",
       "      <td>high_perc</td>\n",
       "      <td>mba_perc</td>\n",
       "      <td>CorrelationSimilarity</td>\n",
       "      <td>0.812731</td>\n",
       "      <td>0.354823</td>\n",
       "      <td>-0.019715</td>\n",
       "    </tr>\n",
       "    <tr>\n",
       "      <th>35</th>\n",
       "      <td>degree_perc</td>\n",
       "      <td>second_perc</td>\n",
       "      <td>CorrelationSimilarity</td>\n",
       "      <td>0.771483</td>\n",
       "      <td>0.538404</td>\n",
       "      <td>0.081369</td>\n",
       "    </tr>\n",
       "    <tr>\n",
       "      <th>36</th>\n",
       "      <td>experience_years</td>\n",
       "      <td>second_perc</td>\n",
       "      <td>CorrelationSimilarity</td>\n",
       "      <td>0.935471</td>\n",
       "      <td>0.157279</td>\n",
       "      <td>0.028221</td>\n",
       "    </tr>\n",
       "    <tr>\n",
       "      <th>37</th>\n",
       "      <td>employability_perc</td>\n",
       "      <td>second_perc</td>\n",
       "      <td>CorrelationSimilarity</td>\n",
       "      <td>0.940293</td>\n",
       "      <td>0.261993</td>\n",
       "      <td>0.142578</td>\n",
       "    </tr>\n",
       "    <tr>\n",
       "      <th>38</th>\n",
       "      <td>mba_perc</td>\n",
       "      <td>second_perc</td>\n",
       "      <td>CorrelationSimilarity</td>\n",
       "      <td>0.829811</td>\n",
       "      <td>0.388478</td>\n",
       "      <td>0.048100</td>\n",
       "    </tr>\n",
       "    <tr>\n",
       "      <th>39</th>\n",
       "      <td>degree_perc</td>\n",
       "      <td>experience_years</td>\n",
       "      <td>CorrelationSimilarity</td>\n",
       "      <td>0.924756</td>\n",
       "      <td>0.091014</td>\n",
       "      <td>-0.059473</td>\n",
       "    </tr>\n",
       "    <tr>\n",
       "      <th>40</th>\n",
       "      <td>degree_perc</td>\n",
       "      <td>employability_perc</td>\n",
       "      <td>CorrelationSimilarity</td>\n",
       "      <td>0.917722</td>\n",
       "      <td>0.224470</td>\n",
       "      <td>0.059914</td>\n",
       "    </tr>\n",
       "    <tr>\n",
       "      <th>41</th>\n",
       "      <td>degree_perc</td>\n",
       "      <td>mba_perc</td>\n",
       "      <td>CorrelationSimilarity</td>\n",
       "      <td>0.875514</td>\n",
       "      <td>0.402364</td>\n",
       "      <td>0.153392</td>\n",
       "    </tr>\n",
       "    <tr>\n",
       "      <th>42</th>\n",
       "      <td>employability_perc</td>\n",
       "      <td>experience_years</td>\n",
       "      <td>CorrelationSimilarity</td>\n",
       "      <td>0.984823</td>\n",
       "      <td>0.046072</td>\n",
       "      <td>0.015717</td>\n",
       "    </tr>\n",
       "    <tr>\n",
       "      <th>43</th>\n",
       "      <td>experience_years</td>\n",
       "      <td>mba_perc</td>\n",
       "      <td>CorrelationSimilarity</td>\n",
       "      <td>0.938878</td>\n",
       "      <td>0.154234</td>\n",
       "      <td>0.031989</td>\n",
       "    </tr>\n",
       "    <tr>\n",
       "      <th>44</th>\n",
       "      <td>employability_perc</td>\n",
       "      <td>mba_perc</td>\n",
       "      <td>CorrelationSimilarity</td>\n",
       "      <td>0.882587</td>\n",
       "      <td>0.218055</td>\n",
       "      <td>-0.016772</td>\n",
       "    </tr>\n",
       "  </tbody>\n",
       "</table>\n",
       "</div>"
      ],
      "text/plain": [
       "              Column 1            Column 2                 Metric  \\\n",
       "0             end_date          start_date  CorrelationSimilarity   \n",
       "1               salary          start_date  CorrelationSimilarity   \n",
       "2             duration          start_date  CorrelationSimilarity   \n",
       "3            high_perc          start_date  CorrelationSimilarity   \n",
       "4          second_perc          start_date  CorrelationSimilarity   \n",
       "5          degree_perc          start_date  CorrelationSimilarity   \n",
       "6     experience_years          start_date  CorrelationSimilarity   \n",
       "7   employability_perc          start_date  CorrelationSimilarity   \n",
       "8             mba_perc          start_date  CorrelationSimilarity   \n",
       "9             end_date              salary  CorrelationSimilarity   \n",
       "10            duration            end_date  CorrelationSimilarity   \n",
       "11            end_date           high_perc  CorrelationSimilarity   \n",
       "12            end_date         second_perc  CorrelationSimilarity   \n",
       "13         degree_perc            end_date  CorrelationSimilarity   \n",
       "14            end_date    experience_years  CorrelationSimilarity   \n",
       "15  employability_perc            end_date  CorrelationSimilarity   \n",
       "16            end_date            mba_perc  CorrelationSimilarity   \n",
       "17            duration              salary  CorrelationSimilarity   \n",
       "18           high_perc              salary  CorrelationSimilarity   \n",
       "19              salary         second_perc  CorrelationSimilarity   \n",
       "20         degree_perc              salary  CorrelationSimilarity   \n",
       "21    experience_years              salary  CorrelationSimilarity   \n",
       "22  employability_perc              salary  CorrelationSimilarity   \n",
       "23            mba_perc              salary  CorrelationSimilarity   \n",
       "24            duration           high_perc  CorrelationSimilarity   \n",
       "25            duration         second_perc  CorrelationSimilarity   \n",
       "26         degree_perc            duration  CorrelationSimilarity   \n",
       "27            duration    experience_years  CorrelationSimilarity   \n",
       "28            duration  employability_perc  CorrelationSimilarity   \n",
       "29            duration            mba_perc  CorrelationSimilarity   \n",
       "30           high_perc         second_perc  CorrelationSimilarity   \n",
       "31         degree_perc           high_perc  CorrelationSimilarity   \n",
       "32    experience_years           high_perc  CorrelationSimilarity   \n",
       "33  employability_perc           high_perc  CorrelationSimilarity   \n",
       "34           high_perc            mba_perc  CorrelationSimilarity   \n",
       "35         degree_perc         second_perc  CorrelationSimilarity   \n",
       "36    experience_years         second_perc  CorrelationSimilarity   \n",
       "37  employability_perc         second_perc  CorrelationSimilarity   \n",
       "38            mba_perc         second_perc  CorrelationSimilarity   \n",
       "39         degree_perc    experience_years  CorrelationSimilarity   \n",
       "40         degree_perc  employability_perc  CorrelationSimilarity   \n",
       "41         degree_perc            mba_perc  CorrelationSimilarity   \n",
       "42  employability_perc    experience_years  CorrelationSimilarity   \n",
       "43    experience_years            mba_perc  CorrelationSimilarity   \n",
       "44  employability_perc            mba_perc  CorrelationSimilarity   \n",
       "\n",
       "    Quality Score  Real Correlation  Synthetic Correlation  \n",
       "0        0.906445          0.397321               0.210212  \n",
       "1        0.968412          0.052848              -0.010328  \n",
       "2        0.833848         -0.454971              -0.122667  \n",
       "3        0.943772          0.055928               0.168384  \n",
       "4        0.985451          0.047353               0.076451  \n",
       "5        0.911824         -0.070506               0.105847  \n",
       "6        0.948435         -0.025862              -0.128992  \n",
       "7        0.995286         -0.031763              -0.022336  \n",
       "8        0.979492         -0.040913              -0.081928  \n",
       "9        0.951624          0.075229              -0.021523  \n",
       "10       0.650699          0.632543              -0.066058  \n",
       "11       0.916601         -0.038854               0.127945  \n",
       "12       0.918795         -0.124836               0.037575  \n",
       "13       0.934286         -0.087779               0.043649  \n",
       "14       0.937302          0.185570               0.060175  \n",
       "15       0.918056         -0.083431               0.080458  \n",
       "16       0.938288         -0.087971               0.035453  \n",
       "17       0.973049          0.034669               0.088571  \n",
       "18       0.956861          0.076819               0.163097  \n",
       "19       0.967616          0.035330               0.100098  \n",
       "20       0.953250         -0.019272              -0.112772  \n",
       "21       0.995457          0.165081               0.155996  \n",
       "22       0.926752          0.178307               0.031811  \n",
       "23       0.862899          0.175013              -0.099190  \n",
       "24       0.982169         -0.072228              -0.036566  \n",
       "25       0.903213         -0.148640               0.044933  \n",
       "26       0.923325         -0.011698               0.141651  \n",
       "27       0.962304          0.202665               0.127274  \n",
       "28       0.911840         -0.042394               0.133925  \n",
       "29       0.952692         -0.035133               0.059484  \n",
       "30       0.627764          0.511472              -0.233000  \n",
       "31       0.861134          0.434206               0.156474  \n",
       "32       0.941186          0.086045              -0.031583  \n",
       "33       0.913392          0.245113               0.071897  \n",
       "34       0.812731          0.354823              -0.019715  \n",
       "35       0.771483          0.538404               0.081369  \n",
       "36       0.935471          0.157279               0.028221  \n",
       "37       0.940293          0.261993               0.142578  \n",
       "38       0.829811          0.388478               0.048100  \n",
       "39       0.924756          0.091014              -0.059473  \n",
       "40       0.917722          0.224470               0.059914  \n",
       "41       0.875514          0.402364               0.153392  \n",
       "42       0.984823          0.046072               0.015717  \n",
       "43       0.938878          0.154234               0.031989  \n",
       "44       0.882587          0.218055              -0.016772  "
      ]
     },
     "execution_count": 14,
     "metadata": {},
     "output_type": "execute_result"
    }
   ],
   "source": [
    "details.loc[details['Metric'] == 'CorrelationSimilarity']"
   ]
  },
  {
   "cell_type": "code",
   "execution_count": 17,
   "metadata": {},
   "outputs": [
    {
     "data": {
      "text/plain": [
       "array(['end_date', 'salary', 'duration', 'student_id', 'high_perc',\n",
       "       'second_perc', 'degree_perc', 'experience_years',\n",
       "       'employability_perc', 'mba_perc'], dtype=object)"
      ]
     },
     "execution_count": 17,
     "metadata": {},
     "output_type": "execute_result"
    }
   ],
   "source": [
    "details_2.loc[details_2['Metric'] == 'CorrelationSimilarity']['Column name 2'].unique()"
   ]
  },
  {
   "cell_type": "code",
   "execution_count": 16,
   "metadata": {},
   "outputs": [
    {
     "data": {
      "text/plain": [
       "student_id              int64\n",
       "gender                 object\n",
       "second_perc           float64\n",
       "high_perc             float64\n",
       "high_spec              object\n",
       "degree_perc           float64\n",
       "degree_type            object\n",
       "work_experience          bool\n",
       "experience_years        int64\n",
       "employability_perc    float64\n",
       "mba_spec               object\n",
       "mba_perc              float64\n",
       "salary                float64\n",
       "placed                   bool\n",
       "start_date             object\n",
       "end_date               object\n",
       "duration              float64\n",
       "dtype: object"
      ]
     },
     "execution_count": 16,
     "metadata": {},
     "output_type": "execute_result"
    }
   ],
   "source": [
    "real_data.dtypes"
   ]
  },
  {
   "cell_type": "code",
   "execution_count": 5,
   "metadata": {},
   "outputs": [
    {
     "data": {
      "text/html": [
       "<div>\n",
       "<style scoped>\n",
       "    .dataframe tbody tr th:only-of-type {\n",
       "        vertical-align: middle;\n",
       "    }\n",
       "\n",
       "    .dataframe tbody tr th {\n",
       "        vertical-align: top;\n",
       "    }\n",
       "\n",
       "    .dataframe thead th {\n",
       "        text-align: right;\n",
       "    }\n",
       "</style>\n",
       "<table border=\"1\" class=\"dataframe\">\n",
       "  <thead>\n",
       "    <tr style=\"text-align: right;\">\n",
       "      <th></th>\n",
       "      <th>Column name 1</th>\n",
       "      <th>Column name 2</th>\n",
       "      <th>Metric</th>\n",
       "      <th>Score</th>\n",
       "      <th>Real correlation</th>\n",
       "      <th>Synthetic correlation</th>\n",
       "    </tr>\n",
       "  </thead>\n",
       "  <tbody>\n",
       "    <tr>\n",
       "      <th>31</th>\n",
       "      <td>salary</td>\n",
       "      <td>duration</td>\n",
       "      <td>CorrelationSimilarity</td>\n",
       "      <td>0.973049</td>\n",
       "      <td>NaN</td>\n",
       "      <td>NaN</td>\n",
       "    </tr>\n",
       "    <tr>\n",
       "      <th>32</th>\n",
       "      <td>salary</td>\n",
       "      <td>student_id</td>\n",
       "      <td>CorrelationSimilarity</td>\n",
       "      <td>0.973049</td>\n",
       "      <td>NaN</td>\n",
       "      <td>NaN</td>\n",
       "    </tr>\n",
       "    <tr>\n",
       "      <th>33</th>\n",
       "      <td>salary</td>\n",
       "      <td>high_perc</td>\n",
       "      <td>CorrelationSimilarity</td>\n",
       "      <td>0.956861</td>\n",
       "      <td>NaN</td>\n",
       "      <td>NaN</td>\n",
       "    </tr>\n",
       "    <tr>\n",
       "      <th>34</th>\n",
       "      <td>salary</td>\n",
       "      <td>high_spec</td>\n",
       "      <td>ContingencySimilarity</td>\n",
       "      <td>0.758140</td>\n",
       "      <td>NaN</td>\n",
       "      <td>NaN</td>\n",
       "    </tr>\n",
       "    <tr>\n",
       "      <th>35</th>\n",
       "      <td>salary</td>\n",
       "      <td>mba_spec</td>\n",
       "      <td>ContingencySimilarity</td>\n",
       "      <td>0.790698</td>\n",
       "      <td>NaN</td>\n",
       "      <td>NaN</td>\n",
       "    </tr>\n",
       "    <tr>\n",
       "      <th>36</th>\n",
       "      <td>salary</td>\n",
       "      <td>second_perc</td>\n",
       "      <td>CorrelationSimilarity</td>\n",
       "      <td>0.967616</td>\n",
       "      <td>NaN</td>\n",
       "      <td>NaN</td>\n",
       "    </tr>\n",
       "    <tr>\n",
       "      <th>37</th>\n",
       "      <td>salary</td>\n",
       "      <td>gender</td>\n",
       "      <td>ContingencySimilarity</td>\n",
       "      <td>0.786047</td>\n",
       "      <td>NaN</td>\n",
       "      <td>NaN</td>\n",
       "    </tr>\n",
       "    <tr>\n",
       "      <th>38</th>\n",
       "      <td>salary</td>\n",
       "      <td>degree_perc</td>\n",
       "      <td>CorrelationSimilarity</td>\n",
       "      <td>0.953250</td>\n",
       "      <td>NaN</td>\n",
       "      <td>NaN</td>\n",
       "    </tr>\n",
       "    <tr>\n",
       "      <th>39</th>\n",
       "      <td>salary</td>\n",
       "      <td>placed</td>\n",
       "      <td>ContingencySimilarity</td>\n",
       "      <td>0.781395</td>\n",
       "      <td>NaN</td>\n",
       "      <td>NaN</td>\n",
       "    </tr>\n",
       "    <tr>\n",
       "      <th>40</th>\n",
       "      <td>salary</td>\n",
       "      <td>experience_years</td>\n",
       "      <td>CorrelationSimilarity</td>\n",
       "      <td>0.995457</td>\n",
       "      <td>NaN</td>\n",
       "      <td>NaN</td>\n",
       "    </tr>\n",
       "    <tr>\n",
       "      <th>41</th>\n",
       "      <td>salary</td>\n",
       "      <td>employability_perc</td>\n",
       "      <td>CorrelationSimilarity</td>\n",
       "      <td>0.926752</td>\n",
       "      <td>NaN</td>\n",
       "      <td>NaN</td>\n",
       "    </tr>\n",
       "    <tr>\n",
       "      <th>42</th>\n",
       "      <td>salary</td>\n",
       "      <td>mba_perc</td>\n",
       "      <td>CorrelationSimilarity</td>\n",
       "      <td>0.862899</td>\n",
       "      <td>NaN</td>\n",
       "      <td>NaN</td>\n",
       "    </tr>\n",
       "    <tr>\n",
       "      <th>43</th>\n",
       "      <td>salary</td>\n",
       "      <td>work_experience</td>\n",
       "      <td>ContingencySimilarity</td>\n",
       "      <td>0.734884</td>\n",
       "      <td>NaN</td>\n",
       "      <td>NaN</td>\n",
       "    </tr>\n",
       "    <tr>\n",
       "      <th>44</th>\n",
       "      <td>salary</td>\n",
       "      <td>degree_type</td>\n",
       "      <td>ContingencySimilarity</td>\n",
       "      <td>0.776744</td>\n",
       "      <td>NaN</td>\n",
       "      <td>NaN</td>\n",
       "    </tr>\n",
       "  </tbody>\n",
       "</table>\n",
       "</div>"
      ],
      "text/plain": [
       "   Column name 1       Column name 2                 Metric     Score  \\\n",
       "31        salary            duration  CorrelationSimilarity  0.973049   \n",
       "32        salary          student_id  CorrelationSimilarity  0.973049   \n",
       "33        salary           high_perc  CorrelationSimilarity  0.956861   \n",
       "34        salary           high_spec  ContingencySimilarity  0.758140   \n",
       "35        salary            mba_spec  ContingencySimilarity  0.790698   \n",
       "36        salary         second_perc  CorrelationSimilarity  0.967616   \n",
       "37        salary              gender  ContingencySimilarity  0.786047   \n",
       "38        salary         degree_perc  CorrelationSimilarity  0.953250   \n",
       "39        salary              placed  ContingencySimilarity  0.781395   \n",
       "40        salary    experience_years  CorrelationSimilarity  0.995457   \n",
       "41        salary  employability_perc  CorrelationSimilarity  0.926752   \n",
       "42        salary            mba_perc  CorrelationSimilarity  0.862899   \n",
       "43        salary     work_experience  ContingencySimilarity  0.734884   \n",
       "44        salary         degree_type  ContingencySimilarity  0.776744   \n",
       "\n",
       "    Real correlation  Synthetic correlation  \n",
       "31               NaN                    NaN  \n",
       "32               NaN                    NaN  \n",
       "33               NaN                    NaN  \n",
       "34               NaN                    NaN  \n",
       "35               NaN                    NaN  \n",
       "36               NaN                    NaN  \n",
       "37               NaN                    NaN  \n",
       "38               NaN                    NaN  \n",
       "39               NaN                    NaN  \n",
       "40               NaN                    NaN  \n",
       "41               NaN                    NaN  \n",
       "42               NaN                    NaN  \n",
       "43               NaN                    NaN  \n",
       "44               NaN                    NaN  "
      ]
     },
     "execution_count": 5,
     "metadata": {},
     "output_type": "execute_result"
    }
   ],
   "source": [
    "details_2 = proper._details\n",
    "details_2.loc[details_2['Column name 1'] == 'salary']\n"
   ]
  },
  {
   "cell_type": "code",
   "execution_count": 4,
   "metadata": {},
   "outputs": [
    {
     "data": {
      "text/plain": [
       "{'primary_key': 'student_id',\n",
       " 'columns': {'start_date': {'sdtype': 'datetime',\n",
       "   'datetime_format': '%Y-%m-%d'},\n",
       "  'end_date': {'sdtype': 'datetime', 'datetime_format': '%Y-%m-%d'},\n",
       "  'salary': {'sdtype': 'numerical', 'computer_representation': 'Int64'},\n",
       "  'duration': {'sdtype': 'numerical', 'computer_representation': 'Int64'},\n",
       "  'student_id': {'sdtype': 'id', 'regex_format': '\\\\d{30}'},\n",
       "  'high_perc': {'sdtype': 'numerical', 'computer_representation': 'Float'},\n",
       "  'high_spec': {'sdtype': 'categorical'},\n",
       "  'mba_spec': {'sdtype': 'categorical'},\n",
       "  'second_perc': {'sdtype': 'numerical', 'computer_representation': 'Float'},\n",
       "  'gender': {'sdtype': 'categorical'},\n",
       "  'degree_perc': {'sdtype': 'numerical', 'computer_representation': 'Float'},\n",
       "  'placed': {'sdtype': 'boolean'},\n",
       "  'experience_years': {'sdtype': 'numerical',\n",
       "   'computer_representation': 'Float'},\n",
       "  'employability_perc': {'sdtype': 'numerical',\n",
       "   'computer_representation': 'Float'},\n",
       "  'mba_perc': {'sdtype': 'numerical', 'computer_representation': 'Float'},\n",
       "  'work_experience': {'sdtype': 'boolean'},\n",
       "  'degree_type': {'sdtype': 'categorical'}},\n",
       " 'METADATA_SPEC_VERSION': 'SINGLE_TABLE_V1'}"
      ]
     },
     "execution_count": 4,
     "metadata": {},
     "output_type": "execute_result"
    }
   ],
   "source": [
    "metadata"
   ]
  },
  {
   "cell_type": "code",
   "execution_count": 8,
   "metadata": {},
   "outputs": [
    {
     "data": {
      "text/plain": [
       "93"
      ]
     },
     "execution_count": 8,
     "metadata": {},
     "output_type": "execute_result"
    }
   ],
   "source": [
    "len(proper._details['Score'].dropna())"
   ]
  },
  {
   "cell_type": "code",
   "execution_count": 48,
   "metadata": {},
   "outputs": [
    {
     "data": {
      "text/html": [
       "<div>\n",
       "<style scoped>\n",
       "    .dataframe tbody tr th:only-of-type {\n",
       "        vertical-align: middle;\n",
       "    }\n",
       "\n",
       "    .dataframe tbody tr th {\n",
       "        vertical-align: top;\n",
       "    }\n",
       "\n",
       "    .dataframe thead th {\n",
       "        text-align: right;\n",
       "    }\n",
       "</style>\n",
       "<table border=\"1\" class=\"dataframe\">\n",
       "  <thead>\n",
       "    <tr style=\"text-align: right;\">\n",
       "      <th></th>\n",
       "      <th>degree_perc</th>\n",
       "      <th>degree_type</th>\n",
       "      <th>duration</th>\n",
       "      <th>employability_perc</th>\n",
       "      <th>end_date</th>\n",
       "      <th>experience_years</th>\n",
       "      <th>gender</th>\n",
       "      <th>high_perc</th>\n",
       "      <th>high_spec</th>\n",
       "      <th>mba_perc</th>\n",
       "      <th>mba_spec</th>\n",
       "      <th>placed</th>\n",
       "      <th>salary</th>\n",
       "      <th>second_perc</th>\n",
       "      <th>start_date</th>\n",
       "      <th>work_experience</th>\n",
       "    </tr>\n",
       "  </thead>\n",
       "  <tbody>\n",
       "    <tr>\n",
       "      <th>degree_perc</th>\n",
       "      <td>NaN</td>\n",
       "      <td>NaN</td>\n",
       "      <td>NaN</td>\n",
       "      <td>NaN</td>\n",
       "      <td>NaN</td>\n",
       "      <td>NaN</td>\n",
       "      <td>NaN</td>\n",
       "      <td>NaN</td>\n",
       "      <td>NaN</td>\n",
       "      <td>NaN</td>\n",
       "      <td>NaN</td>\n",
       "      <td>NaN</td>\n",
       "      <td>NaN</td>\n",
       "      <td>NaN</td>\n",
       "      <td>NaN</td>\n",
       "      <td>NaN</td>\n",
       "    </tr>\n",
       "    <tr>\n",
       "      <th>degree_type</th>\n",
       "      <td>NaN</td>\n",
       "      <td>0.000000</td>\n",
       "      <td>0.855814</td>\n",
       "      <td>0.711628</td>\n",
       "      <td>0.795349</td>\n",
       "      <td>0.800000</td>\n",
       "      <td>0.888372</td>\n",
       "      <td>0.525581</td>\n",
       "      <td>0.776744</td>\n",
       "      <td>0.679070</td>\n",
       "      <td>0.925581</td>\n",
       "      <td>0.906977</td>\n",
       "      <td>0.776744</td>\n",
       "      <td>0.613953</td>\n",
       "      <td>0.851163</td>\n",
       "      <td>NaN</td>\n",
       "    </tr>\n",
       "    <tr>\n",
       "      <th>duration</th>\n",
       "      <td>NaN</td>\n",
       "      <td>0.855814</td>\n",
       "      <td>0.000000</td>\n",
       "      <td>0.911840</td>\n",
       "      <td>0.650699</td>\n",
       "      <td>0.962304</td>\n",
       "      <td>0.832558</td>\n",
       "      <td>0.982169</td>\n",
       "      <td>0.846512</td>\n",
       "      <td>0.952692</td>\n",
       "      <td>0.860465</td>\n",
       "      <td>0.837209</td>\n",
       "      <td>0.973049</td>\n",
       "      <td>0.903213</td>\n",
       "      <td>0.833848</td>\n",
       "      <td>NaN</td>\n",
       "    </tr>\n",
       "    <tr>\n",
       "      <th>employability_perc</th>\n",
       "      <td>NaN</td>\n",
       "      <td>0.711628</td>\n",
       "      <td>0.911840</td>\n",
       "      <td>0.000000</td>\n",
       "      <td>0.918056</td>\n",
       "      <td>0.984823</td>\n",
       "      <td>0.679070</td>\n",
       "      <td>0.913392</td>\n",
       "      <td>0.688372</td>\n",
       "      <td>0.882587</td>\n",
       "      <td>0.720930</td>\n",
       "      <td>0.734884</td>\n",
       "      <td>0.926752</td>\n",
       "      <td>0.940293</td>\n",
       "      <td>0.995286</td>\n",
       "      <td>NaN</td>\n",
       "    </tr>\n",
       "    <tr>\n",
       "      <th>end_date</th>\n",
       "      <td>NaN</td>\n",
       "      <td>0.795349</td>\n",
       "      <td>0.650699</td>\n",
       "      <td>0.918056</td>\n",
       "      <td>0.000000</td>\n",
       "      <td>0.937302</td>\n",
       "      <td>0.827907</td>\n",
       "      <td>0.916601</td>\n",
       "      <td>0.800000</td>\n",
       "      <td>0.938288</td>\n",
       "      <td>0.827907</td>\n",
       "      <td>0.781395</td>\n",
       "      <td>0.951624</td>\n",
       "      <td>0.918795</td>\n",
       "      <td>0.906445</td>\n",
       "      <td>NaN</td>\n",
       "    </tr>\n",
       "    <tr>\n",
       "      <th>experience_years</th>\n",
       "      <td>NaN</td>\n",
       "      <td>0.800000</td>\n",
       "      <td>0.962304</td>\n",
       "      <td>0.984823</td>\n",
       "      <td>0.937302</td>\n",
       "      <td>0.000000</td>\n",
       "      <td>0.800000</td>\n",
       "      <td>0.941186</td>\n",
       "      <td>0.800000</td>\n",
       "      <td>0.938878</td>\n",
       "      <td>0.800000</td>\n",
       "      <td>0.800000</td>\n",
       "      <td>0.995457</td>\n",
       "      <td>0.935471</td>\n",
       "      <td>0.948435</td>\n",
       "      <td>NaN</td>\n",
       "    </tr>\n",
       "    <tr>\n",
       "      <th>gender</th>\n",
       "      <td>NaN</td>\n",
       "      <td>0.888372</td>\n",
       "      <td>0.832558</td>\n",
       "      <td>0.679070</td>\n",
       "      <td>0.827907</td>\n",
       "      <td>0.800000</td>\n",
       "      <td>0.000000</td>\n",
       "      <td>0.548837</td>\n",
       "      <td>0.888372</td>\n",
       "      <td>0.730233</td>\n",
       "      <td>0.939535</td>\n",
       "      <td>0.897674</td>\n",
       "      <td>0.786047</td>\n",
       "      <td>0.632558</td>\n",
       "      <td>0.860465</td>\n",
       "      <td>NaN</td>\n",
       "    </tr>\n",
       "    <tr>\n",
       "      <th>high_perc</th>\n",
       "      <td>NaN</td>\n",
       "      <td>0.525581</td>\n",
       "      <td>0.982169</td>\n",
       "      <td>0.913392</td>\n",
       "      <td>0.916601</td>\n",
       "      <td>0.941186</td>\n",
       "      <td>0.548837</td>\n",
       "      <td>0.000000</td>\n",
       "      <td>0.506977</td>\n",
       "      <td>0.812731</td>\n",
       "      <td>0.548837</td>\n",
       "      <td>0.465116</td>\n",
       "      <td>0.956861</td>\n",
       "      <td>0.627764</td>\n",
       "      <td>0.943772</td>\n",
       "      <td>NaN</td>\n",
       "    </tr>\n",
       "    <tr>\n",
       "      <th>high_spec</th>\n",
       "      <td>NaN</td>\n",
       "      <td>0.776744</td>\n",
       "      <td>0.846512</td>\n",
       "      <td>0.688372</td>\n",
       "      <td>0.800000</td>\n",
       "      <td>0.800000</td>\n",
       "      <td>0.888372</td>\n",
       "      <td>0.506977</td>\n",
       "      <td>0.000000</td>\n",
       "      <td>0.711628</td>\n",
       "      <td>0.883721</td>\n",
       "      <td>0.897674</td>\n",
       "      <td>0.758140</td>\n",
       "      <td>0.609302</td>\n",
       "      <td>0.837209</td>\n",
       "      <td>NaN</td>\n",
       "    </tr>\n",
       "    <tr>\n",
       "      <th>mba_perc</th>\n",
       "      <td>NaN</td>\n",
       "      <td>0.679070</td>\n",
       "      <td>0.952692</td>\n",
       "      <td>0.882587</td>\n",
       "      <td>0.938288</td>\n",
       "      <td>0.938878</td>\n",
       "      <td>0.730233</td>\n",
       "      <td>0.812731</td>\n",
       "      <td>0.711628</td>\n",
       "      <td>0.000000</td>\n",
       "      <td>0.697674</td>\n",
       "      <td>0.748837</td>\n",
       "      <td>0.862899</td>\n",
       "      <td>0.829811</td>\n",
       "      <td>0.979492</td>\n",
       "      <td>NaN</td>\n",
       "    </tr>\n",
       "    <tr>\n",
       "      <th>mba_spec</th>\n",
       "      <td>NaN</td>\n",
       "      <td>0.925581</td>\n",
       "      <td>0.860465</td>\n",
       "      <td>0.720930</td>\n",
       "      <td>0.827907</td>\n",
       "      <td>0.800000</td>\n",
       "      <td>0.939535</td>\n",
       "      <td>0.548837</td>\n",
       "      <td>0.883721</td>\n",
       "      <td>0.697674</td>\n",
       "      <td>0.000000</td>\n",
       "      <td>0.916279</td>\n",
       "      <td>0.790698</td>\n",
       "      <td>0.637209</td>\n",
       "      <td>0.860465</td>\n",
       "      <td>NaN</td>\n",
       "    </tr>\n",
       "    <tr>\n",
       "      <th>placed</th>\n",
       "      <td>NaN</td>\n",
       "      <td>0.906977</td>\n",
       "      <td>0.837209</td>\n",
       "      <td>0.734884</td>\n",
       "      <td>0.781395</td>\n",
       "      <td>0.800000</td>\n",
       "      <td>0.897674</td>\n",
       "      <td>0.465116</td>\n",
       "      <td>0.897674</td>\n",
       "      <td>0.748837</td>\n",
       "      <td>0.916279</td>\n",
       "      <td>0.000000</td>\n",
       "      <td>0.781395</td>\n",
       "      <td>0.558140</td>\n",
       "      <td>0.818605</td>\n",
       "      <td>NaN</td>\n",
       "    </tr>\n",
       "    <tr>\n",
       "      <th>salary</th>\n",
       "      <td>NaN</td>\n",
       "      <td>0.776744</td>\n",
       "      <td>0.973049</td>\n",
       "      <td>0.926752</td>\n",
       "      <td>0.951624</td>\n",
       "      <td>0.995457</td>\n",
       "      <td>0.786047</td>\n",
       "      <td>0.956861</td>\n",
       "      <td>0.758140</td>\n",
       "      <td>0.862899</td>\n",
       "      <td>0.790698</td>\n",
       "      <td>0.781395</td>\n",
       "      <td>0.000000</td>\n",
       "      <td>0.967616</td>\n",
       "      <td>0.968412</td>\n",
       "      <td>NaN</td>\n",
       "    </tr>\n",
       "    <tr>\n",
       "      <th>second_perc</th>\n",
       "      <td>NaN</td>\n",
       "      <td>0.613953</td>\n",
       "      <td>0.903213</td>\n",
       "      <td>0.940293</td>\n",
       "      <td>0.918795</td>\n",
       "      <td>0.935471</td>\n",
       "      <td>0.632558</td>\n",
       "      <td>0.627764</td>\n",
       "      <td>0.609302</td>\n",
       "      <td>0.829811</td>\n",
       "      <td>0.637209</td>\n",
       "      <td>0.558140</td>\n",
       "      <td>0.967616</td>\n",
       "      <td>0.000000</td>\n",
       "      <td>0.985451</td>\n",
       "      <td>NaN</td>\n",
       "    </tr>\n",
       "    <tr>\n",
       "      <th>start_date</th>\n",
       "      <td>NaN</td>\n",
       "      <td>0.851163</td>\n",
       "      <td>0.833848</td>\n",
       "      <td>0.995286</td>\n",
       "      <td>0.906445</td>\n",
       "      <td>0.948435</td>\n",
       "      <td>0.860465</td>\n",
       "      <td>0.943772</td>\n",
       "      <td>0.837209</td>\n",
       "      <td>0.979492</td>\n",
       "      <td>0.860465</td>\n",
       "      <td>0.818605</td>\n",
       "      <td>0.968412</td>\n",
       "      <td>0.985451</td>\n",
       "      <td>0.000000</td>\n",
       "      <td>NaN</td>\n",
       "    </tr>\n",
       "    <tr>\n",
       "      <th>work_experience</th>\n",
       "      <td>NaN</td>\n",
       "      <td>NaN</td>\n",
       "      <td>NaN</td>\n",
       "      <td>NaN</td>\n",
       "      <td>NaN</td>\n",
       "      <td>NaN</td>\n",
       "      <td>NaN</td>\n",
       "      <td>NaN</td>\n",
       "      <td>NaN</td>\n",
       "      <td>NaN</td>\n",
       "      <td>NaN</td>\n",
       "      <td>NaN</td>\n",
       "      <td>NaN</td>\n",
       "      <td>NaN</td>\n",
       "      <td>NaN</td>\n",
       "      <td>NaN</td>\n",
       "    </tr>\n",
       "  </tbody>\n",
       "</table>\n",
       "</div>"
      ],
      "text/plain": [
       "                    degree_perc  degree_type  duration  employability_perc  \\\n",
       "degree_perc                 NaN          NaN       NaN                 NaN   \n",
       "degree_type                 NaN     0.000000  0.855814            0.711628   \n",
       "duration                    NaN     0.855814  0.000000            0.911840   \n",
       "employability_perc          NaN     0.711628  0.911840            0.000000   \n",
       "end_date                    NaN     0.795349  0.650699            0.918056   \n",
       "experience_years            NaN     0.800000  0.962304            0.984823   \n",
       "gender                      NaN     0.888372  0.832558            0.679070   \n",
       "high_perc                   NaN     0.525581  0.982169            0.913392   \n",
       "high_spec                   NaN     0.776744  0.846512            0.688372   \n",
       "mba_perc                    NaN     0.679070  0.952692            0.882587   \n",
       "mba_spec                    NaN     0.925581  0.860465            0.720930   \n",
       "placed                      NaN     0.906977  0.837209            0.734884   \n",
       "salary                      NaN     0.776744  0.973049            0.926752   \n",
       "second_perc                 NaN     0.613953  0.903213            0.940293   \n",
       "start_date                  NaN     0.851163  0.833848            0.995286   \n",
       "work_experience             NaN          NaN       NaN                 NaN   \n",
       "\n",
       "                    end_date  experience_years    gender  high_perc  \\\n",
       "degree_perc              NaN               NaN       NaN        NaN   \n",
       "degree_type         0.795349          0.800000  0.888372   0.525581   \n",
       "duration            0.650699          0.962304  0.832558   0.982169   \n",
       "employability_perc  0.918056          0.984823  0.679070   0.913392   \n",
       "end_date            0.000000          0.937302  0.827907   0.916601   \n",
       "experience_years    0.937302          0.000000  0.800000   0.941186   \n",
       "gender              0.827907          0.800000  0.000000   0.548837   \n",
       "high_perc           0.916601          0.941186  0.548837   0.000000   \n",
       "high_spec           0.800000          0.800000  0.888372   0.506977   \n",
       "mba_perc            0.938288          0.938878  0.730233   0.812731   \n",
       "mba_spec            0.827907          0.800000  0.939535   0.548837   \n",
       "placed              0.781395          0.800000  0.897674   0.465116   \n",
       "salary              0.951624          0.995457  0.786047   0.956861   \n",
       "second_perc         0.918795          0.935471  0.632558   0.627764   \n",
       "start_date          0.906445          0.948435  0.860465   0.943772   \n",
       "work_experience          NaN               NaN       NaN        NaN   \n",
       "\n",
       "                    high_spec  mba_perc  mba_spec    placed    salary  \\\n",
       "degree_perc               NaN       NaN       NaN       NaN       NaN   \n",
       "degree_type          0.776744  0.679070  0.925581  0.906977  0.776744   \n",
       "duration             0.846512  0.952692  0.860465  0.837209  0.973049   \n",
       "employability_perc   0.688372  0.882587  0.720930  0.734884  0.926752   \n",
       "end_date             0.800000  0.938288  0.827907  0.781395  0.951624   \n",
       "experience_years     0.800000  0.938878  0.800000  0.800000  0.995457   \n",
       "gender               0.888372  0.730233  0.939535  0.897674  0.786047   \n",
       "high_perc            0.506977  0.812731  0.548837  0.465116  0.956861   \n",
       "high_spec            0.000000  0.711628  0.883721  0.897674  0.758140   \n",
       "mba_perc             0.711628  0.000000  0.697674  0.748837  0.862899   \n",
       "mba_spec             0.883721  0.697674  0.000000  0.916279  0.790698   \n",
       "placed               0.897674  0.748837  0.916279  0.000000  0.781395   \n",
       "salary               0.758140  0.862899  0.790698  0.781395  0.000000   \n",
       "second_perc          0.609302  0.829811  0.637209  0.558140  0.967616   \n",
       "start_date           0.837209  0.979492  0.860465  0.818605  0.968412   \n",
       "work_experience           NaN       NaN       NaN       NaN       NaN   \n",
       "\n",
       "                    second_perc  start_date  work_experience  \n",
       "degree_perc                 NaN         NaN              NaN  \n",
       "degree_type            0.613953    0.851163              NaN  \n",
       "duration               0.903213    0.833848              NaN  \n",
       "employability_perc     0.940293    0.995286              NaN  \n",
       "end_date               0.918795    0.906445              NaN  \n",
       "experience_years       0.935471    0.948435              NaN  \n",
       "gender                 0.632558    0.860465              NaN  \n",
       "high_perc              0.627764    0.943772              NaN  \n",
       "high_spec              0.609302    0.837209              NaN  \n",
       "mba_perc               0.829811    0.979492              NaN  \n",
       "mba_spec               0.637209    0.860465              NaN  \n",
       "placed                 0.558140    0.818605              NaN  \n",
       "salary                 0.967616    0.968412              NaN  \n",
       "second_perc            0.000000    0.985451              NaN  \n",
       "start_date             0.985451    0.000000              NaN  \n",
       "work_experience             NaN         NaN              NaN  "
      ]
     },
     "execution_count": 48,
     "metadata": {},
     "output_type": "execute_result"
    }
   ],
   "source": [
    "import numpy as np\n",
    "pivoted = details.pivot(index='Column 1', columns='Column 2', values='Quality Score', )\n",
    "\n",
    "symmetric = pivoted.fillna(0) + pivoted.fillna(0).T\n",
    "\n",
    "# Fill diagonal with 1s\n",
    "np.fill_diagonal(symmetric.values, 1)\n",
    "symmetric"
   ]
  },
  {
   "cell_type": "code",
   "execution_count": 42,
   "metadata": {},
   "outputs": [
    {
     "data": {
      "text/html": [
       "<div>\n",
       "<style scoped>\n",
       "    .dataframe tbody tr th:only-of-type {\n",
       "        vertical-align: middle;\n",
       "    }\n",
       "\n",
       "    .dataframe tbody tr th {\n",
       "        vertical-align: top;\n",
       "    }\n",
       "\n",
       "    .dataframe thead th {\n",
       "        text-align: right;\n",
       "    }\n",
       "</style>\n",
       "<table border=\"1\" class=\"dataframe\">\n",
       "  <thead>\n",
       "    <tr style=\"text-align: right;\">\n",
       "      <th>Column 2</th>\n",
       "      <th>degree_type</th>\n",
       "      <th>duration</th>\n",
       "      <th>employability_perc</th>\n",
       "      <th>end_date</th>\n",
       "      <th>experience_years</th>\n",
       "      <th>gender</th>\n",
       "      <th>high_perc</th>\n",
       "      <th>high_spec</th>\n",
       "      <th>mba_perc</th>\n",
       "      <th>mba_spec</th>\n",
       "      <th>placed</th>\n",
       "      <th>salary</th>\n",
       "      <th>second_perc</th>\n",
       "      <th>start_date</th>\n",
       "      <th>work_experience</th>\n",
       "    </tr>\n",
       "    <tr>\n",
       "      <th>Column 1</th>\n",
       "      <th></th>\n",
       "      <th></th>\n",
       "      <th></th>\n",
       "      <th></th>\n",
       "      <th></th>\n",
       "      <th></th>\n",
       "      <th></th>\n",
       "      <th></th>\n",
       "      <th></th>\n",
       "      <th></th>\n",
       "      <th></th>\n",
       "      <th></th>\n",
       "      <th></th>\n",
       "      <th></th>\n",
       "      <th></th>\n",
       "    </tr>\n",
       "  </thead>\n",
       "  <tbody>\n",
       "    <tr>\n",
       "      <th>degree_perc</th>\n",
       "      <td>0.581395</td>\n",
       "      <td>0.923325</td>\n",
       "      <td>0.917722</td>\n",
       "      <td>0.934286</td>\n",
       "      <td>0.924756</td>\n",
       "      <td>0.618605</td>\n",
       "      <td>0.861134</td>\n",
       "      <td>0.604651</td>\n",
       "      <td>0.875514</td>\n",
       "      <td>0.627907</td>\n",
       "      <td>0.488372</td>\n",
       "      <td>0.953250</td>\n",
       "      <td>0.771483</td>\n",
       "      <td>0.911824</td>\n",
       "      <td>0.595349</td>\n",
       "    </tr>\n",
       "    <tr>\n",
       "      <th>degree_type</th>\n",
       "      <td>NaN</td>\n",
       "      <td>0.855814</td>\n",
       "      <td>0.711628</td>\n",
       "      <td>0.795349</td>\n",
       "      <td>0.800000</td>\n",
       "      <td>0.888372</td>\n",
       "      <td>0.525581</td>\n",
       "      <td>0.776744</td>\n",
       "      <td>0.679070</td>\n",
       "      <td>0.925581</td>\n",
       "      <td>0.906977</td>\n",
       "      <td>0.776744</td>\n",
       "      <td>0.613953</td>\n",
       "      <td>0.851163</td>\n",
       "      <td>0.897674</td>\n",
       "    </tr>\n",
       "    <tr>\n",
       "      <th>duration</th>\n",
       "      <td>NaN</td>\n",
       "      <td>NaN</td>\n",
       "      <td>0.911840</td>\n",
       "      <td>0.650699</td>\n",
       "      <td>0.962304</td>\n",
       "      <td>0.832558</td>\n",
       "      <td>0.982169</td>\n",
       "      <td>0.846512</td>\n",
       "      <td>0.952692</td>\n",
       "      <td>0.860465</td>\n",
       "      <td>0.837209</td>\n",
       "      <td>0.973049</td>\n",
       "      <td>0.903213</td>\n",
       "      <td>0.833848</td>\n",
       "      <td>0.832558</td>\n",
       "    </tr>\n",
       "    <tr>\n",
       "      <th>employability_perc</th>\n",
       "      <td>NaN</td>\n",
       "      <td>NaN</td>\n",
       "      <td>NaN</td>\n",
       "      <td>0.918056</td>\n",
       "      <td>0.984823</td>\n",
       "      <td>0.679070</td>\n",
       "      <td>0.913392</td>\n",
       "      <td>0.688372</td>\n",
       "      <td>0.882587</td>\n",
       "      <td>0.720930</td>\n",
       "      <td>0.734884</td>\n",
       "      <td>0.926752</td>\n",
       "      <td>0.940293</td>\n",
       "      <td>0.995286</td>\n",
       "      <td>0.669767</td>\n",
       "    </tr>\n",
       "    <tr>\n",
       "      <th>end_date</th>\n",
       "      <td>NaN</td>\n",
       "      <td>NaN</td>\n",
       "      <td>NaN</td>\n",
       "      <td>NaN</td>\n",
       "      <td>0.937302</td>\n",
       "      <td>0.827907</td>\n",
       "      <td>0.916601</td>\n",
       "      <td>0.800000</td>\n",
       "      <td>0.938288</td>\n",
       "      <td>0.827907</td>\n",
       "      <td>0.781395</td>\n",
       "      <td>0.951624</td>\n",
       "      <td>0.918795</td>\n",
       "      <td>0.906445</td>\n",
       "      <td>0.809302</td>\n",
       "    </tr>\n",
       "    <tr>\n",
       "      <th>experience_years</th>\n",
       "      <td>NaN</td>\n",
       "      <td>NaN</td>\n",
       "      <td>NaN</td>\n",
       "      <td>NaN</td>\n",
       "      <td>NaN</td>\n",
       "      <td>0.800000</td>\n",
       "      <td>0.941186</td>\n",
       "      <td>0.800000</td>\n",
       "      <td>0.938878</td>\n",
       "      <td>0.800000</td>\n",
       "      <td>0.800000</td>\n",
       "      <td>0.995457</td>\n",
       "      <td>0.935471</td>\n",
       "      <td>0.948435</td>\n",
       "      <td>0.688372</td>\n",
       "    </tr>\n",
       "    <tr>\n",
       "      <th>gender</th>\n",
       "      <td>NaN</td>\n",
       "      <td>NaN</td>\n",
       "      <td>NaN</td>\n",
       "      <td>NaN</td>\n",
       "      <td>NaN</td>\n",
       "      <td>NaN</td>\n",
       "      <td>0.548837</td>\n",
       "      <td>0.888372</td>\n",
       "      <td>0.730233</td>\n",
       "      <td>0.939535</td>\n",
       "      <td>0.897674</td>\n",
       "      <td>0.786047</td>\n",
       "      <td>0.632558</td>\n",
       "      <td>0.860465</td>\n",
       "      <td>0.934884</td>\n",
       "    </tr>\n",
       "    <tr>\n",
       "      <th>high_perc</th>\n",
       "      <td>NaN</td>\n",
       "      <td>NaN</td>\n",
       "      <td>NaN</td>\n",
       "      <td>NaN</td>\n",
       "      <td>NaN</td>\n",
       "      <td>NaN</td>\n",
       "      <td>NaN</td>\n",
       "      <td>0.506977</td>\n",
       "      <td>0.812731</td>\n",
       "      <td>0.548837</td>\n",
       "      <td>0.465116</td>\n",
       "      <td>0.956861</td>\n",
       "      <td>0.627764</td>\n",
       "      <td>0.943772</td>\n",
       "      <td>0.534884</td>\n",
       "    </tr>\n",
       "    <tr>\n",
       "      <th>high_spec</th>\n",
       "      <td>NaN</td>\n",
       "      <td>NaN</td>\n",
       "      <td>NaN</td>\n",
       "      <td>NaN</td>\n",
       "      <td>NaN</td>\n",
       "      <td>NaN</td>\n",
       "      <td>NaN</td>\n",
       "      <td>NaN</td>\n",
       "      <td>0.711628</td>\n",
       "      <td>0.883721</td>\n",
       "      <td>0.897674</td>\n",
       "      <td>0.758140</td>\n",
       "      <td>0.609302</td>\n",
       "      <td>0.837209</td>\n",
       "      <td>0.902326</td>\n",
       "    </tr>\n",
       "    <tr>\n",
       "      <th>mba_perc</th>\n",
       "      <td>NaN</td>\n",
       "      <td>NaN</td>\n",
       "      <td>NaN</td>\n",
       "      <td>NaN</td>\n",
       "      <td>NaN</td>\n",
       "      <td>NaN</td>\n",
       "      <td>NaN</td>\n",
       "      <td>NaN</td>\n",
       "      <td>NaN</td>\n",
       "      <td>0.697674</td>\n",
       "      <td>0.748837</td>\n",
       "      <td>0.862899</td>\n",
       "      <td>0.829811</td>\n",
       "      <td>0.979492</td>\n",
       "      <td>0.748837</td>\n",
       "    </tr>\n",
       "    <tr>\n",
       "      <th>mba_spec</th>\n",
       "      <td>NaN</td>\n",
       "      <td>NaN</td>\n",
       "      <td>NaN</td>\n",
       "      <td>NaN</td>\n",
       "      <td>NaN</td>\n",
       "      <td>NaN</td>\n",
       "      <td>NaN</td>\n",
       "      <td>NaN</td>\n",
       "      <td>NaN</td>\n",
       "      <td>NaN</td>\n",
       "      <td>0.916279</td>\n",
       "      <td>0.790698</td>\n",
       "      <td>0.637209</td>\n",
       "      <td>0.860465</td>\n",
       "      <td>0.930233</td>\n",
       "    </tr>\n",
       "    <tr>\n",
       "      <th>placed</th>\n",
       "      <td>NaN</td>\n",
       "      <td>NaN</td>\n",
       "      <td>NaN</td>\n",
       "      <td>NaN</td>\n",
       "      <td>NaN</td>\n",
       "      <td>NaN</td>\n",
       "      <td>NaN</td>\n",
       "      <td>NaN</td>\n",
       "      <td>NaN</td>\n",
       "      <td>NaN</td>\n",
       "      <td>NaN</td>\n",
       "      <td>0.781395</td>\n",
       "      <td>0.558140</td>\n",
       "      <td>0.818605</td>\n",
       "      <td>0.841860</td>\n",
       "    </tr>\n",
       "    <tr>\n",
       "      <th>salary</th>\n",
       "      <td>NaN</td>\n",
       "      <td>NaN</td>\n",
       "      <td>NaN</td>\n",
       "      <td>NaN</td>\n",
       "      <td>NaN</td>\n",
       "      <td>NaN</td>\n",
       "      <td>NaN</td>\n",
       "      <td>NaN</td>\n",
       "      <td>NaN</td>\n",
       "      <td>NaN</td>\n",
       "      <td>NaN</td>\n",
       "      <td>NaN</td>\n",
       "      <td>0.967616</td>\n",
       "      <td>0.968412</td>\n",
       "      <td>0.734884</td>\n",
       "    </tr>\n",
       "    <tr>\n",
       "      <th>second_perc</th>\n",
       "      <td>NaN</td>\n",
       "      <td>NaN</td>\n",
       "      <td>NaN</td>\n",
       "      <td>NaN</td>\n",
       "      <td>NaN</td>\n",
       "      <td>NaN</td>\n",
       "      <td>NaN</td>\n",
       "      <td>NaN</td>\n",
       "      <td>NaN</td>\n",
       "      <td>NaN</td>\n",
       "      <td>NaN</td>\n",
       "      <td>NaN</td>\n",
       "      <td>NaN</td>\n",
       "      <td>0.985451</td>\n",
       "      <td>0.627907</td>\n",
       "    </tr>\n",
       "    <tr>\n",
       "      <th>start_date</th>\n",
       "      <td>NaN</td>\n",
       "      <td>NaN</td>\n",
       "      <td>NaN</td>\n",
       "      <td>NaN</td>\n",
       "      <td>NaN</td>\n",
       "      <td>NaN</td>\n",
       "      <td>NaN</td>\n",
       "      <td>NaN</td>\n",
       "      <td>NaN</td>\n",
       "      <td>NaN</td>\n",
       "      <td>NaN</td>\n",
       "      <td>NaN</td>\n",
       "      <td>NaN</td>\n",
       "      <td>NaN</td>\n",
       "      <td>0.800000</td>\n",
       "    </tr>\n",
       "  </tbody>\n",
       "</table>\n",
       "</div>"
      ],
      "text/plain": [
       "Column 2            degree_type  duration  employability_perc  end_date  \\\n",
       "Column 1                                                                  \n",
       "degree_perc            0.581395  0.923325            0.917722  0.934286   \n",
       "degree_type                 NaN  0.855814            0.711628  0.795349   \n",
       "duration                    NaN       NaN            0.911840  0.650699   \n",
       "employability_perc          NaN       NaN                 NaN  0.918056   \n",
       "end_date                    NaN       NaN                 NaN       NaN   \n",
       "experience_years            NaN       NaN                 NaN       NaN   \n",
       "gender                      NaN       NaN                 NaN       NaN   \n",
       "high_perc                   NaN       NaN                 NaN       NaN   \n",
       "high_spec                   NaN       NaN                 NaN       NaN   \n",
       "mba_perc                    NaN       NaN                 NaN       NaN   \n",
       "mba_spec                    NaN       NaN                 NaN       NaN   \n",
       "placed                      NaN       NaN                 NaN       NaN   \n",
       "salary                      NaN       NaN                 NaN       NaN   \n",
       "second_perc                 NaN       NaN                 NaN       NaN   \n",
       "start_date                  NaN       NaN                 NaN       NaN   \n",
       "\n",
       "Column 2            experience_years    gender  high_perc  high_spec  \\\n",
       "Column 1                                                               \n",
       "degree_perc                 0.924756  0.618605   0.861134   0.604651   \n",
       "degree_type                 0.800000  0.888372   0.525581   0.776744   \n",
       "duration                    0.962304  0.832558   0.982169   0.846512   \n",
       "employability_perc          0.984823  0.679070   0.913392   0.688372   \n",
       "end_date                    0.937302  0.827907   0.916601   0.800000   \n",
       "experience_years                 NaN  0.800000   0.941186   0.800000   \n",
       "gender                           NaN       NaN   0.548837   0.888372   \n",
       "high_perc                        NaN       NaN        NaN   0.506977   \n",
       "high_spec                        NaN       NaN        NaN        NaN   \n",
       "mba_perc                         NaN       NaN        NaN        NaN   \n",
       "mba_spec                         NaN       NaN        NaN        NaN   \n",
       "placed                           NaN       NaN        NaN        NaN   \n",
       "salary                           NaN       NaN        NaN        NaN   \n",
       "second_perc                      NaN       NaN        NaN        NaN   \n",
       "start_date                       NaN       NaN        NaN        NaN   \n",
       "\n",
       "Column 2            mba_perc  mba_spec    placed    salary  second_perc  \\\n",
       "Column 1                                                                  \n",
       "degree_perc         0.875514  0.627907  0.488372  0.953250     0.771483   \n",
       "degree_type         0.679070  0.925581  0.906977  0.776744     0.613953   \n",
       "duration            0.952692  0.860465  0.837209  0.973049     0.903213   \n",
       "employability_perc  0.882587  0.720930  0.734884  0.926752     0.940293   \n",
       "end_date            0.938288  0.827907  0.781395  0.951624     0.918795   \n",
       "experience_years    0.938878  0.800000  0.800000  0.995457     0.935471   \n",
       "gender              0.730233  0.939535  0.897674  0.786047     0.632558   \n",
       "high_perc           0.812731  0.548837  0.465116  0.956861     0.627764   \n",
       "high_spec           0.711628  0.883721  0.897674  0.758140     0.609302   \n",
       "mba_perc                 NaN  0.697674  0.748837  0.862899     0.829811   \n",
       "mba_spec                 NaN       NaN  0.916279  0.790698     0.637209   \n",
       "placed                   NaN       NaN       NaN  0.781395     0.558140   \n",
       "salary                   NaN       NaN       NaN       NaN     0.967616   \n",
       "second_perc              NaN       NaN       NaN       NaN          NaN   \n",
       "start_date               NaN       NaN       NaN       NaN          NaN   \n",
       "\n",
       "Column 2            start_date  work_experience  \n",
       "Column 1                                         \n",
       "degree_perc           0.911824         0.595349  \n",
       "degree_type           0.851163         0.897674  \n",
       "duration              0.833848         0.832558  \n",
       "employability_perc    0.995286         0.669767  \n",
       "end_date              0.906445         0.809302  \n",
       "experience_years      0.948435         0.688372  \n",
       "gender                0.860465         0.934884  \n",
       "high_perc             0.943772         0.534884  \n",
       "high_spec             0.837209         0.902326  \n",
       "mba_perc              0.979492         0.748837  \n",
       "mba_spec              0.860465         0.930233  \n",
       "placed                0.818605         0.841860  \n",
       "salary                0.968412         0.734884  \n",
       "second_perc           0.985451         0.627907  \n",
       "start_date                 NaN         0.800000  "
      ]
     },
     "execution_count": 42,
     "metadata": {},
     "output_type": "execute_result"
    }
   ],
   "source": []
  },
  {
   "cell_type": "code",
   "execution_count": 40,
   "metadata": {},
   "outputs": [
    {
     "data": {
      "application/vnd.plotly.v1+json": {
       "config": {
        "plotlyServerURL": "https://plot.ly"
       },
       "data": [
        {
         "coloraxis": "coloraxis",
         "hovertemplate": "<b>Column Pair</b><br>(%{x},%{y})<br><br>Similarity: %{z}<extra></extra>",
         "type": "heatmap",
         "x": [
          "start_date",
          "work_experience",
          "mba_perc",
          "degree_type",
          "duration",
          "high_perc",
          "high_spec",
          "degree_perc",
          "mba_spec",
          "second_perc",
          "salary",
          "experience_years",
          "employability_perc",
          "placed",
          "end_date",
          "gender"
         ],
         "xaxis": "x",
         "y": [
          "start_date",
          "work_experience",
          "mba_perc",
          "degree_type",
          "duration",
          "high_perc",
          "high_spec",
          "degree_perc",
          "mba_spec",
          "second_perc",
          "salary",
          "experience_years",
          "employability_perc",
          "placed",
          "end_date",
          "gender"
         ],
         "yaxis": "y",
         "z": [
          [
           1,
           0.8,
           0.98,
           0.85,
           0.83,
           0.94,
           0.84,
           0.91,
           0.86,
           0.99,
           0.97,
           0.95,
           1,
           0.82,
           0.91,
           0.86
          ],
          [
           0.8,
           1,
           0.75,
           0.9,
           0.83,
           0.53,
           0.9,
           0.6,
           0.93,
           0.63,
           0.73,
           0.69,
           0.67,
           0.84,
           0.81,
           0.93
          ],
          [
           0.98,
           0.75,
           1,
           0.68,
           0.95,
           0.81,
           0.71,
           0.88,
           0.7,
           0.83,
           0.86,
           0.94,
           0.88,
           0.75,
           0.94,
           0.73
          ],
          [
           0.85,
           0.9,
           0.68,
           1,
           0.86,
           0.53,
           0.78,
           0.58,
           0.93,
           0.61,
           0.78,
           0.8,
           0.71,
           0.91,
           0.8,
           0.89
          ],
          [
           0.83,
           0.83,
           0.95,
           0.86,
           1,
           0.98,
           0.85,
           0.92,
           0.86,
           0.9,
           0.97,
           0.96,
           0.91,
           0.84,
           0.65,
           0.83
          ],
          [
           0.94,
           0.53,
           0.81,
           0.53,
           0.98,
           1,
           0.51,
           0.86,
           0.55,
           0.63,
           0.96,
           0.94,
           0.91,
           0.47,
           0.92,
           0.55
          ],
          [
           0.84,
           0.9,
           0.71,
           0.78,
           0.85,
           0.51,
           1,
           0.6,
           0.88,
           0.61,
           0.76,
           0.8,
           0.69,
           0.9,
           0.8,
           0.89
          ],
          [
           0.91,
           0.6,
           0.88,
           0.58,
           0.92,
           0.86,
           0.6,
           1,
           0.63,
           0.77,
           0.95,
           0.92,
           0.92,
           0.49,
           0.93,
           0.62
          ],
          [
           0.86,
           0.93,
           0.7,
           0.93,
           0.86,
           0.55,
           0.88,
           0.63,
           1,
           0.64,
           0.79,
           0.8,
           0.72,
           0.92,
           0.83,
           0.94
          ],
          [
           0.99,
           0.63,
           0.83,
           0.61,
           0.9,
           0.63,
           0.61,
           0.77,
           0.64,
           1,
           0.97,
           0.94,
           0.94,
           0.56,
           0.92,
           0.63
          ],
          [
           0.97,
           0.73,
           0.86,
           0.78,
           0.97,
           0.96,
           0.76,
           0.95,
           0.79,
           0.97,
           1,
           1,
           0.93,
           0.78,
           0.95,
           0.79
          ],
          [
           0.95,
           0.69,
           0.94,
           0.8,
           0.96,
           0.94,
           0.8,
           0.92,
           0.8,
           0.94,
           1,
           1,
           0.98,
           0.8,
           0.94,
           0.8
          ],
          [
           1,
           0.67,
           0.88,
           0.71,
           0.91,
           0.91,
           0.69,
           0.92,
           0.72,
           0.94,
           0.93,
           0.98,
           1,
           0.73,
           0.92,
           0.68
          ],
          [
           0.82,
           0.84,
           0.75,
           0.91,
           0.84,
           0.47,
           0.9,
           0.49,
           0.92,
           0.56,
           0.78,
           0.8,
           0.73,
           1,
           0.78,
           0.9
          ],
          [
           0.91,
           0.81,
           0.94,
           0.8,
           0.65,
           0.92,
           0.8,
           0.93,
           0.83,
           0.92,
           0.95,
           0.94,
           0.92,
           0.78,
           1,
           0.83
          ],
          [
           0.86,
           0.93,
           0.73,
           0.89,
           0.83,
           0.55,
           0.89,
           0.62,
           0.94,
           0.63,
           0.79,
           0.8,
           0.68,
           0.9,
           0.83,
           1
          ]
         ]
        },
        {
         "coloraxis": "coloraxis2",
         "customdata": [
          [
           1,
           0.21,
           -0.02,
           -0.07,
           0.13,
           0.04,
           0.04,
           0.06,
           0.08,
           0.04
          ],
          [
           0.21,
           1,
           -0.01,
           -0.12,
           0.17,
           0.08,
           0.11,
           -0.13,
           -0.02,
           -0.08
          ],
          [
           -0.02,
           -0.01,
           1,
           0.09,
           0.16,
           0.1,
           -0.11,
           0.16,
           0.03,
           -0.1
          ],
          [
           -0.07,
           -0.12,
           0.09,
           1,
           -0.04,
           0.04,
           0.14,
           0.13,
           0.13,
           0.06
          ],
          [
           0.13,
           0.17,
           0.16,
           -0.04,
           1,
           -0.23,
           0.16,
           -0.03,
           0.07,
           -0.02
          ],
          [
           0.04,
           0.08,
           0.1,
           0.04,
           -0.23,
           1,
           0.08,
           0.03,
           0.14,
           0.05
          ],
          [
           0.04,
           0.11,
           -0.11,
           0.14,
           0.16,
           0.08,
           1,
           -0.06,
           0.06,
           0.15
          ],
          [
           0.06,
           -0.13,
           0.16,
           0.13,
           -0.03,
           0.03,
           -0.06,
           1,
           0.02,
           0.03
          ],
          [
           0.08,
           -0.02,
           0.03,
           0.13,
           0.07,
           0.14,
           0.06,
           0.02,
           1,
           -0.02
          ],
          [
           0.04,
           -0.08,
           -0.1,
           0.06,
           -0.02,
           0.05,
           0.15,
           0.03,
           -0.02,
           1
          ]
         ],
         "hovertemplate": "<b>Correlation</b><br>(%{x},%{y})<br><br>Real: %{z}<br>(vs. Synthetic: %{customdata})<extra></extra>",
         "type": "heatmap",
         "x": [
          "end_date",
          "start_date",
          "salary",
          "duration",
          "high_perc",
          "second_perc",
          "degree_perc",
          "experience_years",
          "employability_perc",
          "mba_perc"
         ],
         "xaxis": "x2",
         "y": [
          "end_date",
          "start_date",
          "salary",
          "duration",
          "high_perc",
          "second_perc",
          "degree_perc",
          "experience_years",
          "employability_perc",
          "mba_perc"
         ],
         "yaxis": "y2",
         "z": [
          [
           1,
           0.4,
           0.08,
           0.63,
           -0.04,
           -0.12,
           -0.09,
           0.19,
           -0.08,
           -0.09
          ],
          [
           0.4,
           1,
           0.05,
           -0.45,
           0.06,
           0.05,
           -0.07,
           -0.03,
           -0.03,
           -0.04
          ],
          [
           0.08,
           0.05,
           1,
           0.03,
           0.08,
           0.04,
           -0.02,
           0.17,
           0.18,
           0.18
          ],
          [
           0.63,
           -0.45,
           0.03,
           1,
           -0.07,
           -0.15,
           -0.01,
           0.2,
           -0.04,
           -0.04
          ],
          [
           -0.04,
           0.06,
           0.08,
           -0.07,
           1,
           0.51,
           0.43,
           0.09,
           0.25,
           0.35
          ],
          [
           -0.12,
           0.05,
           0.04,
           -0.15,
           0.51,
           1,
           0.54,
           0.16,
           0.26,
           0.39
          ],
          [
           -0.09,
           -0.07,
           -0.02,
           -0.01,
           0.43,
           0.54,
           1,
           0.09,
           0.22,
           0.4
          ],
          [
           0.19,
           -0.03,
           0.17,
           0.2,
           0.09,
           0.16,
           0.09,
           1,
           0.05,
           0.15
          ],
          [
           -0.08,
           -0.03,
           0.18,
           -0.04,
           0.25,
           0.26,
           0.22,
           0.05,
           1,
           0.22
          ],
          [
           -0.09,
           -0.04,
           0.18,
           -0.04,
           0.35,
           0.39,
           0.4,
           0.15,
           0.22,
           1
          ]
         ]
        },
        {
         "coloraxis": "coloraxis2",
         "customdata": [
          [
           1,
           0.4,
           0.08,
           0.63,
           -0.04,
           -0.12,
           -0.09,
           0.19,
           -0.08,
           -0.09
          ],
          [
           0.4,
           1,
           0.05,
           -0.45,
           0.06,
           0.05,
           -0.07,
           -0.03,
           -0.03,
           -0.04
          ],
          [
           0.08,
           0.05,
           1,
           0.03,
           0.08,
           0.04,
           -0.02,
           0.17,
           0.18,
           0.18
          ],
          [
           0.63,
           -0.45,
           0.03,
           1,
           -0.07,
           -0.15,
           -0.01,
           0.2,
           -0.04,
           -0.04
          ],
          [
           -0.04,
           0.06,
           0.08,
           -0.07,
           1,
           0.51,
           0.43,
           0.09,
           0.25,
           0.35
          ],
          [
           -0.12,
           0.05,
           0.04,
           -0.15,
           0.51,
           1,
           0.54,
           0.16,
           0.26,
           0.39
          ],
          [
           -0.09,
           -0.07,
           -0.02,
           -0.01,
           0.43,
           0.54,
           1,
           0.09,
           0.22,
           0.4
          ],
          [
           0.19,
           -0.03,
           0.17,
           0.2,
           0.09,
           0.16,
           0.09,
           1,
           0.05,
           0.15
          ],
          [
           -0.08,
           -0.03,
           0.18,
           -0.04,
           0.25,
           0.26,
           0.22,
           0.05,
           1,
           0.22
          ],
          [
           -0.09,
           -0.04,
           0.18,
           -0.04,
           0.35,
           0.39,
           0.4,
           0.15,
           0.22,
           1
          ]
         ],
         "hovertemplate": "<b>Correlation</b><br>(%{x},%{y})<br><br>Synthetic: %{z}<br>(vs. Real: %{customdata})<extra></extra>",
         "type": "heatmap",
         "x": [
          "end_date",
          "start_date",
          "salary",
          "duration",
          "high_perc",
          "second_perc",
          "degree_perc",
          "experience_years",
          "employability_perc",
          "mba_perc"
         ],
         "xaxis": "x3",
         "y": [
          "end_date",
          "start_date",
          "salary",
          "duration",
          "high_perc",
          "second_perc",
          "degree_perc",
          "experience_years",
          "employability_perc",
          "mba_perc"
         ],
         "yaxis": "y3",
         "z": [
          [
           1,
           0.21,
           -0.02,
           -0.07,
           0.13,
           0.04,
           0.04,
           0.06,
           0.08,
           0.04
          ],
          [
           0.21,
           1,
           -0.01,
           -0.12,
           0.17,
           0.08,
           0.11,
           -0.13,
           -0.02,
           -0.08
          ],
          [
           -0.02,
           -0.01,
           1,
           0.09,
           0.16,
           0.1,
           -0.11,
           0.16,
           0.03,
           -0.1
          ],
          [
           -0.07,
           -0.12,
           0.09,
           1,
           -0.04,
           0.04,
           0.14,
           0.13,
           0.13,
           0.06
          ],
          [
           0.13,
           0.17,
           0.16,
           -0.04,
           1,
           -0.23,
           0.16,
           -0.03,
           0.07,
           -0.02
          ],
          [
           0.04,
           0.08,
           0.1,
           0.04,
           -0.23,
           1,
           0.08,
           0.03,
           0.14,
           0.05
          ],
          [
           0.04,
           0.11,
           -0.11,
           0.14,
           0.16,
           0.08,
           1,
           -0.06,
           0.06,
           0.15
          ],
          [
           0.06,
           -0.13,
           0.16,
           0.13,
           -0.03,
           0.03,
           -0.06,
           1,
           0.02,
           0.03
          ],
          [
           0.08,
           -0.02,
           0.03,
           0.13,
           0.07,
           0.14,
           0.06,
           0.02,
           1,
           -0.02
          ],
          [
           0.04,
           -0.08,
           -0.1,
           0.06,
           -0.02,
           0.05,
           0.15,
           0.03,
           -0.02,
           1
          ]
         ]
        }
       ],
       "layout": {
        "annotations": [
         {
          "font": {
           "size": 16
          },
          "showarrow": false,
          "text": "Real vs. Synthetic Similarity",
          "x": 0.5,
          "xanchor": "center",
          "xref": "paper",
          "y": 1,
          "yanchor": "bottom",
          "yref": "paper"
         },
         {
          "font": {
           "size": 16
          },
          "showarrow": false,
          "text": "Numerical Correlation (Real Data)",
          "x": 0.225,
          "xanchor": "center",
          "xref": "paper",
          "y": 0.375,
          "yanchor": "bottom",
          "yref": "paper"
         },
         {
          "font": {
           "size": 16
          },
          "showarrow": false,
          "text": "Numerical Correlation (Synthetic Data)",
          "x": 0.775,
          "xanchor": "center",
          "xref": "paper",
          "y": 0.375,
          "yanchor": "bottom",
          "yref": "paper"
         }
        ],
        "coloraxis": {
         "cmax": 1,
         "cmin": 0,
         "colorbar": {
          "len": 0.5,
          "x": 0.8,
          "y": 0.8
         },
         "colorscale": [
          [
           0,
           "#FF0000"
          ],
          [
           0.5,
           "#F16141"
          ],
          [
           1,
           "#36B37E"
          ]
         ]
        },
        "coloraxis2": {
         "cmax": 1,
         "cmin": -1,
         "colorbar": {
          "len": 0.5,
          "y": 0.2
         },
         "colorscale": [
          [
           0,
           "#03AFF1"
          ],
          [
           0.5,
           "#000036"
          ],
          [
           1,
           "#01E0C9"
          ]
         ]
        },
        "height": 900,
        "template": {
         "data": {
          "bar": [
           {
            "error_x": {
             "color": "#2a3f5f"
            },
            "error_y": {
             "color": "#2a3f5f"
            },
            "marker": {
             "line": {
              "color": "#E5ECF6",
              "width": 0.5
             },
             "pattern": {
              "fillmode": "overlay",
              "size": 10,
              "solidity": 0.2
             }
            },
            "type": "bar"
           }
          ],
          "barpolar": [
           {
            "marker": {
             "line": {
              "color": "#E5ECF6",
              "width": 0.5
             },
             "pattern": {
              "fillmode": "overlay",
              "size": 10,
              "solidity": 0.2
             }
            },
            "type": "barpolar"
           }
          ],
          "carpet": [
           {
            "aaxis": {
             "endlinecolor": "#2a3f5f",
             "gridcolor": "white",
             "linecolor": "white",
             "minorgridcolor": "white",
             "startlinecolor": "#2a3f5f"
            },
            "baxis": {
             "endlinecolor": "#2a3f5f",
             "gridcolor": "white",
             "linecolor": "white",
             "minorgridcolor": "white",
             "startlinecolor": "#2a3f5f"
            },
            "type": "carpet"
           }
          ],
          "choropleth": [
           {
            "colorbar": {
             "outlinewidth": 0,
             "ticks": ""
            },
            "type": "choropleth"
           }
          ],
          "contour": [
           {
            "colorbar": {
             "outlinewidth": 0,
             "ticks": ""
            },
            "colorscale": [
             [
              0,
              "#0d0887"
             ],
             [
              0.1111111111111111,
              "#46039f"
             ],
             [
              0.2222222222222222,
              "#7201a8"
             ],
             [
              0.3333333333333333,
              "#9c179e"
             ],
             [
              0.4444444444444444,
              "#bd3786"
             ],
             [
              0.5555555555555556,
              "#d8576b"
             ],
             [
              0.6666666666666666,
              "#ed7953"
             ],
             [
              0.7777777777777778,
              "#fb9f3a"
             ],
             [
              0.8888888888888888,
              "#fdca26"
             ],
             [
              1,
              "#f0f921"
             ]
            ],
            "type": "contour"
           }
          ],
          "contourcarpet": [
           {
            "colorbar": {
             "outlinewidth": 0,
             "ticks": ""
            },
            "type": "contourcarpet"
           }
          ],
          "heatmap": [
           {
            "colorbar": {
             "outlinewidth": 0,
             "ticks": ""
            },
            "colorscale": [
             [
              0,
              "#0d0887"
             ],
             [
              0.1111111111111111,
              "#46039f"
             ],
             [
              0.2222222222222222,
              "#7201a8"
             ],
             [
              0.3333333333333333,
              "#9c179e"
             ],
             [
              0.4444444444444444,
              "#bd3786"
             ],
             [
              0.5555555555555556,
              "#d8576b"
             ],
             [
              0.6666666666666666,
              "#ed7953"
             ],
             [
              0.7777777777777778,
              "#fb9f3a"
             ],
             [
              0.8888888888888888,
              "#fdca26"
             ],
             [
              1,
              "#f0f921"
             ]
            ],
            "type": "heatmap"
           }
          ],
          "heatmapgl": [
           {
            "colorbar": {
             "outlinewidth": 0,
             "ticks": ""
            },
            "colorscale": [
             [
              0,
              "#0d0887"
             ],
             [
              0.1111111111111111,
              "#46039f"
             ],
             [
              0.2222222222222222,
              "#7201a8"
             ],
             [
              0.3333333333333333,
              "#9c179e"
             ],
             [
              0.4444444444444444,
              "#bd3786"
             ],
             [
              0.5555555555555556,
              "#d8576b"
             ],
             [
              0.6666666666666666,
              "#ed7953"
             ],
             [
              0.7777777777777778,
              "#fb9f3a"
             ],
             [
              0.8888888888888888,
              "#fdca26"
             ],
             [
              1,
              "#f0f921"
             ]
            ],
            "type": "heatmapgl"
           }
          ],
          "histogram": [
           {
            "marker": {
             "pattern": {
              "fillmode": "overlay",
              "size": 10,
              "solidity": 0.2
             }
            },
            "type": "histogram"
           }
          ],
          "histogram2d": [
           {
            "colorbar": {
             "outlinewidth": 0,
             "ticks": ""
            },
            "colorscale": [
             [
              0,
              "#0d0887"
             ],
             [
              0.1111111111111111,
              "#46039f"
             ],
             [
              0.2222222222222222,
              "#7201a8"
             ],
             [
              0.3333333333333333,
              "#9c179e"
             ],
             [
              0.4444444444444444,
              "#bd3786"
             ],
             [
              0.5555555555555556,
              "#d8576b"
             ],
             [
              0.6666666666666666,
              "#ed7953"
             ],
             [
              0.7777777777777778,
              "#fb9f3a"
             ],
             [
              0.8888888888888888,
              "#fdca26"
             ],
             [
              1,
              "#f0f921"
             ]
            ],
            "type": "histogram2d"
           }
          ],
          "histogram2dcontour": [
           {
            "colorbar": {
             "outlinewidth": 0,
             "ticks": ""
            },
            "colorscale": [
             [
              0,
              "#0d0887"
             ],
             [
              0.1111111111111111,
              "#46039f"
             ],
             [
              0.2222222222222222,
              "#7201a8"
             ],
             [
              0.3333333333333333,
              "#9c179e"
             ],
             [
              0.4444444444444444,
              "#bd3786"
             ],
             [
              0.5555555555555556,
              "#d8576b"
             ],
             [
              0.6666666666666666,
              "#ed7953"
             ],
             [
              0.7777777777777778,
              "#fb9f3a"
             ],
             [
              0.8888888888888888,
              "#fdca26"
             ],
             [
              1,
              "#f0f921"
             ]
            ],
            "type": "histogram2dcontour"
           }
          ],
          "mesh3d": [
           {
            "colorbar": {
             "outlinewidth": 0,
             "ticks": ""
            },
            "type": "mesh3d"
           }
          ],
          "parcoords": [
           {
            "line": {
             "colorbar": {
              "outlinewidth": 0,
              "ticks": ""
             }
            },
            "type": "parcoords"
           }
          ],
          "pie": [
           {
            "automargin": true,
            "type": "pie"
           }
          ],
          "scatter": [
           {
            "fillpattern": {
             "fillmode": "overlay",
             "size": 10,
             "solidity": 0.2
            },
            "type": "scatter"
           }
          ],
          "scatter3d": [
           {
            "line": {
             "colorbar": {
              "outlinewidth": 0,
              "ticks": ""
             }
            },
            "marker": {
             "colorbar": {
              "outlinewidth": 0,
              "ticks": ""
             }
            },
            "type": "scatter3d"
           }
          ],
          "scattercarpet": [
           {
            "marker": {
             "colorbar": {
              "outlinewidth": 0,
              "ticks": ""
             }
            },
            "type": "scattercarpet"
           }
          ],
          "scattergeo": [
           {
            "marker": {
             "colorbar": {
              "outlinewidth": 0,
              "ticks": ""
             }
            },
            "type": "scattergeo"
           }
          ],
          "scattergl": [
           {
            "marker": {
             "colorbar": {
              "outlinewidth": 0,
              "ticks": ""
             }
            },
            "type": "scattergl"
           }
          ],
          "scattermapbox": [
           {
            "marker": {
             "colorbar": {
              "outlinewidth": 0,
              "ticks": ""
             }
            },
            "type": "scattermapbox"
           }
          ],
          "scatterpolar": [
           {
            "marker": {
             "colorbar": {
              "outlinewidth": 0,
              "ticks": ""
             }
            },
            "type": "scatterpolar"
           }
          ],
          "scatterpolargl": [
           {
            "marker": {
             "colorbar": {
              "outlinewidth": 0,
              "ticks": ""
             }
            },
            "type": "scatterpolargl"
           }
          ],
          "scatterternary": [
           {
            "marker": {
             "colorbar": {
              "outlinewidth": 0,
              "ticks": ""
             }
            },
            "type": "scatterternary"
           }
          ],
          "surface": [
           {
            "colorbar": {
             "outlinewidth": 0,
             "ticks": ""
            },
            "colorscale": [
             [
              0,
              "#0d0887"
             ],
             [
              0.1111111111111111,
              "#46039f"
             ],
             [
              0.2222222222222222,
              "#7201a8"
             ],
             [
              0.3333333333333333,
              "#9c179e"
             ],
             [
              0.4444444444444444,
              "#bd3786"
             ],
             [
              0.5555555555555556,
              "#d8576b"
             ],
             [
              0.6666666666666666,
              "#ed7953"
             ],
             [
              0.7777777777777778,
              "#fb9f3a"
             ],
             [
              0.8888888888888888,
              "#fdca26"
             ],
             [
              1,
              "#f0f921"
             ]
            ],
            "type": "surface"
           }
          ],
          "table": [
           {
            "cells": {
             "fill": {
              "color": "#EBF0F8"
             },
             "line": {
              "color": "white"
             }
            },
            "header": {
             "fill": {
              "color": "#C8D4E3"
             },
             "line": {
              "color": "white"
             }
            },
            "type": "table"
           }
          ]
         },
         "layout": {
          "annotationdefaults": {
           "arrowcolor": "#2a3f5f",
           "arrowhead": 0,
           "arrowwidth": 1
          },
          "autotypenumbers": "strict",
          "coloraxis": {
           "colorbar": {
            "outlinewidth": 0,
            "ticks": ""
           }
          },
          "colorscale": {
           "diverging": [
            [
             0,
             "#8e0152"
            ],
            [
             0.1,
             "#c51b7d"
            ],
            [
             0.2,
             "#de77ae"
            ],
            [
             0.3,
             "#f1b6da"
            ],
            [
             0.4,
             "#fde0ef"
            ],
            [
             0.5,
             "#f7f7f7"
            ],
            [
             0.6,
             "#e6f5d0"
            ],
            [
             0.7,
             "#b8e186"
            ],
            [
             0.8,
             "#7fbc41"
            ],
            [
             0.9,
             "#4d9221"
            ],
            [
             1,
             "#276419"
            ]
           ],
           "sequential": [
            [
             0,
             "#0d0887"
            ],
            [
             0.1111111111111111,
             "#46039f"
            ],
            [
             0.2222222222222222,
             "#7201a8"
            ],
            [
             0.3333333333333333,
             "#9c179e"
            ],
            [
             0.4444444444444444,
             "#bd3786"
            ],
            [
             0.5555555555555556,
             "#d8576b"
            ],
            [
             0.6666666666666666,
             "#ed7953"
            ],
            [
             0.7777777777777778,
             "#fb9f3a"
            ],
            [
             0.8888888888888888,
             "#fdca26"
            ],
            [
             1,
             "#f0f921"
            ]
           ],
           "sequentialminus": [
            [
             0,
             "#0d0887"
            ],
            [
             0.1111111111111111,
             "#46039f"
            ],
            [
             0.2222222222222222,
             "#7201a8"
            ],
            [
             0.3333333333333333,
             "#9c179e"
            ],
            [
             0.4444444444444444,
             "#bd3786"
            ],
            [
             0.5555555555555556,
             "#d8576b"
            ],
            [
             0.6666666666666666,
             "#ed7953"
            ],
            [
             0.7777777777777778,
             "#fb9f3a"
            ],
            [
             0.8888888888888888,
             "#fdca26"
            ],
            [
             1,
             "#f0f921"
            ]
           ]
          },
          "colorway": [
           "#636efa",
           "#EF553B",
           "#00cc96",
           "#ab63fa",
           "#FFA15A",
           "#19d3f3",
           "#FF6692",
           "#B6E880",
           "#FF97FF",
           "#FECB52"
          ],
          "font": {
           "color": "#2a3f5f"
          },
          "geo": {
           "bgcolor": "white",
           "lakecolor": "white",
           "landcolor": "#E5ECF6",
           "showlakes": true,
           "showland": true,
           "subunitcolor": "white"
          },
          "hoverlabel": {
           "align": "left"
          },
          "hovermode": "closest",
          "mapbox": {
           "style": "light"
          },
          "paper_bgcolor": "white",
          "plot_bgcolor": "#E5ECF6",
          "polar": {
           "angularaxis": {
            "gridcolor": "white",
            "linecolor": "white",
            "ticks": ""
           },
           "bgcolor": "#E5ECF6",
           "radialaxis": {
            "gridcolor": "white",
            "linecolor": "white",
            "ticks": ""
           }
          },
          "scene": {
           "xaxis": {
            "backgroundcolor": "#E5ECF6",
            "gridcolor": "white",
            "gridwidth": 2,
            "linecolor": "white",
            "showbackground": true,
            "ticks": "",
            "zerolinecolor": "white"
           },
           "yaxis": {
            "backgroundcolor": "#E5ECF6",
            "gridcolor": "white",
            "gridwidth": 2,
            "linecolor": "white",
            "showbackground": true,
            "ticks": "",
            "zerolinecolor": "white"
           },
           "zaxis": {
            "backgroundcolor": "#E5ECF6",
            "gridcolor": "white",
            "gridwidth": 2,
            "linecolor": "white",
            "showbackground": true,
            "ticks": "",
            "zerolinecolor": "white"
           }
          },
          "shapedefaults": {
           "line": {
            "color": "#2a3f5f"
           }
          },
          "ternary": {
           "aaxis": {
            "gridcolor": "white",
            "linecolor": "white",
            "ticks": ""
           },
           "baxis": {
            "gridcolor": "white",
            "linecolor": "white",
            "ticks": ""
           },
           "bgcolor": "#E5ECF6",
           "caxis": {
            "gridcolor": "white",
            "linecolor": "white",
            "ticks": ""
           }
          },
          "title": {
           "x": 0.05
          },
          "xaxis": {
           "automargin": true,
           "gridcolor": "white",
           "linecolor": "white",
           "ticks": "",
           "title": {
            "standoff": 15
           },
           "zerolinecolor": "white",
           "zerolinewidth": 2
          },
          "yaxis": {
           "automargin": true,
           "gridcolor": "white",
           "linecolor": "white",
           "ticks": "",
           "title": {
            "standoff": 15
           },
           "zerolinecolor": "white",
           "zerolinewidth": 2
          }
         }
        },
        "title": {
         "text": "Data Quality: Column Pair Trends (Average Score=0.81)"
        },
        "width": 900,
        "xaxis": {
         "anchor": "y",
         "domain": [
          0.26,
          0.74
         ]
        },
        "xaxis2": {
         "anchor": "y2",
         "domain": [
          0,
          0.45
         ]
        },
        "xaxis3": {
         "anchor": "y3",
         "domain": [
          0.55,
          1
         ],
         "matches": "x2"
        },
        "yaxis": {
         "anchor": "x",
         "autorange": "reversed",
         "domain": [
          0.625,
          1
         ]
        },
        "yaxis2": {
         "anchor": "x2",
         "autorange": "reversed",
         "domain": [
          0,
          0.375
         ]
        },
        "yaxis3": {
         "anchor": "x3",
         "autorange": "reversed",
         "domain": [
          0,
          0.375
         ],
         "matches": "y2",
         "visible": false
        }
       }
      }
     },
     "metadata": {},
     "output_type": "display_data"
    }
   ],
   "source": [
    "report.get_visualization(property_name='Column Pair Trends')"
   ]
  },
  {
   "cell_type": "code",
   "execution_count": 39,
   "metadata": {},
   "outputs": [
    {
     "data": {
      "text/html": [
       "<div>\n",
       "<style scoped>\n",
       "    .dataframe tbody tr th:only-of-type {\n",
       "        vertical-align: middle;\n",
       "    }\n",
       "\n",
       "    .dataframe tbody tr th {\n",
       "        vertical-align: top;\n",
       "    }\n",
       "\n",
       "    .dataframe thead th {\n",
       "        text-align: right;\n",
       "    }\n",
       "</style>\n",
       "<table border=\"1\" class=\"dataframe\">\n",
       "  <thead>\n",
       "    <tr style=\"text-align: right;\">\n",
       "      <th></th>\n",
       "      <th>Column 1</th>\n",
       "      <th>Column 2</th>\n",
       "      <th>Metric</th>\n",
       "      <th>Quality Score</th>\n",
       "      <th>Real Correlation</th>\n",
       "      <th>Synthetic Correlation</th>\n",
       "    </tr>\n",
       "  </thead>\n",
       "  <tbody>\n",
       "  </tbody>\n",
       "</table>\n",
       "</div>"
      ],
      "text/plain": [
       "Empty DataFrame\n",
       "Columns: [Column 1, Column 2, Metric, Quality Score, Real Correlation, Synthetic Correlation]\n",
       "Index: []"
      ]
     },
     "execution_count": 39,
     "metadata": {},
     "output_type": "execute_result"
    }
   ],
   "source": [
    "details.loc[details['Column 1'] == details['Column 2']]"
   ]
  },
  {
   "cell_type": "code",
   "execution_count": 14,
   "metadata": {},
   "outputs": [
    {
     "name": "stderr",
     "output_type": "stream",
     "text": [
      "/Users/romain_datacebo/Desktop/SDMetrics/sdmetrics/reports/single_table/_properties/column_shapes.py:57: UserWarning:\n",
      "\n",
      "Unable to compute Column Shape for column 'start_date'. Encountered Error: TypeError '<' not supported between instances of 'str' and 'int'\n",
      "\n"
     ]
    },
    {
     "ename": "TypeError",
     "evalue": "update() missing 1 required positional argument: 'self'",
     "output_type": "error",
     "traceback": [
      "\u001b[0;31m---------------------------------------------------------------------------\u001b[0m",
      "\u001b[0;31mTypeError\u001b[0m                                 Traceback (most recent call last)",
      "Cell \u001b[0;32mIn[14], line 6\u001b[0m\n\u001b[1;32m      4\u001b[0m real_data[\u001b[39m'\u001b[39m\u001b[39mstart_date\u001b[39m\u001b[39m'\u001b[39m]\u001b[39m.\u001b[39miloc[\u001b[39m0\u001b[39m] \u001b[39m=\u001b[39m \u001b[39m0\u001b[39m\n\u001b[1;32m      5\u001b[0m real_data[\u001b[39m'\u001b[39m\u001b[39memployability_perc\u001b[39m\u001b[39m'\u001b[39m]\u001b[39m.\u001b[39miloc[\u001b[39m2\u001b[39m] \u001b[39m=\u001b[39m \u001b[39m'\u001b[39m\u001b[39ma\u001b[39m\u001b[39m'\u001b[39m\n\u001b[0;32m----> 6\u001b[0m column_shapes\u001b[39m.\u001b[39;49mget_score(real_data, synthetic_data, metadata, tqdm)\n",
      "File \u001b[0;32m~/Desktop/SDMetrics/sdmetrics/reports/single_table/_properties/base.py:46\u001b[0m, in \u001b[0;36mBaseSingleTableProperty.get_score\u001b[0;34m(self, real_data, synthetic_data, metadata, progress_bar)\u001b[0m\n\u001b[1;32m     29\u001b[0m \u001b[39m\u001b[39m\u001b[39m\"\"\"Get the average score for the property on the data.\u001b[39;00m\n\u001b[1;32m     30\u001b[0m \n\u001b[1;32m     31\u001b[0m \u001b[39mArgs:\u001b[39;00m\n\u001b[0;32m   (...)\u001b[0m\n\u001b[1;32m     43\u001b[0m \u001b[39m        The average score for the property.\u001b[39;00m\n\u001b[1;32m     44\u001b[0m \u001b[39m\"\"\"\u001b[39;00m\n\u001b[1;32m     45\u001b[0m validate_single_table_inputs(real_data, synthetic_data, metadata)\n\u001b[0;32m---> 46\u001b[0m \u001b[39mself\u001b[39m\u001b[39m.\u001b[39m_details \u001b[39m=\u001b[39m \u001b[39mself\u001b[39;49m\u001b[39m.\u001b[39;49m_generate_details(real_data, synthetic_data, metadata, progress_bar)\n\u001b[1;32m     47\u001b[0m \u001b[39mreturn\u001b[39;00m \u001b[39mself\u001b[39m\u001b[39m.\u001b[39m_compute_average()\n",
      "File \u001b[0;32m~/Desktop/SDMetrics/sdmetrics/reports/single_table/_properties/column_shapes.py:66\u001b[0m, in \u001b[0;36mColumnShapes._generate_details\u001b[0;34m(self, real_data, synthetic_data, metadata, progress_bar)\u001b[0m\n\u001b[1;32m     64\u001b[0m     scores\u001b[39m.\u001b[39mappend(column_score)\n\u001b[1;32m     65\u001b[0m     \u001b[39mif\u001b[39;00m progress_bar:\n\u001b[0;32m---> 66\u001b[0m         progress_bar\u001b[39m.\u001b[39;49mupdate()\n\u001b[1;32m     68\u001b[0m \u001b[39mif\u001b[39;00m progress_bar:\n\u001b[1;32m     69\u001b[0m     progress_bar\u001b[39m.\u001b[39mclose()\n",
      "\u001b[0;31mTypeError\u001b[0m: update() missing 1 required positional argument: 'self'"
     ]
    }
   ],
   "source": [
    "from sdmetrics.reports.single_table._properties.column_shapes import ColumnShapes\n",
    "\n",
    "column_shapes = ColumnShapes()\n",
    "real_data['start_date'].iloc[0] = 0\n",
    "real_data['employability_perc'].iloc[2] = 'a'\n",
    "column_shapes.get_score(real_data, synthetic_data, metadata, tqdm)"
   ]
  },
  {
   "cell_type": "code",
   "execution_count": 29,
   "metadata": {},
   "outputs": [
    {
     "data": {
      "text/html": [
       "<div>\n",
       "<style scoped>\n",
       "    .dataframe tbody tr th:only-of-type {\n",
       "        vertical-align: middle;\n",
       "    }\n",
       "\n",
       "    .dataframe tbody tr th {\n",
       "        vertical-align: top;\n",
       "    }\n",
       "\n",
       "    .dataframe thead th {\n",
       "        text-align: right;\n",
       "    }\n",
       "</style>\n",
       "<table border=\"1\" class=\"dataframe\">\n",
       "  <thead>\n",
       "    <tr style=\"text-align: right;\">\n",
       "      <th></th>\n",
       "      <th>Column name</th>\n",
       "      <th>Metric</th>\n",
       "      <th>Score</th>\n",
       "    </tr>\n",
       "  </thead>\n",
       "  <tbody>\n",
       "    <tr>\n",
       "      <th>0</th>\n",
       "      <td>start_date</td>\n",
       "      <td>KSComplement</td>\n",
       "      <td>NaN</td>\n",
       "    </tr>\n",
       "    <tr>\n",
       "      <th>1</th>\n",
       "      <td>end_date</td>\n",
       "      <td>KSComplement</td>\n",
       "      <td>0.768919</td>\n",
       "    </tr>\n",
       "    <tr>\n",
       "      <th>2</th>\n",
       "      <td>salary</td>\n",
       "      <td>KSComplement</td>\n",
       "      <td>0.869155</td>\n",
       "    </tr>\n",
       "    <tr>\n",
       "      <th>3</th>\n",
       "      <td>duration</td>\n",
       "      <td>KSComplement</td>\n",
       "      <td>0.826051</td>\n",
       "    </tr>\n",
       "    <tr>\n",
       "      <th>4</th>\n",
       "      <td>high_perc</td>\n",
       "      <td>KSComplement</td>\n",
       "      <td>0.553488</td>\n",
       "    </tr>\n",
       "    <tr>\n",
       "      <th>5</th>\n",
       "      <td>high_spec</td>\n",
       "      <td>TVComplement</td>\n",
       "      <td>0.902326</td>\n",
       "    </tr>\n",
       "    <tr>\n",
       "      <th>6</th>\n",
       "      <td>mba_spec</td>\n",
       "      <td>TVComplement</td>\n",
       "      <td>0.995349</td>\n",
       "    </tr>\n",
       "    <tr>\n",
       "      <th>7</th>\n",
       "      <td>second_perc</td>\n",
       "      <td>KSComplement</td>\n",
       "      <td>0.627907</td>\n",
       "    </tr>\n",
       "    <tr>\n",
       "      <th>8</th>\n",
       "      <td>gender</td>\n",
       "      <td>TVComplement</td>\n",
       "      <td>0.939535</td>\n",
       "    </tr>\n",
       "    <tr>\n",
       "      <th>9</th>\n",
       "      <td>degree_perc</td>\n",
       "      <td>KSComplement</td>\n",
       "      <td>0.627907</td>\n",
       "    </tr>\n",
       "    <tr>\n",
       "      <th>10</th>\n",
       "      <td>placed</td>\n",
       "      <td>TVComplement</td>\n",
       "      <td>0.916279</td>\n",
       "    </tr>\n",
       "    <tr>\n",
       "      <th>11</th>\n",
       "      <td>experience_years</td>\n",
       "      <td>KSComplement</td>\n",
       "      <td>0.800000</td>\n",
       "    </tr>\n",
       "    <tr>\n",
       "      <th>12</th>\n",
       "      <td>employability_perc</td>\n",
       "      <td>KSComplement</td>\n",
       "      <td>NaN</td>\n",
       "    </tr>\n",
       "    <tr>\n",
       "      <th>13</th>\n",
       "      <td>mba_perc</td>\n",
       "      <td>KSComplement</td>\n",
       "      <td>0.841860</td>\n",
       "    </tr>\n",
       "    <tr>\n",
       "      <th>14</th>\n",
       "      <td>work_experience</td>\n",
       "      <td>TVComplement</td>\n",
       "      <td>0.972093</td>\n",
       "    </tr>\n",
       "    <tr>\n",
       "      <th>15</th>\n",
       "      <td>degree_type</td>\n",
       "      <td>TVComplement</td>\n",
       "      <td>0.925581</td>\n",
       "    </tr>\n",
       "  </tbody>\n",
       "</table>\n",
       "</div>"
      ],
      "text/plain": [
       "           Column name        Metric     Score\n",
       "0           start_date  KSComplement       NaN\n",
       "1             end_date  KSComplement  0.768919\n",
       "2               salary  KSComplement  0.869155\n",
       "3             duration  KSComplement  0.826051\n",
       "4            high_perc  KSComplement  0.553488\n",
       "5            high_spec  TVComplement  0.902326\n",
       "6             mba_spec  TVComplement  0.995349\n",
       "7          second_perc  KSComplement  0.627907\n",
       "8               gender  TVComplement  0.939535\n",
       "9          degree_perc  KSComplement  0.627907\n",
       "10              placed  TVComplement  0.916279\n",
       "11    experience_years  KSComplement  0.800000\n",
       "12  employability_perc  KSComplement       NaN\n",
       "13            mba_perc  KSComplement  0.841860\n",
       "14     work_experience  TVComplement  0.972093\n",
       "15         degree_type  TVComplement  0.925581"
      ]
     },
     "execution_count": 29,
     "metadata": {},
     "output_type": "execute_result"
    }
   ],
   "source": [
    "column_shapes._details"
   ]
  },
  {
   "cell_type": "code",
   "execution_count": 33,
   "metadata": {},
   "outputs": [
    {
     "data": {
      "text/plain": [
       "0    True\n",
       "Name: Score, dtype: bool"
      ]
     },
     "execution_count": 33,
     "metadata": {},
     "output_type": "execute_result"
    }
   ],
   "source": [
    "details.loc[details['Column name'] == 'start_date']['Score'].isna()"
   ]
  },
  {
   "cell_type": "code",
   "execution_count": 32,
   "metadata": {},
   "outputs": [
    {
     "ename": "ValueError",
     "evalue": "The truth value of a Series is ambiguous. Use a.empty, a.bool(), a.item(), a.any() or a.all().",
     "output_type": "error",
     "traceback": [
      "\u001b[0;31m---------------------------------------------------------------------------\u001b[0m",
      "\u001b[0;31mValueError\u001b[0m                                Traceback (most recent call last)",
      "\u001b[0;32m/var/folders/11/c0g2cslx5jj5dnhdvxm9xk080000gn/T/ipykernel_96478/3502493688.py\u001b[0m in \u001b[0;36m?\u001b[0;34m()\u001b[0m\n\u001b[0;32m----> 2\u001b[0;31m \u001b[0mdetails\u001b[0m \u001b[0;34m=\u001b[0m \u001b[0mcolumn_shapes\u001b[0m\u001b[0;34m.\u001b[0m\u001b[0m_details\u001b[0m\u001b[0;34m\u001b[0m\u001b[0;34m\u001b[0m\u001b[0m\n\u001b[0m\u001b[1;32m      3\u001b[0m \u001b[0;32massert\u001b[0m \u001b[0mdetails\u001b[0m\u001b[0;34m.\u001b[0m\u001b[0mloc\u001b[0m\u001b[0;34m[\u001b[0m\u001b[0mdetails\u001b[0m\u001b[0;34m[\u001b[0m\u001b[0;34m'Column name'\u001b[0m\u001b[0;34m]\u001b[0m \u001b[0;34m==\u001b[0m \u001b[0;34m'start_date'\u001b[0m\u001b[0;34m]\u001b[0m\u001b[0;34m[\u001b[0m\u001b[0;34m'Score'\u001b[0m\u001b[0;34m]\u001b[0m\u001b[0;34m.\u001b[0m\u001b[0misna\u001b[0m\u001b[0;34m(\u001b[0m\u001b[0;34m)\u001b[0m\u001b[0;34m\u001b[0m\u001b[0;34m\u001b[0m\u001b[0m\n",
      "\u001b[0;32m~/miniconda3/envs/Issue_355_column_shape_property/lib/python3.9/site-packages/pandas/core/generic.py\u001b[0m in \u001b[0;36m?\u001b[0;34m(self)\u001b[0m\n\u001b[1;32m   1464\u001b[0m     \u001b[0;34m@\u001b[0m\u001b[0mfinal\u001b[0m\u001b[0;34m\u001b[0m\u001b[0;34m\u001b[0m\u001b[0m\n\u001b[1;32m   1465\u001b[0m     \u001b[0;32mdef\u001b[0m \u001b[0m__nonzero__\u001b[0m\u001b[0;34m(\u001b[0m\u001b[0mself\u001b[0m\u001b[0;34m)\u001b[0m \u001b[0;34m->\u001b[0m \u001b[0mNoReturn\u001b[0m\u001b[0;34m:\u001b[0m\u001b[0;34m\u001b[0m\u001b[0;34m\u001b[0m\u001b[0m\n\u001b[0;32m-> 1466\u001b[0;31m         raise ValueError(\n\u001b[0m\u001b[1;32m   1467\u001b[0m             \u001b[0;34mf\"The truth value of a {type(self).__name__} is ambiguous. \"\u001b[0m\u001b[0;34m\u001b[0m\u001b[0;34m\u001b[0m\u001b[0m\n\u001b[1;32m   1468\u001b[0m             \u001b[0;34m\"Use a.empty, a.bool(), a.item(), a.any() or a.all().\"\u001b[0m\u001b[0;34m\u001b[0m\u001b[0;34m\u001b[0m\u001b[0m\n\u001b[1;32m   1469\u001b[0m         )\n",
      "\u001b[0;31mValueError\u001b[0m: The truth value of a Series is ambiguous. Use a.empty, a.bool(), a.item(), a.any() or a.all()."
     ]
    }
   ],
   "source": [
    "details = column_shapes._details\n",
    "assert details.loc[details['Column name'] == 'start_date']['Score'].isna()"
   ]
  },
  {
   "cell_type": "code",
   "execution_count": 10,
   "metadata": {},
   "outputs": [
    {
     "data": {
      "text/html": [
       "<div>\n",
       "<style scoped>\n",
       "    .dataframe tbody tr th:only-of-type {\n",
       "        vertical-align: middle;\n",
       "    }\n",
       "\n",
       "    .dataframe tbody tr th {\n",
       "        vertical-align: top;\n",
       "    }\n",
       "\n",
       "    .dataframe thead th {\n",
       "        text-align: right;\n",
       "    }\n",
       "</style>\n",
       "<table border=\"1\" class=\"dataframe\">\n",
       "  <thead>\n",
       "    <tr style=\"text-align: right;\">\n",
       "      <th></th>\n",
       "      <th>student_id</th>\n",
       "      <th>gender</th>\n",
       "      <th>second_perc</th>\n",
       "      <th>high_perc</th>\n",
       "      <th>high_spec</th>\n",
       "      <th>degree_perc</th>\n",
       "      <th>degree_type</th>\n",
       "      <th>work_experience</th>\n",
       "      <th>experience_years</th>\n",
       "      <th>employability_perc</th>\n",
       "      <th>mba_spec</th>\n",
       "      <th>mba_perc</th>\n",
       "      <th>salary</th>\n",
       "      <th>placed</th>\n",
       "      <th>start_date</th>\n",
       "      <th>end_date</th>\n",
       "      <th>duration</th>\n",
       "    </tr>\n",
       "  </thead>\n",
       "  <tbody>\n",
       "    <tr>\n",
       "      <th>0</th>\n",
       "      <td>17264</td>\n",
       "      <td>M</td>\n",
       "      <td>67.00</td>\n",
       "      <td>91.00</td>\n",
       "      <td>Commerce</td>\n",
       "      <td>58.00</td>\n",
       "      <td>Sci&amp;Tech</td>\n",
       "      <td>False</td>\n",
       "      <td>0</td>\n",
       "      <td>55.0</td>\n",
       "      <td>Mkt&amp;HR</td>\n",
       "      <td>58.80</td>\n",
       "      <td>27000.0</td>\n",
       "      <td>True</td>\n",
       "      <td>0</td>\n",
       "      <td>2020-10-12</td>\n",
       "      <td>3.0</td>\n",
       "    </tr>\n",
       "    <tr>\n",
       "      <th>1</th>\n",
       "      <td>17265</td>\n",
       "      <td>M</td>\n",
       "      <td>79.33</td>\n",
       "      <td>78.33</td>\n",
       "      <td>Science</td>\n",
       "      <td>77.48</td>\n",
       "      <td>Sci&amp;Tech</td>\n",
       "      <td>True</td>\n",
       "      <td>1</td>\n",
       "      <td>86.5</td>\n",
       "      <td>Mkt&amp;Fin</td>\n",
       "      <td>66.28</td>\n",
       "      <td>20000.0</td>\n",
       "      <td>True</td>\n",
       "      <td>2020-01-11</td>\n",
       "      <td>2020-04-09</td>\n",
       "      <td>3.0</td>\n",
       "    </tr>\n",
       "    <tr>\n",
       "      <th>2</th>\n",
       "      <td>17266</td>\n",
       "      <td>M</td>\n",
       "      <td>65.00</td>\n",
       "      <td>68.00</td>\n",
       "      <td>Arts</td>\n",
       "      <td>64.00</td>\n",
       "      <td>Comm&amp;Mgmt</td>\n",
       "      <td>False</td>\n",
       "      <td>0</td>\n",
       "      <td>75.0</td>\n",
       "      <td>Mkt&amp;Fin</td>\n",
       "      <td>57.80</td>\n",
       "      <td>25000.0</td>\n",
       "      <td>True</td>\n",
       "      <td>2020-01-26</td>\n",
       "      <td>2020-07-13</td>\n",
       "      <td>6.0</td>\n",
       "    </tr>\n",
       "    <tr>\n",
       "      <th>3</th>\n",
       "      <td>17267</td>\n",
       "      <td>M</td>\n",
       "      <td>56.00</td>\n",
       "      <td>52.00</td>\n",
       "      <td>Science</td>\n",
       "      <td>52.00</td>\n",
       "      <td>Sci&amp;Tech</td>\n",
       "      <td>False</td>\n",
       "      <td>0</td>\n",
       "      <td>66.0</td>\n",
       "      <td>Mkt&amp;HR</td>\n",
       "      <td>59.43</td>\n",
       "      <td>NaN</td>\n",
       "      <td>False</td>\n",
       "      <td>NaN</td>\n",
       "      <td>NaN</td>\n",
       "      <td>NaN</td>\n",
       "    </tr>\n",
       "    <tr>\n",
       "      <th>4</th>\n",
       "      <td>17268</td>\n",
       "      <td>M</td>\n",
       "      <td>85.80</td>\n",
       "      <td>73.60</td>\n",
       "      <td>Commerce</td>\n",
       "      <td>73.30</td>\n",
       "      <td>Comm&amp;Mgmt</td>\n",
       "      <td>False</td>\n",
       "      <td>0</td>\n",
       "      <td>96.8</td>\n",
       "      <td>Mkt&amp;Fin</td>\n",
       "      <td>55.50</td>\n",
       "      <td>42500.0</td>\n",
       "      <td>True</td>\n",
       "      <td>2020-07-04</td>\n",
       "      <td>2020-09-27</td>\n",
       "      <td>3.0</td>\n",
       "    </tr>\n",
       "    <tr>\n",
       "      <th>...</th>\n",
       "      <td>...</td>\n",
       "      <td>...</td>\n",
       "      <td>...</td>\n",
       "      <td>...</td>\n",
       "      <td>...</td>\n",
       "      <td>...</td>\n",
       "      <td>...</td>\n",
       "      <td>...</td>\n",
       "      <td>...</td>\n",
       "      <td>...</td>\n",
       "      <td>...</td>\n",
       "      <td>...</td>\n",
       "      <td>...</td>\n",
       "      <td>...</td>\n",
       "      <td>...</td>\n",
       "      <td>...</td>\n",
       "      <td>...</td>\n",
       "    </tr>\n",
       "    <tr>\n",
       "      <th>210</th>\n",
       "      <td>17474</td>\n",
       "      <td>M</td>\n",
       "      <td>80.60</td>\n",
       "      <td>82.00</td>\n",
       "      <td>Commerce</td>\n",
       "      <td>77.60</td>\n",
       "      <td>Comm&amp;Mgmt</td>\n",
       "      <td>False</td>\n",
       "      <td>0</td>\n",
       "      <td>91.0</td>\n",
       "      <td>Mkt&amp;Fin</td>\n",
       "      <td>74.49</td>\n",
       "      <td>40000.0</td>\n",
       "      <td>True</td>\n",
       "      <td>2020-07-27</td>\n",
       "      <td>2020-10-20</td>\n",
       "      <td>3.0</td>\n",
       "    </tr>\n",
       "    <tr>\n",
       "      <th>211</th>\n",
       "      <td>17475</td>\n",
       "      <td>M</td>\n",
       "      <td>58.00</td>\n",
       "      <td>60.00</td>\n",
       "      <td>Science</td>\n",
       "      <td>72.00</td>\n",
       "      <td>Sci&amp;Tech</td>\n",
       "      <td>False</td>\n",
       "      <td>0</td>\n",
       "      <td>74.0</td>\n",
       "      <td>Mkt&amp;Fin</td>\n",
       "      <td>53.62</td>\n",
       "      <td>27500.0</td>\n",
       "      <td>True</td>\n",
       "      <td>2020-01-23</td>\n",
       "      <td>2020-08-04</td>\n",
       "      <td>6.0</td>\n",
       "    </tr>\n",
       "    <tr>\n",
       "      <th>212</th>\n",
       "      <td>17476</td>\n",
       "      <td>M</td>\n",
       "      <td>67.00</td>\n",
       "      <td>67.00</td>\n",
       "      <td>Commerce</td>\n",
       "      <td>73.00</td>\n",
       "      <td>Comm&amp;Mgmt</td>\n",
       "      <td>True</td>\n",
       "      <td>1</td>\n",
       "      <td>59.0</td>\n",
       "      <td>Mkt&amp;Fin</td>\n",
       "      <td>69.72</td>\n",
       "      <td>29500.0</td>\n",
       "      <td>True</td>\n",
       "      <td>2020-01-25</td>\n",
       "      <td>2020-08-05</td>\n",
       "      <td>6.0</td>\n",
       "    </tr>\n",
       "    <tr>\n",
       "      <th>213</th>\n",
       "      <td>17477</td>\n",
       "      <td>F</td>\n",
       "      <td>74.00</td>\n",
       "      <td>66.00</td>\n",
       "      <td>Commerce</td>\n",
       "      <td>58.00</td>\n",
       "      <td>Comm&amp;Mgmt</td>\n",
       "      <td>False</td>\n",
       "      <td>0</td>\n",
       "      <td>70.0</td>\n",
       "      <td>Mkt&amp;HR</td>\n",
       "      <td>60.23</td>\n",
       "      <td>20400.0</td>\n",
       "      <td>True</td>\n",
       "      <td>2020-01-19</td>\n",
       "      <td>2020-04-20</td>\n",
       "      <td>3.0</td>\n",
       "    </tr>\n",
       "    <tr>\n",
       "      <th>214</th>\n",
       "      <td>17478</td>\n",
       "      <td>M</td>\n",
       "      <td>62.00</td>\n",
       "      <td>58.00</td>\n",
       "      <td>Science</td>\n",
       "      <td>53.00</td>\n",
       "      <td>Comm&amp;Mgmt</td>\n",
       "      <td>False</td>\n",
       "      <td>0</td>\n",
       "      <td>89.0</td>\n",
       "      <td>Mkt&amp;HR</td>\n",
       "      <td>60.22</td>\n",
       "      <td>NaN</td>\n",
       "      <td>False</td>\n",
       "      <td>NaN</td>\n",
       "      <td>NaN</td>\n",
       "      <td>NaN</td>\n",
       "    </tr>\n",
       "  </tbody>\n",
       "</table>\n",
       "<p>215 rows × 17 columns</p>\n",
       "</div>"
      ],
      "text/plain": [
       "     student_id gender  second_perc  high_perc high_spec  degree_perc  \\\n",
       "0         17264      M        67.00      91.00  Commerce        58.00   \n",
       "1         17265      M        79.33      78.33   Science        77.48   \n",
       "2         17266      M        65.00      68.00      Arts        64.00   \n",
       "3         17267      M        56.00      52.00   Science        52.00   \n",
       "4         17268      M        85.80      73.60  Commerce        73.30   \n",
       "..          ...    ...          ...        ...       ...          ...   \n",
       "210       17474      M        80.60      82.00  Commerce        77.60   \n",
       "211       17475      M        58.00      60.00   Science        72.00   \n",
       "212       17476      M        67.00      67.00  Commerce        73.00   \n",
       "213       17477      F        74.00      66.00  Commerce        58.00   \n",
       "214       17478      M        62.00      58.00   Science        53.00   \n",
       "\n",
       "    degree_type  work_experience  experience_years  employability_perc  \\\n",
       "0      Sci&Tech            False                 0                55.0   \n",
       "1      Sci&Tech             True                 1                86.5   \n",
       "2     Comm&Mgmt            False                 0                75.0   \n",
       "3      Sci&Tech            False                 0                66.0   \n",
       "4     Comm&Mgmt            False                 0                96.8   \n",
       "..          ...              ...               ...                 ...   \n",
       "210   Comm&Mgmt            False                 0                91.0   \n",
       "211    Sci&Tech            False                 0                74.0   \n",
       "212   Comm&Mgmt             True                 1                59.0   \n",
       "213   Comm&Mgmt            False                 0                70.0   \n",
       "214   Comm&Mgmt            False                 0                89.0   \n",
       "\n",
       "    mba_spec  mba_perc   salary  placed  start_date    end_date  duration  \n",
       "0     Mkt&HR     58.80  27000.0    True           0  2020-10-12       3.0  \n",
       "1    Mkt&Fin     66.28  20000.0    True  2020-01-11  2020-04-09       3.0  \n",
       "2    Mkt&Fin     57.80  25000.0    True  2020-01-26  2020-07-13       6.0  \n",
       "3     Mkt&HR     59.43      NaN   False         NaN         NaN       NaN  \n",
       "4    Mkt&Fin     55.50  42500.0    True  2020-07-04  2020-09-27       3.0  \n",
       "..       ...       ...      ...     ...         ...         ...       ...  \n",
       "210  Mkt&Fin     74.49  40000.0    True  2020-07-27  2020-10-20       3.0  \n",
       "211  Mkt&Fin     53.62  27500.0    True  2020-01-23  2020-08-04       6.0  \n",
       "212  Mkt&Fin     69.72  29500.0    True  2020-01-25  2020-08-05       6.0  \n",
       "213   Mkt&HR     60.23  20400.0    True  2020-01-19  2020-04-20       3.0  \n",
       "214   Mkt&HR     60.22      NaN   False         NaN         NaN       NaN  \n",
       "\n",
       "[215 rows x 17 columns]"
      ]
     },
     "execution_count": 10,
     "metadata": {},
     "output_type": "execute_result"
    }
   ],
   "source": [
    "real_data"
   ]
  },
  {
   "cell_type": "code",
   "execution_count": 7,
   "metadata": {},
   "outputs": [
    {
     "data": {
      "text/html": [
       "<div>\n",
       "<style scoped>\n",
       "    .dataframe tbody tr th:only-of-type {\n",
       "        vertical-align: middle;\n",
       "    }\n",
       "\n",
       "    .dataframe tbody tr th {\n",
       "        vertical-align: top;\n",
       "    }\n",
       "\n",
       "    .dataframe thead th {\n",
       "        text-align: right;\n",
       "    }\n",
       "</style>\n",
       "<table border=\"1\" class=\"dataframe\">\n",
       "  <thead>\n",
       "    <tr style=\"text-align: right;\">\n",
       "      <th></th>\n",
       "      <th>Column name</th>\n",
       "      <th>Metric</th>\n",
       "      <th>Score</th>\n",
       "    </tr>\n",
       "  </thead>\n",
       "  <tbody>\n",
       "    <tr>\n",
       "      <th>0</th>\n",
       "      <td>start_date</td>\n",
       "      <td>KSComplement</td>\n",
       "      <td>0.701107</td>\n",
       "    </tr>\n",
       "    <tr>\n",
       "      <th>1</th>\n",
       "      <td>end_date</td>\n",
       "      <td>KSComplement</td>\n",
       "      <td>0.768919</td>\n",
       "    </tr>\n",
       "    <tr>\n",
       "      <th>2</th>\n",
       "      <td>salary</td>\n",
       "      <td>KSComplement</td>\n",
       "      <td>0.869155</td>\n",
       "    </tr>\n",
       "    <tr>\n",
       "      <th>3</th>\n",
       "      <td>duration</td>\n",
       "      <td>KSComplement</td>\n",
       "      <td>0.826051</td>\n",
       "    </tr>\n",
       "    <tr>\n",
       "      <th>4</th>\n",
       "      <td>high_perc</td>\n",
       "      <td>KSComplement</td>\n",
       "      <td>0.553488</td>\n",
       "    </tr>\n",
       "    <tr>\n",
       "      <th>5</th>\n",
       "      <td>high_spec</td>\n",
       "      <td>TVComplement</td>\n",
       "      <td>0.902326</td>\n",
       "    </tr>\n",
       "    <tr>\n",
       "      <th>6</th>\n",
       "      <td>mba_spec</td>\n",
       "      <td>TVComplement</td>\n",
       "      <td>0.995349</td>\n",
       "    </tr>\n",
       "    <tr>\n",
       "      <th>7</th>\n",
       "      <td>second_perc</td>\n",
       "      <td>KSComplement</td>\n",
       "      <td>0.627907</td>\n",
       "    </tr>\n",
       "    <tr>\n",
       "      <th>8</th>\n",
       "      <td>gender</td>\n",
       "      <td>TVComplement</td>\n",
       "      <td>0.939535</td>\n",
       "    </tr>\n",
       "    <tr>\n",
       "      <th>9</th>\n",
       "      <td>degree_perc</td>\n",
       "      <td>KSComplement</td>\n",
       "      <td>0.627907</td>\n",
       "    </tr>\n",
       "    <tr>\n",
       "      <th>10</th>\n",
       "      <td>placed</td>\n",
       "      <td>TVComplement</td>\n",
       "      <td>0.916279</td>\n",
       "    </tr>\n",
       "    <tr>\n",
       "      <th>11</th>\n",
       "      <td>experience_years</td>\n",
       "      <td>KSComplement</td>\n",
       "      <td>0.800000</td>\n",
       "    </tr>\n",
       "    <tr>\n",
       "      <th>12</th>\n",
       "      <td>employability_perc</td>\n",
       "      <td>KSComplement</td>\n",
       "      <td>0.781395</td>\n",
       "    </tr>\n",
       "    <tr>\n",
       "      <th>13</th>\n",
       "      <td>mba_perc</td>\n",
       "      <td>KSComplement</td>\n",
       "      <td>0.841860</td>\n",
       "    </tr>\n",
       "    <tr>\n",
       "      <th>14</th>\n",
       "      <td>work_experience</td>\n",
       "      <td>TVComplement</td>\n",
       "      <td>0.972093</td>\n",
       "    </tr>\n",
       "    <tr>\n",
       "      <th>15</th>\n",
       "      <td>degree_type</td>\n",
       "      <td>TVComplement</td>\n",
       "      <td>0.925581</td>\n",
       "    </tr>\n",
       "  </tbody>\n",
       "</table>\n",
       "</div>"
      ],
      "text/plain": [
       "           Column name        Metric     Score\n",
       "0           start_date  KSComplement  0.701107\n",
       "1             end_date  KSComplement  0.768919\n",
       "2               salary  KSComplement  0.869155\n",
       "3             duration  KSComplement  0.826051\n",
       "4            high_perc  KSComplement  0.553488\n",
       "5            high_spec  TVComplement  0.902326\n",
       "6             mba_spec  TVComplement  0.995349\n",
       "7          second_perc  KSComplement  0.627907\n",
       "8               gender  TVComplement  0.939535\n",
       "9          degree_perc  KSComplement  0.627907\n",
       "10              placed  TVComplement  0.916279\n",
       "11    experience_years  KSComplement  0.800000\n",
       "12  employability_perc  KSComplement  0.781395\n",
       "13            mba_perc  KSComplement  0.841860\n",
       "14     work_experience  TVComplement  0.972093\n",
       "15         degree_type  TVComplement  0.925581"
      ]
     },
     "execution_count": 7,
     "metadata": {},
     "output_type": "execute_result"
    }
   ],
   "source": [
    "column_shapes._details"
   ]
  },
  {
   "cell_type": "code",
   "execution_count": 3,
   "metadata": {},
   "outputs": [
    {
     "data": {
      "application/vnd.plotly.v1+json": {
       "config": {
        "plotlyServerURL": "https://plot.ly"
       },
       "data": [
        {
         "alignmentgroup": "True",
         "customdata": [
          [
           "KSComplement"
          ],
          [
           "KSComplement"
          ],
          [
           "KSComplement"
          ],
          [
           "KSComplement"
          ],
          [
           "KSComplement"
          ],
          [
           "KSComplement"
          ],
          [
           "KSComplement"
          ],
          [
           "KSComplement"
          ],
          [
           "KSComplement"
          ],
          [
           "KSComplement"
          ]
         ],
         "hovertemplate": "<b>%{hovertext}</b><br><br>Metric=%{customdata[0]}<br>Score=%{y}<extra></extra>",
         "hovertext": [
          "start_date",
          "end_date",
          "salary",
          "duration",
          "high_perc",
          "second_perc",
          "degree_perc",
          "experience_years",
          "employability_perc",
          "mba_perc"
         ],
         "legendgroup": "KSComplement",
         "marker": {
          "color": "#000036",
          "pattern": {
           "shape": ""
          }
         },
         "name": "KSComplement",
         "offsetgroup": "KSComplement",
         "orientation": "v",
         "showlegend": true,
         "textposition": "auto",
         "type": "bar",
         "x": [
          "start_date",
          "end_date",
          "salary",
          "duration",
          "high_perc",
          "second_perc",
          "degree_perc",
          "experience_years",
          "employability_perc",
          "mba_perc"
         ],
         "xaxis": "x",
         "y": [
          0.7011066184294531,
          0.768918918918919,
          0.8691548691548692,
          0.8260505030578024,
          0.5534883720930233,
          0.627906976744186,
          0.627906976744186,
          0.8,
          0.7813953488372093,
          0.8418604651162791
         ],
         "yaxis": "y"
        },
        {
         "alignmentgroup": "True",
         "customdata": [
          [
           "TVComplement"
          ],
          [
           "TVComplement"
          ],
          [
           "TVComplement"
          ],
          [
           "TVComplement"
          ],
          [
           "TVComplement"
          ],
          [
           "TVComplement"
          ]
         ],
         "hovertemplate": "<b>%{hovertext}</b><br><br>Metric=%{customdata[0]}<br>Score=%{y}<extra></extra>",
         "hovertext": [
          "high_spec",
          "mba_spec",
          "gender",
          "placed",
          "work_experience",
          "degree_type"
         ],
         "legendgroup": "TVComplement",
         "marker": {
          "color": "#03AFF1",
          "pattern": {
           "shape": "/"
          }
         },
         "name": "TVComplement",
         "offsetgroup": "TVComplement",
         "orientation": "v",
         "showlegend": true,
         "textposition": "auto",
         "type": "bar",
         "x": [
          "high_spec",
          "mba_spec",
          "gender",
          "placed",
          "work_experience",
          "degree_type"
         ],
         "xaxis": "x",
         "y": [
          0.9023255813953488,
          0.9953488372093023,
          0.9395348837209302,
          0.9162790697674419,
          0.9720930232558139,
          0.9255813953488372
         ],
         "yaxis": "y"
        }
       ],
       "layout": {
        "barmode": "relative",
        "legend": {
         "title": {
          "text": "Metric"
         },
         "tracegroupgap": 0
        },
        "margin": {
         "t": 150
        },
        "plot_bgcolor": "#F5F5F8",
        "template": {
         "data": {
          "bar": [
           {
            "error_x": {
             "color": "#2a3f5f"
            },
            "error_y": {
             "color": "#2a3f5f"
            },
            "marker": {
             "line": {
              "color": "#E5ECF6",
              "width": 0.5
             },
             "pattern": {
              "fillmode": "overlay",
              "size": 10,
              "solidity": 0.2
             }
            },
            "type": "bar"
           }
          ],
          "barpolar": [
           {
            "marker": {
             "line": {
              "color": "#E5ECF6",
              "width": 0.5
             },
             "pattern": {
              "fillmode": "overlay",
              "size": 10,
              "solidity": 0.2
             }
            },
            "type": "barpolar"
           }
          ],
          "carpet": [
           {
            "aaxis": {
             "endlinecolor": "#2a3f5f",
             "gridcolor": "white",
             "linecolor": "white",
             "minorgridcolor": "white",
             "startlinecolor": "#2a3f5f"
            },
            "baxis": {
             "endlinecolor": "#2a3f5f",
             "gridcolor": "white",
             "linecolor": "white",
             "minorgridcolor": "white",
             "startlinecolor": "#2a3f5f"
            },
            "type": "carpet"
           }
          ],
          "choropleth": [
           {
            "colorbar": {
             "outlinewidth": 0,
             "ticks": ""
            },
            "type": "choropleth"
           }
          ],
          "contour": [
           {
            "colorbar": {
             "outlinewidth": 0,
             "ticks": ""
            },
            "colorscale": [
             [
              0,
              "#0d0887"
             ],
             [
              0.1111111111111111,
              "#46039f"
             ],
             [
              0.2222222222222222,
              "#7201a8"
             ],
             [
              0.3333333333333333,
              "#9c179e"
             ],
             [
              0.4444444444444444,
              "#bd3786"
             ],
             [
              0.5555555555555556,
              "#d8576b"
             ],
             [
              0.6666666666666666,
              "#ed7953"
             ],
             [
              0.7777777777777778,
              "#fb9f3a"
             ],
             [
              0.8888888888888888,
              "#fdca26"
             ],
             [
              1,
              "#f0f921"
             ]
            ],
            "type": "contour"
           }
          ],
          "contourcarpet": [
           {
            "colorbar": {
             "outlinewidth": 0,
             "ticks": ""
            },
            "type": "contourcarpet"
           }
          ],
          "heatmap": [
           {
            "colorbar": {
             "outlinewidth": 0,
             "ticks": ""
            },
            "colorscale": [
             [
              0,
              "#0d0887"
             ],
             [
              0.1111111111111111,
              "#46039f"
             ],
             [
              0.2222222222222222,
              "#7201a8"
             ],
             [
              0.3333333333333333,
              "#9c179e"
             ],
             [
              0.4444444444444444,
              "#bd3786"
             ],
             [
              0.5555555555555556,
              "#d8576b"
             ],
             [
              0.6666666666666666,
              "#ed7953"
             ],
             [
              0.7777777777777778,
              "#fb9f3a"
             ],
             [
              0.8888888888888888,
              "#fdca26"
             ],
             [
              1,
              "#f0f921"
             ]
            ],
            "type": "heatmap"
           }
          ],
          "heatmapgl": [
           {
            "colorbar": {
             "outlinewidth": 0,
             "ticks": ""
            },
            "colorscale": [
             [
              0,
              "#0d0887"
             ],
             [
              0.1111111111111111,
              "#46039f"
             ],
             [
              0.2222222222222222,
              "#7201a8"
             ],
             [
              0.3333333333333333,
              "#9c179e"
             ],
             [
              0.4444444444444444,
              "#bd3786"
             ],
             [
              0.5555555555555556,
              "#d8576b"
             ],
             [
              0.6666666666666666,
              "#ed7953"
             ],
             [
              0.7777777777777778,
              "#fb9f3a"
             ],
             [
              0.8888888888888888,
              "#fdca26"
             ],
             [
              1,
              "#f0f921"
             ]
            ],
            "type": "heatmapgl"
           }
          ],
          "histogram": [
           {
            "marker": {
             "pattern": {
              "fillmode": "overlay",
              "size": 10,
              "solidity": 0.2
             }
            },
            "type": "histogram"
           }
          ],
          "histogram2d": [
           {
            "colorbar": {
             "outlinewidth": 0,
             "ticks": ""
            },
            "colorscale": [
             [
              0,
              "#0d0887"
             ],
             [
              0.1111111111111111,
              "#46039f"
             ],
             [
              0.2222222222222222,
              "#7201a8"
             ],
             [
              0.3333333333333333,
              "#9c179e"
             ],
             [
              0.4444444444444444,
              "#bd3786"
             ],
             [
              0.5555555555555556,
              "#d8576b"
             ],
             [
              0.6666666666666666,
              "#ed7953"
             ],
             [
              0.7777777777777778,
              "#fb9f3a"
             ],
             [
              0.8888888888888888,
              "#fdca26"
             ],
             [
              1,
              "#f0f921"
             ]
            ],
            "type": "histogram2d"
           }
          ],
          "histogram2dcontour": [
           {
            "colorbar": {
             "outlinewidth": 0,
             "ticks": ""
            },
            "colorscale": [
             [
              0,
              "#0d0887"
             ],
             [
              0.1111111111111111,
              "#46039f"
             ],
             [
              0.2222222222222222,
              "#7201a8"
             ],
             [
              0.3333333333333333,
              "#9c179e"
             ],
             [
              0.4444444444444444,
              "#bd3786"
             ],
             [
              0.5555555555555556,
              "#d8576b"
             ],
             [
              0.6666666666666666,
              "#ed7953"
             ],
             [
              0.7777777777777778,
              "#fb9f3a"
             ],
             [
              0.8888888888888888,
              "#fdca26"
             ],
             [
              1,
              "#f0f921"
             ]
            ],
            "type": "histogram2dcontour"
           }
          ],
          "mesh3d": [
           {
            "colorbar": {
             "outlinewidth": 0,
             "ticks": ""
            },
            "type": "mesh3d"
           }
          ],
          "parcoords": [
           {
            "line": {
             "colorbar": {
              "outlinewidth": 0,
              "ticks": ""
             }
            },
            "type": "parcoords"
           }
          ],
          "pie": [
           {
            "automargin": true,
            "type": "pie"
           }
          ],
          "scatter": [
           {
            "fillpattern": {
             "fillmode": "overlay",
             "size": 10,
             "solidity": 0.2
            },
            "type": "scatter"
           }
          ],
          "scatter3d": [
           {
            "line": {
             "colorbar": {
              "outlinewidth": 0,
              "ticks": ""
             }
            },
            "marker": {
             "colorbar": {
              "outlinewidth": 0,
              "ticks": ""
             }
            },
            "type": "scatter3d"
           }
          ],
          "scattercarpet": [
           {
            "marker": {
             "colorbar": {
              "outlinewidth": 0,
              "ticks": ""
             }
            },
            "type": "scattercarpet"
           }
          ],
          "scattergeo": [
           {
            "marker": {
             "colorbar": {
              "outlinewidth": 0,
              "ticks": ""
             }
            },
            "type": "scattergeo"
           }
          ],
          "scattergl": [
           {
            "marker": {
             "colorbar": {
              "outlinewidth": 0,
              "ticks": ""
             }
            },
            "type": "scattergl"
           }
          ],
          "scattermapbox": [
           {
            "marker": {
             "colorbar": {
              "outlinewidth": 0,
              "ticks": ""
             }
            },
            "type": "scattermapbox"
           }
          ],
          "scatterpolar": [
           {
            "marker": {
             "colorbar": {
              "outlinewidth": 0,
              "ticks": ""
             }
            },
            "type": "scatterpolar"
           }
          ],
          "scatterpolargl": [
           {
            "marker": {
             "colorbar": {
              "outlinewidth": 0,
              "ticks": ""
             }
            },
            "type": "scatterpolargl"
           }
          ],
          "scatterternary": [
           {
            "marker": {
             "colorbar": {
              "outlinewidth": 0,
              "ticks": ""
             }
            },
            "type": "scatterternary"
           }
          ],
          "surface": [
           {
            "colorbar": {
             "outlinewidth": 0,
             "ticks": ""
            },
            "colorscale": [
             [
              0,
              "#0d0887"
             ],
             [
              0.1111111111111111,
              "#46039f"
             ],
             [
              0.2222222222222222,
              "#7201a8"
             ],
             [
              0.3333333333333333,
              "#9c179e"
             ],
             [
              0.4444444444444444,
              "#bd3786"
             ],
             [
              0.5555555555555556,
              "#d8576b"
             ],
             [
              0.6666666666666666,
              "#ed7953"
             ],
             [
              0.7777777777777778,
              "#fb9f3a"
             ],
             [
              0.8888888888888888,
              "#fdca26"
             ],
             [
              1,
              "#f0f921"
             ]
            ],
            "type": "surface"
           }
          ],
          "table": [
           {
            "cells": {
             "fill": {
              "color": "#EBF0F8"
             },
             "line": {
              "color": "white"
             }
            },
            "header": {
             "fill": {
              "color": "#C8D4E3"
             },
             "line": {
              "color": "white"
             }
            },
            "type": "table"
           }
          ]
         },
         "layout": {
          "annotationdefaults": {
           "arrowcolor": "#2a3f5f",
           "arrowhead": 0,
           "arrowwidth": 1
          },
          "autotypenumbers": "strict",
          "coloraxis": {
           "colorbar": {
            "outlinewidth": 0,
            "ticks": ""
           }
          },
          "colorscale": {
           "diverging": [
            [
             0,
             "#8e0152"
            ],
            [
             0.1,
             "#c51b7d"
            ],
            [
             0.2,
             "#de77ae"
            ],
            [
             0.3,
             "#f1b6da"
            ],
            [
             0.4,
             "#fde0ef"
            ],
            [
             0.5,
             "#f7f7f7"
            ],
            [
             0.6,
             "#e6f5d0"
            ],
            [
             0.7,
             "#b8e186"
            ],
            [
             0.8,
             "#7fbc41"
            ],
            [
             0.9,
             "#4d9221"
            ],
            [
             1,
             "#276419"
            ]
           ],
           "sequential": [
            [
             0,
             "#0d0887"
            ],
            [
             0.1111111111111111,
             "#46039f"
            ],
            [
             0.2222222222222222,
             "#7201a8"
            ],
            [
             0.3333333333333333,
             "#9c179e"
            ],
            [
             0.4444444444444444,
             "#bd3786"
            ],
            [
             0.5555555555555556,
             "#d8576b"
            ],
            [
             0.6666666666666666,
             "#ed7953"
            ],
            [
             0.7777777777777778,
             "#fb9f3a"
            ],
            [
             0.8888888888888888,
             "#fdca26"
            ],
            [
             1,
             "#f0f921"
            ]
           ],
           "sequentialminus": [
            [
             0,
             "#0d0887"
            ],
            [
             0.1111111111111111,
             "#46039f"
            ],
            [
             0.2222222222222222,
             "#7201a8"
            ],
            [
             0.3333333333333333,
             "#9c179e"
            ],
            [
             0.4444444444444444,
             "#bd3786"
            ],
            [
             0.5555555555555556,
             "#d8576b"
            ],
            [
             0.6666666666666666,
             "#ed7953"
            ],
            [
             0.7777777777777778,
             "#fb9f3a"
            ],
            [
             0.8888888888888888,
             "#fdca26"
            ],
            [
             1,
             "#f0f921"
            ]
           ]
          },
          "colorway": [
           "#636efa",
           "#EF553B",
           "#00cc96",
           "#ab63fa",
           "#FFA15A",
           "#19d3f3",
           "#FF6692",
           "#B6E880",
           "#FF97FF",
           "#FECB52"
          ],
          "font": {
           "color": "#2a3f5f"
          },
          "geo": {
           "bgcolor": "white",
           "lakecolor": "white",
           "landcolor": "#E5ECF6",
           "showlakes": true,
           "showland": true,
           "subunitcolor": "white"
          },
          "hoverlabel": {
           "align": "left"
          },
          "hovermode": "closest",
          "mapbox": {
           "style": "light"
          },
          "paper_bgcolor": "white",
          "plot_bgcolor": "#E5ECF6",
          "polar": {
           "angularaxis": {
            "gridcolor": "white",
            "linecolor": "white",
            "ticks": ""
           },
           "bgcolor": "#E5ECF6",
           "radialaxis": {
            "gridcolor": "white",
            "linecolor": "white",
            "ticks": ""
           }
          },
          "scene": {
           "xaxis": {
            "backgroundcolor": "#E5ECF6",
            "gridcolor": "white",
            "gridwidth": 2,
            "linecolor": "white",
            "showbackground": true,
            "ticks": "",
            "zerolinecolor": "white"
           },
           "yaxis": {
            "backgroundcolor": "#E5ECF6",
            "gridcolor": "white",
            "gridwidth": 2,
            "linecolor": "white",
            "showbackground": true,
            "ticks": "",
            "zerolinecolor": "white"
           },
           "zaxis": {
            "backgroundcolor": "#E5ECF6",
            "gridcolor": "white",
            "gridwidth": 2,
            "linecolor": "white",
            "showbackground": true,
            "ticks": "",
            "zerolinecolor": "white"
           }
          },
          "shapedefaults": {
           "line": {
            "color": "#2a3f5f"
           }
          },
          "ternary": {
           "aaxis": {
            "gridcolor": "white",
            "linecolor": "white",
            "ticks": ""
           },
           "baxis": {
            "gridcolor": "white",
            "linecolor": "white",
            "ticks": ""
           },
           "bgcolor": "#E5ECF6",
           "caxis": {
            "gridcolor": "white",
            "linecolor": "white",
            "ticks": ""
           }
          },
          "title": {
           "x": 0.05
          },
          "xaxis": {
           "automargin": true,
           "gridcolor": "white",
           "linecolor": "white",
           "ticks": "",
           "title": {
            "standoff": 15
           },
           "zerolinecolor": "white",
           "zerolinewidth": 2
          },
          "yaxis": {
           "automargin": true,
           "gridcolor": "white",
           "linecolor": "white",
           "ticks": "",
           "title": {
            "standoff": 15
           },
           "zerolinecolor": "white",
           "zerolinewidth": 2
          }
         }
        },
        "title": {
         "text": "Data Quality: Column Shapes (Average Score=0.816)"
        },
        "xaxis": {
         "anchor": "y",
         "categoryorder": "total ascending",
         "domain": [
          0,
          1
         ],
         "title": {
          "text": "Column name"
         }
        },
        "yaxis": {
         "anchor": "x",
         "domain": [
          0,
          1
         ],
         "range": [
          0,
          1
         ],
         "title": {
          "text": "Score"
         }
        }
       }
      }
     },
     "metadata": {},
     "output_type": "display_data"
    }
   ],
   "source": [
    "column_shapes.get_visualization()"
   ]
  },
  {
   "cell_type": "code",
   "execution_count": 3,
   "metadata": {},
   "outputs": [
    {
     "data": {
      "application/vnd.jupyter.widget-view+json": {
       "model_id": "6903b1b2e5b541458065dbc9c5f44e06",
       "version_major": 2,
       "version_minor": 0
      },
      "text/plain": [
       "  0%|          | 0/1 [00:00<?, ?it/s]"
      ]
     },
     "metadata": {},
     "output_type": "display_data"
    },
    {
     "name": "stderr",
     "output_type": "stream",
     "text": [
      "/Users/romain_datacebo/Desktop/SDMetrics/sdmetrics/reports/single_table/_properties/column_shapes.py:35: UserWarning: Unable to compute Column Shape for column 'col1'. Encountered Error: TypeError '<' not supported between instances of 'str' and 'int'\n",
      "  warnings.warn(\n"
     ]
    },
    {
     "data": {
      "text/html": [
       "<div>\n",
       "<style scoped>\n",
       "    .dataframe tbody tr th:only-of-type {\n",
       "        vertical-align: middle;\n",
       "    }\n",
       "\n",
       "    .dataframe tbody tr th {\n",
       "        vertical-align: top;\n",
       "    }\n",
       "\n",
       "    .dataframe thead th {\n",
       "        text-align: right;\n",
       "    }\n",
       "</style>\n",
       "<table border=\"1\" class=\"dataframe\">\n",
       "  <thead>\n",
       "    <tr style=\"text-align: right;\">\n",
       "      <th></th>\n",
       "      <th>Column name</th>\n",
       "      <th>Metric</th>\n",
       "      <th>Score</th>\n",
       "    </tr>\n",
       "  </thead>\n",
       "  <tbody>\n",
       "    <tr>\n",
       "      <th>0</th>\n",
       "      <td>col1</td>\n",
       "      <td>KSComplement</td>\n",
       "      <td>NaN</td>\n",
       "    </tr>\n",
       "  </tbody>\n",
       "</table>\n",
       "</div>"
      ],
      "text/plain": [
       "  Column name        Metric  Score\n",
       "0        col1  KSComplement    NaN"
      ]
     },
     "execution_count": 3,
     "metadata": {},
     "output_type": "execute_result"
    }
   ],
   "source": [
    "real_data = pd.DataFrame({'col1': [1, '2', 3]})\n",
    "synthetic_data = pd.DataFrame({'col1': [4, 5, 6]})\n",
    "metadata = {'columns': {'col1': {'sdtype': 'numerical'}}}\n",
    "\n",
    "# Run\n",
    "property = ColumnShapes()\n",
    "property._generate_details(real_data, synthetic_data, metadata)"
   ]
  },
  {
   "cell_type": "code",
   "execution_count": 4,
   "metadata": {},
   "outputs": [
    {
     "data": {
      "text/plain": [
       "{'primary_key': 'student_id',\n",
       " 'columns': {'start_date': {'sdtype': 'datetime',\n",
       "   'datetime_format': '%Y-%m-%d'},\n",
       "  'end_date': {'sdtype': 'datetime', 'datetime_format': '%Y-%m-%d'},\n",
       "  'salary': {'sdtype': 'numerical', 'computer_representation': 'Int64'},\n",
       "  'duration': {'sdtype': 'numerical', 'computer_representation': 'Int64'},\n",
       "  'student_id': {'sdtype': 'id', 'regex_format': '\\\\d{30}'},\n",
       "  'high_perc': {'sdtype': 'numerical', 'computer_representation': 'Float'},\n",
       "  'high_spec': {'sdtype': 'categorical'},\n",
       "  'mba_spec': {'sdtype': 'categorical'},\n",
       "  'second_perc': {'sdtype': 'numerical', 'computer_representation': 'Float'},\n",
       "  'gender': {'sdtype': 'categorical'},\n",
       "  'degree_perc': {'sdtype': 'numerical', 'computer_representation': 'Float'},\n",
       "  'placed': {'sdtype': 'boolean'},\n",
       "  'experience_years': {'sdtype': 'numerical',\n",
       "   'computer_representation': 'Float'},\n",
       "  'employability_perc': {'sdtype': 'numerical',\n",
       "   'computer_representation': 'Float'},\n",
       "  'mba_perc': {'sdtype': 'numerical', 'computer_representation': 'Float'},\n",
       "  'work_experience': {'sdtype': 'boolean'},\n",
       "  'degree_type': {'sdtype': 'categorical'}},\n",
       " 'METADATA_SPEC_VERSION': 'SINGLE_TABLE_V1'}"
      ]
     },
     "execution_count": 4,
     "metadata": {},
     "output_type": "execute_result"
    }
   ],
   "source": [
    "metadata"
   ]
  },
  {
   "cell_type": "code",
   "execution_count": 14,
   "metadata": {},
   "outputs": [
    {
     "name": "stderr",
     "output_type": "stream",
     "text": [
      "6it [00:00, 2149.82it/s]\n"
     ]
    },
    {
     "ename": "AssertionError",
     "evalue": "Calls not found.\nExpected: [call(   col1   col2\n0     1  False\n1     2   True\n2     3   True,    col1   col2\n0     1  False\n1     2   True\n2     3   True),\n call(   col1 col3\n0     1    a\n1     2    b\n2     3    c,    col1 col3\n0     1    a\n1     2    b\n2     3    c),\n call(    col2 col3\n0  False    a\n1   True    b\n2   True    c,     col2 col3\n0  False    a\n1   True    b\n2   True    c),\n call(    col2       col4\n0  False 2020-01-01\n1   True 2020-01-02\n2   True 2020-01-03,     col2       col4\n0  False 2020-01-01\n1   True 2020-01-02\n2   True 2020-01-03),\n call(  col3       col4\n0    a 2020-01-01\n1    b 2020-01-02\n2    c 2020-01-03,   col3       col4\n0    a 2020-01-01\n1    b 2020-01-02\n2    c 2020-01-03)]\nActual: [call(real_data=   col1   col2\n0     1  False\n1     6   True\n2    11   True, synthetic_data=   col1   col2\n0     1  False\n1     6   True\n2    11   True),\n call().__getitem__('score'),\n call(real_data=   col1 col3\n0     1    a\n1     6    b\n2    11    c, synthetic_data=   col1 col3\n0     1    a\n1     6    b\n2    11    c),\n call().__getitem__('score'),\n call(real_data=    col2 col3\n0  False    a\n1   True    b\n2   True    c, synthetic_data=    col2 col3\n0  False    a\n1   True    b\n2   True    c),\n call().__getitem__('score'),\n call(real_data=    col2  col4\n0  False     1\n1   True     6\n2   True    11, synthetic_data=    col2  col4\n0  False     1\n1   True     6\n2   True    11),\n call().__getitem__('score'),\n call(real_data=  col3  col4\n0    a     1\n1    b     6\n2    c    11, synthetic_data=  col3  col4\n0    a     1\n1    b     6\n2    c    11),\n call().__getitem__('score'),\n call().__getitem__().__len__(),\n call().__getitem__().__len__(),\n call().__getitem__().__len__(),\n call().__getitem__().__len__(),\n call().__getitem__().__len__(),\n call().__getitem__()._typ.__eq__('interval'),\n call().__getitem__()._typ.__eq__('interval')]",
     "output_type": "error",
     "traceback": [
      "\u001b[0;31m---------------------------------------------------------------------------\u001b[0m",
      "\u001b[0;31mAssertionError\u001b[0m                            Traceback (most recent call last)",
      "Cell \u001b[0;32mIn[14], line 51\u001b[0m\n\u001b[1;32m     48\u001b[0m     \u001b[39m#correlation_compute_mock.assert_called_once_with(real_data[['col1', 'col4']], synthetic_data[['col1', 'col4']])\u001b[39;00m\n\u001b[1;32m     49\u001b[0m     contingency_compute_mock\u001b[39m.\u001b[39massert_has_calls(expected_calls_contingency)\n\u001b[0;32m---> 51\u001b[0m test__generate_details()\n",
      "File \u001b[0;32m~/miniconda3/envs/Issue_355_column_shape_property/lib/python3.9/unittest/mock.py:1336\u001b[0m, in \u001b[0;36m_patch.decorate_callable.<locals>.patched\u001b[0;34m(*args, **keywargs)\u001b[0m\n\u001b[1;32m   1331\u001b[0m \u001b[39m@wraps\u001b[39m(func)\n\u001b[1;32m   1332\u001b[0m \u001b[39mdef\u001b[39;00m \u001b[39mpatched\u001b[39m(\u001b[39m*\u001b[39margs, \u001b[39m*\u001b[39m\u001b[39m*\u001b[39mkeywargs):\n\u001b[1;32m   1333\u001b[0m     \u001b[39mwith\u001b[39;00m \u001b[39mself\u001b[39m\u001b[39m.\u001b[39mdecoration_helper(patched,\n\u001b[1;32m   1334\u001b[0m                                 args,\n\u001b[1;32m   1335\u001b[0m                                 keywargs) \u001b[39mas\u001b[39;00m (newargs, newkeywargs):\n\u001b[0;32m-> 1336\u001b[0m         \u001b[39mreturn\u001b[39;00m func(\u001b[39m*\u001b[39;49mnewargs, \u001b[39m*\u001b[39;49m\u001b[39m*\u001b[39;49mnewkeywargs)\n",
      "Cell \u001b[0;32mIn[14], line 49\u001b[0m, in \u001b[0;36mtest__generate_details\u001b[0;34m(contingency_compute_mock, correlation_compute_mock)\u001b[0m\n\u001b[1;32m     40\u001b[0m expected_calls_contingency \u001b[39m=\u001b[39m [\n\u001b[1;32m     41\u001b[0m     call(real_data[[\u001b[39m'\u001b[39m\u001b[39mcol1\u001b[39m\u001b[39m'\u001b[39m, \u001b[39m'\u001b[39m\u001b[39mcol2\u001b[39m\u001b[39m'\u001b[39m]], synthetic_data[[\u001b[39m'\u001b[39m\u001b[39mcol1\u001b[39m\u001b[39m'\u001b[39m, \u001b[39m'\u001b[39m\u001b[39mcol2\u001b[39m\u001b[39m'\u001b[39m]]),\n\u001b[1;32m     42\u001b[0m     call(real_data[[\u001b[39m'\u001b[39m\u001b[39mcol1\u001b[39m\u001b[39m'\u001b[39m, \u001b[39m'\u001b[39m\u001b[39mcol3\u001b[39m\u001b[39m'\u001b[39m]], synthetic_data[[\u001b[39m'\u001b[39m\u001b[39mcol1\u001b[39m\u001b[39m'\u001b[39m, \u001b[39m'\u001b[39m\u001b[39mcol3\u001b[39m\u001b[39m'\u001b[39m]]),\n\u001b[0;32m   (...)\u001b[0m\n\u001b[1;32m     45\u001b[0m     call(real_data[[\u001b[39m'\u001b[39m\u001b[39mcol3\u001b[39m\u001b[39m'\u001b[39m, \u001b[39m'\u001b[39m\u001b[39mcol4\u001b[39m\u001b[39m'\u001b[39m]], synthetic_data[[\u001b[39m'\u001b[39m\u001b[39mcol3\u001b[39m\u001b[39m'\u001b[39m, \u001b[39m'\u001b[39m\u001b[39mcol4\u001b[39m\u001b[39m'\u001b[39m]]),\n\u001b[1;32m     46\u001b[0m ]\n\u001b[1;32m     48\u001b[0m \u001b[39m#correlation_compute_mock.assert_called_once_with(real_data[['col1', 'col4']], synthetic_data[['col1', 'col4']])\u001b[39;00m\n\u001b[0;32m---> 49\u001b[0m contingency_compute_mock\u001b[39m.\u001b[39;49massert_has_calls(expected_calls_contingency)\n",
      "File \u001b[0;32m~/miniconda3/envs/Issue_355_column_shape_property/lib/python3.9/unittest/mock.py:944\u001b[0m, in \u001b[0;36mNonCallableMock.assert_has_calls\u001b[0;34m(self, calls, any_order)\u001b[0m\n\u001b[1;32m    939\u001b[0m         \u001b[39melse\u001b[39;00m:\n\u001b[1;32m    940\u001b[0m             problem \u001b[39m=\u001b[39m (\u001b[39m'\u001b[39m\u001b[39mError processing expected calls.\u001b[39m\u001b[39m\\n\u001b[39;00m\u001b[39m'\u001b[39m\n\u001b[1;32m    941\u001b[0m                        \u001b[39m'\u001b[39m\u001b[39mErrors: \u001b[39m\u001b[39m{}\u001b[39;00m\u001b[39m'\u001b[39m)\u001b[39m.\u001b[39mformat(\n\u001b[1;32m    942\u001b[0m                            [e \u001b[39mif\u001b[39;00m \u001b[39misinstance\u001b[39m(e, \u001b[39mException\u001b[39;00m) \u001b[39melse\u001b[39;00m \u001b[39mNone\u001b[39;00m\n\u001b[1;32m    943\u001b[0m                             \u001b[39mfor\u001b[39;00m e \u001b[39min\u001b[39;00m expected])\n\u001b[0;32m--> 944\u001b[0m         \u001b[39mraise\u001b[39;00m \u001b[39mAssertionError\u001b[39;00m(\n\u001b[1;32m    945\u001b[0m             \u001b[39mf\u001b[39m\u001b[39m'\u001b[39m\u001b[39m{\u001b[39;00mproblem\u001b[39m}\u001b[39;00m\u001b[39m\\n\u001b[39;00m\u001b[39m'\u001b[39m\n\u001b[1;32m    946\u001b[0m             \u001b[39mf\u001b[39m\u001b[39m'\u001b[39m\u001b[39mExpected: \u001b[39m\u001b[39m{\u001b[39;00m_CallList(calls)\u001b[39m}\u001b[39;00m\u001b[39m'\u001b[39m\n\u001b[1;32m    947\u001b[0m             \u001b[39mf\u001b[39m\u001b[39m'\u001b[39m\u001b[39m{\u001b[39;00m\u001b[39mself\u001b[39m\u001b[39m.\u001b[39m_calls_repr(prefix\u001b[39m=\u001b[39m\u001b[39m\"\u001b[39m\u001b[39mActual\u001b[39m\u001b[39m\"\u001b[39m)\u001b[39m.\u001b[39mrstrip(\u001b[39m\"\u001b[39m\u001b[39m.\u001b[39m\u001b[39m\"\u001b[39m)\u001b[39m}\u001b[39;00m\u001b[39m'\u001b[39m\n\u001b[1;32m    948\u001b[0m         ) \u001b[39mfrom\u001b[39;00m \u001b[39mcause\u001b[39;00m\n\u001b[1;32m    949\u001b[0m     \u001b[39mreturn\u001b[39;00m\n\u001b[1;32m    951\u001b[0m all_calls \u001b[39m=\u001b[39m \u001b[39mlist\u001b[39m(all_calls)\n",
      "\u001b[0;31mAssertionError\u001b[0m: Calls not found.\nExpected: [call(   col1   col2\n0     1  False\n1     2   True\n2     3   True,    col1   col2\n0     1  False\n1     2   True\n2     3   True),\n call(   col1 col3\n0     1    a\n1     2    b\n2     3    c,    col1 col3\n0     1    a\n1     2    b\n2     3    c),\n call(    col2 col3\n0  False    a\n1   True    b\n2   True    c,     col2 col3\n0  False    a\n1   True    b\n2   True    c),\n call(    col2       col4\n0  False 2020-01-01\n1   True 2020-01-02\n2   True 2020-01-03,     col2       col4\n0  False 2020-01-01\n1   True 2020-01-02\n2   True 2020-01-03),\n call(  col3       col4\n0    a 2020-01-01\n1    b 2020-01-02\n2    c 2020-01-03,   col3       col4\n0    a 2020-01-01\n1    b 2020-01-02\n2    c 2020-01-03)]\nActual: [call(real_data=   col1   col2\n0     1  False\n1     6   True\n2    11   True, synthetic_data=   col1   col2\n0     1  False\n1     6   True\n2    11   True),\n call().__getitem__('score'),\n call(real_data=   col1 col3\n0     1    a\n1     6    b\n2    11    c, synthetic_data=   col1 col3\n0     1    a\n1     6    b\n2    11    c),\n call().__getitem__('score'),\n call(real_data=    col2 col3\n0  False    a\n1   True    b\n2   True    c, synthetic_data=    col2 col3\n0  False    a\n1   True    b\n2   True    c),\n call().__getitem__('score'),\n call(real_data=    col2  col4\n0  False     1\n1   True     6\n2   True    11, synthetic_data=    col2  col4\n0  False     1\n1   True     6\n2   True    11),\n call().__getitem__('score'),\n call(real_data=  col3  col4\n0    a     1\n1    b     6\n2    c    11, synthetic_data=  col3  col4\n0    a     1\n1    b     6\n2    c    11),\n call().__getitem__('score'),\n call().__getitem__().__len__(),\n call().__getitem__().__len__(),\n call().__getitem__().__len__(),\n call().__getitem__().__len__(),\n call().__getitem__().__len__(),\n call().__getitem__()._typ.__eq__('interval'),\n call().__getitem__()._typ.__eq__('interval')]"
     ]
    }
   ],
   "source": [
    "import json\n",
    "import re\n",
    "from unittest.mock import call, patch\n",
    "\n",
    "import pandas as pd\n",
    "\n",
    "from sdmetrics.reports.single_table._properties.column_pair_trends import ColumnPairTrends\n",
    "\n",
    "@patch('sdmetrics.reports.single_table._properties.column_pair_trends.CorrelationSimilarity.compute_breakdown')\n",
    "@patch('sdmetrics.reports.single_table._properties.column_pair_trends.ContingencySimilarity.compute_breakdown')\n",
    "def test__generate_details(contingency_compute_mock, correlation_compute_mock):\n",
    "    \"\"\"Test the ``_generate_details`` method.\"\"\"\n",
    "    # Setup\n",
    "    real_data = pd.DataFrame({\n",
    "        'col1': [1, 2, 3],\n",
    "        'col2': [False, True, True],\n",
    "        'col3': ['a', 'b', 'c'],\n",
    "        'col4': pd.to_datetime(['2020-01-01', '2020-01-02', '2020-01-03'])\n",
    "    })\n",
    "    synthetic_data = pd.DataFrame({\n",
    "        'col1': [1, 2, 3],\n",
    "        'col2': [False, True, True],\n",
    "        'col3': ['a', 'b', 'c'],\n",
    "        'col4': pd.to_datetime(['2020-01-01', '2020-01-02', '2020-01-03'])\n",
    "    })\n",
    "    metadata = {\n",
    "        'columns': {\n",
    "            'col1': {'sdtype': 'numerical'},\n",
    "            'col2': {'sdtype': 'boolean'},\n",
    "            'col3': {'sdtype': 'categorical'},\n",
    "            'col4': {'sdtype': 'datetime'}\n",
    "        }\n",
    "    }\n",
    "\n",
    "    # Run\n",
    "    column_shape_property = ColumnPairTrends()\n",
    "    column_shape_property._generate_details(real_data, synthetic_data, metadata)\n",
    "\n",
    "    # Assert\n",
    "    expected_calls_contingency = [\n",
    "        call(real_data[['col1', 'col2']], synthetic_data[['col1', 'col2']]),\n",
    "        call(real_data[['col1', 'col3']], synthetic_data[['col1', 'col3']]),\n",
    "        call(real_data[['col2', 'col3']], synthetic_data[['col2', 'col3']]),\n",
    "        call(real_data[['col2', 'col4']], synthetic_data[['col2', 'col4']]),\n",
    "        call(real_data[['col3', 'col4']], synthetic_data[['col3', 'col4']]),\n",
    "    ]\n",
    "\n",
    "    correlation_compute_mock.assert_called_once_with(real_data[['col1', 'col4']], synthetic_data[['col1', 'col4']])\n",
    "    contingency_compute_mock.assert_has_calls(expected_calls_contingency)\n",
    "\n",
    "test__generate_details()"
   ]
  },
  {
   "cell_type": "code",
   "execution_count": 22,
   "metadata": {},
   "outputs": [],
   "source": [
    "import pandas as pd\n",
    "\n",
    "df1 = pd.DataFrame({'col1': [1, 2, 3], 'col2': [4, 5, 6]})\n",
    "df2 = pd.DataFrame({'col1': [4.2, 2.5, 3], 'col2': [7, 8, 9]})\n",
    "\n",
    "df3 = pd.concat([df1, df2], axis=1)"
   ]
  },
  {
   "cell_type": "code",
   "execution_count": 23,
   "metadata": {},
   "outputs": [
    {
     "data": {
      "text/html": [
       "<div>\n",
       "<style scoped>\n",
       "    .dataframe tbody tr th:only-of-type {\n",
       "        vertical-align: middle;\n",
       "    }\n",
       "\n",
       "    .dataframe tbody tr th {\n",
       "        vertical-align: top;\n",
       "    }\n",
       "\n",
       "    .dataframe thead th {\n",
       "        text-align: right;\n",
       "    }\n",
       "</style>\n",
       "<table border=\"1\" class=\"dataframe\">\n",
       "  <thead>\n",
       "    <tr style=\"text-align: right;\">\n",
       "      <th></th>\n",
       "      <th>col1</th>\n",
       "      <th>col2</th>\n",
       "      <th>col1</th>\n",
       "      <th>col2</th>\n",
       "    </tr>\n",
       "  </thead>\n",
       "  <tbody>\n",
       "    <tr>\n",
       "      <th>0</th>\n",
       "      <td>1</td>\n",
       "      <td>4</td>\n",
       "      <td>4.2</td>\n",
       "      <td>7</td>\n",
       "    </tr>\n",
       "    <tr>\n",
       "      <th>1</th>\n",
       "      <td>2</td>\n",
       "      <td>5</td>\n",
       "      <td>2.5</td>\n",
       "      <td>8</td>\n",
       "    </tr>\n",
       "    <tr>\n",
       "      <th>2</th>\n",
       "      <td>3</td>\n",
       "      <td>6</td>\n",
       "      <td>3.0</td>\n",
       "      <td>9</td>\n",
       "    </tr>\n",
       "  </tbody>\n",
       "</table>\n",
       "</div>"
      ],
      "text/plain": [
       "   col1  col2  col1  col2\n",
       "0     1     4   4.2     7\n",
       "1     2     5   2.5     8\n",
       "2     3     6   3.0     9"
      ]
     },
     "execution_count": 23,
     "metadata": {},
     "output_type": "execute_result"
    }
   ],
   "source": [
    "df3"
   ]
  },
  {
   "cell_type": "code",
   "execution_count": 25,
   "metadata": {},
   "outputs": [
    {
     "data": {
      "text/html": [
       "<div>\n",
       "<style scoped>\n",
       "    .dataframe tbody tr th:only-of-type {\n",
       "        vertical-align: middle;\n",
       "    }\n",
       "\n",
       "    .dataframe tbody tr th {\n",
       "        vertical-align: top;\n",
       "    }\n",
       "\n",
       "    .dataframe thead th {\n",
       "        text-align: right;\n",
       "    }\n",
       "</style>\n",
       "<table border=\"1\" class=\"dataframe\">\n",
       "  <thead>\n",
       "    <tr style=\"text-align: right;\">\n",
       "      <th></th>\n",
       "      <th>values</th>\n",
       "      <th>discrete</th>\n",
       "    </tr>\n",
       "  </thead>\n",
       "  <tbody>\n",
       "    <tr>\n",
       "      <th>0</th>\n",
       "      <td>1.5</td>\n",
       "      <td>(1.494, 3.367]</td>\n",
       "    </tr>\n",
       "    <tr>\n",
       "      <th>1</th>\n",
       "      <td>2.3</td>\n",
       "      <td>(1.494, 3.367]</td>\n",
       "    </tr>\n",
       "    <tr>\n",
       "      <th>2</th>\n",
       "      <td>3.6</td>\n",
       "      <td>(3.367, 5.233]</td>\n",
       "    </tr>\n",
       "    <tr>\n",
       "      <th>3</th>\n",
       "      <td>4.2</td>\n",
       "      <td>(3.367, 5.233]</td>\n",
       "    </tr>\n",
       "    <tr>\n",
       "      <th>4</th>\n",
       "      <td>5.8</td>\n",
       "      <td>(5.233, 7.1]</td>\n",
       "    </tr>\n",
       "    <tr>\n",
       "      <th>5</th>\n",
       "      <td>6.0</td>\n",
       "      <td>(5.233, 7.1]</td>\n",
       "    </tr>\n",
       "    <tr>\n",
       "      <th>6</th>\n",
       "      <td>7.1</td>\n",
       "      <td>(5.233, 7.1]</td>\n",
       "    </tr>\n",
       "  </tbody>\n",
       "</table>\n",
       "</div>"
      ],
      "text/plain": [
       "   values        discrete\n",
       "0     1.5  (1.494, 3.367]\n",
       "1     2.3  (1.494, 3.367]\n",
       "2     3.6  (3.367, 5.233]\n",
       "3     4.2  (3.367, 5.233]\n",
       "4     5.8    (5.233, 7.1]\n",
       "5     6.0    (5.233, 7.1]\n",
       "6     7.1    (5.233, 7.1]"
      ]
     },
     "execution_count": 25,
     "metadata": {},
     "output_type": "execute_result"
    }
   ],
   "source": [
    "import pandas as pd\n",
    "\n",
    "df = pd.DataFrame({\n",
    "    'values': [1.5, 2.3, 3.6, 4.2, 5.8, 6.0, 7.1]\n",
    "})\n",
    "\n",
    "df['discrete'] = pd.cut(df['values'], bins=3)\n",
    "df"
   ]
  },
  {
   "cell_type": "code",
   "execution_count": 24,
   "metadata": {},
   "outputs": [
    {
     "data": {
      "text/html": [
       "<div>\n",
       "<style scoped>\n",
       "    .dataframe tbody tr th:only-of-type {\n",
       "        vertical-align: middle;\n",
       "    }\n",
       "\n",
       "    .dataframe tbody tr th {\n",
       "        vertical-align: top;\n",
       "    }\n",
       "\n",
       "    .dataframe thead th {\n",
       "        text-align: right;\n",
       "    }\n",
       "</style>\n",
       "<table border=\"1\" class=\"dataframe\">\n",
       "  <thead>\n",
       "    <tr style=\"text-align: right;\">\n",
       "      <th></th>\n",
       "      <th>col1</th>\n",
       "      <th>col2</th>\n",
       "    </tr>\n",
       "  </thead>\n",
       "  <tbody>\n",
       "    <tr>\n",
       "      <th>0</th>\n",
       "      <td>1</td>\n",
       "      <td>4</td>\n",
       "    </tr>\n",
       "    <tr>\n",
       "      <th>1</th>\n",
       "      <td>2</td>\n",
       "      <td>5</td>\n",
       "    </tr>\n",
       "    <tr>\n",
       "      <th>2</th>\n",
       "      <td>3</td>\n",
       "      <td>6</td>\n",
       "    </tr>\n",
       "  </tbody>\n",
       "</table>\n",
       "</div>"
      ],
      "text/plain": [
       "   col1  col2\n",
       "0     1     4\n",
       "1     2     5\n",
       "2     3     6"
      ]
     },
     "execution_count": 24,
     "metadata": {},
     "output_type": "execute_result"
    }
   ],
   "source": [
    "df3 = df3.loc[:,~df3.columns.duplicated()]\n",
    "df3\n"
   ]
  },
  {
   "cell_type": "code",
   "execution_count": 21,
   "metadata": {},
   "outputs": [
    {
     "data": {
      "text/html": [
       "<div>\n",
       "<style scoped>\n",
       "    .dataframe tbody tr th:only-of-type {\n",
       "        vertical-align: middle;\n",
       "    }\n",
       "\n",
       "    .dataframe tbody tr th {\n",
       "        vertical-align: top;\n",
       "    }\n",
       "\n",
       "    .dataframe thead th {\n",
       "        text-align: right;\n",
       "    }\n",
       "</style>\n",
       "<table border=\"1\" class=\"dataframe\">\n",
       "  <thead>\n",
       "    <tr style=\"text-align: right;\">\n",
       "      <th></th>\n",
       "      <th>col1</th>\n",
       "      <th>col2</th>\n",
       "      <th>col1</th>\n",
       "      <th>col2</th>\n",
       "    </tr>\n",
       "  </thead>\n",
       "  <tbody>\n",
       "    <tr>\n",
       "      <th>0</th>\n",
       "      <td>7</td>\n",
       "      <td>4</td>\n",
       "      <td>7</td>\n",
       "      <td>4</td>\n",
       "    </tr>\n",
       "    <tr>\n",
       "      <th>1</th>\n",
       "      <td>8</td>\n",
       "      <td>5</td>\n",
       "      <td>8</td>\n",
       "      <td>5</td>\n",
       "    </tr>\n",
       "    <tr>\n",
       "      <th>2</th>\n",
       "      <td>9</td>\n",
       "      <td>6</td>\n",
       "      <td>9</td>\n",
       "      <td>6</td>\n",
       "    </tr>\n",
       "  </tbody>\n",
       "</table>\n",
       "</div>"
      ],
      "text/plain": [
       "   col1  col2  col1  col2\n",
       "0     7     4     7     4\n",
       "1     8     5     8     5\n",
       "2     9     6     9     6"
      ]
     },
     "execution_count": 21,
     "metadata": {},
     "output_type": "execute_result"
    }
   ],
   "source": [
    "df3['col1'] = [7, 8, 9]\n",
    "df3"
   ]
  },
  {
   "cell_type": "code",
   "execution_count": 18,
   "metadata": {},
   "outputs": [],
   "source": [
    "duplicates = df3.columns[df3.columns.duplicated(keep=False)]"
   ]
  },
  {
   "cell_type": "code",
   "execution_count": 20,
   "metadata": {},
   "outputs": [
    {
     "ename": "AttributeError",
     "evalue": "module 'pandas.io.parsers' has no attribute 'ParserBase'",
     "output_type": "error",
     "traceback": [
      "\u001b[0;31m---------------------------------------------------------------------------\u001b[0m",
      "\u001b[0;31mAttributeError\u001b[0m                            Traceback (most recent call last)",
      "Cell \u001b[0;32mIn[20], line 11\u001b[0m\n\u001b[1;32m      8\u001b[0m frames[\u001b[39m1\u001b[39m] \u001b[39m=\u001b[39m frames[\u001b[39m1\u001b[39m]\u001b[39m.\u001b[39mloc[:,\u001b[39m~\u001b[39mframes[\u001b[39m1\u001b[39m]\u001b[39m.\u001b[39mT\u001b[39m.\u001b[39mduplicated(keep\u001b[39m=\u001b[39m\u001b[39m'\u001b[39m\u001b[39mfirst\u001b[39m\u001b[39m'\u001b[39m)]\n\u001b[1;32m     10\u001b[0m \u001b[39m# rename remaining duplicates in the second dataframe\u001b[39;00m\n\u001b[0;32m---> 11\u001b[0m frames[\u001b[39m1\u001b[39m]\u001b[39m.\u001b[39mcolumns \u001b[39m=\u001b[39m pd\u001b[39m.\u001b[39;49mio\u001b[39m.\u001b[39;49mparsers\u001b[39m.\u001b[39;49mParserBase({\u001b[39m'\u001b[39m\u001b[39mnames\u001b[39m\u001b[39m'\u001b[39m:frames[\u001b[39m1\u001b[39m]\u001b[39m.\u001b[39mcolumns})\u001b[39m.\u001b[39m_maybe_dedup_names(frames[\u001b[39m1\u001b[39m]\u001b[39m.\u001b[39mcolumns)\n\u001b[1;32m     13\u001b[0m \u001b[39m# concat the dataframes back together\u001b[39;00m\n\u001b[1;32m     14\u001b[0m df3 \u001b[39m=\u001b[39m pd\u001b[39m.\u001b[39mconcat(frames, axis\u001b[39m=\u001b[39m\u001b[39m1\u001b[39m)\n",
      "\u001b[0;31mAttributeError\u001b[0m: module 'pandas.io.parsers' has no attribute 'ParserBase'"
     ]
    }
   ],
   "source": [
    "duplicates = df3.columns[df3.columns.duplicated(keep=False)]\n",
    "\n",
    "for dup in duplicates:\n",
    "    # split the dataframe by the duplicate column name\n",
    "    frames = [df3[df3.columns[df3.columns != dup]], df3[dup]]\n",
    "\n",
    "    # remove exact duplicate columns\n",
    "    frames[1] = frames[1].loc[:,~frames[1].T.duplicated(keep='first')]\n",
    "\n",
    "    # rename remaining duplicates in the second dataframe\n",
    "    frames[1].columns = pd.io.parsers.ParserBase({'names':frames[1].columns})._maybe_dedup_names(frames[1].columns)\n",
    "\n",
    "    # concat the dataframes back together\n",
    "    df3 = pd.concat(frames, axis=1)\n",
    "\n",
    "df3"
   ]
  },
  {
   "cell_type": "code",
   "execution_count": 1,
   "metadata": {},
   "outputs": [
    {
     "ename": "AssertionError",
     "evalue": "DataFrame.iloc[:, 4] (column name=\"col1_discrete\") are different\n\nDataFrame.iloc[:, 4] (column name=\"col1_discrete\") values are different (66.66667 %)\n[index]: [0, 1, 2]\n[left]:  [0, 1, 3]\n[right]: [0, 4, 9]\nAt positional index 1, first diff: 1 != 4",
     "output_type": "error",
     "traceback": [
      "\u001b[0;31m---------------------------------------------------------------------------\u001b[0m",
      "\u001b[0;31mAssertionError\u001b[0m                            Traceback (most recent call last)",
      "Cell \u001b[0;32mIn[1], line 49\u001b[0m\n\u001b[1;32m     32\u001b[0m expected_processed_real \u001b[39m=\u001b[39m pd\u001b[39m.\u001b[39mDataFrame({\n\u001b[1;32m     33\u001b[0m     \u001b[39m'\u001b[39m\u001b[39mcol1\u001b[39m\u001b[39m'\u001b[39m: [\u001b[39m1\u001b[39m, \u001b[39m2\u001b[39m, \u001b[39m3\u001b[39m],\n\u001b[1;32m     34\u001b[0m     \u001b[39m'\u001b[39m\u001b[39mcol2\u001b[39m\u001b[39m'\u001b[39m: [\u001b[39mFalse\u001b[39;00m, \u001b[39mTrue\u001b[39;00m, \u001b[39mTrue\u001b[39;00m],\n\u001b[0;32m   (...)\u001b[0m\n\u001b[1;32m     38\u001b[0m     \u001b[39m'\u001b[39m\u001b[39mcol4_discrete\u001b[39m\u001b[39m'\u001b[39m: [\u001b[39m0\u001b[39m, \u001b[39m4\u001b[39m, \u001b[39m9\u001b[39m],\n\u001b[1;32m     39\u001b[0m })\n\u001b[1;32m     40\u001b[0m expected_processed_synthetic \u001b[39m=\u001b[39m pd\u001b[39m.\u001b[39mDataFrame({\n\u001b[1;32m     41\u001b[0m     \u001b[39m'\u001b[39m\u001b[39mcol1\u001b[39m\u001b[39m'\u001b[39m: [\u001b[39m4\u001b[39m, \u001b[39m5\u001b[39m, \u001b[39m6\u001b[39m],\n\u001b[1;32m     42\u001b[0m     \u001b[39m'\u001b[39m\u001b[39mcol2\u001b[39m\u001b[39m'\u001b[39m: [\u001b[39mFalse\u001b[39;00m, \u001b[39mTrue\u001b[39;00m, \u001b[39mTrue\u001b[39;00m],\n\u001b[0;32m   (...)\u001b[0m\n\u001b[1;32m     46\u001b[0m     \u001b[39m'\u001b[39m\u001b[39mcol4_discrete\u001b[39m\u001b[39m'\u001b[39m: [\u001b[39m0\u001b[39m, \u001b[39m1\u001b[39m, \u001b[39m1\u001b[39m],\n\u001b[1;32m     47\u001b[0m })\n\u001b[0;32m---> 49\u001b[0m pd\u001b[39m.\u001b[39;49mtesting\u001b[39m.\u001b[39;49massert_frame_equal(processed_real, expected_processed_real)\n\u001b[1;32m     50\u001b[0m pd\u001b[39m.\u001b[39mtesting\u001b[39m.\u001b[39massert_frame_equal(processed_synthetic, expected_processed_synthetic)\n",
      "    \u001b[0;31m[... skipping hidden 2 frame]\u001b[0m\n",
      "File \u001b[0;32m~/miniconda3/envs/Issue_355_column_shape_property/lib/python3.9/site-packages/pandas/_libs/testing.pyx:52\u001b[0m, in \u001b[0;36mpandas._libs.testing.assert_almost_equal\u001b[0;34m()\u001b[0m\n",
      "File \u001b[0;32m~/miniconda3/envs/Issue_355_column_shape_property/lib/python3.9/site-packages/pandas/_libs/testing.pyx:172\u001b[0m, in \u001b[0;36mpandas._libs.testing.assert_almost_equal\u001b[0;34m()\u001b[0m\n",
      "File \u001b[0;32m~/miniconda3/envs/Issue_355_column_shape_property/lib/python3.9/site-packages/pandas/_testing/asserters.py:599\u001b[0m, in \u001b[0;36mraise_assert_detail\u001b[0;34m(obj, message, left, right, diff, first_diff, index_values)\u001b[0m\n\u001b[1;32m    596\u001b[0m \u001b[39mif\u001b[39;00m first_diff \u001b[39mis\u001b[39;00m \u001b[39mnot\u001b[39;00m \u001b[39mNone\u001b[39;00m:\n\u001b[1;32m    597\u001b[0m     msg \u001b[39m+\u001b[39m\u001b[39m=\u001b[39m \u001b[39mf\u001b[39m\u001b[39m\"\u001b[39m\u001b[39m\\n\u001b[39;00m\u001b[39m{\u001b[39;00mfirst_diff\u001b[39m}\u001b[39;00m\u001b[39m\"\u001b[39m\n\u001b[0;32m--> 599\u001b[0m \u001b[39mraise\u001b[39;00m \u001b[39mAssertionError\u001b[39;00m(msg)\n",
      "\u001b[0;31mAssertionError\u001b[0m: DataFrame.iloc[:, 4] (column name=\"col1_discrete\") are different\n\nDataFrame.iloc[:, 4] (column name=\"col1_discrete\") values are different (66.66667 %)\n[index]: [0, 1, 2]\n[left]:  [0, 1, 3]\n[right]: [0, 4, 9]\nAt positional index 1, first diff: 1 != 4"
     ]
    }
   ],
   "source": [
    "from sdmetrics.reports.single_table._properties.column_pair_trends import ColumnPairTrends\n",
    "\n",
    "import pandas as pd\n",
    "\"\"\"Test the ``_get_processed_data`` method.\"\"\"\n",
    "# Setup\n",
    "real_data = pd.DataFrame({\n",
    "    'col1': [1, 2, 3],\n",
    "    'col2': [False, True, True],\n",
    "    'col3': ['a', 'b', 'c'],\n",
    "    'col4': pd.to_datetime(['2020-01-01', '2020-01-02', '2020-01-03'])\n",
    "})\n",
    "synthetic_data = pd.DataFrame({\n",
    "    'col1': [4, 5, 6],\n",
    "    'col2': [False, True, True],\n",
    "    'col3': ['a', 'b', 'c'],\n",
    "    'col4': pd.to_datetime(['2020-01-04', '2020-01-05', '2020-01-06'])\n",
    "})\n",
    "metadata = {\n",
    "    'columns': {\n",
    "        'col1': {'sdtype': 'numerical'},\n",
    "        'col2': {'sdtype': 'boolean'},\n",
    "        'col3': {'sdtype': 'categorical'},\n",
    "        'col4': {'sdtype': 'datetime'}\n",
    "    }\n",
    "}\n",
    "\n",
    "# Run\n",
    "property = ColumnPairTrends()\n",
    "processed_real, processed_synthetic = property._get_processed_data(real_data, synthetic_data, metadata)\n",
    "\n",
    "# Assert\n",
    "expected_processed_real = pd.DataFrame({\n",
    "    'col1': [1, 2, 3],\n",
    "    'col2': [False, True, True],\n",
    "    'col3': ['a', 'b', 'c'],\n",
    "    'col4': pd.to_numeric(pd.to_datetime(['2020-01-01', '2020-01-02', '2020-01-03'])),\n",
    "    'col1_discrete': [0, 4, 9],\n",
    "    'col4_discrete': [0, 4, 9],\n",
    "})\n",
    "expected_processed_synthetic = pd.DataFrame({\n",
    "    'col1': [4, 5, 6],\n",
    "    'col2': [False, True, True],\n",
    "    'col3': ['a', 'b', 'c'],\n",
    "    'col4': pd.to_numeric(pd.to_datetime(['2020-01-04', '2020-01-05', '2020-01-06']).to_numpy()),\n",
    "    'col1_discrete': [0, 2, 3],\n",
    "    'col4_discrete': [0, 1, 1],\n",
    "})\n",
    "\n",
    "pd.testing.assert_frame_equal(processed_real, expected_processed_real)\n",
    "pd.testing.assert_frame_equal(processed_synthetic, expected_processed_synthetic)"
   ]
  },
  {
   "cell_type": "code",
   "execution_count": 5,
   "metadata": {},
   "outputs": [
    {
     "data": {
      "text/plain": [
       "(   col1   col2 col3  col4\n",
       " 0     0  False    a     0\n",
       " 1     4   True    b     4\n",
       " 2     9   True    c     9,\n",
       "    col1   col2 col3  col4\n",
       " 0   NaN  False    a   NaN\n",
       " 1   NaN   True    b   NaN\n",
       " 2   NaN   True    c   NaN,\n",
       " {'columns': {'col1': {'sdtype': 'categorical'},\n",
       "   'col2': {'sdtype': 'boolean'},\n",
       "   'col3': {'sdtype': 'categorical'},\n",
       "   'col4': {'sdtype': 'categorical'}}})"
      ]
     },
     "execution_count": 5,
     "metadata": {},
     "output_type": "execute_result"
    }
   ],
   "source": [
    "from sdmetrics.reports.utils import discretize_table_data\n",
    "\n",
    "real_data = pd.DataFrame({\n",
    "    'col1': [1, 2, 3],\n",
    "    'col2': [False, True, True],\n",
    "    'col3': ['a', 'b', 'c'],\n",
    "    'col4': pd.to_datetime(['2020-01-01', '2020-01-02', '2020-01-03'])\n",
    "})\n",
    "synthetic_data = pd.DataFrame({\n",
    "    'col1': [4, 5, 6],\n",
    "    'col2': [False, True, True],\n",
    "    'col3': ['a', 'b', 'c'],\n",
    "    'col4': pd.to_datetime(['2020-01-04', '2020-01-05', '2020-01-06'])\n",
    "})\n",
    "metadata = {\n",
    "    'columns': {\n",
    "        'col1': {'sdtype': 'numerical'},\n",
    "        'col2': {'sdtype': 'boolean'},\n",
    "        'col3': {'sdtype': 'categorical'},\n",
    "        'col4': {'sdtype': 'datetime'}\n",
    "    }\n",
    "}\n",
    "\n",
    "# Run\n",
    "t = discretize_table_data(real_data,synthetic_data, metadata)\n",
    "t"
   ]
  },
  {
   "cell_type": "code",
   "execution_count": 2,
   "metadata": {},
   "outputs": [
    {
     "data": {
      "text/html": [
       "<div>\n",
       "<style scoped>\n",
       "    .dataframe tbody tr th:only-of-type {\n",
       "        vertical-align: middle;\n",
       "    }\n",
       "\n",
       "    .dataframe tbody tr th {\n",
       "        vertical-align: top;\n",
       "    }\n",
       "\n",
       "    .dataframe thead th {\n",
       "        text-align: right;\n",
       "    }\n",
       "</style>\n",
       "<table border=\"1\" class=\"dataframe\">\n",
       "  <thead>\n",
       "    <tr style=\"text-align: right;\">\n",
       "      <th></th>\n",
       "      <th>col1</th>\n",
       "      <th>col2</th>\n",
       "      <th>col3</th>\n",
       "      <th>col4</th>\n",
       "      <th>col1_discrete</th>\n",
       "      <th>col4_discrete</th>\n",
       "    </tr>\n",
       "  </thead>\n",
       "  <tbody>\n",
       "    <tr>\n",
       "      <th>0</th>\n",
       "      <td>4</td>\n",
       "      <td>False</td>\n",
       "      <td>a</td>\n",
       "      <td>1578096000000000000</td>\n",
       "      <td>NaN</td>\n",
       "      <td>NaN</td>\n",
       "    </tr>\n",
       "    <tr>\n",
       "      <th>1</th>\n",
       "      <td>5</td>\n",
       "      <td>True</td>\n",
       "      <td>b</td>\n",
       "      <td>1578182400000000000</td>\n",
       "      <td>NaN</td>\n",
       "      <td>NaN</td>\n",
       "    </tr>\n",
       "    <tr>\n",
       "      <th>2</th>\n",
       "      <td>6</td>\n",
       "      <td>True</td>\n",
       "      <td>c</td>\n",
       "      <td>1578268800000000000</td>\n",
       "      <td>NaN</td>\n",
       "      <td>NaN</td>\n",
       "    </tr>\n",
       "  </tbody>\n",
       "</table>\n",
       "</div>"
      ],
      "text/plain": [
       "   col1   col2 col3                 col4  col1_discrete  col4_discrete\n",
       "0     4  False    a  1578096000000000000            NaN            NaN\n",
       "1     5   True    b  1578182400000000000            NaN            NaN\n",
       "2     6   True    c  1578268800000000000            NaN            NaN"
      ]
     },
     "execution_count": 2,
     "metadata": {},
     "output_type": "execute_result"
    }
   ],
   "source": [
    "processed_synthetic"
   ]
  },
  {
   "cell_type": "code",
   "execution_count": 3,
   "metadata": {},
   "outputs": [
    {
     "data": {
      "text/html": [
       "<div>\n",
       "<style scoped>\n",
       "    .dataframe tbody tr th:only-of-type {\n",
       "        vertical-align: middle;\n",
       "    }\n",
       "\n",
       "    .dataframe tbody tr th {\n",
       "        vertical-align: top;\n",
       "    }\n",
       "\n",
       "    .dataframe thead th {\n",
       "        text-align: right;\n",
       "    }\n",
       "</style>\n",
       "<table border=\"1\" class=\"dataframe\">\n",
       "  <thead>\n",
       "    <tr style=\"text-align: right;\">\n",
       "      <th></th>\n",
       "      <th>col1</th>\n",
       "      <th>col2</th>\n",
       "      <th>col3</th>\n",
       "      <th>col4</th>\n",
       "      <th>col1_discrete</th>\n",
       "      <th>col4_discrete</th>\n",
       "    </tr>\n",
       "  </thead>\n",
       "  <tbody>\n",
       "    <tr>\n",
       "      <th>0</th>\n",
       "      <td>1</td>\n",
       "      <td>False</td>\n",
       "      <td>a</td>\n",
       "      <td>1577836800000000000</td>\n",
       "      <td>0</td>\n",
       "      <td>0</td>\n",
       "    </tr>\n",
       "    <tr>\n",
       "      <th>1</th>\n",
       "      <td>2</td>\n",
       "      <td>True</td>\n",
       "      <td>b</td>\n",
       "      <td>1577923200000000000</td>\n",
       "      <td>4</td>\n",
       "      <td>4</td>\n",
       "    </tr>\n",
       "    <tr>\n",
       "      <th>2</th>\n",
       "      <td>3</td>\n",
       "      <td>True</td>\n",
       "      <td>c</td>\n",
       "      <td>1578009600000000000</td>\n",
       "      <td>9</td>\n",
       "      <td>9</td>\n",
       "    </tr>\n",
       "  </tbody>\n",
       "</table>\n",
       "</div>"
      ],
      "text/plain": [
       "   col1   col2 col3                 col4  col1_discrete  col4_discrete\n",
       "0     1  False    a  1577836800000000000              0              0\n",
       "1     2   True    b  1577923200000000000              4              4\n",
       "2     3   True    c  1578009600000000000              9              9"
      ]
     },
     "execution_count": 3,
     "metadata": {},
     "output_type": "execute_result"
    }
   ],
   "source": [
    "processed_real"
   ]
  },
  {
   "cell_type": "code",
   "execution_count": 5,
   "metadata": {},
   "outputs": [
    {
     "ename": "ValueError",
     "evalue": "\n    Invalid element(s) received for the 'data' property of \n        Invalid elements include: ['heatmap1']\n\n    The 'data' property is a tuple of trace instances\n    that may be specified as:\n      - A list or tuple of trace instances\n        (e.g. [Scatter(...), Bar(...)])\n      - A single trace instance\n        (e.g. Scatter(...), Bar(...), etc.)\n      - A list or tuple of dicts of string/value properties where:\n        - The 'type' property specifies the trace type\n            One of: ['bar', 'barpolar', 'box', 'candlestick',\n                     'carpet', 'choropleth', 'choroplethmapbox',\n                     'cone', 'contour', 'contourcarpet',\n                     'densitymapbox', 'funnel', 'funnelarea',\n                     'heatmap', 'heatmapgl', 'histogram',\n                     'histogram2d', 'histogram2dcontour', 'icicle',\n                     'image', 'indicator', 'isosurface', 'mesh3d',\n                     'ohlc', 'parcats', 'parcoords', 'pie',\n                     'pointcloud', 'sankey', 'scatter',\n                     'scatter3d', 'scattercarpet', 'scattergeo',\n                     'scattergl', 'scattermapbox', 'scatterpolar',\n                     'scatterpolargl', 'scattersmith',\n                     'scatterternary', 'splom', 'streamtube',\n                     'sunburst', 'surface', 'table', 'treemap',\n                     'violin', 'volume', 'waterfall']\n\n        - All remaining properties are passed to the constructor of\n          the specified trace type\n\n        (e.g. [{'type': 'scatter', ...}, {'type': 'bar, ...}])",
     "output_type": "error",
     "traceback": [
      "\u001b[0;31m---------------------------------------------------------------------------\u001b[0m",
      "\u001b[0;31mValueError\u001b[0m                                Traceback (most recent call last)",
      "Cell \u001b[0;32mIn[5], line 62\u001b[0m\n\u001b[1;32m     59\u001b[0m     mock_make_subplots\u001b[39m.\u001b[39mreturn_value\u001b[39m.\u001b[39madd_trace\u001b[39m.\u001b[39massert_any_call(\u001b[39m'\u001b[39m\u001b[39mheatmap2\u001b[39m\u001b[39m'\u001b[39m, \u001b[39m2\u001b[39m, \u001b[39m1\u001b[39m)\n\u001b[1;32m     60\u001b[0m     mock_make_subplots\u001b[39m.\u001b[39mreturn_value\u001b[39m.\u001b[39madd_trace\u001b[39m.\u001b[39massert_any_call(\u001b[39m'\u001b[39m\u001b[39mheatmap3\u001b[39m\u001b[39m'\u001b[39m, \u001b[39m2\u001b[39m, \u001b[39m2\u001b[39m)\n\u001b[0;32m---> 62\u001b[0m test_get_visualization_2()\n",
      "File \u001b[0;32m~/miniconda3/envs/Issue_355_column_shape_property/lib/python3.9/unittest/mock.py:1336\u001b[0m, in \u001b[0;36m_patch.decorate_callable.<locals>.patched\u001b[0;34m(*args, **keywargs)\u001b[0m\n\u001b[1;32m   1331\u001b[0m \u001b[39m@wraps\u001b[39m(func)\n\u001b[1;32m   1332\u001b[0m \u001b[39mdef\u001b[39;00m \u001b[39mpatched\u001b[39m(\u001b[39m*\u001b[39margs, \u001b[39m*\u001b[39m\u001b[39m*\u001b[39mkeywargs):\n\u001b[1;32m   1333\u001b[0m     \u001b[39mwith\u001b[39;00m \u001b[39mself\u001b[39m\u001b[39m.\u001b[39mdecoration_helper(patched,\n\u001b[1;32m   1334\u001b[0m                                 args,\n\u001b[1;32m   1335\u001b[0m                                 keywargs) \u001b[39mas\u001b[39;00m (newargs, newkeywargs):\n\u001b[0;32m-> 1336\u001b[0m         \u001b[39mreturn\u001b[39;00m func(\u001b[39m*\u001b[39;49mnewargs, \u001b[39m*\u001b[39;49m\u001b[39m*\u001b[39;49mnewkeywargs)\n",
      "Cell \u001b[0;32mIn[5], line 41\u001b[0m, in \u001b[0;36mtest_get_visualization_2\u001b[0;34m(mock_heatmap, mock_make_subplots)\u001b[0m\n\u001b[1;32m     38\u001b[0m mock_make_subplots\u001b[39m.\u001b[39mreturn_value \u001b[39m=\u001b[39m Mock()\n\u001b[1;32m     40\u001b[0m \u001b[39m# Run\u001b[39;00m\n\u001b[0;32m---> 41\u001b[0m cpt_property\u001b[39m.\u001b[39;49mget_visualization()\n\u001b[1;32m     43\u001b[0m \u001b[39m# Assert\u001b[39;00m\n\u001b[1;32m     44\u001b[0m mock_correlation_matrix\u001b[39m.\u001b[39massert_any_call(\u001b[39m'\u001b[39m\u001b[39mScore\u001b[39m\u001b[39m'\u001b[39m)\n",
      "File \u001b[0;32m~/Desktop/SDMetrics/sdmetrics/reports/single_table/_properties/column_pair_trends.py:291\u001b[0m, in \u001b[0;36mget_visualization\u001b[0;34m(self)\u001b[0m\n\u001b[1;32m    283\u001b[0m tmpl_2 \u001b[39m=\u001b[39m (\n\u001b[1;32m    284\u001b[0m     \u001b[39m'\u001b[39m\u001b[39m<b>Correlation</b><br>(\u001b[39m\u001b[39m%\u001b[39m\u001b[39m{x}\u001b[39;00m\u001b[39m,\u001b[39m\u001b[39m%\u001b[39m\u001b[39m{y}\u001b[39;00m\u001b[39m)<br><br>Synthetic: \u001b[39m\u001b[39m%\u001b[39m\u001b[39m{z}\u001b[39;00m\u001b[39m<br>(vs. Real: \u001b[39m\u001b[39m'\u001b[39m\n\u001b[1;32m    285\u001b[0m     \u001b[39m'\u001b[39m\u001b[39m%\u001b[39m\u001b[39m{customdata}\u001b[39;00m\u001b[39m)<extra></extra>\u001b[39m\u001b[39m'\u001b[39m\n\u001b[1;32m    286\u001b[0m )\n\u001b[1;32m    288\u001b[0m fig \u001b[39m=\u001b[39m make_subplots(rows\u001b[39m=\u001b[39m\u001b[39m2\u001b[39m, cols\u001b[39m=\u001b[39m\u001b[39m2\u001b[39m, subplot_titles\u001b[39m=\u001b[39mtitles, specs\u001b[39m=\u001b[39mspecs)\n\u001b[1;32m    290\u001b[0m fig\u001b[39m.\u001b[39madd_trace(\n\u001b[0;32m--> 291\u001b[0m     \u001b[39mself\u001b[39m\u001b[39m.\u001b[39m_get_heatmap(similarity_correlation, \u001b[39m'\u001b[39m\u001b[39mcoloraxis\u001b[39m\u001b[39m'\u001b[39m, tmpl_1), \u001b[39m1\u001b[39m, \u001b[39m1\u001b[39m\n\u001b[1;32m    292\u001b[0m )\n\u001b[1;32m    293\u001b[0m fig\u001b[39m.\u001b[39madd_trace(\n\u001b[1;32m    294\u001b[0m     \u001b[39mself\u001b[39m\u001b[39m.\u001b[39m_get_heatmap(real_correlation, \u001b[39m'\u001b[39m\u001b[39mcoloraxis2\u001b[39m\u001b[39m'\u001b[39m, tmpl_2, synthetic_correlation), \u001b[39m2\u001b[39m, \u001b[39m1\u001b[39m\n\u001b[1;32m    295\u001b[0m )\n\u001b[1;32m    296\u001b[0m fig\u001b[39m.\u001b[39madd_trace(\n\u001b[1;32m    297\u001b[0m     \u001b[39mself\u001b[39m\u001b[39m.\u001b[39m_get_heatmap(synthetic_correlation, \u001b[39m'\u001b[39m\u001b[39mcoloraxis2\u001b[39m\u001b[39m'\u001b[39m, tmpl_2, real_correlation), \u001b[39m2\u001b[39m, \u001b[39m2\u001b[39m\n\u001b[1;32m    298\u001b[0m )\n",
      "File \u001b[0;32m~/miniconda3/envs/Issue_355_column_shape_property/lib/python3.9/site-packages/plotly/graph_objs/_figure.py:900\u001b[0m, in \u001b[0;36mFigure.add_trace\u001b[0;34m(self, trace, row, col, secondary_y, exclude_empty_subplots)\u001b[0m\n\u001b[1;32m    825\u001b[0m \u001b[39mdef\u001b[39;00m \u001b[39madd_trace\u001b[39m(\n\u001b[1;32m    826\u001b[0m     \u001b[39mself\u001b[39m, trace, row\u001b[39m=\u001b[39m\u001b[39mNone\u001b[39;00m, col\u001b[39m=\u001b[39m\u001b[39mNone\u001b[39;00m, secondary_y\u001b[39m=\u001b[39m\u001b[39mNone\u001b[39;00m, exclude_empty_subplots\u001b[39m=\u001b[39m\u001b[39mFalse\u001b[39;00m\n\u001b[1;32m    827\u001b[0m ) \u001b[39m-\u001b[39m\u001b[39m>\u001b[39m \u001b[39m\"\u001b[39m\u001b[39mFigure\u001b[39m\u001b[39m\"\u001b[39m:\n\u001b[1;32m    828\u001b[0m \u001b[39m    \u001b[39m\u001b[39m\"\"\"\u001b[39;00m\n\u001b[1;32m    829\u001b[0m \n\u001b[1;32m    830\u001b[0m \u001b[39m    Add a trace to the figure\u001b[39;00m\n\u001b[0;32m   (...)\u001b[0m\n\u001b[1;32m    898\u001b[0m \n\u001b[1;32m    899\u001b[0m \u001b[39m    \"\"\"\u001b[39;00m\n\u001b[0;32m--> 900\u001b[0m     \u001b[39mreturn\u001b[39;00m \u001b[39msuper\u001b[39;49m(Figure, \u001b[39mself\u001b[39;49m)\u001b[39m.\u001b[39;49madd_trace(\n\u001b[1;32m    901\u001b[0m         trace, row, col, secondary_y, exclude_empty_subplots\n\u001b[1;32m    902\u001b[0m     )\n",
      "File \u001b[0;32m~/miniconda3/envs/Issue_355_column_shape_property/lib/python3.9/site-packages/plotly/basedatatypes.py:2108\u001b[0m, in \u001b[0;36mBaseFigure.add_trace\u001b[0;34m(self, trace, row, col, secondary_y, exclude_empty_subplots)\u001b[0m\n\u001b[1;32m   2099\u001b[0m         \u001b[39mself\u001b[39m\u001b[39m.\u001b[39madd_trace(\n\u001b[1;32m   2100\u001b[0m             trace,\n\u001b[1;32m   2101\u001b[0m             row\u001b[39m=\u001b[39mr,\n\u001b[0;32m   (...)\u001b[0m\n\u001b[1;32m   2104\u001b[0m             exclude_empty_subplots\u001b[39m=\u001b[39mexclude_empty_subplots,\n\u001b[1;32m   2105\u001b[0m         )\n\u001b[1;32m   2106\u001b[0m     \u001b[39mreturn\u001b[39;00m \u001b[39mself\u001b[39m\n\u001b[0;32m-> 2108\u001b[0m \u001b[39mreturn\u001b[39;00m \u001b[39mself\u001b[39;49m\u001b[39m.\u001b[39;49madd_traces(\n\u001b[1;32m   2109\u001b[0m     data\u001b[39m=\u001b[39;49m[trace],\n\u001b[1;32m   2110\u001b[0m     rows\u001b[39m=\u001b[39;49m[row] \u001b[39mif\u001b[39;49;00m row \u001b[39mis\u001b[39;49;00m \u001b[39mnot\u001b[39;49;00m \u001b[39mNone\u001b[39;49;00m \u001b[39melse\u001b[39;49;00m \u001b[39mNone\u001b[39;49;00m,\n\u001b[1;32m   2111\u001b[0m     cols\u001b[39m=\u001b[39;49m[col] \u001b[39mif\u001b[39;49;00m col \u001b[39mis\u001b[39;49;00m \u001b[39mnot\u001b[39;49;00m \u001b[39mNone\u001b[39;49;00m \u001b[39melse\u001b[39;49;00m \u001b[39mNone\u001b[39;49;00m,\n\u001b[1;32m   2112\u001b[0m     secondary_ys\u001b[39m=\u001b[39;49m[secondary_y] \u001b[39mif\u001b[39;49;00m secondary_y \u001b[39mis\u001b[39;49;00m \u001b[39mnot\u001b[39;49;00m \u001b[39mNone\u001b[39;49;00m \u001b[39melse\u001b[39;49;00m \u001b[39mNone\u001b[39;49;00m,\n\u001b[1;32m   2113\u001b[0m     exclude_empty_subplots\u001b[39m=\u001b[39;49mexclude_empty_subplots,\n\u001b[1;32m   2114\u001b[0m )\n",
      "File \u001b[0;32m~/miniconda3/envs/Issue_355_column_shape_property/lib/python3.9/site-packages/plotly/graph_objs/_figure.py:980\u001b[0m, in \u001b[0;36mFigure.add_traces\u001b[0;34m(self, data, rows, cols, secondary_ys, exclude_empty_subplots)\u001b[0m\n\u001b[1;32m    904\u001b[0m \u001b[39mdef\u001b[39;00m \u001b[39madd_traces\u001b[39m(\n\u001b[1;32m    905\u001b[0m     \u001b[39mself\u001b[39m,\n\u001b[1;32m    906\u001b[0m     data,\n\u001b[0;32m   (...)\u001b[0m\n\u001b[1;32m    910\u001b[0m     exclude_empty_subplots\u001b[39m=\u001b[39m\u001b[39mFalse\u001b[39;00m,\n\u001b[1;32m    911\u001b[0m ) \u001b[39m-\u001b[39m\u001b[39m>\u001b[39m \u001b[39m\"\u001b[39m\u001b[39mFigure\u001b[39m\u001b[39m\"\u001b[39m:\n\u001b[1;32m    912\u001b[0m \u001b[39m    \u001b[39m\u001b[39m\"\"\"\u001b[39;00m\n\u001b[1;32m    913\u001b[0m \n\u001b[1;32m    914\u001b[0m \u001b[39m    Add traces to the figure\u001b[39;00m\n\u001b[0;32m   (...)\u001b[0m\n\u001b[1;32m    978\u001b[0m \n\u001b[1;32m    979\u001b[0m \u001b[39m    \"\"\"\u001b[39;00m\n\u001b[0;32m--> 980\u001b[0m     \u001b[39mreturn\u001b[39;00m \u001b[39msuper\u001b[39;49m(Figure, \u001b[39mself\u001b[39;49m)\u001b[39m.\u001b[39;49madd_traces(\n\u001b[1;32m    981\u001b[0m         data, rows, cols, secondary_ys, exclude_empty_subplots\n\u001b[1;32m    982\u001b[0m     )\n",
      "File \u001b[0;32m~/miniconda3/envs/Issue_355_column_shape_property/lib/python3.9/site-packages/plotly/basedatatypes.py:2192\u001b[0m, in \u001b[0;36mBaseFigure.add_traces\u001b[0;34m(self, data, rows, cols, secondary_ys, exclude_empty_subplots)\u001b[0m\n\u001b[1;32m   2124\u001b[0m \u001b[39m\u001b[39m\u001b[39m\"\"\"\u001b[39;00m\n\u001b[1;32m   2125\u001b[0m \u001b[39mAdd traces to the figure\u001b[39;00m\n\u001b[1;32m   2126\u001b[0m \n\u001b[0;32m   (...)\u001b[0m\n\u001b[1;32m   2188\u001b[0m \u001b[39mFigure(...)\u001b[39;00m\n\u001b[1;32m   2189\u001b[0m \u001b[39m\"\"\"\u001b[39;00m\n\u001b[1;32m   2191\u001b[0m \u001b[39m# Validate traces\u001b[39;00m\n\u001b[0;32m-> 2192\u001b[0m data \u001b[39m=\u001b[39m \u001b[39mself\u001b[39;49m\u001b[39m.\u001b[39;49m_data_validator\u001b[39m.\u001b[39;49mvalidate_coerce(data)\n\u001b[1;32m   2194\u001b[0m \u001b[39m# Set trace indexes\u001b[39;00m\n\u001b[1;32m   2195\u001b[0m \u001b[39mfor\u001b[39;00m ind, new_trace \u001b[39min\u001b[39;00m \u001b[39menumerate\u001b[39m(data):\n",
      "File \u001b[0;32m~/miniconda3/envs/Issue_355_column_shape_property/lib/python3.9/site-packages/_plotly_utils/basevalidators.py:2702\u001b[0m, in \u001b[0;36mBaseDataValidator.validate_coerce\u001b[0;34m(self, v, skip_invalid, _validate)\u001b[0m\n\u001b[1;32m   2699\u001b[0m             invalid_els\u001b[39m.\u001b[39mappend(v_el)\n\u001b[1;32m   2701\u001b[0m \u001b[39mif\u001b[39;00m invalid_els:\n\u001b[0;32m-> 2702\u001b[0m     \u001b[39mself\u001b[39;49m\u001b[39m.\u001b[39;49mraise_invalid_elements(invalid_els)\n\u001b[1;32m   2704\u001b[0m v \u001b[39m=\u001b[39m to_scalar_or_list(res)\n\u001b[1;32m   2706\u001b[0m \u001b[39m# Set new UIDs\u001b[39;00m\n",
      "File \u001b[0;32m~/miniconda3/envs/Issue_355_column_shape_property/lib/python3.9/site-packages/_plotly_utils/basevalidators.py:303\u001b[0m, in \u001b[0;36mBaseValidator.raise_invalid_elements\u001b[0;34m(self, invalid_els)\u001b[0m\n\u001b[1;32m    301\u001b[0m     \u001b[39mdef\u001b[39;00m \u001b[39mraise_invalid_elements\u001b[39m(\u001b[39mself\u001b[39m, invalid_els):\n\u001b[1;32m    302\u001b[0m         \u001b[39mif\u001b[39;00m invalid_els:\n\u001b[0;32m--> 303\u001b[0m             \u001b[39mraise\u001b[39;00m \u001b[39mValueError\u001b[39;00m(\n\u001b[1;32m    304\u001b[0m \u001b[39m                \u001b[39m\u001b[39m\"\"\"\u001b[39;00m\n\u001b[1;32m    305\u001b[0m \u001b[39m    Invalid element(s) received for the '{name}' property of {pname}\u001b[39;00m\n\u001b[1;32m    306\u001b[0m \u001b[39m        Invalid elements include: {invalid}\u001b[39;00m\n\u001b[1;32m    307\u001b[0m \n\u001b[1;32m    308\u001b[0m \u001b[39m{valid_clr_desc}\"\"\"\u001b[39;00m\u001b[39m.\u001b[39mformat(\n\u001b[1;32m    309\u001b[0m                     name\u001b[39m=\u001b[39m\u001b[39mself\u001b[39m\u001b[39m.\u001b[39mplotly_name,\n\u001b[1;32m    310\u001b[0m                     pname\u001b[39m=\u001b[39m\u001b[39mself\u001b[39m\u001b[39m.\u001b[39mparent_name,\n\u001b[1;32m    311\u001b[0m                     invalid\u001b[39m=\u001b[39minvalid_els[:\u001b[39m10\u001b[39m],\n\u001b[1;32m    312\u001b[0m                     valid_clr_desc\u001b[39m=\u001b[39m\u001b[39mself\u001b[39m\u001b[39m.\u001b[39mdescription(),\n\u001b[1;32m    313\u001b[0m                 )\n\u001b[1;32m    314\u001b[0m             )\n",
      "\u001b[0;31mValueError\u001b[0m: \n    Invalid element(s) received for the 'data' property of \n        Invalid elements include: ['heatmap1']\n\n    The 'data' property is a tuple of trace instances\n    that may be specified as:\n      - A list or tuple of trace instances\n        (e.g. [Scatter(...), Bar(...)])\n      - A single trace instance\n        (e.g. Scatter(...), Bar(...), etc.)\n      - A list or tuple of dicts of string/value properties where:\n        - The 'type' property specifies the trace type\n            One of: ['bar', 'barpolar', 'box', 'candlestick',\n                     'carpet', 'choropleth', 'choroplethmapbox',\n                     'cone', 'contour', 'contourcarpet',\n                     'densitymapbox', 'funnel', 'funnelarea',\n                     'heatmap', 'heatmapgl', 'histogram',\n                     'histogram2d', 'histogram2dcontour', 'icicle',\n                     'image', 'indicator', 'isosurface', 'mesh3d',\n                     'ohlc', 'parcats', 'parcoords', 'pie',\n                     'pointcloud', 'sankey', 'scatter',\n                     'scatter3d', 'scattercarpet', 'scattergeo',\n                     'scattergl', 'scattermapbox', 'scatterpolar',\n                     'scatterpolargl', 'scattersmith',\n                     'scatterternary', 'splom', 'streamtube',\n                     'sunburst', 'surface', 'table', 'treemap',\n                     'violin', 'volume', 'waterfall']\n\n        - All remaining properties are passed to the constructor of\n          the specified trace type\n\n        (e.g. [{'type': 'scatter', ...}, {'type': 'bar, ...}])"
     ]
    }
   ],
   "source": [
    "from unittest.mock import call, Mock, patch, ANY\n",
    "\n",
    "import pandas as pd\n",
    "\n",
    "from sdmetrics.reports.single_table._properties.column_pair_trends import ColumnPairTrends\n",
    "from plotly.subplots import make_subplots\n",
    "from plotly import graph_objects as go\n",
    "\n",
    "\n",
    "@patch('plotly.subplots.make_subplots')\n",
    "@patch('plotly.graph_objects.Heatmap')\n",
    "def test_get_visualization_2(mock_heatmap, mock_make_subplots):\n",
    "    \"\"\"Test the ``get_visualization`` method.\"\"\"\n",
    "    # Setup\n",
    "    cpt_property = ColumnPairTrends()\n",
    "    mock_correlation_matrix = Mock()\n",
    "    mock__get_heatmap = Mock()\n",
    "    mock_update_layout = Mock()\n",
    "\n",
    "    cpt_property._get_correlation_matrix = mock_correlation_matrix\n",
    "    cpt_property._get_heatmap = mock__get_heatmap\n",
    "    cpt_property._update_layout = mock_update_layout\n",
    "\n",
    "    mock_make_subplots.add_trace = Mock()\n",
    "\n",
    "    mock_correlation_matrix.side_effect = [\n",
    "        'similarity_correlation',\n",
    "        'real_correlation',\n",
    "        'synthetic_correlation',\n",
    "    ]\n",
    "\n",
    "    mock__get_heatmap.side_effect = [\n",
    "        'heatmap1',\n",
    "        'heatmap2',\n",
    "        'heatmap3',\n",
    "    ]\n",
    "\n",
    "    mock_make_subplots.return_value = Mock()\n",
    "\n",
    "    # Run\n",
    "    cpt_property.get_visualization()\n",
    "\n",
    "    # Assert\n",
    "    mock_correlation_matrix.assert_any_call('Score')\n",
    "    mock_correlation_matrix.assert_any_call('Real Correlation')\n",
    "    mock_correlation_matrix.assert_any_call('Synthetic Correlation')\n",
    "\n",
    "    mock__get_heatmap.assert_any_call('similarity_correlation', 'coloraxis', ANY, ANY)\n",
    "    mock__get_heatmap.assert_any_call('real_correlation', 'coloraxis2', ANY, 'synthetic_correlation')\n",
    "    mock__get_heatmap.assert_any_call('synthetic_correlation', 'coloraxis2', ANY, 'real_correlation')\n",
    "\n",
    "    mock_update_layout.assert_called_once()\n",
    "\n",
    "    mock_make_subplots.assert_called_once_with(\n",
    "        rows=2, cols=2, subplot_titles=['Real vs. Synthetic Similarity', 'Numerical Correlation (Real Data)', 'Numerical Correlation (Synthetic Data)'], specs=[[{'colspan': 2, 'l': 0.26, 'r': 0.26}, None], [{}, {}]]\n",
    "    )\n",
    "\n",
    "    mock_make_subplots.return_value.add_trace.assert_any_call('heatmap1', 1, 1)\n",
    "    mock_make_subplots.return_value.add_trace.assert_any_call('heatmap2', 2, 1)\n",
    "    mock_make_subplots.return_value.add_trace.assert_any_call('heatmap3', 2, 2)\n",
    "\n",
    "test_get_visualization_2()\n"
   ]
  },
  {
   "cell_type": "code",
   "execution_count": 14,
   "metadata": {},
   "outputs": [],
   "source": [
    "from sdmetrics.reports.utils import discretize_table_data\n",
    "\n",
    "real_data = pd.DataFrame({\n",
    "    'col1': [1, 2, 3],\n",
    "    'col2': [False, True, True],\n",
    "    'col3': ['a', 'b', 'c'],\n",
    "    'col4': pd.to_datetime(['2020-01-01', '2020-01-02', '2020-01-03'])\n",
    "})\n",
    "synthetic_data = pd.DataFrame({\n",
    "    'col1': [4, 5, 6],\n",
    "    'col2': [False, True, True],\n",
    "    'col3': ['a', 'b', 'c'],\n",
    "    'col4': pd.to_datetime(['2020-01-04', '2020-01-05', '2020-01-06'])\n",
    "})\n",
    "metadata = {\n",
    "    'columns': {\n",
    "        'col1': {'sdtype': 'numerical'},\n",
    "        'col2': {'sdtype': 'boolean'},\n",
    "        'col3': {'sdtype': 'categorical'},\n",
    "        'col4': {'sdtype': 'datetime'}\n",
    "    }\n",
    "}\n",
    "\n",
    "result = discretize_table_data(real_data,synthetic_data, metadata)"
   ]
  },
  {
   "cell_type": "code",
   "execution_count": 16,
   "metadata": {},
   "outputs": [
    {
     "data": {
      "text/html": [
       "<div>\n",
       "<style scoped>\n",
       "    .dataframe tbody tr th:only-of-type {\n",
       "        vertical-align: middle;\n",
       "    }\n",
       "\n",
       "    .dataframe tbody tr th {\n",
       "        vertical-align: top;\n",
       "    }\n",
       "\n",
       "    .dataframe thead th {\n",
       "        text-align: right;\n",
       "    }\n",
       "</style>\n",
       "<table border=\"1\" class=\"dataframe\">\n",
       "  <thead>\n",
       "    <tr style=\"text-align: right;\">\n",
       "      <th></th>\n",
       "      <th>col1</th>\n",
       "      <th>col2</th>\n",
       "      <th>col3</th>\n",
       "      <th>col4</th>\n",
       "    </tr>\n",
       "  </thead>\n",
       "  <tbody>\n",
       "    <tr>\n",
       "      <th>0</th>\n",
       "      <td>1</td>\n",
       "      <td>False</td>\n",
       "      <td>a</td>\n",
       "      <td>1</td>\n",
       "    </tr>\n",
       "    <tr>\n",
       "      <th>1</th>\n",
       "      <td>6</td>\n",
       "      <td>True</td>\n",
       "      <td>b</td>\n",
       "      <td>6</td>\n",
       "    </tr>\n",
       "    <tr>\n",
       "      <th>2</th>\n",
       "      <td>11</td>\n",
       "      <td>True</td>\n",
       "      <td>c</td>\n",
       "      <td>11</td>\n",
       "    </tr>\n",
       "  </tbody>\n",
       "</table>\n",
       "</div>"
      ],
      "text/plain": [
       "   col1   col2 col3  col4\n",
       "0     1  False    a     1\n",
       "1     6   True    b     6\n",
       "2    11   True    c    11"
      ]
     },
     "execution_count": 16,
     "metadata": {},
     "output_type": "execute_result"
    }
   ],
   "source": [
    "result[0]"
   ]
  },
  {
   "cell_type": "code",
   "execution_count": 17,
   "metadata": {},
   "outputs": [],
   "source": [
    "real_data = pd.DataFrame({\n",
    "    'col1': [1, 2, 3],\n",
    "    'col2': [False, True, True],\n",
    "    'col3': ['a', 'b', 'c'],\n",
    "    'col4': pd.to_datetime(['2020-01-01', '2020-01-02', '2020-01-03'])\n",
    "})"
   ]
  },
  {
   "cell_type": "code",
   "execution_count": 19,
   "metadata": {},
   "outputs": [
    {
     "data": {
      "text/plain": [
       "True"
      ]
     },
     "execution_count": 19,
     "metadata": {},
     "output_type": "execute_result"
    }
   ],
   "source": [
    "from sdmetrics.utils import is_datetime\n",
    "\n",
    "c = real_data['col4']\n",
    "is_datetime(c)"
   ]
  },
  {
   "cell_type": "code",
   "execution_count": 20,
   "metadata": {},
   "outputs": [
    {
     "data": {
      "text/plain": [
       "0   2020-01-01\n",
       "1   2020-01-02\n",
       "2   2020-01-03\n",
       "Name: col4, dtype: datetime64[ns]"
      ]
     },
     "execution_count": 20,
     "metadata": {},
     "output_type": "execute_result"
    }
   ],
   "source": [
    "c"
   ]
  }
 ],
 "metadata": {
  "kernelspec": {
   "display_name": "Issue_355_column_shape_property",
   "language": "python",
   "name": "python3"
  },
  "language_info": {
   "codemirror_mode": {
    "name": "ipython",
    "version": 3
   },
   "file_extension": ".py",
   "mimetype": "text/x-python",
   "name": "python",
   "nbconvert_exporter": "python",
   "pygments_lexer": "ipython3",
   "version": "3.9.16"
  },
  "orig_nbformat": 4
 },
 "nbformat": 4,
 "nbformat_minor": 2
}

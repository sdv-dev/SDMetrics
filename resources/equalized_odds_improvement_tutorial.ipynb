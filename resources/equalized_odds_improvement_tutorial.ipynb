{
 "cells": [
  {
   "cell_type": "markdown",
   "metadata": {
    "vscode": {
     "languageId": "raw"
    }
   },
   "source": [
    "# Tutorial: EqualizedOddsImprovement Metric\n",
    "\n",
    "This notebook demonstrates how to use the `EqualizedOddsImprovement` metric to evaluate fairness in synthetic data generation. We'll use the Adult dataset to show how synthetic data can potentially improve fairness in machine learning models.\n",
    "\n",
    "## What is Equalized Odds?\n",
    "\n",
    "Equalized odds is a fairness criterion that requires the True Positive Rate (TPR) and False Positive Rate (FPR) to be equal across different groups defined by a sensitive attribute (like gender, race, etc.). \n",
    "\n",
    "The `EqualizedOddsImprovement` metric compares how well a model trained on synthetic data maintains fairness compared to a model trained on real data, both evaluated on the same validation set.\n"
   ]
  },
  {
   "cell_type": "markdown",
   "metadata": {
    "vscode": {
     "languageId": "raw"
    }
   },
   "source": [
    "## Setup and Imports\n",
    "\n",
    "First, let's install and import all the necessary libraries:\n"
   ]
  },
  {
   "cell_type": "code",
   "execution_count": null,
   "metadata": {},
   "outputs": [],
   "source": [
    "!pip install sdv\n",
    "!pip install xgboost\n",
    "!pip install matplotlib"
   ]
  },
  {
   "cell_type": "code",
   "execution_count": 2,
   "metadata": {},
   "outputs": [
    {
     "name": "stdout",
     "output_type": "stream",
     "text": [
      "All libraries imported successfully!\n"
     ]
    }
   ],
   "source": [
    "import pandas as pd\n",
    "import numpy as np\n",
    "import matplotlib.pyplot as plt\n",
    "from sklearn.model_selection import train_test_split\n",
    "import warnings\n",
    "import json\n",
    "\n",
    "warnings.filterwarnings('ignore')\n",
    "\n",
    "from sdv.single_table import TVAESynthesizer\n",
    "from sdv.datasets.demo import download_demo\n",
    "from sdv.sampling import Condition\n",
    "\n",
    "from sdmetrics.single_table.equalized_odds import EqualizedOddsImprovement\n",
    "\n",
    "print(\"All libraries imported successfully!\")"
   ]
  },
  {
   "cell_type": "markdown",
   "metadata": {
    "vscode": {
     "languageId": "raw"
    }
   },
   "source": [
    "## Step 1: Load the Adult Dataset\n",
    "\n",
    "We'll use the Adult dataset from the SDV demo datasets. This dataset contains information about individuals and whether they earn more than $50K per year.\n"
   ]
  },
  {
   "cell_type": "code",
   "execution_count": 3,
   "metadata": {},
   "outputs": [
    {
     "name": "stdout",
     "output_type": "stream",
     "text": [
      "Dataset shape: (32561, 15)\n",
      "\n",
      "First few rows:\n"
     ]
    },
    {
     "data": {
      "text/html": [
       "<div>\n",
       "<style scoped>\n",
       "    .dataframe tbody tr th:only-of-type {\n",
       "        vertical-align: middle;\n",
       "    }\n",
       "\n",
       "    .dataframe tbody tr th {\n",
       "        vertical-align: top;\n",
       "    }\n",
       "\n",
       "    .dataframe thead th {\n",
       "        text-align: right;\n",
       "    }\n",
       "</style>\n",
       "<table border=\"1\" class=\"dataframe\">\n",
       "  <thead>\n",
       "    <tr style=\"text-align: right;\">\n",
       "      <th></th>\n",
       "      <th>age</th>\n",
       "      <th>workclass</th>\n",
       "      <th>fnlwgt</th>\n",
       "      <th>education</th>\n",
       "      <th>education-num</th>\n",
       "      <th>marital-status</th>\n",
       "      <th>occupation</th>\n",
       "      <th>relationship</th>\n",
       "      <th>race</th>\n",
       "      <th>sex</th>\n",
       "      <th>capital-gain</th>\n",
       "      <th>capital-loss</th>\n",
       "      <th>hours-per-week</th>\n",
       "      <th>native-country</th>\n",
       "      <th>label</th>\n",
       "    </tr>\n",
       "  </thead>\n",
       "  <tbody>\n",
       "    <tr>\n",
       "      <th>0</th>\n",
       "      <td>27</td>\n",
       "      <td>Private</td>\n",
       "      <td>177119</td>\n",
       "      <td>Some-college</td>\n",
       "      <td>10</td>\n",
       "      <td>Divorced</td>\n",
       "      <td>Adm-clerical</td>\n",
       "      <td>Unmarried</td>\n",
       "      <td>White</td>\n",
       "      <td>Female</td>\n",
       "      <td>0</td>\n",
       "      <td>0</td>\n",
       "      <td>44</td>\n",
       "      <td>United-States</td>\n",
       "      <td>&lt;=50K</td>\n",
       "    </tr>\n",
       "    <tr>\n",
       "      <th>1</th>\n",
       "      <td>27</td>\n",
       "      <td>Private</td>\n",
       "      <td>216481</td>\n",
       "      <td>Bachelors</td>\n",
       "      <td>13</td>\n",
       "      <td>Never-married</td>\n",
       "      <td>Prof-specialty</td>\n",
       "      <td>Not-in-family</td>\n",
       "      <td>White</td>\n",
       "      <td>Female</td>\n",
       "      <td>0</td>\n",
       "      <td>0</td>\n",
       "      <td>40</td>\n",
       "      <td>United-States</td>\n",
       "      <td>&lt;=50K</td>\n",
       "    </tr>\n",
       "    <tr>\n",
       "      <th>2</th>\n",
       "      <td>25</td>\n",
       "      <td>Private</td>\n",
       "      <td>256263</td>\n",
       "      <td>Assoc-acdm</td>\n",
       "      <td>12</td>\n",
       "      <td>Married-civ-spouse</td>\n",
       "      <td>Sales</td>\n",
       "      <td>Husband</td>\n",
       "      <td>White</td>\n",
       "      <td>Male</td>\n",
       "      <td>0</td>\n",
       "      <td>0</td>\n",
       "      <td>40</td>\n",
       "      <td>United-States</td>\n",
       "      <td>&lt;=50K</td>\n",
       "    </tr>\n",
       "    <tr>\n",
       "      <th>3</th>\n",
       "      <td>46</td>\n",
       "      <td>Private</td>\n",
       "      <td>147640</td>\n",
       "      <td>5th-6th</td>\n",
       "      <td>3</td>\n",
       "      <td>Married-civ-spouse</td>\n",
       "      <td>Transport-moving</td>\n",
       "      <td>Husband</td>\n",
       "      <td>Amer-Indian-Eskimo</td>\n",
       "      <td>Male</td>\n",
       "      <td>0</td>\n",
       "      <td>1902</td>\n",
       "      <td>40</td>\n",
       "      <td>United-States</td>\n",
       "      <td>&lt;=50K</td>\n",
       "    </tr>\n",
       "    <tr>\n",
       "      <th>4</th>\n",
       "      <td>45</td>\n",
       "      <td>Private</td>\n",
       "      <td>172822</td>\n",
       "      <td>11th</td>\n",
       "      <td>7</td>\n",
       "      <td>Divorced</td>\n",
       "      <td>Transport-moving</td>\n",
       "      <td>Not-in-family</td>\n",
       "      <td>White</td>\n",
       "      <td>Male</td>\n",
       "      <td>0</td>\n",
       "      <td>2824</td>\n",
       "      <td>76</td>\n",
       "      <td>United-States</td>\n",
       "      <td>&gt;50K</td>\n",
       "    </tr>\n",
       "  </tbody>\n",
       "</table>\n",
       "</div>"
      ],
      "text/plain": [
       "   age workclass  fnlwgt     education  education-num      marital-status  \\\n",
       "0   27   Private  177119  Some-college             10            Divorced   \n",
       "1   27   Private  216481     Bachelors             13       Never-married   \n",
       "2   25   Private  256263    Assoc-acdm             12  Married-civ-spouse   \n",
       "3   46   Private  147640       5th-6th              3  Married-civ-spouse   \n",
       "4   45   Private  172822          11th              7            Divorced   \n",
       "\n",
       "         occupation   relationship                race     sex  capital-gain  \\\n",
       "0      Adm-clerical      Unmarried               White  Female             0   \n",
       "1    Prof-specialty  Not-in-family               White  Female             0   \n",
       "2             Sales        Husband               White    Male             0   \n",
       "3  Transport-moving        Husband  Amer-Indian-Eskimo    Male             0   \n",
       "4  Transport-moving  Not-in-family               White    Male             0   \n",
       "\n",
       "   capital-loss  hours-per-week native-country  label  \n",
       "0             0              44  United-States  <=50K  \n",
       "1             0              40  United-States  <=50K  \n",
       "2             0              40  United-States  <=50K  \n",
       "3          1902              40  United-States  <=50K  \n",
       "4          2824              76  United-States   >50K  "
      ]
     },
     "execution_count": 3,
     "metadata": {},
     "output_type": "execute_result"
    }
   ],
   "source": [
    "# Load the adult dataset\n",
    "real_data, metadata = download_demo('single_table', 'adult')\n",
    "\n",
    "print(f\"Dataset shape: {real_data.shape}\")\n",
    "print(f\"\\nFirst few rows:\")\n",
    "real_data.head()"
   ]
  },
  {
   "cell_type": "markdown",
   "metadata": {
    "vscode": {
     "languageId": "raw"
    }
   },
   "source": [
    "## Step 2: Prepare Training and Validation Sets\n",
    "\n",
    "We'll split the data into training and validation sets 70/30. Then we'll add class imbalance for the training data, while the validation data will converted into a fair set where the number of rows where Female/Male are high/low earners is the same."
   ]
  },
  {
   "cell_type": "code",
   "execution_count": 4,
   "metadata": {},
   "outputs": [
    {
     "name": "stdout",
     "output_type": "stream",
     "text": [
      "\n",
      "Training set shape: (22792, 15)\n",
      "\n",
      "Training set combinations:\n",
      "sex    Female   Male\n",
      "label               \n",
      "<=50K    6733   2108\n",
      ">50K      845  13106\n"
     ]
    }
   ],
   "source": [
    "training_data, validation_data = train_test_split(\n",
    "    real_data,\n",
    "    test_size=0.3,\n",
    ")\n",
    "\n",
    "# Randomly select 80% of male low earners and flip their label to '>50K'\n",
    "male_low_earners = training_data[(training_data['sex'] == 'Male') & (training_data['label'] == '<=50K')]\n",
    "n_replace = int(0.8 * len(male_low_earners))\n",
    "replace_indices = male_low_earners.sample(n=n_replace).index\n",
    "training_data.loc[replace_indices, 'label'] = '>50K'\n",
    "\n",
    "print(f\"\\nTraining set shape: {training_data.shape}\")\n",
    "\n",
    "print(\"\\nTraining set combinations:\")\n",
    "print(pd.crosstab(training_data['label'], training_data['sex']))"
   ]
  },
  {
   "cell_type": "code",
   "execution_count": 5,
   "metadata": {},
   "outputs": [
    {
     "name": "stdout",
     "output_type": "stream",
     "text": [
      "Validation set shape: (1336, 15)\n",
      "Validation set group counts:\n",
      " label  sex   \n",
      "<=50K  Female    334\n",
      "       Male      334\n",
      ">50K   Female    334\n",
      "       Male      334\n",
      "dtype: int64\n"
     ]
    }
   ],
   "source": [
    "group_counts = validation_data.groupby(['label', 'sex']).size()\n",
    "min_count = group_counts.min()\n",
    "\n",
    "balanced_validation_data = (\n",
    "    validation_data\n",
    "    .groupby(['label', 'sex'], group_keys=False)\n",
    "    .apply(lambda x: x.sample(n=min_count))\n",
    "    .reset_index(drop=True)\n",
    ")\n",
    "\n",
    "print(\"Validation set shape:\", balanced_validation_data.shape)\n",
    "print(\"Validation set group counts:\\n\", balanced_validation_data.groupby(['label', 'sex']).size())"
   ]
  },
  {
   "cell_type": "code",
   "execution_count": 6,
   "metadata": {},
   "outputs": [
    {
     "data": {
      "image/png": "[encoded data removed]",
      "text/plain": [
       "<Figure size 1200x500 with 2 Axes>"
      ]
     },
     "metadata": {},
     "output_type": "display_data"
    }
   ],
   "source": [
    "fig, axes = plt.subplots(1, 2, figsize=(12, 5))\n",
    "\n",
    "crosstab_pct = pd.crosstab(training_data['sex'], training_data['label'], normalize='index') * 100\n",
    "crosstab_pct.plot(kind='bar', ax=axes[0], rot=0)\n",
    "axes[0].set_title('Income Distribution by Sex (%)')\n",
    "axes[0].set_xlabel('Sex')\n",
    "axes[0].set_ylabel('Percentage')\n",
    "axes[0].legend(title='Income')\n",
    "\n",
    "training_data['label'].value_counts().plot(kind='bar', ax=axes[1], rot=0)\n",
    "axes[1].set_title('Overall Income Distribution')\n",
    "axes[1].set_xlabel('Income')\n",
    "axes[1].set_ylabel('Count')\n",
    "\n",
    "plt.tight_layout()\n",
    "plt.show()"
   ]
  },
  {
   "cell_type": "markdown",
   "metadata": {
    "vscode": {
     "languageId": "raw"
    }
   },
   "source": [
    "## Step 3: Generate Synthetic Data\n",
    "\n",
    "We'll use the TVAE (Tabular Variational AutoEncoder) synthesizer to generate synthetic data.\n"
   ]
  },
  {
   "cell_type": "code",
   "execution_count": 7,
   "metadata": {},
   "outputs": [
    {
     "name": "stdout",
     "output_type": "stream",
     "text": [
      "Synthesizer training completed!\n"
     ]
    }
   ],
   "source": [
    "synthesizer = TVAESynthesizer(metadata=metadata)\n",
    "synthesizer.fit(training_data)\n",
    "\n",
    "print(\"Synthesizer training completed!\")"
   ]
  },
  {
   "cell_type": "code",
   "execution_count": 8,
   "metadata": {},
   "outputs": [
    {
     "name": "stdout",
     "output_type": "stream",
     "text": [
      "Synthetic data shape: (22792, 15)\n",
      "\n",
      "Target and sensitive attribute distribution:\n",
      "sex    Female   Male\n",
      "label               \n",
      "<=50K    6358   2180\n",
      ">50K      694  13560\n"
     ]
    }
   ],
   "source": [
    "synthetic_data = synthesizer.sample(len(training_data))\n",
    "\n",
    "print(f\"Synthetic data shape: {synthetic_data.shape}\")\n",
    "print(\"\\nTarget and sensitive attribute distribution:\")\n",
    "print(pd.crosstab(synthetic_data['label'], synthetic_data['sex']))"
   ]
  },
  {
   "cell_type": "markdown",
   "metadata": {
    "vscode": {
     "languageId": "raw"
    }
   },
   "source": [
    "## Step 4: Evaluate Synthetic Data\n",
    "\n",
    "Let's evaluate the synthetic data generated with the EqualizedOddsImprovement metric."
   ]
  },
  {
   "cell_type": "code",
   "execution_count": 9,
   "metadata": {},
   "outputs": [
    {
     "name": "stdout",
     "output_type": "stream",
     "text": [
      "Score: 0.5792\n",
      "\n",
      "Score Interpretation:\n",
      "- Score > 0.5 means synthetic data improves fairness\n",
      "- Score < 0.5 means synthetic data worsens fairness\n",
      "- Score = 0.5 means no change in fairness\n"
     ]
    }
   ],
   "source": [
    "result_standard = EqualizedOddsImprovement.compute_breakdown(\n",
    "    real_training_data=training_data,\n",
    "    synthetic_data=synthetic_data,\n",
    "    real_validation_data=validation_data,\n",
    "    metadata=metadata.to_dict()['tables']['adult'],\n",
    "    prediction_column_name='label',\n",
    "    positive_class_label='>50K',\n",
    "    sensitive_column_name='sex',\n",
    "    sensitive_column_value='Female'\n",
    ")\n",
    "\n",
    "print(f\"Score: {result_standard['score']:.4f}\")\n",
    "print(f\"\\nScore Interpretation:\")\n",
    "print(f\"- Score > 0.5 means synthetic data improves fairness\")\n",
    "print(f\"- Score < 0.5 means synthetic data worsens fairness\")\n",
    "print(f\"- Score = 0.5 means no change in fairness\")"
   ]
  },
  {
   "cell_type": "code",
   "execution_count": 10,
   "metadata": {},
   "outputs": [
    {
     "name": "stdout",
     "output_type": "stream",
     "text": [
      "Full breakdown of the Equalized Odds Improvement metric:\n",
      "{\n",
      "  \"score\": 0.5792162241448029,\n",
      "  \"real_training_data\": {\n",
      "    \"equalized_odds\": 0.03166120966445918,\n",
      "    \"prediction_counts_validation\": {\n",
      "      \"Female=True\": {\n",
      "        \"true_positive\": 182,\n",
      "        \"false_positive\": 55,\n",
      "        \"true_negative\": 2804,\n",
      "        \"false_negative\": 152\n",
      "      },\n",
      "      \"Female=False\": {\n",
      "        \"true_positive\": 1983,\n",
      "        \"false_positive\": 4531,\n",
      "        \"true_negative\": 57,\n",
      "        \"false_negative\": 5\n",
      "      }\n",
      "    }\n",
      "  },\n",
      "  \"synthetic_data\": {\n",
      "    \"equalized_odds\": 0.19009365795406485,\n",
      "    \"prediction_counts_validation\": {\n",
      "      \"Female=True\": {\n",
      "        \"true_positive\": 249,\n",
      "        \"false_positive\": 536,\n",
      "        \"true_negative\": 2323,\n",
      "        \"false_negative\": 85\n",
      "      },\n",
      "      \"Female=False\": {\n",
      "        \"true_positive\": 1988,\n",
      "        \"false_positive\": 4576,\n",
      "        \"true_negative\": 12,\n",
      "        \"false_negative\": 0\n",
      "      }\n",
      "    }\n",
      "  }\n",
      "}\n"
     ]
    }
   ],
   "source": [
    "print('Full breakdown of the Equalized Odds Improvement metric:')\n",
    "print(json.dumps(result_standard, indent=2))"
   ]
  },
  {
   "cell_type": "markdown",
   "metadata": {
    "vscode": {
     "languageId": "raw"
    }
   },
   "source": [
    "## Step 5: Generate Conditionally Sampled Synthetic Data\n",
    "\n",
    "Now let's try to improve fairness by using conditional sampling to create a more balanced dataset where each combination of target and sensitive attributes has equal representation (25% each)."
   ]
  },
  {
   "cell_type": "code",
   "execution_count": 11,
   "metadata": {},
   "outputs": [
    {
     "name": "stdout",
     "output_type": "stream",
     "text": [
      "Generating conditionally sampled synthetic data...\n",
      "Each condition will have 25% of the data (equal representation)\n"
     ]
    },
    {
     "name": "stderr",
     "output_type": "stream",
     "text": [
      "Sampling conditions: 100%|██████████| 22792/22792 [00:02<00:00, 7736.71it/s] "
     ]
    },
    {
     "name": "stdout",
     "output_type": "stream",
     "text": [
      "Generated 22792 samples\n",
      "\n",
      "Target and sensitive attribute distribution:\n",
      "sex    Female  Male\n",
      "label              \n",
      "<=50K    5698  5698\n",
      ">50K     5698  5698\n"
     ]
    },
    {
     "name": "stderr",
     "output_type": "stream",
     "text": [
      "\n"
     ]
    }
   ],
   "source": [
    "print(\"Generating conditionally sampled synthetic data...\")\n",
    "print(\"Each condition will have 25% of the data (equal representation)\")\n",
    "\n",
    "total_samples = len(training_data)\n",
    "samples_per_condition = total_samples // 4\n",
    "conditions = [\n",
    "    Condition({'label': '>50K', 'sex': 'Female'}, num_rows=samples_per_condition),\n",
    "    Condition({'label': '<=50K', 'sex': 'Female'}, num_rows=samples_per_condition),\n",
    "    Condition({'label': '>50K', 'sex': 'Male'}, num_rows=samples_per_condition),\n",
    "    Condition({'label': '<=50K', 'sex': 'Male'}, num_rows=samples_per_condition)\n",
    "]\n",
    "balanced_synthetic_data = synthesizer.sample_from_conditions(conditions=conditions)\n",
    "print(f\"Generated {len(balanced_synthetic_data)} samples\")\n",
    "\n",
    "print(\"\\nTarget and sensitive attribute distribution:\")\n",
    "balanced_crosstab = pd.crosstab(balanced_synthetic_data['label'], balanced_synthetic_data['sex'])\n",
    "print(balanced_crosstab)"
   ]
  },
  {
   "cell_type": "markdown",
   "metadata": {
    "vscode": {
     "languageId": "raw"
    }
   },
   "source": [
    "## Step 6: Evaluate Balanced Synthetic Data\n",
    "\n",
    "Now let's evaluate the balanced synthetic data to compare it with the standard synthetic data."
   ]
  },
  {
   "cell_type": "code",
   "execution_count": 12,
   "metadata": {},
   "outputs": [
    {
     "name": "stdout",
     "output_type": "stream",
     "text": [
      "Score: 0.7618\n"
     ]
    }
   ],
   "source": [
    "result_balanced = EqualizedOddsImprovement.compute_breakdown(\n",
    "    real_training_data=training_data,\n",
    "    synthetic_data=balanced_synthetic_data,\n",
    "    real_validation_data=validation_data,\n",
    "    metadata=metadata.to_dict()['tables']['adult'],\n",
    "    prediction_column_name='label',\n",
    "    positive_class_label='>50K',\n",
    "    sensitive_column_name='sex',\n",
    "    sensitive_column_value='Female'\n",
    ")\n",
    "\n",
    "print(f\"Score: {result_balanced['score']:.4f}\")"
   ]
  },
  {
   "cell_type": "code",
   "execution_count": 13,
   "metadata": {},
   "outputs": [
    {
     "name": "stdout",
     "output_type": "stream",
     "text": [
      "The full breakdown of the Equalized Odds Improvement metric is:\n",
      "{\n",
      "  \"score\": 0.7617851959870374,\n",
      "  \"real_training_data\": {\n",
      "    \"equalized_odds\": 0.03166120966445918,\n",
      "    \"prediction_counts_validation\": {\n",
      "      \"Female=True\": {\n",
      "        \"true_positive\": 182,\n",
      "        \"false_positive\": 55,\n",
      "        \"true_negative\": 2804,\n",
      "        \"false_negative\": 152\n",
      "      },\n",
      "      \"Female=False\": {\n",
      "        \"true_positive\": 1983,\n",
      "        \"false_positive\": 4531,\n",
      "        \"true_negative\": 57,\n",
      "        \"false_negative\": 5\n",
      "      }\n",
      "    }\n",
      "  },\n",
      "  \"synthetic_data\": {\n",
      "    \"equalized_odds\": 0.5552316016385339,\n",
      "    \"prediction_counts_validation\": {\n",
      "      \"Female=True\": {\n",
      "        \"true_positive\": 308,\n",
      "        \"false_positive\": 1388,\n",
      "        \"true_negative\": 1471,\n",
      "        \"false_negative\": 26\n",
      "      },\n",
      "      \"Female=False\": {\n",
      "        \"true_positive\": 1980,\n",
      "        \"false_positive\": 4268,\n",
      "        \"true_negative\": 320,\n",
      "        \"false_negative\": 8\n",
      "      }\n",
      "    }\n",
      "  }\n",
      "}\n"
     ]
    }
   ],
   "source": [
    "print('The full breakdown of the Equalized Odds Improvement metric is:')\n",
    "print(json.dumps(result_balanced, indent=2))"
   ]
  },
  {
   "cell_type": "markdown",
   "metadata": {
    "vscode": {
     "languageId": "raw"
    }
   },
   "source": [
    "## Step 7: Compare Results and Analysis\n",
    "\n",
    "Let's compare the results from both approaches to analyze the impact of balanced sampling on fairness."
   ]
  },
  {
   "cell_type": "code",
   "execution_count": 14,
   "metadata": {},
   "outputs": [
    {
     "data": {
      "image/png": "[encoded data removed]",
      "text/plain": [
       "<Figure size 1500x600 with 2 Axes>"
      ]
     },
     "metadata": {},
     "output_type": "display_data"
    }
   ],
   "source": [
    "fig, axes = plt.subplots(1, 2, figsize=(15, 6))\n",
    "\n",
    "# Improvement scores comparison\n",
    "scores = [result_standard['score'], result_balanced['score']]\n",
    "labels = ['Standard\\nSynthetic', 'Balanced\\nSynthetic']\n",
    "colors = ['lightcoral', 'lightgreen']\n",
    "\n",
    "bars1 = axes[0].bar(labels, scores, color=colors, alpha=0.7, edgecolor='black')\n",
    "axes[0].axhline(y=0.5, color='red', linestyle='--', alpha=0.7, label='No Improvement Baseline')\n",
    "axes[0].set_ylim(0, 1)\n",
    "axes[0].set_ylabel('Improvement Score')\n",
    "axes[0].set_title('Overall Score Comparison')\n",
    "axes[0].legend()\n",
    "\n",
    "# Add score labels on bars\n",
    "for bar, score in zip(bars1, scores):\n",
    "    axes[0].text(bar.get_x() + bar.get_width()/2, bar.get_height() + 0.01, \n",
    "                f'{score:.4f}', ha='center', va='bottom', fontweight='bold')\n",
    "\n",
    "# Equalized odds scores comparison\n",
    "eq_scores = [result_standard['synthetic_data']['equalized_odds'], result_balanced['synthetic_data']['equalized_odds']]\n",
    "bars2 = axes[1].bar(labels, eq_scores, color=colors, alpha=0.7, edgecolor='black')\n",
    "axes[1].set_ylim(0, 1)\n",
    "axes[1].set_ylabel('Equalized Odds Score')\n",
    "axes[1].set_title('Equalized Odds Score Comparison')\n",
    "\n",
    "# Add score labels on bars\n",
    "for bar, score in zip(bars2, eq_scores):\n",
    "    axes[1].text(bar.get_x() + bar.get_width()/2, bar.get_height() + 0.01, \n",
    "                f'{score:.4f}', ha='center', va='bottom', fontweight='bold')\n",
    "\n",
    "plt.tight_layout()\n",
    "plt.show()\n"
   ]
  }
 ],
 "metadata": {
  "kernelspec": {
   "display_name": "a",
   "language": "python",
   "name": "python3"
  },
  "language_info": {
   "codemirror_mode": {
    "name": "ipython",
    "version": 3
   },
   "file_extension": ".py",
   "mimetype": "text/x-python",
   "name": "python",
   "nbconvert_exporter": "python",
   "pygments_lexer": "ipython3",
   "version": "3.12.11"
  }
 },
 "nbformat": 4,
 "nbformat_minor": 4
}

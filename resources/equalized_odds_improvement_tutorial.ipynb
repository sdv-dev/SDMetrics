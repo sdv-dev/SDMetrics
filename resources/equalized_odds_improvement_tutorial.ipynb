{
 "cells": [
  {
   "cell_type": "markdown",
   "metadata": {
    "vscode": {
     "languageId": "raw"
    }
   },
   "source": [
    "# Tutorial: EqualizedOddsImprovement Metric\n",
    "\n",
    "This notebook demonstrates how to use the `EqualizedOddsImprovement` metric to evaluate fairness in synthetic data generation. We'll use the Adult dataset to show how synthetic data can potentially improve fairness in machine learning models.\n",
    "\n",
    "## What is Equalized Odds?\n",
    "\n",
    "Equalized odds is a fairness criterion that requires the True Positive Rate (TPR) and False Positive Rate (FPR) to be equal across different groups defined by a sensitive attribute (like gender, race, etc.). \n",
    "\n",
    "The `EqualizedOddsImprovement` metric compares how well a model trained on synthetic data maintains fairness compared to a model trained on real data, both evaluated on the same validation set.\n"
   ]
  },
  {
   "cell_type": "markdown",
   "metadata": {
    "vscode": {
     "languageId": "raw"
    }
   },
   "source": [
    "## Setup and Imports\n",
    "\n",
    "First, let's install and import all the necessary libraries:\n"
   ]
  },
  {
   "cell_type": "code",
   "execution_count": null,
   "metadata": {},
   "outputs": [],
   "source": [
    "!pip install sdv\n",
    "!pip install xgboost\n",
    "!pip install matplotlib"
   ]
  },
  {
   "cell_type": "code",
   "execution_count": 15,
   "metadata": {},
   "outputs": [
    {
     "name": "stdout",
     "output_type": "stream",
     "text": [
      "All libraries imported successfully!\n"
     ]
    }
   ],
   "source": [
    "import pandas as pd\n",
    "import numpy as np\n",
    "import matplotlib.pyplot as plt\n",
    "from sklearn.model_selection import train_test_split\n",
    "import warnings\n",
    "import json\n",
    "\n",
    "from sdv.single_table import TVAESynthesizer\n",
    "from sdv.datasets.demo import download_demo\n",
    "from sdv.sampling import Condition\n",
    "\n",
    "from sdmetrics.single_table.equalized_odds import EqualizedOddsImprovement\n",
    "\n",
    "print(\"All libraries imported successfully!\")"
   ]
  },
  {
   "cell_type": "markdown",
   "metadata": {
    "vscode": {
     "languageId": "raw"
    }
   },
   "source": [
    "## Step 1: Load and Explore the Adult Dataset\n",
    "\n",
    "We'll use the Adult dataset from the SDV demo datasets. This dataset contains information about individuals and whether they earn more than $50K per year.\n"
   ]
  },
  {
   "cell_type": "code",
   "execution_count": 16,
   "metadata": {},
   "outputs": [
    {
     "name": "stdout",
     "output_type": "stream",
     "text": [
      "Dataset shape: (32561, 15)\n",
      "\n",
      "First few rows:\n"
     ]
    },
    {
     "data": {
      "text/html": [
       "<div>\n",
       "<style scoped>\n",
       "    .dataframe tbody tr th:only-of-type {\n",
       "        vertical-align: middle;\n",
       "    }\n",
       "\n",
       "    .dataframe tbody tr th {\n",
       "        vertical-align: top;\n",
       "    }\n",
       "\n",
       "    .dataframe thead th {\n",
       "        text-align: right;\n",
       "    }\n",
       "</style>\n",
       "<table border=\"1\" class=\"dataframe\">\n",
       "  <thead>\n",
       "    <tr style=\"text-align: right;\">\n",
       "      <th></th>\n",
       "      <th>age</th>\n",
       "      <th>workclass</th>\n",
       "      <th>fnlwgt</th>\n",
       "      <th>education</th>\n",
       "      <th>education-num</th>\n",
       "      <th>marital-status</th>\n",
       "      <th>occupation</th>\n",
       "      <th>relationship</th>\n",
       "      <th>race</th>\n",
       "      <th>sex</th>\n",
       "      <th>capital-gain</th>\n",
       "      <th>capital-loss</th>\n",
       "      <th>hours-per-week</th>\n",
       "      <th>native-country</th>\n",
       "      <th>label</th>\n",
       "    </tr>\n",
       "  </thead>\n",
       "  <tbody>\n",
       "    <tr>\n",
       "      <th>0</th>\n",
       "      <td>27</td>\n",
       "      <td>Private</td>\n",
       "      <td>177119</td>\n",
       "      <td>Some-college</td>\n",
       "      <td>10</td>\n",
       "      <td>Divorced</td>\n",
       "      <td>Adm-clerical</td>\n",
       "      <td>Unmarried</td>\n",
       "      <td>White</td>\n",
       "      <td>Female</td>\n",
       "      <td>0</td>\n",
       "      <td>0</td>\n",
       "      <td>44</td>\n",
       "      <td>United-States</td>\n",
       "      <td>&lt;=50K</td>\n",
       "    </tr>\n",
       "    <tr>\n",
       "      <th>1</th>\n",
       "      <td>27</td>\n",
       "      <td>Private</td>\n",
       "      <td>216481</td>\n",
       "      <td>Bachelors</td>\n",
       "      <td>13</td>\n",
       "      <td>Never-married</td>\n",
       "      <td>Prof-specialty</td>\n",
       "      <td>Not-in-family</td>\n",
       "      <td>White</td>\n",
       "      <td>Female</td>\n",
       "      <td>0</td>\n",
       "      <td>0</td>\n",
       "      <td>40</td>\n",
       "      <td>United-States</td>\n",
       "      <td>&lt;=50K</td>\n",
       "    </tr>\n",
       "    <tr>\n",
       "      <th>2</th>\n",
       "      <td>25</td>\n",
       "      <td>Private</td>\n",
       "      <td>256263</td>\n",
       "      <td>Assoc-acdm</td>\n",
       "      <td>12</td>\n",
       "      <td>Married-civ-spouse</td>\n",
       "      <td>Sales</td>\n",
       "      <td>Husband</td>\n",
       "      <td>White</td>\n",
       "      <td>Male</td>\n",
       "      <td>0</td>\n",
       "      <td>0</td>\n",
       "      <td>40</td>\n",
       "      <td>United-States</td>\n",
       "      <td>&lt;=50K</td>\n",
       "    </tr>\n",
       "    <tr>\n",
       "      <th>3</th>\n",
       "      <td>46</td>\n",
       "      <td>Private</td>\n",
       "      <td>147640</td>\n",
       "      <td>5th-6th</td>\n",
       "      <td>3</td>\n",
       "      <td>Married-civ-spouse</td>\n",
       "      <td>Transport-moving</td>\n",
       "      <td>Husband</td>\n",
       "      <td>Amer-Indian-Eskimo</td>\n",
       "      <td>Male</td>\n",
       "      <td>0</td>\n",
       "      <td>1902</td>\n",
       "      <td>40</td>\n",
       "      <td>United-States</td>\n",
       "      <td>&lt;=50K</td>\n",
       "    </tr>\n",
       "    <tr>\n",
       "      <th>4</th>\n",
       "      <td>45</td>\n",
       "      <td>Private</td>\n",
       "      <td>172822</td>\n",
       "      <td>11th</td>\n",
       "      <td>7</td>\n",
       "      <td>Divorced</td>\n",
       "      <td>Transport-moving</td>\n",
       "      <td>Not-in-family</td>\n",
       "      <td>White</td>\n",
       "      <td>Male</td>\n",
       "      <td>0</td>\n",
       "      <td>2824</td>\n",
       "      <td>76</td>\n",
       "      <td>United-States</td>\n",
       "      <td>&gt;50K</td>\n",
       "    </tr>\n",
       "  </tbody>\n",
       "</table>\n",
       "</div>"
      ],
      "text/plain": [
       "   age workclass  fnlwgt     education  education-num      marital-status  \\\n",
       "0   27   Private  177119  Some-college             10            Divorced   \n",
       "1   27   Private  216481     Bachelors             13       Never-married   \n",
       "2   25   Private  256263    Assoc-acdm             12  Married-civ-spouse   \n",
       "3   46   Private  147640       5th-6th              3  Married-civ-spouse   \n",
       "4   45   Private  172822          11th              7            Divorced   \n",
       "\n",
       "         occupation   relationship                race     sex  capital-gain  \\\n",
       "0      Adm-clerical      Unmarried               White  Female             0   \n",
       "1    Prof-specialty  Not-in-family               White  Female             0   \n",
       "2             Sales        Husband               White    Male             0   \n",
       "3  Transport-moving        Husband  Amer-Indian-Eskimo    Male             0   \n",
       "4  Transport-moving  Not-in-family               White    Male             0   \n",
       "\n",
       "   capital-loss  hours-per-week native-country  label  \n",
       "0             0              44  United-States  <=50K  \n",
       "1             0              40  United-States  <=50K  \n",
       "2             0              40  United-States  <=50K  \n",
       "3          1902              40  United-States  <=50K  \n",
       "4          2824              76  United-States   >50K  "
      ]
     },
     "execution_count": 16,
     "metadata": {},
     "output_type": "execute_result"
    }
   ],
   "source": [
    "# Load the adult dataset\n",
    "real_data, metadata = download_demo('single_table', 'adult')\n",
    "\n",
    "print(f\"Dataset shape: {real_data.shape}\")\n",
    "print(f\"\\nFirst few rows:\")\n",
    "real_data.head()"
   ]
  },
  {
   "cell_type": "code",
   "execution_count": 17,
   "metadata": {},
   "outputs": [
    {
     "name": "stdout",
     "output_type": "stream",
     "text": [
      "Total Males with <=50K salary: 15128\n",
      "Males being flipped to >50K (25% probability): 3850\n",
      "\n",
      "Modified income distribution by sex:\n",
      "label       <=50K       >50K\n",
      "sex                         \n",
      "Female  89.053941  10.946059\n",
      "Male    51.757687  48.242313\n"
     ]
    }
   ],
   "source": [
    "# Create a copy of the original data for our modifications\n",
    "modified_data = real_data.copy()\n",
    "\n",
    "# For sex=Male: If salary is <50K, flip it to >=50K with 25% probability\n",
    "# If salary is >=50K, keep as-is\n",
    "# Keep sex=Female as-is\n",
    "\n",
    "np.random.seed(42)  # For reproducibility\n",
    "\n",
    "# Find Male rows with <50K salary\n",
    "mask_male_low_salary = (modified_data['sex'] == 'Male') & (modified_data['label'] == '<=50K')\n",
    "male_low_salary_indices = modified_data[mask_male_low_salary].index\n",
    "\n",
    "# Generate random probabilities for each Male with <50K salary\n",
    "random_probs = np.random.random(len(male_low_salary_indices))\n",
    "\n",
    "# Flip to >=50K with 25% probability\n",
    "flip_mask = random_probs < 0.25\n",
    "indices_to_flip = male_low_salary_indices[flip_mask]\n",
    "\n",
    "print(f\"Total Males with <=50K salary: {len(male_low_salary_indices)}\")\n",
    "print(f\"Males being flipped to >50K (25% probability): {len(indices_to_flip)}\")\n",
    "\n",
    "# Apply the flips\n",
    "modified_data.loc[indices_to_flip, 'label'] = '>50K'\n",
    "\n",
    "print(f\"\\nModified income distribution by sex:\")\n",
    "modified_crosstab = pd.crosstab(modified_data['sex'], modified_data['label'], normalize='index') * 100\n",
    "print(modified_crosstab)\n",
    "\n",
    "# Use the modified data for the rest of the analysis\n",
    "real_data = modified_data"
   ]
  },
  {
   "cell_type": "code",
   "execution_count": 18,
   "metadata": {},
   "outputs": [
    {
     "data": {
      "image/png": "[encoded data removed]",
      "text/plain": [
       "<Figure size 1200x500 with 2 Axes>"
      ]
     },
     "metadata": {},
     "output_type": "display_data"
    }
   ],
   "source": [
    "# Visualize the distributions\n",
    "fig, axes = plt.subplots(1, 2, figsize=(12, 5))\n",
    "\n",
    "# income distribution by sex\n",
    "crosstab_pct = pd.crosstab(real_data['sex'], real_data['label'], normalize='index') * 100\n",
    "crosstab_pct.plot(kind='bar', ax=axes[0], rot=0)\n",
    "axes[0].set_title('Income Distribution by Sex (%)')\n",
    "axes[0].set_xlabel('Sex')\n",
    "axes[0].set_ylabel('Percentage')\n",
    "axes[0].legend(title='Income')\n",
    "\n",
    "# Overall income distribution\n",
    "real_data['label'].value_counts().plot(kind='bar', ax=axes[1], rot=0)\n",
    "axes[1].set_title('Overall Income Distribution')\n",
    "axes[1].set_xlabel('Income')\n",
    "axes[1].set_ylabel('Count')\n",
    "\n",
    "plt.tight_layout()\n",
    "plt.show()"
   ]
  },
  {
   "cell_type": "markdown",
   "metadata": {
    "vscode": {
     "languageId": "raw"
    }
   },
   "source": [
    "## Step 2: Split Data into Training and Validation Sets"
   ]
  },
  {
   "cell_type": "code",
   "execution_count": 19,
   "metadata": {},
   "outputs": [
    {
     "name": "stdout",
     "output_type": "stream",
     "text": [
      "\n",
      "Training set shape: (22792, 15)\n",
      "Validation set shape: (9769, 15)\n",
      "\n",
      "Training set combinations:\n",
      "sex    Female  Male\n",
      "label              \n",
      "<=50K    6719  7903\n",
      ">50K      799  7371\n",
      "\n",
      "Validation set combinations:\n",
      "sex    Female  Male\n",
      "label              \n",
      "<=50K    2873  3375\n",
      ">50K      380  3141\n"
     ]
    }
   ],
   "source": [
    "training_data, validation_data = train_test_split(\n",
    "    real_data,\n",
    "    test_size=0.3,\n",
    "    random_state=42,\n",
    ")\n",
    "\n",
    "print(f\"\\nTraining set shape: {training_data.shape}\")\n",
    "print(f\"Validation set shape: {validation_data.shape}\")\n",
    "\n",
    "# Verify all combinations exist in both sets\n",
    "print(\"\\nTraining set combinations:\")\n",
    "print(pd.crosstab(training_data['label'], training_data['sex']))\n",
    "print(\"\\nValidation set combinations:\")\n",
    "print(pd.crosstab(validation_data['label'], validation_data['sex']))"
   ]
  },
  {
   "cell_type": "markdown",
   "metadata": {
    "vscode": {
     "languageId": "raw"
    }
   },
   "source": [
    "## Step 3: Generate Synthetic Data\n",
    "\n",
    "We'll use the TVAE (Tabular Variational AutoEncoder) synthesizer to generate synthetic data.\n"
   ]
  },
  {
   "cell_type": "code",
   "execution_count": 20,
   "metadata": {},
   "outputs": [
    {
     "name": "stdout",
     "output_type": "stream",
     "text": [
      "Training TVAE synthesizer...\n",
      "Synthesizer training completed!\n"
     ]
    }
   ],
   "source": [
    "print(\"Training TVAE synthesizer...\")\n",
    "\n",
    "synthesizer = TVAESynthesizer(metadata=metadata)\n",
    "synthesizer.fit(training_data)\n",
    "\n",
    "print(\"Synthesizer training completed!\")"
   ]
  },
  {
   "cell_type": "code",
   "execution_count": 21,
   "metadata": {},
   "outputs": [
    {
     "name": "stdout",
     "output_type": "stream",
     "text": [
      "Synthetic data shape: (22792, 15)\n",
      "\n",
      "Target and sensitive attribute distribution:\n",
      "sex    Female  Male\n",
      "label              \n",
      "<=50K    7168  7767\n",
      ">50K      638  7219\n"
     ]
    }
   ],
   "source": [
    "synthetic_data = synthesizer.sample(len(training_data))\n",
    "\n",
    "print(f\"Synthetic data shape: {synthetic_data.shape}\")\n",
    "print(\"\\nTarget and sensitive attribute distribution:\")\n",
    "print(pd.crosstab(synthetic_data['label'], synthetic_data['sex']))"
   ]
  },
  {
   "cell_type": "markdown",
   "metadata": {
    "vscode": {
     "languageId": "raw"
    }
   },
   "source": [
    "## Step 4: Evaluate Synthetic Data\n",
    "\n",
    "Let's evaluate the synthetic data generated with the EqualizedOddsImprovement metric."
   ]
  },
  {
   "cell_type": "code",
   "execution_count": 22,
   "metadata": {},
   "outputs": [
    {
     "name": "stdout",
     "output_type": "stream",
     "text": [
      "Score: 0.3013\n",
      "\n",
      "Score Interpretation:\n",
      "- Score > 0.5 means synthetic data improves fairness\n",
      "- Score < 0.5 means synthetic data worsens fairness\n",
      "- Score = 0.5 means no change in fairness\n"
     ]
    }
   ],
   "source": [
    "result_standard = EqualizedOddsImprovement.compute_breakdown(\n",
    "    real_training_data=training_data,\n",
    "    synthetic_data=synthetic_data,\n",
    "    real_validation_data=validation_data,\n",
    "    metadata=metadata.to_dict()['tables']['adult'],\n",
    "    prediction_column_name='label',\n",
    "    positive_class_label='>50K',\n",
    "    sensitive_column_name='sex',\n",
    "    sensitive_column_value='Female'\n",
    ")\n",
    "\n",
    "print(f\"Score: {result_standard['score']:.4f}\")\n",
    "print(f\"\\nScore Interpretation:\")\n",
    "print(f\"- Score > 0.5 means synthetic data improves fairness\")\n",
    "print(f\"- Score < 0.5 means synthetic data worsens fairness\")\n",
    "print(f\"- Score = 0.5 means no change in fairness\")"
   ]
  },
  {
   "cell_type": "code",
   "execution_count": 23,
   "metadata": {},
   "outputs": [
    {
     "name": "stdout",
     "output_type": "stream",
     "text": [
      "Full breakdown of the Equalized Odds Improvement metric:\n",
      "{\n",
      "  \"score\": 0.30130981939126733,\n",
      "  \"real_training_data\": {\n",
      "    \"equalized_odds\": 0.8050768457284294,\n",
      "    \"prediction_counts_validation\": {\n",
      "      \"Female=True\": {\n",
      "        \"true_positive\": 206,\n",
      "        \"false_positive\": 58,\n",
      "        \"true_negative\": 2815,\n",
      "        \"false_negative\": 174\n",
      "      },\n",
      "      \"Female=False\": {\n",
      "        \"true_positive\": 1710,\n",
      "        \"false_positive\": 726,\n",
      "        \"true_negative\": 2649,\n",
      "        \"false_negative\": 1431\n",
      "      }\n",
      "    }\n",
      "  },\n",
      "  \"synthetic_data\": {\n",
      "    \"equalized_odds\": 0.4076964845109641,\n",
      "    \"prediction_counts_validation\": {\n",
      "      \"Female=True\": {\n",
      "        \"true_positive\": 147,\n",
      "        \"false_positive\": 183,\n",
      "        \"true_negative\": 2690,\n",
      "        \"false_negative\": 233\n",
      "      },\n",
      "      \"Female=False\": {\n",
      "        \"true_positive\": 2453,\n",
      "        \"false_positive\": 2214,\n",
      "        \"true_negative\": 1161,\n",
      "        \"false_negative\": 688\n",
      "      }\n",
      "    }\n",
      "  }\n",
      "}\n"
     ]
    }
   ],
   "source": [
    "print('Full breakdown of the Equalized Odds Improvement metric:')\n",
    "print(json.dumps(result_standard, indent=2))"
   ]
  },
  {
   "cell_type": "markdown",
   "metadata": {
    "vscode": {
     "languageId": "raw"
    }
   },
   "source": [
    "## Step 5: Generate Conditionally Sampled Synthetic Data\n",
    "\n",
    "Now let's try to improve fairness by using conditional sampling to create a more balanced dataset where each combination of target and sensitive attributes has equal representation (25% each)."
   ]
  },
  {
   "cell_type": "code",
   "execution_count": 24,
   "metadata": {},
   "outputs": [
    {
     "name": "stdout",
     "output_type": "stream",
     "text": [
      "Generating conditionally sampled synthetic data...\n",
      "Each condition will have 25% of the data (equal representation)\n"
     ]
    },
    {
     "name": "stderr",
     "output_type": "stream",
     "text": [
      "Sampling conditions: 100%|██████████| 22792/22792 [00:02<00:00, 9112.02it/s] "
     ]
    },
    {
     "name": "stdout",
     "output_type": "stream",
     "text": [
      "Generated 22792 samples\n",
      "\n",
      "Target and sensitive attribute distribution:\n",
      "sex    Female  Male\n",
      "label              \n",
      "<=50K    5698  5698\n",
      ">50K     5698  5698\n"
     ]
    },
    {
     "name": "stderr",
     "output_type": "stream",
     "text": [
      "\n"
     ]
    }
   ],
   "source": [
    "print(\"Generating conditionally sampled synthetic data...\")\n",
    "print(\"Each condition will have 25% of the data (equal representation)\")\n",
    "\n",
    "total_samples = len(training_data)\n",
    "samples_per_condition = total_samples // 4\n",
    "conditions = [\n",
    "    Condition({'label': '>50K', 'sex': 'Female'}, num_rows=samples_per_condition),\n",
    "    Condition({'label': '<=50K', 'sex': 'Female'}, num_rows=samples_per_condition),\n",
    "    Condition({'label': '>50K', 'sex': 'Male'}, num_rows=samples_per_condition),\n",
    "    Condition({'label': '<=50K', 'sex': 'Male'}, num_rows=samples_per_condition)\n",
    "]\n",
    "balanced_synthetic_data = synthesizer.sample_from_conditions(conditions=conditions)\n",
    "print(f\"Generated {len(balanced_synthetic_data)} samples\")\n",
    "\n",
    "print(\"\\nTarget and sensitive attribute distribution:\")\n",
    "balanced_crosstab = pd.crosstab(balanced_synthetic_data['label'], balanced_synthetic_data['sex'])\n",
    "print(balanced_crosstab)"
   ]
  },
  {
   "cell_type": "markdown",
   "metadata": {
    "vscode": {
     "languageId": "raw"
    }
   },
   "source": [
    "## Step 6: Evaluate Balanced Synthetic Data\n",
    "\n",
    "Now let's evaluate the balanced synthetic data to compare it with the standard synthetic data."
   ]
  },
  {
   "cell_type": "code",
   "execution_count": 25,
   "metadata": {},
   "outputs": [
    {
     "name": "stdout",
     "output_type": "stream",
     "text": [
      "Score: 0.3518\n"
     ]
    }
   ],
   "source": [
    "result_balanced = EqualizedOddsImprovement.compute_breakdown(\n",
    "    real_training_data=training_data,\n",
    "    synthetic_data=balanced_synthetic_data,\n",
    "    real_validation_data=validation_data,\n",
    "    metadata=metadata.to_dict()['tables']['adult'],\n",
    "    prediction_column_name='label',\n",
    "    positive_class_label='>50K',\n",
    "    sensitive_column_name='sex',\n",
    "    sensitive_column_value='Female'\n",
    ")\n",
    "\n",
    "print(f\"Score: {result_balanced['score']:.4f}\")"
   ]
  },
  {
   "cell_type": "code",
   "execution_count": 26,
   "metadata": {},
   "outputs": [
    {
     "name": "stdout",
     "output_type": "stream",
     "text": [
      "The full breakdown of the Equalized Odds Improvement metric is:\n",
      "{\n",
      "  \"score\": 0.3517672841654742,\n",
      "  \"real_training_data\": {\n",
      "    \"equalized_odds\": 0.8050768457284294,\n",
      "    \"prediction_counts_validation\": {\n",
      "      \"Female=True\": {\n",
      "        \"true_positive\": 206,\n",
      "        \"false_positive\": 58,\n",
      "        \"true_negative\": 2815,\n",
      "        \"false_negative\": 174\n",
      "      },\n",
      "      \"Female=False\": {\n",
      "        \"true_positive\": 1710,\n",
      "        \"false_positive\": 726,\n",
      "        \"true_negative\": 2649,\n",
      "        \"false_negative\": 1431\n",
      "      }\n",
      "    }\n",
      "  },\n",
      "  \"synthetic_data\": {\n",
      "    \"equalized_odds\": 0.5086114140593778,\n",
      "    \"prediction_counts_validation\": {\n",
      "      \"Female=True\": {\n",
      "        \"true_positive\": 345,\n",
      "        \"false_positive\": 1062,\n",
      "        \"true_negative\": 1811,\n",
      "        \"false_negative\": 35\n",
      "      },\n",
      "      \"Female=False\": {\n",
      "        \"true_positive\": 2921,\n",
      "        \"false_positive\": 2906,\n",
      "        \"true_negative\": 469,\n",
      "        \"false_negative\": 220\n",
      "      }\n",
      "    }\n",
      "  }\n",
      "}\n"
     ]
    }
   ],
   "source": [
    "print('The full breakdown of the Equalized Odds Improvement metric is:')\n",
    "print(json.dumps(result_balanced, indent=2))"
   ]
  },
  {
   "cell_type": "markdown",
   "metadata": {
    "vscode": {
     "languageId": "raw"
    }
   },
   "source": [
    "## Step 7: Compare Results and Analysis\n",
    "\n",
    "Let's compare the results from both approaches to analyze the impact of balanced sampling on fairness."
   ]
  },
  {
   "cell_type": "code",
   "execution_count": 27,
   "metadata": {},
   "outputs": [
    {
     "data": {
      "image/png": "[encoded data removed]",
      "text/plain": [
       "<Figure size 1500x600 with 2 Axes>"
      ]
     },
     "metadata": {},
     "output_type": "display_data"
    }
   ],
   "source": [
    "fig, axes = plt.subplots(1, 2, figsize=(15, 6))\n",
    "\n",
    "# Improvement scores comparison\n",
    "scores = [result_standard['score'], result_balanced['score']]\n",
    "labels = ['Standard\\nSynthetic', 'Balanced\\nSynthetic']\n",
    "colors = ['lightcoral', 'lightgreen']\n",
    "\n",
    "bars1 = axes[0].bar(labels, scores, color=colors, alpha=0.7, edgecolor='black')\n",
    "axes[0].axhline(y=0.5, color='red', linestyle='--', alpha=0.7, label='No Improvement Baseline')\n",
    "axes[0].set_ylim(0, 1)\n",
    "axes[0].set_ylabel('Improvement Score')\n",
    "axes[0].set_title('Overall Score Comparison')\n",
    "axes[0].legend()\n",
    "\n",
    "# Add score labels on bars\n",
    "for bar, score in zip(bars1, scores):\n",
    "    axes[0].text(bar.get_x() + bar.get_width()/2, bar.get_height() + 0.01, \n",
    "                f'{score:.4f}', ha='center', va='bottom', fontweight='bold')\n",
    "\n",
    "# Equalized odds scores comparison\n",
    "eq_scores = [result_standard['synthetic_data']['equalized_odds'], result_balanced['synthetic_data']['equalized_odds']]\n",
    "bars2 = axes[1].bar(labels, eq_scores, color=colors, alpha=0.7, edgecolor='black')\n",
    "axes[1].set_ylim(0, 1)\n",
    "axes[1].set_ylabel('Equalized Odds Score')\n",
    "axes[1].set_title('Equalized Odds Score Comparison')\n",
    "\n",
    "# Add score labels on bars\n",
    "for bar, score in zip(bars2, eq_scores):\n",
    "    axes[1].text(bar.get_x() + bar.get_width()/2, bar.get_height() + 0.01, \n",
    "                f'{score:.4f}', ha='center', va='bottom', fontweight='bold')\n",
    "\n",
    "plt.tight_layout()\n",
    "plt.show()\n"
   ]
  }
 ],
 "metadata": {
  "kernelspec": {
   "display_name": "a",
   "language": "python",
   "name": "python3"
  },
  "language_info": {
   "codemirror_mode": {
    "name": "ipython",
    "version": 3
   },
   "file_extension": ".py",
   "mimetype": "text/x-python",
   "name": "python",
   "nbconvert_exporter": "python",
   "pygments_lexer": "ipython3",
   "version": "3.12.11"
  }
 },
 "nbformat": 4,
 "nbformat_minor": 4
}
